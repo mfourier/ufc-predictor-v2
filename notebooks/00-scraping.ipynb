{
 "cells": [
  {
   "cell_type": "markdown",
   "id": "25d90ce4-15ca-4902-a7ec-9072d494a161",
   "metadata": {},
   "source": [
    "# 🔹UFC Fight Predictor Scraping"
   ]
  },
  {
   "cell_type": "code",
   "execution_count": null,
   "id": "3d449832-3e08-4907-93fb-119ddeccc9d3",
   "metadata": {},
   "outputs": [],
   "source": []
  }
 ],
 "metadata": {
  "kernelspec": {
   "display_name": "Python (ufc_env)",
   "language": "python",
   "name": "ufc_env"
  },
  "language_info": {
   "codemirror_mode": {
    "name": "ipython",
    "version": 3
   },
   "file_extension": ".py",
   "mimetype": "text/x-python",
   "name": "python",
   "nbconvert_exporter": "python",
   "pygments_lexer": "ipython3",
   "version": "3.13.5"
  }
 },
 "nbformat": 4,
 "nbformat_minor": 5
}
