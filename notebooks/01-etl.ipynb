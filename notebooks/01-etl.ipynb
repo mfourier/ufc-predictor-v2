{
 "cells": [
  {
   "cell_type": "markdown",
   "id": "45b26eee-5f0f-4d8c-a95a-90d838027fb4",
   "metadata": {},
   "source": [
    "# 🔹UFC Fight Predictor ETL"
   ]
  },
  {
   "cell_type": "markdown",
   "id": "0aec2f30-d50d-4434-9e06-4cc41df1852e",
   "metadata": {},
   "source": [
    "<div style=\"text-align: center;\">\n",
    "  🔹 <img src=\"../img/ufc_logo.png\" width=\"50\" /> 🔹\n",
    "</div>"
   ]
  },
  {
   "cell_type": "markdown",
   "id": "68005cb1-c60c-41d8-9f42-9f46a0fece92",
   "metadata": {},
   "source": [
    "# Import Libraries and Setup Environment"
   ]
  },
  {
   "cell_type": "code",
   "execution_count": 1,
   "id": "723578d5-67d1-45b9-abcf-4720534ad8aa",
   "metadata": {},
   "outputs": [],
   "source": [
    "import os\n",
    "import sys\n",
    "import pandas as pd\n",
    "import numpy as np\n",
    "import matplotlib.pyplot as plt\n",
    "import seaborn as sns\n",
    "import logging\n",
    "logging.basicConfig(level=logging.INFO, format='[%(levelname)s] %(message)s')\n",
    "logger = logging.getLogger(__name__)\n",
    "\n",
    "# Get the current working directory\n",
    "current_dir = os.getcwd()\n",
    "\n",
    "# Navigate to the project root\n",
    "project_root = os.path.abspath(os.path.join(current_dir, '..'))\n",
    "\n",
    "# Import from /src\n",
    "sys.path.append(os.path.join(project_root))\n",
    "from src.helpers import *"
   ]
  },
  {
   "cell_type": "markdown",
   "id": "3aa7a911-69e5-45a3-b3de-6036c2883821",
   "metadata": {},
   "source": [
    "<div style=\"text-align: center;\">\n",
    "  🔹 <img src=\"../img/ufc_logo.png\" width=\"50\" /> 🔹\n",
    "</div>"
   ]
  },
  {
   "cell_type": "markdown",
   "id": "87fd5690-06da-4641-a9f1-e0ee12cfd4aa",
   "metadata": {},
   "source": [
    "# Load Data"
   ]
  },
  {
   "cell_type": "code",
   "execution_count": 2,
   "id": "f4149694-6a7f-4d41-bdae-c40686fae91f",
   "metadata": {},
   "outputs": [
    {
     "name": "stderr",
     "output_type": "stream",
     "text": [
      "[INFO] ✅ Data successfully loaded: 6541 rows, 118 columns.\n"
     ]
    }
   ],
   "source": [
    "# Define the path to the CSV file\n",
    "file_path = os.path.join(project_root, 'data', 'raw', 'ufc_raw.csv')\n",
    "\n",
    "# Load the CSV into a DataFrame\n",
    "try:\n",
    "    ufc_raw = pd.read_csv(file_path)\n",
    "    logger.info(f\"✅ Data successfully loaded: {ufc_raw.shape[0]} rows, {ufc_raw.shape[1]} columns.\")\n",
    "except Exception as e:\n",
    "    logger.error(f\"❌ Error loading training data: {e}\")"
   ]
  },
  {
   "cell_type": "markdown",
   "id": "43556f8a-5a10-474e-bd2d-ec004df11665",
   "metadata": {},
   "source": [
    "<div style=\"text-align: center;\">\n",
    "  🔹 <img src=\"../img/ufc_logo.png\" width=\"50\" /> 🔹\n",
    "</div>"
   ]
  },
  {
   "cell_type": "markdown",
   "id": "0ec6b52d-bfcd-4b18-b959-91d88ee7756b",
   "metadata": {},
   "source": [
    "# Preview"
   ]
  },
  {
   "cell_type": "code",
   "execution_count": 3,
   "id": "2080cd31-a22f-4f31-9a26-ae6acde6a6ca",
   "metadata": {},
   "outputs": [
    {
     "data": {
      "text/html": [
       "<div>\n",
       "<style scoped>\n",
       "    .dataframe tbody tr th:only-of-type {\n",
       "        vertical-align: middle;\n",
       "    }\n",
       "\n",
       "    .dataframe tbody tr th {\n",
       "        vertical-align: top;\n",
       "    }\n",
       "\n",
       "    .dataframe thead th {\n",
       "        text-align: right;\n",
       "    }\n",
       "</style>\n",
       "<table border=\"1\" class=\"dataframe\">\n",
       "  <thead>\n",
       "    <tr style=\"text-align: right;\">\n",
       "      <th></th>\n",
       "      <th>RedFighter</th>\n",
       "      <th>BlueFighter</th>\n",
       "      <th>RedOdds</th>\n",
       "      <th>BlueOdds</th>\n",
       "      <th>RedExpectedValue</th>\n",
       "      <th>BlueExpectedValue</th>\n",
       "      <th>Date</th>\n",
       "      <th>Location</th>\n",
       "      <th>Country</th>\n",
       "      <th>Winner</th>\n",
       "      <th>...</th>\n",
       "      <th>FinishDetails</th>\n",
       "      <th>FinishRound</th>\n",
       "      <th>FinishRoundTime</th>\n",
       "      <th>TotalFightTimeSecs</th>\n",
       "      <th>RedDecOdds</th>\n",
       "      <th>BlueDecOdds</th>\n",
       "      <th>RSubOdds</th>\n",
       "      <th>BSubOdds</th>\n",
       "      <th>RKOOdds</th>\n",
       "      <th>BKOOdds</th>\n",
       "    </tr>\n",
       "  </thead>\n",
       "  <tbody>\n",
       "    <tr>\n",
       "      <th>0</th>\n",
       "      <td>Colby Covington</td>\n",
       "      <td>Joaquin Buckley</td>\n",
       "      <td>205.0</td>\n",
       "      <td>-250.0</td>\n",
       "      <td>205.0000</td>\n",
       "      <td>40.0000</td>\n",
       "      <td>2024-12-14</td>\n",
       "      <td>Tampa, Florida, USA</td>\n",
       "      <td>USA</td>\n",
       "      <td>Blue</td>\n",
       "      <td>...</td>\n",
       "      <td>NaN</td>\n",
       "      <td>3.0</td>\n",
       "      <td>4:42</td>\n",
       "      <td>882.0</td>\n",
       "      <td>300.0</td>\n",
       "      <td>175.0</td>\n",
       "      <td>1800.0</td>\n",
       "      <td>2000.0</td>\n",
       "      <td>1100.0</td>\n",
       "      <td>150.0</td>\n",
       "    </tr>\n",
       "    <tr>\n",
       "      <th>1</th>\n",
       "      <td>Cub Swanson</td>\n",
       "      <td>Billy Quarantillo</td>\n",
       "      <td>124.0</td>\n",
       "      <td>-148.0</td>\n",
       "      <td>124.0000</td>\n",
       "      <td>67.5676</td>\n",
       "      <td>2024-12-14</td>\n",
       "      <td>Tampa, Florida, USA</td>\n",
       "      <td>USA</td>\n",
       "      <td>Red</td>\n",
       "      <td>...</td>\n",
       "      <td>Punch</td>\n",
       "      <td>3.0</td>\n",
       "      <td>1:36</td>\n",
       "      <td>696.0</td>\n",
       "      <td>250.0</td>\n",
       "      <td>NaN</td>\n",
       "      <td>1800.0</td>\n",
       "      <td>NaN</td>\n",
       "      <td>450.0</td>\n",
       "      <td>NaN</td>\n",
       "    </tr>\n",
       "    <tr>\n",
       "      <th>2</th>\n",
       "      <td>Manel Kape</td>\n",
       "      <td>Bruno Silva</td>\n",
       "      <td>-395.0</td>\n",
       "      <td>310.0</td>\n",
       "      <td>25.3165</td>\n",
       "      <td>310.0000</td>\n",
       "      <td>2024-12-14</td>\n",
       "      <td>Tampa, Florida, USA</td>\n",
       "      <td>USA</td>\n",
       "      <td>Red</td>\n",
       "      <td>...</td>\n",
       "      <td>Punches</td>\n",
       "      <td>3.0</td>\n",
       "      <td>1:57</td>\n",
       "      <td>717.0</td>\n",
       "      <td>-105.0</td>\n",
       "      <td>550.0</td>\n",
       "      <td>900.0</td>\n",
       "      <td>1800.0</td>\n",
       "      <td>225.0</td>\n",
       "      <td>1100.0</td>\n",
       "    </tr>\n",
       "    <tr>\n",
       "      <th>3</th>\n",
       "      <td>Vitor Petrino</td>\n",
       "      <td>Dustin Jacoby</td>\n",
       "      <td>-340.0</td>\n",
       "      <td>270.0</td>\n",
       "      <td>29.4118</td>\n",
       "      <td>270.0000</td>\n",
       "      <td>2024-12-14</td>\n",
       "      <td>Tampa, Florida, USA</td>\n",
       "      <td>USA</td>\n",
       "      <td>Blue</td>\n",
       "      <td>...</td>\n",
       "      <td>Punch</td>\n",
       "      <td>3.0</td>\n",
       "      <td>3:44</td>\n",
       "      <td>824.0</td>\n",
       "      <td>240.0</td>\n",
       "      <td>500.0</td>\n",
       "      <td>550.0</td>\n",
       "      <td>3000.0</td>\n",
       "      <td>110.0</td>\n",
       "      <td>800.0</td>\n",
       "    </tr>\n",
       "    <tr>\n",
       "      <th>4</th>\n",
       "      <td>Adrian Yanez</td>\n",
       "      <td>Daniel Marcos</td>\n",
       "      <td>185.0</td>\n",
       "      <td>-225.0</td>\n",
       "      <td>185.0000</td>\n",
       "      <td>44.4444</td>\n",
       "      <td>2024-12-14</td>\n",
       "      <td>Tampa, Florida, USA</td>\n",
       "      <td>USA</td>\n",
       "      <td>Blue</td>\n",
       "      <td>...</td>\n",
       "      <td>NaN</td>\n",
       "      <td>3.0</td>\n",
       "      <td>5:00</td>\n",
       "      <td>900.0</td>\n",
       "      <td>450.0</td>\n",
       "      <td>150.0</td>\n",
       "      <td>2200.0</td>\n",
       "      <td>2200.0</td>\n",
       "      <td>450.0</td>\n",
       "      <td>200.0</td>\n",
       "    </tr>\n",
       "  </tbody>\n",
       "</table>\n",
       "<p>5 rows × 118 columns</p>\n",
       "</div>"
      ],
      "text/plain": [
       "        RedFighter        BlueFighter  RedOdds  BlueOdds  RedExpectedValue  \\\n",
       "0  Colby Covington    Joaquin Buckley    205.0    -250.0          205.0000   \n",
       "1      Cub Swanson  Billy Quarantillo    124.0    -148.0          124.0000   \n",
       "2       Manel Kape        Bruno Silva   -395.0     310.0           25.3165   \n",
       "3    Vitor Petrino      Dustin Jacoby   -340.0     270.0           29.4118   \n",
       "4     Adrian Yanez      Daniel Marcos    185.0    -225.0          185.0000   \n",
       "\n",
       "   BlueExpectedValue        Date             Location Country Winner  ...  \\\n",
       "0            40.0000  2024-12-14  Tampa, Florida, USA     USA   Blue  ...   \n",
       "1            67.5676  2024-12-14  Tampa, Florida, USA     USA    Red  ...   \n",
       "2           310.0000  2024-12-14  Tampa, Florida, USA     USA    Red  ...   \n",
       "3           270.0000  2024-12-14  Tampa, Florida, USA     USA   Blue  ...   \n",
       "4            44.4444  2024-12-14  Tampa, Florida, USA     USA   Blue  ...   \n",
       "\n",
       "   FinishDetails FinishRound FinishRoundTime  TotalFightTimeSecs  RedDecOdds  \\\n",
       "0            NaN         3.0            4:42               882.0       300.0   \n",
       "1          Punch         3.0            1:36               696.0       250.0   \n",
       "2        Punches         3.0            1:57               717.0      -105.0   \n",
       "3          Punch         3.0            3:44               824.0       240.0   \n",
       "4            NaN         3.0            5:00               900.0       450.0   \n",
       "\n",
       "   BlueDecOdds  RSubOdds  BSubOdds  RKOOdds  BKOOdds  \n",
       "0        175.0    1800.0    2000.0   1100.0    150.0  \n",
       "1          NaN    1800.0       NaN    450.0      NaN  \n",
       "2        550.0     900.0    1800.0    225.0   1100.0  \n",
       "3        500.0     550.0    3000.0    110.0    800.0  \n",
       "4        150.0    2200.0    2200.0    450.0    200.0  \n",
       "\n",
       "[5 rows x 118 columns]"
      ]
     },
     "metadata": {},
     "output_type": "display_data"
    },
    {
     "name": "stdout",
     "output_type": "stream",
     "text": [
      "<class 'pandas.core.frame.DataFrame'>\n",
      "RangeIndex: 6541 entries, 0 to 6540\n",
      "Columns: 118 entries, RedFighter to BKOOdds\n",
      "dtypes: bool(1), float64(60), int64(43), object(14)\n",
      "memory usage: 5.8+ MB\n"
     ]
    }
   ],
   "source": [
    "# Preview the first few records\n",
    "display(ufc_raw.head())\n",
    "\n",
    "# General dataset information\n",
    "ufc_raw.info()"
   ]
  },
  {
   "cell_type": "markdown",
   "id": "fb46c890-d360-44d0-8b2c-c11deb4973e9",
   "metadata": {},
   "source": [
    "<div style=\"text-align: center;\">\n",
    "  🔹 <img src=\"../img/ufc_logo.png\" width=\"50\" /> 🔹\n",
    "</div>"
   ]
  },
  {
   "cell_type": "markdown",
   "id": "a7507bca-d8ba-491d-a9e2-1a6b2a9585af",
   "metadata": {},
   "source": [
    "# Check "
   ]
  },
  {
   "cell_type": "code",
   "execution_count": 4,
   "id": "788a4ad5-25c0-4239-a326-c06be5c18e38",
   "metadata": {},
   "outputs": [
    {
     "data": {
      "text/html": [
       "<pre style=\"white-space:pre;overflow-x:auto;line-height:normal;font-family:Menlo,'DejaVu Sans Mono',consolas,'Courier New',monospace\">\n",
       "Null values per column:\n",
       " RedOdds                   <span style=\"color: #008080; text-decoration-color: #008080; font-weight: bold\">227</span>\n",
       "BlueOdds                  <span style=\"color: #008080; text-decoration-color: #008080; font-weight: bold\">226</span>\n",
       "RedExpectedValue          <span style=\"color: #008080; text-decoration-color: #008080; font-weight: bold\">227</span>\n",
       "BlueExpectedValue         <span style=\"color: #008080; text-decoration-color: #008080; font-weight: bold\">226</span>\n",
       "BlueAvgSigStrLanded       <span style=\"color: #008080; text-decoration-color: #008080; font-weight: bold\">930</span>\n",
       "BlueAvgSigStrPct          <span style=\"color: #008080; text-decoration-color: #008080; font-weight: bold\">765</span>\n",
       "BlueAvgSubAtt             <span style=\"color: #008080; text-decoration-color: #008080; font-weight: bold\">832</span>\n",
       "BlueAvgTDLanded           <span style=\"color: #008080; text-decoration-color: #008080; font-weight: bold\">833</span>\n",
       "BlueAvgTDPct              <span style=\"color: #008080; text-decoration-color: #008080; font-weight: bold\">842</span>\n",
       "BlueStance                  <span style=\"color: #008080; text-decoration-color: #008080; font-weight: bold\">3</span>\n",
       "RedAvgSigStrLanded        <span style=\"color: #008080; text-decoration-color: #008080; font-weight: bold\">455</span>\n",
       "RedAvgSigStrPct           <span style=\"color: #008080; text-decoration-color: #008080; font-weight: bold\">357</span>\n",
       "RedAvgSubAtt              <span style=\"color: #008080; text-decoration-color: #008080; font-weight: bold\">357</span>\n",
       "RedAvgTDLanded            <span style=\"color: #008080; text-decoration-color: #008080; font-weight: bold\">357</span>\n",
       "RedAvgTDPct               <span style=\"color: #008080; text-decoration-color: #008080; font-weight: bold\">367</span>\n",
       "EmptyArena               <span style=\"color: #008080; text-decoration-color: #008080; font-weight: bold\">1499</span>\n",
       "BMatchWCRank             <span style=\"color: #008080; text-decoration-color: #008080; font-weight: bold\">5339</span>\n",
       "RMatchWCRank             <span style=\"color: #008080; text-decoration-color: #008080; font-weight: bold\">4760</span>\n",
       "RWFlyweightRank          <span style=\"color: #008080; text-decoration-color: #008080; font-weight: bold\">6445</span>\n",
       "RWFeatherweightRank      <span style=\"color: #008080; text-decoration-color: #008080; font-weight: bold\">6532</span>\n",
       "RWStrawweightRank        <span style=\"color: #008080; text-decoration-color: #008080; font-weight: bold\">6395</span>\n",
       "RWBantamweightRank       <span style=\"color: #008080; text-decoration-color: #008080; font-weight: bold\">6387</span>\n",
       "RHeavyweightRank         <span style=\"color: #008080; text-decoration-color: #008080; font-weight: bold\">6355</span>\n",
       "RLightHeavyweightRank    <span style=\"color: #008080; text-decoration-color: #008080; font-weight: bold\">6357</span>\n",
       "RMiddleweightRank        <span style=\"color: #008080; text-decoration-color: #008080; font-weight: bold\">6359</span>\n",
       "RWelterweightRank        <span style=\"color: #008080; text-decoration-color: #008080; font-weight: bold\">6349</span>\n",
       "RLightweightRank         <span style=\"color: #008080; text-decoration-color: #008080; font-weight: bold\">6357</span>\n",
       "RFeatherweightRank       <span style=\"color: #008080; text-decoration-color: #008080; font-weight: bold\">6364</span>\n",
       "RBantamweightRank        <span style=\"color: #008080; text-decoration-color: #008080; font-weight: bold\">6360</span>\n",
       "RFlyweightRank           <span style=\"color: #008080; text-decoration-color: #008080; font-weight: bold\">6352</span>\n",
       "RPFPRank                 <span style=\"color: #008080; text-decoration-color: #008080; font-weight: bold\">6288</span>\n",
       "BWFlyweightRank          <span style=\"color: #008080; text-decoration-color: #008080; font-weight: bold\">6468</span>\n",
       "BWFeatherweightRank      <span style=\"color: #008080; text-decoration-color: #008080; font-weight: bold\">6540</span>\n",
       "BWStrawweightRank        <span style=\"color: #008080; text-decoration-color: #008080; font-weight: bold\">6441</span>\n",
       "BWBantamweightRank       <span style=\"color: #008080; text-decoration-color: #008080; font-weight: bold\">6434</span>\n",
       "BHeavyweightRank         <span style=\"color: #008080; text-decoration-color: #008080; font-weight: bold\">6393</span>\n",
       "BLightHeavyweightRank    <span style=\"color: #008080; text-decoration-color: #008080; font-weight: bold\">6421</span>\n",
       "BMiddleweightRank        <span style=\"color: #008080; text-decoration-color: #008080; font-weight: bold\">6404</span>\n",
       "BWelterweightRank        <span style=\"color: #008080; text-decoration-color: #008080; font-weight: bold\">6421</span>\n",
       "BLightweightRank         <span style=\"color: #008080; text-decoration-color: #008080; font-weight: bold\">6421</span>\n",
       "BFeatherweightRank       <span style=\"color: #008080; text-decoration-color: #008080; font-weight: bold\">6417</span>\n",
       "BBantamweightRank        <span style=\"color: #008080; text-decoration-color: #008080; font-weight: bold\">6422</span>\n",
       "BFlyweightRank           <span style=\"color: #008080; text-decoration-color: #008080; font-weight: bold\">6410</span>\n",
       "BPFPRank                 <span style=\"color: #008080; text-decoration-color: #008080; font-weight: bold\">6474</span>\n",
       "Finish                    <span style=\"color: #008080; text-decoration-color: #008080; font-weight: bold\">238</span>\n",
       "FinishDetails            <span style=\"color: #008080; text-decoration-color: #008080; font-weight: bold\">3643</span>\n",
       "FinishRound               <span style=\"color: #008080; text-decoration-color: #008080; font-weight: bold\">622</span>\n",
       "FinishRoundTime           <span style=\"color: #008080; text-decoration-color: #008080; font-weight: bold\">622</span>\n",
       "TotalFightTimeSecs        <span style=\"color: #008080; text-decoration-color: #008080; font-weight: bold\">622</span>\n",
       "RedDecOdds               <span style=\"color: #008080; text-decoration-color: #008080; font-weight: bold\">1087</span>\n",
       "BlueDecOdds              <span style=\"color: #008080; text-decoration-color: #008080; font-weight: bold\">1117</span>\n",
       "RSubOdds                 <span style=\"color: #008080; text-decoration-color: #008080; font-weight: bold\">1336</span>\n",
       "BSubOdds                 <span style=\"color: #008080; text-decoration-color: #008080; font-weight: bold\">1360</span>\n",
       "RKOOdds                  <span style=\"color: #008080; text-decoration-color: #008080; font-weight: bold\">1334</span>\n",
       "BKOOdds                  <span style=\"color: #008080; text-decoration-color: #008080; font-weight: bold\">1361</span>\n",
       "dtype: int64\n",
       "</pre>\n"
      ],
      "text/plain": [
       "\n",
       "Null values per column:\n",
       " RedOdds                   \u001b[1;36m227\u001b[0m\n",
       "BlueOdds                  \u001b[1;36m226\u001b[0m\n",
       "RedExpectedValue          \u001b[1;36m227\u001b[0m\n",
       "BlueExpectedValue         \u001b[1;36m226\u001b[0m\n",
       "BlueAvgSigStrLanded       \u001b[1;36m930\u001b[0m\n",
       "BlueAvgSigStrPct          \u001b[1;36m765\u001b[0m\n",
       "BlueAvgSubAtt             \u001b[1;36m832\u001b[0m\n",
       "BlueAvgTDLanded           \u001b[1;36m833\u001b[0m\n",
       "BlueAvgTDPct              \u001b[1;36m842\u001b[0m\n",
       "BlueStance                  \u001b[1;36m3\u001b[0m\n",
       "RedAvgSigStrLanded        \u001b[1;36m455\u001b[0m\n",
       "RedAvgSigStrPct           \u001b[1;36m357\u001b[0m\n",
       "RedAvgSubAtt              \u001b[1;36m357\u001b[0m\n",
       "RedAvgTDLanded            \u001b[1;36m357\u001b[0m\n",
       "RedAvgTDPct               \u001b[1;36m367\u001b[0m\n",
       "EmptyArena               \u001b[1;36m1499\u001b[0m\n",
       "BMatchWCRank             \u001b[1;36m5339\u001b[0m\n",
       "RMatchWCRank             \u001b[1;36m4760\u001b[0m\n",
       "RWFlyweightRank          \u001b[1;36m6445\u001b[0m\n",
       "RWFeatherweightRank      \u001b[1;36m6532\u001b[0m\n",
       "RWStrawweightRank        \u001b[1;36m6395\u001b[0m\n",
       "RWBantamweightRank       \u001b[1;36m6387\u001b[0m\n",
       "RHeavyweightRank         \u001b[1;36m6355\u001b[0m\n",
       "RLightHeavyweightRank    \u001b[1;36m6357\u001b[0m\n",
       "RMiddleweightRank        \u001b[1;36m6359\u001b[0m\n",
       "RWelterweightRank        \u001b[1;36m6349\u001b[0m\n",
       "RLightweightRank         \u001b[1;36m6357\u001b[0m\n",
       "RFeatherweightRank       \u001b[1;36m6364\u001b[0m\n",
       "RBantamweightRank        \u001b[1;36m6360\u001b[0m\n",
       "RFlyweightRank           \u001b[1;36m6352\u001b[0m\n",
       "RPFPRank                 \u001b[1;36m6288\u001b[0m\n",
       "BWFlyweightRank          \u001b[1;36m6468\u001b[0m\n",
       "BWFeatherweightRank      \u001b[1;36m6540\u001b[0m\n",
       "BWStrawweightRank        \u001b[1;36m6441\u001b[0m\n",
       "BWBantamweightRank       \u001b[1;36m6434\u001b[0m\n",
       "BHeavyweightRank         \u001b[1;36m6393\u001b[0m\n",
       "BLightHeavyweightRank    \u001b[1;36m6421\u001b[0m\n",
       "BMiddleweightRank        \u001b[1;36m6404\u001b[0m\n",
       "BWelterweightRank        \u001b[1;36m6421\u001b[0m\n",
       "BLightweightRank         \u001b[1;36m6421\u001b[0m\n",
       "BFeatherweightRank       \u001b[1;36m6417\u001b[0m\n",
       "BBantamweightRank        \u001b[1;36m6422\u001b[0m\n",
       "BFlyweightRank           \u001b[1;36m6410\u001b[0m\n",
       "BPFPRank                 \u001b[1;36m6474\u001b[0m\n",
       "Finish                    \u001b[1;36m238\u001b[0m\n",
       "FinishDetails            \u001b[1;36m3643\u001b[0m\n",
       "FinishRound               \u001b[1;36m622\u001b[0m\n",
       "FinishRoundTime           \u001b[1;36m622\u001b[0m\n",
       "TotalFightTimeSecs        \u001b[1;36m622\u001b[0m\n",
       "RedDecOdds               \u001b[1;36m1087\u001b[0m\n",
       "BlueDecOdds              \u001b[1;36m1117\u001b[0m\n",
       "RSubOdds                 \u001b[1;36m1336\u001b[0m\n",
       "BSubOdds                 \u001b[1;36m1360\u001b[0m\n",
       "RKOOdds                  \u001b[1;36m1334\u001b[0m\n",
       "BKOOdds                  \u001b[1;36m1361\u001b[0m\n",
       "dtype: int64\n"
      ]
     },
     "metadata": {},
     "output_type": "display_data"
    },
    {
     "data": {
      "text/html": [
       "<pre style=\"white-space:pre;overflow-x:auto;line-height:normal;font-family:Menlo,'DejaVu Sans Mono',consolas,'Courier New',monospace\">\n",
       "Duplicate rows: <span style=\"color: #008080; text-decoration-color: #008080; font-weight: bold\">0</span>\n",
       "</pre>\n"
      ],
      "text/plain": [
       "\n",
       "Duplicate rows: \u001b[1;36m0\u001b[0m\n"
      ]
     },
     "metadata": {},
     "output_type": "display_data"
    }
   ],
   "source": [
    "# Null values check\n",
    "nulls = ufc_raw.isnull().sum()\n",
    "print(\"\\nNull values per column:\\n\", nulls[nulls > 0])\n",
    "\n",
    "# Duplicate analysis\n",
    "duplicates = ufc_raw.duplicated().sum()\n",
    "print(f\"\\nDuplicate rows: {duplicates}\")"
   ]
  },
  {
   "cell_type": "markdown",
   "id": "e43c6a1c-6082-4712-87d4-83fad742b440",
   "metadata": {},
   "source": [
    "<div style=\"text-align: center;\">\n",
    "  🔹 <img src=\"../img/ufc_logo.png\" width=\"50\" /> 🔹\n",
    "</div>"
   ]
  },
  {
   "cell_type": "markdown",
   "id": "519fd7ba-dba6-427c-8cee-5d6697db7df1",
   "metadata": {},
   "source": [
    "# Data Cleaning"
   ]
  },
  {
   "cell_type": "markdown",
   "id": "7f6f93ef-fbac-4c24-ab88-50f4c2fc79b3",
   "metadata": {},
   "source": [
    "## Null Values"
   ]
  },
  {
   "cell_type": "code",
   "execution_count": 5,
   "id": "7184b9e1-262d-4d86-b74a-8a0939925cdf",
   "metadata": {},
   "outputs": [
    {
     "data": {
      "text/html": [
       "<pre style=\"white-space:pre;overflow-x:auto;line-height:normal;font-family:Menlo,'DejaVu Sans Mono',consolas,'Courier New',monospace\">Dropping: EmptyArena\n",
       "</pre>\n"
      ],
      "text/plain": [
       "Dropping: EmptyArena\n"
      ]
     },
     "metadata": {},
     "output_type": "display_data"
    },
    {
     "data": {
      "text/html": [
       "<pre style=\"white-space:pre;overflow-x:auto;line-height:normal;font-family:Menlo,'DejaVu Sans Mono',consolas,'Courier New',monospace\">Dropping: BMatchWCRank\n",
       "</pre>\n"
      ],
      "text/plain": [
       "Dropping: BMatchWCRank\n"
      ]
     },
     "metadata": {},
     "output_type": "display_data"
    },
    {
     "data": {
      "text/html": [
       "<pre style=\"white-space:pre;overflow-x:auto;line-height:normal;font-family:Menlo,'DejaVu Sans Mono',consolas,'Courier New',monospace\">Dropping: RMatchWCRank\n",
       "</pre>\n"
      ],
      "text/plain": [
       "Dropping: RMatchWCRank\n"
      ]
     },
     "metadata": {},
     "output_type": "display_data"
    },
    {
     "data": {
      "text/html": [
       "<pre style=\"white-space:pre;overflow-x:auto;line-height:normal;font-family:Menlo,'DejaVu Sans Mono',consolas,'Courier New',monospace\">Dropping: RWFlyweightRank\n",
       "</pre>\n"
      ],
      "text/plain": [
       "Dropping: RWFlyweightRank\n"
      ]
     },
     "metadata": {},
     "output_type": "display_data"
    },
    {
     "data": {
      "text/html": [
       "<pre style=\"white-space:pre;overflow-x:auto;line-height:normal;font-family:Menlo,'DejaVu Sans Mono',consolas,'Courier New',monospace\">Dropping: RWFeatherweightRank\n",
       "</pre>\n"
      ],
      "text/plain": [
       "Dropping: RWFeatherweightRank\n"
      ]
     },
     "metadata": {},
     "output_type": "display_data"
    },
    {
     "data": {
      "text/html": [
       "<pre style=\"white-space:pre;overflow-x:auto;line-height:normal;font-family:Menlo,'DejaVu Sans Mono',consolas,'Courier New',monospace\">Dropping: RWStrawweightRank\n",
       "</pre>\n"
      ],
      "text/plain": [
       "Dropping: RWStrawweightRank\n"
      ]
     },
     "metadata": {},
     "output_type": "display_data"
    },
    {
     "data": {
      "text/html": [
       "<pre style=\"white-space:pre;overflow-x:auto;line-height:normal;font-family:Menlo,'DejaVu Sans Mono',consolas,'Courier New',monospace\">Dropping: RWBantamweightRank\n",
       "</pre>\n"
      ],
      "text/plain": [
       "Dropping: RWBantamweightRank\n"
      ]
     },
     "metadata": {},
     "output_type": "display_data"
    },
    {
     "data": {
      "text/html": [
       "<pre style=\"white-space:pre;overflow-x:auto;line-height:normal;font-family:Menlo,'DejaVu Sans Mono',consolas,'Courier New',monospace\">Dropping: RHeavyweightRank\n",
       "</pre>\n"
      ],
      "text/plain": [
       "Dropping: RHeavyweightRank\n"
      ]
     },
     "metadata": {},
     "output_type": "display_data"
    },
    {
     "data": {
      "text/html": [
       "<pre style=\"white-space:pre;overflow-x:auto;line-height:normal;font-family:Menlo,'DejaVu Sans Mono',consolas,'Courier New',monospace\">Dropping: RLightHeavyweightRank\n",
       "</pre>\n"
      ],
      "text/plain": [
       "Dropping: RLightHeavyweightRank\n"
      ]
     },
     "metadata": {},
     "output_type": "display_data"
    },
    {
     "data": {
      "text/html": [
       "<pre style=\"white-space:pre;overflow-x:auto;line-height:normal;font-family:Menlo,'DejaVu Sans Mono',consolas,'Courier New',monospace\">Dropping: RMiddleweightRank\n",
       "</pre>\n"
      ],
      "text/plain": [
       "Dropping: RMiddleweightRank\n"
      ]
     },
     "metadata": {},
     "output_type": "display_data"
    },
    {
     "data": {
      "text/html": [
       "<pre style=\"white-space:pre;overflow-x:auto;line-height:normal;font-family:Menlo,'DejaVu Sans Mono',consolas,'Courier New',monospace\">Dropping: RWelterweightRank\n",
       "</pre>\n"
      ],
      "text/plain": [
       "Dropping: RWelterweightRank\n"
      ]
     },
     "metadata": {},
     "output_type": "display_data"
    },
    {
     "data": {
      "text/html": [
       "<pre style=\"white-space:pre;overflow-x:auto;line-height:normal;font-family:Menlo,'DejaVu Sans Mono',consolas,'Courier New',monospace\">Dropping: RLightweightRank\n",
       "</pre>\n"
      ],
      "text/plain": [
       "Dropping: RLightweightRank\n"
      ]
     },
     "metadata": {},
     "output_type": "display_data"
    },
    {
     "data": {
      "text/html": [
       "<pre style=\"white-space:pre;overflow-x:auto;line-height:normal;font-family:Menlo,'DejaVu Sans Mono',consolas,'Courier New',monospace\">Dropping: RFeatherweightRank\n",
       "</pre>\n"
      ],
      "text/plain": [
       "Dropping: RFeatherweightRank\n"
      ]
     },
     "metadata": {},
     "output_type": "display_data"
    },
    {
     "data": {
      "text/html": [
       "<pre style=\"white-space:pre;overflow-x:auto;line-height:normal;font-family:Menlo,'DejaVu Sans Mono',consolas,'Courier New',monospace\">Dropping: RBantamweightRank\n",
       "</pre>\n"
      ],
      "text/plain": [
       "Dropping: RBantamweightRank\n"
      ]
     },
     "metadata": {},
     "output_type": "display_data"
    },
    {
     "data": {
      "text/html": [
       "<pre style=\"white-space:pre;overflow-x:auto;line-height:normal;font-family:Menlo,'DejaVu Sans Mono',consolas,'Courier New',monospace\">Dropping: RFlyweightRank\n",
       "</pre>\n"
      ],
      "text/plain": [
       "Dropping: RFlyweightRank\n"
      ]
     },
     "metadata": {},
     "output_type": "display_data"
    },
    {
     "data": {
      "text/html": [
       "<pre style=\"white-space:pre;overflow-x:auto;line-height:normal;font-family:Menlo,'DejaVu Sans Mono',consolas,'Courier New',monospace\">Dropping: RPFPRank\n",
       "</pre>\n"
      ],
      "text/plain": [
       "Dropping: RPFPRank\n"
      ]
     },
     "metadata": {},
     "output_type": "display_data"
    },
    {
     "data": {
      "text/html": [
       "<pre style=\"white-space:pre;overflow-x:auto;line-height:normal;font-family:Menlo,'DejaVu Sans Mono',consolas,'Courier New',monospace\">Dropping: BWFlyweightRank\n",
       "</pre>\n"
      ],
      "text/plain": [
       "Dropping: BWFlyweightRank\n"
      ]
     },
     "metadata": {},
     "output_type": "display_data"
    },
    {
     "data": {
      "text/html": [
       "<pre style=\"white-space:pre;overflow-x:auto;line-height:normal;font-family:Menlo,'DejaVu Sans Mono',consolas,'Courier New',monospace\">Dropping: BWFeatherweightRank\n",
       "</pre>\n"
      ],
      "text/plain": [
       "Dropping: BWFeatherweightRank\n"
      ]
     },
     "metadata": {},
     "output_type": "display_data"
    },
    {
     "data": {
      "text/html": [
       "<pre style=\"white-space:pre;overflow-x:auto;line-height:normal;font-family:Menlo,'DejaVu Sans Mono',consolas,'Courier New',monospace\">Dropping: BWStrawweightRank\n",
       "</pre>\n"
      ],
      "text/plain": [
       "Dropping: BWStrawweightRank\n"
      ]
     },
     "metadata": {},
     "output_type": "display_data"
    },
    {
     "data": {
      "text/html": [
       "<pre style=\"white-space:pre;overflow-x:auto;line-height:normal;font-family:Menlo,'DejaVu Sans Mono',consolas,'Courier New',monospace\">Dropping: BWBantamweightRank\n",
       "</pre>\n"
      ],
      "text/plain": [
       "Dropping: BWBantamweightRank\n"
      ]
     },
     "metadata": {},
     "output_type": "display_data"
    },
    {
     "data": {
      "text/html": [
       "<pre style=\"white-space:pre;overflow-x:auto;line-height:normal;font-family:Menlo,'DejaVu Sans Mono',consolas,'Courier New',monospace\">Dropping: BHeavyweightRank\n",
       "</pre>\n"
      ],
      "text/plain": [
       "Dropping: BHeavyweightRank\n"
      ]
     },
     "metadata": {},
     "output_type": "display_data"
    },
    {
     "data": {
      "text/html": [
       "<pre style=\"white-space:pre;overflow-x:auto;line-height:normal;font-family:Menlo,'DejaVu Sans Mono',consolas,'Courier New',monospace\">Dropping: BLightHeavyweightRank\n",
       "</pre>\n"
      ],
      "text/plain": [
       "Dropping: BLightHeavyweightRank\n"
      ]
     },
     "metadata": {},
     "output_type": "display_data"
    },
    {
     "data": {
      "text/html": [
       "<pre style=\"white-space:pre;overflow-x:auto;line-height:normal;font-family:Menlo,'DejaVu Sans Mono',consolas,'Courier New',monospace\">Dropping: BMiddleweightRank\n",
       "</pre>\n"
      ],
      "text/plain": [
       "Dropping: BMiddleweightRank\n"
      ]
     },
     "metadata": {},
     "output_type": "display_data"
    },
    {
     "data": {
      "text/html": [
       "<pre style=\"white-space:pre;overflow-x:auto;line-height:normal;font-family:Menlo,'DejaVu Sans Mono',consolas,'Courier New',monospace\">Dropping: BWelterweightRank\n",
       "</pre>\n"
      ],
      "text/plain": [
       "Dropping: BWelterweightRank\n"
      ]
     },
     "metadata": {},
     "output_type": "display_data"
    },
    {
     "data": {
      "text/html": [
       "<pre style=\"white-space:pre;overflow-x:auto;line-height:normal;font-family:Menlo,'DejaVu Sans Mono',consolas,'Courier New',monospace\">Dropping: BLightweightRank\n",
       "</pre>\n"
      ],
      "text/plain": [
       "Dropping: BLightweightRank\n"
      ]
     },
     "metadata": {},
     "output_type": "display_data"
    },
    {
     "data": {
      "text/html": [
       "<pre style=\"white-space:pre;overflow-x:auto;line-height:normal;font-family:Menlo,'DejaVu Sans Mono',consolas,'Courier New',monospace\">Dropping: BFeatherweightRank\n",
       "</pre>\n"
      ],
      "text/plain": [
       "Dropping: BFeatherweightRank\n"
      ]
     },
     "metadata": {},
     "output_type": "display_data"
    },
    {
     "data": {
      "text/html": [
       "<pre style=\"white-space:pre;overflow-x:auto;line-height:normal;font-family:Menlo,'DejaVu Sans Mono',consolas,'Courier New',monospace\">Dropping: BBantamweightRank\n",
       "</pre>\n"
      ],
      "text/plain": [
       "Dropping: BBantamweightRank\n"
      ]
     },
     "metadata": {},
     "output_type": "display_data"
    },
    {
     "data": {
      "text/html": [
       "<pre style=\"white-space:pre;overflow-x:auto;line-height:normal;font-family:Menlo,'DejaVu Sans Mono',consolas,'Courier New',monospace\">Dropping: BFlyweightRank\n",
       "</pre>\n"
      ],
      "text/plain": [
       "Dropping: BFlyweightRank\n"
      ]
     },
     "metadata": {},
     "output_type": "display_data"
    },
    {
     "data": {
      "text/html": [
       "<pre style=\"white-space:pre;overflow-x:auto;line-height:normal;font-family:Menlo,'DejaVu Sans Mono',consolas,'Courier New',monospace\">Dropping: BPFPRank\n",
       "</pre>\n"
      ],
      "text/plain": [
       "Dropping: BPFPRank\n"
      ]
     },
     "metadata": {},
     "output_type": "display_data"
    },
    {
     "data": {
      "text/html": [
       "<pre style=\"white-space:pre;overflow-x:auto;line-height:normal;font-family:Menlo,'DejaVu Sans Mono',consolas,'Courier New',monospace\">Dropping: FinishDetails\n",
       "</pre>\n"
      ],
      "text/plain": [
       "Dropping: FinishDetails\n"
      ]
     },
     "metadata": {},
     "output_type": "display_data"
    },
    {
     "data": {
      "text/html": [
       "<pre style=\"white-space:pre;overflow-x:auto;line-height:normal;font-family:Menlo,'DejaVu Sans Mono',consolas,'Courier New',monospace\">Dropping: RedDecOdds\n",
       "</pre>\n"
      ],
      "text/plain": [
       "Dropping: RedDecOdds\n"
      ]
     },
     "metadata": {},
     "output_type": "display_data"
    },
    {
     "data": {
      "text/html": [
       "<pre style=\"white-space:pre;overflow-x:auto;line-height:normal;font-family:Menlo,'DejaVu Sans Mono',consolas,'Courier New',monospace\">Dropping: BlueDecOdds\n",
       "</pre>\n"
      ],
      "text/plain": [
       "Dropping: BlueDecOdds\n"
      ]
     },
     "metadata": {},
     "output_type": "display_data"
    },
    {
     "data": {
      "text/html": [
       "<pre style=\"white-space:pre;overflow-x:auto;line-height:normal;font-family:Menlo,'DejaVu Sans Mono',consolas,'Courier New',monospace\">Dropping: RSubOdds\n",
       "</pre>\n"
      ],
      "text/plain": [
       "Dropping: RSubOdds\n"
      ]
     },
     "metadata": {},
     "output_type": "display_data"
    },
    {
     "data": {
      "text/html": [
       "<pre style=\"white-space:pre;overflow-x:auto;line-height:normal;font-family:Menlo,'DejaVu Sans Mono',consolas,'Courier New',monospace\">Dropping: BSubOdds\n",
       "</pre>\n"
      ],
      "text/plain": [
       "Dropping: BSubOdds\n"
      ]
     },
     "metadata": {},
     "output_type": "display_data"
    },
    {
     "data": {
      "text/html": [
       "<pre style=\"white-space:pre;overflow-x:auto;line-height:normal;font-family:Menlo,'DejaVu Sans Mono',consolas,'Courier New',monospace\">Dropping: RKOOdds\n",
       "</pre>\n"
      ],
      "text/plain": [
       "Dropping: RKOOdds\n"
      ]
     },
     "metadata": {},
     "output_type": "display_data"
    },
    {
     "data": {
      "text/html": [
       "<pre style=\"white-space:pre;overflow-x:auto;line-height:normal;font-family:Menlo,'DejaVu Sans Mono',consolas,'Courier New',monospace\">Dropping: BKOOdds\n",
       "</pre>\n"
      ],
      "text/plain": [
       "Dropping: BKOOdds\n"
      ]
     },
     "metadata": {},
     "output_type": "display_data"
    },
    {
     "data": {
      "text/html": [
       "<pre style=\"white-space:pre;overflow-x:auto;line-height:normal;font-family:Menlo,'DejaVu Sans Mono',consolas,'Courier New',monospace\">➡️ Before dropna: <span style=\"font-weight: bold\">(</span><span style=\"color: #008080; text-decoration-color: #008080; font-weight: bold\">6541</span>, <span style=\"color: #008080; text-decoration-color: #008080; font-weight: bold\">82</span><span style=\"font-weight: bold\">)</span>\n",
       "</pre>\n"
      ],
      "text/plain": [
       "➡️ Before dropna: \u001b[1m(\u001b[0m\u001b[1;36m6541\u001b[0m, \u001b[1;36m82\u001b[0m\u001b[1m)\u001b[0m\n"
      ]
     },
     "metadata": {},
     "output_type": "display_data"
    },
    {
     "data": {
      "text/html": [
       "<pre style=\"white-space:pre;overflow-x:auto;line-height:normal;font-family:Menlo,'DejaVu Sans Mono',consolas,'Courier New',monospace\">✅ After dropna: <span style=\"font-weight: bold\">(</span><span style=\"color: #008080; text-decoration-color: #008080; font-weight: bold\">4719</span>, <span style=\"color: #008080; text-decoration-color: #008080; font-weight: bold\">82</span><span style=\"font-weight: bold\">)</span>\n",
       "</pre>\n"
      ],
      "text/plain": [
       "✅ After dropna: \u001b[1m(\u001b[0m\u001b[1;36m4719\u001b[0m, \u001b[1;36m82\u001b[0m\u001b[1m)\u001b[0m\n"
      ]
     },
     "metadata": {},
     "output_type": "display_data"
    }
   ],
   "source": [
    "# Drop columns with too many null values (threshold: 1000)\n",
    "ufc_deploy = ufc_raw.copy()\n",
    "threshold = 1000\n",
    "cols_to_drop = [col for col in ufc_deploy.columns if ufc_deploy[col].isnull().sum() > threshold]\n",
    "for col in cols_to_drop:\n",
    "    print('Dropping:', col)\n",
    "ufc_deploy.drop(columns=cols_to_drop, inplace=True)\n",
    "\n",
    "# Drop rows with any remaining missing values\n",
    "print(f\"➡️ Before dropna: {ufc_deploy.shape}\")\n",
    "ufc_deploy.dropna(inplace=True)\n",
    "print(f\"✅ After dropna: {ufc_deploy.shape}\")"
   ]
  },
  {
   "cell_type": "code",
   "execution_count": 6,
   "id": "cbba414b-9d4c-48b5-8171-b9da484556f2",
   "metadata": {},
   "outputs": [
    {
     "data": {
      "text/html": [
       "<pre style=\"white-space:pre;overflow-x:auto;line-height:normal;font-family:Menlo,'DejaVu Sans Mono',consolas,'Courier New',monospace\">Dropping: BlueAvgSigStrLanded\n",
       "</pre>\n"
      ],
      "text/plain": [
       "Dropping: BlueAvgSigStrLanded\n"
      ]
     },
     "metadata": {},
     "output_type": "display_data"
    },
    {
     "data": {
      "text/html": [
       "<pre style=\"white-space:pre;overflow-x:auto;line-height:normal;font-family:Menlo,'DejaVu Sans Mono',consolas,'Courier New',monospace\">Dropping: BlueAvgSigStrPct\n",
       "</pre>\n"
      ],
      "text/plain": [
       "Dropping: BlueAvgSigStrPct\n"
      ]
     },
     "metadata": {},
     "output_type": "display_data"
    },
    {
     "data": {
      "text/html": [
       "<pre style=\"white-space:pre;overflow-x:auto;line-height:normal;font-family:Menlo,'DejaVu Sans Mono',consolas,'Courier New',monospace\">Dropping: BlueAvgSubAtt\n",
       "</pre>\n"
      ],
      "text/plain": [
       "Dropping: BlueAvgSubAtt\n"
      ]
     },
     "metadata": {},
     "output_type": "display_data"
    },
    {
     "data": {
      "text/html": [
       "<pre style=\"white-space:pre;overflow-x:auto;line-height:normal;font-family:Menlo,'DejaVu Sans Mono',consolas,'Courier New',monospace\">Dropping: BlueAvgTDLanded\n",
       "</pre>\n"
      ],
      "text/plain": [
       "Dropping: BlueAvgTDLanded\n"
      ]
     },
     "metadata": {},
     "output_type": "display_data"
    },
    {
     "data": {
      "text/html": [
       "<pre style=\"white-space:pre;overflow-x:auto;line-height:normal;font-family:Menlo,'DejaVu Sans Mono',consolas,'Courier New',monospace\">Dropping: BlueAvgTDPct\n",
       "</pre>\n"
      ],
      "text/plain": [
       "Dropping: BlueAvgTDPct\n"
      ]
     },
     "metadata": {},
     "output_type": "display_data"
    },
    {
     "data": {
      "text/html": [
       "<pre style=\"white-space:pre;overflow-x:auto;line-height:normal;font-family:Menlo,'DejaVu Sans Mono',consolas,'Courier New',monospace\">Dropping: RedAvgSigStrLanded\n",
       "</pre>\n"
      ],
      "text/plain": [
       "Dropping: RedAvgSigStrLanded\n"
      ]
     },
     "metadata": {},
     "output_type": "display_data"
    },
    {
     "data": {
      "text/html": [
       "<pre style=\"white-space:pre;overflow-x:auto;line-height:normal;font-family:Menlo,'DejaVu Sans Mono',consolas,'Courier New',monospace\">Dropping: RedAvgSigStrPct\n",
       "</pre>\n"
      ],
      "text/plain": [
       "Dropping: RedAvgSigStrPct\n"
      ]
     },
     "metadata": {},
     "output_type": "display_data"
    },
    {
     "data": {
      "text/html": [
       "<pre style=\"white-space:pre;overflow-x:auto;line-height:normal;font-family:Menlo,'DejaVu Sans Mono',consolas,'Courier New',monospace\">Dropping: RedAvgSubAtt\n",
       "</pre>\n"
      ],
      "text/plain": [
       "Dropping: RedAvgSubAtt\n"
      ]
     },
     "metadata": {},
     "output_type": "display_data"
    },
    {
     "data": {
      "text/html": [
       "<pre style=\"white-space:pre;overflow-x:auto;line-height:normal;font-family:Menlo,'DejaVu Sans Mono',consolas,'Courier New',monospace\">Dropping: RedAvgTDLanded\n",
       "</pre>\n"
      ],
      "text/plain": [
       "Dropping: RedAvgTDLanded\n"
      ]
     },
     "metadata": {},
     "output_type": "display_data"
    },
    {
     "data": {
      "text/html": [
       "<pre style=\"white-space:pre;overflow-x:auto;line-height:normal;font-family:Menlo,'DejaVu Sans Mono',consolas,'Courier New',monospace\">Dropping: RedAvgTDPct\n",
       "</pre>\n"
      ],
      "text/plain": [
       "Dropping: RedAvgTDPct\n"
      ]
     },
     "metadata": {},
     "output_type": "display_data"
    },
    {
     "data": {
      "text/html": [
       "<pre style=\"white-space:pre;overflow-x:auto;line-height:normal;font-family:Menlo,'DejaVu Sans Mono',consolas,'Courier New',monospace\">Dropping: EmptyArena\n",
       "</pre>\n"
      ],
      "text/plain": [
       "Dropping: EmptyArena\n"
      ]
     },
     "metadata": {},
     "output_type": "display_data"
    },
    {
     "data": {
      "text/html": [
       "<pre style=\"white-space:pre;overflow-x:auto;line-height:normal;font-family:Menlo,'DejaVu Sans Mono',consolas,'Courier New',monospace\">Dropping: BMatchWCRank\n",
       "</pre>\n"
      ],
      "text/plain": [
       "Dropping: BMatchWCRank\n"
      ]
     },
     "metadata": {},
     "output_type": "display_data"
    },
    {
     "data": {
      "text/html": [
       "<pre style=\"white-space:pre;overflow-x:auto;line-height:normal;font-family:Menlo,'DejaVu Sans Mono',consolas,'Courier New',monospace\">Dropping: RMatchWCRank\n",
       "</pre>\n"
      ],
      "text/plain": [
       "Dropping: RMatchWCRank\n"
      ]
     },
     "metadata": {},
     "output_type": "display_data"
    },
    {
     "data": {
      "text/html": [
       "<pre style=\"white-space:pre;overflow-x:auto;line-height:normal;font-family:Menlo,'DejaVu Sans Mono',consolas,'Courier New',monospace\">Dropping: RWFlyweightRank\n",
       "</pre>\n"
      ],
      "text/plain": [
       "Dropping: RWFlyweightRank\n"
      ]
     },
     "metadata": {},
     "output_type": "display_data"
    },
    {
     "data": {
      "text/html": [
       "<pre style=\"white-space:pre;overflow-x:auto;line-height:normal;font-family:Menlo,'DejaVu Sans Mono',consolas,'Courier New',monospace\">Dropping: RWFeatherweightRank\n",
       "</pre>\n"
      ],
      "text/plain": [
       "Dropping: RWFeatherweightRank\n"
      ]
     },
     "metadata": {},
     "output_type": "display_data"
    },
    {
     "data": {
      "text/html": [
       "<pre style=\"white-space:pre;overflow-x:auto;line-height:normal;font-family:Menlo,'DejaVu Sans Mono',consolas,'Courier New',monospace\">Dropping: RWStrawweightRank\n",
       "</pre>\n"
      ],
      "text/plain": [
       "Dropping: RWStrawweightRank\n"
      ]
     },
     "metadata": {},
     "output_type": "display_data"
    },
    {
     "data": {
      "text/html": [
       "<pre style=\"white-space:pre;overflow-x:auto;line-height:normal;font-family:Menlo,'DejaVu Sans Mono',consolas,'Courier New',monospace\">Dropping: RWBantamweightRank\n",
       "</pre>\n"
      ],
      "text/plain": [
       "Dropping: RWBantamweightRank\n"
      ]
     },
     "metadata": {},
     "output_type": "display_data"
    },
    {
     "data": {
      "text/html": [
       "<pre style=\"white-space:pre;overflow-x:auto;line-height:normal;font-family:Menlo,'DejaVu Sans Mono',consolas,'Courier New',monospace\">Dropping: RHeavyweightRank\n",
       "</pre>\n"
      ],
      "text/plain": [
       "Dropping: RHeavyweightRank\n"
      ]
     },
     "metadata": {},
     "output_type": "display_data"
    },
    {
     "data": {
      "text/html": [
       "<pre style=\"white-space:pre;overflow-x:auto;line-height:normal;font-family:Menlo,'DejaVu Sans Mono',consolas,'Courier New',monospace\">Dropping: RLightHeavyweightRank\n",
       "</pre>\n"
      ],
      "text/plain": [
       "Dropping: RLightHeavyweightRank\n"
      ]
     },
     "metadata": {},
     "output_type": "display_data"
    },
    {
     "data": {
      "text/html": [
       "<pre style=\"white-space:pre;overflow-x:auto;line-height:normal;font-family:Menlo,'DejaVu Sans Mono',consolas,'Courier New',monospace\">Dropping: RMiddleweightRank\n",
       "</pre>\n"
      ],
      "text/plain": [
       "Dropping: RMiddleweightRank\n"
      ]
     },
     "metadata": {},
     "output_type": "display_data"
    },
    {
     "data": {
      "text/html": [
       "<pre style=\"white-space:pre;overflow-x:auto;line-height:normal;font-family:Menlo,'DejaVu Sans Mono',consolas,'Courier New',monospace\">Dropping: RWelterweightRank\n",
       "</pre>\n"
      ],
      "text/plain": [
       "Dropping: RWelterweightRank\n"
      ]
     },
     "metadata": {},
     "output_type": "display_data"
    },
    {
     "data": {
      "text/html": [
       "<pre style=\"white-space:pre;overflow-x:auto;line-height:normal;font-family:Menlo,'DejaVu Sans Mono',consolas,'Courier New',monospace\">Dropping: RLightweightRank\n",
       "</pre>\n"
      ],
      "text/plain": [
       "Dropping: RLightweightRank\n"
      ]
     },
     "metadata": {},
     "output_type": "display_data"
    },
    {
     "data": {
      "text/html": [
       "<pre style=\"white-space:pre;overflow-x:auto;line-height:normal;font-family:Menlo,'DejaVu Sans Mono',consolas,'Courier New',monospace\">Dropping: RFeatherweightRank\n",
       "</pre>\n"
      ],
      "text/plain": [
       "Dropping: RFeatherweightRank\n"
      ]
     },
     "metadata": {},
     "output_type": "display_data"
    },
    {
     "data": {
      "text/html": [
       "<pre style=\"white-space:pre;overflow-x:auto;line-height:normal;font-family:Menlo,'DejaVu Sans Mono',consolas,'Courier New',monospace\">Dropping: RBantamweightRank\n",
       "</pre>\n"
      ],
      "text/plain": [
       "Dropping: RBantamweightRank\n"
      ]
     },
     "metadata": {},
     "output_type": "display_data"
    },
    {
     "data": {
      "text/html": [
       "<pre style=\"white-space:pre;overflow-x:auto;line-height:normal;font-family:Menlo,'DejaVu Sans Mono',consolas,'Courier New',monospace\">Dropping: RFlyweightRank\n",
       "</pre>\n"
      ],
      "text/plain": [
       "Dropping: RFlyweightRank\n"
      ]
     },
     "metadata": {},
     "output_type": "display_data"
    },
    {
     "data": {
      "text/html": [
       "<pre style=\"white-space:pre;overflow-x:auto;line-height:normal;font-family:Menlo,'DejaVu Sans Mono',consolas,'Courier New',monospace\">Dropping: RPFPRank\n",
       "</pre>\n"
      ],
      "text/plain": [
       "Dropping: RPFPRank\n"
      ]
     },
     "metadata": {},
     "output_type": "display_data"
    },
    {
     "data": {
      "text/html": [
       "<pre style=\"white-space:pre;overflow-x:auto;line-height:normal;font-family:Menlo,'DejaVu Sans Mono',consolas,'Courier New',monospace\">Dropping: BWFlyweightRank\n",
       "</pre>\n"
      ],
      "text/plain": [
       "Dropping: BWFlyweightRank\n"
      ]
     },
     "metadata": {},
     "output_type": "display_data"
    },
    {
     "data": {
      "text/html": [
       "<pre style=\"white-space:pre;overflow-x:auto;line-height:normal;font-family:Menlo,'DejaVu Sans Mono',consolas,'Courier New',monospace\">Dropping: BWFeatherweightRank\n",
       "</pre>\n"
      ],
      "text/plain": [
       "Dropping: BWFeatherweightRank\n"
      ]
     },
     "metadata": {},
     "output_type": "display_data"
    },
    {
     "data": {
      "text/html": [
       "<pre style=\"white-space:pre;overflow-x:auto;line-height:normal;font-family:Menlo,'DejaVu Sans Mono',consolas,'Courier New',monospace\">Dropping: BWStrawweightRank\n",
       "</pre>\n"
      ],
      "text/plain": [
       "Dropping: BWStrawweightRank\n"
      ]
     },
     "metadata": {},
     "output_type": "display_data"
    },
    {
     "data": {
      "text/html": [
       "<pre style=\"white-space:pre;overflow-x:auto;line-height:normal;font-family:Menlo,'DejaVu Sans Mono',consolas,'Courier New',monospace\">Dropping: BWBantamweightRank\n",
       "</pre>\n"
      ],
      "text/plain": [
       "Dropping: BWBantamweightRank\n"
      ]
     },
     "metadata": {},
     "output_type": "display_data"
    },
    {
     "data": {
      "text/html": [
       "<pre style=\"white-space:pre;overflow-x:auto;line-height:normal;font-family:Menlo,'DejaVu Sans Mono',consolas,'Courier New',monospace\">Dropping: BHeavyweightRank\n",
       "</pre>\n"
      ],
      "text/plain": [
       "Dropping: BHeavyweightRank\n"
      ]
     },
     "metadata": {},
     "output_type": "display_data"
    },
    {
     "data": {
      "text/html": [
       "<pre style=\"white-space:pre;overflow-x:auto;line-height:normal;font-family:Menlo,'DejaVu Sans Mono',consolas,'Courier New',monospace\">Dropping: BLightHeavyweightRank\n",
       "</pre>\n"
      ],
      "text/plain": [
       "Dropping: BLightHeavyweightRank\n"
      ]
     },
     "metadata": {},
     "output_type": "display_data"
    },
    {
     "data": {
      "text/html": [
       "<pre style=\"white-space:pre;overflow-x:auto;line-height:normal;font-family:Menlo,'DejaVu Sans Mono',consolas,'Courier New',monospace\">Dropping: BMiddleweightRank\n",
       "</pre>\n"
      ],
      "text/plain": [
       "Dropping: BMiddleweightRank\n"
      ]
     },
     "metadata": {},
     "output_type": "display_data"
    },
    {
     "data": {
      "text/html": [
       "<pre style=\"white-space:pre;overflow-x:auto;line-height:normal;font-family:Menlo,'DejaVu Sans Mono',consolas,'Courier New',monospace\">Dropping: BWelterweightRank\n",
       "</pre>\n"
      ],
      "text/plain": [
       "Dropping: BWelterweightRank\n"
      ]
     },
     "metadata": {},
     "output_type": "display_data"
    },
    {
     "data": {
      "text/html": [
       "<pre style=\"white-space:pre;overflow-x:auto;line-height:normal;font-family:Menlo,'DejaVu Sans Mono',consolas,'Courier New',monospace\">Dropping: BLightweightRank\n",
       "</pre>\n"
      ],
      "text/plain": [
       "Dropping: BLightweightRank\n"
      ]
     },
     "metadata": {},
     "output_type": "display_data"
    },
    {
     "data": {
      "text/html": [
       "<pre style=\"white-space:pre;overflow-x:auto;line-height:normal;font-family:Menlo,'DejaVu Sans Mono',consolas,'Courier New',monospace\">Dropping: BFeatherweightRank\n",
       "</pre>\n"
      ],
      "text/plain": [
       "Dropping: BFeatherweightRank\n"
      ]
     },
     "metadata": {},
     "output_type": "display_data"
    },
    {
     "data": {
      "text/html": [
       "<pre style=\"white-space:pre;overflow-x:auto;line-height:normal;font-family:Menlo,'DejaVu Sans Mono',consolas,'Courier New',monospace\">Dropping: BBantamweightRank\n",
       "</pre>\n"
      ],
      "text/plain": [
       "Dropping: BBantamweightRank\n"
      ]
     },
     "metadata": {},
     "output_type": "display_data"
    },
    {
     "data": {
      "text/html": [
       "<pre style=\"white-space:pre;overflow-x:auto;line-height:normal;font-family:Menlo,'DejaVu Sans Mono',consolas,'Courier New',monospace\">Dropping: BFlyweightRank\n",
       "</pre>\n"
      ],
      "text/plain": [
       "Dropping: BFlyweightRank\n"
      ]
     },
     "metadata": {},
     "output_type": "display_data"
    },
    {
     "data": {
      "text/html": [
       "<pre style=\"white-space:pre;overflow-x:auto;line-height:normal;font-family:Menlo,'DejaVu Sans Mono',consolas,'Courier New',monospace\">Dropping: BPFPRank\n",
       "</pre>\n"
      ],
      "text/plain": [
       "Dropping: BPFPRank\n"
      ]
     },
     "metadata": {},
     "output_type": "display_data"
    },
    {
     "data": {
      "text/html": [
       "<pre style=\"white-space:pre;overflow-x:auto;line-height:normal;font-family:Menlo,'DejaVu Sans Mono',consolas,'Courier New',monospace\">Dropping: FinishDetails\n",
       "</pre>\n"
      ],
      "text/plain": [
       "Dropping: FinishDetails\n"
      ]
     },
     "metadata": {},
     "output_type": "display_data"
    },
    {
     "data": {
      "text/html": [
       "<pre style=\"white-space:pre;overflow-x:auto;line-height:normal;font-family:Menlo,'DejaVu Sans Mono',consolas,'Courier New',monospace\">Dropping: FinishRound\n",
       "</pre>\n"
      ],
      "text/plain": [
       "Dropping: FinishRound\n"
      ]
     },
     "metadata": {},
     "output_type": "display_data"
    },
    {
     "data": {
      "text/html": [
       "<pre style=\"white-space:pre;overflow-x:auto;line-height:normal;font-family:Menlo,'DejaVu Sans Mono',consolas,'Courier New',monospace\">Dropping: FinishRoundTime\n",
       "</pre>\n"
      ],
      "text/plain": [
       "Dropping: FinishRoundTime\n"
      ]
     },
     "metadata": {},
     "output_type": "display_data"
    },
    {
     "data": {
      "text/html": [
       "<pre style=\"white-space:pre;overflow-x:auto;line-height:normal;font-family:Menlo,'DejaVu Sans Mono',consolas,'Courier New',monospace\">Dropping: TotalFightTimeSecs\n",
       "</pre>\n"
      ],
      "text/plain": [
       "Dropping: TotalFightTimeSecs\n"
      ]
     },
     "metadata": {},
     "output_type": "display_data"
    },
    {
     "data": {
      "text/html": [
       "<pre style=\"white-space:pre;overflow-x:auto;line-height:normal;font-family:Menlo,'DejaVu Sans Mono',consolas,'Courier New',monospace\">Dropping: RedDecOdds\n",
       "</pre>\n"
      ],
      "text/plain": [
       "Dropping: RedDecOdds\n"
      ]
     },
     "metadata": {},
     "output_type": "display_data"
    },
    {
     "data": {
      "text/html": [
       "<pre style=\"white-space:pre;overflow-x:auto;line-height:normal;font-family:Menlo,'DejaVu Sans Mono',consolas,'Courier New',monospace\">Dropping: BlueDecOdds\n",
       "</pre>\n"
      ],
      "text/plain": [
       "Dropping: BlueDecOdds\n"
      ]
     },
     "metadata": {},
     "output_type": "display_data"
    },
    {
     "data": {
      "text/html": [
       "<pre style=\"white-space:pre;overflow-x:auto;line-height:normal;font-family:Menlo,'DejaVu Sans Mono',consolas,'Courier New',monospace\">Dropping: RSubOdds\n",
       "</pre>\n"
      ],
      "text/plain": [
       "Dropping: RSubOdds\n"
      ]
     },
     "metadata": {},
     "output_type": "display_data"
    },
    {
     "data": {
      "text/html": [
       "<pre style=\"white-space:pre;overflow-x:auto;line-height:normal;font-family:Menlo,'DejaVu Sans Mono',consolas,'Courier New',monospace\">Dropping: BSubOdds\n",
       "</pre>\n"
      ],
      "text/plain": [
       "Dropping: BSubOdds\n"
      ]
     },
     "metadata": {},
     "output_type": "display_data"
    },
    {
     "data": {
      "text/html": [
       "<pre style=\"white-space:pre;overflow-x:auto;line-height:normal;font-family:Menlo,'DejaVu Sans Mono',consolas,'Courier New',monospace\">Dropping: RKOOdds\n",
       "</pre>\n"
      ],
      "text/plain": [
       "Dropping: RKOOdds\n"
      ]
     },
     "metadata": {},
     "output_type": "display_data"
    },
    {
     "data": {
      "text/html": [
       "<pre style=\"white-space:pre;overflow-x:auto;line-height:normal;font-family:Menlo,'DejaVu Sans Mono',consolas,'Courier New',monospace\">Dropping: BKOOdds\n",
       "</pre>\n"
      ],
      "text/plain": [
       "Dropping: BKOOdds\n"
      ]
     },
     "metadata": {},
     "output_type": "display_data"
    },
    {
     "data": {
      "text/html": [
       "<pre style=\"white-space:pre;overflow-x:auto;line-height:normal;font-family:Menlo,'DejaVu Sans Mono',consolas,'Courier New',monospace\">➡️ Before dropna: <span style=\"font-weight: bold\">(</span><span style=\"color: #008080; text-decoration-color: #008080; font-weight: bold\">6541</span>, <span style=\"color: #008080; text-decoration-color: #008080; font-weight: bold\">69</span><span style=\"font-weight: bold\">)</span>\n",
       "</pre>\n"
      ],
      "text/plain": [
       "➡️ Before dropna: \u001b[1m(\u001b[0m\u001b[1;36m6541\u001b[0m, \u001b[1;36m69\u001b[0m\u001b[1m)\u001b[0m\n"
      ]
     },
     "metadata": {},
     "output_type": "display_data"
    },
    {
     "data": {
      "text/html": [
       "<pre style=\"white-space:pre;overflow-x:auto;line-height:normal;font-family:Menlo,'DejaVu Sans Mono',consolas,'Courier New',monospace\">✅ After dropna: <span style=\"font-weight: bold\">(</span><span style=\"color: #008080; text-decoration-color: #008080; font-weight: bold\">6062</span>, <span style=\"color: #008080; text-decoration-color: #008080; font-weight: bold\">69</span><span style=\"font-weight: bold\">)</span>\n",
       "</pre>\n"
      ],
      "text/plain": [
       "✅ After dropna: \u001b[1m(\u001b[0m\u001b[1;36m6062\u001b[0m, \u001b[1;36m69\u001b[0m\u001b[1m)\u001b[0m\n"
      ]
     },
     "metadata": {},
     "output_type": "display_data"
    }
   ],
   "source": [
    "# Drop columns with too many null values (threshold: 300)\n",
    "threshold = 300\n",
    "cols_to_drop = [col for col in ufc_raw.columns if ufc_raw[col].isnull().sum() > threshold]\n",
    "for col in cols_to_drop:\n",
    "    print('Dropping:', col)\n",
    "ufc_raw.drop(columns=cols_to_drop, inplace=True)\n",
    "\n",
    "# Drop rows with any remaining missing values\n",
    "print(f\"➡️ Before dropna: {ufc_raw.shape}\")\n",
    "ufc_raw.dropna(inplace=True)\n",
    "print(f\"✅ After dropna: {ufc_raw.shape}\")"
   ]
  },
  {
   "cell_type": "code",
   "execution_count": 7,
   "id": "34b4bd2c-490f-4f65-9477-256e42504422",
   "metadata": {},
   "outputs": [
    {
     "data": {
      "text/html": [
       "<pre style=\"white-space:pre;overflow-x:auto;line-height:normal;font-family:Menlo,'DejaVu Sans Mono',consolas,'Courier New',monospace\">\n",
       "Null values per column:\n",
       " <span style=\"color: #800080; text-decoration-color: #800080; font-weight: bold\">Series</span><span style=\"font-weight: bold\">([]</span>, dtype: int64<span style=\"font-weight: bold\">)</span>\n",
       "</pre>\n"
      ],
      "text/plain": [
       "\n",
       "Null values per column:\n",
       " \u001b[1;35mSeries\u001b[0m\u001b[1m(\u001b[0m\u001b[1m[\u001b[0m\u001b[1m]\u001b[0m, dtype: int64\u001b[1m)\u001b[0m\n"
      ]
     },
     "metadata": {},
     "output_type": "display_data"
    }
   ],
   "source": [
    "# Null values check\n",
    "nulls = ufc_raw.isnull().sum()\n",
    "print(\"\\nNull values per column:\\n\", nulls[nulls > 0])"
   ]
  },
  {
   "cell_type": "code",
   "execution_count": 8,
   "id": "d5322f83-da8e-4aec-a128-c0091bdfe850",
   "metadata": {},
   "outputs": [
    {
     "data": {
      "text/plain": [
       "Index(['RedFighter', 'BlueFighter', 'RedOdds', 'BlueOdds', 'RedExpectedValue',\n",
       "       'BlueExpectedValue', 'Date', 'Location', 'Country', 'Winner',\n",
       "       'TitleBout', 'WeightClass', 'Gender', 'NumberOfRounds',\n",
       "       'BlueCurrentLoseStreak', 'BlueCurrentWinStreak', 'BlueDraws',\n",
       "       'BlueLongestWinStreak', 'BlueLosses', 'BlueTotalRoundsFought',\n",
       "       'BlueTotalTitleBouts', 'BlueWinsByDecisionMajority',\n",
       "       'BlueWinsByDecisionSplit', 'BlueWinsByDecisionUnanimous',\n",
       "       'BlueWinsByKO', 'BlueWinsBySubmission', 'BlueWinsByTKODoctorStoppage',\n",
       "       'BlueWins', 'BlueStance', 'BlueHeightCms', 'BlueReachCms',\n",
       "       'BlueWeightLbs', 'RedCurrentLoseStreak', 'RedCurrentWinStreak',\n",
       "       'RedDraws', 'RedLongestWinStreak', 'RedLosses', 'RedTotalRoundsFought',\n",
       "       'RedTotalTitleBouts', 'RedWinsByDecisionMajority',\n",
       "       'RedWinsByDecisionSplit', 'RedWinsByDecisionUnanimous', 'RedWinsByKO',\n",
       "       'RedWinsBySubmission', 'RedWinsByTKODoctorStoppage', 'RedWins',\n",
       "       'RedStance', 'RedHeightCms', 'RedReachCms', 'RedWeightLbs', 'RedAge',\n",
       "       'BlueAge', 'LoseStreakDif', 'WinStreakDif', 'LongestWinStreakDif',\n",
       "       'WinDif', 'LossDif', 'TotalRoundDif', 'TotalTitleBoutDif', 'KODif',\n",
       "       'SubDif', 'HeightDif', 'ReachDif', 'AgeDif', 'SigStrDif',\n",
       "       'AvgSubAttDif', 'AvgTDDif', 'BetterRank', 'Finish'],\n",
       "      dtype='object')"
      ]
     },
     "execution_count": 8,
     "metadata": {},
     "output_type": "execute_result"
    }
   ],
   "source": [
    "ufc_raw.columns"
   ]
  },
  {
   "cell_type": "markdown",
   "id": "bde27d6e-3f3a-4e7e-ab0b-1b01be71e08f",
   "metadata": {},
   "source": [
    "## Incongruent Data, KNN Imputer"
   ]
  },
  {
   "cell_type": "code",
   "execution_count": 9,
   "id": "cd27e4bb-4f8e-4be7-b2e1-2cee0dccec5f",
   "metadata": {
    "scrolled": true
   },
   "outputs": [
    {
     "data": {
      "text/html": [
       "<pre style=\"white-space:pre;overflow-x:auto;line-height:normal;font-family:Menlo,'DejaVu Sans Mono',consolas,'Courier New',monospace\">       RedReachCms  BlueReachCms  RedHeightCms  BlueHeightCms\n",
       "count  <span style=\"color: #008080; text-decoration-color: #008080; font-weight: bold\">6062.000000</span>   <span style=\"color: #008080; text-decoration-color: #008080; font-weight: bold\">6062.000000</span>   <span style=\"color: #008080; text-decoration-color: #008080; font-weight: bold\">6062.000000</span>    <span style=\"color: #008080; text-decoration-color: #008080; font-weight: bold\">6062.000000</span>\n",
       "mean    <span style=\"color: #008080; text-decoration-color: #008080; font-weight: bold\">182.542097</span>    <span style=\"color: #008080; text-decoration-color: #008080; font-weight: bold\">182.342446</span>    <span style=\"color: #008080; text-decoration-color: #008080; font-weight: bold\">177.883032</span>     <span style=\"color: #008080; text-decoration-color: #008080; font-weight: bold\">177.901699</span>\n",
       "std      <span style=\"color: #008080; text-decoration-color: #008080; font-weight: bold\">11.060124</span>     <span style=\"color: #008080; text-decoration-color: #008080; font-weight: bold\">11.139982</span>      <span style=\"color: #008080; text-decoration-color: #008080; font-weight: bold\">9.125898</span>       <span style=\"color: #008080; text-decoration-color: #008080; font-weight: bold\">9.068249</span>\n",
       "min     <span style=\"color: #008080; text-decoration-color: #008080; font-weight: bold\">147.320000</span>      <span style=\"color: #008080; text-decoration-color: #008080; font-weight: bold\">0.000000</span>    <span style=\"color: #008080; text-decoration-color: #008080; font-weight: bold\">152.400000</span>     <span style=\"color: #008080; text-decoration-color: #008080; font-weight: bold\">152.400000</span>\n",
       "<span style=\"color: #008080; text-decoration-color: #008080; font-weight: bold\">25</span>%     <span style=\"color: #008080; text-decoration-color: #008080; font-weight: bold\">175.260000</span>    <span style=\"color: #008080; text-decoration-color: #008080; font-weight: bold\">175.260000</span>    <span style=\"color: #008080; text-decoration-color: #008080; font-weight: bold\">170.180000</span>     <span style=\"color: #008080; text-decoration-color: #008080; font-weight: bold\">170.180000</span>\n",
       "<span style=\"color: #008080; text-decoration-color: #008080; font-weight: bold\">50</span>%     <span style=\"color: #008080; text-decoration-color: #008080; font-weight: bold\">182.880000</span>    <span style=\"color: #008080; text-decoration-color: #008080; font-weight: bold\">182.880000</span>    <span style=\"color: #008080; text-decoration-color: #008080; font-weight: bold\">177.800000</span>     <span style=\"color: #008080; text-decoration-color: #008080; font-weight: bold\">177.800000</span>\n",
       "<span style=\"color: #008080; text-decoration-color: #008080; font-weight: bold\">75</span>%     <span style=\"color: #008080; text-decoration-color: #008080; font-weight: bold\">190.500000</span>    <span style=\"color: #008080; text-decoration-color: #008080; font-weight: bold\">190.500000</span>    <span style=\"color: #008080; text-decoration-color: #008080; font-weight: bold\">185.420000</span>     <span style=\"color: #008080; text-decoration-color: #008080; font-weight: bold\">185.420000</span>\n",
       "max     <span style=\"color: #008080; text-decoration-color: #008080; font-weight: bold\">214.630000</span>    <span style=\"color: #008080; text-decoration-color: #008080; font-weight: bold\">213.360000</span>    <span style=\"color: #008080; text-decoration-color: #008080; font-weight: bold\">210.820000</span>     <span style=\"color: #008080; text-decoration-color: #008080; font-weight: bold\">210.820000</span>\n",
       "</pre>\n"
      ],
      "text/plain": [
       "       RedReachCms  BlueReachCms  RedHeightCms  BlueHeightCms\n",
       "count  \u001b[1;36m6062.000000\u001b[0m   \u001b[1;36m6062.000000\u001b[0m   \u001b[1;36m6062.000000\u001b[0m    \u001b[1;36m6062.000000\u001b[0m\n",
       "mean    \u001b[1;36m182.542097\u001b[0m    \u001b[1;36m182.342446\u001b[0m    \u001b[1;36m177.883032\u001b[0m     \u001b[1;36m177.901699\u001b[0m\n",
       "std      \u001b[1;36m11.060124\u001b[0m     \u001b[1;36m11.139982\u001b[0m      \u001b[1;36m9.125898\u001b[0m       \u001b[1;36m9.068249\u001b[0m\n",
       "min     \u001b[1;36m147.320000\u001b[0m      \u001b[1;36m0.000000\u001b[0m    \u001b[1;36m152.400000\u001b[0m     \u001b[1;36m152.400000\u001b[0m\n",
       "\u001b[1;36m25\u001b[0m%     \u001b[1;36m175.260000\u001b[0m    \u001b[1;36m175.260000\u001b[0m    \u001b[1;36m170.180000\u001b[0m     \u001b[1;36m170.180000\u001b[0m\n",
       "\u001b[1;36m50\u001b[0m%     \u001b[1;36m182.880000\u001b[0m    \u001b[1;36m182.880000\u001b[0m    \u001b[1;36m177.800000\u001b[0m     \u001b[1;36m177.800000\u001b[0m\n",
       "\u001b[1;36m75\u001b[0m%     \u001b[1;36m190.500000\u001b[0m    \u001b[1;36m190.500000\u001b[0m    \u001b[1;36m185.420000\u001b[0m     \u001b[1;36m185.420000\u001b[0m\n",
       "max     \u001b[1;36m214.630000\u001b[0m    \u001b[1;36m213.360000\u001b[0m    \u001b[1;36m210.820000\u001b[0m     \u001b[1;36m210.820000\u001b[0m\n"
      ]
     },
     "metadata": {},
     "output_type": "display_data"
    }
   ],
   "source": [
    "print(ufc_raw[['RedReachCms', 'BlueReachCms', 'RedHeightCms', 'BlueHeightCms']].describe())"
   ]
  },
  {
   "cell_type": "code",
   "execution_count": 10,
   "id": "1f4cd63b-c2d5-4969-8ab2-e6dbe3533cfe",
   "metadata": {},
   "outputs": [],
   "source": [
    "from sklearn.impute import KNNImputer\n",
    "\n",
    "# 1️⃣ Replace zeros with np.nan\n",
    "ufc_raw['RedReachCms'] = ufc_raw['RedReachCms'].replace(0, np.nan)\n",
    "ufc_raw['BlueReachCms'] = ufc_raw['BlueReachCms'].replace(0, np.nan)\n",
    "\n",
    "# 2️⃣ Define relevant columns\n",
    "cols = [\n",
    "    'BlueReachCms', 'BlueHeightCms', 'BlueWeightLbs', 'BlueAge',\n",
    "    'RedReachCms', 'RedHeightCms', 'RedWeightLbs', 'RedAge'\n",
    "]\n",
    "\n",
    "# 3️⃣ Ensure all missing values are np.nan (replace pd.NA, NaT, etc.)\n",
    "ufc_raw[cols] = ufc_raw[cols].apply(pd.to_numeric, errors='coerce')\n",
    "\n",
    "# 4️⃣ Apply KNNImputer\n",
    "imputer = KNNImputer(n_neighbors=5)\n",
    "ufc_raw[cols] = imputer.fit_transform(ufc_raw[cols])"
   ]
  },
  {
   "cell_type": "code",
   "execution_count": 11,
   "id": "19f6fe69-153c-407d-80b6-7db361c47513",
   "metadata": {},
   "outputs": [
    {
     "data": {
      "text/html": [
       "<pre style=\"white-space:pre;overflow-x:auto;line-height:normal;font-family:Menlo,'DejaVu Sans Mono',consolas,'Courier New',monospace\">       RedReachCms  BlueReachCms  RedHeightCms  BlueHeightCms\n",
       "count  <span style=\"color: #008080; text-decoration-color: #008080; font-weight: bold\">6062.000000</span>   <span style=\"color: #008080; text-decoration-color: #008080; font-weight: bold\">6062.000000</span>   <span style=\"color: #008080; text-decoration-color: #008080; font-weight: bold\">6062.000000</span>    <span style=\"color: #008080; text-decoration-color: #008080; font-weight: bold\">6062.000000</span>\n",
       "mean    <span style=\"color: #008080; text-decoration-color: #008080; font-weight: bold\">182.542097</span>    <span style=\"color: #008080; text-decoration-color: #008080; font-weight: bold\">182.371190</span>    <span style=\"color: #008080; text-decoration-color: #008080; font-weight: bold\">177.883032</span>     <span style=\"color: #008080; text-decoration-color: #008080; font-weight: bold\">177.901699</span>\n",
       "std      <span style=\"color: #008080; text-decoration-color: #008080; font-weight: bold\">11.060124</span>     <span style=\"color: #008080; text-decoration-color: #008080; font-weight: bold\">10.891442</span>      <span style=\"color: #008080; text-decoration-color: #008080; font-weight: bold\">9.125898</span>       <span style=\"color: #008080; text-decoration-color: #008080; font-weight: bold\">9.068249</span>\n",
       "min     <span style=\"color: #008080; text-decoration-color: #008080; font-weight: bold\">147.320000</span>    <span style=\"color: #008080; text-decoration-color: #008080; font-weight: bold\">147.320000</span>    <span style=\"color: #008080; text-decoration-color: #008080; font-weight: bold\">152.400000</span>     <span style=\"color: #008080; text-decoration-color: #008080; font-weight: bold\">152.400000</span>\n",
       "<span style=\"color: #008080; text-decoration-color: #008080; font-weight: bold\">25</span>%     <span style=\"color: #008080; text-decoration-color: #008080; font-weight: bold\">175.260000</span>    <span style=\"color: #008080; text-decoration-color: #008080; font-weight: bold\">175.260000</span>    <span style=\"color: #008080; text-decoration-color: #008080; font-weight: bold\">170.180000</span>     <span style=\"color: #008080; text-decoration-color: #008080; font-weight: bold\">170.180000</span>\n",
       "<span style=\"color: #008080; text-decoration-color: #008080; font-weight: bold\">50</span>%     <span style=\"color: #008080; text-decoration-color: #008080; font-weight: bold\">182.880000</span>    <span style=\"color: #008080; text-decoration-color: #008080; font-weight: bold\">182.880000</span>    <span style=\"color: #008080; text-decoration-color: #008080; font-weight: bold\">177.800000</span>     <span style=\"color: #008080; text-decoration-color: #008080; font-weight: bold\">177.800000</span>\n",
       "<span style=\"color: #008080; text-decoration-color: #008080; font-weight: bold\">75</span>%     <span style=\"color: #008080; text-decoration-color: #008080; font-weight: bold\">190.500000</span>    <span style=\"color: #008080; text-decoration-color: #008080; font-weight: bold\">190.500000</span>    <span style=\"color: #008080; text-decoration-color: #008080; font-weight: bold\">185.420000</span>     <span style=\"color: #008080; text-decoration-color: #008080; font-weight: bold\">185.420000</span>\n",
       "max     <span style=\"color: #008080; text-decoration-color: #008080; font-weight: bold\">214.630000</span>    <span style=\"color: #008080; text-decoration-color: #008080; font-weight: bold\">213.360000</span>    <span style=\"color: #008080; text-decoration-color: #008080; font-weight: bold\">210.820000</span>     <span style=\"color: #008080; text-decoration-color: #008080; font-weight: bold\">210.820000</span>\n",
       "</pre>\n"
      ],
      "text/plain": [
       "       RedReachCms  BlueReachCms  RedHeightCms  BlueHeightCms\n",
       "count  \u001b[1;36m6062.000000\u001b[0m   \u001b[1;36m6062.000000\u001b[0m   \u001b[1;36m6062.000000\u001b[0m    \u001b[1;36m6062.000000\u001b[0m\n",
       "mean    \u001b[1;36m182.542097\u001b[0m    \u001b[1;36m182.371190\u001b[0m    \u001b[1;36m177.883032\u001b[0m     \u001b[1;36m177.901699\u001b[0m\n",
       "std      \u001b[1;36m11.060124\u001b[0m     \u001b[1;36m10.891442\u001b[0m      \u001b[1;36m9.125898\u001b[0m       \u001b[1;36m9.068249\u001b[0m\n",
       "min     \u001b[1;36m147.320000\u001b[0m    \u001b[1;36m147.320000\u001b[0m    \u001b[1;36m152.400000\u001b[0m     \u001b[1;36m152.400000\u001b[0m\n",
       "\u001b[1;36m25\u001b[0m%     \u001b[1;36m175.260000\u001b[0m    \u001b[1;36m175.260000\u001b[0m    \u001b[1;36m170.180000\u001b[0m     \u001b[1;36m170.180000\u001b[0m\n",
       "\u001b[1;36m50\u001b[0m%     \u001b[1;36m182.880000\u001b[0m    \u001b[1;36m182.880000\u001b[0m    \u001b[1;36m177.800000\u001b[0m     \u001b[1;36m177.800000\u001b[0m\n",
       "\u001b[1;36m75\u001b[0m%     \u001b[1;36m190.500000\u001b[0m    \u001b[1;36m190.500000\u001b[0m    \u001b[1;36m185.420000\u001b[0m     \u001b[1;36m185.420000\u001b[0m\n",
       "max     \u001b[1;36m214.630000\u001b[0m    \u001b[1;36m213.360000\u001b[0m    \u001b[1;36m210.820000\u001b[0m     \u001b[1;36m210.820000\u001b[0m\n"
      ]
     },
     "metadata": {},
     "output_type": "display_data"
    }
   ],
   "source": [
    "print(ufc_raw[['RedReachCms', 'BlueReachCms', 'RedHeightCms', 'BlueHeightCms']].describe())"
   ]
  },
  {
   "cell_type": "code",
   "execution_count": 12,
   "id": "9383cab4-6987-4dad-bf7a-d085e65d482c",
   "metadata": {},
   "outputs": [
    {
     "data": {
      "text/html": [
       "<div>\n",
       "<style scoped>\n",
       "    .dataframe tbody tr th:only-of-type {\n",
       "        vertical-align: middle;\n",
       "    }\n",
       "\n",
       "    .dataframe tbody tr th {\n",
       "        vertical-align: top;\n",
       "    }\n",
       "\n",
       "    .dataframe thead th {\n",
       "        text-align: right;\n",
       "    }\n",
       "</style>\n",
       "<table border=\"1\" class=\"dataframe\">\n",
       "  <thead>\n",
       "    <tr style=\"text-align: right;\">\n",
       "      <th></th>\n",
       "      <th>RedFighter</th>\n",
       "      <th>BlueFighter</th>\n",
       "      <th>RedOdds</th>\n",
       "      <th>BlueOdds</th>\n",
       "      <th>RedExpectedValue</th>\n",
       "      <th>BlueExpectedValue</th>\n",
       "      <th>Date</th>\n",
       "      <th>Location</th>\n",
       "      <th>Country</th>\n",
       "      <th>Winner</th>\n",
       "      <th>...</th>\n",
       "      <th>KODif</th>\n",
       "      <th>SubDif</th>\n",
       "      <th>HeightDif</th>\n",
       "      <th>ReachDif</th>\n",
       "      <th>AgeDif</th>\n",
       "      <th>SigStrDif</th>\n",
       "      <th>AvgSubAttDif</th>\n",
       "      <th>AvgTDDif</th>\n",
       "      <th>BetterRank</th>\n",
       "      <th>Finish</th>\n",
       "    </tr>\n",
       "  </thead>\n",
       "  <tbody>\n",
       "    <tr>\n",
       "      <th>6051</th>\n",
       "      <td>Krzysztof Soszynski</td>\n",
       "      <td>Igor Pokrajac</td>\n",
       "      <td>-255.0</td>\n",
       "      <td>235.0</td>\n",
       "      <td>39.2157</td>\n",
       "      <td>235.0000</td>\n",
       "      <td>2011-12-10</td>\n",
       "      <td>Toronto, Ontario, Canada</td>\n",
       "      <td>Canada</td>\n",
       "      <td>Blue</td>\n",
       "      <td>...</td>\n",
       "      <td>-1</td>\n",
       "      <td>-1</td>\n",
       "      <td>-2.54</td>\n",
       "      <td>-2.54</td>\n",
       "      <td>2</td>\n",
       "      <td>-15.5000</td>\n",
       "      <td>-0.5500</td>\n",
       "      <td>0.6250</td>\n",
       "      <td>neither</td>\n",
       "      <td>KO/TKO</td>\n",
       "    </tr>\n",
       "    <tr>\n",
       "      <th>6366</th>\n",
       "      <td>Krzysztof Soszynski</td>\n",
       "      <td>Goran Reljic</td>\n",
       "      <td>-108.0</td>\n",
       "      <td>-102.0</td>\n",
       "      <td>92.5926</td>\n",
       "      <td>98.0392</td>\n",
       "      <td>2010-11-13</td>\n",
       "      <td>Oberhausen, North Rhine-Westphalia, Germany</td>\n",
       "      <td>Germany</td>\n",
       "      <td>Red</td>\n",
       "      <td>...</td>\n",
       "      <td>-1</td>\n",
       "      <td>-2</td>\n",
       "      <td>5.08</td>\n",
       "      <td>10.16</td>\n",
       "      <td>7</td>\n",
       "      <td>-4.5000</td>\n",
       "      <td>0.8333</td>\n",
       "      <td>0.8333</td>\n",
       "      <td>neither</td>\n",
       "      <td>U-DEC</td>\n",
       "    </tr>\n",
       "    <tr>\n",
       "      <th>6448</th>\n",
       "      <td>Krzysztof Soszynski</td>\n",
       "      <td>Stephan Bonnar</td>\n",
       "      <td>-190.0</td>\n",
       "      <td>175.0</td>\n",
       "      <td>52.6316</td>\n",
       "      <td>175.0000</td>\n",
       "      <td>2010-07-03</td>\n",
       "      <td>Las Vegas, Nevada, USA</td>\n",
       "      <td>USA</td>\n",
       "      <td>Blue</td>\n",
       "      <td>...</td>\n",
       "      <td>-1</td>\n",
       "      <td>0</td>\n",
       "      <td>7.62</td>\n",
       "      <td>2.54</td>\n",
       "      <td>-1</td>\n",
       "      <td>3.2000</td>\n",
       "      <td>0.4000</td>\n",
       "      <td>0.1273</td>\n",
       "      <td>neither</td>\n",
       "      <td>KO/TKO</td>\n",
       "    </tr>\n",
       "    <tr>\n",
       "      <th>6511</th>\n",
       "      <td>Nate Quarry</td>\n",
       "      <td>Jorge Rivera</td>\n",
       "      <td>-230.0</td>\n",
       "      <td>190.0</td>\n",
       "      <td>43.4783</td>\n",
       "      <td>190.0000</td>\n",
       "      <td>2010-03-31</td>\n",
       "      <td>Charlotte, North Carolina, USA</td>\n",
       "      <td>USA</td>\n",
       "      <td>Blue</td>\n",
       "      <td>...</td>\n",
       "      <td>-2</td>\n",
       "      <td>0</td>\n",
       "      <td>2.54</td>\n",
       "      <td>2.54</td>\n",
       "      <td>0</td>\n",
       "      <td>-2.8182</td>\n",
       "      <td>0.0909</td>\n",
       "      <td>0.4343</td>\n",
       "      <td>neither</td>\n",
       "      <td>KO/TKO</td>\n",
       "    </tr>\n",
       "  </tbody>\n",
       "</table>\n",
       "<p>4 rows × 69 columns</p>\n",
       "</div>"
      ],
      "text/plain": [
       "               RedFighter     BlueFighter  RedOdds  BlueOdds  \\\n",
       "6051  Krzysztof Soszynski   Igor Pokrajac   -255.0     235.0   \n",
       "6366  Krzysztof Soszynski    Goran Reljic   -108.0    -102.0   \n",
       "6448  Krzysztof Soszynski  Stephan Bonnar   -190.0     175.0   \n",
       "6511          Nate Quarry    Jorge Rivera   -230.0     190.0   \n",
       "\n",
       "      RedExpectedValue  BlueExpectedValue        Date  \\\n",
       "6051           39.2157           235.0000  2011-12-10   \n",
       "6366           92.5926            98.0392  2010-11-13   \n",
       "6448           52.6316           175.0000  2010-07-03   \n",
       "6511           43.4783           190.0000  2010-03-31   \n",
       "\n",
       "                                         Location   Country Winner  ...  \\\n",
       "6051                     Toronto, Ontario, Canada    Canada   Blue  ...   \n",
       "6366  Oberhausen, North Rhine-Westphalia, Germany   Germany    Red  ...   \n",
       "6448                       Las Vegas, Nevada, USA       USA   Blue  ...   \n",
       "6511               Charlotte, North Carolina, USA       USA   Blue  ...   \n",
       "\n",
       "      KODif SubDif HeightDif  ReachDif  AgeDif  SigStrDif  AvgSubAttDif  \\\n",
       "6051     -1     -1     -2.54     -2.54       2   -15.5000       -0.5500   \n",
       "6366     -1     -2      5.08     10.16       7    -4.5000        0.8333   \n",
       "6448     -1      0      7.62      2.54      -1     3.2000        0.4000   \n",
       "6511     -2      0      2.54      2.54       0    -2.8182        0.0909   \n",
       "\n",
       "      AvgTDDif  BetterRank  Finish  \n",
       "6051    0.6250     neither  KO/TKO  \n",
       "6366    0.8333     neither   U-DEC  \n",
       "6448    0.1273     neither  KO/TKO  \n",
       "6511    0.4343     neither  KO/TKO  \n",
       "\n",
       "[4 rows x 69 columns]"
      ]
     },
     "execution_count": 12,
     "metadata": {},
     "output_type": "execute_result"
    }
   ],
   "source": [
    "# Open Stance is incorrect\n",
    "ufc_raw[ufc_raw['RedStance'] == 'Open Stance']"
   ]
  },
  {
   "cell_type": "code",
   "execution_count": 13,
   "id": "bdb420ab-5723-47d2-ad44-bacd3e3f6f36",
   "metadata": {},
   "outputs": [],
   "source": [
    "ufc_raw = ufc_raw[ufc_raw['RedStance'] != 'Open Stance']"
   ]
  },
  {
   "cell_type": "code",
   "execution_count": 14,
   "id": "2bafca2a-d5d4-4b64-bcc8-8aeb1980479f",
   "metadata": {},
   "outputs": [
    {
     "data": {
      "text/html": [
       "<div>\n",
       "<style scoped>\n",
       "    .dataframe tbody tr th:only-of-type {\n",
       "        vertical-align: middle;\n",
       "    }\n",
       "\n",
       "    .dataframe tbody tr th {\n",
       "        vertical-align: top;\n",
       "    }\n",
       "\n",
       "    .dataframe thead th {\n",
       "        text-align: right;\n",
       "    }\n",
       "</style>\n",
       "<table border=\"1\" class=\"dataframe\">\n",
       "  <thead>\n",
       "    <tr style=\"text-align: right;\">\n",
       "      <th></th>\n",
       "      <th>RedFighter</th>\n",
       "      <th>BlueFighter</th>\n",
       "      <th>RedOdds</th>\n",
       "      <th>BlueOdds</th>\n",
       "      <th>RedExpectedValue</th>\n",
       "      <th>BlueExpectedValue</th>\n",
       "      <th>Date</th>\n",
       "      <th>Location</th>\n",
       "      <th>Country</th>\n",
       "      <th>Winner</th>\n",
       "      <th>...</th>\n",
       "      <th>KODif</th>\n",
       "      <th>SubDif</th>\n",
       "      <th>HeightDif</th>\n",
       "      <th>ReachDif</th>\n",
       "      <th>AgeDif</th>\n",
       "      <th>SigStrDif</th>\n",
       "      <th>AvgSubAttDif</th>\n",
       "      <th>AvgTDDif</th>\n",
       "      <th>BetterRank</th>\n",
       "      <th>Finish</th>\n",
       "    </tr>\n",
       "  </thead>\n",
       "  <tbody>\n",
       "  </tbody>\n",
       "</table>\n",
       "<p>0 rows × 69 columns</p>\n",
       "</div>"
      ],
      "text/plain": [
       "Empty DataFrame\n",
       "Columns: [RedFighter, BlueFighter, RedOdds, BlueOdds, RedExpectedValue, BlueExpectedValue, Date, Location, Country, Winner, TitleBout, WeightClass, Gender, NumberOfRounds, BlueCurrentLoseStreak, BlueCurrentWinStreak, BlueDraws, BlueLongestWinStreak, BlueLosses, BlueTotalRoundsFought, BlueTotalTitleBouts, BlueWinsByDecisionMajority, BlueWinsByDecisionSplit, BlueWinsByDecisionUnanimous, BlueWinsByKO, BlueWinsBySubmission, BlueWinsByTKODoctorStoppage, BlueWins, BlueStance, BlueHeightCms, BlueReachCms, BlueWeightLbs, RedCurrentLoseStreak, RedCurrentWinStreak, RedDraws, RedLongestWinStreak, RedLosses, RedTotalRoundsFought, RedTotalTitleBouts, RedWinsByDecisionMajority, RedWinsByDecisionSplit, RedWinsByDecisionUnanimous, RedWinsByKO, RedWinsBySubmission, RedWinsByTKODoctorStoppage, RedWins, RedStance, RedHeightCms, RedReachCms, RedWeightLbs, RedAge, BlueAge, LoseStreakDif, WinStreakDif, LongestWinStreakDif, WinDif, LossDif, TotalRoundDif, TotalTitleBoutDif, KODif, SubDif, HeightDif, ReachDif, AgeDif, SigStrDif, AvgSubAttDif, AvgTDDif, BetterRank, Finish]\n",
       "Index: []\n",
       "\n",
       "[0 rows x 69 columns]"
      ]
     },
     "execution_count": 14,
     "metadata": {},
     "output_type": "execute_result"
    }
   ],
   "source": [
    "# Open Stance is incorrect\n",
    "ufc_raw[ufc_raw['RedStance'] == 'Open Stance']"
   ]
  },
  {
   "cell_type": "code",
   "execution_count": 15,
   "id": "eb9de5e3-dd05-401a-b84f-c758f948464d",
   "metadata": {},
   "outputs": [
    {
     "data": {
      "text/html": [
       "<div>\n",
       "<style scoped>\n",
       "    .dataframe tbody tr th:only-of-type {\n",
       "        vertical-align: middle;\n",
       "    }\n",
       "\n",
       "    .dataframe tbody tr th {\n",
       "        vertical-align: top;\n",
       "    }\n",
       "\n",
       "    .dataframe thead th {\n",
       "        text-align: right;\n",
       "    }\n",
       "</style>\n",
       "<table border=\"1\" class=\"dataframe\">\n",
       "  <thead>\n",
       "    <tr style=\"text-align: right;\">\n",
       "      <th></th>\n",
       "      <th>RedFighter</th>\n",
       "      <th>BlueFighter</th>\n",
       "      <th>RedOdds</th>\n",
       "      <th>BlueOdds</th>\n",
       "      <th>RedExpectedValue</th>\n",
       "      <th>BlueExpectedValue</th>\n",
       "      <th>Date</th>\n",
       "      <th>Location</th>\n",
       "      <th>Country</th>\n",
       "      <th>Winner</th>\n",
       "      <th>...</th>\n",
       "      <th>KODif</th>\n",
       "      <th>SubDif</th>\n",
       "      <th>HeightDif</th>\n",
       "      <th>ReachDif</th>\n",
       "      <th>AgeDif</th>\n",
       "      <th>SigStrDif</th>\n",
       "      <th>AvgSubAttDif</th>\n",
       "      <th>AvgTDDif</th>\n",
       "      <th>BetterRank</th>\n",
       "      <th>Finish</th>\n",
       "    </tr>\n",
       "  </thead>\n",
       "  <tbody>\n",
       "    <tr>\n",
       "      <th>6216</th>\n",
       "      <td>Mike Massenzio</td>\n",
       "      <td>Krzysztof Soszynski</td>\n",
       "      <td>265.0</td>\n",
       "      <td>-325.0</td>\n",
       "      <td>265.0</td>\n",
       "      <td>30.7692</td>\n",
       "      <td>2011-06-11</td>\n",
       "      <td>Vancouver, British Columbia, Canada</td>\n",
       "      <td>Canada</td>\n",
       "      <td>Blue</td>\n",
       "      <td>...</td>\n",
       "      <td>2</td>\n",
       "      <td>1</td>\n",
       "      <td>-2.54</td>\n",
       "      <td>10.16</td>\n",
       "      <td>-5</td>\n",
       "      <td>28.4762</td>\n",
       "      <td>-0.8095</td>\n",
       "      <td>-1.5714</td>\n",
       "      <td>neither</td>\n",
       "      <td>U-DEC</td>\n",
       "    </tr>\n",
       "  </tbody>\n",
       "</table>\n",
       "<p>1 rows × 69 columns</p>\n",
       "</div>"
      ],
      "text/plain": [
       "          RedFighter          BlueFighter  RedOdds  BlueOdds  \\\n",
       "6216  Mike Massenzio  Krzysztof Soszynski    265.0    -325.0   \n",
       "\n",
       "      RedExpectedValue  BlueExpectedValue        Date  \\\n",
       "6216             265.0            30.7692  2011-06-11   \n",
       "\n",
       "                                 Location  Country Winner  ...  KODif SubDif  \\\n",
       "6216  Vancouver, British Columbia, Canada   Canada   Blue  ...      2      1   \n",
       "\n",
       "     HeightDif  ReachDif  AgeDif  SigStrDif  AvgSubAttDif  AvgTDDif  \\\n",
       "6216     -2.54     10.16      -5    28.4762       -0.8095   -1.5714   \n",
       "\n",
       "      BetterRank  Finish  \n",
       "6216     neither   U-DEC  \n",
       "\n",
       "[1 rows x 69 columns]"
      ]
     },
     "execution_count": 15,
     "metadata": {},
     "output_type": "execute_result"
    }
   ],
   "source": [
    "# Open Stance is incorrect\n",
    "ufc_raw[ufc_raw['BlueStance'] == 'Open Stance']"
   ]
  },
  {
   "cell_type": "code",
   "execution_count": 16,
   "id": "42411a44-b1bc-4dbe-a6b6-ea3ac98199bb",
   "metadata": {},
   "outputs": [],
   "source": [
    "ufc_raw = ufc_raw[ufc_raw['BlueStance'] != 'Open Stance']"
   ]
  },
  {
   "cell_type": "code",
   "execution_count": 17,
   "id": "d55929c8-43e2-441c-9770-d178858dc2ce",
   "metadata": {},
   "outputs": [
    {
     "data": {
      "text/html": [
       "<div>\n",
       "<style scoped>\n",
       "    .dataframe tbody tr th:only-of-type {\n",
       "        vertical-align: middle;\n",
       "    }\n",
       "\n",
       "    .dataframe tbody tr th {\n",
       "        vertical-align: top;\n",
       "    }\n",
       "\n",
       "    .dataframe thead th {\n",
       "        text-align: right;\n",
       "    }\n",
       "</style>\n",
       "<table border=\"1\" class=\"dataframe\">\n",
       "  <thead>\n",
       "    <tr style=\"text-align: right;\">\n",
       "      <th></th>\n",
       "      <th>RedFighter</th>\n",
       "      <th>BlueFighter</th>\n",
       "      <th>RedOdds</th>\n",
       "      <th>BlueOdds</th>\n",
       "      <th>RedExpectedValue</th>\n",
       "      <th>BlueExpectedValue</th>\n",
       "      <th>Date</th>\n",
       "      <th>Location</th>\n",
       "      <th>Country</th>\n",
       "      <th>Winner</th>\n",
       "      <th>...</th>\n",
       "      <th>KODif</th>\n",
       "      <th>SubDif</th>\n",
       "      <th>HeightDif</th>\n",
       "      <th>ReachDif</th>\n",
       "      <th>AgeDif</th>\n",
       "      <th>SigStrDif</th>\n",
       "      <th>AvgSubAttDif</th>\n",
       "      <th>AvgTDDif</th>\n",
       "      <th>BetterRank</th>\n",
       "      <th>Finish</th>\n",
       "    </tr>\n",
       "  </thead>\n",
       "  <tbody>\n",
       "  </tbody>\n",
       "</table>\n",
       "<p>0 rows × 69 columns</p>\n",
       "</div>"
      ],
      "text/plain": [
       "Empty DataFrame\n",
       "Columns: [RedFighter, BlueFighter, RedOdds, BlueOdds, RedExpectedValue, BlueExpectedValue, Date, Location, Country, Winner, TitleBout, WeightClass, Gender, NumberOfRounds, BlueCurrentLoseStreak, BlueCurrentWinStreak, BlueDraws, BlueLongestWinStreak, BlueLosses, BlueTotalRoundsFought, BlueTotalTitleBouts, BlueWinsByDecisionMajority, BlueWinsByDecisionSplit, BlueWinsByDecisionUnanimous, BlueWinsByKO, BlueWinsBySubmission, BlueWinsByTKODoctorStoppage, BlueWins, BlueStance, BlueHeightCms, BlueReachCms, BlueWeightLbs, RedCurrentLoseStreak, RedCurrentWinStreak, RedDraws, RedLongestWinStreak, RedLosses, RedTotalRoundsFought, RedTotalTitleBouts, RedWinsByDecisionMajority, RedWinsByDecisionSplit, RedWinsByDecisionUnanimous, RedWinsByKO, RedWinsBySubmission, RedWinsByTKODoctorStoppage, RedWins, RedStance, RedHeightCms, RedReachCms, RedWeightLbs, RedAge, BlueAge, LoseStreakDif, WinStreakDif, LongestWinStreakDif, WinDif, LossDif, TotalRoundDif, TotalTitleBoutDif, KODif, SubDif, HeightDif, ReachDif, AgeDif, SigStrDif, AvgSubAttDif, AvgTDDif, BetterRank, Finish]\n",
       "Index: []\n",
       "\n",
       "[0 rows x 69 columns]"
      ]
     },
     "execution_count": 17,
     "metadata": {},
     "output_type": "execute_result"
    }
   ],
   "source": [
    "# Open Stance is incorrect\n",
    "ufc_raw[ufc_raw['BlueStance'] == 'Open Stance']"
   ]
  },
  {
   "cell_type": "code",
   "execution_count": 18,
   "id": "37986315-de8c-40c0-8ca4-eabd27920323",
   "metadata": {},
   "outputs": [
    {
     "data": {
      "text/html": [
       "<div>\n",
       "<style scoped>\n",
       "    .dataframe tbody tr th:only-of-type {\n",
       "        vertical-align: middle;\n",
       "    }\n",
       "\n",
       "    .dataframe tbody tr th {\n",
       "        vertical-align: top;\n",
       "    }\n",
       "\n",
       "    .dataframe thead th {\n",
       "        text-align: right;\n",
       "    }\n",
       "</style>\n",
       "<table border=\"1\" class=\"dataframe\">\n",
       "  <thead>\n",
       "    <tr style=\"text-align: right;\">\n",
       "      <th></th>\n",
       "      <th>RedFighter</th>\n",
       "      <th>BlueFighter</th>\n",
       "      <th>RedOdds</th>\n",
       "      <th>BlueOdds</th>\n",
       "      <th>RedExpectedValue</th>\n",
       "      <th>BlueExpectedValue</th>\n",
       "      <th>Date</th>\n",
       "      <th>Location</th>\n",
       "      <th>Country</th>\n",
       "      <th>Winner</th>\n",
       "      <th>...</th>\n",
       "      <th>KODif</th>\n",
       "      <th>SubDif</th>\n",
       "      <th>HeightDif</th>\n",
       "      <th>ReachDif</th>\n",
       "      <th>AgeDif</th>\n",
       "      <th>SigStrDif</th>\n",
       "      <th>AvgSubAttDif</th>\n",
       "      <th>AvgTDDif</th>\n",
       "      <th>BetterRank</th>\n",
       "      <th>Finish</th>\n",
       "    </tr>\n",
       "  </thead>\n",
       "  <tbody>\n",
       "  </tbody>\n",
       "</table>\n",
       "<p>0 rows × 69 columns</p>\n",
       "</div>"
      ],
      "text/plain": [
       "Empty DataFrame\n",
       "Columns: [RedFighter, BlueFighter, RedOdds, BlueOdds, RedExpectedValue, BlueExpectedValue, Date, Location, Country, Winner, TitleBout, WeightClass, Gender, NumberOfRounds, BlueCurrentLoseStreak, BlueCurrentWinStreak, BlueDraws, BlueLongestWinStreak, BlueLosses, BlueTotalRoundsFought, BlueTotalTitleBouts, BlueWinsByDecisionMajority, BlueWinsByDecisionSplit, BlueWinsByDecisionUnanimous, BlueWinsByKO, BlueWinsBySubmission, BlueWinsByTKODoctorStoppage, BlueWins, BlueStance, BlueHeightCms, BlueReachCms, BlueWeightLbs, RedCurrentLoseStreak, RedCurrentWinStreak, RedDraws, RedLongestWinStreak, RedLosses, RedTotalRoundsFought, RedTotalTitleBouts, RedWinsByDecisionMajority, RedWinsByDecisionSplit, RedWinsByDecisionUnanimous, RedWinsByKO, RedWinsBySubmission, RedWinsByTKODoctorStoppage, RedWins, RedStance, RedHeightCms, RedReachCms, RedWeightLbs, RedAge, BlueAge, LoseStreakDif, WinStreakDif, LongestWinStreakDif, WinDif, LossDif, TotalRoundDif, TotalTitleBoutDif, KODif, SubDif, HeightDif, ReachDif, AgeDif, SigStrDif, AvgSubAttDif, AvgTDDif, BetterRank, Finish]\n",
       "Index: []\n",
       "\n",
       "[0 rows x 69 columns]"
      ]
     },
     "execution_count": 18,
     "metadata": {},
     "output_type": "execute_result"
    }
   ],
   "source": [
    "# Open Stance is incorrect\n",
    "ufc_raw[ufc_raw['RedStance'] == 'Open Stance']"
   ]
  },
  {
   "cell_type": "markdown",
   "id": "b864d0d0-a912-4776-bc98-f564c12b6ef0",
   "metadata": {},
   "source": [
    "## Create Fight Stance Columns\n",
    "- If both fighters have the same fighting stance, the bout is considered a Closed Stance matchup. If their stances differ, it is classified as an Open Stance matchup."
   ]
  },
  {
   "cell_type": "code",
   "execution_count": 19,
   "id": "d446ba88-c850-4928-b83b-f47dfc752c09",
   "metadata": {},
   "outputs": [],
   "source": [
    "# Create column FightStance according Stances matches.\n",
    "ufc_raw['FightStance'] = np.where(\n",
    "    ufc_raw['BlueStance'] == ufc_raw['RedStance'],\n",
    "    'Closed Stance',\n",
    "    'Open Stance'\n",
    ")"
   ]
  },
  {
   "cell_type": "code",
   "execution_count": 20,
   "id": "f4410548-7ff8-4d84-bcf9-dcbab4f53a02",
   "metadata": {},
   "outputs": [],
   "source": [
    "ufc_preview = ufc_raw[ufc_raw['FightStance'] == 'Open Stance']"
   ]
  },
  {
   "cell_type": "code",
   "execution_count": 21,
   "id": "f4a246d6-a980-413e-9f6d-d2e1795c54e7",
   "metadata": {},
   "outputs": [],
   "source": [
    "ufc_preview2 = ufc_raw[ufc_raw['FightStance'] == 'Closed Stance']"
   ]
  },
  {
   "cell_type": "code",
   "execution_count": 22,
   "id": "c6de0873-f631-4ae7-b678-6f0e4f12fc09",
   "metadata": {},
   "outputs": [
    {
     "data": {
      "text/html": [
       "<div>\n",
       "<style scoped>\n",
       "    .dataframe tbody tr th:only-of-type {\n",
       "        vertical-align: middle;\n",
       "    }\n",
       "\n",
       "    .dataframe tbody tr th {\n",
       "        vertical-align: top;\n",
       "    }\n",
       "\n",
       "    .dataframe thead th {\n",
       "        text-align: right;\n",
       "    }\n",
       "</style>\n",
       "<table border=\"1\" class=\"dataframe\">\n",
       "  <thead>\n",
       "    <tr style=\"text-align: right;\">\n",
       "      <th></th>\n",
       "      <th>FightStance</th>\n",
       "      <th>BlueStance</th>\n",
       "      <th>RedStance</th>\n",
       "    </tr>\n",
       "  </thead>\n",
       "  <tbody>\n",
       "    <tr>\n",
       "      <th>0</th>\n",
       "      <td>Open Stance</td>\n",
       "      <td>Southpaw</td>\n",
       "      <td>Orthodox</td>\n",
       "    </tr>\n",
       "    <tr>\n",
       "      <th>2</th>\n",
       "      <td>Open Stance</td>\n",
       "      <td>Orthodox</td>\n",
       "      <td>Southpaw</td>\n",
       "    </tr>\n",
       "    <tr>\n",
       "      <th>6</th>\n",
       "      <td>Open Stance</td>\n",
       "      <td>Switch</td>\n",
       "      <td>Southpaw</td>\n",
       "    </tr>\n",
       "    <tr>\n",
       "      <th>10</th>\n",
       "      <td>Open Stance</td>\n",
       "      <td>Orthodox</td>\n",
       "      <td>Southpaw</td>\n",
       "    </tr>\n",
       "    <tr>\n",
       "      <th>11</th>\n",
       "      <td>Open Stance</td>\n",
       "      <td>Southpaw</td>\n",
       "      <td>Orthodox</td>\n",
       "    </tr>\n",
       "    <tr>\n",
       "      <th>...</th>\n",
       "      <td>...</td>\n",
       "      <td>...</td>\n",
       "      <td>...</td>\n",
       "    </tr>\n",
       "    <tr>\n",
       "      <th>6524</th>\n",
       "      <td>Open Stance</td>\n",
       "      <td>Orthodox</td>\n",
       "      <td>Southpaw</td>\n",
       "    </tr>\n",
       "    <tr>\n",
       "      <th>6525</th>\n",
       "      <td>Open Stance</td>\n",
       "      <td>Orthodox</td>\n",
       "      <td>Southpaw</td>\n",
       "    </tr>\n",
       "    <tr>\n",
       "      <th>6528</th>\n",
       "      <td>Open Stance</td>\n",
       "      <td>Orthodox</td>\n",
       "      <td>Switch</td>\n",
       "    </tr>\n",
       "    <tr>\n",
       "      <th>6529</th>\n",
       "      <td>Open Stance</td>\n",
       "      <td>Orthodox</td>\n",
       "      <td>Southpaw</td>\n",
       "    </tr>\n",
       "    <tr>\n",
       "      <th>6537</th>\n",
       "      <td>Open Stance</td>\n",
       "      <td>Southpaw</td>\n",
       "      <td>Orthodox</td>\n",
       "    </tr>\n",
       "  </tbody>\n",
       "</table>\n",
       "<p>2375 rows × 3 columns</p>\n",
       "</div>"
      ],
      "text/plain": [
       "      FightStance BlueStance RedStance\n",
       "0     Open Stance   Southpaw  Orthodox\n",
       "2     Open Stance   Orthodox  Southpaw\n",
       "6     Open Stance     Switch  Southpaw\n",
       "10    Open Stance   Orthodox  Southpaw\n",
       "11    Open Stance   Southpaw  Orthodox\n",
       "...           ...        ...       ...\n",
       "6524  Open Stance   Orthodox  Southpaw\n",
       "6525  Open Stance   Orthodox  Southpaw\n",
       "6528  Open Stance   Orthodox    Switch\n",
       "6529  Open Stance   Orthodox  Southpaw\n",
       "6537  Open Stance   Southpaw  Orthodox\n",
       "\n",
       "[2375 rows x 3 columns]"
      ]
     },
     "execution_count": 22,
     "metadata": {},
     "output_type": "execute_result"
    }
   ],
   "source": [
    "ufc_preview[['FightStance', 'BlueStance', 'RedStance']]"
   ]
  },
  {
   "cell_type": "code",
   "execution_count": 23,
   "id": "258905e2-2186-40ce-a56f-da7f0e63cea3",
   "metadata": {},
   "outputs": [
    {
     "data": {
      "text/html": [
       "<div>\n",
       "<style scoped>\n",
       "    .dataframe tbody tr th:only-of-type {\n",
       "        vertical-align: middle;\n",
       "    }\n",
       "\n",
       "    .dataframe tbody tr th {\n",
       "        vertical-align: top;\n",
       "    }\n",
       "\n",
       "    .dataframe thead th {\n",
       "        text-align: right;\n",
       "    }\n",
       "</style>\n",
       "<table border=\"1\" class=\"dataframe\">\n",
       "  <thead>\n",
       "    <tr style=\"text-align: right;\">\n",
       "      <th></th>\n",
       "      <th>FightStance</th>\n",
       "      <th>BlueStance</th>\n",
       "      <th>RedStance</th>\n",
       "    </tr>\n",
       "  </thead>\n",
       "  <tbody>\n",
       "    <tr>\n",
       "      <th>1</th>\n",
       "      <td>Closed Stance</td>\n",
       "      <td>Orthodox</td>\n",
       "      <td>Orthodox</td>\n",
       "    </tr>\n",
       "    <tr>\n",
       "      <th>3</th>\n",
       "      <td>Closed Stance</td>\n",
       "      <td>Orthodox</td>\n",
       "      <td>Orthodox</td>\n",
       "    </tr>\n",
       "    <tr>\n",
       "      <th>4</th>\n",
       "      <td>Closed Stance</td>\n",
       "      <td>Orthodox</td>\n",
       "      <td>Orthodox</td>\n",
       "    </tr>\n",
       "    <tr>\n",
       "      <th>5</th>\n",
       "      <td>Closed Stance</td>\n",
       "      <td>Orthodox</td>\n",
       "      <td>Orthodox</td>\n",
       "    </tr>\n",
       "    <tr>\n",
       "      <th>7</th>\n",
       "      <td>Closed Stance</td>\n",
       "      <td>Orthodox</td>\n",
       "      <td>Orthodox</td>\n",
       "    </tr>\n",
       "    <tr>\n",
       "      <th>...</th>\n",
       "      <td>...</td>\n",
       "      <td>...</td>\n",
       "      <td>...</td>\n",
       "    </tr>\n",
       "    <tr>\n",
       "      <th>6535</th>\n",
       "      <td>Closed Stance</td>\n",
       "      <td>Orthodox</td>\n",
       "      <td>Orthodox</td>\n",
       "    </tr>\n",
       "    <tr>\n",
       "      <th>6536</th>\n",
       "      <td>Closed Stance</td>\n",
       "      <td>Orthodox</td>\n",
       "      <td>Orthodox</td>\n",
       "    </tr>\n",
       "    <tr>\n",
       "      <th>6538</th>\n",
       "      <td>Closed Stance</td>\n",
       "      <td>Orthodox</td>\n",
       "      <td>Orthodox</td>\n",
       "    </tr>\n",
       "    <tr>\n",
       "      <th>6539</th>\n",
       "      <td>Closed Stance</td>\n",
       "      <td>Orthodox</td>\n",
       "      <td>Orthodox</td>\n",
       "    </tr>\n",
       "    <tr>\n",
       "      <th>6540</th>\n",
       "      <td>Closed Stance</td>\n",
       "      <td>Orthodox</td>\n",
       "      <td>Orthodox</td>\n",
       "    </tr>\n",
       "  </tbody>\n",
       "</table>\n",
       "<p>3682 rows × 3 columns</p>\n",
       "</div>"
      ],
      "text/plain": [
       "        FightStance BlueStance RedStance\n",
       "1     Closed Stance   Orthodox  Orthodox\n",
       "3     Closed Stance   Orthodox  Orthodox\n",
       "4     Closed Stance   Orthodox  Orthodox\n",
       "5     Closed Stance   Orthodox  Orthodox\n",
       "7     Closed Stance   Orthodox  Orthodox\n",
       "...             ...        ...       ...\n",
       "6535  Closed Stance   Orthodox  Orthodox\n",
       "6536  Closed Stance   Orthodox  Orthodox\n",
       "6538  Closed Stance   Orthodox  Orthodox\n",
       "6539  Closed Stance   Orthodox  Orthodox\n",
       "6540  Closed Stance   Orthodox  Orthodox\n",
       "\n",
       "[3682 rows x 3 columns]"
      ]
     },
     "execution_count": 23,
     "metadata": {},
     "output_type": "execute_result"
    }
   ],
   "source": [
    "ufc_preview2[['FightStance', 'BlueStance', 'RedStance']]"
   ]
  },
  {
   "cell_type": "markdown",
   "id": "1214d99e-d53e-4045-b545-194835f5fa03",
   "metadata": {},
   "source": [
    "<div style=\"text-align: center;\">\n",
    "  🔹 <img src=\"../img/ufc_logo.png\" width=\"50\" /> 🔹\n",
    "</div>"
   ]
  },
  {
   "cell_type": "markdown",
   "id": "20079d49-14de-43f1-8ea3-e0100c84b641",
   "metadata": {},
   "source": [
    "# Check Clean Data"
   ]
  },
  {
   "cell_type": "code",
   "execution_count": 24,
   "id": "5158e2e2-53f6-41e7-aa80-93ab31021d81",
   "metadata": {},
   "outputs": [
    {
     "data": {
      "text/html": [
       "<pre style=\"white-space:pre;overflow-x:auto;line-height:normal;font-family:Menlo,'DejaVu Sans Mono',consolas,'Courier New',monospace\">\n",
       "Null values per column:\n",
       " <span style=\"color: #800080; text-decoration-color: #800080; font-weight: bold\">Series</span><span style=\"font-weight: bold\">([]</span>, dtype: int64<span style=\"font-weight: bold\">)</span>\n",
       "</pre>\n"
      ],
      "text/plain": [
       "\n",
       "Null values per column:\n",
       " \u001b[1;35mSeries\u001b[0m\u001b[1m(\u001b[0m\u001b[1m[\u001b[0m\u001b[1m]\u001b[0m, dtype: int64\u001b[1m)\u001b[0m\n"
      ]
     },
     "metadata": {},
     "output_type": "display_data"
    },
    {
     "data": {
      "text/html": [
       "<pre style=\"white-space:pre;overflow-x:auto;line-height:normal;font-family:Menlo,'DejaVu Sans Mono',consolas,'Courier New',monospace\">\n",
       "Duplicate rows: <span style=\"color: #008080; text-decoration-color: #008080; font-weight: bold\">0</span>\n",
       "</pre>\n"
      ],
      "text/plain": [
       "\n",
       "Duplicate rows: \u001b[1;36m0\u001b[0m\n"
      ]
     },
     "metadata": {},
     "output_type": "display_data"
    }
   ],
   "source": [
    "# Null values check\n",
    "nulls = ufc_raw.isnull().sum()\n",
    "print(\"\\nNull values per column:\\n\", nulls[nulls > 0])\n",
    "\n",
    "# Duplicate analysis\n",
    "duplicates = ufc_raw.duplicated().sum()\n",
    "print(f\"\\nDuplicate rows: {duplicates}\")"
   ]
  },
  {
   "cell_type": "code",
   "execution_count": 25,
   "id": "6dbf9252-bbd5-40a7-9789-3ca15bbab161",
   "metadata": {},
   "outputs": [
    {
     "data": {
      "text/html": [
       "<div>\n",
       "<style scoped>\n",
       "    .dataframe tbody tr th:only-of-type {\n",
       "        vertical-align: middle;\n",
       "    }\n",
       "\n",
       "    .dataframe tbody tr th {\n",
       "        vertical-align: top;\n",
       "    }\n",
       "\n",
       "    .dataframe thead th {\n",
       "        text-align: right;\n",
       "    }\n",
       "</style>\n",
       "<table border=\"1\" class=\"dataframe\">\n",
       "  <thead>\n",
       "    <tr style=\"text-align: right;\">\n",
       "      <th></th>\n",
       "      <th>RedFighter</th>\n",
       "      <th>BlueFighter</th>\n",
       "      <th>RedOdds</th>\n",
       "      <th>BlueOdds</th>\n",
       "      <th>RedExpectedValue</th>\n",
       "      <th>BlueExpectedValue</th>\n",
       "      <th>Date</th>\n",
       "      <th>Location</th>\n",
       "      <th>Country</th>\n",
       "      <th>Winner</th>\n",
       "      <th>...</th>\n",
       "      <th>SubDif</th>\n",
       "      <th>HeightDif</th>\n",
       "      <th>ReachDif</th>\n",
       "      <th>AgeDif</th>\n",
       "      <th>SigStrDif</th>\n",
       "      <th>AvgSubAttDif</th>\n",
       "      <th>AvgTDDif</th>\n",
       "      <th>BetterRank</th>\n",
       "      <th>Finish</th>\n",
       "      <th>FightStance</th>\n",
       "    </tr>\n",
       "  </thead>\n",
       "  <tbody>\n",
       "    <tr>\n",
       "      <th>0</th>\n",
       "      <td>Colby Covington</td>\n",
       "      <td>Joaquin Buckley</td>\n",
       "      <td>205.0</td>\n",
       "      <td>-250.0</td>\n",
       "      <td>205.0000</td>\n",
       "      <td>40.0000</td>\n",
       "      <td>2024-12-14</td>\n",
       "      <td>Tampa, Florida, USA</td>\n",
       "      <td>USA</td>\n",
       "      <td>Blue</td>\n",
       "      <td>...</td>\n",
       "      <td>-2</td>\n",
       "      <td>-2.54</td>\n",
       "      <td>10.16</td>\n",
       "      <td>-6</td>\n",
       "      <td>0.25</td>\n",
       "      <td>-0.2</td>\n",
       "      <td>-1.83</td>\n",
       "      <td>Red</td>\n",
       "      <td>KO/TKO</td>\n",
       "      <td>Open Stance</td>\n",
       "    </tr>\n",
       "    <tr>\n",
       "      <th>1</th>\n",
       "      <td>Cub Swanson</td>\n",
       "      <td>Billy Quarantillo</td>\n",
       "      <td>124.0</td>\n",
       "      <td>-148.0</td>\n",
       "      <td>124.0000</td>\n",
       "      <td>67.5676</td>\n",
       "      <td>2024-12-14</td>\n",
       "      <td>Tampa, Florida, USA</td>\n",
       "      <td>USA</td>\n",
       "      <td>Red</td>\n",
       "      <td>...</td>\n",
       "      <td>-1</td>\n",
       "      <td>5.08</td>\n",
       "      <td>0.00</td>\n",
       "      <td>-5</td>\n",
       "      <td>2.69</td>\n",
       "      <td>0.7</td>\n",
       "      <td>0.20</td>\n",
       "      <td>neither</td>\n",
       "      <td>KO/TKO</td>\n",
       "      <td>Closed Stance</td>\n",
       "    </tr>\n",
       "    <tr>\n",
       "      <th>2</th>\n",
       "      <td>Manel Kape</td>\n",
       "      <td>Bruno Silva</td>\n",
       "      <td>-395.0</td>\n",
       "      <td>310.0</td>\n",
       "      <td>25.3165</td>\n",
       "      <td>310.0000</td>\n",
       "      <td>2024-12-14</td>\n",
       "      <td>Tampa, Florida, USA</td>\n",
       "      <td>USA</td>\n",
       "      <td>Red</td>\n",
       "      <td>...</td>\n",
       "      <td>1</td>\n",
       "      <td>-2.54</td>\n",
       "      <td>-7.62</td>\n",
       "      <td>3</td>\n",
       "      <td>-1.12</td>\n",
       "      <td>-0.2</td>\n",
       "      <td>1.72</td>\n",
       "      <td>Red</td>\n",
       "      <td>KO/TKO</td>\n",
       "      <td>Open Stance</td>\n",
       "    </tr>\n",
       "    <tr>\n",
       "      <th>3</th>\n",
       "      <td>Vitor Petrino</td>\n",
       "      <td>Dustin Jacoby</td>\n",
       "      <td>-340.0</td>\n",
       "      <td>270.0</td>\n",
       "      <td>29.4118</td>\n",
       "      <td>270.0000</td>\n",
       "      <td>2024-12-14</td>\n",
       "      <td>Tampa, Florida, USA</td>\n",
       "      <td>USA</td>\n",
       "      <td>Blue</td>\n",
       "      <td>...</td>\n",
       "      <td>-1</td>\n",
       "      <td>2.54</td>\n",
       "      <td>-2.54</td>\n",
       "      <td>9</td>\n",
       "      <td>2.68</td>\n",
       "      <td>-0.8</td>\n",
       "      <td>-3.62</td>\n",
       "      <td>neither</td>\n",
       "      <td>KO/TKO</td>\n",
       "      <td>Closed Stance</td>\n",
       "    </tr>\n",
       "    <tr>\n",
       "      <th>4</th>\n",
       "      <td>Adrian Yanez</td>\n",
       "      <td>Daniel Marcos</td>\n",
       "      <td>185.0</td>\n",
       "      <td>-225.0</td>\n",
       "      <td>185.0000</td>\n",
       "      <td>44.4444</td>\n",
       "      <td>2024-12-14</td>\n",
       "      <td>Tampa, Florida, USA</td>\n",
       "      <td>USA</td>\n",
       "      <td>Blue</td>\n",
       "      <td>...</td>\n",
       "      <td>0</td>\n",
       "      <td>0.00</td>\n",
       "      <td>-2.54</td>\n",
       "      <td>0</td>\n",
       "      <td>-0.57</td>\n",
       "      <td>0.0</td>\n",
       "      <td>0.25</td>\n",
       "      <td>neither</td>\n",
       "      <td>S-DEC</td>\n",
       "      <td>Closed Stance</td>\n",
       "    </tr>\n",
       "  </tbody>\n",
       "</table>\n",
       "<p>5 rows × 70 columns</p>\n",
       "</div>"
      ],
      "text/plain": [
       "        RedFighter        BlueFighter  RedOdds  BlueOdds  RedExpectedValue  \\\n",
       "0  Colby Covington    Joaquin Buckley    205.0    -250.0          205.0000   \n",
       "1      Cub Swanson  Billy Quarantillo    124.0    -148.0          124.0000   \n",
       "2       Manel Kape        Bruno Silva   -395.0     310.0           25.3165   \n",
       "3    Vitor Petrino      Dustin Jacoby   -340.0     270.0           29.4118   \n",
       "4     Adrian Yanez      Daniel Marcos    185.0    -225.0          185.0000   \n",
       "\n",
       "   BlueExpectedValue        Date             Location Country Winner  ...  \\\n",
       "0            40.0000  2024-12-14  Tampa, Florida, USA     USA   Blue  ...   \n",
       "1            67.5676  2024-12-14  Tampa, Florida, USA     USA    Red  ...   \n",
       "2           310.0000  2024-12-14  Tampa, Florida, USA     USA    Red  ...   \n",
       "3           270.0000  2024-12-14  Tampa, Florida, USA     USA   Blue  ...   \n",
       "4            44.4444  2024-12-14  Tampa, Florida, USA     USA   Blue  ...   \n",
       "\n",
       "   SubDif HeightDif ReachDif  AgeDif  SigStrDif  AvgSubAttDif  AvgTDDif  \\\n",
       "0      -2     -2.54    10.16      -6       0.25          -0.2     -1.83   \n",
       "1      -1      5.08     0.00      -5       2.69           0.7      0.20   \n",
       "2       1     -2.54    -7.62       3      -1.12          -0.2      1.72   \n",
       "3      -1      2.54    -2.54       9       2.68          -0.8     -3.62   \n",
       "4       0      0.00    -2.54       0      -0.57           0.0      0.25   \n",
       "\n",
       "   BetterRank  Finish    FightStance  \n",
       "0         Red  KO/TKO    Open Stance  \n",
       "1     neither  KO/TKO  Closed Stance  \n",
       "2         Red  KO/TKO    Open Stance  \n",
       "3     neither  KO/TKO  Closed Stance  \n",
       "4     neither   S-DEC  Closed Stance  \n",
       "\n",
       "[5 rows x 70 columns]"
      ]
     },
     "metadata": {},
     "output_type": "display_data"
    },
    {
     "data": {
      "text/plain": [
       "Index(['RedFighter', 'BlueFighter', 'RedOdds', 'BlueOdds', 'RedExpectedValue',\n",
       "       'BlueExpectedValue', 'Date', 'Location', 'Country', 'Winner',\n",
       "       'TitleBout', 'WeightClass', 'Gender', 'NumberOfRounds',\n",
       "       'BlueCurrentLoseStreak', 'BlueCurrentWinStreak', 'BlueDraws',\n",
       "       'BlueLongestWinStreak', 'BlueLosses', 'BlueTotalRoundsFought',\n",
       "       'BlueTotalTitleBouts', 'BlueWinsByDecisionMajority',\n",
       "       'BlueWinsByDecisionSplit', 'BlueWinsByDecisionUnanimous',\n",
       "       'BlueWinsByKO', 'BlueWinsBySubmission', 'BlueWinsByTKODoctorStoppage',\n",
       "       'BlueWins', 'BlueStance', 'BlueHeightCms', 'BlueReachCms',\n",
       "       'BlueWeightLbs', 'RedCurrentLoseStreak', 'RedCurrentWinStreak',\n",
       "       'RedDraws', 'RedLongestWinStreak', 'RedLosses', 'RedTotalRoundsFought',\n",
       "       'RedTotalTitleBouts', 'RedWinsByDecisionMajority',\n",
       "       'RedWinsByDecisionSplit', 'RedWinsByDecisionUnanimous', 'RedWinsByKO',\n",
       "       'RedWinsBySubmission', 'RedWinsByTKODoctorStoppage', 'RedWins',\n",
       "       'RedStance', 'RedHeightCms', 'RedReachCms', 'RedWeightLbs', 'RedAge',\n",
       "       'BlueAge', 'LoseStreakDif', 'WinStreakDif', 'LongestWinStreakDif',\n",
       "       'WinDif', 'LossDif', 'TotalRoundDif', 'TotalTitleBoutDif', 'KODif',\n",
       "       'SubDif', 'HeightDif', 'ReachDif', 'AgeDif', 'SigStrDif',\n",
       "       'AvgSubAttDif', 'AvgTDDif', 'BetterRank', 'Finish', 'FightStance'],\n",
       "      dtype='object')"
      ]
     },
     "metadata": {},
     "output_type": "display_data"
    },
    {
     "data": {
      "text/plain": [
       "RedFighter           object\n",
       "BlueFighter          object\n",
       "RedOdds             float64\n",
       "BlueOdds            float64\n",
       "RedExpectedValue    float64\n",
       "                     ...   \n",
       "AvgSubAttDif        float64\n",
       "AvgTDDif            float64\n",
       "BetterRank           object\n",
       "Finish               object\n",
       "FightStance          object\n",
       "Length: 70, dtype: object"
      ]
     },
     "metadata": {},
     "output_type": "display_data"
    }
   ],
   "source": [
    "# Preview the first few records\n",
    "display(ufc_raw.head())\n",
    "display(ufc_raw.columns)\n",
    "# Para ver los tipos de dato de cada columna:\n",
    "display(ufc_raw.dtypes)"
   ]
  },
  {
   "cell_type": "markdown",
   "id": "ebd4997c-33ab-467f-b3f7-a00e680a36ee",
   "metadata": {},
   "source": [
    "# Create the target value: **0** (Fighter Red wins) or **1** (Fighter Blue wins)"
   ]
  },
  {
   "cell_type": "code",
   "execution_count": 26,
   "id": "a2a890e7-c4bd-4513-8147-b53ac4957874",
   "metadata": {},
   "outputs": [],
   "source": [
    "ufc_raw['label'] = ufc_raw['Winner'].apply(lambda x: 1 if x == 'Blue' else 0)\n",
    "ufc_raw=ufc_raw.drop('Winner', axis=1)\n",
    "\n",
    "ufc_deploy['label'] = ufc_deploy['Winner'].apply(lambda x: 1 if x == 'Blue' else 0)\n",
    "ufc_deploy=ufc_deploy.drop('Winner', axis=1)"
   ]
  },
  {
   "cell_type": "markdown",
   "id": "9dd4fe0b-661e-482b-abd1-a05d82f3ead8",
   "metadata": {},
   "source": [
    "# Save"
   ]
  },
  {
   "cell_type": "code",
   "execution_count": 27,
   "id": "5c48b56a-dc41-4d01-b273-c429fdac3cc1",
   "metadata": {},
   "outputs": [
    {
     "name": "stderr",
     "output_type": "stream",
     "text": [
      "[INFO] ✅ ETL file saved as 'ufc_etl.csv'.\n"
     ]
    }
   ],
   "source": [
    "# Save the cleaned file\n",
    "ufc_raw.to_csv(f'{project_root}/data/processed/ufc_etl.csv', index=False)\n",
    "logger.info(\"✅ ETL file saved as 'ufc_etl.csv'.\")"
   ]
  },
  {
   "cell_type": "code",
   "execution_count": 28,
   "id": "43c005c9-9950-41a2-a8e2-502677afb48f",
   "metadata": {},
   "outputs": [
    {
     "name": "stderr",
     "output_type": "stream",
     "text": [
      "[INFO] ✅ Deploy file saved as 'ufc_deploy.csv'.\n"
     ]
    }
   ],
   "source": [
    "# Save the cleaned file\n",
    "ufc_deploy.to_csv(f'{project_root}/data/processed/ufc_deploy.csv', index=False)\n",
    "logger.info(\"✅ Deploy file saved as 'ufc_deploy.csv'.\")"
   ]
  },
  {
   "cell_type": "markdown",
   "id": "02cc2ae5-83e3-42ab-8416-512ea993ee46",
   "metadata": {},
   "source": [
    "# Create column from Dates and Fighter names for the Dataset"
   ]
  },
  {
   "cell_type": "markdown",
   "id": "d6c21a4d-eb41-4702-ae05-71c568fd16cf",
   "metadata": {},
   "source": [
    "# Load Data"
   ]
  },
  {
   "cell_type": "code",
   "execution_count": 29,
   "id": "f59c2bf8-b261-48ef-ba9e-76aca80b0c8a",
   "metadata": {},
   "outputs": [
    {
     "name": "stderr",
     "output_type": "stream",
     "text": [
      "[INFO] ✅ Data successfully loaded: 6541 rows, 118 columns.\n"
     ]
    }
   ],
   "source": [
    "# Define the path to the CSV file\n",
    "file_path = os.path.join(project_root, 'data', 'raw', 'ufc_raw.csv')\n",
    "\n",
    "# Load the CSV into a DataFrame\n",
    "try:\n",
    "    ufc_raw = pd.read_csv(file_path)\n",
    "    logger.info(f\"✅ Data successfully loaded: {ufc_raw.shape[0]} rows, {ufc_raw.shape[1]} columns.\")\n",
    "except Exception as e:\n",
    "    logger.error(f\"❌ Error loading training data: {e}\")"
   ]
  },
  {
   "cell_type": "markdown",
   "id": "b07648c3-a278-4e82-854f-deadb03d66ec",
   "metadata": {},
   "source": [
    "## Transform Date to datetime64"
   ]
  },
  {
   "cell_type": "code",
   "execution_count": 30,
   "id": "7c6ebfb2-3373-44cd-9283-67519b70ba90",
   "metadata": {},
   "outputs": [
    {
     "data": {
      "text/plain": [
       "0       2024-12-14\n",
       "1       2024-12-14\n",
       "2       2024-12-14\n",
       "3       2024-12-14\n",
       "4       2024-12-14\n",
       "           ...    \n",
       "6536    2010-03-21\n",
       "6537    2010-03-21\n",
       "6538    2010-03-21\n",
       "6539    2010-03-21\n",
       "6540    2010-03-21\n",
       "Name: Date, Length: 6541, dtype: object"
      ]
     },
     "execution_count": 30,
     "metadata": {},
     "output_type": "execute_result"
    }
   ],
   "source": [
    "ufc_raw['Date']"
   ]
  },
  {
   "cell_type": "code",
   "execution_count": 31,
   "id": "0a99e98f-e595-4862-b4de-87c0b8a798e6",
   "metadata": {},
   "outputs": [],
   "source": [
    "ufc_raw['Date'] = pd.to_datetime(ufc_raw['Date'], errors='coerce')"
   ]
  },
  {
   "cell_type": "code",
   "execution_count": 32,
   "id": "b26146df-b41a-43fb-a88e-56bc8df9362f",
   "metadata": {},
   "outputs": [
    {
     "data": {
      "text/html": [
       "<pre style=\"white-space:pre;overflow-x:auto;line-height:normal;font-family:Menlo,'DejaVu Sans Mono',consolas,'Courier New',monospace\"> ✅ Conversion completed. Invalid dates: <span style=\"color: #008080; text-decoration-color: #008080; font-weight: bold\">0</span>\n",
       "</pre>\n"
      ],
      "text/plain": [
       " ✅ Conversion completed. Invalid dates: \u001b[1;36m0\u001b[0m\n"
      ]
     },
     "metadata": {},
     "output_type": "display_data"
    }
   ],
   "source": [
    "n_invalid = ufc_raw['Date'].isna().sum()\n",
    "print(f\" ✅ Conversion completed. Invalid dates: {n_invalid}\")"
   ]
  },
  {
   "cell_type": "code",
   "execution_count": 33,
   "id": "048e67d2-62b9-4f25-a449-2ab0e7015a02",
   "metadata": {},
   "outputs": [
    {
     "data": {
      "text/plain": [
       "0      2024-12-14\n",
       "1      2024-12-14\n",
       "2      2024-12-14\n",
       "3      2024-12-14\n",
       "4      2024-12-14\n",
       "          ...    \n",
       "6536   2010-03-21\n",
       "6537   2010-03-21\n",
       "6538   2010-03-21\n",
       "6539   2010-03-21\n",
       "6540   2010-03-21\n",
       "Name: Date, Length: 6541, dtype: datetime64[ns]"
      ]
     },
     "execution_count": 33,
     "metadata": {},
     "output_type": "execute_result"
    }
   ],
   "source": [
    "ufc_raw['Date']"
   ]
  },
  {
   "cell_type": "code",
   "execution_count": 34,
   "id": "7ab3f1cd-e989-499e-bde5-0df31dda9b37",
   "metadata": {},
   "outputs": [],
   "source": [
    "# Ordenar por fecha ascendente\n",
    "ufc_raw = ufc_raw.sort_values(by='Date').reset_index(drop=True)"
   ]
  },
  {
   "cell_type": "code",
   "execution_count": 35,
   "id": "044c8006-8f81-4363-81fe-418e9c32b1ff",
   "metadata": {},
   "outputs": [
    {
     "data": {
      "text/plain": [
       "0      2010-03-21\n",
       "1      2010-03-21\n",
       "2      2010-03-21\n",
       "3      2010-03-21\n",
       "4      2010-03-21\n",
       "          ...    \n",
       "6536   2024-12-14\n",
       "6537   2024-12-14\n",
       "6538   2024-12-14\n",
       "6539   2024-12-14\n",
       "6540   2024-12-14\n",
       "Name: Date, Length: 6541, dtype: datetime64[ns]"
      ]
     },
     "execution_count": 35,
     "metadata": {},
     "output_type": "execute_result"
    }
   ],
   "source": [
    "ufc_raw['Date']"
   ]
  },
  {
   "cell_type": "code",
   "execution_count": 36,
   "id": "f3dc0631-5cdf-41aa-ab65-5d793554a90f",
   "metadata": {},
   "outputs": [
    {
     "data": {
      "text/html": [
       "<div>\n",
       "<style scoped>\n",
       "    .dataframe tbody tr th:only-of-type {\n",
       "        vertical-align: middle;\n",
       "    }\n",
       "\n",
       "    .dataframe tbody tr th {\n",
       "        vertical-align: top;\n",
       "    }\n",
       "\n",
       "    .dataframe thead th {\n",
       "        text-align: right;\n",
       "    }\n",
       "</style>\n",
       "<table border=\"1\" class=\"dataframe\">\n",
       "  <thead>\n",
       "    <tr style=\"text-align: right;\">\n",
       "      <th></th>\n",
       "      <th>RedFighter</th>\n",
       "      <th>BlueFighter</th>\n",
       "      <th>RedOdds</th>\n",
       "      <th>BlueOdds</th>\n",
       "      <th>RedExpectedValue</th>\n",
       "      <th>BlueExpectedValue</th>\n",
       "      <th>Date</th>\n",
       "      <th>Location</th>\n",
       "      <th>Country</th>\n",
       "      <th>Winner</th>\n",
       "      <th>...</th>\n",
       "      <th>FinishDetails</th>\n",
       "      <th>FinishRound</th>\n",
       "      <th>FinishRoundTime</th>\n",
       "      <th>TotalFightTimeSecs</th>\n",
       "      <th>RedDecOdds</th>\n",
       "      <th>BlueDecOdds</th>\n",
       "      <th>RSubOdds</th>\n",
       "      <th>BSubOdds</th>\n",
       "      <th>RKOOdds</th>\n",
       "      <th>BKOOdds</th>\n",
       "    </tr>\n",
       "  </thead>\n",
       "  <tbody>\n",
       "    <tr>\n",
       "      <th>0</th>\n",
       "      <td>Eric Schafer</td>\n",
       "      <td>Jason Brilz</td>\n",
       "      <td>140.0</td>\n",
       "      <td>-160.0</td>\n",
       "      <td>140.0000</td>\n",
       "      <td>62.5000</td>\n",
       "      <td>2010-03-21</td>\n",
       "      <td>Broomfield, Colorado, USA</td>\n",
       "      <td>USA</td>\n",
       "      <td>Blue</td>\n",
       "      <td>...</td>\n",
       "      <td>NaN</td>\n",
       "      <td>3.0</td>\n",
       "      <td>5:00</td>\n",
       "      <td>900.0</td>\n",
       "      <td>NaN</td>\n",
       "      <td>NaN</td>\n",
       "      <td>NaN</td>\n",
       "      <td>NaN</td>\n",
       "      <td>NaN</td>\n",
       "      <td>NaN</td>\n",
       "    </tr>\n",
       "    <tr>\n",
       "      <th>1</th>\n",
       "      <td>Brandon Vera</td>\n",
       "      <td>Jon Jones</td>\n",
       "      <td>215.0</td>\n",
       "      <td>-235.0</td>\n",
       "      <td>215.0000</td>\n",
       "      <td>42.5532</td>\n",
       "      <td>2010-03-21</td>\n",
       "      <td>Broomfield, Colorado, USA</td>\n",
       "      <td>USA</td>\n",
       "      <td>Blue</td>\n",
       "      <td>...</td>\n",
       "      <td>Elbow</td>\n",
       "      <td>1.0</td>\n",
       "      <td>3:19</td>\n",
       "      <td>199.0</td>\n",
       "      <td>NaN</td>\n",
       "      <td>NaN</td>\n",
       "      <td>NaN</td>\n",
       "      <td>NaN</td>\n",
       "      <td>NaN</td>\n",
       "      <td>NaN</td>\n",
       "    </tr>\n",
       "    <tr>\n",
       "      <th>2</th>\n",
       "      <td>Junior Dos Santos</td>\n",
       "      <td>Gabriel Gonzaga</td>\n",
       "      <td>-250.0</td>\n",
       "      <td>230.0</td>\n",
       "      <td>40.0000</td>\n",
       "      <td>230.0000</td>\n",
       "      <td>2010-03-21</td>\n",
       "      <td>Broomfield, Colorado, USA</td>\n",
       "      <td>USA</td>\n",
       "      <td>Red</td>\n",
       "      <td>...</td>\n",
       "      <td>Punches</td>\n",
       "      <td>1.0</td>\n",
       "      <td>3:53</td>\n",
       "      <td>233.0</td>\n",
       "      <td>NaN</td>\n",
       "      <td>NaN</td>\n",
       "      <td>NaN</td>\n",
       "      <td>NaN</td>\n",
       "      <td>NaN</td>\n",
       "      <td>NaN</td>\n",
       "    </tr>\n",
       "    <tr>\n",
       "      <th>3</th>\n",
       "      <td>Cheick Kongo</td>\n",
       "      <td>Paul Buentello</td>\n",
       "      <td>-345.0</td>\n",
       "      <td>315.0</td>\n",
       "      <td>28.9855</td>\n",
       "      <td>315.0000</td>\n",
       "      <td>2010-03-21</td>\n",
       "      <td>Broomfield, Colorado, USA</td>\n",
       "      <td>USA</td>\n",
       "      <td>Red</td>\n",
       "      <td>...</td>\n",
       "      <td>Elbows</td>\n",
       "      <td>3.0</td>\n",
       "      <td>1:16</td>\n",
       "      <td>676.0</td>\n",
       "      <td>NaN</td>\n",
       "      <td>NaN</td>\n",
       "      <td>NaN</td>\n",
       "      <td>NaN</td>\n",
       "      <td>NaN</td>\n",
       "      <td>NaN</td>\n",
       "    </tr>\n",
       "    <tr>\n",
       "      <th>4</th>\n",
       "      <td>Alessio Sakara</td>\n",
       "      <td>James Irvin</td>\n",
       "      <td>-120.0</td>\n",
       "      <td>100.0</td>\n",
       "      <td>83.3333</td>\n",
       "      <td>100.0000</td>\n",
       "      <td>2010-03-21</td>\n",
       "      <td>Broomfield, Colorado, USA</td>\n",
       "      <td>USA</td>\n",
       "      <td>Red</td>\n",
       "      <td>...</td>\n",
       "      <td>NaN</td>\n",
       "      <td>1.0</td>\n",
       "      <td>3:01</td>\n",
       "      <td>181.0</td>\n",
       "      <td>NaN</td>\n",
       "      <td>NaN</td>\n",
       "      <td>NaN</td>\n",
       "      <td>NaN</td>\n",
       "      <td>NaN</td>\n",
       "      <td>NaN</td>\n",
       "    </tr>\n",
       "    <tr>\n",
       "      <th>...</th>\n",
       "      <td>...</td>\n",
       "      <td>...</td>\n",
       "      <td>...</td>\n",
       "      <td>...</td>\n",
       "      <td>...</td>\n",
       "      <td>...</td>\n",
       "      <td>...</td>\n",
       "      <td>...</td>\n",
       "      <td>...</td>\n",
       "      <td>...</td>\n",
       "      <td>...</td>\n",
       "      <td>...</td>\n",
       "      <td>...</td>\n",
       "      <td>...</td>\n",
       "      <td>...</td>\n",
       "      <td>...</td>\n",
       "      <td>...</td>\n",
       "      <td>...</td>\n",
       "      <td>...</td>\n",
       "      <td>...</td>\n",
       "      <td>...</td>\n",
       "    </tr>\n",
       "    <tr>\n",
       "      <th>6536</th>\n",
       "      <td>Miranda Maverick</td>\n",
       "      <td>Jamey-Lyn Horth</td>\n",
       "      <td>-625.0</td>\n",
       "      <td>455.0</td>\n",
       "      <td>16.0000</td>\n",
       "      <td>455.0000</td>\n",
       "      <td>2024-12-14</td>\n",
       "      <td>Tampa, Florida, USA</td>\n",
       "      <td>USA</td>\n",
       "      <td>Red</td>\n",
       "      <td>...</td>\n",
       "      <td>NaN</td>\n",
       "      <td>3.0</td>\n",
       "      <td>5:00</td>\n",
       "      <td>900.0</td>\n",
       "      <td>-295.0</td>\n",
       "      <td>650.0</td>\n",
       "      <td>500.0</td>\n",
       "      <td>2500.0</td>\n",
       "      <td>1400.0</td>\n",
       "      <td>2200.0</td>\n",
       "    </tr>\n",
       "    <tr>\n",
       "      <th>6537</th>\n",
       "      <td>Davey Grant</td>\n",
       "      <td>Ramon Taveras</td>\n",
       "      <td>-122.0</td>\n",
       "      <td>102.0</td>\n",
       "      <td>81.9672</td>\n",
       "      <td>102.0000</td>\n",
       "      <td>2024-12-14</td>\n",
       "      <td>Tampa, Florida, USA</td>\n",
       "      <td>USA</td>\n",
       "      <td>Red</td>\n",
       "      <td>...</td>\n",
       "      <td>NaN</td>\n",
       "      <td>3.0</td>\n",
       "      <td>5:00</td>\n",
       "      <td>900.0</td>\n",
       "      <td>225.0</td>\n",
       "      <td>350.0</td>\n",
       "      <td>750.0</td>\n",
       "      <td>800.0</td>\n",
       "      <td>350.0</td>\n",
       "      <td>300.0</td>\n",
       "    </tr>\n",
       "    <tr>\n",
       "      <th>6538</th>\n",
       "      <td>Josefine Knutsson</td>\n",
       "      <td>Piera Rodriguez</td>\n",
       "      <td>-245.0</td>\n",
       "      <td>200.0</td>\n",
       "      <td>40.8163</td>\n",
       "      <td>200.0000</td>\n",
       "      <td>2024-12-14</td>\n",
       "      <td>Tampa, Florida, USA</td>\n",
       "      <td>USA</td>\n",
       "      <td>Blue</td>\n",
       "      <td>...</td>\n",
       "      <td>NaN</td>\n",
       "      <td>3.0</td>\n",
       "      <td>5:00</td>\n",
       "      <td>900.0</td>\n",
       "      <td>-175.0</td>\n",
       "      <td>300.0</td>\n",
       "      <td>1800.0</td>\n",
       "      <td>1400.0</td>\n",
       "      <td>800.0</td>\n",
       "      <td>1200.0</td>\n",
       "    </tr>\n",
       "    <tr>\n",
       "      <th>6539</th>\n",
       "      <td>Michael Johnson</td>\n",
       "      <td>Ottman Azaitar</td>\n",
       "      <td>-230.0</td>\n",
       "      <td>190.0</td>\n",
       "      <td>43.4783</td>\n",
       "      <td>190.0000</td>\n",
       "      <td>2024-12-14</td>\n",
       "      <td>Tampa, Florida, USA</td>\n",
       "      <td>USA</td>\n",
       "      <td>Red</td>\n",
       "      <td>...</td>\n",
       "      <td>Punch</td>\n",
       "      <td>2.0</td>\n",
       "      <td>2:03</td>\n",
       "      <td>423.0</td>\n",
       "      <td>300.0</td>\n",
       "      <td>650.0</td>\n",
       "      <td>1000.0</td>\n",
       "      <td>2500.0</td>\n",
       "      <td>120.0</td>\n",
       "      <td>350.0</td>\n",
       "    </tr>\n",
       "    <tr>\n",
       "      <th>6540</th>\n",
       "      <td>Colby Covington</td>\n",
       "      <td>Joaquin Buckley</td>\n",
       "      <td>205.0</td>\n",
       "      <td>-250.0</td>\n",
       "      <td>205.0000</td>\n",
       "      <td>40.0000</td>\n",
       "      <td>2024-12-14</td>\n",
       "      <td>Tampa, Florida, USA</td>\n",
       "      <td>USA</td>\n",
       "      <td>Blue</td>\n",
       "      <td>...</td>\n",
       "      <td>NaN</td>\n",
       "      <td>3.0</td>\n",
       "      <td>4:42</td>\n",
       "      <td>882.0</td>\n",
       "      <td>300.0</td>\n",
       "      <td>175.0</td>\n",
       "      <td>1800.0</td>\n",
       "      <td>2000.0</td>\n",
       "      <td>1100.0</td>\n",
       "      <td>150.0</td>\n",
       "    </tr>\n",
       "  </tbody>\n",
       "</table>\n",
       "<p>6541 rows × 118 columns</p>\n",
       "</div>"
      ],
      "text/plain": [
       "             RedFighter      BlueFighter  RedOdds  BlueOdds  RedExpectedValue  \\\n",
       "0          Eric Schafer      Jason Brilz    140.0    -160.0          140.0000   \n",
       "1          Brandon Vera        Jon Jones    215.0    -235.0          215.0000   \n",
       "2     Junior Dos Santos  Gabriel Gonzaga   -250.0     230.0           40.0000   \n",
       "3          Cheick Kongo   Paul Buentello   -345.0     315.0           28.9855   \n",
       "4        Alessio Sakara      James Irvin   -120.0     100.0           83.3333   \n",
       "...                 ...              ...      ...       ...               ...   \n",
       "6536   Miranda Maverick  Jamey-Lyn Horth   -625.0     455.0           16.0000   \n",
       "6537        Davey Grant    Ramon Taveras   -122.0     102.0           81.9672   \n",
       "6538  Josefine Knutsson  Piera Rodriguez   -245.0     200.0           40.8163   \n",
       "6539    Michael Johnson   Ottman Azaitar   -230.0     190.0           43.4783   \n",
       "6540    Colby Covington  Joaquin Buckley    205.0    -250.0          205.0000   \n",
       "\n",
       "      BlueExpectedValue       Date                   Location Country Winner  \\\n",
       "0               62.5000 2010-03-21  Broomfield, Colorado, USA     USA   Blue   \n",
       "1               42.5532 2010-03-21  Broomfield, Colorado, USA     USA   Blue   \n",
       "2              230.0000 2010-03-21  Broomfield, Colorado, USA     USA    Red   \n",
       "3              315.0000 2010-03-21  Broomfield, Colorado, USA     USA    Red   \n",
       "4              100.0000 2010-03-21  Broomfield, Colorado, USA     USA    Red   \n",
       "...                 ...        ...                        ...     ...    ...   \n",
       "6536           455.0000 2024-12-14        Tampa, Florida, USA     USA    Red   \n",
       "6537           102.0000 2024-12-14        Tampa, Florida, USA     USA    Red   \n",
       "6538           200.0000 2024-12-14        Tampa, Florida, USA     USA   Blue   \n",
       "6539           190.0000 2024-12-14        Tampa, Florida, USA     USA    Red   \n",
       "6540            40.0000 2024-12-14        Tampa, Florida, USA     USA   Blue   \n",
       "\n",
       "      ...  FinishDetails FinishRound FinishRoundTime  TotalFightTimeSecs  \\\n",
       "0     ...            NaN         3.0            5:00               900.0   \n",
       "1     ...          Elbow         1.0            3:19               199.0   \n",
       "2     ...        Punches         1.0            3:53               233.0   \n",
       "3     ...         Elbows         3.0            1:16               676.0   \n",
       "4     ...            NaN         1.0            3:01               181.0   \n",
       "...   ...            ...         ...             ...                 ...   \n",
       "6536  ...            NaN         3.0            5:00               900.0   \n",
       "6537  ...            NaN         3.0            5:00               900.0   \n",
       "6538  ...            NaN         3.0            5:00               900.0   \n",
       "6539  ...          Punch         2.0            2:03               423.0   \n",
       "6540  ...            NaN         3.0            4:42               882.0   \n",
       "\n",
       "      RedDecOdds  BlueDecOdds  RSubOdds  BSubOdds  RKOOdds  BKOOdds  \n",
       "0            NaN          NaN       NaN       NaN      NaN      NaN  \n",
       "1            NaN          NaN       NaN       NaN      NaN      NaN  \n",
       "2            NaN          NaN       NaN       NaN      NaN      NaN  \n",
       "3            NaN          NaN       NaN       NaN      NaN      NaN  \n",
       "4            NaN          NaN       NaN       NaN      NaN      NaN  \n",
       "...          ...          ...       ...       ...      ...      ...  \n",
       "6536      -295.0        650.0     500.0    2500.0   1400.0   2200.0  \n",
       "6537       225.0        350.0     750.0     800.0    350.0    300.0  \n",
       "6538      -175.0        300.0    1800.0    1400.0    800.0   1200.0  \n",
       "6539       300.0        650.0    1000.0    2500.0    120.0    350.0  \n",
       "6540       300.0        175.0    1800.0    2000.0   1100.0    150.0  \n",
       "\n",
       "[6541 rows x 118 columns]"
      ]
     },
     "execution_count": 36,
     "metadata": {},
     "output_type": "execute_result"
    }
   ],
   "source": [
    "ufc_raw['RedFighter'] = ufc_raw['RedFighter'].str.strip()\n",
    "ufc_raw['BlueFighter'] = ufc_raw['BlueFighter'].str.strip()\n",
    "ufc_raw"
   ]
  },
  {
   "cell_type": "markdown",
   "id": "94ea3b23-762c-4421-b1b3-38d449ea5f56",
   "metadata": {},
   "source": [
    "## Create DaysSinceLastFight: Days since his last UFC fight"
   ]
  },
  {
   "cell_type": "code",
   "execution_count": 37,
   "id": "9cbedf33-5382-4073-945c-a449a7a38757",
   "metadata": {},
   "outputs": [],
   "source": [
    "# Sort the DataFrame by ascending fight date\n",
    "ufc_raw = ufc_raw.sort_values(by='Date').reset_index(drop=True)\n",
    "\n",
    "# Dictionary to store each fighter's last fight date\n",
    "last_fight_date_by_fighter = {}\n",
    "\n",
    "# Lists to store the computed days since last fight\n",
    "red_days_since_last_fight = []\n",
    "blue_days_since_last_fight = []\n",
    "\n",
    "# Iterate through each fight record\n",
    "for idx, row in ufc_raw.iterrows():\n",
    "    current_date = row['Date']\n",
    "    red_fighter = row['RedFighter']\n",
    "    blue_fighter = row['BlueFighter']\n",
    "\n",
    "    # Days since last fight for Red corner\n",
    "    red_last_date = last_fight_date_by_fighter.get(red_fighter, None)\n",
    "    if red_last_date is None:\n",
    "        red_days_since_last_fight.append(np.nan)\n",
    "    else:\n",
    "        red_days_since_last_fight.append((current_date - red_last_date).days)\n",
    "\n",
    "    # Days since last fight for Blue corner\n",
    "    blue_last_date = last_fight_date_by_fighter.get(blue_fighter, None)\n",
    "    if blue_last_date is None:\n",
    "        blue_days_since_last_fight.append(np.nan)\n",
    "    else:\n",
    "        blue_days_since_last_fight.append((current_date - blue_last_date).days)\n",
    "\n",
    "    # Update last seen date for both fighters\n",
    "    last_fight_date_by_fighter[red_fighter] = current_date\n",
    "    last_fight_date_by_fighter[blue_fighter] = current_date\n",
    "\n",
    "# Add the results as new columns in the dataframe\n",
    "ufc_raw['RedDaysSinceLastFight'] = red_days_since_last_fight\n",
    "ufc_raw['BlueDaysSinceLastFight'] = blue_days_since_last_fight"
   ]
  },
  {
   "cell_type": "code",
   "execution_count": 38,
   "id": "9b4b95a6-3e6e-4aef-aa1f-10513076f3f0",
   "metadata": {},
   "outputs": [
    {
     "data": {
      "text/html": [
       "<div>\n",
       "<style scoped>\n",
       "    .dataframe tbody tr th:only-of-type {\n",
       "        vertical-align: middle;\n",
       "    }\n",
       "\n",
       "    .dataframe tbody tr th {\n",
       "        vertical-align: top;\n",
       "    }\n",
       "\n",
       "    .dataframe thead th {\n",
       "        text-align: right;\n",
       "    }\n",
       "</style>\n",
       "<table border=\"1\" class=\"dataframe\">\n",
       "  <thead>\n",
       "    <tr style=\"text-align: right;\">\n",
       "      <th></th>\n",
       "      <th>RedFighter</th>\n",
       "      <th>Date</th>\n",
       "      <th>RedDaysSinceLastFight</th>\n",
       "    </tr>\n",
       "  </thead>\n",
       "  <tbody>\n",
       "    <tr>\n",
       "      <th>4129</th>\n",
       "      <td>Karolina Kowalkiewicz</td>\n",
       "      <td>2020-02-22</td>\n",
       "      <td>259.0</td>\n",
       "    </tr>\n",
       "    <tr>\n",
       "      <th>4777</th>\n",
       "      <td>Carlos Condit</td>\n",
       "      <td>2021-07-10</td>\n",
       "      <td>175.0</td>\n",
       "    </tr>\n",
       "    <tr>\n",
       "      <th>4221</th>\n",
       "      <td>Aljamain Sterling</td>\n",
       "      <td>2020-06-06</td>\n",
       "      <td>364.0</td>\n",
       "    </tr>\n",
       "    <tr>\n",
       "      <th>3369</th>\n",
       "      <td>Alex Perez</td>\n",
       "      <td>2018-08-04</td>\n",
       "      <td>161.0</td>\n",
       "    </tr>\n",
       "    <tr>\n",
       "      <th>6000</th>\n",
       "      <td>Rob Font</td>\n",
       "      <td>2023-12-02</td>\n",
       "      <td>119.0</td>\n",
       "    </tr>\n",
       "  </tbody>\n",
       "</table>\n",
       "</div>"
      ],
      "text/plain": [
       "                 RedFighter       Date  RedDaysSinceLastFight\n",
       "4129  Karolina Kowalkiewicz 2020-02-22                  259.0\n",
       "4777          Carlos Condit 2021-07-10                  175.0\n",
       "4221      Aljamain Sterling 2020-06-06                  364.0\n",
       "3369             Alex Perez 2018-08-04                  161.0\n",
       "6000               Rob Font 2023-12-02                  119.0"
      ]
     },
     "execution_count": 38,
     "metadata": {},
     "output_type": "execute_result"
    }
   ],
   "source": [
    "ufc_raw[['RedFighter', 'Date','RedDaysSinceLastFight']].sample(5)"
   ]
  },
  {
   "cell_type": "code",
   "execution_count": 39,
   "id": "7b62ed99-7b5c-45c5-baf8-6c5e49586c32",
   "metadata": {},
   "outputs": [
    {
     "data": {
      "text/html": [
       "<div>\n",
       "<style scoped>\n",
       "    .dataframe tbody tr th:only-of-type {\n",
       "        vertical-align: middle;\n",
       "    }\n",
       "\n",
       "    .dataframe tbody tr th {\n",
       "        vertical-align: top;\n",
       "    }\n",
       "\n",
       "    .dataframe thead th {\n",
       "        text-align: right;\n",
       "    }\n",
       "</style>\n",
       "<table border=\"1\" class=\"dataframe\">\n",
       "  <thead>\n",
       "    <tr style=\"text-align: right;\">\n",
       "      <th></th>\n",
       "      <th>RedFighter</th>\n",
       "      <th>Date</th>\n",
       "      <th>RedDaysSinceLastFight</th>\n",
       "    </tr>\n",
       "  </thead>\n",
       "  <tbody>\n",
       "    <tr>\n",
       "      <th>39</th>\n",
       "      <td>Anderson Silva</td>\n",
       "      <td>2010-04-10</td>\n",
       "      <td>NaN</td>\n",
       "    </tr>\n",
       "    <tr>\n",
       "      <th>109</th>\n",
       "      <td>Anderson Silva</td>\n",
       "      <td>2010-08-07</td>\n",
       "      <td>119.0</td>\n",
       "    </tr>\n",
       "    <tr>\n",
       "      <th>238</th>\n",
       "      <td>Anderson Silva</td>\n",
       "      <td>2011-02-05</td>\n",
       "      <td>182.0</td>\n",
       "    </tr>\n",
       "    <tr>\n",
       "      <th>386</th>\n",
       "      <td>Anderson Silva</td>\n",
       "      <td>2011-08-27</td>\n",
       "      <td>203.0</td>\n",
       "    </tr>\n",
       "    <tr>\n",
       "      <th>689</th>\n",
       "      <td>Anderson Silva</td>\n",
       "      <td>2012-07-07</td>\n",
       "      <td>315.0</td>\n",
       "    </tr>\n",
       "    <tr>\n",
       "      <th>773</th>\n",
       "      <td>Anderson Silva</td>\n",
       "      <td>2012-10-13</td>\n",
       "      <td>98.0</td>\n",
       "    </tr>\n",
       "    <tr>\n",
       "      <th>1019</th>\n",
       "      <td>Anderson Silva</td>\n",
       "      <td>2013-07-06</td>\n",
       "      <td>266.0</td>\n",
       "    </tr>\n",
       "    <tr>\n",
       "      <th>2245</th>\n",
       "      <td>Anderson Silva</td>\n",
       "      <td>2016-02-27</td>\n",
       "      <td>791.0</td>\n",
       "    </tr>\n",
       "    <tr>\n",
       "      <th>2696</th>\n",
       "      <td>Anderson Silva</td>\n",
       "      <td>2017-02-11</td>\n",
       "      <td>217.0</td>\n",
       "    </tr>\n",
       "  </tbody>\n",
       "</table>\n",
       "</div>"
      ],
      "text/plain": [
       "          RedFighter       Date  RedDaysSinceLastFight\n",
       "39    Anderson Silva 2010-04-10                    NaN\n",
       "109   Anderson Silva 2010-08-07                  119.0\n",
       "238   Anderson Silva 2011-02-05                  182.0\n",
       "386   Anderson Silva 2011-08-27                  203.0\n",
       "689   Anderson Silva 2012-07-07                  315.0\n",
       "773   Anderson Silva 2012-10-13                   98.0\n",
       "1019  Anderson Silva 2013-07-06                  266.0\n",
       "2245  Anderson Silva 2016-02-27                  791.0\n",
       "2696  Anderson Silva 2017-02-11                  217.0"
      ]
     },
     "execution_count": 39,
     "metadata": {},
     "output_type": "execute_result"
    }
   ],
   "source": [
    "ufc_raw[ufc_raw['RedFighter'] == 'Anderson Silva'][['RedFighter', 'Date', 'RedDaysSinceLastFight']]"
   ]
  },
  {
   "cell_type": "markdown",
   "id": "7e253de0-148d-475e-b8d2-b24cc0fd14c8",
   "metadata": {},
   "source": [
    "## Create DaysSinceDebut column: Days since his first UFC fight"
   ]
  },
  {
   "cell_type": "code",
   "execution_count": 40,
   "id": "842ac32d-c3e3-419e-930b-7f974d8b6b06",
   "metadata": {},
   "outputs": [],
   "source": [
    "# Step 1: Build debut date dictionary for all fighters\n",
    "debut_date_by_fighter = {}\n",
    "\n",
    "# Iterate through the dataset chronologically\n",
    "for idx, row in ufc_raw.iterrows():\n",
    "    current_date = row['Date']\n",
    "    red_fighter = row['RedFighter']\n",
    "    blue_fighter = row['BlueFighter']\n",
    "\n",
    "    # Store the first appearance date if not already present\n",
    "    if red_fighter not in debut_date_by_fighter:\n",
    "        debut_date_by_fighter[red_fighter] = current_date\n",
    "    if blue_fighter not in debut_date_by_fighter:\n",
    "        debut_date_by_fighter[blue_fighter] = current_date\n",
    "\n",
    "# Step 2: Compute days since debut for Red and Blue corners\n",
    "ufc_raw['RedDaysSinceDebut'] = ufc_raw.apply(\n",
    "    lambda row: (row['Date'] - debut_date_by_fighter[row['RedFighter']]).days,\n",
    "    axis=1\n",
    ")\n",
    "\n",
    "ufc_raw['BlueDaysSinceDebut'] = ufc_raw.apply(\n",
    "    lambda row: (row['Date'] - debut_date_by_fighter[row['BlueFighter']]).days,\n",
    "    axis=1\n",
    ")"
   ]
  },
  {
   "cell_type": "code",
   "execution_count": 41,
   "id": "438e8ee2-f066-48dd-9f98-c85b7ada4c71",
   "metadata": {},
   "outputs": [
    {
     "data": {
      "text/html": [
       "<div>\n",
       "<style scoped>\n",
       "    .dataframe tbody tr th:only-of-type {\n",
       "        vertical-align: middle;\n",
       "    }\n",
       "\n",
       "    .dataframe tbody tr th {\n",
       "        vertical-align: top;\n",
       "    }\n",
       "\n",
       "    .dataframe thead th {\n",
       "        text-align: right;\n",
       "    }\n",
       "</style>\n",
       "<table border=\"1\" class=\"dataframe\">\n",
       "  <thead>\n",
       "    <tr style=\"text-align: right;\">\n",
       "      <th></th>\n",
       "      <th>RedFighter</th>\n",
       "      <th>Date</th>\n",
       "      <th>RedDaysSinceLastFight</th>\n",
       "      <th>RedDaysSinceDebut</th>\n",
       "    </tr>\n",
       "  </thead>\n",
       "  <tbody>\n",
       "    <tr>\n",
       "      <th>39</th>\n",
       "      <td>Anderson Silva</td>\n",
       "      <td>2010-04-10</td>\n",
       "      <td>NaN</td>\n",
       "      <td>0</td>\n",
       "    </tr>\n",
       "    <tr>\n",
       "      <th>109</th>\n",
       "      <td>Anderson Silva</td>\n",
       "      <td>2010-08-07</td>\n",
       "      <td>119.0</td>\n",
       "      <td>119</td>\n",
       "    </tr>\n",
       "    <tr>\n",
       "      <th>238</th>\n",
       "      <td>Anderson Silva</td>\n",
       "      <td>2011-02-05</td>\n",
       "      <td>182.0</td>\n",
       "      <td>301</td>\n",
       "    </tr>\n",
       "    <tr>\n",
       "      <th>386</th>\n",
       "      <td>Anderson Silva</td>\n",
       "      <td>2011-08-27</td>\n",
       "      <td>203.0</td>\n",
       "      <td>504</td>\n",
       "    </tr>\n",
       "    <tr>\n",
       "      <th>689</th>\n",
       "      <td>Anderson Silva</td>\n",
       "      <td>2012-07-07</td>\n",
       "      <td>315.0</td>\n",
       "      <td>819</td>\n",
       "    </tr>\n",
       "    <tr>\n",
       "      <th>773</th>\n",
       "      <td>Anderson Silva</td>\n",
       "      <td>2012-10-13</td>\n",
       "      <td>98.0</td>\n",
       "      <td>917</td>\n",
       "    </tr>\n",
       "    <tr>\n",
       "      <th>1019</th>\n",
       "      <td>Anderson Silva</td>\n",
       "      <td>2013-07-06</td>\n",
       "      <td>266.0</td>\n",
       "      <td>1183</td>\n",
       "    </tr>\n",
       "    <tr>\n",
       "      <th>2245</th>\n",
       "      <td>Anderson Silva</td>\n",
       "      <td>2016-02-27</td>\n",
       "      <td>791.0</td>\n",
       "      <td>2149</td>\n",
       "    </tr>\n",
       "    <tr>\n",
       "      <th>2696</th>\n",
       "      <td>Anderson Silva</td>\n",
       "      <td>2017-02-11</td>\n",
       "      <td>217.0</td>\n",
       "      <td>2499</td>\n",
       "    </tr>\n",
       "  </tbody>\n",
       "</table>\n",
       "</div>"
      ],
      "text/plain": [
       "          RedFighter       Date  RedDaysSinceLastFight  RedDaysSinceDebut\n",
       "39    Anderson Silva 2010-04-10                    NaN                  0\n",
       "109   Anderson Silva 2010-08-07                  119.0                119\n",
       "238   Anderson Silva 2011-02-05                  182.0                301\n",
       "386   Anderson Silva 2011-08-27                  203.0                504\n",
       "689   Anderson Silva 2012-07-07                  315.0                819\n",
       "773   Anderson Silva 2012-10-13                   98.0                917\n",
       "1019  Anderson Silva 2013-07-06                  266.0               1183\n",
       "2245  Anderson Silva 2016-02-27                  791.0               2149\n",
       "2696  Anderson Silva 2017-02-11                  217.0               2499"
      ]
     },
     "execution_count": 41,
     "metadata": {},
     "output_type": "execute_result"
    }
   ],
   "source": [
    "ufc_raw[ufc_raw['RedFighter'] == 'Anderson Silva'][['RedFighter', 'Date', 'RedDaysSinceLastFight', 'RedDaysSinceDebut']]"
   ]
  },
  {
   "cell_type": "code",
   "execution_count": 42,
   "id": "15c887db-a3c2-44a7-afc3-86cf2fcf6017",
   "metadata": {},
   "outputs": [
    {
     "name": "stderr",
     "output_type": "stream",
     "text": [
      "/tmp/ipykernel_13127/1337356144.py:6: FutureWarning: A value is trying to be set on a copy of a DataFrame or Series through chained assignment using an inplace method.\n",
      "The behavior will change in pandas 3.0. This inplace method will never work because the intermediate object on which we are setting values always behaves as a copy.\n",
      "\n",
      "For example, when doing 'df[col].method(value, inplace=True)', try using 'df.method({col: value}, inplace=True)' or df[col] = df[col].method(value) instead, to perform the operation inplace on the original object.\n",
      "\n",
      "\n",
      "  ufc_raw['RedDaysSinceLastFight'].fillna(180, inplace=True)\n",
      "/tmp/ipykernel_13127/1337356144.py:7: FutureWarning: A value is trying to be set on a copy of a DataFrame or Series through chained assignment using an inplace method.\n",
      "The behavior will change in pandas 3.0. This inplace method will never work because the intermediate object on which we are setting values always behaves as a copy.\n",
      "\n",
      "For example, when doing 'df[col].method(value, inplace=True)', try using 'df.method({col: value}, inplace=True)' or df[col] = df[col].method(value) instead, to perform the operation inplace on the original object.\n",
      "\n",
      "\n",
      "  ufc_raw['BlueDaysSinceLastFight'].fillna(180, inplace=True)\n"
     ]
    }
   ],
   "source": [
    "# Step 1: Create debut flags\n",
    "ufc_raw['RedIsDebut'] = ufc_raw['RedDaysSinceLastFight'].isna().map({True: 'Yes', False: 'No'})\n",
    "ufc_raw['BlueIsDebut'] = ufc_raw['BlueDaysSinceLastFight'].isna().map({True: 'Yes', False: 'No'})\n",
    "\n",
    "# Step 2: Impute NaN with median value in the debut.\n",
    "ufc_raw['RedDaysSinceLastFight'].fillna(180, inplace=True) \n",
    "ufc_raw['BlueDaysSinceLastFight'].fillna(180, inplace=True)"
   ]
  },
  {
   "cell_type": "code",
   "execution_count": 43,
   "id": "d5a0c11a-a269-4059-b103-a3375d704161",
   "metadata": {},
   "outputs": [
    {
     "data": {
      "text/html": [
       "<div>\n",
       "<style scoped>\n",
       "    .dataframe tbody tr th:only-of-type {\n",
       "        vertical-align: middle;\n",
       "    }\n",
       "\n",
       "    .dataframe tbody tr th {\n",
       "        vertical-align: top;\n",
       "    }\n",
       "\n",
       "    .dataframe thead th {\n",
       "        text-align: right;\n",
       "    }\n",
       "</style>\n",
       "<table border=\"1\" class=\"dataframe\">\n",
       "  <thead>\n",
       "    <tr style=\"text-align: right;\">\n",
       "      <th></th>\n",
       "      <th>RedFighter</th>\n",
       "      <th>Date</th>\n",
       "      <th>RedDaysSinceLastFight</th>\n",
       "      <th>RedDaysSinceDebut</th>\n",
       "      <th>RedIsDebut</th>\n",
       "    </tr>\n",
       "  </thead>\n",
       "  <tbody>\n",
       "    <tr>\n",
       "      <th>39</th>\n",
       "      <td>Anderson Silva</td>\n",
       "      <td>2010-04-10</td>\n",
       "      <td>180.0</td>\n",
       "      <td>0</td>\n",
       "      <td>Yes</td>\n",
       "    </tr>\n",
       "    <tr>\n",
       "      <th>109</th>\n",
       "      <td>Anderson Silva</td>\n",
       "      <td>2010-08-07</td>\n",
       "      <td>119.0</td>\n",
       "      <td>119</td>\n",
       "      <td>No</td>\n",
       "    </tr>\n",
       "    <tr>\n",
       "      <th>238</th>\n",
       "      <td>Anderson Silva</td>\n",
       "      <td>2011-02-05</td>\n",
       "      <td>182.0</td>\n",
       "      <td>301</td>\n",
       "      <td>No</td>\n",
       "    </tr>\n",
       "    <tr>\n",
       "      <th>386</th>\n",
       "      <td>Anderson Silva</td>\n",
       "      <td>2011-08-27</td>\n",
       "      <td>203.0</td>\n",
       "      <td>504</td>\n",
       "      <td>No</td>\n",
       "    </tr>\n",
       "    <tr>\n",
       "      <th>689</th>\n",
       "      <td>Anderson Silva</td>\n",
       "      <td>2012-07-07</td>\n",
       "      <td>315.0</td>\n",
       "      <td>819</td>\n",
       "      <td>No</td>\n",
       "    </tr>\n",
       "    <tr>\n",
       "      <th>773</th>\n",
       "      <td>Anderson Silva</td>\n",
       "      <td>2012-10-13</td>\n",
       "      <td>98.0</td>\n",
       "      <td>917</td>\n",
       "      <td>No</td>\n",
       "    </tr>\n",
       "    <tr>\n",
       "      <th>1019</th>\n",
       "      <td>Anderson Silva</td>\n",
       "      <td>2013-07-06</td>\n",
       "      <td>266.0</td>\n",
       "      <td>1183</td>\n",
       "      <td>No</td>\n",
       "    </tr>\n",
       "    <tr>\n",
       "      <th>2245</th>\n",
       "      <td>Anderson Silva</td>\n",
       "      <td>2016-02-27</td>\n",
       "      <td>791.0</td>\n",
       "      <td>2149</td>\n",
       "      <td>No</td>\n",
       "    </tr>\n",
       "    <tr>\n",
       "      <th>2696</th>\n",
       "      <td>Anderson Silva</td>\n",
       "      <td>2017-02-11</td>\n",
       "      <td>217.0</td>\n",
       "      <td>2499</td>\n",
       "      <td>No</td>\n",
       "    </tr>\n",
       "  </tbody>\n",
       "</table>\n",
       "</div>"
      ],
      "text/plain": [
       "          RedFighter       Date  RedDaysSinceLastFight  RedDaysSinceDebut  \\\n",
       "39    Anderson Silva 2010-04-10                  180.0                  0   \n",
       "109   Anderson Silva 2010-08-07                  119.0                119   \n",
       "238   Anderson Silva 2011-02-05                  182.0                301   \n",
       "386   Anderson Silva 2011-08-27                  203.0                504   \n",
       "689   Anderson Silva 2012-07-07                  315.0                819   \n",
       "773   Anderson Silva 2012-10-13                   98.0                917   \n",
       "1019  Anderson Silva 2013-07-06                  266.0               1183   \n",
       "2245  Anderson Silva 2016-02-27                  791.0               2149   \n",
       "2696  Anderson Silva 2017-02-11                  217.0               2499   \n",
       "\n",
       "     RedIsDebut  \n",
       "39          Yes  \n",
       "109          No  \n",
       "238          No  \n",
       "386          No  \n",
       "689          No  \n",
       "773          No  \n",
       "1019         No  \n",
       "2245         No  \n",
       "2696         No  "
      ]
     },
     "execution_count": 43,
     "metadata": {},
     "output_type": "execute_result"
    }
   ],
   "source": [
    "ufc_raw[ufc_raw['RedFighter'] == 'Anderson Silva'][['RedFighter', 'Date', 'RedDaysSinceLastFight', 'RedDaysSinceDebut', 'RedIsDebut']]"
   ]
  },
  {
   "cell_type": "markdown",
   "id": "5e8fb294-864f-4ace-8397-df5d178668ad",
   "metadata": {},
   "source": [
    "## Create FightsInLastYear/FightsInLast6Months : Number of fights in the last year/6 months"
   ]
  },
  {
   "cell_type": "code",
   "execution_count": 44,
   "id": "694a4afb-7ea7-4d72-a265-604fb8935a50",
   "metadata": {},
   "outputs": [],
   "source": [
    "from collections import defaultdict\n",
    "\n",
    "# Dictionary of past fight dates for each fighter\n",
    "fight_history = defaultdict(list)\n",
    "\n",
    "# Output lists\n",
    "red_fights_last_year = []\n",
    "blue_fights_last_year = []\n",
    "\n",
    "# Iterate over each row in chronological order\n",
    "for idx, row in ufc_raw.iterrows():\n",
    "    current_date = row['Date']\n",
    "    red_fighter = row['RedFighter']\n",
    "    blue_fighter = row['BlueFighter']\n",
    "\n",
    "    # Count red's fights in the past 365 days\n",
    "    red_past_fights = [d for d in fight_history[red_fighter] if 0 < (current_date - d).days <= 365]\n",
    "    red_fights_last_year.append(len(red_past_fights))\n",
    "\n",
    "    # Count blue's fights in the past 365 days\n",
    "    blue_past_fights = [d for d in fight_history[blue_fighter] if 0 < (current_date - d).days <= 365]\n",
    "    blue_fights_last_year.append(len(blue_past_fights))\n",
    "\n",
    "    # Update fight history with current fight date\n",
    "    fight_history[red_fighter].append(current_date)\n",
    "    fight_history[blue_fighter].append(current_date)\n",
    "\n",
    "# Add the new columns to the dataframe\n",
    "ufc_raw['RedFightsInLastYear'] = red_fights_last_year\n",
    "ufc_raw['BlueFightsInLastYear'] = blue_fights_last_year"
   ]
  },
  {
   "cell_type": "code",
   "execution_count": 45,
   "id": "daadbe60-fb6d-4db8-9e90-3daad6e1e908",
   "metadata": {},
   "outputs": [],
   "source": [
    "from collections import defaultdict\n",
    "\n",
    "# Dictionary to store past fight dates for each fighter\n",
    "fight_history_6m = defaultdict(list)\n",
    "\n",
    "# Output columns\n",
    "red_fights_last_6m = []\n",
    "blue_fights_last_6m = []\n",
    "\n",
    "# Iterate through the dataset chronologically\n",
    "for idx, row in ufc_raw.iterrows():\n",
    "    current_date = row['Date']\n",
    "    red_fighter = row['RedFighter']\n",
    "    blue_fighter = row['BlueFighter']\n",
    "\n",
    "    # Count red's fights in the past 183 days (6 months)\n",
    "    red_past_fights = [d for d in fight_history_6m[red_fighter] if 0 < (current_date - d).days <= 183]\n",
    "    red_fights_last_6m.append(len(red_past_fights))\n",
    "\n",
    "    # Count blue's fights in the past 183 days (6 months)\n",
    "    blue_past_fights = [d for d in fight_history_6m[blue_fighter] if 0 < (current_date - d).days <= 183]\n",
    "    blue_fights_last_6m.append(len(blue_past_fights))\n",
    "\n",
    "    # Update fight history with current fight\n",
    "    fight_history_6m[red_fighter].append(current_date)\n",
    "    fight_history_6m[blue_fighter].append(current_date)\n",
    "\n",
    "# Assign to new columns\n",
    "ufc_raw['RedFightsInLast6Months'] = red_fights_last_6m\n",
    "ufc_raw['BlueFightsInLast6Months'] = blue_fights_last_6m"
   ]
  },
  {
   "cell_type": "code",
   "execution_count": 46,
   "id": "90231d6b-ad16-4eca-9ab2-b70fd56ce360",
   "metadata": {},
   "outputs": [
    {
     "data": {
      "text/html": [
       "<div>\n",
       "<style scoped>\n",
       "    .dataframe tbody tr th:only-of-type {\n",
       "        vertical-align: middle;\n",
       "    }\n",
       "\n",
       "    .dataframe tbody tr th {\n",
       "        vertical-align: top;\n",
       "    }\n",
       "\n",
       "    .dataframe thead th {\n",
       "        text-align: right;\n",
       "    }\n",
       "</style>\n",
       "<table border=\"1\" class=\"dataframe\">\n",
       "  <thead>\n",
       "    <tr style=\"text-align: right;\">\n",
       "      <th></th>\n",
       "      <th>RedFighter</th>\n",
       "      <th>Date</th>\n",
       "      <th>RedDaysSinceLastFight</th>\n",
       "      <th>RedDaysSinceDebut</th>\n",
       "      <th>RedIsDebut</th>\n",
       "      <th>RedFightsInLastYear</th>\n",
       "      <th>RedFightsInLast6Months</th>\n",
       "    </tr>\n",
       "  </thead>\n",
       "  <tbody>\n",
       "    <tr>\n",
       "      <th>39</th>\n",
       "      <td>Anderson Silva</td>\n",
       "      <td>2010-04-10</td>\n",
       "      <td>180.0</td>\n",
       "      <td>0</td>\n",
       "      <td>Yes</td>\n",
       "      <td>0</td>\n",
       "      <td>0</td>\n",
       "    </tr>\n",
       "    <tr>\n",
       "      <th>109</th>\n",
       "      <td>Anderson Silva</td>\n",
       "      <td>2010-08-07</td>\n",
       "      <td>119.0</td>\n",
       "      <td>119</td>\n",
       "      <td>No</td>\n",
       "      <td>1</td>\n",
       "      <td>1</td>\n",
       "    </tr>\n",
       "    <tr>\n",
       "      <th>238</th>\n",
       "      <td>Anderson Silva</td>\n",
       "      <td>2011-02-05</td>\n",
       "      <td>182.0</td>\n",
       "      <td>301</td>\n",
       "      <td>No</td>\n",
       "      <td>2</td>\n",
       "      <td>1</td>\n",
       "    </tr>\n",
       "    <tr>\n",
       "      <th>386</th>\n",
       "      <td>Anderson Silva</td>\n",
       "      <td>2011-08-27</td>\n",
       "      <td>203.0</td>\n",
       "      <td>504</td>\n",
       "      <td>No</td>\n",
       "      <td>1</td>\n",
       "      <td>0</td>\n",
       "    </tr>\n",
       "    <tr>\n",
       "      <th>689</th>\n",
       "      <td>Anderson Silva</td>\n",
       "      <td>2012-07-07</td>\n",
       "      <td>315.0</td>\n",
       "      <td>819</td>\n",
       "      <td>No</td>\n",
       "      <td>1</td>\n",
       "      <td>0</td>\n",
       "    </tr>\n",
       "    <tr>\n",
       "      <th>773</th>\n",
       "      <td>Anderson Silva</td>\n",
       "      <td>2012-10-13</td>\n",
       "      <td>98.0</td>\n",
       "      <td>917</td>\n",
       "      <td>No</td>\n",
       "      <td>1</td>\n",
       "      <td>1</td>\n",
       "    </tr>\n",
       "    <tr>\n",
       "      <th>1019</th>\n",
       "      <td>Anderson Silva</td>\n",
       "      <td>2013-07-06</td>\n",
       "      <td>266.0</td>\n",
       "      <td>1183</td>\n",
       "      <td>No</td>\n",
       "      <td>2</td>\n",
       "      <td>0</td>\n",
       "    </tr>\n",
       "    <tr>\n",
       "      <th>2245</th>\n",
       "      <td>Anderson Silva</td>\n",
       "      <td>2016-02-27</td>\n",
       "      <td>791.0</td>\n",
       "      <td>2149</td>\n",
       "      <td>No</td>\n",
       "      <td>0</td>\n",
       "      <td>0</td>\n",
       "    </tr>\n",
       "    <tr>\n",
       "      <th>2696</th>\n",
       "      <td>Anderson Silva</td>\n",
       "      <td>2017-02-11</td>\n",
       "      <td>217.0</td>\n",
       "      <td>2499</td>\n",
       "      <td>No</td>\n",
       "      <td>2</td>\n",
       "      <td>0</td>\n",
       "    </tr>\n",
       "  </tbody>\n",
       "</table>\n",
       "</div>"
      ],
      "text/plain": [
       "          RedFighter       Date  RedDaysSinceLastFight  RedDaysSinceDebut  \\\n",
       "39    Anderson Silva 2010-04-10                  180.0                  0   \n",
       "109   Anderson Silva 2010-08-07                  119.0                119   \n",
       "238   Anderson Silva 2011-02-05                  182.0                301   \n",
       "386   Anderson Silva 2011-08-27                  203.0                504   \n",
       "689   Anderson Silva 2012-07-07                  315.0                819   \n",
       "773   Anderson Silva 2012-10-13                   98.0                917   \n",
       "1019  Anderson Silva 2013-07-06                  266.0               1183   \n",
       "2245  Anderson Silva 2016-02-27                  791.0               2149   \n",
       "2696  Anderson Silva 2017-02-11                  217.0               2499   \n",
       "\n",
       "     RedIsDebut  RedFightsInLastYear  RedFightsInLast6Months  \n",
       "39          Yes                    0                       0  \n",
       "109          No                    1                       1  \n",
       "238          No                    2                       1  \n",
       "386          No                    1                       0  \n",
       "689          No                    1                       0  \n",
       "773          No                    1                       1  \n",
       "1019         No                    2                       0  \n",
       "2245         No                    0                       0  \n",
       "2696         No                    2                       0  "
      ]
     },
     "execution_count": 46,
     "metadata": {},
     "output_type": "execute_result"
    }
   ],
   "source": [
    "ufc_raw[ufc_raw['RedFighter'] == 'Anderson Silva'][['RedFighter', 'Date', 'RedDaysSinceLastFight', 'RedDaysSinceDebut', 'RedIsDebut', 'RedFightsInLastYear', 'RedFightsInLast6Months']]"
   ]
  },
  {
   "cell_type": "markdown",
   "id": "04ad561d-bc5c-4303-b786-5e75f57e9d8d",
   "metadata": {},
   "source": [
    "## Create DaysSinceLastWin : Number of fights in the last year/6 months"
   ]
  },
  {
   "cell_type": "code",
   "execution_count": 47,
   "id": "2c1396c9-878d-43ab-9993-c1ab3bcfdcec",
   "metadata": {},
   "outputs": [],
   "source": [
    "from collections import defaultdict\n",
    "\n",
    "# Initialize win history tracker\n",
    "last_win_date_by_fighter = {}\n",
    "\n",
    "# Output columns\n",
    "red_days_since_last_win = []\n",
    "blue_days_since_last_win = []\n",
    "\n",
    "# Iterate over ufc_raw in chronological order\n",
    "for idx, row in ufc_raw.iterrows():\n",
    "    date = row['Date']\n",
    "    red = row['RedFighter']\n",
    "    blue = row['BlueFighter']\n",
    "    winner = row['Winner']  # Should be 'Red', 'Blue' or 'Draw'\n",
    "\n",
    "    # Red corner\n",
    "    red_last_win_date = last_win_date_by_fighter.get(red, None)\n",
    "    if red_last_win_date is None:\n",
    "        red_days_since_last_win.append(np.nan)\n",
    "    else:\n",
    "        red_days_since_last_win.append((date - red_last_win_date).days)\n",
    "\n",
    "    # Blue corner\n",
    "    blue_last_win_date = last_win_date_by_fighter.get(blue, None)\n",
    "    if blue_last_win_date is None:\n",
    "        blue_days_since_last_win.append(np.nan)\n",
    "    else:\n",
    "        blue_days_since_last_win.append((date - blue_last_win_date).days)\n",
    "\n",
    "    # Update win dates\n",
    "    if winner == 'Red':\n",
    "        last_win_date_by_fighter[red] = date\n",
    "    elif winner == 'Blue':\n",
    "        last_win_date_by_fighter[blue] = date\n",
    "    # No update for draw\n",
    "\n",
    "# Add to DataFrame\n",
    "ufc_raw['RedDaysSinceLastWin'] = red_days_since_last_win\n",
    "ufc_raw['BlueDaysSinceLastWin'] = blue_days_since_last_win"
   ]
  },
  {
   "cell_type": "code",
   "execution_count": 48,
   "id": "7c6b4e14-ce57-4355-8ad0-4ba62164f873",
   "metadata": {},
   "outputs": [
    {
     "data": {
      "text/html": [
       "<div>\n",
       "<style scoped>\n",
       "    .dataframe tbody tr th:only-of-type {\n",
       "        vertical-align: middle;\n",
       "    }\n",
       "\n",
       "    .dataframe tbody tr th {\n",
       "        vertical-align: top;\n",
       "    }\n",
       "\n",
       "    .dataframe thead th {\n",
       "        text-align: right;\n",
       "    }\n",
       "</style>\n",
       "<table border=\"1\" class=\"dataframe\">\n",
       "  <thead>\n",
       "    <tr style=\"text-align: right;\">\n",
       "      <th></th>\n",
       "      <th>RedFighter</th>\n",
       "      <th>Date</th>\n",
       "      <th>RedDaysSinceLastFight</th>\n",
       "      <th>RedDaysSinceDebut</th>\n",
       "      <th>RedIsDebut</th>\n",
       "      <th>RedFightsInLastYear</th>\n",
       "      <th>RedFightsInLast6Months</th>\n",
       "      <th>RedDaysSinceLastWin</th>\n",
       "    </tr>\n",
       "  </thead>\n",
       "  <tbody>\n",
       "    <tr>\n",
       "      <th>39</th>\n",
       "      <td>Anderson Silva</td>\n",
       "      <td>2010-04-10</td>\n",
       "      <td>180.0</td>\n",
       "      <td>0</td>\n",
       "      <td>Yes</td>\n",
       "      <td>0</td>\n",
       "      <td>0</td>\n",
       "      <td>NaN</td>\n",
       "    </tr>\n",
       "    <tr>\n",
       "      <th>109</th>\n",
       "      <td>Anderson Silva</td>\n",
       "      <td>2010-08-07</td>\n",
       "      <td>119.0</td>\n",
       "      <td>119</td>\n",
       "      <td>No</td>\n",
       "      <td>1</td>\n",
       "      <td>1</td>\n",
       "      <td>119.0</td>\n",
       "    </tr>\n",
       "    <tr>\n",
       "      <th>238</th>\n",
       "      <td>Anderson Silva</td>\n",
       "      <td>2011-02-05</td>\n",
       "      <td>182.0</td>\n",
       "      <td>301</td>\n",
       "      <td>No</td>\n",
       "      <td>2</td>\n",
       "      <td>1</td>\n",
       "      <td>182.0</td>\n",
       "    </tr>\n",
       "    <tr>\n",
       "      <th>386</th>\n",
       "      <td>Anderson Silva</td>\n",
       "      <td>2011-08-27</td>\n",
       "      <td>203.0</td>\n",
       "      <td>504</td>\n",
       "      <td>No</td>\n",
       "      <td>1</td>\n",
       "      <td>0</td>\n",
       "      <td>203.0</td>\n",
       "    </tr>\n",
       "    <tr>\n",
       "      <th>689</th>\n",
       "      <td>Anderson Silva</td>\n",
       "      <td>2012-07-07</td>\n",
       "      <td>315.0</td>\n",
       "      <td>819</td>\n",
       "      <td>No</td>\n",
       "      <td>1</td>\n",
       "      <td>0</td>\n",
       "      <td>315.0</td>\n",
       "    </tr>\n",
       "    <tr>\n",
       "      <th>773</th>\n",
       "      <td>Anderson Silva</td>\n",
       "      <td>2012-10-13</td>\n",
       "      <td>98.0</td>\n",
       "      <td>917</td>\n",
       "      <td>No</td>\n",
       "      <td>1</td>\n",
       "      <td>1</td>\n",
       "      <td>98.0</td>\n",
       "    </tr>\n",
       "    <tr>\n",
       "      <th>1019</th>\n",
       "      <td>Anderson Silva</td>\n",
       "      <td>2013-07-06</td>\n",
       "      <td>266.0</td>\n",
       "      <td>1183</td>\n",
       "      <td>No</td>\n",
       "      <td>2</td>\n",
       "      <td>0</td>\n",
       "      <td>266.0</td>\n",
       "    </tr>\n",
       "    <tr>\n",
       "      <th>2245</th>\n",
       "      <td>Anderson Silva</td>\n",
       "      <td>2016-02-27</td>\n",
       "      <td>791.0</td>\n",
       "      <td>2149</td>\n",
       "      <td>No</td>\n",
       "      <td>0</td>\n",
       "      <td>0</td>\n",
       "      <td>1232.0</td>\n",
       "    </tr>\n",
       "    <tr>\n",
       "      <th>2696</th>\n",
       "      <td>Anderson Silva</td>\n",
       "      <td>2017-02-11</td>\n",
       "      <td>217.0</td>\n",
       "      <td>2499</td>\n",
       "      <td>No</td>\n",
       "      <td>2</td>\n",
       "      <td>0</td>\n",
       "      <td>1582.0</td>\n",
       "    </tr>\n",
       "  </tbody>\n",
       "</table>\n",
       "</div>"
      ],
      "text/plain": [
       "          RedFighter       Date  RedDaysSinceLastFight  RedDaysSinceDebut  \\\n",
       "39    Anderson Silva 2010-04-10                  180.0                  0   \n",
       "109   Anderson Silva 2010-08-07                  119.0                119   \n",
       "238   Anderson Silva 2011-02-05                  182.0                301   \n",
       "386   Anderson Silva 2011-08-27                  203.0                504   \n",
       "689   Anderson Silva 2012-07-07                  315.0                819   \n",
       "773   Anderson Silva 2012-10-13                   98.0                917   \n",
       "1019  Anderson Silva 2013-07-06                  266.0               1183   \n",
       "2245  Anderson Silva 2016-02-27                  791.0               2149   \n",
       "2696  Anderson Silva 2017-02-11                  217.0               2499   \n",
       "\n",
       "     RedIsDebut  RedFightsInLastYear  RedFightsInLast6Months  \\\n",
       "39          Yes                    0                       0   \n",
       "109          No                    1                       1   \n",
       "238          No                    2                       1   \n",
       "386          No                    1                       0   \n",
       "689          No                    1                       0   \n",
       "773          No                    1                       1   \n",
       "1019         No                    2                       0   \n",
       "2245         No                    0                       0   \n",
       "2696         No                    2                       0   \n",
       "\n",
       "      RedDaysSinceLastWin  \n",
       "39                    NaN  \n",
       "109                 119.0  \n",
       "238                 182.0  \n",
       "386                 203.0  \n",
       "689                 315.0  \n",
       "773                  98.0  \n",
       "1019                266.0  \n",
       "2245               1232.0  \n",
       "2696               1582.0  "
      ]
     },
     "execution_count": 48,
     "metadata": {},
     "output_type": "execute_result"
    }
   ],
   "source": [
    "ufc_raw[ufc_raw['RedFighter'] == 'Anderson Silva'][['RedFighter', 'Date', 'RedDaysSinceLastFight', 'RedDaysSinceDebut', 'RedIsDebut', 'RedFightsInLastYear', 'RedFightsInLast6Months', 'RedDaysSinceLastWin']]"
   ]
  },
  {
   "cell_type": "code",
   "execution_count": 49,
   "id": "bbf95de8-b010-4687-a7ef-33efbe6c5780",
   "metadata": {},
   "outputs": [
    {
     "data": {
      "text/plain": [
       "246.0"
      ]
     },
     "execution_count": 49,
     "metadata": {},
     "output_type": "execute_result"
    }
   ],
   "source": [
    "ufc_raw['RedDaysSinceLastWin'].median()"
   ]
  },
  {
   "cell_type": "code",
   "execution_count": 50,
   "id": "0191c68f-2cc0-4800-ab4b-afca182e5308",
   "metadata": {},
   "outputs": [
    {
     "name": "stderr",
     "output_type": "stream",
     "text": [
      "/tmp/ipykernel_13127/3507902234.py:2: FutureWarning: A value is trying to be set on a copy of a DataFrame or Series through chained assignment using an inplace method.\n",
      "The behavior will change in pandas 3.0. This inplace method will never work because the intermediate object on which we are setting values always behaves as a copy.\n",
      "\n",
      "For example, when doing 'df[col].method(value, inplace=True)', try using 'df.method({col: value}, inplace=True)' or df[col] = df[col].method(value) instead, to perform the operation inplace on the original object.\n",
      "\n",
      "\n",
      "  ufc_raw['RedDaysSinceLastWin'].fillna(246, inplace=True)\n",
      "/tmp/ipykernel_13127/3507902234.py:3: FutureWarning: A value is trying to be set on a copy of a DataFrame or Series through chained assignment using an inplace method.\n",
      "The behavior will change in pandas 3.0. This inplace method will never work because the intermediate object on which we are setting values always behaves as a copy.\n",
      "\n",
      "For example, when doing 'df[col].method(value, inplace=True)', try using 'df.method({col: value}, inplace=True)' or df[col] = df[col].method(value) instead, to perform the operation inplace on the original object.\n",
      "\n",
      "\n",
      "  ufc_raw['BlueDaysSinceLastWin'].fillna(246, inplace=True)\n"
     ]
    }
   ],
   "source": [
    "# FIll with median, moodel already know if it is the first fight of a fighter\n",
    "ufc_raw['RedDaysSinceLastWin'].fillna(246, inplace=True)\n",
    "ufc_raw['BlueDaysSinceLastWin'].fillna(246, inplace=True)"
   ]
  },
  {
   "cell_type": "code",
   "execution_count": 51,
   "id": "08c894ac-eb7f-4662-833d-407f8bdfec57",
   "metadata": {
    "scrolled": true
   },
   "outputs": [
    {
     "data": {
      "text/html": [
       "<div>\n",
       "<style scoped>\n",
       "    .dataframe tbody tr th:only-of-type {\n",
       "        vertical-align: middle;\n",
       "    }\n",
       "\n",
       "    .dataframe tbody tr th {\n",
       "        vertical-align: top;\n",
       "    }\n",
       "\n",
       "    .dataframe thead th {\n",
       "        text-align: right;\n",
       "    }\n",
       "</style>\n",
       "<table border=\"1\" class=\"dataframe\">\n",
       "  <thead>\n",
       "    <tr style=\"text-align: right;\">\n",
       "      <th></th>\n",
       "      <th>RedFighter</th>\n",
       "      <th>Date</th>\n",
       "      <th>RedDaysSinceLastFight</th>\n",
       "      <th>RedDaysSinceDebut</th>\n",
       "      <th>RedIsDebut</th>\n",
       "      <th>RedFightsInLastYear</th>\n",
       "      <th>RedFightsInLast6Months</th>\n",
       "      <th>RedDaysSinceLastWin</th>\n",
       "    </tr>\n",
       "  </thead>\n",
       "  <tbody>\n",
       "    <tr>\n",
       "      <th>39</th>\n",
       "      <td>Anderson Silva</td>\n",
       "      <td>2010-04-10</td>\n",
       "      <td>180.0</td>\n",
       "      <td>0</td>\n",
       "      <td>Yes</td>\n",
       "      <td>0</td>\n",
       "      <td>0</td>\n",
       "      <td>246.0</td>\n",
       "    </tr>\n",
       "    <tr>\n",
       "      <th>109</th>\n",
       "      <td>Anderson Silva</td>\n",
       "      <td>2010-08-07</td>\n",
       "      <td>119.0</td>\n",
       "      <td>119</td>\n",
       "      <td>No</td>\n",
       "      <td>1</td>\n",
       "      <td>1</td>\n",
       "      <td>119.0</td>\n",
       "    </tr>\n",
       "    <tr>\n",
       "      <th>238</th>\n",
       "      <td>Anderson Silva</td>\n",
       "      <td>2011-02-05</td>\n",
       "      <td>182.0</td>\n",
       "      <td>301</td>\n",
       "      <td>No</td>\n",
       "      <td>2</td>\n",
       "      <td>1</td>\n",
       "      <td>182.0</td>\n",
       "    </tr>\n",
       "    <tr>\n",
       "      <th>386</th>\n",
       "      <td>Anderson Silva</td>\n",
       "      <td>2011-08-27</td>\n",
       "      <td>203.0</td>\n",
       "      <td>504</td>\n",
       "      <td>No</td>\n",
       "      <td>1</td>\n",
       "      <td>0</td>\n",
       "      <td>203.0</td>\n",
       "    </tr>\n",
       "    <tr>\n",
       "      <th>689</th>\n",
       "      <td>Anderson Silva</td>\n",
       "      <td>2012-07-07</td>\n",
       "      <td>315.0</td>\n",
       "      <td>819</td>\n",
       "      <td>No</td>\n",
       "      <td>1</td>\n",
       "      <td>0</td>\n",
       "      <td>315.0</td>\n",
       "    </tr>\n",
       "    <tr>\n",
       "      <th>773</th>\n",
       "      <td>Anderson Silva</td>\n",
       "      <td>2012-10-13</td>\n",
       "      <td>98.0</td>\n",
       "      <td>917</td>\n",
       "      <td>No</td>\n",
       "      <td>1</td>\n",
       "      <td>1</td>\n",
       "      <td>98.0</td>\n",
       "    </tr>\n",
       "    <tr>\n",
       "      <th>1019</th>\n",
       "      <td>Anderson Silva</td>\n",
       "      <td>2013-07-06</td>\n",
       "      <td>266.0</td>\n",
       "      <td>1183</td>\n",
       "      <td>No</td>\n",
       "      <td>2</td>\n",
       "      <td>0</td>\n",
       "      <td>266.0</td>\n",
       "    </tr>\n",
       "    <tr>\n",
       "      <th>2245</th>\n",
       "      <td>Anderson Silva</td>\n",
       "      <td>2016-02-27</td>\n",
       "      <td>791.0</td>\n",
       "      <td>2149</td>\n",
       "      <td>No</td>\n",
       "      <td>0</td>\n",
       "      <td>0</td>\n",
       "      <td>1232.0</td>\n",
       "    </tr>\n",
       "    <tr>\n",
       "      <th>2696</th>\n",
       "      <td>Anderson Silva</td>\n",
       "      <td>2017-02-11</td>\n",
       "      <td>217.0</td>\n",
       "      <td>2499</td>\n",
       "      <td>No</td>\n",
       "      <td>2</td>\n",
       "      <td>0</td>\n",
       "      <td>1582.0</td>\n",
       "    </tr>\n",
       "  </tbody>\n",
       "</table>\n",
       "</div>"
      ],
      "text/plain": [
       "          RedFighter       Date  RedDaysSinceLastFight  RedDaysSinceDebut  \\\n",
       "39    Anderson Silva 2010-04-10                  180.0                  0   \n",
       "109   Anderson Silva 2010-08-07                  119.0                119   \n",
       "238   Anderson Silva 2011-02-05                  182.0                301   \n",
       "386   Anderson Silva 2011-08-27                  203.0                504   \n",
       "689   Anderson Silva 2012-07-07                  315.0                819   \n",
       "773   Anderson Silva 2012-10-13                   98.0                917   \n",
       "1019  Anderson Silva 2013-07-06                  266.0               1183   \n",
       "2245  Anderson Silva 2016-02-27                  791.0               2149   \n",
       "2696  Anderson Silva 2017-02-11                  217.0               2499   \n",
       "\n",
       "     RedIsDebut  RedFightsInLastYear  RedFightsInLast6Months  \\\n",
       "39          Yes                    0                       0   \n",
       "109          No                    1                       1   \n",
       "238          No                    2                       1   \n",
       "386          No                    1                       0   \n",
       "689          No                    1                       0   \n",
       "773          No                    1                       1   \n",
       "1019         No                    2                       0   \n",
       "2245         No                    0                       0   \n",
       "2696         No                    2                       0   \n",
       "\n",
       "      RedDaysSinceLastWin  \n",
       "39                  246.0  \n",
       "109                 119.0  \n",
       "238                 182.0  \n",
       "386                 203.0  \n",
       "689                 315.0  \n",
       "773                  98.0  \n",
       "1019                266.0  \n",
       "2245               1232.0  \n",
       "2696               1582.0  "
      ]
     },
     "execution_count": 51,
     "metadata": {},
     "output_type": "execute_result"
    }
   ],
   "source": [
    "ufc_raw[ufc_raw['RedFighter'] == 'Anderson Silva'][['RedFighter', 'Date', 'RedDaysSinceLastFight', 'RedDaysSinceDebut', 'RedIsDebut', 'RedFightsInLastYear', 'RedFightsInLast6Months', 'RedDaysSinceLastWin']]"
   ]
  },
  {
   "cell_type": "code",
   "execution_count": 52,
   "id": "892d134b-aba4-45c6-b5ae-4cc071ce1e34",
   "metadata": {},
   "outputs": [
    {
     "name": "stderr",
     "output_type": "stream",
     "text": [
      "[INFO] ✅ Raw with Date Features file saved as 'ufc_raw_dates_ft.csv'.\n"
     ]
    }
   ],
   "source": [
    "# Save the cleaned file\n",
    "ufc_raw.to_csv(f'{project_root}/data/raw/ufc_raw_dates_ft.csv', index=False)\n",
    "logger.info(\"✅ Raw with Date Features file saved as 'ufc_raw_dates_ft.csv'.\")"
   ]
  },
  {
   "cell_type": "markdown",
   "id": "898ccb31-0e07-4557-8bd5-8a15ace18c5e",
   "metadata": {},
   "source": [
    "<div style=\"text-align: center;\">\n",
    "     <img src=\"../img/ufc_logo.png\" width=\"800\" /> \n",
    "</div>"
   ]
  },
  {
   "cell_type": "code",
   "execution_count": null,
   "id": "b4e29197-09ed-4704-a359-fa6d8cd804bf",
   "metadata": {},
   "outputs": [],
   "source": []
  }
 ],
 "metadata": {
  "kernelspec": {
   "display_name": "Python 3 (ipykernel)",
   "language": "python",
   "name": "python3"
  },
  "language_info": {
   "codemirror_mode": {
    "name": "ipython",
    "version": 3
   },
   "file_extension": ".py",
   "mimetype": "text/x-python",
   "name": "python",
   "nbconvert_exporter": "python",
   "pygments_lexer": "ipython3",
   "version": "3.13.5"
  }
 },
 "nbformat": 4,
 "nbformat_minor": 5
}
