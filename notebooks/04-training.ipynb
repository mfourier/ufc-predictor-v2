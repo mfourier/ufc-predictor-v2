{
 "cells": [
  {
   "cell_type": "markdown",
   "id": "65fb04bd-eb98-4d39-8b05-238dd112f680",
   "metadata": {},
   "source": [
    "# 🔹 UFC Fight Predictor Model Training"
   ]
  },
  {
   "cell_type": "markdown",
   "id": "fb013c25-a31b-41a5-87f3-e1e07720b8de",
   "metadata": {},
   "source": [
    "<div style=\"text-align: center;\">\n",
    "  🔹 <img src=\"../img/ufc_logo.png\" width=\"50\" /> 🔹\n",
    "</div>"
   ]
  },
  {
   "cell_type": "markdown",
   "id": "ed2a08a5-6ac5-4f20-8321-87675db3dab3",
   "metadata": {},
   "source": [
    "#  Import Libraries and Setup Environment"
   ]
  },
  {
   "cell_type": "code",
   "execution_count": 1,
   "id": "d8f8b9d8",
   "metadata": {
    "scrolled": true
   },
   "outputs": [],
   "source": [
    "# Import necessary libraries\n",
    "import os\n",
    "import sys\n",
    "import pandas as pd\n",
    "\n",
    "pd.set_option('display.max_colwidth', 200) \n",
    "\n",
    "# Get the current working directory\n",
    "current_dir = os.getcwd()\n",
    "\n",
    "# Navigate to the project root\n",
    "project_root = os.path.abspath(os.path.join(current_dir, '..'))\n",
    "\n",
    "# Import from /src\n",
    "sys.path.append(os.path.join(project_root))\n",
    "from src.metrics import *\n",
    "from src.model_factory import *\n",
    "from src.io_model import *\n",
    "from src.helpers import *\n",
    "from src.config import *"
   ]
  },
  {
   "cell_type": "markdown",
   "id": "3f694e6e-61c6-47ae-b474-feb838518e44",
   "metadata": {},
   "source": [
    "<div style=\"text-align: center;\">\n",
    "  🔹 <img src=\"../img/ufc_logo.png\" width=\"50\" /> 🔹\n",
    "</div>"
   ]
  },
  {
   "cell_type": "markdown",
   "id": "e0a512df",
   "metadata": {},
   "source": [
    "#  Load Data"
   ]
  },
  {
   "cell_type": "code",
   "execution_count": 2,
   "id": "38b113b5-5994-4df1-8a22-c75d3fe75147",
   "metadata": {},
   "outputs": [
    {
     "name": "stderr",
     "output_type": "stream",
     "text": [
      "INFO:src.io_model:📦 UFCData object loaded from: /home/mlioi/ufc-predictor/data/processed/ufc_data.pkl\n",
      "INFO:src.io_model:📦 UFCData object loaded from: /home/mlioi/ufc-predictor/data/processed/ufc_data_no_odds.pkl\n",
      "INFO:src.helpers:✅ UFCData objects loaded successfully.\n"
     ]
    }
   ],
   "source": [
    "# Load UFCData\n",
    "try:\n",
    "    ufc_data = load_data(name='ufc_data')\n",
    "    ufc_data_no_odds = load_data(name='ufc_data_no_odds')\n",
    "    logger.info(\"✅ UFCData objects loaded successfully.\")\n",
    "except Exception as e:\n",
    "    logger.error(f\"❌ Error loading training data: {e}\")"
   ]
  },
  {
   "cell_type": "code",
   "execution_count": 3,
   "id": "dc2509e9-97dc-40c0-8d92-61539fe64580",
   "metadata": {},
   "outputs": [
    {
     "data": {
      "text/plain": [
       "📊 UFC Dataset Summary\n",
       "----------------------------------------\n",
       "🧪 Total samples      : 6001\n",
       "🧪 Train/Test split  : 4800 / 1201\n",
       "🧪 Total features     : 28\n",
       "\n",
       "🔢 Numerical features : 25\n",
       "🔠 Categorical features: 3\n",
       "    - Binary          : 2\n",
       "    - Multiclass      : 1\n",
       "\n",
       "🏷 Label distribution (raw):\n",
       "   - Class 0: 3484 (58.1%)\n",
       "   - Class 1: 2517 (41.9%)\n",
       "\n",
       "✅ No missing values detected\n",
       "\n",
       "📈 Feature summary statistics (train set):\n",
       "                        mean      std      min       max\n",
       "BlueTotalTitleBouts    0.260    1.111     0.00    16.000\n",
       "RedTotalTitleBouts     0.572    1.574     0.00    16.000\n",
       "LoseStreakDif          0.059    1.012    -6.00     6.000\n",
       "WinStreakDif          -0.162    1.921   -18.00    10.000\n",
       "LongestWinStreakDif   -0.772    2.053   -12.00    14.000\n",
       "KODif                 -0.536    2.181   -21.00    14.000\n",
       "SubDif                -0.334    1.877   -15.00    10.000\n",
       "HeightDif             -0.030    6.286   -33.02    30.480\n",
       "ReachDif              -0.260    8.266   -33.02    30.480\n",
       "AgeDif                -0.611    5.181   -17.00    16.000\n",
       "SigStrDif             -2.540   19.869  -118.00   128.222\n",
       "AvgSubAttDif          -0.076    0.880    -8.40     7.800\n",
       "AvgTDDif              -0.159    1.765   -11.00    10.860\n",
       "RedTotalFights         7.345    6.809     0.00    48.000\n",
       "BlueTotalFights        5.092    5.524     0.00    45.000\n",
       "HeightReachRatioDif    0.001    0.035    -0.12     0.124\n",
       "RedFinishRate          0.466    0.357     0.00     1.000\n",
       "BlueFinishRate         0.389    0.382     0.00     1.000\n",
       "RedWinRatio            0.586    0.294     0.00     1.000\n",
       "BlueWinRatio           0.492    0.349     0.00     1.000\n",
       "RedKOPerFight          0.195    0.229     0.00     1.000\n",
       "BlueKOPerFight         0.166    0.235     0.00     1.000\n",
       "RedSubPerFight         0.120    0.192     0.00     1.000\n",
       "BlueSubPerFight        0.095    0.187     0.00     1.000\n",
       "OddsDif              179.755  525.039 -1975.00  3200.000\n",
       "\n",
       "⚙️ Preprocessing status:\n",
       "   - Standardized?    : ✅\n",
       "   - Encoded?         : ✅\n",
       "   - Correlation cached (raw)      : ✅\n",
       "   - Correlation cached (processed): ✅\n",
       "----------------------------------------"
      ]
     },
     "execution_count": 3,
     "metadata": {},
     "output_type": "execute_result"
    }
   ],
   "source": [
    "ufc_data"
   ]
  },
  {
   "cell_type": "code",
   "execution_count": 4,
   "id": "c95759fb-6f33-424f-b82d-e465df1e39c0",
   "metadata": {},
   "outputs": [
    {
     "data": {
      "text/plain": [
       "📊 UFC Dataset Summary\n",
       "----------------------------------------\n",
       "🧪 Total samples      : 6001\n",
       "🧪 Train/Test split  : 4800 / 1201\n",
       "🧪 Total features     : 27\n",
       "\n",
       "🔢 Numerical features : 24\n",
       "🔠 Categorical features: 3\n",
       "    - Binary          : 2\n",
       "    - Multiclass      : 1\n",
       "\n",
       "🏷 Label distribution (raw):\n",
       "   - Class 0: 3484 (58.1%)\n",
       "   - Class 1: 2517 (41.9%)\n",
       "\n",
       "✅ No missing values detected\n",
       "\n",
       "📈 Feature summary statistics (train set):\n",
       "                      mean     std     min      max\n",
       "BlueTotalTitleBouts  0.260   1.111    0.00   16.000\n",
       "RedTotalTitleBouts   0.572   1.574    0.00   16.000\n",
       "LoseStreakDif        0.059   1.012   -6.00    6.000\n",
       "WinStreakDif        -0.162   1.921  -18.00   10.000\n",
       "LongestWinStreakDif -0.772   2.053  -12.00   14.000\n",
       "KODif               -0.536   2.181  -21.00   14.000\n",
       "SubDif              -0.334   1.877  -15.00   10.000\n",
       "HeightDif           -0.030   6.286  -33.02   30.480\n",
       "ReachDif            -0.260   8.266  -33.02   30.480\n",
       "AgeDif              -0.611   5.181  -17.00   16.000\n",
       "SigStrDif           -2.540  19.869 -118.00  128.222\n",
       "AvgSubAttDif        -0.076   0.880   -8.40    7.800\n",
       "AvgTDDif            -0.159   1.765  -11.00   10.860\n",
       "RedTotalFights       7.345   6.809    0.00   48.000\n",
       "BlueTotalFights      5.092   5.524    0.00   45.000\n",
       "HeightReachRatioDif  0.001   0.035   -0.12    0.124\n",
       "RedFinishRate        0.466   0.357    0.00    1.000\n",
       "BlueFinishRate       0.389   0.382    0.00    1.000\n",
       "RedWinRatio          0.586   0.294    0.00    1.000\n",
       "BlueWinRatio         0.492   0.349    0.00    1.000\n",
       "RedKOPerFight        0.195   0.229    0.00    1.000\n",
       "BlueKOPerFight       0.166   0.235    0.00    1.000\n",
       "RedSubPerFight       0.120   0.192    0.00    1.000\n",
       "BlueSubPerFight      0.095   0.187    0.00    1.000\n",
       "\n",
       "⚙️ Preprocessing status:\n",
       "   - Standardized?    : ✅\n",
       "   - Encoded?         : ✅\n",
       "   - Correlation cached (raw)      : ✅\n",
       "   - Correlation cached (processed): ✅\n",
       "----------------------------------------"
      ]
     },
     "execution_count": 4,
     "metadata": {},
     "output_type": "execute_result"
    }
   ],
   "source": [
    "ufc_data_no_odds"
   ]
  },
  {
   "cell_type": "markdown",
   "id": "ddee1131-8d30-48c1-9ccd-19cc62db36ad",
   "metadata": {},
   "source": [
    "<div style=\"text-align: center;\">\n",
    "  🔹 <img src=\"../img/ufc_logo.png\" width=\"50\" /> 🔹\n",
    "</div>"
   ]
  },
  {
   "cell_type": "markdown",
   "id": "ca7322b2",
   "metadata": {},
   "source": [
    "# 🔧 Hyperparameters Tuning 🔧"
   ]
  },
  {
   "cell_type": "code",
   "execution_count": 5,
   "id": "1fc2cbd6",
   "metadata": {},
   "outputs": [
    {
     "name": "stderr",
     "output_type": "stream",
     "text": [
      "INFO:src.helpers:💡 Hyperparameters Tuning is Activated\n"
     ]
    },
    {
     "data": {
      "text/html": [
       "<div>\n",
       "<style scoped>\n",
       "    .dataframe tbody tr th:only-of-type {\n",
       "        vertical-align: middle;\n",
       "    }\n",
       "\n",
       "    .dataframe tbody tr th {\n",
       "        vertical-align: top;\n",
       "    }\n",
       "\n",
       "    .dataframe thead th {\n",
       "        text-align: right;\n",
       "    }\n",
       "</style>\n",
       "<table border=\"1\" class=\"dataframe\">\n",
       "  <thead>\n",
       "    <tr style=\"text-align: right;\">\n",
       "      <th></th>\n",
       "      <th>Model</th>\n",
       "      <th>Hyperparameters</th>\n",
       "    </tr>\n",
       "  </thead>\n",
       "  <tbody>\n",
       "    <tr>\n",
       "      <th>0</th>\n",
       "      <td>Support Vector Machine</td>\n",
       "      <td>C: [0.01, 0.1, 1]; kernel: ['linear']; gamma: ['auto']</td>\n",
       "    </tr>\n",
       "    <tr>\n",
       "      <th>1</th>\n",
       "      <td>Random Forest</td>\n",
       "      <td>n_estimators: [10, 50, 100]; max_depth: [5, 10, 100]</td>\n",
       "    </tr>\n",
       "    <tr>\n",
       "      <th>2</th>\n",
       "      <td>Logistic Regression</td>\n",
       "      <td>C: [0.001, 0.001, 0.01, 0.05, 0.1, 1, 2, 5, 7, 8, 8.5, 9, 10, 20, 40, 80]; solver: ['liblinear']; penalty: ['l1', 'l2']</td>\n",
       "    </tr>\n",
       "    <tr>\n",
       "      <th>3</th>\n",
       "      <td>K-Nearest Neighbors</td>\n",
       "      <td>n_neighbors: [3, 6, 9, 12, 15]; weights: ['uniform', 'distance']; metric: ['euclidean', 'manhattan']</td>\n",
       "    </tr>\n",
       "    <tr>\n",
       "      <th>4</th>\n",
       "      <td>AdaBoost</td>\n",
       "      <td>n_estimators: [10, 50, 100]; learning_rate: [0.01, 0.1, 1.0]</td>\n",
       "    </tr>\n",
       "    <tr>\n",
       "      <th>5</th>\n",
       "      <td>Naive Bayes</td>\n",
       "      <td>var_smoothing: [1e-08, 1e-07, 1e-06, 1e-05]</td>\n",
       "    </tr>\n",
       "    <tr>\n",
       "      <th>6</th>\n",
       "      <td>Gradient Boosting</td>\n",
       "      <td>n_estimators: [100, 200]; learning_rate: [0.01, 0.1, 1.0]; max_depth: [3, 5, 7]</td>\n",
       "    </tr>\n",
       "    <tr>\n",
       "      <th>7</th>\n",
       "      <td>Extra Trees</td>\n",
       "      <td>n_estimators: [50, 100]; max_depth: [None, 10, 20]</td>\n",
       "    </tr>\n",
       "    <tr>\n",
       "      <th>8</th>\n",
       "      <td>Quadratic Discriminant Analysis</td>\n",
       "      <td>reg_param: [0.1, 0.3, 0.5, 0.9]</td>\n",
       "    </tr>\n",
       "    <tr>\n",
       "      <th>9</th>\n",
       "      <td>Neural Network</td>\n",
       "      <td>hidden_layer_sizes: [(200,), (50, 50)]; activation: ['relu', 'logistic']; solver: ['adam', 'sgd']; alpha: [0.001, 0.01]; learning_rate: ['adaptive']; learning_rate_init: [0.01]; early_stopping: [T...</td>\n",
       "    </tr>\n",
       "    <tr>\n",
       "      <th>10</th>\n",
       "      <td>XGBoost</td>\n",
       "      <td>n_estimators: [50, 150]; learning_rate: [0.01, 0.1]; max_depth: [3, 5, 7]; subsample: [0.8, 1.0]; colsample_bytree: [0.8, 1.0]</td>\n",
       "    </tr>\n",
       "  </tbody>\n",
       "</table>\n",
       "</div>"
      ],
      "text/plain": [
       "                              Model  \\\n",
       "0            Support Vector Machine   \n",
       "1                     Random Forest   \n",
       "2               Logistic Regression   \n",
       "3               K-Nearest Neighbors   \n",
       "4                          AdaBoost   \n",
       "5                       Naive Bayes   \n",
       "6                 Gradient Boosting   \n",
       "7                       Extra Trees   \n",
       "8   Quadratic Discriminant Analysis   \n",
       "9                    Neural Network   \n",
       "10                          XGBoost   \n",
       "\n",
       "                                                                                                                                                                                            Hyperparameters  \n",
       "0                                                                                                                                                    C: [0.01, 0.1, 1]; kernel: ['linear']; gamma: ['auto']  \n",
       "1                                                                                                                                                      n_estimators: [10, 50, 100]; max_depth: [5, 10, 100]  \n",
       "2                                                                                   C: [0.001, 0.001, 0.01, 0.05, 0.1, 1, 2, 5, 7, 8, 8.5, 9, 10, 20, 40, 80]; solver: ['liblinear']; penalty: ['l1', 'l2']  \n",
       "3                                                                                                      n_neighbors: [3, 6, 9, 12, 15]; weights: ['uniform', 'distance']; metric: ['euclidean', 'manhattan']  \n",
       "4                                                                                                                                              n_estimators: [10, 50, 100]; learning_rate: [0.01, 0.1, 1.0]  \n",
       "5                                                                                                                                                               var_smoothing: [1e-08, 1e-07, 1e-06, 1e-05]  \n",
       "6                                                                                                                           n_estimators: [100, 200]; learning_rate: [0.01, 0.1, 1.0]; max_depth: [3, 5, 7]  \n",
       "7                                                                                                                                                        n_estimators: [50, 100]; max_depth: [None, 10, 20]  \n",
       "8                                                                                                                                                                           reg_param: [0.1, 0.3, 0.5, 0.9]  \n",
       "9   hidden_layer_sizes: [(200,), (50, 50)]; activation: ['relu', 'logistic']; solver: ['adam', 'sgd']; alpha: [0.001, 0.01]; learning_rate: ['adaptive']; learning_rate_init: [0.01]; early_stopping: [T...  \n",
       "10                                                                           n_estimators: [50, 150]; learning_rate: [0.01, 0.1]; max_depth: [3, 5, 7]; subsample: [0.8, 1.0]; colsample_bytree: [0.8, 1.0]  "
      ]
     },
     "metadata": {},
     "output_type": "display_data"
    }
   ],
   "source": [
    "from xgboost import XGBClassifier\n",
    "from sklearn.svm import SVC\n",
    "from sklearn.ensemble import RandomForestClassifier, AdaBoostClassifier\n",
    "from sklearn.linear_model import LogisticRegression\n",
    "from sklearn.neighbors import KNeighborsClassifier\n",
    "from sklearn.naive_bayes import GaussianNB\n",
    "from sklearn.model_selection import GridSearchCV\n",
    "from sklearn.metrics import f1_score\n",
    "\n",
    "hyperparameter_tuning = True\n",
    "\n",
    "if hyperparameter_tuning:\n",
    "    logger.info(\"💡 Hyperparameters Tuning is Activated\")\n",
    "\n",
    "    model_params = {\n",
    "    \"Support Vector Machine\": (\n",
    "        SVC(probability=True),\n",
    "        {'C': [0.01, 0.1, 1], 'kernel': ['linear'], 'gamma': ['auto']}\n",
    "    ),\n",
    "    \"Random Forest\": (\n",
    "        RandomForestClassifier(),\n",
    "        {'n_estimators': [10, 50, 100], 'max_depth': [5, 10, 100]}\n",
    "    ),\n",
    "    \"Logistic Regression\": (\n",
    "        LogisticRegression(),\n",
    "        {'C': [0.001, 0.001, 0.01, 0.05, 0.1, 1, 2, 5, 7, 8, 8.5, 9, 10, 20, 40, 80], 'solver': ['liblinear'], 'penalty': ['l1','l2']}\n",
    "    ),\n",
    "    \"K-Nearest Neighbors\": (\n",
    "        KNeighborsClassifier(),\n",
    "        {'n_neighbors': [3, 6, 9, 12, 15], 'weights': ['uniform', 'distance'], 'metric': ['euclidean', 'manhattan']}\n",
    "    ),\n",
    "    \"AdaBoost\": (\n",
    "        AdaBoostClassifier(),\n",
    "        {'n_estimators': [10, 50, 100], 'learning_rate': [0.01, 0.1, 1.0]}\n",
    "    ),\n",
    "    \"Naive Bayes\": (\n",
    "        GaussianNB(),\n",
    "        {'var_smoothing': [1e-8, 1e-7, 1e-6, 1e-5]}\n",
    "    ),\n",
    "    \"Gradient Boosting\": (\n",
    "        GradientBoostingClassifier(),\n",
    "        {'n_estimators': [100, 200], 'learning_rate': [0.01, 0.1, 1.0], 'max_depth': [3, 5, 7]}\n",
    "    ),\n",
    "    \"Extra Trees\": (\n",
    "        ExtraTreesClassifier(),\n",
    "        {'n_estimators': [50, 100], 'max_depth': [None, 10, 20]}\n",
    "    ),\n",
    "    \"Quadratic Discriminant Analysis\": (\n",
    "        QuadraticDiscriminantAnalysis(),\n",
    "        {'reg_param': [0.1, 0.3, 0.5, 0.9]}\n",
    "    ),\n",
    "    \"Neural Network\": (\n",
    "        MLPClassifier(max_iter=200, random_state=42),\n",
    "        {\n",
    "        # Architecture: number and size of hidden layers\n",
    "        'hidden_layer_sizes': [\n",
    "            (200,), (50, 50),\n",
    "        ],\n",
    "        # Activation function for hidden layers\n",
    "        'activation': ['relu', 'logistic'],\n",
    "        # Optimizer for gradient descent\n",
    "        'solver': ['adam', 'sgd'],\n",
    "        # L2 regularization strength (higher alpha reduces overfitting but can cause underfitting)\n",
    "        'alpha': [0.001, 0.01],\n",
    "        # Learning rate schedule\n",
    "        'learning_rate': ['adaptive'],\n",
    "        # Initial learning rate (for adam and sgd solvers)\n",
    "        'learning_rate_init': [0.01],\n",
    "        # Early stopping based on validation performance to prevent overfitting\n",
    "        'early_stopping': [True],\n",
    "        # Mini-batch size for training with adam/sgd\n",
    "        'batch_size': [32, 64],\n",
    "        # Momentum for SGD (controls contribution of previous updates)\n",
    "        'momentum': [0.2, 0.8],\n",
    "        # Proportion of training set used as validation for early stopping\n",
    "        'validation_fraction': [0.2]\n",
    "        }\n",
    "    ),\n",
    "    \"XGBoost\": (\n",
    "            XGBClassifier(eval_metric='logloss'),\n",
    "            {\n",
    "                'n_estimators': [50, 150],\n",
    "                'learning_rate': [0.01, 0.1],\n",
    "                'max_depth': [3, 5, 7],\n",
    "                'subsample': [0.8, 1.0],\n",
    "                'colsample_bytree': [0.8, 1.0]\n",
    "            }\n",
    "        )\n",
    "}\n",
    "    display_model_params_table(model_params)\n",
    "else:\n",
    "    logger.info(\"💡 Hyperparameters Tuning is Deactivated\")\n",
    "    model_params = None # Default Settings"
   ]
  },
  {
   "cell_type": "markdown",
   "id": "60f8efd0-53e2-47a1-8203-36fa6c7695a7",
   "metadata": {},
   "source": [
    "# Notes\n",
    "- For SVM, kernel='linear' has better performance.\n",
    "- For Logistic Regression, performs well for lower values of c\n",
    "- Neural network with shape (50x50 works great)\n",
    "- SVM has a more rich feature importance results with odds\n",
    "- SVM Linear without odds turns out to be a dummy model\n",
    "- SVM RBF is better for no odds model"
   ]
  },
  {
   "cell_type": "markdown",
   "id": "2d98c5ad-4089-41de-9080-7691947cf787",
   "metadata": {},
   "source": [
    "<div style=\"text-align: center;\">\n",
    "  🔹 <img src=\"../img/ufc_logo.png\" width=\"50\" /> 🔹\n",
    "</div>"
   ]
  },
  {
   "cell_type": "markdown",
   "id": "443a7063",
   "metadata": {},
   "source": [
    "# 🔹 UFC Machine Learning Training (with Odds)"
   ]
  },
  {
   "cell_type": "markdown",
   "id": "1eaa4135",
   "metadata": {},
   "source": [
    "##  KNN Model Training"
   ]
  },
  {
   "cell_type": "markdown",
   "id": "e841c166-6b19-4bed-b779-4ed42d23549f",
   "metadata": {},
   "source": [
    "### 🚀 KNN Training "
   ]
  },
  {
   "cell_type": "code",
   "execution_count": 88,
   "id": "9cbf229d",
   "metadata": {
    "scrolled": true
   },
   "outputs": [
    {
     "name": "stderr",
     "output_type": "stream",
     "text": [
      "INFO:src.model_factory:[K-Nearest Neighbors] UFC GridSearchCV Training (F1_macro)\n",
      "INFO:root:[K-Nearest Neighbors] 🤖 Training...\n"
     ]
    },
    {
     "name": "stdout",
     "output_type": "stream",
     "text": [
      "Fitting 5 folds for each of 20 candidates, totalling 100 fits\n",
      "[CV 1/5] END metric=euclidean, n_neighbors=3, weights=uniform;, score=0.549 total time=   0.1s\n",
      "[CV 2/5] END metric=euclidean, n_neighbors=3, weights=uniform;, score=0.543 total time=   0.1s\n",
      "[CV 3/5] END metric=euclidean, n_neighbors=3, weights=uniform;, score=0.587 total time=   0.1s\n",
      "[CV 4/5] END metric=euclidean, n_neighbors=3, weights=uniform;, score=0.556 total time=   0.1s\n",
      "[CV 5/5] END metric=euclidean, n_neighbors=3, weights=uniform;, score=0.576 total time=   0.1s\n",
      "[CV 1/5] END metric=euclidean, n_neighbors=3, weights=distance;, score=0.548 total time=   0.0s\n",
      "[CV 2/5] END metric=euclidean, n_neighbors=3, weights=distance;, score=0.545 total time=   0.0s\n",
      "[CV 3/5] END metric=euclidean, n_neighbors=3, weights=distance;, score=0.588 total time=   0.0s\n",
      "[CV 4/5] END metric=euclidean, n_neighbors=3, weights=distance;, score=0.555 total time=   0.0s\n",
      "[CV 5/5] END metric=euclidean, n_neighbors=3, weights=distance;, score=0.575 total time=   0.0s\n",
      "[CV 1/5] END metric=euclidean, n_neighbors=6, weights=uniform;, score=0.539 total time=   0.1s\n",
      "[CV 2/5] END metric=euclidean, n_neighbors=6, weights=uniform;, score=0.497 total time=   0.1s\n",
      "[CV 3/5] END metric=euclidean, n_neighbors=6, weights=uniform;, score=0.576 total time=   0.1s\n",
      "[CV 4/5] END metric=euclidean, n_neighbors=6, weights=uniform;, score=0.545 total time=   0.1s\n",
      "[CV 5/5] END metric=euclidean, n_neighbors=6, weights=uniform;, score=0.548 total time=   0.1s\n",
      "[CV 1/5] END metric=euclidean, n_neighbors=6, weights=distance;, score=0.572 total time=   0.0s\n",
      "[CV 2/5] END metric=euclidean, n_neighbors=6, weights=distance;, score=0.534 total time=   0.0s\n",
      "[CV 3/5] END metric=euclidean, n_neighbors=6, weights=distance;, score=0.610 total time=   0.0s\n",
      "[CV 4/5] END metric=euclidean, n_neighbors=6, weights=distance;, score=0.567 total time=   0.0s\n",
      "[CV 5/5] END metric=euclidean, n_neighbors=6, weights=distance;, score=0.583 total time=   0.0s\n",
      "[CV 1/5] END metric=euclidean, n_neighbors=9, weights=uniform;, score=0.585 total time=   0.1s\n",
      "[CV 2/5] END metric=euclidean, n_neighbors=9, weights=uniform;, score=0.537 total time=   0.1s\n",
      "[CV 3/5] END metric=euclidean, n_neighbors=9, weights=uniform;, score=0.584 total time=   0.1s\n",
      "[CV 4/5] END metric=euclidean, n_neighbors=9, weights=uniform;, score=0.577 total time=   0.1s\n",
      "[CV 5/5] END metric=euclidean, n_neighbors=9, weights=uniform;, score=0.577 total time=   0.1s\n",
      "[CV 1/5] END metric=euclidean, n_neighbors=9, weights=distance;, score=0.585 total time=   0.0s\n",
      "[CV 2/5] END metric=euclidean, n_neighbors=9, weights=distance;, score=0.539 total time=   0.0s\n",
      "[CV 3/5] END metric=euclidean, n_neighbors=9, weights=distance;, score=0.587 total time=   0.0s\n",
      "[CV 4/5] END metric=euclidean, n_neighbors=9, weights=distance;, score=0.578 total time=   0.0s\n",
      "[CV 5/5] END metric=euclidean, n_neighbors=9, weights=distance;, score=0.577 total time=   0.0s\n",
      "[CV 1/5] END metric=euclidean, n_neighbors=12, weights=uniform;, score=0.572 total time=   0.1s\n",
      "[CV 2/5] END metric=euclidean, n_neighbors=12, weights=uniform;, score=0.524 total time=   0.1s\n",
      "[CV 3/5] END metric=euclidean, n_neighbors=12, weights=uniform;, score=0.580 total time=   0.1s\n",
      "[CV 4/5] END metric=euclidean, n_neighbors=12, weights=uniform;, score=0.558 total time=   0.1s\n",
      "[CV 5/5] END metric=euclidean, n_neighbors=12, weights=uniform;, score=0.571 total time=   0.1s\n",
      "[CV 1/5] END metric=euclidean, n_neighbors=12, weights=distance;, score=0.583 total time=   0.0s\n",
      "[CV 2/5] END metric=euclidean, n_neighbors=12, weights=distance;, score=0.532 total time=   0.0s\n",
      "[CV 3/5] END metric=euclidean, n_neighbors=12, weights=distance;, score=0.610 total time=   0.0s\n",
      "[CV 4/5] END metric=euclidean, n_neighbors=12, weights=distance;, score=0.569 total time=   0.0s\n",
      "[CV 5/5] END metric=euclidean, n_neighbors=12, weights=distance;, score=0.582 total time=   0.0s\n",
      "[CV 1/5] END metric=euclidean, n_neighbors=15, weights=uniform;, score=0.577 total time=   0.1s\n",
      "[CV 2/5] END metric=euclidean, n_neighbors=15, weights=uniform;, score=0.560 total time=   0.1s\n",
      "[CV 3/5] END metric=euclidean, n_neighbors=15, weights=uniform;, score=0.596 total time=   0.1s\n",
      "[CV 4/5] END metric=euclidean, n_neighbors=15, weights=uniform;, score=0.599 total time=   0.1s\n",
      "[CV 5/5] END metric=euclidean, n_neighbors=15, weights=uniform;, score=0.587 total time=   0.1s\n",
      "[CV 1/5] END metric=euclidean, n_neighbors=15, weights=distance;, score=0.576 total time=   0.0s\n",
      "[CV 2/5] END metric=euclidean, n_neighbors=15, weights=distance;, score=0.563 total time=   0.0s\n",
      "[CV 3/5] END metric=euclidean, n_neighbors=15, weights=distance;, score=0.599 total time=   0.0s\n",
      "[CV 4/5] END metric=euclidean, n_neighbors=15, weights=distance;, score=0.596 total time=   0.0s\n",
      "[CV 5/5] END metric=euclidean, n_neighbors=15, weights=distance;, score=0.587 total time=   0.0s\n",
      "[CV 1/5] END metric=manhattan, n_neighbors=3, weights=uniform;, score=0.550 total time=   0.1s\n",
      "[CV 2/5] END metric=manhattan, n_neighbors=3, weights=uniform;, score=0.547 total time=   0.1s\n",
      "[CV 3/5] END metric=manhattan, n_neighbors=3, weights=uniform;, score=0.578 total time=   0.1s\n",
      "[CV 4/5] END metric=manhattan, n_neighbors=3, weights=uniform;, score=0.564 total time=   0.1s\n",
      "[CV 5/5] END metric=manhattan, n_neighbors=3, weights=uniform;, score=0.557 total time=   0.1s\n",
      "[CV 1/5] END metric=manhattan, n_neighbors=3, weights=distance;, score=0.552 total time=   0.0s\n",
      "[CV 2/5] END metric=manhattan, n_neighbors=3, weights=distance;, score=0.547 total time=   0.0s\n",
      "[CV 3/5] END metric=manhattan, n_neighbors=3, weights=distance;, score=0.579 total time=   0.0s\n",
      "[CV 4/5] END metric=manhattan, n_neighbors=3, weights=distance;, score=0.563 total time=   0.0s\n",
      "[CV 5/5] END metric=manhattan, n_neighbors=3, weights=distance;, score=0.560 total time=   0.0s\n",
      "[CV 1/5] END metric=manhattan, n_neighbors=6, weights=uniform;, score=0.527 total time=   0.1s\n",
      "[CV 2/5] END metric=manhattan, n_neighbors=6, weights=uniform;, score=0.522 total time=   0.1s\n",
      "[CV 3/5] END metric=manhattan, n_neighbors=6, weights=uniform;, score=0.551 total time=   0.1s\n",
      "[CV 4/5] END metric=manhattan, n_neighbors=6, weights=uniform;, score=0.548 total time=   0.1s\n",
      "[CV 5/5] END metric=manhattan, n_neighbors=6, weights=uniform;, score=0.551 total time=   0.1s\n",
      "[CV 1/5] END metric=manhattan, n_neighbors=6, weights=distance;, score=0.564 total time=   0.0s\n",
      "[CV 2/5] END metric=manhattan, n_neighbors=6, weights=distance;, score=0.546 total time=   0.0s\n",
      "[CV 3/5] END metric=manhattan, n_neighbors=6, weights=distance;, score=0.595 total time=   0.0s\n",
      "[CV 4/5] END metric=manhattan, n_neighbors=6, weights=distance;, score=0.567 total time=   0.0s\n",
      "[CV 5/5] END metric=manhattan, n_neighbors=6, weights=distance;, score=0.586 total time=   0.0s\n",
      "[CV 1/5] END metric=manhattan, n_neighbors=9, weights=uniform;, score=0.560 total time=   0.1s\n",
      "[CV 2/5] END metric=manhattan, n_neighbors=9, weights=uniform;, score=0.545 total time=   0.1s\n",
      "[CV 3/5] END metric=manhattan, n_neighbors=9, weights=uniform;, score=0.609 total time=   0.1s\n",
      "[CV 4/5] END metric=manhattan, n_neighbors=9, weights=uniform;, score=0.595 total time=   0.1s\n",
      "[CV 5/5] END metric=manhattan, n_neighbors=9, weights=uniform;, score=0.568 total time=   0.1s\n",
      "[CV 1/5] END metric=manhattan, n_neighbors=9, weights=distance;, score=0.564 total time=   0.0s\n",
      "[CV 2/5] END metric=manhattan, n_neighbors=9, weights=distance;, score=0.551 total time=   0.0s\n",
      "[CV 3/5] END metric=manhattan, n_neighbors=9, weights=distance;, score=0.611 total time=   0.0s\n",
      "[CV 4/5] END metric=manhattan, n_neighbors=9, weights=distance;, score=0.596 total time=   0.0s\n",
      "[CV 5/5] END metric=manhattan, n_neighbors=9, weights=distance;, score=0.574 total time=   0.0s\n",
      "[CV 1/5] END metric=manhattan, n_neighbors=12, weights=uniform;, score=0.566 total time=   0.1s\n",
      "[CV 2/5] END metric=manhattan, n_neighbors=12, weights=uniform;, score=0.538 total time=   0.1s\n",
      "[CV 3/5] END metric=manhattan, n_neighbors=12, weights=uniform;, score=0.586 total time=   0.1s\n",
      "[CV 4/5] END metric=manhattan, n_neighbors=12, weights=uniform;, score=0.567 total time=   0.1s\n",
      "[CV 5/5] END metric=manhattan, n_neighbors=12, weights=uniform;, score=0.550 total time=   0.1s\n",
      "[CV 1/5] END metric=manhattan, n_neighbors=12, weights=distance;, score=0.587 total time=   0.0s\n",
      "[CV 2/5] END metric=manhattan, n_neighbors=12, weights=distance;, score=0.563 total time=   0.0s\n",
      "[CV 3/5] END metric=manhattan, n_neighbors=12, weights=distance;, score=0.613 total time=   0.0s\n",
      "[CV 4/5] END metric=manhattan, n_neighbors=12, weights=distance;, score=0.586 total time=   0.0s\n",
      "[CV 5/5] END metric=manhattan, n_neighbors=12, weights=distance;, score=0.573 total time=   0.0s\n",
      "[CV 1/5] END metric=manhattan, n_neighbors=15, weights=uniform;, score=0.588 total time=   0.1s\n",
      "[CV 2/5] END metric=manhattan, n_neighbors=15, weights=uniform;, score=0.549 total time=   0.1s\n",
      "[CV 3/5] END metric=manhattan, n_neighbors=15, weights=uniform;, score=0.590 total time=   0.1s\n",
      "[CV 4/5] END metric=manhattan, n_neighbors=15, weights=uniform;, score=0.602 total time=   0.1s\n",
      "[CV 5/5] END metric=manhattan, n_neighbors=15, weights=uniform;, score=0.566 total time=   0.1s\n",
      "[CV 1/5] END metric=manhattan, n_neighbors=15, weights=distance;, score=0.587 total time=   0.0s\n",
      "[CV 2/5] END metric=manhattan, n_neighbors=15, weights=distance;, score=0.551 total time=   0.0s\n",
      "[CV 3/5] END metric=manhattan, n_neighbors=15, weights=distance;, score=0.588 total time=   0.0s\n",
      "[CV 4/5] END metric=manhattan, n_neighbors=15, weights=distance;, score=0.603 total time=   0.0s\n",
      "[CV 5/5] END metric=manhattan, n_neighbors=15, weights=distance;, score=0.567 total time=   0.0s\n"
     ]
    },
    {
     "name": "stderr",
     "output_type": "stream",
     "text": [
      "INFO:root:[K-Nearest Neighbors] 🔍 Best F1_macro: 0.5844\n",
      "[K-Nearest Neighbors] 🔍 Best Params: {'metric': 'manhattan', 'n_neighbors': 12, 'weights': 'distance'}\n"
     ]
    }
   ],
   "source": [
    "model_name = 'K-Nearest Neighbors'\n",
    "start = time.time()\n",
    "model = model_factory(model_name, ufc_data, model_params, scoring=\"f1_macro\")\n",
    "end = time.time()\n",
    "duration = end - start"
   ]
  },
  {
   "cell_type": "markdown",
   "id": "49256938-9b41-494a-8b66-7a4663eb0147",
   "metadata": {},
   "source": [
    "### 🔍 KNN Metrics"
   ]
  },
  {
   "cell_type": "code",
   "execution_count": 89,
   "id": "70e199a0-883a-4db8-a0f9-ad93364a3120",
   "metadata": {},
   "outputs": [
    {
     "data": {
      "text/html": [
       "<pre style=\"white-space:pre;overflow-x:auto;line-height:normal;font-family:Menlo,'DejaVu Sans Mono',consolas,'Courier New',monospace\"><span style=\"font-weight: bold\">{</span>\n",
       "    <span style=\"color: #008000; text-decoration-color: #008000\">'Accuracy'</span>: <span style=\"color: #008080; text-decoration-color: #008080; font-weight: bold\">0.5945</span>,\n",
       "    <span style=\"color: #008000; text-decoration-color: #008000\">'Balanced Accuracy'</span>: <span style=\"color: #800080; text-decoration-color: #800080; font-weight: bold\">np.float64</span><span style=\"font-weight: bold\">(</span><span style=\"color: #008080; text-decoration-color: #008080; font-weight: bold\">0.5688</span><span style=\"font-weight: bold\">)</span>,\n",
       "    <span style=\"color: #008000; text-decoration-color: #008000\">'Precision Red'</span>: <span style=\"color: #008080; text-decoration-color: #008080; font-weight: bold\">0.6303</span>,\n",
       "    <span style=\"color: #008000; text-decoration-color: #008000\">'Recall Red'</span>: <span style=\"color: #008080; text-decoration-color: #008080; font-weight: bold\">0.7288</span>,\n",
       "    <span style=\"color: #008000; text-decoration-color: #008000\">'F1 Red'</span>: <span style=\"color: #008080; text-decoration-color: #008080; font-weight: bold\">0.676</span>,\n",
       "    <span style=\"color: #008000; text-decoration-color: #008000\">'Precision Blue'</span>: <span style=\"color: #008080; text-decoration-color: #008080; font-weight: bold\">0.5215</span>,\n",
       "    <span style=\"color: #008000; text-decoration-color: #008000\">'Recall Blue'</span>: <span style=\"color: #008080; text-decoration-color: #008080; font-weight: bold\">0.4087</span>,\n",
       "    <span style=\"color: #008000; text-decoration-color: #008000\">'F1 Blue'</span>: <span style=\"color: #008080; text-decoration-color: #008080; font-weight: bold\">0.4583</span>,\n",
       "    <span style=\"color: #008000; text-decoration-color: #008000\">'F1 Macro'</span>: <span style=\"color: #008080; text-decoration-color: #008080; font-weight: bold\">0.5671</span>,\n",
       "    <span style=\"color: #008000; text-decoration-color: #008000\">'ROC AUC'</span>: <span style=\"color: #800080; text-decoration-color: #800080; font-weight: bold\">np.float64</span><span style=\"font-weight: bold\">(</span><span style=\"color: #008080; text-decoration-color: #008080; font-weight: bold\">0.6121</span><span style=\"font-weight: bold\">)</span>,\n",
       "    <span style=\"color: #008000; text-decoration-color: #008000\">'Brier Score'</span>: <span style=\"color: #800080; text-decoration-color: #800080; font-weight: bold\">np.float64</span><span style=\"font-weight: bold\">(</span><span style=\"color: #008080; text-decoration-color: #008080; font-weight: bold\">0.2415</span><span style=\"font-weight: bold\">)</span>,\n",
       "    <span style=\"color: #008000; text-decoration-color: #008000\">'MCC'</span>: <span style=\"color: #800080; text-decoration-color: #800080; font-weight: bold\">np.float64</span><span style=\"font-weight: bold\">(</span><span style=\"color: #008080; text-decoration-color: #008080; font-weight: bold\">0.1445</span><span style=\"font-weight: bold\">)</span>,\n",
       "    <span style=\"color: #008000; text-decoration-color: #008000\">'Kappa'</span>: <span style=\"color: #800080; text-decoration-color: #800080; font-weight: bold\">np.float64</span><span style=\"font-weight: bold\">(</span><span style=\"color: #008080; text-decoration-color: #008080; font-weight: bold\">0.1418</span><span style=\"font-weight: bold\">)</span>\n",
       "<span style=\"font-weight: bold\">}</span>\n",
       "</pre>\n"
      ],
      "text/plain": [
       "\u001b[1m{\u001b[0m\n",
       "    \u001b[32m'Accuracy'\u001b[0m: \u001b[1;36m0.5945\u001b[0m,\n",
       "    \u001b[32m'Balanced Accuracy'\u001b[0m: \u001b[1;35mnp.float64\u001b[0m\u001b[1m(\u001b[0m\u001b[1;36m0.5688\u001b[0m\u001b[1m)\u001b[0m,\n",
       "    \u001b[32m'Precision Red'\u001b[0m: \u001b[1;36m0.6303\u001b[0m,\n",
       "    \u001b[32m'Recall Red'\u001b[0m: \u001b[1;36m0.7288\u001b[0m,\n",
       "    \u001b[32m'F1 Red'\u001b[0m: \u001b[1;36m0.676\u001b[0m,\n",
       "    \u001b[32m'Precision Blue'\u001b[0m: \u001b[1;36m0.5215\u001b[0m,\n",
       "    \u001b[32m'Recall Blue'\u001b[0m: \u001b[1;36m0.4087\u001b[0m,\n",
       "    \u001b[32m'F1 Blue'\u001b[0m: \u001b[1;36m0.4583\u001b[0m,\n",
       "    \u001b[32m'F1 Macro'\u001b[0m: \u001b[1;36m0.5671\u001b[0m,\n",
       "    \u001b[32m'ROC AUC'\u001b[0m: \u001b[1;35mnp.float64\u001b[0m\u001b[1m(\u001b[0m\u001b[1;36m0.6121\u001b[0m\u001b[1m)\u001b[0m,\n",
       "    \u001b[32m'Brier Score'\u001b[0m: \u001b[1;35mnp.float64\u001b[0m\u001b[1m(\u001b[0m\u001b[1;36m0.2415\u001b[0m\u001b[1m)\u001b[0m,\n",
       "    \u001b[32m'MCC'\u001b[0m: \u001b[1;35mnp.float64\u001b[0m\u001b[1m(\u001b[0m\u001b[1;36m0.1445\u001b[0m\u001b[1m)\u001b[0m,\n",
       "    \u001b[32m'Kappa'\u001b[0m: \u001b[1;35mnp.float64\u001b[0m\u001b[1m(\u001b[0m\u001b[1;36m0.1418\u001b[0m\u001b[1m)\u001b[0m\n",
       "\u001b[1m}\u001b[0m\n"
      ]
     },
     "metadata": {},
     "output_type": "display_data"
    }
   ],
   "source": [
    "metrics = evaluate_metrics(model, ufc_data)\n",
    "print(metrics)"
   ]
  },
  {
   "cell_type": "markdown",
   "id": "2a789c68-09ec-4f00-b132-638d6a36bfd6",
   "metadata": {},
   "source": [
    "### 📝 Log Training Results"
   ]
  },
  {
   "cell_type": "code",
   "execution_count": 90,
   "id": "a0f8943a-69d1-4c2d-a800-b1595714f94c",
   "metadata": {},
   "outputs": [
    {
     "name": "stderr",
     "output_type": "stream",
     "text": [
      "INFO:src.helpers:✅ Training logged to ../data/results/training_log_v2.csv\n"
     ]
    }
   ],
   "source": [
    "log_training_result(model_name, model.best_params_, metrics, duration)"
   ]
  },
  {
   "cell_type": "markdown",
   "id": "7d3791f2-25ca-4bb9-bd70-0ac212b5c62d",
   "metadata": {},
   "source": [
    "### 💾 Save Model "
   ]
  },
  {
   "cell_type": "code",
   "execution_count": 91,
   "id": "cea30d46-7ffd-417b-a72e-38b24ae71424",
   "metadata": {},
   "outputs": [
    {
     "name": "stderr",
     "output_type": "stream",
     "text": [
      "INFO:src.io_model:✅ Model 'K-Nearest Neighbors' saved to: /home/mlioi/ufc-predictor/models/knn_best.pkl\n"
     ]
    }
   ],
   "source": [
    "save_model(model, name=file_model_name[model_name])"
   ]
  },
  {
   "cell_type": "markdown",
   "id": "8a89ba7d",
   "metadata": {},
   "source": [
    "## Support Vector Machine Model "
   ]
  },
  {
   "cell_type": "markdown",
   "id": "90c60acc-9fa6-47dd-9e2f-dfa89dc3a74b",
   "metadata": {},
   "source": [
    "### 🚀 Support Vector Machine Training "
   ]
  },
  {
   "cell_type": "code",
   "execution_count": 14,
   "id": "6f3ab386",
   "metadata": {},
   "outputs": [
    {
     "name": "stderr",
     "output_type": "stream",
     "text": [
      "INFO:src.model_factory:[Support Vector Machine] UFC GridSearchCV Training (F1_macro)\n",
      "INFO:root:[Support Vector Machine] 🤖 Training...\n"
     ]
    },
    {
     "name": "stdout",
     "output_type": "stream",
     "text": [
      "Fitting 5 folds for each of 3 candidates, totalling 15 fits\n",
      "[CV 1/5] END .C=0.01, gamma=auto, kernel=linear;, score=0.661 total time=   3.0s\n",
      "[CV 2/5] END .C=0.01, gamma=auto, kernel=linear;, score=0.647 total time=   2.8s\n",
      "[CV 3/5] END .C=0.01, gamma=auto, kernel=linear;, score=0.644 total time=   2.8s\n",
      "[CV 4/5] END .C=0.01, gamma=auto, kernel=linear;, score=0.652 total time=   2.8s\n",
      "[CV 5/5] END .C=0.01, gamma=auto, kernel=linear;, score=0.635 total time=   2.8s\n",
      "[CV 1/5] END ..C=0.1, gamma=auto, kernel=linear;, score=0.664 total time=   3.4s\n",
      "[CV 2/5] END ..C=0.1, gamma=auto, kernel=linear;, score=0.649 total time=   3.3s\n",
      "[CV 3/5] END ..C=0.1, gamma=auto, kernel=linear;, score=0.645 total time=   3.3s\n",
      "[CV 4/5] END ..C=0.1, gamma=auto, kernel=linear;, score=0.656 total time=   3.3s\n",
      "[CV 5/5] END ..C=0.1, gamma=auto, kernel=linear;, score=0.636 total time=   3.2s\n",
      "[CV 1/5] END ....C=1, gamma=auto, kernel=linear;, score=0.664 total time=   6.1s\n",
      "[CV 2/5] END ....C=1, gamma=auto, kernel=linear;, score=0.649 total time=   6.3s\n",
      "[CV 3/5] END ....C=1, gamma=auto, kernel=linear;, score=0.648 total time=   6.2s\n",
      "[CV 4/5] END ....C=1, gamma=auto, kernel=linear;, score=0.656 total time=   6.1s\n",
      "[CV 5/5] END ....C=1, gamma=auto, kernel=linear;, score=0.636 total time=   6.1s\n"
     ]
    },
    {
     "name": "stderr",
     "output_type": "stream",
     "text": [
      "INFO:root:[Support Vector Machine] 🔍 Best F1_macro: 0.6506\n",
      "[Support Vector Machine] 🔍 Best Params: {'C': 1, 'gamma': 'auto', 'kernel': 'linear'}\n"
     ]
    }
   ],
   "source": [
    "model_name = 'Support Vector Machine'\n",
    "start = time.time()\n",
    "model = model_factory(model_name, ufc_data, model_params, scoring=\"f1_macro\")\n",
    "end = time.time()\n",
    "duration = end - start"
   ]
  },
  {
   "cell_type": "markdown",
   "id": "effac092-0e21-4b2b-aa53-9121d942fa2e",
   "metadata": {},
   "source": [
    "### 🔍 Support Vector Machine Metrics"
   ]
  },
  {
   "cell_type": "code",
   "execution_count": 15,
   "id": "5ea4ee92-a5a7-480f-8c25-634fb16827e4",
   "metadata": {
    "scrolled": true
   },
   "outputs": [
    {
     "data": {
      "text/html": [
       "<pre style=\"white-space:pre;overflow-x:auto;line-height:normal;font-family:Menlo,'DejaVu Sans Mono',consolas,'Courier New',monospace\"><span style=\"font-weight: bold\">{</span>\n",
       "    <span style=\"color: #008000; text-decoration-color: #008000\">'Accuracy'</span>: <span style=\"color: #008080; text-decoration-color: #008080; font-weight: bold\">0.6436</span>,\n",
       "    <span style=\"color: #008000; text-decoration-color: #008000\">'Balanced Accuracy'</span>: <span style=\"color: #800080; text-decoration-color: #800080; font-weight: bold\">np.float64</span><span style=\"font-weight: bold\">(</span><span style=\"color: #008080; text-decoration-color: #008080; font-weight: bold\">0.6276</span><span style=\"font-weight: bold\">)</span>,\n",
       "    <span style=\"color: #008000; text-decoration-color: #008000\">'Precision Red'</span>: <span style=\"color: #008080; text-decoration-color: #008080; font-weight: bold\">0.6805</span>,\n",
       "    <span style=\"color: #008000; text-decoration-color: #008000\">'Recall Red'</span>: <span style=\"color: #008080; text-decoration-color: #008080; font-weight: bold\">0.7274</span>,\n",
       "    <span style=\"color: #008000; text-decoration-color: #008000\">'F1 Red'</span>: <span style=\"color: #008080; text-decoration-color: #008080; font-weight: bold\">0.7032</span>,\n",
       "    <span style=\"color: #008000; text-decoration-color: #008000\">'Precision Blue'</span>: <span style=\"color: #008080; text-decoration-color: #008080; font-weight: bold\">0.5833</span>,\n",
       "    <span style=\"color: #008000; text-decoration-color: #008000\">'Recall Blue'</span>: <span style=\"color: #008080; text-decoration-color: #008080; font-weight: bold\">0.5278</span>,\n",
       "    <span style=\"color: #008000; text-decoration-color: #008000\">'F1 Blue'</span>: <span style=\"color: #008080; text-decoration-color: #008080; font-weight: bold\">0.5542</span>,\n",
       "    <span style=\"color: #008000; text-decoration-color: #008000\">'ROC AUC'</span>: <span style=\"color: #800080; text-decoration-color: #800080; font-weight: bold\">np.float64</span><span style=\"font-weight: bold\">(</span><span style=\"color: #008080; text-decoration-color: #008080; font-weight: bold\">0.6976</span><span style=\"font-weight: bold\">)</span>,\n",
       "    <span style=\"color: #008000; text-decoration-color: #008000\">'Brier Score'</span>: <span style=\"color: #800080; text-decoration-color: #800080; font-weight: bold\">np.float64</span><span style=\"font-weight: bold\">(</span><span style=\"color: #008080; text-decoration-color: #008080; font-weight: bold\">0.2162</span><span style=\"font-weight: bold\">)</span>,\n",
       "    <span style=\"color: #008000; text-decoration-color: #008000\">'MCC'</span>: <span style=\"color: #800080; text-decoration-color: #800080; font-weight: bold\">np.float64</span><span style=\"font-weight: bold\">(</span><span style=\"color: #008080; text-decoration-color: #008080; font-weight: bold\">0.2595</span><span style=\"font-weight: bold\">)</span>,\n",
       "    <span style=\"color: #008000; text-decoration-color: #008000\">'Kappa'</span>: <span style=\"color: #800080; text-decoration-color: #800080; font-weight: bold\">np.float64</span><span style=\"font-weight: bold\">(</span><span style=\"color: #008080; text-decoration-color: #008080; font-weight: bold\">0.2586</span><span style=\"font-weight: bold\">)</span>\n",
       "<span style=\"font-weight: bold\">}</span>\n",
       "</pre>\n"
      ],
      "text/plain": [
       "\u001b[1m{\u001b[0m\n",
       "    \u001b[32m'Accuracy'\u001b[0m: \u001b[1;36m0.6436\u001b[0m,\n",
       "    \u001b[32m'Balanced Accuracy'\u001b[0m: \u001b[1;35mnp.float64\u001b[0m\u001b[1m(\u001b[0m\u001b[1;36m0.6276\u001b[0m\u001b[1m)\u001b[0m,\n",
       "    \u001b[32m'Precision Red'\u001b[0m: \u001b[1;36m0.6805\u001b[0m,\n",
       "    \u001b[32m'Recall Red'\u001b[0m: \u001b[1;36m0.7274\u001b[0m,\n",
       "    \u001b[32m'F1 Red'\u001b[0m: \u001b[1;36m0.7032\u001b[0m,\n",
       "    \u001b[32m'Precision Blue'\u001b[0m: \u001b[1;36m0.5833\u001b[0m,\n",
       "    \u001b[32m'Recall Blue'\u001b[0m: \u001b[1;36m0.5278\u001b[0m,\n",
       "    \u001b[32m'F1 Blue'\u001b[0m: \u001b[1;36m0.5542\u001b[0m,\n",
       "    \u001b[32m'ROC AUC'\u001b[0m: \u001b[1;35mnp.float64\u001b[0m\u001b[1m(\u001b[0m\u001b[1;36m0.6976\u001b[0m\u001b[1m)\u001b[0m,\n",
       "    \u001b[32m'Brier Score'\u001b[0m: \u001b[1;35mnp.float64\u001b[0m\u001b[1m(\u001b[0m\u001b[1;36m0.2162\u001b[0m\u001b[1m)\u001b[0m,\n",
       "    \u001b[32m'MCC'\u001b[0m: \u001b[1;35mnp.float64\u001b[0m\u001b[1m(\u001b[0m\u001b[1;36m0.2595\u001b[0m\u001b[1m)\u001b[0m,\n",
       "    \u001b[32m'Kappa'\u001b[0m: \u001b[1;35mnp.float64\u001b[0m\u001b[1m(\u001b[0m\u001b[1;36m0.2586\u001b[0m\u001b[1m)\u001b[0m\n",
       "\u001b[1m}\u001b[0m\n"
      ]
     },
     "metadata": {},
     "output_type": "display_data"
    }
   ],
   "source": [
    "metrics = evaluate_metrics(model, ufc_data)\n",
    "print(metrics)"
   ]
  },
  {
   "cell_type": "markdown",
   "id": "e241458a-f474-4973-92eb-79ed69228789",
   "metadata": {},
   "source": [
    "### 📝 Log Training Results"
   ]
  },
  {
   "cell_type": "code",
   "execution_count": 16,
   "id": "3de0e1f1-51f9-4368-8d54-b2626bfe80f6",
   "metadata": {},
   "outputs": [
    {
     "name": "stderr",
     "output_type": "stream",
     "text": [
      "INFO:src.helpers:✅ Training logged to ../data/results/training_log_v2.csv\n"
     ]
    }
   ],
   "source": [
    "log_training_result(model_name, model.best_params_, metrics, duration)"
   ]
  },
  {
   "cell_type": "markdown",
   "id": "b4000bf8-356d-42c2-bf01-b5fd8188b867",
   "metadata": {},
   "source": [
    "### 💾 Save Model "
   ]
  },
  {
   "cell_type": "code",
   "execution_count": 17,
   "id": "4d98e71c-17a1-4cb8-be05-a6184dbfb46b",
   "metadata": {},
   "outputs": [
    {
     "name": "stderr",
     "output_type": "stream",
     "text": [
      "INFO:src.io_model:✅ Model 'Support Vector Machine' saved to: /home/mlioi/ufc-predictor/models/svm_best.pkl\n"
     ]
    }
   ],
   "source": [
    "save_model(model, name=file_model_name[model_name])"
   ]
  },
  {
   "cell_type": "markdown",
   "id": "03b7bf14",
   "metadata": {},
   "source": [
    "## Logistic Regression Model"
   ]
  },
  {
   "cell_type": "markdown",
   "id": "26c55350-bfcf-4457-8462-a4daf948ff27",
   "metadata": {},
   "source": [
    "### 🚀 Logistic Regression Training"
   ]
  },
  {
   "cell_type": "code",
   "execution_count": 8,
   "id": "87b0b4ad-caad-4c7e-aad6-a6c5772f30c3",
   "metadata": {
    "scrolled": true
   },
   "outputs": [
    {
     "name": "stderr",
     "output_type": "stream",
     "text": [
      "INFO:src.model_factory:[Logistic Regression] UFC GridSearchCV Training (F1_macro)\n",
      "INFO:root:[Logistic Regression] 🤖 Training...\n"
     ]
    },
    {
     "name": "stdout",
     "output_type": "stream",
     "text": [
      "Fitting 5 folds for each of 32 candidates, totalling 160 fits\n",
      "[CV 1/5] END C=0.001, penalty=l1, solver=liblinear;, score=0.368 total time=   0.0s\n",
      "[CV 2/5] END C=0.001, penalty=l1, solver=liblinear;, score=0.368 total time=   0.0s\n",
      "[CV 3/5] END C=0.001, penalty=l1, solver=liblinear;, score=0.367 total time=   0.0s\n",
      "[CV 4/5] END C=0.001, penalty=l1, solver=liblinear;, score=0.367 total time=   0.0s\n",
      "[CV 5/5] END C=0.001, penalty=l1, solver=liblinear;, score=0.367 total time=   0.0s\n",
      "[CV 1/5] END C=0.001, penalty=l2, solver=liblinear;, score=0.625 total time=   0.0s\n",
      "[CV 2/5] END C=0.001, penalty=l2, solver=liblinear;, score=0.618 total time=   0.0s\n",
      "[CV 3/5] END C=0.001, penalty=l2, solver=liblinear;, score=0.655 total time=   0.0s\n",
      "[CV 4/5] END C=0.001, penalty=l2, solver=liblinear;, score=0.643 total time=   0.0s\n",
      "[CV 5/5] END C=0.001, penalty=l2, solver=liblinear;, score=0.641 total time=   0.0s\n",
      "[CV 1/5] END C=0.001, penalty=l1, solver=liblinear;, score=0.368 total time=   0.0s\n",
      "[CV 2/5] END C=0.001, penalty=l1, solver=liblinear;, score=0.368 total time=   0.0s\n",
      "[CV 3/5] END C=0.001, penalty=l1, solver=liblinear;, score=0.367 total time=   0.0s\n",
      "[CV 4/5] END C=0.001, penalty=l1, solver=liblinear;, score=0.367 total time=   0.0s\n",
      "[CV 5/5] END C=0.001, penalty=l1, solver=liblinear;, score=0.367 total time=   0.0s\n",
      "[CV 1/5] END C=0.001, penalty=l2, solver=liblinear;, score=0.625 total time=   0.0s\n",
      "[CV 2/5] END C=0.001, penalty=l2, solver=liblinear;, score=0.618 total time=   0.0s\n",
      "[CV 3/5] END C=0.001, penalty=l2, solver=liblinear;, score=0.655 total time=   0.0s\n",
      "[CV 4/5] END C=0.001, penalty=l2, solver=liblinear;, score=0.643 total time=   0.0s\n",
      "[CV 5/5] END C=0.001, penalty=l2, solver=liblinear;, score=0.641 total time=   0.0s\n",
      "[CV 1/5] END C=0.01, penalty=l1, solver=liblinear;, score=0.641 total time=   0.0s\n",
      "[CV 2/5] END C=0.01, penalty=l1, solver=liblinear;, score=0.620 total time=   0.0s\n",
      "[CV 3/5] END C=0.01, penalty=l1, solver=liblinear;, score=0.674 total time=   0.0s\n",
      "[CV 4/5] END C=0.01, penalty=l1, solver=liblinear;, score=0.648 total time=   0.0s\n",
      "[CV 5/5] END C=0.01, penalty=l1, solver=liblinear;, score=0.637 total time=   0.0s\n",
      "[CV 1/5] END C=0.01, penalty=l2, solver=liblinear;, score=0.627 total time=   0.0s\n",
      "[CV 2/5] END C=0.01, penalty=l2, solver=liblinear;, score=0.621 total time=   0.0s\n",
      "[CV 3/5] END C=0.01, penalty=l2, solver=liblinear;, score=0.669 total time=   0.0s\n",
      "[CV 4/5] END C=0.01, penalty=l2, solver=liblinear;, score=0.643 total time=   0.0s\n",
      "[CV 5/5] END C=0.01, penalty=l2, solver=liblinear;, score=0.640 total time=   0.0s\n",
      "[CV 1/5] END C=0.05, penalty=l1, solver=liblinear;, score=0.634 total time=   0.0s\n",
      "[CV 2/5] END C=0.05, penalty=l1, solver=liblinear;, score=0.622 total time=   0.0s\n",
      "[CV 3/5] END C=0.05, penalty=l1, solver=liblinear;, score=0.671 total time=   0.0s\n",
      "[CV 4/5] END C=0.05, penalty=l1, solver=liblinear;, score=0.648 total time=   0.0s\n",
      "[CV 5/5] END C=0.05, penalty=l1, solver=liblinear;, score=0.637 total time=   0.0s\n",
      "[CV 1/5] END C=0.05, penalty=l2, solver=liblinear;, score=0.633 total time=   0.0s\n",
      "[CV 2/5] END C=0.05, penalty=l2, solver=liblinear;, score=0.621 total time=   0.0s\n",
      "[CV 3/5] END C=0.05, penalty=l2, solver=liblinear;, score=0.674 total time=   0.0s\n",
      "[CV 4/5] END C=0.05, penalty=l2, solver=liblinear;, score=0.643 total time=   0.0s\n",
      "[CV 5/5] END C=0.05, penalty=l2, solver=liblinear;, score=0.639 total time=   0.0s\n",
      "[CV 1/5] END C=0.1, penalty=l1, solver=liblinear;, score=0.634 total time=   0.0s\n",
      "[CV 2/5] END C=0.1, penalty=l1, solver=liblinear;, score=0.620 total time=   0.0s\n",
      "[CV 3/5] END C=0.1, penalty=l1, solver=liblinear;, score=0.671 total time=   0.0s\n",
      "[CV 4/5] END C=0.1, penalty=l1, solver=liblinear;, score=0.647 total time=   0.0s\n",
      "[CV 5/5] END C=0.1, penalty=l1, solver=liblinear;, score=0.639 total time=   0.0s\n",
      "[CV 1/5] END C=0.1, penalty=l2, solver=liblinear;, score=0.632 total time=   0.0s\n",
      "[CV 2/5] END C=0.1, penalty=l2, solver=liblinear;, score=0.620 total time=   0.0s\n",
      "[CV 3/5] END C=0.1, penalty=l2, solver=liblinear;, score=0.671 total time=   0.0s\n",
      "[CV 4/5] END C=0.1, penalty=l2, solver=liblinear;, score=0.640 total time=   0.0s\n",
      "[CV 5/5] END C=0.1, penalty=l2, solver=liblinear;, score=0.641 total time=   0.0s\n",
      "[CV 1/5] END .C=1, penalty=l1, solver=liblinear;, score=0.632 total time=   0.0s\n",
      "[CV 2/5] END .C=1, penalty=l1, solver=liblinear;, score=0.620 total time=   0.0s\n",
      "[CV 3/5] END .C=1, penalty=l1, solver=liblinear;, score=0.671 total time=   0.4s\n",
      "[CV 4/5] END .C=1, penalty=l1, solver=liblinear;, score=0.641 total time=   0.1s\n",
      "[CV 5/5] END .C=1, penalty=l1, solver=liblinear;, score=0.642 total time=   0.2s\n",
      "[CV 1/5] END .C=1, penalty=l2, solver=liblinear;, score=0.632 total time=   0.0s\n",
      "[CV 2/5] END .C=1, penalty=l2, solver=liblinear;, score=0.620 total time=   0.0s\n",
      "[CV 3/5] END .C=1, penalty=l2, solver=liblinear;, score=0.673 total time=   0.0s\n",
      "[CV 4/5] END .C=1, penalty=l2, solver=liblinear;, score=0.641 total time=   0.0s\n",
      "[CV 5/5] END .C=1, penalty=l2, solver=liblinear;, score=0.643 total time=   0.0s\n",
      "[CV 1/5] END .C=2, penalty=l1, solver=liblinear;, score=0.632 total time=   0.3s\n",
      "[CV 2/5] END .C=2, penalty=l1, solver=liblinear;, score=0.621 total time=   0.3s\n",
      "[CV 3/5] END .C=2, penalty=l1, solver=liblinear;, score=0.670 total time=   0.3s\n",
      "[CV 4/5] END .C=2, penalty=l1, solver=liblinear;, score=0.641 total time=   0.3s\n",
      "[CV 5/5] END .C=2, penalty=l1, solver=liblinear;, score=0.643 total time=   0.4s\n",
      "[CV 1/5] END .C=2, penalty=l2, solver=liblinear;, score=0.633 total time=   0.0s\n",
      "[CV 2/5] END .C=2, penalty=l2, solver=liblinear;, score=0.620 total time=   0.0s\n",
      "[CV 3/5] END .C=2, penalty=l2, solver=liblinear;, score=0.671 total time=   0.0s\n",
      "[CV 4/5] END .C=2, penalty=l2, solver=liblinear;, score=0.641 total time=   0.0s\n",
      "[CV 5/5] END .C=2, penalty=l2, solver=liblinear;, score=0.643 total time=   0.0s\n",
      "[CV 1/5] END .C=5, penalty=l1, solver=liblinear;, score=0.634 total time=   0.4s\n",
      "[CV 2/5] END .C=5, penalty=l1, solver=liblinear;, score=0.620 total time=   0.4s\n",
      "[CV 3/5] END .C=5, penalty=l1, solver=liblinear;, score=0.667 total time=   0.5s\n",
      "[CV 4/5] END .C=5, penalty=l1, solver=liblinear;, score=0.639 total time=   0.4s\n",
      "[CV 5/5] END .C=5, penalty=l1, solver=liblinear;, score=0.644 total time=   0.5s\n",
      "[CV 1/5] END .C=5, penalty=l2, solver=liblinear;, score=0.636 total time=   0.0s\n",
      "[CV 2/5] END .C=5, penalty=l2, solver=liblinear;, score=0.620 total time=   0.0s\n",
      "[CV 3/5] END .C=5, penalty=l2, solver=liblinear;, score=0.670 total time=   0.0s\n",
      "[CV 4/5] END .C=5, penalty=l2, solver=liblinear;, score=0.640 total time=   0.0s\n",
      "[CV 5/5] END .C=5, penalty=l2, solver=liblinear;, score=0.643 total time=   0.0s\n",
      "[CV 1/5] END .C=7, penalty=l1, solver=liblinear;, score=0.634 total time=   0.3s\n",
      "[CV 2/5] END .C=7, penalty=l1, solver=liblinear;, score=0.620 total time=   0.3s\n",
      "[CV 3/5] END .C=7, penalty=l1, solver=liblinear;, score=0.668 total time=   0.5s\n",
      "[CV 4/5] END .C=7, penalty=l1, solver=liblinear;, score=0.640 total time=   0.5s\n",
      "[CV 5/5] END .C=7, penalty=l1, solver=liblinear;, score=0.643 total time=   0.4s\n",
      "[CV 1/5] END .C=7, penalty=l2, solver=liblinear;, score=0.636 total time=   0.0s\n",
      "[CV 2/5] END .C=7, penalty=l2, solver=liblinear;, score=0.620 total time=   0.0s\n",
      "[CV 3/5] END .C=7, penalty=l2, solver=liblinear;, score=0.669 total time=   0.0s\n",
      "[CV 4/5] END .C=7, penalty=l2, solver=liblinear;, score=0.640 total time=   0.0s\n",
      "[CV 5/5] END .C=7, penalty=l2, solver=liblinear;, score=0.643 total time=   0.0s\n",
      "[CV 1/5] END .C=8, penalty=l1, solver=liblinear;, score=0.636 total time=   0.4s\n",
      "[CV 2/5] END .C=8, penalty=l1, solver=liblinear;, score=0.620 total time=   0.3s\n",
      "[CV 3/5] END .C=8, penalty=l1, solver=liblinear;, score=0.668 total time=   0.5s\n",
      "[CV 4/5] END .C=8, penalty=l1, solver=liblinear;, score=0.640 total time=   0.4s\n",
      "[CV 5/5] END .C=8, penalty=l1, solver=liblinear;, score=0.643 total time=   0.5s\n",
      "[CV 1/5] END .C=8, penalty=l2, solver=liblinear;, score=0.636 total time=   0.0s\n",
      "[CV 2/5] END .C=8, penalty=l2, solver=liblinear;, score=0.620 total time=   0.0s\n",
      "[CV 3/5] END .C=8, penalty=l2, solver=liblinear;, score=0.667 total time=   0.0s\n",
      "[CV 4/5] END .C=8, penalty=l2, solver=liblinear;, score=0.640 total time=   0.0s\n",
      "[CV 5/5] END .C=8, penalty=l2, solver=liblinear;, score=0.643 total time=   0.0s\n",
      "[CV 1/5] END C=8.5, penalty=l1, solver=liblinear;, score=0.636 total time=   0.4s\n",
      "[CV 2/5] END C=8.5, penalty=l1, solver=liblinear;, score=0.620 total time=   0.4s\n",
      "[CV 3/5] END C=8.5, penalty=l1, solver=liblinear;, score=0.668 total time=   0.4s\n",
      "[CV 4/5] END C=8.5, penalty=l1, solver=liblinear;, score=0.640 total time=   0.5s\n",
      "[CV 5/5] END C=8.5, penalty=l1, solver=liblinear;, score=0.643 total time=   0.4s\n",
      "[CV 1/5] END C=8.5, penalty=l2, solver=liblinear;, score=0.636 total time=   0.0s\n",
      "[CV 2/5] END C=8.5, penalty=l2, solver=liblinear;, score=0.620 total time=   0.0s\n",
      "[CV 3/5] END C=8.5, penalty=l2, solver=liblinear;, score=0.667 total time=   0.0s\n",
      "[CV 4/5] END C=8.5, penalty=l2, solver=liblinear;, score=0.640 total time=   0.0s\n",
      "[CV 5/5] END C=8.5, penalty=l2, solver=liblinear;, score=0.643 total time=   0.0s\n",
      "[CV 1/5] END .C=9, penalty=l1, solver=liblinear;, score=0.636 total time=   0.4s\n",
      "[CV 2/5] END .C=9, penalty=l1, solver=liblinear;, score=0.620 total time=   0.4s\n",
      "[CV 3/5] END .C=9, penalty=l1, solver=liblinear;, score=0.668 total time=   0.5s\n",
      "[CV 4/5] END .C=9, penalty=l1, solver=liblinear;, score=0.640 total time=   0.4s\n",
      "[CV 5/5] END .C=9, penalty=l1, solver=liblinear;, score=0.643 total time=   0.5s\n",
      "[CV 1/5] END .C=9, penalty=l2, solver=liblinear;, score=0.636 total time=   0.0s\n",
      "[CV 2/5] END .C=9, penalty=l2, solver=liblinear;, score=0.620 total time=   0.0s\n",
      "[CV 3/5] END .C=9, penalty=l2, solver=liblinear;, score=0.667 total time=   0.0s\n",
      "[CV 4/5] END .C=9, penalty=l2, solver=liblinear;, score=0.640 total time=   0.0s\n",
      "[CV 5/5] END .C=9, penalty=l2, solver=liblinear;, score=0.643 total time=   0.0s\n",
      "[CV 1/5] END C=10, penalty=l1, solver=liblinear;, score=0.636 total time=   0.4s\n",
      "[CV 2/5] END C=10, penalty=l1, solver=liblinear;, score=0.620 total time=   0.4s\n",
      "[CV 3/5] END C=10, penalty=l1, solver=liblinear;, score=0.668 total time=   0.4s\n",
      "[CV 4/5] END C=10, penalty=l1, solver=liblinear;, score=0.640 total time=   0.5s\n",
      "[CV 5/5] END C=10, penalty=l1, solver=liblinear;, score=0.643 total time=   0.4s\n",
      "[CV 1/5] END C=10, penalty=l2, solver=liblinear;, score=0.636 total time=   0.0s\n",
      "[CV 2/5] END C=10, penalty=l2, solver=liblinear;, score=0.620 total time=   0.0s\n",
      "[CV 3/5] END C=10, penalty=l2, solver=liblinear;, score=0.667 total time=   0.0s\n",
      "[CV 4/5] END C=10, penalty=l2, solver=liblinear;, score=0.640 total time=   0.0s\n",
      "[CV 5/5] END C=10, penalty=l2, solver=liblinear;, score=0.643 total time=   0.0s\n",
      "[CV 1/5] END C=20, penalty=l1, solver=liblinear;, score=0.636 total time=   0.6s\n",
      "[CV 2/5] END C=20, penalty=l1, solver=liblinear;, score=0.619 total time=   0.6s\n",
      "[CV 3/5] END C=20, penalty=l1, solver=liblinear;, score=0.667 total time=   0.5s\n",
      "[CV 4/5] END C=20, penalty=l1, solver=liblinear;, score=0.640 total time=   0.5s\n",
      "[CV 5/5] END C=20, penalty=l1, solver=liblinear;, score=0.643 total time=   0.5s\n",
      "[CV 1/5] END C=20, penalty=l2, solver=liblinear;, score=0.636 total time=   0.0s\n",
      "[CV 2/5] END C=20, penalty=l2, solver=liblinear;, score=0.620 total time=   0.0s\n",
      "[CV 3/5] END C=20, penalty=l2, solver=liblinear;, score=0.667 total time=   0.0s\n",
      "[CV 4/5] END C=20, penalty=l2, solver=liblinear;, score=0.640 total time=   0.0s\n",
      "[CV 5/5] END C=20, penalty=l2, solver=liblinear;, score=0.643 total time=   0.0s\n",
      "[CV 1/5] END C=40, penalty=l1, solver=liblinear;, score=0.636 total time=   0.4s\n",
      "[CV 2/5] END C=40, penalty=l1, solver=liblinear;, score=0.619 total time=   0.5s\n",
      "[CV 3/5] END C=40, penalty=l1, solver=liblinear;, score=0.667 total time=   0.7s\n",
      "[CV 4/5] END C=40, penalty=l1, solver=liblinear;, score=0.640 total time=   0.6s\n",
      "[CV 5/5] END C=40, penalty=l1, solver=liblinear;, score=0.643 total time=   0.7s\n",
      "[CV 1/5] END C=40, penalty=l2, solver=liblinear;, score=0.636 total time=   0.0s\n",
      "[CV 2/5] END C=40, penalty=l2, solver=liblinear;, score=0.619 total time=   0.0s\n",
      "[CV 3/5] END C=40, penalty=l2, solver=liblinear;, score=0.667 total time=   0.0s\n",
      "[CV 4/5] END C=40, penalty=l2, solver=liblinear;, score=0.640 total time=   0.0s\n",
      "[CV 5/5] END C=40, penalty=l2, solver=liblinear;, score=0.643 total time=   0.0s\n",
      "[CV 1/5] END C=80, penalty=l1, solver=liblinear;, score=0.636 total time=   0.6s\n",
      "[CV 2/5] END C=80, penalty=l1, solver=liblinear;, score=0.619 total time=   0.5s\n",
      "[CV 3/5] END C=80, penalty=l1, solver=liblinear;, score=0.667 total time=   0.7s\n",
      "[CV 4/5] END C=80, penalty=l1, solver=liblinear;, score=0.639 total time=   0.7s\n",
      "[CV 5/5] END C=80, penalty=l1, solver=liblinear;, score=0.643 total time=   0.7s\n",
      "[CV 1/5] END C=80, penalty=l2, solver=liblinear;, score=0.636 total time=   0.0s\n",
      "[CV 2/5] END C=80, penalty=l2, solver=liblinear;, score=0.619 total time=   0.0s\n",
      "[CV 3/5] END C=80, penalty=l2, solver=liblinear;, score=0.668 total time=   0.0s\n",
      "[CV 4/5] END C=80, penalty=l2, solver=liblinear;, score=0.639 total time=   0.0s\n",
      "[CV 5/5] END C=80, penalty=l2, solver=liblinear;, score=0.643 total time=   0.0s\n"
     ]
    },
    {
     "name": "stderr",
     "output_type": "stream",
     "text": [
      "INFO:root:[Logistic Regression] 🔍 Best F1_macro: 0.6440\n",
      "[Logistic Regression] 🔍 Best Params: {'C': 0.01, 'penalty': 'l1', 'solver': 'liblinear'}\n"
     ]
    }
   ],
   "source": [
    "model_name = 'Logistic Regression'\n",
    "start = time.time()\n",
    "model = model_factory(model_name, ufc_data, model_params, scoring=\"f1_macro\")\n",
    "end = time.time()\n",
    "duration = end - start"
   ]
  },
  {
   "cell_type": "markdown",
   "id": "180bfb98-cc03-450e-8189-acb93b33edbc",
   "metadata": {},
   "source": [
    "### 🔍 Logistic Regression Metrics"
   ]
  },
  {
   "cell_type": "code",
   "execution_count": 9,
   "id": "50d31e94-d6b8-4348-91e4-f36888b29f36",
   "metadata": {},
   "outputs": [
    {
     "data": {
      "text/html": [
       "<pre style=\"white-space:pre;overflow-x:auto;line-height:normal;font-family:Menlo,'DejaVu Sans Mono',consolas,'Courier New',monospace\"><span style=\"font-weight: bold\">{</span>\n",
       "    <span style=\"color: #008000; text-decoration-color: #008000\">'Accuracy'</span>: <span style=\"color: #008080; text-decoration-color: #008080; font-weight: bold\">0.6636</span>,\n",
       "    <span style=\"color: #008000; text-decoration-color: #008000\">'Balanced Accuracy'</span>: <span style=\"color: #800080; text-decoration-color: #800080; font-weight: bold\">np.float64</span><span style=\"font-weight: bold\">(</span><span style=\"color: #008080; text-decoration-color: #008080; font-weight: bold\">0.6459</span><span style=\"font-weight: bold\">)</span>,\n",
       "    <span style=\"color: #008000; text-decoration-color: #008000\">'Precision Red'</span>: <span style=\"color: #008080; text-decoration-color: #008080; font-weight: bold\">0.6925</span>,\n",
       "    <span style=\"color: #008000; text-decoration-color: #008000\">'Recall Red'</span>: <span style=\"color: #008080; text-decoration-color: #008080; font-weight: bold\">0.7561</span>,\n",
       "    <span style=\"color: #008000; text-decoration-color: #008000\">'F1 Red'</span>: <span style=\"color: #008080; text-decoration-color: #008080; font-weight: bold\">0.7229</span>,\n",
       "    <span style=\"color: #008000; text-decoration-color: #008000\">'Precision Blue'</span>: <span style=\"color: #008080; text-decoration-color: #008080; font-weight: bold\">0.6136</span>,\n",
       "    <span style=\"color: #008000; text-decoration-color: #008000\">'Recall Blue'</span>: <span style=\"color: #008080; text-decoration-color: #008080; font-weight: bold\">0.5357</span>,\n",
       "    <span style=\"color: #008000; text-decoration-color: #008000\">'F1 Blue'</span>: <span style=\"color: #008080; text-decoration-color: #008080; font-weight: bold\">0.572</span>,\n",
       "    <span style=\"color: #008000; text-decoration-color: #008000\">'F1 Macro'</span>: <span style=\"color: #008080; text-decoration-color: #008080; font-weight: bold\">0.6475</span>,\n",
       "    <span style=\"color: #008000; text-decoration-color: #008000\">'ROC AUC'</span>: <span style=\"color: #800080; text-decoration-color: #800080; font-weight: bold\">np.float64</span><span style=\"font-weight: bold\">(</span><span style=\"color: #008080; text-decoration-color: #008080; font-weight: bold\">0.7145</span><span style=\"font-weight: bold\">)</span>,\n",
       "    <span style=\"color: #008000; text-decoration-color: #008000\">'Brier Score'</span>: <span style=\"color: #800080; text-decoration-color: #800080; font-weight: bold\">np.float64</span><span style=\"font-weight: bold\">(</span><span style=\"color: #008080; text-decoration-color: #008080; font-weight: bold\">0.2138</span><span style=\"font-weight: bold\">)</span>,\n",
       "    <span style=\"color: #008000; text-decoration-color: #008000\">'MCC'</span>: <span style=\"color: #800080; text-decoration-color: #800080; font-weight: bold\">np.float64</span><span style=\"font-weight: bold\">(</span><span style=\"color: #008080; text-decoration-color: #008080; font-weight: bold\">0.2989</span><span style=\"font-weight: bold\">)</span>,\n",
       "    <span style=\"color: #008000; text-decoration-color: #008000\">'Kappa'</span>: <span style=\"color: #800080; text-decoration-color: #800080; font-weight: bold\">np.float64</span><span style=\"font-weight: bold\">(</span><span style=\"color: #008080; text-decoration-color: #008080; font-weight: bold\">0.297</span><span style=\"font-weight: bold\">)</span>\n",
       "<span style=\"font-weight: bold\">}</span>\n",
       "</pre>\n"
      ],
      "text/plain": [
       "\u001b[1m{\u001b[0m\n",
       "    \u001b[32m'Accuracy'\u001b[0m: \u001b[1;36m0.6636\u001b[0m,\n",
       "    \u001b[32m'Balanced Accuracy'\u001b[0m: \u001b[1;35mnp.float64\u001b[0m\u001b[1m(\u001b[0m\u001b[1;36m0.6459\u001b[0m\u001b[1m)\u001b[0m,\n",
       "    \u001b[32m'Precision Red'\u001b[0m: \u001b[1;36m0.6925\u001b[0m,\n",
       "    \u001b[32m'Recall Red'\u001b[0m: \u001b[1;36m0.7561\u001b[0m,\n",
       "    \u001b[32m'F1 Red'\u001b[0m: \u001b[1;36m0.7229\u001b[0m,\n",
       "    \u001b[32m'Precision Blue'\u001b[0m: \u001b[1;36m0.6136\u001b[0m,\n",
       "    \u001b[32m'Recall Blue'\u001b[0m: \u001b[1;36m0.5357\u001b[0m,\n",
       "    \u001b[32m'F1 Blue'\u001b[0m: \u001b[1;36m0.572\u001b[0m,\n",
       "    \u001b[32m'F1 Macro'\u001b[0m: \u001b[1;36m0.6475\u001b[0m,\n",
       "    \u001b[32m'ROC AUC'\u001b[0m: \u001b[1;35mnp.float64\u001b[0m\u001b[1m(\u001b[0m\u001b[1;36m0.7145\u001b[0m\u001b[1m)\u001b[0m,\n",
       "    \u001b[32m'Brier Score'\u001b[0m: \u001b[1;35mnp.float64\u001b[0m\u001b[1m(\u001b[0m\u001b[1;36m0.2138\u001b[0m\u001b[1m)\u001b[0m,\n",
       "    \u001b[32m'MCC'\u001b[0m: \u001b[1;35mnp.float64\u001b[0m\u001b[1m(\u001b[0m\u001b[1;36m0.2989\u001b[0m\u001b[1m)\u001b[0m,\n",
       "    \u001b[32m'Kappa'\u001b[0m: \u001b[1;35mnp.float64\u001b[0m\u001b[1m(\u001b[0m\u001b[1;36m0.297\u001b[0m\u001b[1m)\u001b[0m\n",
       "\u001b[1m}\u001b[0m\n"
      ]
     },
     "metadata": {},
     "output_type": "display_data"
    }
   ],
   "source": [
    "metrics = evaluate_metrics(model, ufc_data)\n",
    "print(metrics)"
   ]
  },
  {
   "cell_type": "markdown",
   "id": "d1e2a10d-1b61-4b05-aa18-ef98cd6a3e60",
   "metadata": {},
   "source": [
    "### 📝 Log Training Results"
   ]
  },
  {
   "cell_type": "code",
   "execution_count": 10,
   "id": "f2a55f73-8f04-4f22-8511-f34e17aa1c4a",
   "metadata": {},
   "outputs": [
    {
     "name": "stderr",
     "output_type": "stream",
     "text": [
      "INFO:src.helpers:✅ Training logged to ../data/results/training_log_v2.csv\n"
     ]
    }
   ],
   "source": [
    "log_training_result(model_name, model.best_params_, metrics, duration)"
   ]
  },
  {
   "cell_type": "markdown",
   "id": "8494b4b1-e6c4-4edd-aee9-ffdaab0db646",
   "metadata": {},
   "source": [
    "### 💾 Save Model "
   ]
  },
  {
   "cell_type": "code",
   "execution_count": 11,
   "id": "89314b8f-a5c8-446a-b8e1-d9e60751de0a",
   "metadata": {},
   "outputs": [
    {
     "name": "stderr",
     "output_type": "stream",
     "text": [
      "INFO:src.io_model:✅ Model 'Logistic Regression' saved to: /home/mlioi/ufc-predictor/models/lr_best.pkl\n"
     ]
    }
   ],
   "source": [
    "save_model(model, name=file_model_name[model_name])"
   ]
  },
  {
   "cell_type": "markdown",
   "id": "a9e4e2e3",
   "metadata": {},
   "source": [
    "## Random Forest Model"
   ]
  },
  {
   "cell_type": "markdown",
   "id": "b3ecd028-62af-4a56-badd-57f299aac14e",
   "metadata": {},
   "source": [
    "### 🚀 Random Forest Training"
   ]
  },
  {
   "cell_type": "code",
   "execution_count": 12,
   "id": "054947b3",
   "metadata": {
    "scrolled": true
   },
   "outputs": [
    {
     "name": "stderr",
     "output_type": "stream",
     "text": [
      "INFO:src.model_factory:[Random Forest] UFC GridSearchCV Training (F1_macro)\n",
      "INFO:root:[Random Forest] 🤖 Training...\n"
     ]
    },
    {
     "name": "stdout",
     "output_type": "stream",
     "text": [
      "Fitting 5 folds for each of 9 candidates, totalling 45 fits\n",
      "[CV 1/5] END ......max_depth=5, n_estimators=10;, score=0.580 total time=   0.0s\n",
      "[CV 2/5] END ......max_depth=5, n_estimators=10;, score=0.608 total time=   0.0s\n",
      "[CV 3/5] END ......max_depth=5, n_estimators=10;, score=0.592 total time=   0.0s\n",
      "[CV 4/5] END ......max_depth=5, n_estimators=10;, score=0.583 total time=   0.0s\n",
      "[CV 5/5] END ......max_depth=5, n_estimators=10;, score=0.614 total time=   0.0s\n",
      "[CV 1/5] END ......max_depth=5, n_estimators=50;, score=0.617 total time=   0.2s\n",
      "[CV 2/5] END ......max_depth=5, n_estimators=50;, score=0.622 total time=   0.2s\n",
      "[CV 3/5] END ......max_depth=5, n_estimators=50;, score=0.657 total time=   0.2s\n",
      "[CV 4/5] END ......max_depth=5, n_estimators=50;, score=0.638 total time=   0.2s\n",
      "[CV 5/5] END ......max_depth=5, n_estimators=50;, score=0.616 total time=   0.2s\n",
      "[CV 1/5] END .....max_depth=5, n_estimators=100;, score=0.601 total time=   0.4s\n",
      "[CV 2/5] END .....max_depth=5, n_estimators=100;, score=0.606 total time=   0.4s\n",
      "[CV 3/5] END .....max_depth=5, n_estimators=100;, score=0.650 total time=   0.4s\n",
      "[CV 4/5] END .....max_depth=5, n_estimators=100;, score=0.617 total time=   0.4s\n",
      "[CV 5/5] END .....max_depth=5, n_estimators=100;, score=0.609 total time=   0.4s\n",
      "[CV 1/5] END .....max_depth=10, n_estimators=10;, score=0.611 total time=   0.1s\n",
      "[CV 2/5] END .....max_depth=10, n_estimators=10;, score=0.579 total time=   0.1s\n",
      "[CV 3/5] END .....max_depth=10, n_estimators=10;, score=0.646 total time=   0.1s\n",
      "[CV 4/5] END .....max_depth=10, n_estimators=10;, score=0.617 total time=   0.1s\n",
      "[CV 5/5] END .....max_depth=10, n_estimators=10;, score=0.618 total time=   0.1s\n",
      "[CV 1/5] END .....max_depth=10, n_estimators=50;, score=0.621 total time=   0.3s\n",
      "[CV 2/5] END .....max_depth=10, n_estimators=50;, score=0.627 total time=   0.3s\n",
      "[CV 3/5] END .....max_depth=10, n_estimators=50;, score=0.654 total time=   0.3s\n",
      "[CV 4/5] END .....max_depth=10, n_estimators=50;, score=0.650 total time=   0.3s\n",
      "[CV 5/5] END .....max_depth=10, n_estimators=50;, score=0.636 total time=   0.3s\n",
      "[CV 1/5] END ....max_depth=10, n_estimators=100;, score=0.622 total time=   0.6s\n",
      "[CV 2/5] END ....max_depth=10, n_estimators=100;, score=0.619 total time=   0.6s\n",
      "[CV 3/5] END ....max_depth=10, n_estimators=100;, score=0.663 total time=   0.6s\n",
      "[CV 4/5] END ....max_depth=10, n_estimators=100;, score=0.649 total time=   0.6s\n",
      "[CV 5/5] END ....max_depth=10, n_estimators=100;, score=0.624 total time=   0.6s\n",
      "[CV 1/5] END ....max_depth=100, n_estimators=10;, score=0.592 total time=   0.1s\n",
      "[CV 2/5] END ....max_depth=100, n_estimators=10;, score=0.591 total time=   0.1s\n",
      "[CV 3/5] END ....max_depth=100, n_estimators=10;, score=0.620 total time=   0.1s\n",
      "[CV 4/5] END ....max_depth=100, n_estimators=10;, score=0.582 total time=   0.1s\n",
      "[CV 5/5] END ....max_depth=100, n_estimators=10;, score=0.585 total time=   0.1s\n",
      "[CV 1/5] END ....max_depth=100, n_estimators=50;, score=0.633 total time=   0.4s\n",
      "[CV 2/5] END ....max_depth=100, n_estimators=50;, score=0.630 total time=   0.4s\n",
      "[CV 3/5] END ....max_depth=100, n_estimators=50;, score=0.639 total time=   0.4s\n",
      "[CV 4/5] END ....max_depth=100, n_estimators=50;, score=0.627 total time=   0.4s\n",
      "[CV 5/5] END ....max_depth=100, n_estimators=50;, score=0.598 total time=   0.4s\n",
      "[CV 1/5] END ...max_depth=100, n_estimators=100;, score=0.631 total time=   0.9s\n",
      "[CV 2/5] END ...max_depth=100, n_estimators=100;, score=0.632 total time=   0.9s\n",
      "[CV 3/5] END ...max_depth=100, n_estimators=100;, score=0.668 total time=   0.9s\n",
      "[CV 4/5] END ...max_depth=100, n_estimators=100;, score=0.623 total time=   0.9s\n",
      "[CV 5/5] END ...max_depth=100, n_estimators=100;, score=0.620 total time=   0.8s\n"
     ]
    },
    {
     "name": "stderr",
     "output_type": "stream",
     "text": [
      "INFO:root:[Random Forest] 🔍 Best F1_macro: 0.6374\n",
      "[Random Forest] 🔍 Best Params: {'max_depth': 10, 'n_estimators': 50}\n"
     ]
    }
   ],
   "source": [
    "model_name = 'Random Forest'\n",
    "start = time.time()\n",
    "model = model_factory(model_name, ufc_data, model_params, scoring=\"f1_macro\")\n",
    "end = time.time()\n",
    "duration = end - start"
   ]
  },
  {
   "cell_type": "markdown",
   "id": "653e37f0-da84-4b55-82b7-5d4c4920587d",
   "metadata": {},
   "source": [
    "### 🔍 Random Forest Metrics"
   ]
  },
  {
   "cell_type": "code",
   "execution_count": 13,
   "id": "5e0783b7-2a4c-4bc8-a275-04ffb42752c4",
   "metadata": {},
   "outputs": [
    {
     "data": {
      "text/html": [
       "<pre style=\"white-space:pre;overflow-x:auto;line-height:normal;font-family:Menlo,'DejaVu Sans Mono',consolas,'Courier New',monospace\"><span style=\"font-weight: bold\">{</span>\n",
       "    <span style=\"color: #008000; text-decoration-color: #008000\">'Accuracy'</span>: <span style=\"color: #008080; text-decoration-color: #008080; font-weight: bold\">0.6669</span>,\n",
       "    <span style=\"color: #008000; text-decoration-color: #008000\">'Balanced Accuracy'</span>: <span style=\"color: #800080; text-decoration-color: #800080; font-weight: bold\">np.float64</span><span style=\"font-weight: bold\">(</span><span style=\"color: #008080; text-decoration-color: #008080; font-weight: bold\">0.643</span><span style=\"font-weight: bold\">)</span>,\n",
       "    <span style=\"color: #008000; text-decoration-color: #008000\">'Precision Red'</span>: <span style=\"color: #008080; text-decoration-color: #008080; font-weight: bold\">0.684</span>,\n",
       "    <span style=\"color: #008000; text-decoration-color: #008000\">'Recall Red'</span>: <span style=\"color: #008080; text-decoration-color: #008080; font-weight: bold\">0.792</span>,\n",
       "    <span style=\"color: #008000; text-decoration-color: #008000\">'F1 Red'</span>: <span style=\"color: #008080; text-decoration-color: #008080; font-weight: bold\">0.734</span>,\n",
       "    <span style=\"color: #008000; text-decoration-color: #008000\">'Precision Blue'</span>: <span style=\"color: #008080; text-decoration-color: #008080; font-weight: bold\">0.632</span>,\n",
       "    <span style=\"color: #008000; text-decoration-color: #008000\">'Recall Blue'</span>: <span style=\"color: #008080; text-decoration-color: #008080; font-weight: bold\">0.494</span>,\n",
       "    <span style=\"color: #008000; text-decoration-color: #008000\">'F1 Blue'</span>: <span style=\"color: #008080; text-decoration-color: #008080; font-weight: bold\">0.5546</span>,\n",
       "    <span style=\"color: #008000; text-decoration-color: #008000\">'F1 Macro'</span>: <span style=\"color: #008080; text-decoration-color: #008080; font-weight: bold\">0.6443</span>,\n",
       "    <span style=\"color: #008000; text-decoration-color: #008000\">'ROC AUC'</span>: <span style=\"color: #800080; text-decoration-color: #800080; font-weight: bold\">np.float64</span><span style=\"font-weight: bold\">(</span><span style=\"color: #008080; text-decoration-color: #008080; font-weight: bold\">0.7062</span><span style=\"font-weight: bold\">)</span>,\n",
       "    <span style=\"color: #008000; text-decoration-color: #008000\">'Brier Score'</span>: <span style=\"color: #800080; text-decoration-color: #800080; font-weight: bold\">np.float64</span><span style=\"font-weight: bold\">(</span><span style=\"color: #008080; text-decoration-color: #008080; font-weight: bold\">0.2142</span><span style=\"font-weight: bold\">)</span>,\n",
       "    <span style=\"color: #008000; text-decoration-color: #008000\">'MCC'</span>: <span style=\"color: #800080; text-decoration-color: #800080; font-weight: bold\">np.float64</span><span style=\"font-weight: bold\">(</span><span style=\"color: #008080; text-decoration-color: #008080; font-weight: bold\">0.3006</span><span style=\"font-weight: bold\">)</span>,\n",
       "    <span style=\"color: #008000; text-decoration-color: #008000\">'Kappa'</span>: <span style=\"color: #800080; text-decoration-color: #800080; font-weight: bold\">np.float64</span><span style=\"font-weight: bold\">(</span><span style=\"color: #008080; text-decoration-color: #008080; font-weight: bold\">0.2949</span><span style=\"font-weight: bold\">)</span>\n",
       "<span style=\"font-weight: bold\">}</span>\n",
       "</pre>\n"
      ],
      "text/plain": [
       "\u001b[1m{\u001b[0m\n",
       "    \u001b[32m'Accuracy'\u001b[0m: \u001b[1;36m0.6669\u001b[0m,\n",
       "    \u001b[32m'Balanced Accuracy'\u001b[0m: \u001b[1;35mnp.float64\u001b[0m\u001b[1m(\u001b[0m\u001b[1;36m0.643\u001b[0m\u001b[1m)\u001b[0m,\n",
       "    \u001b[32m'Precision Red'\u001b[0m: \u001b[1;36m0.684\u001b[0m,\n",
       "    \u001b[32m'Recall Red'\u001b[0m: \u001b[1;36m0.792\u001b[0m,\n",
       "    \u001b[32m'F1 Red'\u001b[0m: \u001b[1;36m0.734\u001b[0m,\n",
       "    \u001b[32m'Precision Blue'\u001b[0m: \u001b[1;36m0.632\u001b[0m,\n",
       "    \u001b[32m'Recall Blue'\u001b[0m: \u001b[1;36m0.494\u001b[0m,\n",
       "    \u001b[32m'F1 Blue'\u001b[0m: \u001b[1;36m0.5546\u001b[0m,\n",
       "    \u001b[32m'F1 Macro'\u001b[0m: \u001b[1;36m0.6443\u001b[0m,\n",
       "    \u001b[32m'ROC AUC'\u001b[0m: \u001b[1;35mnp.float64\u001b[0m\u001b[1m(\u001b[0m\u001b[1;36m0.7062\u001b[0m\u001b[1m)\u001b[0m,\n",
       "    \u001b[32m'Brier Score'\u001b[0m: \u001b[1;35mnp.float64\u001b[0m\u001b[1m(\u001b[0m\u001b[1;36m0.2142\u001b[0m\u001b[1m)\u001b[0m,\n",
       "    \u001b[32m'MCC'\u001b[0m: \u001b[1;35mnp.float64\u001b[0m\u001b[1m(\u001b[0m\u001b[1;36m0.3006\u001b[0m\u001b[1m)\u001b[0m,\n",
       "    \u001b[32m'Kappa'\u001b[0m: \u001b[1;35mnp.float64\u001b[0m\u001b[1m(\u001b[0m\u001b[1;36m0.2949\u001b[0m\u001b[1m)\u001b[0m\n",
       "\u001b[1m}\u001b[0m\n"
      ]
     },
     "metadata": {},
     "output_type": "display_data"
    }
   ],
   "source": [
    "metrics = evaluate_metrics(model, ufc_data)\n",
    "print(metrics)"
   ]
  },
  {
   "cell_type": "markdown",
   "id": "c324c8fb-0329-4552-8763-9f18a3c36724",
   "metadata": {},
   "source": [
    "### 📝 Log Training Results"
   ]
  },
  {
   "cell_type": "code",
   "execution_count": 14,
   "id": "16e111ee-7960-4cf8-9301-1a0d676ef0df",
   "metadata": {},
   "outputs": [
    {
     "name": "stderr",
     "output_type": "stream",
     "text": [
      "INFO:src.helpers:✅ Training logged to ../data/results/training_log_v2.csv\n"
     ]
    }
   ],
   "source": [
    "log_training_result(model_name, model.best_params_, metrics, duration)"
   ]
  },
  {
   "cell_type": "markdown",
   "id": "d3bbee38-fc3a-4391-9bbb-347e18e048da",
   "metadata": {},
   "source": [
    "### 💾 Save Model "
   ]
  },
  {
   "cell_type": "code",
   "execution_count": 15,
   "id": "12bdd9f2-366a-42b4-9422-80771cbe5b43",
   "metadata": {},
   "outputs": [
    {
     "name": "stderr",
     "output_type": "stream",
     "text": [
      "INFO:src.io_model:✅ Model 'Random Forest' saved to: /home/mlioi/ufc-predictor/models/rf_best.pkl\n"
     ]
    }
   ],
   "source": [
    "save_model(model, name=file_model_name[model_name])"
   ]
  },
  {
   "cell_type": "markdown",
   "id": "c64482a9",
   "metadata": {},
   "source": [
    "##  AdaBoost Model"
   ]
  },
  {
   "cell_type": "markdown",
   "id": "1d5f617e-560d-4847-bc2a-8661f8e9fa67",
   "metadata": {},
   "source": [
    "### 🚀 AdaBoost Training"
   ]
  },
  {
   "cell_type": "code",
   "execution_count": 16,
   "id": "44a936b9",
   "metadata": {},
   "outputs": [
    {
     "name": "stderr",
     "output_type": "stream",
     "text": [
      "INFO:src.model_factory:[AdaBoost] UFC GridSearchCV Training (F1_macro)\n",
      "INFO:root:[AdaBoost] 🤖 Training...\n"
     ]
    },
    {
     "name": "stdout",
     "output_type": "stream",
     "text": [
      "Fitting 5 folds for each of 9 candidates, totalling 45 fits\n",
      "[CV 1/5] END learning_rate=0.01, n_estimators=10;, score=0.619 total time=   0.1s\n",
      "[CV 2/5] END learning_rate=0.01, n_estimators=10;, score=0.619 total time=   0.1s\n",
      "[CV 3/5] END learning_rate=0.01, n_estimators=10;, score=0.648 total time=   0.1s\n",
      "[CV 4/5] END learning_rate=0.01, n_estimators=10;, score=0.637 total time=   0.1s\n",
      "[CV 5/5] END learning_rate=0.01, n_estimators=10;, score=0.610 total time=   0.1s\n",
      "[CV 1/5] END learning_rate=0.01, n_estimators=50;, score=0.619 total time=   0.3s\n",
      "[CV 2/5] END learning_rate=0.01, n_estimators=50;, score=0.619 total time=   0.3s\n",
      "[CV 3/5] END learning_rate=0.01, n_estimators=50;, score=0.648 total time=   0.3s\n",
      "[CV 4/5] END learning_rate=0.01, n_estimators=50;, score=0.637 total time=   0.3s\n",
      "[CV 5/5] END learning_rate=0.01, n_estimators=50;, score=0.610 total time=   0.3s\n",
      "[CV 1/5] END learning_rate=0.01, n_estimators=100;, score=0.619 total time=   0.6s\n",
      "[CV 2/5] END learning_rate=0.01, n_estimators=100;, score=0.619 total time=   0.6s\n",
      "[CV 3/5] END learning_rate=0.01, n_estimators=100;, score=0.675 total time=   0.6s\n",
      "[CV 4/5] END learning_rate=0.01, n_estimators=100;, score=0.637 total time=   0.6s\n",
      "[CV 5/5] END learning_rate=0.01, n_estimators=100;, score=0.627 total time=   0.6s\n",
      "[CV 1/5] END learning_rate=0.1, n_estimators=10;, score=0.619 total time=   0.1s\n",
      "[CV 2/5] END learning_rate=0.1, n_estimators=10;, score=0.617 total time=   0.1s\n",
      "[CV 3/5] END learning_rate=0.1, n_estimators=10;, score=0.675 total time=   0.1s\n",
      "[CV 4/5] END learning_rate=0.1, n_estimators=10;, score=0.637 total time=   0.1s\n",
      "[CV 5/5] END learning_rate=0.1, n_estimators=10;, score=0.627 total time=   0.1s\n",
      "[CV 1/5] END learning_rate=0.1, n_estimators=50;, score=0.610 total time=   0.3s\n",
      "[CV 2/5] END learning_rate=0.1, n_estimators=50;, score=0.619 total time=   0.3s\n",
      "[CV 3/5] END learning_rate=0.1, n_estimators=50;, score=0.667 total time=   0.3s\n",
      "[CV 4/5] END learning_rate=0.1, n_estimators=50;, score=0.648 total time=   0.3s\n",
      "[CV 5/5] END learning_rate=0.1, n_estimators=50;, score=0.627 total time=   0.3s\n",
      "[CV 1/5] END learning_rate=0.1, n_estimators=100;, score=0.610 total time=   0.6s\n",
      "[CV 2/5] END learning_rate=0.1, n_estimators=100;, score=0.625 total time=   0.6s\n",
      "[CV 3/5] END learning_rate=0.1, n_estimators=100;, score=0.667 total time=   0.6s\n",
      "[CV 4/5] END learning_rate=0.1, n_estimators=100;, score=0.648 total time=   0.6s\n",
      "[CV 5/5] END learning_rate=0.1, n_estimators=100;, score=0.627 total time=   0.6s\n",
      "[CV 1/5] END learning_rate=1.0, n_estimators=10;, score=0.619 total time=   0.1s\n",
      "[CV 2/5] END learning_rate=1.0, n_estimators=10;, score=0.617 total time=   0.1s\n",
      "[CV 3/5] END learning_rate=1.0, n_estimators=10;, score=0.658 total time=   0.1s\n",
      "[CV 4/5] END learning_rate=1.0, n_estimators=10;, score=0.637 total time=   0.1s\n",
      "[CV 5/5] END learning_rate=1.0, n_estimators=10;, score=0.624 total time=   0.1s\n",
      "[CV 1/5] END learning_rate=1.0, n_estimators=50;, score=0.620 total time=   0.3s\n",
      "[CV 2/5] END learning_rate=1.0, n_estimators=50;, score=0.614 total time=   0.3s\n",
      "[CV 3/5] END learning_rate=1.0, n_estimators=50;, score=0.664 total time=   0.3s\n",
      "[CV 4/5] END learning_rate=1.0, n_estimators=50;, score=0.641 total time=   0.3s\n",
      "[CV 5/5] END learning_rate=1.0, n_estimators=50;, score=0.623 total time=   0.3s\n",
      "[CV 1/5] END learning_rate=1.0, n_estimators=100;, score=0.627 total time=   0.6s\n",
      "[CV 2/5] END learning_rate=1.0, n_estimators=100;, score=0.611 total time=   0.6s\n",
      "[CV 3/5] END learning_rate=1.0, n_estimators=100;, score=0.668 total time=   0.6s\n",
      "[CV 4/5] END learning_rate=1.0, n_estimators=100;, score=0.642 total time=   0.6s\n",
      "[CV 5/5] END learning_rate=1.0, n_estimators=100;, score=0.625 total time=   0.6s\n"
     ]
    },
    {
     "name": "stderr",
     "output_type": "stream",
     "text": [
      "INFO:root:[AdaBoost] 🔍 Best F1_macro: 0.6356\n",
      "[AdaBoost] 🔍 Best Params: {'learning_rate': 0.01, 'n_estimators': 100}\n"
     ]
    }
   ],
   "source": [
    "model_name = 'AdaBoost'\n",
    "start = time.time()\n",
    "model = model_factory(model_name, ufc_data, model_params, scoring=\"f1_macro\")\n",
    "end = time.time()\n",
    "duration = end - start"
   ]
  },
  {
   "cell_type": "markdown",
   "id": "81d48c7a-6d82-4b28-91ec-7f8b61c1bdc8",
   "metadata": {},
   "source": [
    "### 🔍 AdaBoost Metrics"
   ]
  },
  {
   "cell_type": "code",
   "execution_count": 17,
   "id": "f185bc1b-2540-4cc6-abaf-e2f711c494ad",
   "metadata": {
    "scrolled": true
   },
   "outputs": [
    {
     "data": {
      "text/html": [
       "<pre style=\"white-space:pre;overflow-x:auto;line-height:normal;font-family:Menlo,'DejaVu Sans Mono',consolas,'Courier New',monospace\"><span style=\"font-weight: bold\">{</span>\n",
       "    <span style=\"color: #008000; text-decoration-color: #008000\">'Accuracy'</span>: <span style=\"color: #008080; text-decoration-color: #008080; font-weight: bold\">0.6553</span>,\n",
       "    <span style=\"color: #008000; text-decoration-color: #008000\">'Balanced Accuracy'</span>: <span style=\"color: #800080; text-decoration-color: #800080; font-weight: bold\">np.float64</span><span style=\"font-weight: bold\">(</span><span style=\"color: #008080; text-decoration-color: #008080; font-weight: bold\">0.6258</span><span style=\"font-weight: bold\">)</span>,\n",
       "    <span style=\"color: #008000; text-decoration-color: #008000\">'Precision Red'</span>: <span style=\"color: #008080; text-decoration-color: #008080; font-weight: bold\">0.6675</span>,\n",
       "    <span style=\"color: #008000; text-decoration-color: #008000\">'Recall Red'</span>: <span style=\"color: #008080; text-decoration-color: #008080; font-weight: bold\">0.8092</span>,\n",
       "    <span style=\"color: #008000; text-decoration-color: #008000\">'F1 Red'</span>: <span style=\"color: #008080; text-decoration-color: #008080; font-weight: bold\">0.7315</span>,\n",
       "    <span style=\"color: #008000; text-decoration-color: #008000\">'Precision Blue'</span>: <span style=\"color: #008080; text-decoration-color: #008080; font-weight: bold\">0.6264</span>,\n",
       "    <span style=\"color: #008000; text-decoration-color: #008000\">'Recall Blue'</span>: <span style=\"color: #008080; text-decoration-color: #008080; font-weight: bold\">0.4425</span>,\n",
       "    <span style=\"color: #008000; text-decoration-color: #008000\">'F1 Blue'</span>: <span style=\"color: #008080; text-decoration-color: #008080; font-weight: bold\">0.5186</span>,\n",
       "    <span style=\"color: #008000; text-decoration-color: #008000\">'F1 Macro'</span>: <span style=\"color: #008080; text-decoration-color: #008080; font-weight: bold\">0.6251</span>,\n",
       "    <span style=\"color: #008000; text-decoration-color: #008000\">'ROC AUC'</span>: <span style=\"color: #800080; text-decoration-color: #800080; font-weight: bold\">np.float64</span><span style=\"font-weight: bold\">(</span><span style=\"color: #008080; text-decoration-color: #008080; font-weight: bold\">0.7007</span><span style=\"font-weight: bold\">)</span>,\n",
       "    <span style=\"color: #008000; text-decoration-color: #008000\">'Brier Score'</span>: <span style=\"color: #800080; text-decoration-color: #800080; font-weight: bold\">np.float64</span><span style=\"font-weight: bold\">(</span><span style=\"color: #008080; text-decoration-color: #008080; font-weight: bold\">0.2173</span><span style=\"font-weight: bold\">)</span>,\n",
       "    <span style=\"color: #008000; text-decoration-color: #008000\">'MCC'</span>: <span style=\"color: #800080; text-decoration-color: #800080; font-weight: bold\">np.float64</span><span style=\"font-weight: bold\">(</span><span style=\"color: #008080; text-decoration-color: #008080; font-weight: bold\">0.2719</span><span style=\"font-weight: bold\">)</span>,\n",
       "    <span style=\"color: #008000; text-decoration-color: #008000\">'Kappa'</span>: <span style=\"color: #800080; text-decoration-color: #800080; font-weight: bold\">np.float64</span><span style=\"font-weight: bold\">(</span><span style=\"color: #008080; text-decoration-color: #008080; font-weight: bold\">0.2623</span><span style=\"font-weight: bold\">)</span>\n",
       "<span style=\"font-weight: bold\">}</span>\n",
       "</pre>\n"
      ],
      "text/plain": [
       "\u001b[1m{\u001b[0m\n",
       "    \u001b[32m'Accuracy'\u001b[0m: \u001b[1;36m0.6553\u001b[0m,\n",
       "    \u001b[32m'Balanced Accuracy'\u001b[0m: \u001b[1;35mnp.float64\u001b[0m\u001b[1m(\u001b[0m\u001b[1;36m0.6258\u001b[0m\u001b[1m)\u001b[0m,\n",
       "    \u001b[32m'Precision Red'\u001b[0m: \u001b[1;36m0.6675\u001b[0m,\n",
       "    \u001b[32m'Recall Red'\u001b[0m: \u001b[1;36m0.8092\u001b[0m,\n",
       "    \u001b[32m'F1 Red'\u001b[0m: \u001b[1;36m0.7315\u001b[0m,\n",
       "    \u001b[32m'Precision Blue'\u001b[0m: \u001b[1;36m0.6264\u001b[0m,\n",
       "    \u001b[32m'Recall Blue'\u001b[0m: \u001b[1;36m0.4425\u001b[0m,\n",
       "    \u001b[32m'F1 Blue'\u001b[0m: \u001b[1;36m0.5186\u001b[0m,\n",
       "    \u001b[32m'F1 Macro'\u001b[0m: \u001b[1;36m0.6251\u001b[0m,\n",
       "    \u001b[32m'ROC AUC'\u001b[0m: \u001b[1;35mnp.float64\u001b[0m\u001b[1m(\u001b[0m\u001b[1;36m0.7007\u001b[0m\u001b[1m)\u001b[0m,\n",
       "    \u001b[32m'Brier Score'\u001b[0m: \u001b[1;35mnp.float64\u001b[0m\u001b[1m(\u001b[0m\u001b[1;36m0.2173\u001b[0m\u001b[1m)\u001b[0m,\n",
       "    \u001b[32m'MCC'\u001b[0m: \u001b[1;35mnp.float64\u001b[0m\u001b[1m(\u001b[0m\u001b[1;36m0.2719\u001b[0m\u001b[1m)\u001b[0m,\n",
       "    \u001b[32m'Kappa'\u001b[0m: \u001b[1;35mnp.float64\u001b[0m\u001b[1m(\u001b[0m\u001b[1;36m0.2623\u001b[0m\u001b[1m)\u001b[0m\n",
       "\u001b[1m}\u001b[0m\n"
      ]
     },
     "metadata": {},
     "output_type": "display_data"
    }
   ],
   "source": [
    "metrics = evaluate_metrics(model, ufc_data)\n",
    "print(metrics)"
   ]
  },
  {
   "cell_type": "markdown",
   "id": "4cd74370-c5fe-4476-bfd4-a70074efac8b",
   "metadata": {},
   "source": [
    "### 📝 Log Training Results"
   ]
  },
  {
   "cell_type": "code",
   "execution_count": 18,
   "id": "99a7657b-758e-474a-8cae-f46beb4ede7b",
   "metadata": {},
   "outputs": [
    {
     "name": "stderr",
     "output_type": "stream",
     "text": [
      "INFO:src.helpers:✅ Training logged to ../data/results/training_log_v2.csv\n"
     ]
    }
   ],
   "source": [
    "log_training_result(model_name, model.best_params_, metrics, duration)"
   ]
  },
  {
   "cell_type": "markdown",
   "id": "60ab855a-02f1-4045-82fb-efde83f6cfa5",
   "metadata": {},
   "source": [
    "### 💾 Save Model "
   ]
  },
  {
   "cell_type": "code",
   "execution_count": 19,
   "id": "2756ab9e-5a9f-4483-81c1-4567b043069f",
   "metadata": {},
   "outputs": [
    {
     "name": "stderr",
     "output_type": "stream",
     "text": [
      "INFO:src.io_model:✅ Model 'AdaBoost' saved to: /home/mlioi/ufc-predictor/models/ab_best.pkl\n"
     ]
    }
   ],
   "source": [
    "save_model(model, name=file_model_name[model_name])"
   ]
  },
  {
   "cell_type": "markdown",
   "id": "0f506d2e",
   "metadata": {},
   "source": [
    "## Naive Bayes Model"
   ]
  },
  {
   "cell_type": "markdown",
   "id": "05b60712-0ef6-4ce5-b64d-7039ac1240bc",
   "metadata": {},
   "source": [
    "### 🚀 Naive Bayes Training"
   ]
  },
  {
   "cell_type": "code",
   "execution_count": 20,
   "id": "309d3291",
   "metadata": {},
   "outputs": [
    {
     "name": "stderr",
     "output_type": "stream",
     "text": [
      "INFO:src.model_factory:[Naive Bayes] UFC GridSearchCV Training (F1_macro)\n",
      "INFO:root:[Naive Bayes] 🤖 Training...\n"
     ]
    },
    {
     "name": "stdout",
     "output_type": "stream",
     "text": [
      "Fitting 5 folds for each of 4 candidates, totalling 20 fits\n",
      "[CV 1/5] END ...............var_smoothing=1e-08;, score=0.630 total time=   0.0s\n",
      "[CV 2/5] END ...............var_smoothing=1e-08;, score=0.630 total time=   0.0s\n",
      "[CV 3/5] END ...............var_smoothing=1e-08;, score=0.629 total time=   0.0s\n",
      "[CV 4/5] END ...............var_smoothing=1e-08;, score=0.593 total time=   0.0s\n",
      "[CV 5/5] END ...............var_smoothing=1e-08;, score=0.608 total time=   0.0s\n",
      "[CV 1/5] END ...............var_smoothing=1e-07;, score=0.630 total time=   0.0s\n",
      "[CV 2/5] END ...............var_smoothing=1e-07;, score=0.630 total time=   0.0s\n",
      "[CV 3/5] END ...............var_smoothing=1e-07;, score=0.629 total time=   0.0s\n",
      "[CV 4/5] END ...............var_smoothing=1e-07;, score=0.593 total time=   0.0s\n",
      "[CV 5/5] END ...............var_smoothing=1e-07;, score=0.608 total time=   0.0s\n",
      "[CV 1/5] END ...............var_smoothing=1e-06;, score=0.630 total time=   0.0s\n",
      "[CV 2/5] END ...............var_smoothing=1e-06;, score=0.630 total time=   0.0s\n",
      "[CV 3/5] END ...............var_smoothing=1e-06;, score=0.629 total time=   0.0s\n",
      "[CV 4/5] END ...............var_smoothing=1e-06;, score=0.593 total time=   0.0s\n",
      "[CV 5/5] END ...............var_smoothing=1e-06;, score=0.608 total time=   0.0s\n",
      "[CV 1/5] END ...............var_smoothing=1e-05;, score=0.630 total time=   0.0s\n",
      "[CV 2/5] END ...............var_smoothing=1e-05;, score=0.630 total time=   0.0s\n",
      "[CV 3/5] END ...............var_smoothing=1e-05;, score=0.629 total time=   0.0s\n",
      "[CV 4/5] END ...............var_smoothing=1e-05;, score=0.594 total time=   0.0s\n",
      "[CV 5/5] END ...............var_smoothing=1e-05;, score=0.608 total time=   0.0s\n"
     ]
    },
    {
     "name": "stderr",
     "output_type": "stream",
     "text": [
      "INFO:root:[Naive Bayes] 🔍 Best F1_macro: 0.6183\n",
      "[Naive Bayes] 🔍 Best Params: {'var_smoothing': 1e-05}\n"
     ]
    }
   ],
   "source": [
    "model_name = 'Naive Bayes'\n",
    "start = time.time()\n",
    "model = model_factory(model_name, ufc_data, model_params, scoring=\"f1_macro\")\n",
    "end = time.time()\n",
    "duration = end - start"
   ]
  },
  {
   "cell_type": "markdown",
   "id": "ece1e78a-d149-4790-ac78-96eaffdcff69",
   "metadata": {},
   "source": [
    "### 🔍 Naive Bayes Metrics"
   ]
  },
  {
   "cell_type": "code",
   "execution_count": 21,
   "id": "df22375c-77c9-4410-b0e0-fb93c6e67f07",
   "metadata": {
    "scrolled": true
   },
   "outputs": [
    {
     "data": {
      "text/html": [
       "<pre style=\"white-space:pre;overflow-x:auto;line-height:normal;font-family:Menlo,'DejaVu Sans Mono',consolas,'Courier New',monospace\"><span style=\"font-weight: bold\">{</span>\n",
       "    <span style=\"color: #008000; text-decoration-color: #008000\">'Accuracy'</span>: <span style=\"color: #008080; text-decoration-color: #008080; font-weight: bold\">0.617</span>,\n",
       "    <span style=\"color: #008000; text-decoration-color: #008000\">'Balanced Accuracy'</span>: <span style=\"color: #800080; text-decoration-color: #800080; font-weight: bold\">np.float64</span><span style=\"font-weight: bold\">(</span><span style=\"color: #008080; text-decoration-color: #008080; font-weight: bold\">0.6219</span><span style=\"font-weight: bold\">)</span>,\n",
       "    <span style=\"color: #008000; text-decoration-color: #008000\">'Precision Red'</span>: <span style=\"color: #008080; text-decoration-color: #008080; font-weight: bold\">0.7019</span>,\n",
       "    <span style=\"color: #008000; text-decoration-color: #008000\">'Recall Red'</span>: <span style=\"color: #008080; text-decoration-color: #008080; font-weight: bold\">0.5911</span>,\n",
       "    <span style=\"color: #008000; text-decoration-color: #008000\">'F1 Red'</span>: <span style=\"color: #008080; text-decoration-color: #008080; font-weight: bold\">0.6417</span>,\n",
       "    <span style=\"color: #008000; text-decoration-color: #008000\">'Precision Blue'</span>: <span style=\"color: #008080; text-decoration-color: #008080; font-weight: bold\">0.5358</span>,\n",
       "    <span style=\"color: #008000; text-decoration-color: #008000\">'Recall Blue'</span>: <span style=\"color: #008080; text-decoration-color: #008080; font-weight: bold\">0.6528</span>,\n",
       "    <span style=\"color: #008000; text-decoration-color: #008000\">'F1 Blue'</span>: <span style=\"color: #008080; text-decoration-color: #008080; font-weight: bold\">0.5886</span>,\n",
       "    <span style=\"color: #008000; text-decoration-color: #008000\">'F1 Macro'</span>: <span style=\"color: #008080; text-decoration-color: #008080; font-weight: bold\">0.6151</span>,\n",
       "    <span style=\"color: #008000; text-decoration-color: #008000\">'ROC AUC'</span>: <span style=\"color: #800080; text-decoration-color: #800080; font-weight: bold\">np.float64</span><span style=\"font-weight: bold\">(</span><span style=\"color: #008080; text-decoration-color: #008080; font-weight: bold\">0.6618</span><span style=\"font-weight: bold\">)</span>,\n",
       "    <span style=\"color: #008000; text-decoration-color: #008000\">'Brier Score'</span>: <span style=\"color: #800080; text-decoration-color: #800080; font-weight: bold\">np.float64</span><span style=\"font-weight: bold\">(</span><span style=\"color: #008080; text-decoration-color: #008080; font-weight: bold\">0.2568</span><span style=\"font-weight: bold\">)</span>,\n",
       "    <span style=\"color: #008000; text-decoration-color: #008000\">'MCC'</span>: <span style=\"color: #800080; text-decoration-color: #800080; font-weight: bold\">np.float64</span><span style=\"font-weight: bold\">(</span><span style=\"color: #008080; text-decoration-color: #008080; font-weight: bold\">0.2408</span><span style=\"font-weight: bold\">)</span>,\n",
       "    <span style=\"color: #008000; text-decoration-color: #008000\">'Kappa'</span>: <span style=\"color: #800080; text-decoration-color: #800080; font-weight: bold\">np.float64</span><span style=\"font-weight: bold\">(</span><span style=\"color: #008080; text-decoration-color: #008080; font-weight: bold\">0.2367</span><span style=\"font-weight: bold\">)</span>\n",
       "<span style=\"font-weight: bold\">}</span>\n",
       "</pre>\n"
      ],
      "text/plain": [
       "\u001b[1m{\u001b[0m\n",
       "    \u001b[32m'Accuracy'\u001b[0m: \u001b[1;36m0.617\u001b[0m,\n",
       "    \u001b[32m'Balanced Accuracy'\u001b[0m: \u001b[1;35mnp.float64\u001b[0m\u001b[1m(\u001b[0m\u001b[1;36m0.6219\u001b[0m\u001b[1m)\u001b[0m,\n",
       "    \u001b[32m'Precision Red'\u001b[0m: \u001b[1;36m0.7019\u001b[0m,\n",
       "    \u001b[32m'Recall Red'\u001b[0m: \u001b[1;36m0.5911\u001b[0m,\n",
       "    \u001b[32m'F1 Red'\u001b[0m: \u001b[1;36m0.6417\u001b[0m,\n",
       "    \u001b[32m'Precision Blue'\u001b[0m: \u001b[1;36m0.5358\u001b[0m,\n",
       "    \u001b[32m'Recall Blue'\u001b[0m: \u001b[1;36m0.6528\u001b[0m,\n",
       "    \u001b[32m'F1 Blue'\u001b[0m: \u001b[1;36m0.5886\u001b[0m,\n",
       "    \u001b[32m'F1 Macro'\u001b[0m: \u001b[1;36m0.6151\u001b[0m,\n",
       "    \u001b[32m'ROC AUC'\u001b[0m: \u001b[1;35mnp.float64\u001b[0m\u001b[1m(\u001b[0m\u001b[1;36m0.6618\u001b[0m\u001b[1m)\u001b[0m,\n",
       "    \u001b[32m'Brier Score'\u001b[0m: \u001b[1;35mnp.float64\u001b[0m\u001b[1m(\u001b[0m\u001b[1;36m0.2568\u001b[0m\u001b[1m)\u001b[0m,\n",
       "    \u001b[32m'MCC'\u001b[0m: \u001b[1;35mnp.float64\u001b[0m\u001b[1m(\u001b[0m\u001b[1;36m0.2408\u001b[0m\u001b[1m)\u001b[0m,\n",
       "    \u001b[32m'Kappa'\u001b[0m: \u001b[1;35mnp.float64\u001b[0m\u001b[1m(\u001b[0m\u001b[1;36m0.2367\u001b[0m\u001b[1m)\u001b[0m\n",
       "\u001b[1m}\u001b[0m\n"
      ]
     },
     "metadata": {},
     "output_type": "display_data"
    }
   ],
   "source": [
    "metrics = evaluate_metrics(model, ufc_data)\n",
    "print(metrics)"
   ]
  },
  {
   "cell_type": "markdown",
   "id": "cefcb965-9b00-4107-8401-5e6e4d4b62dd",
   "metadata": {},
   "source": [
    "### 📝 Log Training Results"
   ]
  },
  {
   "cell_type": "code",
   "execution_count": 22,
   "id": "ea3388a5-2661-4903-997b-3d489887c416",
   "metadata": {},
   "outputs": [
    {
     "name": "stderr",
     "output_type": "stream",
     "text": [
      "INFO:src.helpers:✅ Training logged to ../data/results/training_log_v2.csv\n"
     ]
    }
   ],
   "source": [
    "log_training_result(model_name, model.best_params_, metrics, duration)"
   ]
  },
  {
   "cell_type": "markdown",
   "id": "8f709031-454d-4f8d-99bf-bf9dedcd83c8",
   "metadata": {},
   "source": [
    "### 💾 Save Model "
   ]
  },
  {
   "cell_type": "code",
   "execution_count": 23,
   "id": "e303de9f-7ac6-45c3-8ea7-20f4c37bb67c",
   "metadata": {},
   "outputs": [
    {
     "name": "stderr",
     "output_type": "stream",
     "text": [
      "INFO:src.io_model:✅ Model 'Naive Bayes' saved to: /home/mlioi/ufc-predictor/models/nb_best.pkl\n"
     ]
    }
   ],
   "source": [
    "save_model(model, name=file_model_name[model_name])"
   ]
  },
  {
   "cell_type": "markdown",
   "id": "ee77f580-059a-4da4-be89-96c1aec97a92",
   "metadata": {},
   "source": [
    "## Gradient Boosting Model"
   ]
  },
  {
   "cell_type": "markdown",
   "id": "2c14d4ef-8dc3-49b1-baa0-f9f17a36de74",
   "metadata": {},
   "source": [
    "### 🚀 Gradient Boosting Training"
   ]
  },
  {
   "cell_type": "code",
   "execution_count": 24,
   "id": "15d4266e-a34b-4621-afcc-719601c66aa8",
   "metadata": {
    "scrolled": true
   },
   "outputs": [
    {
     "name": "stderr",
     "output_type": "stream",
     "text": [
      "INFO:src.model_factory:[Gradient Boosting] UFC GridSearchCV Training (F1_macro)\n",
      "INFO:root:[Gradient Boosting] 🤖 Training...\n"
     ]
    },
    {
     "name": "stdout",
     "output_type": "stream",
     "text": [
      "Fitting 5 folds for each of 18 candidates, totalling 90 fits\n",
      "[CV 1/5] END learning_rate=0.01, max_depth=3, n_estimators=100;, score=0.603 total time=   1.2s\n",
      "[CV 2/5] END learning_rate=0.01, max_depth=3, n_estimators=100;, score=0.594 total time=   1.1s\n",
      "[CV 3/5] END learning_rate=0.01, max_depth=3, n_estimators=100;, score=0.655 total time=   1.1s\n",
      "[CV 4/5] END learning_rate=0.01, max_depth=3, n_estimators=100;, score=0.623 total time=   1.1s\n",
      "[CV 5/5] END learning_rate=0.01, max_depth=3, n_estimators=100;, score=0.623 total time=   1.1s\n",
      "[CV 1/5] END learning_rate=0.01, max_depth=3, n_estimators=200;, score=0.611 total time=   2.3s\n",
      "[CV 2/5] END learning_rate=0.01, max_depth=3, n_estimators=200;, score=0.617 total time=   2.3s\n",
      "[CV 3/5] END learning_rate=0.01, max_depth=3, n_estimators=200;, score=0.679 total time=   2.3s\n",
      "[CV 4/5] END learning_rate=0.01, max_depth=3, n_estimators=200;, score=0.644 total time=   2.3s\n",
      "[CV 5/5] END learning_rate=0.01, max_depth=3, n_estimators=200;, score=0.626 total time=   2.3s\n",
      "[CV 1/5] END learning_rate=0.01, max_depth=5, n_estimators=100;, score=0.604 total time=   2.0s\n",
      "[CV 2/5] END learning_rate=0.01, max_depth=5, n_estimators=100;, score=0.591 total time=   2.0s\n",
      "[CV 3/5] END learning_rate=0.01, max_depth=5, n_estimators=100;, score=0.650 total time=   2.0s\n",
      "[CV 4/5] END learning_rate=0.01, max_depth=5, n_estimators=100;, score=0.638 total time=   2.0s\n",
      "[CV 5/5] END learning_rate=0.01, max_depth=5, n_estimators=100;, score=0.613 total time=   2.0s\n",
      "[CV 1/5] END learning_rate=0.01, max_depth=5, n_estimators=200;, score=0.618 total time=   4.0s\n",
      "[CV 2/5] END learning_rate=0.01, max_depth=5, n_estimators=200;, score=0.617 total time=   3.9s\n",
      "[CV 3/5] END learning_rate=0.01, max_depth=5, n_estimators=200;, score=0.674 total time=   4.0s\n",
      "[CV 4/5] END learning_rate=0.01, max_depth=5, n_estimators=200;, score=0.651 total time=   3.9s\n",
      "[CV 5/5] END learning_rate=0.01, max_depth=5, n_estimators=200;, score=0.625 total time=   3.9s\n",
      "[CV 1/5] END learning_rate=0.01, max_depth=7, n_estimators=100;, score=0.603 total time=   3.0s\n",
      "[CV 2/5] END learning_rate=0.01, max_depth=7, n_estimators=100;, score=0.582 total time=   3.0s\n",
      "[CV 3/5] END learning_rate=0.01, max_depth=7, n_estimators=100;, score=0.648 total time=   3.1s\n",
      "[CV 4/5] END learning_rate=0.01, max_depth=7, n_estimators=100;, score=0.613 total time=   3.1s\n",
      "[CV 5/5] END learning_rate=0.01, max_depth=7, n_estimators=100;, score=0.600 total time=   3.0s\n",
      "[CV 1/5] END learning_rate=0.01, max_depth=7, n_estimators=200;, score=0.615 total time=   6.1s\n",
      "[CV 2/5] END learning_rate=0.01, max_depth=7, n_estimators=200;, score=0.612 total time=   6.0s\n",
      "[CV 3/5] END learning_rate=0.01, max_depth=7, n_estimators=200;, score=0.665 total time=   6.1s\n",
      "[CV 4/5] END learning_rate=0.01, max_depth=7, n_estimators=200;, score=0.623 total time=   6.2s\n",
      "[CV 5/5] END learning_rate=0.01, max_depth=7, n_estimators=200;, score=0.623 total time=   6.1s\n",
      "[CV 1/5] END learning_rate=0.1, max_depth=3, n_estimators=100;, score=0.623 total time=   1.1s\n",
      "[CV 2/5] END learning_rate=0.1, max_depth=3, n_estimators=100;, score=0.624 total time=   1.1s\n",
      "[CV 3/5] END learning_rate=0.1, max_depth=3, n_estimators=100;, score=0.667 total time=   1.1s\n",
      "[CV 4/5] END learning_rate=0.1, max_depth=3, n_estimators=100;, score=0.645 total time=   1.1s\n",
      "[CV 5/5] END learning_rate=0.1, max_depth=3, n_estimators=100;, score=0.633 total time=   1.1s\n",
      "[CV 1/5] END learning_rate=0.1, max_depth=3, n_estimators=200;, score=0.623 total time=   2.2s\n",
      "[CV 2/5] END learning_rate=0.1, max_depth=3, n_estimators=200;, score=0.635 total time=   2.2s\n",
      "[CV 3/5] END learning_rate=0.1, max_depth=3, n_estimators=200;, score=0.652 total time=   2.2s\n",
      "[CV 4/5] END learning_rate=0.1, max_depth=3, n_estimators=200;, score=0.638 total time=   2.2s\n",
      "[CV 5/5] END learning_rate=0.1, max_depth=3, n_estimators=200;, score=0.617 total time=   2.2s\n",
      "[CV 1/5] END learning_rate=0.1, max_depth=5, n_estimators=100;, score=0.616 total time=   1.9s\n",
      "[CV 2/5] END learning_rate=0.1, max_depth=5, n_estimators=100;, score=0.607 total time=   1.9s\n",
      "[CV 3/5] END learning_rate=0.1, max_depth=5, n_estimators=100;, score=0.665 total time=   1.9s\n",
      "[CV 4/5] END learning_rate=0.1, max_depth=5, n_estimators=100;, score=0.647 total time=   1.9s\n",
      "[CV 5/5] END learning_rate=0.1, max_depth=5, n_estimators=100;, score=0.611 total time=   1.9s\n",
      "[CV 1/5] END learning_rate=0.1, max_depth=5, n_estimators=200;, score=0.604 total time=   3.8s\n",
      "[CV 2/5] END learning_rate=0.1, max_depth=5, n_estimators=200;, score=0.602 total time=   3.7s\n",
      "[CV 3/5] END learning_rate=0.1, max_depth=5, n_estimators=200;, score=0.632 total time=   3.8s\n",
      "[CV 4/5] END learning_rate=0.1, max_depth=5, n_estimators=200;, score=0.627 total time=   3.8s\n",
      "[CV 5/5] END learning_rate=0.1, max_depth=5, n_estimators=200;, score=0.619 total time=   3.7s\n",
      "[CV 1/5] END learning_rate=0.1, max_depth=7, n_estimators=100;, score=0.628 total time=   2.8s\n",
      "[CV 2/5] END learning_rate=0.1, max_depth=7, n_estimators=100;, score=0.598 total time=   2.8s\n",
      "[CV 3/5] END learning_rate=0.1, max_depth=7, n_estimators=100;, score=0.632 total time=   2.8s\n",
      "[CV 4/5] END learning_rate=0.1, max_depth=7, n_estimators=100;, score=0.643 total time=   2.8s\n",
      "[CV 5/5] END learning_rate=0.1, max_depth=7, n_estimators=100;, score=0.618 total time=   2.8s\n",
      "[CV 1/5] END learning_rate=0.1, max_depth=7, n_estimators=200;, score=0.579 total time=   5.6s\n",
      "[CV 2/5] END learning_rate=0.1, max_depth=7, n_estimators=200;, score=0.608 total time=   5.6s\n",
      "[CV 3/5] END learning_rate=0.1, max_depth=7, n_estimators=200;, score=0.625 total time=   5.6s\n",
      "[CV 4/5] END learning_rate=0.1, max_depth=7, n_estimators=200;, score=0.622 total time=   5.6s\n",
      "[CV 5/5] END learning_rate=0.1, max_depth=7, n_estimators=200;, score=0.612 total time=   5.6s\n",
      "[CV 1/5] END learning_rate=1.0, max_depth=3, n_estimators=100;, score=0.582 total time=   1.1s\n",
      "[CV 2/5] END learning_rate=1.0, max_depth=3, n_estimators=100;, score=0.587 total time=   1.1s\n",
      "[CV 3/5] END learning_rate=1.0, max_depth=3, n_estimators=100;, score=0.604 total time=   1.1s\n",
      "[CV 4/5] END learning_rate=1.0, max_depth=3, n_estimators=100;, score=0.589 total time=   1.1s\n",
      "[CV 5/5] END learning_rate=1.0, max_depth=3, n_estimators=100;, score=0.572 total time=   1.1s\n",
      "[CV 1/5] END learning_rate=1.0, max_depth=3, n_estimators=200;, score=0.583 total time=   2.3s\n",
      "[CV 2/5] END learning_rate=1.0, max_depth=3, n_estimators=200;, score=0.578 total time=   2.2s\n",
      "[CV 3/5] END learning_rate=1.0, max_depth=3, n_estimators=200;, score=0.613 total time=   2.2s\n",
      "[CV 4/5] END learning_rate=1.0, max_depth=3, n_estimators=200;, score=0.595 total time=   2.2s\n",
      "[CV 5/5] END learning_rate=1.0, max_depth=3, n_estimators=200;, score=0.563 total time=   2.2s\n",
      "[CV 1/5] END learning_rate=1.0, max_depth=5, n_estimators=100;, score=0.589 total time=   1.9s\n",
      "[CV 2/5] END learning_rate=1.0, max_depth=5, n_estimators=100;, score=0.580 total time=   1.9s\n",
      "[CV 3/5] END learning_rate=1.0, max_depth=5, n_estimators=100;, score=0.626 total time=   1.9s\n",
      "[CV 4/5] END learning_rate=1.0, max_depth=5, n_estimators=100;, score=0.597 total time=   1.9s\n",
      "[CV 5/5] END learning_rate=1.0, max_depth=5, n_estimators=100;, score=0.558 total time=   1.9s\n",
      "[CV 1/5] END learning_rate=1.0, max_depth=5, n_estimators=200;, score=0.582 total time=   3.8s\n",
      "[CV 2/5] END learning_rate=1.0, max_depth=5, n_estimators=200;, score=0.605 total time=   3.8s\n",
      "[CV 3/5] END learning_rate=1.0, max_depth=5, n_estimators=200;, score=0.614 total time=   3.8s\n",
      "[CV 4/5] END learning_rate=1.0, max_depth=5, n_estimators=200;, score=0.588 total time=   3.8s\n",
      "[CV 5/5] END learning_rate=1.0, max_depth=5, n_estimators=200;, score=0.567 total time=   3.8s\n",
      "[CV 1/5] END learning_rate=1.0, max_depth=7, n_estimators=100;, score=0.589 total time=   2.8s\n",
      "[CV 2/5] END learning_rate=1.0, max_depth=7, n_estimators=100;, score=0.598 total time=   2.8s\n",
      "[CV 3/5] END learning_rate=1.0, max_depth=7, n_estimators=100;, score=0.604 total time=   2.8s\n",
      "[CV 4/5] END learning_rate=1.0, max_depth=7, n_estimators=100;, score=0.600 total time=   2.8s\n",
      "[CV 5/5] END learning_rate=1.0, max_depth=7, n_estimators=100;, score=0.587 total time=   2.8s\n",
      "[CV 1/5] END learning_rate=1.0, max_depth=7, n_estimators=200;, score=0.610 total time=   5.7s\n",
      "[CV 2/5] END learning_rate=1.0, max_depth=7, n_estimators=200;, score=0.580 total time=   5.6s\n",
      "[CV 3/5] END learning_rate=1.0, max_depth=7, n_estimators=200;, score=0.609 total time=   5.6s\n",
      "[CV 4/5] END learning_rate=1.0, max_depth=7, n_estimators=200;, score=0.623 total time=   5.6s\n",
      "[CV 5/5] END learning_rate=1.0, max_depth=7, n_estimators=200;, score=0.586 total time=   5.7s\n"
     ]
    },
    {
     "name": "stderr",
     "output_type": "stream",
     "text": [
      "INFO:root:[Gradient Boosting] 🔍 Best F1_macro: 0.6385\n",
      "[Gradient Boosting] 🔍 Best Params: {'learning_rate': 0.1, 'max_depth': 3, 'n_estimators': 100}\n"
     ]
    }
   ],
   "source": [
    "model_name = \"Gradient Boosting\"\n",
    "start = time.time()\n",
    "model = model_factory(model_name, ufc_data, model_params, scoring=\"f1_macro\")\n",
    "end = time.time()\n",
    "duration = end - start"
   ]
  },
  {
   "cell_type": "markdown",
   "id": "63bc6138-31da-4653-be7b-939d5103f88f",
   "metadata": {},
   "source": [
    "### 🔍 Gradient Boosting Metrics"
   ]
  },
  {
   "cell_type": "code",
   "execution_count": 25,
   "id": "155f383b-5da4-4b93-9259-7f34ca850a4a",
   "metadata": {},
   "outputs": [
    {
     "data": {
      "text/html": [
       "<pre style=\"white-space:pre;overflow-x:auto;line-height:normal;font-family:Menlo,'DejaVu Sans Mono',consolas,'Courier New',monospace\"><span style=\"font-weight: bold\">{</span>\n",
       "    <span style=\"color: #008000; text-decoration-color: #008000\">'Accuracy'</span>: <span style=\"color: #008080; text-decoration-color: #008080; font-weight: bold\">0.6611</span>,\n",
       "    <span style=\"color: #008000; text-decoration-color: #008000\">'Balanced Accuracy'</span>: <span style=\"color: #800080; text-decoration-color: #800080; font-weight: bold\">np.float64</span><span style=\"font-weight: bold\">(</span><span style=\"color: #008080; text-decoration-color: #008080; font-weight: bold\">0.6396</span><span style=\"font-weight: bold\">)</span>,\n",
       "    <span style=\"color: #008000; text-decoration-color: #008000\">'Precision Red'</span>: <span style=\"color: #008080; text-decoration-color: #008080; font-weight: bold\">0.684</span>,\n",
       "    <span style=\"color: #008000; text-decoration-color: #008000\">'Recall Red'</span>: <span style=\"color: #008080; text-decoration-color: #008080; font-weight: bold\">0.7733</span>,\n",
       "    <span style=\"color: #008000; text-decoration-color: #008000\">'F1 Red'</span>: <span style=\"color: #008080; text-decoration-color: #008080; font-weight: bold\">0.7259</span>,\n",
       "    <span style=\"color: #008000; text-decoration-color: #008000\">'Precision Blue'</span>: <span style=\"color: #008080; text-decoration-color: #008080; font-weight: bold\">0.6174</span>,\n",
       "    <span style=\"color: #008000; text-decoration-color: #008000\">'Recall Blue'</span>: <span style=\"color: #008080; text-decoration-color: #008080; font-weight: bold\">0.506</span>,\n",
       "    <span style=\"color: #008000; text-decoration-color: #008000\">'F1 Blue'</span>: <span style=\"color: #008080; text-decoration-color: #008080; font-weight: bold\">0.5562</span>,\n",
       "    <span style=\"color: #008000; text-decoration-color: #008000\">'F1 Macro'</span>: <span style=\"color: #008080; text-decoration-color: #008080; font-weight: bold\">0.641</span>,\n",
       "    <span style=\"color: #008000; text-decoration-color: #008000\">'ROC AUC'</span>: <span style=\"color: #800080; text-decoration-color: #800080; font-weight: bold\">np.float64</span><span style=\"font-weight: bold\">(</span><span style=\"color: #008080; text-decoration-color: #008080; font-weight: bold\">0.7023</span><span style=\"font-weight: bold\">)</span>,\n",
       "    <span style=\"color: #008000; text-decoration-color: #008000\">'Brier Score'</span>: <span style=\"color: #800080; text-decoration-color: #800080; font-weight: bold\">np.float64</span><span style=\"font-weight: bold\">(</span><span style=\"color: #008080; text-decoration-color: #008080; font-weight: bold\">0.214</span><span style=\"font-weight: bold\">)</span>,\n",
       "    <span style=\"color: #008000; text-decoration-color: #008000\">'MCC'</span>: <span style=\"color: #800080; text-decoration-color: #800080; font-weight: bold\">np.float64</span><span style=\"font-weight: bold\">(</span><span style=\"color: #008080; text-decoration-color: #008080; font-weight: bold\">0.2901</span><span style=\"font-weight: bold\">)</span>,\n",
       "    <span style=\"color: #008000; text-decoration-color: #008000\">'Kappa'</span>: <span style=\"color: #800080; text-decoration-color: #800080; font-weight: bold\">np.float64</span><span style=\"font-weight: bold\">(</span><span style=\"color: #008080; text-decoration-color: #008080; font-weight: bold\">0.2864</span><span style=\"font-weight: bold\">)</span>\n",
       "<span style=\"font-weight: bold\">}</span>\n",
       "</pre>\n"
      ],
      "text/plain": [
       "\u001b[1m{\u001b[0m\n",
       "    \u001b[32m'Accuracy'\u001b[0m: \u001b[1;36m0.6611\u001b[0m,\n",
       "    \u001b[32m'Balanced Accuracy'\u001b[0m: \u001b[1;35mnp.float64\u001b[0m\u001b[1m(\u001b[0m\u001b[1;36m0.6396\u001b[0m\u001b[1m)\u001b[0m,\n",
       "    \u001b[32m'Precision Red'\u001b[0m: \u001b[1;36m0.684\u001b[0m,\n",
       "    \u001b[32m'Recall Red'\u001b[0m: \u001b[1;36m0.7733\u001b[0m,\n",
       "    \u001b[32m'F1 Red'\u001b[0m: \u001b[1;36m0.7259\u001b[0m,\n",
       "    \u001b[32m'Precision Blue'\u001b[0m: \u001b[1;36m0.6174\u001b[0m,\n",
       "    \u001b[32m'Recall Blue'\u001b[0m: \u001b[1;36m0.506\u001b[0m,\n",
       "    \u001b[32m'F1 Blue'\u001b[0m: \u001b[1;36m0.5562\u001b[0m,\n",
       "    \u001b[32m'F1 Macro'\u001b[0m: \u001b[1;36m0.641\u001b[0m,\n",
       "    \u001b[32m'ROC AUC'\u001b[0m: \u001b[1;35mnp.float64\u001b[0m\u001b[1m(\u001b[0m\u001b[1;36m0.7023\u001b[0m\u001b[1m)\u001b[0m,\n",
       "    \u001b[32m'Brier Score'\u001b[0m: \u001b[1;35mnp.float64\u001b[0m\u001b[1m(\u001b[0m\u001b[1;36m0.214\u001b[0m\u001b[1m)\u001b[0m,\n",
       "    \u001b[32m'MCC'\u001b[0m: \u001b[1;35mnp.float64\u001b[0m\u001b[1m(\u001b[0m\u001b[1;36m0.2901\u001b[0m\u001b[1m)\u001b[0m,\n",
       "    \u001b[32m'Kappa'\u001b[0m: \u001b[1;35mnp.float64\u001b[0m\u001b[1m(\u001b[0m\u001b[1;36m0.2864\u001b[0m\u001b[1m)\u001b[0m\n",
       "\u001b[1m}\u001b[0m\n"
      ]
     },
     "metadata": {},
     "output_type": "display_data"
    }
   ],
   "source": [
    "metrics = evaluate_metrics(model, ufc_data)\n",
    "print(metrics)"
   ]
  },
  {
   "cell_type": "markdown",
   "id": "26032cd4-36a5-44df-a9a2-375df9fe7fe6",
   "metadata": {},
   "source": [
    "### 📝 Log Training Results"
   ]
  },
  {
   "cell_type": "code",
   "execution_count": 26,
   "id": "cc93c820-dcf9-45ac-a951-788562380f83",
   "metadata": {},
   "outputs": [
    {
     "name": "stderr",
     "output_type": "stream",
     "text": [
      "INFO:src.helpers:✅ Training logged to ../data/results/training_log_v2.csv\n"
     ]
    }
   ],
   "source": [
    "log_training_result(model_name, model.best_params_, metrics, duration)"
   ]
  },
  {
   "cell_type": "markdown",
   "id": "64a416fa-f784-40f9-99b3-a664796abee6",
   "metadata": {},
   "source": [
    "### 💾 Save Model "
   ]
  },
  {
   "cell_type": "code",
   "execution_count": 27,
   "id": "c9d4cc3d-65bd-404f-bb8a-798183ec4648",
   "metadata": {},
   "outputs": [
    {
     "name": "stderr",
     "output_type": "stream",
     "text": [
      "INFO:src.io_model:✅ Model 'Gradient Boosting' saved to: /home/mlioi/ufc-predictor/models/gb_best.pkl\n"
     ]
    }
   ],
   "source": [
    "save_model(model, name=file_model_name[model_name])"
   ]
  },
  {
   "cell_type": "markdown",
   "id": "1eb7a141-fc4e-4adb-81b1-d558cca39595",
   "metadata": {},
   "source": [
    "## Extra Trees Model"
   ]
  },
  {
   "cell_type": "markdown",
   "id": "0ed5125b-a022-4637-b32c-67ec4c0ac082",
   "metadata": {},
   "source": [
    "### 🚀 Extra Trees Training"
   ]
  },
  {
   "cell_type": "code",
   "execution_count": 28,
   "id": "d7006e4a-e8d6-4480-a5a1-6815843e9f8a",
   "metadata": {},
   "outputs": [
    {
     "name": "stderr",
     "output_type": "stream",
     "text": [
      "INFO:src.model_factory:[Extra Trees] UFC GridSearchCV Training (F1_macro)\n",
      "INFO:root:[Extra Trees] 🤖 Training...\n"
     ]
    },
    {
     "name": "stdout",
     "output_type": "stream",
     "text": [
      "Fitting 5 folds for each of 6 candidates, totalling 30 fits\n",
      "[CV 1/5] END ...max_depth=None, n_estimators=50;, score=0.587 total time=   0.3s\n",
      "[CV 2/5] END ...max_depth=None, n_estimators=50;, score=0.571 total time=   0.3s\n",
      "[CV 3/5] END ...max_depth=None, n_estimators=50;, score=0.644 total time=   0.3s\n",
      "[CV 4/5] END ...max_depth=None, n_estimators=50;, score=0.594 total time=   0.3s\n",
      "[CV 5/5] END ...max_depth=None, n_estimators=50;, score=0.588 total time=   0.3s\n",
      "[CV 1/5] END ..max_depth=None, n_estimators=100;, score=0.602 total time=   0.6s\n",
      "[CV 2/5] END ..max_depth=None, n_estimators=100;, score=0.586 total time=   0.6s\n",
      "[CV 3/5] END ..max_depth=None, n_estimators=100;, score=0.634 total time=   0.6s\n",
      "[CV 4/5] END ..max_depth=None, n_estimators=100;, score=0.616 total time=   0.6s\n",
      "[CV 5/5] END ..max_depth=None, n_estimators=100;, score=0.610 total time=   0.6s\n",
      "[CV 1/5] END .....max_depth=10, n_estimators=50;, score=0.570 total time=   0.1s\n",
      "[CV 2/5] END .....max_depth=10, n_estimators=50;, score=0.582 total time=   0.1s\n",
      "[CV 3/5] END .....max_depth=10, n_estimators=50;, score=0.591 total time=   0.1s\n",
      "[CV 4/5] END .....max_depth=10, n_estimators=50;, score=0.566 total time=   0.1s\n",
      "[CV 5/5] END .....max_depth=10, n_estimators=50;, score=0.582 total time=   0.1s\n",
      "[CV 1/5] END ....max_depth=10, n_estimators=100;, score=0.554 total time=   0.3s\n",
      "[CV 2/5] END ....max_depth=10, n_estimators=100;, score=0.553 total time=   0.3s\n",
      "[CV 3/5] END ....max_depth=10, n_estimators=100;, score=0.612 total time=   0.3s\n",
      "[CV 4/5] END ....max_depth=10, n_estimators=100;, score=0.569 total time=   0.3s\n",
      "[CV 5/5] END ....max_depth=10, n_estimators=100;, score=0.555 total time=   0.3s\n",
      "[CV 1/5] END .....max_depth=20, n_estimators=50;, score=0.589 total time=   0.2s\n",
      "[CV 2/5] END .....max_depth=20, n_estimators=50;, score=0.604 total time=   0.2s\n",
      "[CV 3/5] END .....max_depth=20, n_estimators=50;, score=0.621 total time=   0.2s\n",
      "[CV 4/5] END .....max_depth=20, n_estimators=50;, score=0.600 total time=   0.2s\n",
      "[CV 5/5] END .....max_depth=20, n_estimators=50;, score=0.586 total time=   0.2s\n",
      "[CV 1/5] END ....max_depth=20, n_estimators=100;, score=0.620 total time=   0.5s\n",
      "[CV 2/5] END ....max_depth=20, n_estimators=100;, score=0.596 total time=   0.5s\n",
      "[CV 3/5] END ....max_depth=20, n_estimators=100;, score=0.627 total time=   0.5s\n",
      "[CV 4/5] END ....max_depth=20, n_estimators=100;, score=0.600 total time=   0.5s\n",
      "[CV 5/5] END ....max_depth=20, n_estimators=100;, score=0.596 total time=   0.5s\n"
     ]
    },
    {
     "name": "stderr",
     "output_type": "stream",
     "text": [
      "INFO:root:[Extra Trees] 🔍 Best F1_macro: 0.6097\n",
      "[Extra Trees] 🔍 Best Params: {'max_depth': None, 'n_estimators': 100}\n"
     ]
    }
   ],
   "source": [
    "model_name = \"Extra Trees\"\n",
    "start = time.time()\n",
    "model = model_factory(model_name, ufc_data, model_params, scoring=\"f1_macro\")\n",
    "end = time.time()\n",
    "duration = end - start"
   ]
  },
  {
   "cell_type": "markdown",
   "id": "79069ec4-aa2f-4478-9548-d0cd986f9f8b",
   "metadata": {},
   "source": [
    "### 🔍 Extra Trees Metrics"
   ]
  },
  {
   "cell_type": "code",
   "execution_count": 29,
   "id": "251bfa29-3cd4-4fa6-b607-b77af743b82d",
   "metadata": {
    "scrolled": true
   },
   "outputs": [
    {
     "data": {
      "text/html": [
       "<pre style=\"white-space:pre;overflow-x:auto;line-height:normal;font-family:Menlo,'DejaVu Sans Mono',consolas,'Courier New',monospace\"><span style=\"font-weight: bold\">{</span>\n",
       "    <span style=\"color: #008000; text-decoration-color: #008000\">'Accuracy'</span>: <span style=\"color: #008080; text-decoration-color: #008080; font-weight: bold\">0.637</span>,\n",
       "    <span style=\"color: #008000; text-decoration-color: #008000\">'Balanced Accuracy'</span>: <span style=\"color: #800080; text-decoration-color: #800080; font-weight: bold\">np.float64</span><span style=\"font-weight: bold\">(</span><span style=\"color: #008080; text-decoration-color: #008080; font-weight: bold\">0.6087</span><span style=\"font-weight: bold\">)</span>,\n",
       "    <span style=\"color: #008000; text-decoration-color: #008000\">'Precision Red'</span>: <span style=\"color: #008080; text-decoration-color: #008080; font-weight: bold\">0.6567</span>,\n",
       "    <span style=\"color: #008000; text-decoration-color: #008000\">'Recall Red'</span>: <span style=\"color: #008080; text-decoration-color: #008080; font-weight: bold\">0.7848</span>,\n",
       "    <span style=\"color: #008000; text-decoration-color: #008000\">'F1 Red'</span>: <span style=\"color: #008080; text-decoration-color: #008080; font-weight: bold\">0.715</span>,\n",
       "    <span style=\"color: #008000; text-decoration-color: #008000\">'Precision Blue'</span>: <span style=\"color: #008080; text-decoration-color: #008080; font-weight: bold\">0.5924</span>,\n",
       "    <span style=\"color: #008000; text-decoration-color: #008000\">'Recall Blue'</span>: <span style=\"color: #008080; text-decoration-color: #008080; font-weight: bold\">0.4325</span>,\n",
       "    <span style=\"color: #008000; text-decoration-color: #008000\">'F1 Blue'</span>: <span style=\"color: #008080; text-decoration-color: #008080; font-weight: bold\">0.5</span>,\n",
       "    <span style=\"color: #008000; text-decoration-color: #008000\">'F1 Macro'</span>: <span style=\"color: #008080; text-decoration-color: #008080; font-weight: bold\">0.6075</span>,\n",
       "    <span style=\"color: #008000; text-decoration-color: #008000\">'ROC AUC'</span>: <span style=\"color: #800080; text-decoration-color: #800080; font-weight: bold\">np.float64</span><span style=\"font-weight: bold\">(</span><span style=\"color: #008080; text-decoration-color: #008080; font-weight: bold\">0.6575</span><span style=\"font-weight: bold\">)</span>,\n",
       "    <span style=\"color: #008000; text-decoration-color: #008000\">'Brier Score'</span>: <span style=\"color: #800080; text-decoration-color: #800080; font-weight: bold\">np.float64</span><span style=\"font-weight: bold\">(</span><span style=\"color: #008080; text-decoration-color: #008080; font-weight: bold\">0.2259</span><span style=\"font-weight: bold\">)</span>,\n",
       "    <span style=\"color: #008000; text-decoration-color: #008000\">'MCC'</span>: <span style=\"color: #800080; text-decoration-color: #800080; font-weight: bold\">np.float64</span><span style=\"font-weight: bold\">(</span><span style=\"color: #008080; text-decoration-color: #008080; font-weight: bold\">0.2327</span><span style=\"font-weight: bold\">)</span>,\n",
       "    <span style=\"color: #008000; text-decoration-color: #008000\">'Kappa'</span>: <span style=\"color: #800080; text-decoration-color: #800080; font-weight: bold\">np.float64</span><span style=\"font-weight: bold\">(</span><span style=\"color: #008080; text-decoration-color: #008080; font-weight: bold\">0.2258</span><span style=\"font-weight: bold\">)</span>\n",
       "<span style=\"font-weight: bold\">}</span>\n",
       "</pre>\n"
      ],
      "text/plain": [
       "\u001b[1m{\u001b[0m\n",
       "    \u001b[32m'Accuracy'\u001b[0m: \u001b[1;36m0.637\u001b[0m,\n",
       "    \u001b[32m'Balanced Accuracy'\u001b[0m: \u001b[1;35mnp.float64\u001b[0m\u001b[1m(\u001b[0m\u001b[1;36m0.6087\u001b[0m\u001b[1m)\u001b[0m,\n",
       "    \u001b[32m'Precision Red'\u001b[0m: \u001b[1;36m0.6567\u001b[0m,\n",
       "    \u001b[32m'Recall Red'\u001b[0m: \u001b[1;36m0.7848\u001b[0m,\n",
       "    \u001b[32m'F1 Red'\u001b[0m: \u001b[1;36m0.715\u001b[0m,\n",
       "    \u001b[32m'Precision Blue'\u001b[0m: \u001b[1;36m0.5924\u001b[0m,\n",
       "    \u001b[32m'Recall Blue'\u001b[0m: \u001b[1;36m0.4325\u001b[0m,\n",
       "    \u001b[32m'F1 Blue'\u001b[0m: \u001b[1;36m0.5\u001b[0m,\n",
       "    \u001b[32m'F1 Macro'\u001b[0m: \u001b[1;36m0.6075\u001b[0m,\n",
       "    \u001b[32m'ROC AUC'\u001b[0m: \u001b[1;35mnp.float64\u001b[0m\u001b[1m(\u001b[0m\u001b[1;36m0.6575\u001b[0m\u001b[1m)\u001b[0m,\n",
       "    \u001b[32m'Brier Score'\u001b[0m: \u001b[1;35mnp.float64\u001b[0m\u001b[1m(\u001b[0m\u001b[1;36m0.2259\u001b[0m\u001b[1m)\u001b[0m,\n",
       "    \u001b[32m'MCC'\u001b[0m: \u001b[1;35mnp.float64\u001b[0m\u001b[1m(\u001b[0m\u001b[1;36m0.2327\u001b[0m\u001b[1m)\u001b[0m,\n",
       "    \u001b[32m'Kappa'\u001b[0m: \u001b[1;35mnp.float64\u001b[0m\u001b[1m(\u001b[0m\u001b[1;36m0.2258\u001b[0m\u001b[1m)\u001b[0m\n",
       "\u001b[1m}\u001b[0m\n"
      ]
     },
     "metadata": {},
     "output_type": "display_data"
    }
   ],
   "source": [
    "metrics = evaluate_metrics(model, ufc_data)\n",
    "print(metrics)"
   ]
  },
  {
   "cell_type": "markdown",
   "id": "2d5c5af6-fa40-4045-860e-857a42ee4b36",
   "metadata": {},
   "source": [
    "### 📝 Log Training Results"
   ]
  },
  {
   "cell_type": "code",
   "execution_count": 30,
   "id": "b6f8529c-0f47-4b61-ba0b-2e2e24217cc3",
   "metadata": {},
   "outputs": [
    {
     "name": "stderr",
     "output_type": "stream",
     "text": [
      "/home/mlioi/ufc-predictor/src/helpers.py:120: FutureWarning: The behavior of DataFrame concatenation with empty or all-NA entries is deprecated. In a future version, this will no longer exclude empty or all-NA columns when determining the result dtypes. To retain the old behavior, exclude the relevant entries before the concat operation.\n",
      "  df = pd.concat([df, pd.DataFrame([log_entry])], ignore_index=True)\n",
      "INFO:src.helpers:✅ Training logged to ../data/results/training_log_v2.csv\n"
     ]
    }
   ],
   "source": [
    "log_training_result(model_name, model.best_params_, metrics, duration)"
   ]
  },
  {
   "cell_type": "markdown",
   "id": "e069cd30-61fc-491c-8597-bc1364a0374a",
   "metadata": {},
   "source": [
    "### 💾 Save Model "
   ]
  },
  {
   "cell_type": "code",
   "execution_count": 31,
   "id": "48f1da0a-d00c-4552-bf63-c580be0b887b",
   "metadata": {},
   "outputs": [
    {
     "name": "stderr",
     "output_type": "stream",
     "text": [
      "INFO:src.io_model:✅ Model 'Extra Trees' saved to: /home/mlioi/ufc-predictor/models/et_best.pkl\n"
     ]
    }
   ],
   "source": [
    "save_model(model, name=file_model_name[model_name])"
   ]
  },
  {
   "cell_type": "markdown",
   "id": "000580fc-a31d-4618-84eb-b39b61a67298",
   "metadata": {},
   "source": [
    "## Quadratic Discriminant Analysis Model"
   ]
  },
  {
   "cell_type": "markdown",
   "id": "32160a21-6a4e-4f86-8dd5-52648ce7bde9",
   "metadata": {},
   "source": [
    "### 🚀 Quadratic Discriminant Analysis Training"
   ]
  },
  {
   "cell_type": "code",
   "execution_count": 32,
   "id": "48111ce5-7f61-4594-b23f-c0952ba18c36",
   "metadata": {},
   "outputs": [
    {
     "name": "stderr",
     "output_type": "stream",
     "text": [
      "INFO:src.model_factory:[Quadratic Discriminant Analysis] UFC GridSearchCV Training (F1_macro)\n",
      "INFO:root:[Quadratic Discriminant Analysis] 🤖 Training...\n"
     ]
    },
    {
     "name": "stdout",
     "output_type": "stream",
     "text": [
      "Fitting 5 folds for each of 4 candidates, totalling 20 fits\n",
      "[CV 1/5] END .....................reg_param=0.1;, score=0.621 total time=   0.0s\n",
      "[CV 2/5] END .....................reg_param=0.1;, score=0.612 total time=   0.0s\n",
      "[CV 3/5] END .....................reg_param=0.1;, score=0.638 total time=   0.0s\n",
      "[CV 4/5] END .....................reg_param=0.1;, score=0.613 total time=   0.0s\n",
      "[CV 5/5] END .....................reg_param=0.1;, score=0.612 total time=   0.0s\n",
      "[CV 1/5] END .....................reg_param=0.3;, score=0.621 total time=   0.0s\n",
      "[CV 2/5] END .....................reg_param=0.3;, score=0.628 total time=   0.0s\n",
      "[CV 3/5] END .....................reg_param=0.3;, score=0.619 total time=   0.0s\n",
      "[CV 4/5] END .....................reg_param=0.3;, score=0.610 total time=   0.0s\n",
      "[CV 5/5] END .....................reg_param=0.3;, score=0.631 total time=   0.0s\n",
      "[CV 1/5] END .....................reg_param=0.5;, score=0.629 total time=   0.0s\n",
      "[CV 2/5] END .....................reg_param=0.5;, score=0.621 total time=   0.0s\n",
      "[CV 3/5] END .....................reg_param=0.5;, score=0.628 total time=   0.0s\n",
      "[CV 4/5] END .....................reg_param=0.5;, score=0.622 total time=   0.0s\n",
      "[CV 5/5] END .....................reg_param=0.5;, score=0.643 total time=   0.0s\n",
      "[CV 1/5] END .....................reg_param=0.9;, score=0.631 total time=   0.0s\n",
      "[CV 2/5] END .....................reg_param=0.9;, score=0.615 total time=   0.0s\n",
      "[CV 3/5] END .....................reg_param=0.9;, score=0.629 total time=   0.0s\n",
      "[CV 4/5] END .....................reg_param=0.9;, score=0.636 total time=   0.0s\n",
      "[CV 5/5] END .....................reg_param=0.9;, score=0.639 total time=   0.0s\n"
     ]
    },
    {
     "name": "stderr",
     "output_type": "stream",
     "text": [
      "INFO:root:[Quadratic Discriminant Analysis] 🔍 Best F1_macro: 0.6300\n",
      "[Quadratic Discriminant Analysis] 🔍 Best Params: {'reg_param': 0.9}\n"
     ]
    }
   ],
   "source": [
    "model_name = \"Quadratic Discriminant Analysis\"\n",
    "start = time.time()\n",
    "model = model_factory(model_name, ufc_data, model_params, scoring=\"f1_macro\")\n",
    "end = time.time()\n",
    "duration = end - start"
   ]
  },
  {
   "cell_type": "markdown",
   "id": "63191dd2-b62e-4009-92f7-5a0061af7023",
   "metadata": {},
   "source": [
    "### 🔍 Quadratic Discriminant Analysis Metrics"
   ]
  },
  {
   "cell_type": "code",
   "execution_count": 33,
   "id": "03aaf3a3-e0a9-439a-ad4a-f954eaec7702",
   "metadata": {},
   "outputs": [
    {
     "data": {
      "text/html": [
       "<pre style=\"white-space:pre;overflow-x:auto;line-height:normal;font-family:Menlo,'DejaVu Sans Mono',consolas,'Courier New',monospace\"><span style=\"font-weight: bold\">{</span>\n",
       "    <span style=\"color: #008000; text-decoration-color: #008000\">'Accuracy'</span>: <span style=\"color: #008080; text-decoration-color: #008080; font-weight: bold\">0.657</span>,\n",
       "    <span style=\"color: #008000; text-decoration-color: #008000\">'Balanced Accuracy'</span>: <span style=\"color: #800080; text-decoration-color: #800080; font-weight: bold\">np.float64</span><span style=\"font-weight: bold\">(</span><span style=\"color: #008080; text-decoration-color: #008080; font-weight: bold\">0.641</span><span style=\"font-weight: bold\">)</span>,\n",
       "    <span style=\"color: #008000; text-decoration-color: #008000\">'Precision Red'</span>: <span style=\"color: #008080; text-decoration-color: #008080; font-weight: bold\">0.6908</span>,\n",
       "    <span style=\"color: #008000; text-decoration-color: #008000\">'Recall Red'</span>: <span style=\"color: #008080; text-decoration-color: #008080; font-weight: bold\">0.7403</span>,\n",
       "    <span style=\"color: #008000; text-decoration-color: #008000\">'F1 Red'</span>: <span style=\"color: #008080; text-decoration-color: #008080; font-weight: bold\">0.7147</span>,\n",
       "    <span style=\"color: #008000; text-decoration-color: #008000\">'Precision Blue'</span>: <span style=\"color: #008080; text-decoration-color: #008080; font-weight: bold\">0.6013</span>,\n",
       "    <span style=\"color: #008000; text-decoration-color: #008000\">'Recall Blue'</span>: <span style=\"color: #008080; text-decoration-color: #008080; font-weight: bold\">0.5417</span>,\n",
       "    <span style=\"color: #008000; text-decoration-color: #008000\">'F1 Blue'</span>: <span style=\"color: #008080; text-decoration-color: #008080; font-weight: bold\">0.5699</span>,\n",
       "    <span style=\"color: #008000; text-decoration-color: #008000\">'F1 Macro'</span>: <span style=\"color: #008080; text-decoration-color: #008080; font-weight: bold\">0.6423</span>,\n",
       "    <span style=\"color: #008000; text-decoration-color: #008000\">'ROC AUC'</span>: <span style=\"color: #800080; text-decoration-color: #800080; font-weight: bold\">np.float64</span><span style=\"font-weight: bold\">(</span><span style=\"color: #008080; text-decoration-color: #008080; font-weight: bold\">0.6959</span><span style=\"font-weight: bold\">)</span>,\n",
       "    <span style=\"color: #008000; text-decoration-color: #008000\">'Brier Score'</span>: <span style=\"color: #800080; text-decoration-color: #800080; font-weight: bold\">np.float64</span><span style=\"font-weight: bold\">(</span><span style=\"color: #008080; text-decoration-color: #008080; font-weight: bold\">0.2208</span><span style=\"font-weight: bold\">)</span>,\n",
       "    <span style=\"color: #008000; text-decoration-color: #008000\">'MCC'</span>: <span style=\"color: #800080; text-decoration-color: #800080; font-weight: bold\">np.float64</span><span style=\"font-weight: bold\">(</span><span style=\"color: #008080; text-decoration-color: #008080; font-weight: bold\">0.287</span><span style=\"font-weight: bold\">)</span>,\n",
       "    <span style=\"color: #008000; text-decoration-color: #008000\">'Kappa'</span>: <span style=\"color: #800080; text-decoration-color: #800080; font-weight: bold\">np.float64</span><span style=\"font-weight: bold\">(</span><span style=\"color: #008080; text-decoration-color: #008080; font-weight: bold\">0.2859</span><span style=\"font-weight: bold\">)</span>\n",
       "<span style=\"font-weight: bold\">}</span>\n",
       "</pre>\n"
      ],
      "text/plain": [
       "\u001b[1m{\u001b[0m\n",
       "    \u001b[32m'Accuracy'\u001b[0m: \u001b[1;36m0.657\u001b[0m,\n",
       "    \u001b[32m'Balanced Accuracy'\u001b[0m: \u001b[1;35mnp.float64\u001b[0m\u001b[1m(\u001b[0m\u001b[1;36m0.641\u001b[0m\u001b[1m)\u001b[0m,\n",
       "    \u001b[32m'Precision Red'\u001b[0m: \u001b[1;36m0.6908\u001b[0m,\n",
       "    \u001b[32m'Recall Red'\u001b[0m: \u001b[1;36m0.7403\u001b[0m,\n",
       "    \u001b[32m'F1 Red'\u001b[0m: \u001b[1;36m0.7147\u001b[0m,\n",
       "    \u001b[32m'Precision Blue'\u001b[0m: \u001b[1;36m0.6013\u001b[0m,\n",
       "    \u001b[32m'Recall Blue'\u001b[0m: \u001b[1;36m0.5417\u001b[0m,\n",
       "    \u001b[32m'F1 Blue'\u001b[0m: \u001b[1;36m0.5699\u001b[0m,\n",
       "    \u001b[32m'F1 Macro'\u001b[0m: \u001b[1;36m0.6423\u001b[0m,\n",
       "    \u001b[32m'ROC AUC'\u001b[0m: \u001b[1;35mnp.float64\u001b[0m\u001b[1m(\u001b[0m\u001b[1;36m0.6959\u001b[0m\u001b[1m)\u001b[0m,\n",
       "    \u001b[32m'Brier Score'\u001b[0m: \u001b[1;35mnp.float64\u001b[0m\u001b[1m(\u001b[0m\u001b[1;36m0.2208\u001b[0m\u001b[1m)\u001b[0m,\n",
       "    \u001b[32m'MCC'\u001b[0m: \u001b[1;35mnp.float64\u001b[0m\u001b[1m(\u001b[0m\u001b[1;36m0.287\u001b[0m\u001b[1m)\u001b[0m,\n",
       "    \u001b[32m'Kappa'\u001b[0m: \u001b[1;35mnp.float64\u001b[0m\u001b[1m(\u001b[0m\u001b[1;36m0.2859\u001b[0m\u001b[1m)\u001b[0m\n",
       "\u001b[1m}\u001b[0m\n"
      ]
     },
     "metadata": {},
     "output_type": "display_data"
    }
   ],
   "source": [
    "metrics = evaluate_metrics(model, ufc_data)\n",
    "print(metrics)"
   ]
  },
  {
   "cell_type": "markdown",
   "id": "7558b6ba-c6e4-432b-a0a9-ae8bd2400ef9",
   "metadata": {},
   "source": [
    "### 📝 Log Training Results"
   ]
  },
  {
   "cell_type": "code",
   "execution_count": 34,
   "id": "7085f3f2-0c75-40b6-a811-860ae074297e",
   "metadata": {},
   "outputs": [
    {
     "name": "stderr",
     "output_type": "stream",
     "text": [
      "INFO:src.helpers:✅ Training logged to ../data/results/training_log_v2.csv\n"
     ]
    }
   ],
   "source": [
    "log_training_result(model_name, model.best_params_, metrics, duration)"
   ]
  },
  {
   "cell_type": "markdown",
   "id": "c3c994ae-f489-43d2-a7a4-f74d590971fe",
   "metadata": {},
   "source": [
    "### 💾 Save Model "
   ]
  },
  {
   "cell_type": "code",
   "execution_count": 35,
   "id": "6e9a168d-5b4d-499d-b79f-abb9c31381db",
   "metadata": {},
   "outputs": [
    {
     "name": "stderr",
     "output_type": "stream",
     "text": [
      "INFO:src.io_model:✅ Model 'Quadratic Discriminant Analysis' saved to: /home/mlioi/ufc-predictor/models/qda_best.pkl\n"
     ]
    }
   ],
   "source": [
    "save_model(model, name=file_model_name[model_name])"
   ]
  },
  {
   "cell_type": "markdown",
   "id": "37e09ec6-83e5-49b0-b311-6173db7e0a6f",
   "metadata": {},
   "source": [
    "## Neural Network"
   ]
  },
  {
   "cell_type": "markdown",
   "id": "1a1dc2f7-0d5e-4e2b-9a5e-c5d3ffc6b3e3",
   "metadata": {},
   "source": [
    "### 🚀 Neural Network Training "
   ]
  },
  {
   "cell_type": "code",
   "execution_count": 36,
   "id": "a15b431d-6ba7-4b3e-a2b9-68426f8ea16c",
   "metadata": {
    "scrolled": true
   },
   "outputs": [
    {
     "name": "stderr",
     "output_type": "stream",
     "text": [
      "INFO:src.model_factory:[Neural Network] UFC GridSearchCV Training (F1_macro)\n",
      "INFO:root:[Neural Network] 🤖 Training...\n"
     ]
    },
    {
     "name": "stdout",
     "output_type": "stream",
     "text": [
      "Fitting 5 folds for each of 64 candidates, totalling 320 fits\n",
      "[CV 1/5] END activation=relu, alpha=0.001, batch_size=32, early_stopping=True, hidden_layer_sizes=(200,), learning_rate=adaptive, learning_rate_init=0.01, momentum=0.2, solver=adam, validation_fraction=0.2;, score=0.633 total time=   1.0s\n",
      "[CV 2/5] END activation=relu, alpha=0.001, batch_size=32, early_stopping=True, hidden_layer_sizes=(200,), learning_rate=adaptive, learning_rate_init=0.01, momentum=0.2, solver=adam, validation_fraction=0.2;, score=0.630 total time=   0.6s\n",
      "[CV 3/5] END activation=relu, alpha=0.001, batch_size=32, early_stopping=True, hidden_layer_sizes=(200,), learning_rate=adaptive, learning_rate_init=0.01, momentum=0.2, solver=adam, validation_fraction=0.2;, score=0.635 total time=   0.8s\n",
      "[CV 4/5] END activation=relu, alpha=0.001, batch_size=32, early_stopping=True, hidden_layer_sizes=(200,), learning_rate=adaptive, learning_rate_init=0.01, momentum=0.2, solver=adam, validation_fraction=0.2;, score=0.638 total time=   0.7s\n",
      "[CV 5/5] END activation=relu, alpha=0.001, batch_size=32, early_stopping=True, hidden_layer_sizes=(200,), learning_rate=adaptive, learning_rate_init=0.01, momentum=0.2, solver=adam, validation_fraction=0.2;, score=0.623 total time=   0.9s\n",
      "[CV 1/5] END activation=relu, alpha=0.001, batch_size=32, early_stopping=True, hidden_layer_sizes=(200,), learning_rate=adaptive, learning_rate_init=0.01, momentum=0.2, solver=sgd, validation_fraction=0.2;, score=0.617 total time=   3.6s\n",
      "[CV 2/5] END activation=relu, alpha=0.001, batch_size=32, early_stopping=True, hidden_layer_sizes=(200,), learning_rate=adaptive, learning_rate_init=0.01, momentum=0.2, solver=sgd, validation_fraction=0.2;, score=0.620 total time=   3.6s\n",
      "[CV 3/5] END activation=relu, alpha=0.001, batch_size=32, early_stopping=True, hidden_layer_sizes=(200,), learning_rate=adaptive, learning_rate_init=0.01, momentum=0.2, solver=sgd, validation_fraction=0.2;, score=0.667 total time=   4.0s\n",
      "[CV 4/5] END activation=relu, alpha=0.001, batch_size=32, early_stopping=True, hidden_layer_sizes=(200,), learning_rate=adaptive, learning_rate_init=0.01, momentum=0.2, solver=sgd, validation_fraction=0.2;, score=0.644 total time=   4.2s\n",
      "[CV 5/5] END activation=relu, alpha=0.001, batch_size=32, early_stopping=True, hidden_layer_sizes=(200,), learning_rate=adaptive, learning_rate_init=0.01, momentum=0.2, solver=sgd, validation_fraction=0.2;, score=0.643 total time=   4.1s\n",
      "[CV 1/5] END activation=relu, alpha=0.001, batch_size=32, early_stopping=True, hidden_layer_sizes=(200,), learning_rate=adaptive, learning_rate_init=0.01, momentum=0.8, solver=adam, validation_fraction=0.2;, score=0.633 total time=   1.0s\n",
      "[CV 2/5] END activation=relu, alpha=0.001, batch_size=32, early_stopping=True, hidden_layer_sizes=(200,), learning_rate=adaptive, learning_rate_init=0.01, momentum=0.8, solver=adam, validation_fraction=0.2;, score=0.630 total time=   0.6s\n",
      "[CV 3/5] END activation=relu, alpha=0.001, batch_size=32, early_stopping=True, hidden_layer_sizes=(200,), learning_rate=adaptive, learning_rate_init=0.01, momentum=0.8, solver=adam, validation_fraction=0.2;, score=0.635 total time=   0.8s\n",
      "[CV 4/5] END activation=relu, alpha=0.001, batch_size=32, early_stopping=True, hidden_layer_sizes=(200,), learning_rate=adaptive, learning_rate_init=0.01, momentum=0.8, solver=adam, validation_fraction=0.2;, score=0.638 total time=   0.6s\n",
      "[CV 5/5] END activation=relu, alpha=0.001, batch_size=32, early_stopping=True, hidden_layer_sizes=(200,), learning_rate=adaptive, learning_rate_init=0.01, momentum=0.8, solver=adam, validation_fraction=0.2;, score=0.623 total time=   0.9s\n",
      "[CV 1/5] END activation=relu, alpha=0.001, batch_size=32, early_stopping=True, hidden_layer_sizes=(200,), learning_rate=adaptive, learning_rate_init=0.01, momentum=0.8, solver=sgd, validation_fraction=0.2;, score=0.613 total time=   3.3s\n",
      "[CV 2/5] END activation=relu, alpha=0.001, batch_size=32, early_stopping=True, hidden_layer_sizes=(200,), learning_rate=adaptive, learning_rate_init=0.01, momentum=0.8, solver=sgd, validation_fraction=0.2;, score=0.620 total time=   3.4s\n",
      "[CV 3/5] END activation=relu, alpha=0.001, batch_size=32, early_stopping=True, hidden_layer_sizes=(200,), learning_rate=adaptive, learning_rate_init=0.01, momentum=0.8, solver=sgd, validation_fraction=0.2;, score=0.666 total time=   3.4s\n",
      "[CV 4/5] END activation=relu, alpha=0.001, batch_size=32, early_stopping=True, hidden_layer_sizes=(200,), learning_rate=adaptive, learning_rate_init=0.01, momentum=0.8, solver=sgd, validation_fraction=0.2;, score=0.630 total time=   3.4s\n",
      "[CV 5/5] END activation=relu, alpha=0.001, batch_size=32, early_stopping=True, hidden_layer_sizes=(200,), learning_rate=adaptive, learning_rate_init=0.01, momentum=0.8, solver=sgd, validation_fraction=0.2;, score=0.641 total time=   3.6s\n",
      "[CV 1/5] END activation=relu, alpha=0.001, batch_size=32, early_stopping=True, hidden_layer_sizes=(50, 50), learning_rate=adaptive, learning_rate_init=0.01, momentum=0.2, solver=adam, validation_fraction=0.2;, score=0.607 total time=   0.6s\n",
      "[CV 2/5] END activation=relu, alpha=0.001, batch_size=32, early_stopping=True, hidden_layer_sizes=(50, 50), learning_rate=adaptive, learning_rate_init=0.01, momentum=0.2, solver=adam, validation_fraction=0.2;, score=0.599 total time=   0.6s\n",
      "[CV 3/5] END activation=relu, alpha=0.001, batch_size=32, early_stopping=True, hidden_layer_sizes=(50, 50), learning_rate=adaptive, learning_rate_init=0.01, momentum=0.2, solver=adam, validation_fraction=0.2;, score=0.655 total time=   0.7s\n",
      "[CV 4/5] END activation=relu, alpha=0.001, batch_size=32, early_stopping=True, hidden_layer_sizes=(50, 50), learning_rate=adaptive, learning_rate_init=0.01, momentum=0.2, solver=adam, validation_fraction=0.2;, score=0.634 total time=   0.7s\n",
      "[CV 5/5] END activation=relu, alpha=0.001, batch_size=32, early_stopping=True, hidden_layer_sizes=(50, 50), learning_rate=adaptive, learning_rate_init=0.01, momentum=0.2, solver=adam, validation_fraction=0.2;, score=0.629 total time=   0.6s\n",
      "[CV 1/5] END activation=relu, alpha=0.001, batch_size=32, early_stopping=True, hidden_layer_sizes=(50, 50), learning_rate=adaptive, learning_rate_init=0.01, momentum=0.2, solver=sgd, validation_fraction=0.2;, score=0.613 total time=   3.5s\n",
      "[CV 2/5] END activation=relu, alpha=0.001, batch_size=32, early_stopping=True, hidden_layer_sizes=(50, 50), learning_rate=adaptive, learning_rate_init=0.01, momentum=0.2, solver=sgd, validation_fraction=0.2;, score=0.626 total time=   4.1s\n",
      "[CV 3/5] END activation=relu, alpha=0.001, batch_size=32, early_stopping=True, hidden_layer_sizes=(50, 50), learning_rate=adaptive, learning_rate_init=0.01, momentum=0.2, solver=sgd, validation_fraction=0.2;, score=0.670 total time=   4.1s\n",
      "[CV 4/5] END activation=relu, alpha=0.001, batch_size=32, early_stopping=True, hidden_layer_sizes=(50, 50), learning_rate=adaptive, learning_rate_init=0.01, momentum=0.2, solver=sgd, validation_fraction=0.2;, score=0.629 total time=   3.9s\n",
      "[CV 5/5] END activation=relu, alpha=0.001, batch_size=32, early_stopping=True, hidden_layer_sizes=(50, 50), learning_rate=adaptive, learning_rate_init=0.01, momentum=0.2, solver=sgd, validation_fraction=0.2;, score=0.626 total time=   3.5s\n",
      "[CV 1/5] END activation=relu, alpha=0.001, batch_size=32, early_stopping=True, hidden_layer_sizes=(50, 50), learning_rate=adaptive, learning_rate_init=0.01, momentum=0.8, solver=adam, validation_fraction=0.2;, score=0.607 total time=   0.6s\n",
      "[CV 2/5] END activation=relu, alpha=0.001, batch_size=32, early_stopping=True, hidden_layer_sizes=(50, 50), learning_rate=adaptive, learning_rate_init=0.01, momentum=0.8, solver=adam, validation_fraction=0.2;, score=0.599 total time=   0.6s\n",
      "[CV 3/5] END activation=relu, alpha=0.001, batch_size=32, early_stopping=True, hidden_layer_sizes=(50, 50), learning_rate=adaptive, learning_rate_init=0.01, momentum=0.8, solver=adam, validation_fraction=0.2;, score=0.655 total time=   0.6s\n",
      "[CV 4/5] END activation=relu, alpha=0.001, batch_size=32, early_stopping=True, hidden_layer_sizes=(50, 50), learning_rate=adaptive, learning_rate_init=0.01, momentum=0.8, solver=adam, validation_fraction=0.2;, score=0.634 total time=   0.8s\n",
      "[CV 5/5] END activation=relu, alpha=0.001, batch_size=32, early_stopping=True, hidden_layer_sizes=(50, 50), learning_rate=adaptive, learning_rate_init=0.01, momentum=0.8, solver=adam, validation_fraction=0.2;, score=0.629 total time=   0.6s\n",
      "[CV 1/5] END activation=relu, alpha=0.001, batch_size=32, early_stopping=True, hidden_layer_sizes=(50, 50), learning_rate=adaptive, learning_rate_init=0.01, momentum=0.8, solver=sgd, validation_fraction=0.2;, score=0.624 total time=   3.2s\n",
      "[CV 2/5] END activation=relu, alpha=0.001, batch_size=32, early_stopping=True, hidden_layer_sizes=(50, 50), learning_rate=adaptive, learning_rate_init=0.01, momentum=0.8, solver=sgd, validation_fraction=0.2;, score=0.625 total time=   3.4s\n",
      "[CV 3/5] END activation=relu, alpha=0.001, batch_size=32, early_stopping=True, hidden_layer_sizes=(50, 50), learning_rate=adaptive, learning_rate_init=0.01, momentum=0.8, solver=sgd, validation_fraction=0.2;, score=0.668 total time=   3.6s\n",
      "[CV 4/5] END activation=relu, alpha=0.001, batch_size=32, early_stopping=True, hidden_layer_sizes=(50, 50), learning_rate=adaptive, learning_rate_init=0.01, momentum=0.8, solver=sgd, validation_fraction=0.2;, score=0.627 total time=   3.8s\n",
      "[CV 5/5] END activation=relu, alpha=0.001, batch_size=32, early_stopping=True, hidden_layer_sizes=(50, 50), learning_rate=adaptive, learning_rate_init=0.01, momentum=0.8, solver=sgd, validation_fraction=0.2;, score=0.621 total time=   3.7s\n",
      "[CV 1/5] END activation=relu, alpha=0.001, batch_size=64, early_stopping=True, hidden_layer_sizes=(200,), learning_rate=adaptive, learning_rate_init=0.01, momentum=0.2, solver=adam, validation_fraction=0.2;, score=0.634 total time=   0.5s\n",
      "[CV 2/5] END activation=relu, alpha=0.001, batch_size=64, early_stopping=True, hidden_layer_sizes=(200,), learning_rate=adaptive, learning_rate_init=0.01, momentum=0.2, solver=adam, validation_fraction=0.2;, score=0.600 total time=   0.6s\n",
      "[CV 3/5] END activation=relu, alpha=0.001, batch_size=64, early_stopping=True, hidden_layer_sizes=(200,), learning_rate=adaptive, learning_rate_init=0.01, momentum=0.2, solver=adam, validation_fraction=0.2;, score=0.664 total time=   0.5s\n",
      "[CV 4/5] END activation=relu, alpha=0.001, batch_size=64, early_stopping=True, hidden_layer_sizes=(200,), learning_rate=adaptive, learning_rate_init=0.01, momentum=0.2, solver=adam, validation_fraction=0.2;, score=0.642 total time=   0.4s\n",
      "[CV 5/5] END activation=relu, alpha=0.001, batch_size=64, early_stopping=True, hidden_layer_sizes=(200,), learning_rate=adaptive, learning_rate_init=0.01, momentum=0.2, solver=adam, validation_fraction=0.2;, score=0.638 total time=   0.4s\n",
      "[CV 1/5] END activation=relu, alpha=0.001, batch_size=64, early_stopping=True, hidden_layer_sizes=(200,), learning_rate=adaptive, learning_rate_init=0.01, momentum=0.2, solver=sgd, validation_fraction=0.2;, score=0.618 total time=   2.6s\n",
      "[CV 2/5] END activation=relu, alpha=0.001, batch_size=64, early_stopping=True, hidden_layer_sizes=(200,), learning_rate=adaptive, learning_rate_init=0.01, momentum=0.2, solver=sgd, validation_fraction=0.2;, score=0.620 total time=   2.8s\n",
      "[CV 3/5] END activation=relu, alpha=0.001, batch_size=64, early_stopping=True, hidden_layer_sizes=(200,), learning_rate=adaptive, learning_rate_init=0.01, momentum=0.2, solver=sgd, validation_fraction=0.2;, score=0.665 total time=   3.3s\n",
      "[CV 4/5] END activation=relu, alpha=0.001, batch_size=64, early_stopping=True, hidden_layer_sizes=(200,), learning_rate=adaptive, learning_rate_init=0.01, momentum=0.2, solver=sgd, validation_fraction=0.2;, score=0.639 total time=   2.7s\n",
      "[CV 5/5] END activation=relu, alpha=0.001, batch_size=64, early_stopping=True, hidden_layer_sizes=(200,), learning_rate=adaptive, learning_rate_init=0.01, momentum=0.2, solver=sgd, validation_fraction=0.2;, score=0.640 total time=   3.3s\n",
      "[CV 1/5] END activation=relu, alpha=0.001, batch_size=64, early_stopping=True, hidden_layer_sizes=(200,), learning_rate=adaptive, learning_rate_init=0.01, momentum=0.8, solver=adam, validation_fraction=0.2;, score=0.634 total time=   0.4s\n",
      "[CV 2/5] END activation=relu, alpha=0.001, batch_size=64, early_stopping=True, hidden_layer_sizes=(200,), learning_rate=adaptive, learning_rate_init=0.01, momentum=0.8, solver=adam, validation_fraction=0.2;, score=0.600 total time=   0.6s\n",
      "[CV 3/5] END activation=relu, alpha=0.001, batch_size=64, early_stopping=True, hidden_layer_sizes=(200,), learning_rate=adaptive, learning_rate_init=0.01, momentum=0.8, solver=adam, validation_fraction=0.2;, score=0.664 total time=   0.4s\n",
      "[CV 4/5] END activation=relu, alpha=0.001, batch_size=64, early_stopping=True, hidden_layer_sizes=(200,), learning_rate=adaptive, learning_rate_init=0.01, momentum=0.8, solver=adam, validation_fraction=0.2;, score=0.642 total time=   0.4s\n",
      "[CV 5/5] END activation=relu, alpha=0.001, batch_size=64, early_stopping=True, hidden_layer_sizes=(200,), learning_rate=adaptive, learning_rate_init=0.01, momentum=0.8, solver=adam, validation_fraction=0.2;, score=0.638 total time=   0.4s\n",
      "[CV 1/5] END activation=relu, alpha=0.001, batch_size=64, early_stopping=True, hidden_layer_sizes=(200,), learning_rate=adaptive, learning_rate_init=0.01, momentum=0.8, solver=sgd, validation_fraction=0.2;, score=0.616 total time=   2.2s\n",
      "[CV 2/5] END activation=relu, alpha=0.001, batch_size=64, early_stopping=True, hidden_layer_sizes=(200,), learning_rate=adaptive, learning_rate_init=0.01, momentum=0.8, solver=sgd, validation_fraction=0.2;, score=0.624 total time=   2.3s\n",
      "[CV 3/5] END activation=relu, alpha=0.001, batch_size=64, early_stopping=True, hidden_layer_sizes=(200,), learning_rate=adaptive, learning_rate_init=0.01, momentum=0.8, solver=sgd, validation_fraction=0.2;, score=0.667 total time=   2.3s\n",
      "[CV 4/5] END activation=relu, alpha=0.001, batch_size=64, early_stopping=True, hidden_layer_sizes=(200,), learning_rate=adaptive, learning_rate_init=0.01, momentum=0.8, solver=sgd, validation_fraction=0.2;, score=0.632 total time=   2.1s\n",
      "[CV 5/5] END activation=relu, alpha=0.001, batch_size=64, early_stopping=True, hidden_layer_sizes=(200,), learning_rate=adaptive, learning_rate_init=0.01, momentum=0.8, solver=sgd, validation_fraction=0.2;, score=0.647 total time=   2.5s\n",
      "[CV 1/5] END activation=relu, alpha=0.001, batch_size=64, early_stopping=True, hidden_layer_sizes=(50, 50), learning_rate=adaptive, learning_rate_init=0.01, momentum=0.2, solver=adam, validation_fraction=0.2;, score=0.642 total time=   0.4s\n",
      "[CV 2/5] END activation=relu, alpha=0.001, batch_size=64, early_stopping=True, hidden_layer_sizes=(50, 50), learning_rate=adaptive, learning_rate_init=0.01, momentum=0.2, solver=adam, validation_fraction=0.2;, score=0.620 total time=   0.4s\n",
      "[CV 3/5] END activation=relu, alpha=0.001, batch_size=64, early_stopping=True, hidden_layer_sizes=(50, 50), learning_rate=adaptive, learning_rate_init=0.01, momentum=0.2, solver=adam, validation_fraction=0.2;, score=0.659 total time=   0.4s\n",
      "[CV 4/5] END activation=relu, alpha=0.001, batch_size=64, early_stopping=True, hidden_layer_sizes=(50, 50), learning_rate=adaptive, learning_rate_init=0.01, momentum=0.2, solver=adam, validation_fraction=0.2;, score=0.632 total time=   0.4s\n",
      "[CV 5/5] END activation=relu, alpha=0.001, batch_size=64, early_stopping=True, hidden_layer_sizes=(50, 50), learning_rate=adaptive, learning_rate_init=0.01, momentum=0.2, solver=adam, validation_fraction=0.2;, score=0.627 total time=   0.3s\n",
      "[CV 1/5] END activation=relu, alpha=0.001, batch_size=64, early_stopping=True, hidden_layer_sizes=(50, 50), learning_rate=adaptive, learning_rate_init=0.01, momentum=0.2, solver=sgd, validation_fraction=0.2;, score=0.619 total time=   2.6s\n",
      "[CV 2/5] END activation=relu, alpha=0.001, batch_size=64, early_stopping=True, hidden_layer_sizes=(50, 50), learning_rate=adaptive, learning_rate_init=0.01, momentum=0.2, solver=sgd, validation_fraction=0.2;, score=0.620 total time=   2.5s\n",
      "[CV 3/5] END activation=relu, alpha=0.001, batch_size=64, early_stopping=True, hidden_layer_sizes=(50, 50), learning_rate=adaptive, learning_rate_init=0.01, momentum=0.2, solver=sgd, validation_fraction=0.2;, score=0.659 total time=   2.2s\n",
      "[CV 4/5] END activation=relu, alpha=0.001, batch_size=64, early_stopping=True, hidden_layer_sizes=(50, 50), learning_rate=adaptive, learning_rate_init=0.01, momentum=0.2, solver=sgd, validation_fraction=0.2;, score=0.625 total time=   2.3s\n",
      "[CV 5/5] END activation=relu, alpha=0.001, batch_size=64, early_stopping=True, hidden_layer_sizes=(50, 50), learning_rate=adaptive, learning_rate_init=0.01, momentum=0.2, solver=sgd, validation_fraction=0.2;, score=0.626 total time=   2.4s\n",
      "[CV 1/5] END activation=relu, alpha=0.001, batch_size=64, early_stopping=True, hidden_layer_sizes=(50, 50), learning_rate=adaptive, learning_rate_init=0.01, momentum=0.8, solver=adam, validation_fraction=0.2;, score=0.642 total time=   0.4s\n",
      "[CV 2/5] END activation=relu, alpha=0.001, batch_size=64, early_stopping=True, hidden_layer_sizes=(50, 50), learning_rate=adaptive, learning_rate_init=0.01, momentum=0.8, solver=adam, validation_fraction=0.2;, score=0.620 total time=   0.3s\n",
      "[CV 3/5] END activation=relu, alpha=0.001, batch_size=64, early_stopping=True, hidden_layer_sizes=(50, 50), learning_rate=adaptive, learning_rate_init=0.01, momentum=0.8, solver=adam, validation_fraction=0.2;, score=0.659 total time=   0.4s\n",
      "[CV 4/5] END activation=relu, alpha=0.001, batch_size=64, early_stopping=True, hidden_layer_sizes=(50, 50), learning_rate=adaptive, learning_rate_init=0.01, momentum=0.8, solver=adam, validation_fraction=0.2;, score=0.632 total time=   0.4s\n",
      "[CV 5/5] END activation=relu, alpha=0.001, batch_size=64, early_stopping=True, hidden_layer_sizes=(50, 50), learning_rate=adaptive, learning_rate_init=0.01, momentum=0.8, solver=adam, validation_fraction=0.2;, score=0.627 total time=   0.3s\n",
      "[CV 1/5] END activation=relu, alpha=0.001, batch_size=64, early_stopping=True, hidden_layer_sizes=(50, 50), learning_rate=adaptive, learning_rate_init=0.01, momentum=0.8, solver=sgd, validation_fraction=0.2;, score=0.617 total time=   2.2s\n",
      "[CV 2/5] END activation=relu, alpha=0.001, batch_size=64, early_stopping=True, hidden_layer_sizes=(50, 50), learning_rate=adaptive, learning_rate_init=0.01, momentum=0.8, solver=sgd, validation_fraction=0.2;, score=0.625 total time=   2.6s\n",
      "[CV 3/5] END activation=relu, alpha=0.001, batch_size=64, early_stopping=True, hidden_layer_sizes=(50, 50), learning_rate=adaptive, learning_rate_init=0.01, momentum=0.8, solver=sgd, validation_fraction=0.2;, score=0.666 total time=   2.3s\n",
      "[CV 4/5] END activation=relu, alpha=0.001, batch_size=64, early_stopping=True, hidden_layer_sizes=(50, 50), learning_rate=adaptive, learning_rate_init=0.01, momentum=0.8, solver=sgd, validation_fraction=0.2;, score=0.617 total time=   2.5s\n",
      "[CV 5/5] END activation=relu, alpha=0.001, batch_size=64, early_stopping=True, hidden_layer_sizes=(50, 50), learning_rate=adaptive, learning_rate_init=0.01, momentum=0.8, solver=sgd, validation_fraction=0.2;, score=0.627 total time=   2.1s\n",
      "[CV 1/5] END activation=relu, alpha=0.01, batch_size=32, early_stopping=True, hidden_layer_sizes=(200,), learning_rate=adaptive, learning_rate_init=0.01, momentum=0.2, solver=adam, validation_fraction=0.2;, score=0.613 total time=   1.1s\n",
      "[CV 2/5] END activation=relu, alpha=0.01, batch_size=32, early_stopping=True, hidden_layer_sizes=(200,), learning_rate=adaptive, learning_rate_init=0.01, momentum=0.2, solver=adam, validation_fraction=0.2;, score=0.621 total time=   0.6s\n",
      "[CV 3/5] END activation=relu, alpha=0.01, batch_size=32, early_stopping=True, hidden_layer_sizes=(200,), learning_rate=adaptive, learning_rate_init=0.01, momentum=0.2, solver=adam, validation_fraction=0.2;, score=0.666 total time=   0.9s\n",
      "[CV 4/5] END activation=relu, alpha=0.01, batch_size=32, early_stopping=True, hidden_layer_sizes=(200,), learning_rate=adaptive, learning_rate_init=0.01, momentum=0.2, solver=adam, validation_fraction=0.2;, score=0.640 total time=   0.7s\n",
      "[CV 5/5] END activation=relu, alpha=0.01, batch_size=32, early_stopping=True, hidden_layer_sizes=(200,), learning_rate=adaptive, learning_rate_init=0.01, momentum=0.2, solver=adam, validation_fraction=0.2;, score=0.628 total time=   0.9s\n",
      "[CV 1/5] END activation=relu, alpha=0.01, batch_size=32, early_stopping=True, hidden_layer_sizes=(200,), learning_rate=adaptive, learning_rate_init=0.01, momentum=0.2, solver=sgd, validation_fraction=0.2;, score=0.617 total time=   3.6s\n",
      "[CV 2/5] END activation=relu, alpha=0.01, batch_size=32, early_stopping=True, hidden_layer_sizes=(200,), learning_rate=adaptive, learning_rate_init=0.01, momentum=0.2, solver=sgd, validation_fraction=0.2;, score=0.620 total time=   3.7s\n",
      "[CV 3/5] END activation=relu, alpha=0.01, batch_size=32, early_stopping=True, hidden_layer_sizes=(200,), learning_rate=adaptive, learning_rate_init=0.01, momentum=0.2, solver=sgd, validation_fraction=0.2;, score=0.667 total time=   4.1s\n",
      "[CV 4/5] END activation=relu, alpha=0.01, batch_size=32, early_stopping=True, hidden_layer_sizes=(200,), learning_rate=adaptive, learning_rate_init=0.01, momentum=0.2, solver=sgd, validation_fraction=0.2;, score=0.644 total time=   4.1s\n",
      "[CV 5/5] END activation=relu, alpha=0.01, batch_size=32, early_stopping=True, hidden_layer_sizes=(200,), learning_rate=adaptive, learning_rate_init=0.01, momentum=0.2, solver=sgd, validation_fraction=0.2;, score=0.642 total time=   4.2s\n",
      "[CV 1/5] END activation=relu, alpha=0.01, batch_size=32, early_stopping=True, hidden_layer_sizes=(200,), learning_rate=adaptive, learning_rate_init=0.01, momentum=0.8, solver=adam, validation_fraction=0.2;, score=0.613 total time=   1.1s\n",
      "[CV 2/5] END activation=relu, alpha=0.01, batch_size=32, early_stopping=True, hidden_layer_sizes=(200,), learning_rate=adaptive, learning_rate_init=0.01, momentum=0.8, solver=adam, validation_fraction=0.2;, score=0.621 total time=   0.6s\n",
      "[CV 3/5] END activation=relu, alpha=0.01, batch_size=32, early_stopping=True, hidden_layer_sizes=(200,), learning_rate=adaptive, learning_rate_init=0.01, momentum=0.8, solver=adam, validation_fraction=0.2;, score=0.666 total time=   0.9s\n",
      "[CV 4/5] END activation=relu, alpha=0.01, batch_size=32, early_stopping=True, hidden_layer_sizes=(200,), learning_rate=adaptive, learning_rate_init=0.01, momentum=0.8, solver=adam, validation_fraction=0.2;, score=0.640 total time=   0.7s\n",
      "[CV 5/5] END activation=relu, alpha=0.01, batch_size=32, early_stopping=True, hidden_layer_sizes=(200,), learning_rate=adaptive, learning_rate_init=0.01, momentum=0.8, solver=adam, validation_fraction=0.2;, score=0.628 total time=   1.0s\n",
      "[CV 1/5] END activation=relu, alpha=0.01, batch_size=32, early_stopping=True, hidden_layer_sizes=(200,), learning_rate=adaptive, learning_rate_init=0.01, momentum=0.8, solver=sgd, validation_fraction=0.2;, score=0.614 total time=   3.5s\n",
      "[CV 2/5] END activation=relu, alpha=0.01, batch_size=32, early_stopping=True, hidden_layer_sizes=(200,), learning_rate=adaptive, learning_rate_init=0.01, momentum=0.8, solver=sgd, validation_fraction=0.2;, score=0.637 total time=   3.8s\n",
      "[CV 3/5] END activation=relu, alpha=0.01, batch_size=32, early_stopping=True, hidden_layer_sizes=(200,), learning_rate=adaptive, learning_rate_init=0.01, momentum=0.8, solver=sgd, validation_fraction=0.2;, score=0.667 total time=   3.5s\n",
      "[CV 4/5] END activation=relu, alpha=0.01, batch_size=32, early_stopping=True, hidden_layer_sizes=(200,), learning_rate=adaptive, learning_rate_init=0.01, momentum=0.8, solver=sgd, validation_fraction=0.2;, score=0.645 total time=   3.6s\n",
      "[CV 5/5] END activation=relu, alpha=0.01, batch_size=32, early_stopping=True, hidden_layer_sizes=(200,), learning_rate=adaptive, learning_rate_init=0.01, momentum=0.8, solver=sgd, validation_fraction=0.2;, score=0.641 total time=   3.9s\n",
      "[CV 1/5] END activation=relu, alpha=0.01, batch_size=32, early_stopping=True, hidden_layer_sizes=(50, 50), learning_rate=adaptive, learning_rate_init=0.01, momentum=0.2, solver=adam, validation_fraction=0.2;, score=0.636 total time=   0.8s\n",
      "[CV 2/5] END activation=relu, alpha=0.01, batch_size=32, early_stopping=True, hidden_layer_sizes=(50, 50), learning_rate=adaptive, learning_rate_init=0.01, momentum=0.2, solver=adam, validation_fraction=0.2;, score=0.608 total time=   0.6s\n",
      "[CV 3/5] END activation=relu, alpha=0.01, batch_size=32, early_stopping=True, hidden_layer_sizes=(50, 50), learning_rate=adaptive, learning_rate_init=0.01, momentum=0.2, solver=adam, validation_fraction=0.2;, score=0.667 total time=   0.7s\n",
      "[CV 4/5] END activation=relu, alpha=0.01, batch_size=32, early_stopping=True, hidden_layer_sizes=(50, 50), learning_rate=adaptive, learning_rate_init=0.01, momentum=0.2, solver=adam, validation_fraction=0.2;, score=0.636 total time=   0.7s\n",
      "[CV 5/5] END activation=relu, alpha=0.01, batch_size=32, early_stopping=True, hidden_layer_sizes=(50, 50), learning_rate=adaptive, learning_rate_init=0.01, momentum=0.2, solver=adam, validation_fraction=0.2;, score=0.635 total time=   0.8s\n",
      "[CV 1/5] END activation=relu, alpha=0.01, batch_size=32, early_stopping=True, hidden_layer_sizes=(50, 50), learning_rate=adaptive, learning_rate_init=0.01, momentum=0.2, solver=sgd, validation_fraction=0.2;, score=0.613 total time=   3.8s\n",
      "[CV 2/5] END activation=relu, alpha=0.01, batch_size=32, early_stopping=True, hidden_layer_sizes=(50, 50), learning_rate=adaptive, learning_rate_init=0.01, momentum=0.2, solver=sgd, validation_fraction=0.2;, score=0.624 total time=   4.2s\n",
      "[CV 3/5] END activation=relu, alpha=0.01, batch_size=32, early_stopping=True, hidden_layer_sizes=(50, 50), learning_rate=adaptive, learning_rate_init=0.01, momentum=0.2, solver=sgd, validation_fraction=0.2;, score=0.670 total time=   4.1s\n",
      "[CV 4/5] END activation=relu, alpha=0.01, batch_size=32, early_stopping=True, hidden_layer_sizes=(50, 50), learning_rate=adaptive, learning_rate_init=0.01, momentum=0.2, solver=sgd, validation_fraction=0.2;, score=0.630 total time=   3.6s\n",
      "[CV 5/5] END activation=relu, alpha=0.01, batch_size=32, early_stopping=True, hidden_layer_sizes=(50, 50), learning_rate=adaptive, learning_rate_init=0.01, momentum=0.2, solver=sgd, validation_fraction=0.2;, score=0.626 total time=   3.6s\n",
      "[CV 1/5] END activation=relu, alpha=0.01, batch_size=32, early_stopping=True, hidden_layer_sizes=(50, 50), learning_rate=adaptive, learning_rate_init=0.01, momentum=0.8, solver=adam, validation_fraction=0.2;, score=0.636 total time=   0.7s\n",
      "[CV 2/5] END activation=relu, alpha=0.01, batch_size=32, early_stopping=True, hidden_layer_sizes=(50, 50), learning_rate=adaptive, learning_rate_init=0.01, momentum=0.8, solver=adam, validation_fraction=0.2;, score=0.608 total time=   0.6s\n",
      "[CV 3/5] END activation=relu, alpha=0.01, batch_size=32, early_stopping=True, hidden_layer_sizes=(50, 50), learning_rate=adaptive, learning_rate_init=0.01, momentum=0.8, solver=adam, validation_fraction=0.2;, score=0.667 total time=   0.7s\n",
      "[CV 4/5] END activation=relu, alpha=0.01, batch_size=32, early_stopping=True, hidden_layer_sizes=(50, 50), learning_rate=adaptive, learning_rate_init=0.01, momentum=0.8, solver=adam, validation_fraction=0.2;, score=0.636 total time=   0.7s\n",
      "[CV 5/5] END activation=relu, alpha=0.01, batch_size=32, early_stopping=True, hidden_layer_sizes=(50, 50), learning_rate=adaptive, learning_rate_init=0.01, momentum=0.8, solver=adam, validation_fraction=0.2;, score=0.635 total time=   0.8s\n",
      "[CV 1/5] END activation=relu, alpha=0.01, batch_size=32, early_stopping=True, hidden_layer_sizes=(50, 50), learning_rate=adaptive, learning_rate_init=0.01, momentum=0.8, solver=sgd, validation_fraction=0.2;, score=0.623 total time=   3.4s\n",
      "[CV 2/5] END activation=relu, alpha=0.01, batch_size=32, early_stopping=True, hidden_layer_sizes=(50, 50), learning_rate=adaptive, learning_rate_init=0.01, momentum=0.8, solver=sgd, validation_fraction=0.2;, score=0.623 total time=   3.4s\n",
      "[CV 3/5] END activation=relu, alpha=0.01, batch_size=32, early_stopping=True, hidden_layer_sizes=(50, 50), learning_rate=adaptive, learning_rate_init=0.01, momentum=0.8, solver=sgd, validation_fraction=0.2;, score=0.669 total time=   3.6s\n",
      "[CV 4/5] END activation=relu, alpha=0.01, batch_size=32, early_stopping=True, hidden_layer_sizes=(50, 50), learning_rate=adaptive, learning_rate_init=0.01, momentum=0.8, solver=sgd, validation_fraction=0.2;, score=0.627 total time=   3.6s\n",
      "[CV 5/5] END activation=relu, alpha=0.01, batch_size=32, early_stopping=True, hidden_layer_sizes=(50, 50), learning_rate=adaptive, learning_rate_init=0.01, momentum=0.8, solver=sgd, validation_fraction=0.2;, score=0.620 total time=   3.5s\n",
      "[CV 1/5] END activation=relu, alpha=0.01, batch_size=64, early_stopping=True, hidden_layer_sizes=(200,), learning_rate=adaptive, learning_rate_init=0.01, momentum=0.2, solver=adam, validation_fraction=0.2;, score=0.633 total time=   0.4s\n",
      "[CV 2/5] END activation=relu, alpha=0.01, batch_size=64, early_stopping=True, hidden_layer_sizes=(200,), learning_rate=adaptive, learning_rate_init=0.01, momentum=0.2, solver=adam, validation_fraction=0.2;, score=0.607 total time=   0.5s\n",
      "[CV 3/5] END activation=relu, alpha=0.01, batch_size=64, early_stopping=True, hidden_layer_sizes=(200,), learning_rate=adaptive, learning_rate_init=0.01, momentum=0.2, solver=adam, validation_fraction=0.2;, score=0.664 total time=   0.4s\n",
      "[CV 4/5] END activation=relu, alpha=0.01, batch_size=64, early_stopping=True, hidden_layer_sizes=(200,), learning_rate=adaptive, learning_rate_init=0.01, momentum=0.2, solver=adam, validation_fraction=0.2;, score=0.643 total time=   0.4s\n",
      "[CV 5/5] END activation=relu, alpha=0.01, batch_size=64, early_stopping=True, hidden_layer_sizes=(200,), learning_rate=adaptive, learning_rate_init=0.01, momentum=0.2, solver=adam, validation_fraction=0.2;, score=0.639 total time=   0.4s\n",
      "[CV 1/5] END activation=relu, alpha=0.01, batch_size=64, early_stopping=True, hidden_layer_sizes=(200,), learning_rate=adaptive, learning_rate_init=0.01, momentum=0.2, solver=sgd, validation_fraction=0.2;, score=0.616 total time=   2.6s\n",
      "[CV 2/5] END activation=relu, alpha=0.01, batch_size=64, early_stopping=True, hidden_layer_sizes=(200,), learning_rate=adaptive, learning_rate_init=0.01, momentum=0.2, solver=sgd, validation_fraction=0.2;, score=0.620 total time=   2.6s\n",
      "[CV 3/5] END activation=relu, alpha=0.01, batch_size=64, early_stopping=True, hidden_layer_sizes=(200,), learning_rate=adaptive, learning_rate_init=0.01, momentum=0.2, solver=sgd, validation_fraction=0.2;, score=0.663 total time=   3.2s\n",
      "[CV 4/5] END activation=relu, alpha=0.01, batch_size=64, early_stopping=True, hidden_layer_sizes=(200,), learning_rate=adaptive, learning_rate_init=0.01, momentum=0.2, solver=sgd, validation_fraction=0.2;, score=0.638 total time=   2.6s\n",
      "[CV 5/5] END activation=relu, alpha=0.01, batch_size=64, early_stopping=True, hidden_layer_sizes=(200,), learning_rate=adaptive, learning_rate_init=0.01, momentum=0.2, solver=sgd, validation_fraction=0.2;, score=0.640 total time=   3.3s\n",
      "[CV 1/5] END activation=relu, alpha=0.01, batch_size=64, early_stopping=True, hidden_layer_sizes=(200,), learning_rate=adaptive, learning_rate_init=0.01, momentum=0.8, solver=adam, validation_fraction=0.2;, score=0.633 total time=   0.4s\n",
      "[CV 2/5] END activation=relu, alpha=0.01, batch_size=64, early_stopping=True, hidden_layer_sizes=(200,), learning_rate=adaptive, learning_rate_init=0.01, momentum=0.8, solver=adam, validation_fraction=0.2;, score=0.607 total time=   0.6s\n",
      "[CV 3/5] END activation=relu, alpha=0.01, batch_size=64, early_stopping=True, hidden_layer_sizes=(200,), learning_rate=adaptive, learning_rate_init=0.01, momentum=0.8, solver=adam, validation_fraction=0.2;, score=0.664 total time=   0.4s\n",
      "[CV 4/5] END activation=relu, alpha=0.01, batch_size=64, early_stopping=True, hidden_layer_sizes=(200,), learning_rate=adaptive, learning_rate_init=0.01, momentum=0.8, solver=adam, validation_fraction=0.2;, score=0.643 total time=   0.4s\n",
      "[CV 5/5] END activation=relu, alpha=0.01, batch_size=64, early_stopping=True, hidden_layer_sizes=(200,), learning_rate=adaptive, learning_rate_init=0.01, momentum=0.8, solver=adam, validation_fraction=0.2;, score=0.639 total time=   0.4s\n",
      "[CV 1/5] END activation=relu, alpha=0.01, batch_size=64, early_stopping=True, hidden_layer_sizes=(200,), learning_rate=adaptive, learning_rate_init=0.01, momentum=0.8, solver=sgd, validation_fraction=0.2;, score=0.616 total time=   2.2s\n",
      "[CV 2/5] END activation=relu, alpha=0.01, batch_size=64, early_stopping=True, hidden_layer_sizes=(200,), learning_rate=adaptive, learning_rate_init=0.01, momentum=0.8, solver=sgd, validation_fraction=0.2;, score=0.624 total time=   2.2s\n",
      "[CV 3/5] END activation=relu, alpha=0.01, batch_size=64, early_stopping=True, hidden_layer_sizes=(200,), learning_rate=adaptive, learning_rate_init=0.01, momentum=0.8, solver=sgd, validation_fraction=0.2;, score=0.666 total time=   2.3s\n",
      "[CV 4/5] END activation=relu, alpha=0.01, batch_size=64, early_stopping=True, hidden_layer_sizes=(200,), learning_rate=adaptive, learning_rate_init=0.01, momentum=0.8, solver=sgd, validation_fraction=0.2;, score=0.637 total time=   2.3s\n",
      "[CV 5/5] END activation=relu, alpha=0.01, batch_size=64, early_stopping=True, hidden_layer_sizes=(200,), learning_rate=adaptive, learning_rate_init=0.01, momentum=0.8, solver=sgd, validation_fraction=0.2;, score=0.648 total time=   2.5s\n",
      "[CV 1/5] END activation=relu, alpha=0.01, batch_size=64, early_stopping=True, hidden_layer_sizes=(50, 50), learning_rate=adaptive, learning_rate_init=0.01, momentum=0.2, solver=adam, validation_fraction=0.2;, score=0.628 total time=   0.4s\n",
      "[CV 2/5] END activation=relu, alpha=0.01, batch_size=64, early_stopping=True, hidden_layer_sizes=(50, 50), learning_rate=adaptive, learning_rate_init=0.01, momentum=0.2, solver=adam, validation_fraction=0.2;, score=0.616 total time=   0.3s\n",
      "[CV 3/5] END activation=relu, alpha=0.01, batch_size=64, early_stopping=True, hidden_layer_sizes=(50, 50), learning_rate=adaptive, learning_rate_init=0.01, momentum=0.2, solver=adam, validation_fraction=0.2;, score=0.657 total time=   0.4s\n",
      "[CV 4/5] END activation=relu, alpha=0.01, batch_size=64, early_stopping=True, hidden_layer_sizes=(50, 50), learning_rate=adaptive, learning_rate_init=0.01, momentum=0.2, solver=adam, validation_fraction=0.2;, score=0.626 total time=   0.4s\n",
      "[CV 5/5] END activation=relu, alpha=0.01, batch_size=64, early_stopping=True, hidden_layer_sizes=(50, 50), learning_rate=adaptive, learning_rate_init=0.01, momentum=0.2, solver=adam, validation_fraction=0.2;, score=0.629 total time=   0.3s\n",
      "[CV 1/5] END activation=relu, alpha=0.01, batch_size=64, early_stopping=True, hidden_layer_sizes=(50, 50), learning_rate=adaptive, learning_rate_init=0.01, momentum=0.2, solver=sgd, validation_fraction=0.2;, score=0.619 total time=   2.5s\n",
      "[CV 2/5] END activation=relu, alpha=0.01, batch_size=64, early_stopping=True, hidden_layer_sizes=(50, 50), learning_rate=adaptive, learning_rate_init=0.01, momentum=0.2, solver=sgd, validation_fraction=0.2;, score=0.620 total time=   2.5s\n",
      "[CV 3/5] END activation=relu, alpha=0.01, batch_size=64, early_stopping=True, hidden_layer_sizes=(50, 50), learning_rate=adaptive, learning_rate_init=0.01, momentum=0.2, solver=sgd, validation_fraction=0.2;, score=0.659 total time=   2.3s\n",
      "[CV 4/5] END activation=relu, alpha=0.01, batch_size=64, early_stopping=True, hidden_layer_sizes=(50, 50), learning_rate=adaptive, learning_rate_init=0.01, momentum=0.2, solver=sgd, validation_fraction=0.2;, score=0.625 total time=   2.3s\n",
      "[CV 5/5] END activation=relu, alpha=0.01, batch_size=64, early_stopping=True, hidden_layer_sizes=(50, 50), learning_rate=adaptive, learning_rate_init=0.01, momentum=0.2, solver=sgd, validation_fraction=0.2;, score=0.626 total time=   2.3s\n",
      "[CV 1/5] END activation=relu, alpha=0.01, batch_size=64, early_stopping=True, hidden_layer_sizes=(50, 50), learning_rate=adaptive, learning_rate_init=0.01, momentum=0.8, solver=adam, validation_fraction=0.2;, score=0.628 total time=   0.4s\n",
      "[CV 2/5] END activation=relu, alpha=0.01, batch_size=64, early_stopping=True, hidden_layer_sizes=(50, 50), learning_rate=adaptive, learning_rate_init=0.01, momentum=0.8, solver=adam, validation_fraction=0.2;, score=0.616 total time=   0.4s\n",
      "[CV 3/5] END activation=relu, alpha=0.01, batch_size=64, early_stopping=True, hidden_layer_sizes=(50, 50), learning_rate=adaptive, learning_rate_init=0.01, momentum=0.8, solver=adam, validation_fraction=0.2;, score=0.657 total time=   0.4s\n",
      "[CV 4/5] END activation=relu, alpha=0.01, batch_size=64, early_stopping=True, hidden_layer_sizes=(50, 50), learning_rate=adaptive, learning_rate_init=0.01, momentum=0.8, solver=adam, validation_fraction=0.2;, score=0.626 total time=   0.4s\n",
      "[CV 5/5] END activation=relu, alpha=0.01, batch_size=64, early_stopping=True, hidden_layer_sizes=(50, 50), learning_rate=adaptive, learning_rate_init=0.01, momentum=0.8, solver=adam, validation_fraction=0.2;, score=0.629 total time=   0.4s\n",
      "[CV 1/5] END activation=relu, alpha=0.01, batch_size=64, early_stopping=True, hidden_layer_sizes=(50, 50), learning_rate=adaptive, learning_rate_init=0.01, momentum=0.8, solver=sgd, validation_fraction=0.2;, score=0.620 total time=   2.2s\n",
      "[CV 2/5] END activation=relu, alpha=0.01, batch_size=64, early_stopping=True, hidden_layer_sizes=(50, 50), learning_rate=adaptive, learning_rate_init=0.01, momentum=0.8, solver=sgd, validation_fraction=0.2;, score=0.627 total time=   2.5s\n",
      "[CV 3/5] END activation=relu, alpha=0.01, batch_size=64, early_stopping=True, hidden_layer_sizes=(50, 50), learning_rate=adaptive, learning_rate_init=0.01, momentum=0.8, solver=sgd, validation_fraction=0.2;, score=0.665 total time=   2.3s\n",
      "[CV 4/5] END activation=relu, alpha=0.01, batch_size=64, early_stopping=True, hidden_layer_sizes=(50, 50), learning_rate=adaptive, learning_rate_init=0.01, momentum=0.8, solver=sgd, validation_fraction=0.2;, score=0.618 total time=   2.2s\n",
      "[CV 5/5] END activation=relu, alpha=0.01, batch_size=64, early_stopping=True, hidden_layer_sizes=(50, 50), learning_rate=adaptive, learning_rate_init=0.01, momentum=0.8, solver=sgd, validation_fraction=0.2;, score=0.628 total time=   2.1s\n",
      "[CV 1/5] END activation=logistic, alpha=0.001, batch_size=32, early_stopping=True, hidden_layer_sizes=(200,), learning_rate=adaptive, learning_rate_init=0.01, momentum=0.2, solver=adam, validation_fraction=0.2;, score=0.626 total time=   0.7s\n",
      "[CV 2/5] END activation=logistic, alpha=0.001, batch_size=32, early_stopping=True, hidden_layer_sizes=(200,), learning_rate=adaptive, learning_rate_init=0.01, momentum=0.2, solver=adam, validation_fraction=0.2;, score=0.629 total time=   0.7s\n",
      "[CV 3/5] END activation=logistic, alpha=0.001, batch_size=32, early_stopping=True, hidden_layer_sizes=(200,), learning_rate=adaptive, learning_rate_init=0.01, momentum=0.2, solver=adam, validation_fraction=0.2;, score=0.670 total time=   1.4s\n",
      "[CV 4/5] END activation=logistic, alpha=0.001, batch_size=32, early_stopping=True, hidden_layer_sizes=(200,), learning_rate=adaptive, learning_rate_init=0.01, momentum=0.2, solver=adam, validation_fraction=0.2;, score=0.640 total time=   0.9s\n",
      "[CV 5/5] END activation=logistic, alpha=0.001, batch_size=32, early_stopping=True, hidden_layer_sizes=(200,), learning_rate=adaptive, learning_rate_init=0.01, momentum=0.2, solver=adam, validation_fraction=0.2;, score=0.637 total time=   1.1s\n",
      "[CV 1/5] END activation=logistic, alpha=0.001, batch_size=32, early_stopping=True, hidden_layer_sizes=(200,), learning_rate=adaptive, learning_rate_init=0.01, momentum=0.2, solver=sgd, validation_fraction=0.2;, score=0.601 total time=   5.1s\n",
      "[CV 2/5] END activation=logistic, alpha=0.001, batch_size=32, early_stopping=True, hidden_layer_sizes=(200,), learning_rate=adaptive, learning_rate_init=0.01, momentum=0.2, solver=sgd, validation_fraction=0.2;, score=0.607 total time=   4.8s\n",
      "[CV 3/5] END activation=logistic, alpha=0.001, batch_size=32, early_stopping=True, hidden_layer_sizes=(200,), learning_rate=adaptive, learning_rate_init=0.01, momentum=0.2, solver=sgd, validation_fraction=0.2;, score=0.657 total time=   5.3s\n",
      "[CV 4/5] END activation=logistic, alpha=0.001, batch_size=32, early_stopping=True, hidden_layer_sizes=(200,), learning_rate=adaptive, learning_rate_init=0.01, momentum=0.2, solver=sgd, validation_fraction=0.2;, score=0.642 total time=   5.1s\n",
      "[CV 5/5] END activation=logistic, alpha=0.001, batch_size=32, early_stopping=True, hidden_layer_sizes=(200,), learning_rate=adaptive, learning_rate_init=0.01, momentum=0.2, solver=sgd, validation_fraction=0.2;, score=0.645 total time=   5.5s\n",
      "[CV 1/5] END activation=logistic, alpha=0.001, batch_size=32, early_stopping=True, hidden_layer_sizes=(200,), learning_rate=adaptive, learning_rate_init=0.01, momentum=0.8, solver=adam, validation_fraction=0.2;, score=0.626 total time=   0.7s\n",
      "[CV 2/5] END activation=logistic, alpha=0.001, batch_size=32, early_stopping=True, hidden_layer_sizes=(200,), learning_rate=adaptive, learning_rate_init=0.01, momentum=0.8, solver=adam, validation_fraction=0.2;, score=0.629 total time=   0.7s\n",
      "[CV 3/5] END activation=logistic, alpha=0.001, batch_size=32, early_stopping=True, hidden_layer_sizes=(200,), learning_rate=adaptive, learning_rate_init=0.01, momentum=0.8, solver=adam, validation_fraction=0.2;, score=0.670 total time=   1.4s\n",
      "[CV 4/5] END activation=logistic, alpha=0.001, batch_size=32, early_stopping=True, hidden_layer_sizes=(200,), learning_rate=adaptive, learning_rate_init=0.01, momentum=0.8, solver=adam, validation_fraction=0.2;, score=0.640 total time=   0.9s\n",
      "[CV 5/5] END activation=logistic, alpha=0.001, batch_size=32, early_stopping=True, hidden_layer_sizes=(200,), learning_rate=adaptive, learning_rate_init=0.01, momentum=0.8, solver=adam, validation_fraction=0.2;, score=0.637 total time=   1.3s\n",
      "[CV 1/5] END activation=logistic, alpha=0.001, batch_size=32, early_stopping=True, hidden_layer_sizes=(200,), learning_rate=adaptive, learning_rate_init=0.01, momentum=0.8, solver=sgd, validation_fraction=0.2;, score=0.597 total time=   4.2s\n",
      "[CV 2/5] END activation=logistic, alpha=0.001, batch_size=32, early_stopping=True, hidden_layer_sizes=(200,), learning_rate=adaptive, learning_rate_init=0.01, momentum=0.8, solver=sgd, validation_fraction=0.2;, score=0.628 total time=   4.6s\n",
      "[CV 3/5] END activation=logistic, alpha=0.001, batch_size=32, early_stopping=True, hidden_layer_sizes=(200,), learning_rate=adaptive, learning_rate_init=0.01, momentum=0.8, solver=sgd, validation_fraction=0.2;, score=0.669 total time=   4.2s\n",
      "[CV 4/5] END activation=logistic, alpha=0.001, batch_size=32, early_stopping=True, hidden_layer_sizes=(200,), learning_rate=adaptive, learning_rate_init=0.01, momentum=0.8, solver=sgd, validation_fraction=0.2;, score=0.648 total time=   4.1s\n",
      "[CV 5/5] END activation=logistic, alpha=0.001, batch_size=32, early_stopping=True, hidden_layer_sizes=(200,), learning_rate=adaptive, learning_rate_init=0.01, momentum=0.8, solver=sgd, validation_fraction=0.2;, score=0.646 total time=   4.9s\n",
      "[CV 1/5] END activation=logistic, alpha=0.001, batch_size=32, early_stopping=True, hidden_layer_sizes=(50, 50), learning_rate=adaptive, learning_rate_init=0.01, momentum=0.2, solver=adam, validation_fraction=0.2;, score=0.626 total time=   0.9s\n",
      "[CV 2/5] END activation=logistic, alpha=0.001, batch_size=32, early_stopping=True, hidden_layer_sizes=(50, 50), learning_rate=adaptive, learning_rate_init=0.01, momentum=0.2, solver=adam, validation_fraction=0.2;, score=0.625 total time=   1.3s\n",
      "[CV 3/5] END activation=logistic, alpha=0.001, batch_size=32, early_stopping=True, hidden_layer_sizes=(50, 50), learning_rate=adaptive, learning_rate_init=0.01, momentum=0.2, solver=adam, validation_fraction=0.2;, score=0.689 total time=   1.2s\n",
      "[CV 4/5] END activation=logistic, alpha=0.001, batch_size=32, early_stopping=True, hidden_layer_sizes=(50, 50), learning_rate=adaptive, learning_rate_init=0.01, momentum=0.2, solver=adam, validation_fraction=0.2;, score=0.643 total time=   0.7s\n",
      "[CV 5/5] END activation=logistic, alpha=0.001, batch_size=32, early_stopping=True, hidden_layer_sizes=(50, 50), learning_rate=adaptive, learning_rate_init=0.01, momentum=0.2, solver=adam, validation_fraction=0.2;, score=0.640 total time=   1.2s\n",
      "[CV 1/5] END activation=logistic, alpha=0.001, batch_size=32, early_stopping=True, hidden_layer_sizes=(50, 50), learning_rate=adaptive, learning_rate_init=0.01, momentum=0.2, solver=sgd, validation_fraction=0.2;, score=0.368 total time=   3.2s\n",
      "[CV 2/5] END activation=logistic, alpha=0.001, batch_size=32, early_stopping=True, hidden_layer_sizes=(50, 50), learning_rate=adaptive, learning_rate_init=0.01, momentum=0.2, solver=sgd, validation_fraction=0.2;, score=0.368 total time=   3.2s\n",
      "[CV 3/5] END activation=logistic, alpha=0.001, batch_size=32, early_stopping=True, hidden_layer_sizes=(50, 50), learning_rate=adaptive, learning_rate_init=0.01, momentum=0.2, solver=sgd, validation_fraction=0.2;, score=0.367 total time=   3.2s\n",
      "[CV 4/5] END activation=logistic, alpha=0.001, batch_size=32, early_stopping=True, hidden_layer_sizes=(50, 50), learning_rate=adaptive, learning_rate_init=0.01, momentum=0.2, solver=sgd, validation_fraction=0.2;, score=0.367 total time=   3.2s\n",
      "[CV 5/5] END activation=logistic, alpha=0.001, batch_size=32, early_stopping=True, hidden_layer_sizes=(50, 50), learning_rate=adaptive, learning_rate_init=0.01, momentum=0.2, solver=sgd, validation_fraction=0.2;, score=0.367 total time=   3.2s\n",
      "[CV 1/5] END activation=logistic, alpha=0.001, batch_size=32, early_stopping=True, hidden_layer_sizes=(50, 50), learning_rate=adaptive, learning_rate_init=0.01, momentum=0.8, solver=adam, validation_fraction=0.2;, score=0.626 total time=   0.9s\n",
      "[CV 2/5] END activation=logistic, alpha=0.001, batch_size=32, early_stopping=True, hidden_layer_sizes=(50, 50), learning_rate=adaptive, learning_rate_init=0.01, momentum=0.8, solver=adam, validation_fraction=0.2;, score=0.625 total time=   1.3s\n",
      "[CV 3/5] END activation=logistic, alpha=0.001, batch_size=32, early_stopping=True, hidden_layer_sizes=(50, 50), learning_rate=adaptive, learning_rate_init=0.01, momentum=0.8, solver=adam, validation_fraction=0.2;, score=0.689 total time=   1.3s\n",
      "[CV 4/5] END activation=logistic, alpha=0.001, batch_size=32, early_stopping=True, hidden_layer_sizes=(50, 50), learning_rate=adaptive, learning_rate_init=0.01, momentum=0.8, solver=adam, validation_fraction=0.2;, score=0.643 total time=   0.7s\n",
      "[CV 5/5] END activation=logistic, alpha=0.001, batch_size=32, early_stopping=True, hidden_layer_sizes=(50, 50), learning_rate=adaptive, learning_rate_init=0.01, momentum=0.8, solver=adam, validation_fraction=0.2;, score=0.640 total time=   1.2s\n",
      "[CV 1/5] END activation=logistic, alpha=0.001, batch_size=32, early_stopping=True, hidden_layer_sizes=(50, 50), learning_rate=adaptive, learning_rate_init=0.01, momentum=0.8, solver=sgd, validation_fraction=0.2;, score=0.641 total time=   5.4s\n",
      "[CV 2/5] END activation=logistic, alpha=0.001, batch_size=32, early_stopping=True, hidden_layer_sizes=(50, 50), learning_rate=adaptive, learning_rate_init=0.01, momentum=0.8, solver=sgd, validation_fraction=0.2;, score=0.577 total time=   4.5s\n",
      "[CV 3/5] END activation=logistic, alpha=0.001, batch_size=32, early_stopping=True, hidden_layer_sizes=(50, 50), learning_rate=adaptive, learning_rate_init=0.01, momentum=0.8, solver=sgd, validation_fraction=0.2;, score=0.367 total time=   3.3s\n",
      "[CV 4/5] END activation=logistic, alpha=0.001, batch_size=32, early_stopping=True, hidden_layer_sizes=(50, 50), learning_rate=adaptive, learning_rate_init=0.01, momentum=0.8, solver=sgd, validation_fraction=0.2;, score=0.367 total time=   3.3s\n",
      "[CV 5/5] END activation=logistic, alpha=0.001, batch_size=32, early_stopping=True, hidden_layer_sizes=(50, 50), learning_rate=adaptive, learning_rate_init=0.01, momentum=0.8, solver=sgd, validation_fraction=0.2;, score=0.367 total time=   3.2s\n",
      "[CV 1/5] END activation=logistic, alpha=0.001, batch_size=64, early_stopping=True, hidden_layer_sizes=(200,), learning_rate=adaptive, learning_rate_init=0.01, momentum=0.2, solver=adam, validation_fraction=0.2;, score=0.617 total time=   0.6s\n",
      "[CV 2/5] END activation=logistic, alpha=0.001, batch_size=64, early_stopping=True, hidden_layer_sizes=(200,), learning_rate=adaptive, learning_rate_init=0.01, momentum=0.2, solver=adam, validation_fraction=0.2;, score=0.633 total time=   0.9s\n",
      "[CV 3/5] END activation=logistic, alpha=0.001, batch_size=64, early_stopping=True, hidden_layer_sizes=(200,), learning_rate=adaptive, learning_rate_init=0.01, momentum=0.2, solver=adam, validation_fraction=0.2;, score=0.669 total time=   1.1s\n",
      "[CV 4/5] END activation=logistic, alpha=0.001, batch_size=64, early_stopping=True, hidden_layer_sizes=(200,), learning_rate=adaptive, learning_rate_init=0.01, momentum=0.2, solver=adam, validation_fraction=0.2;, score=0.647 total time=   0.5s\n",
      "[CV 5/5] END activation=logistic, alpha=0.001, batch_size=64, early_stopping=True, hidden_layer_sizes=(200,), learning_rate=adaptive, learning_rate_init=0.01, momentum=0.2, solver=adam, validation_fraction=0.2;, score=0.639 total time=   0.7s\n",
      "[CV 1/5] END activation=logistic, alpha=0.001, batch_size=64, early_stopping=True, hidden_layer_sizes=(200,), learning_rate=adaptive, learning_rate_init=0.01, momentum=0.2, solver=sgd, validation_fraction=0.2;, score=0.606 total time=   4.5s\n",
      "[CV 2/5] END activation=logistic, alpha=0.001, batch_size=64, early_stopping=True, hidden_layer_sizes=(200,), learning_rate=adaptive, learning_rate_init=0.01, momentum=0.2, solver=sgd, validation_fraction=0.2;, score=0.612 total time=   3.5s\n",
      "[CV 3/5] END activation=logistic, alpha=0.001, batch_size=64, early_stopping=True, hidden_layer_sizes=(200,), learning_rate=adaptive, learning_rate_init=0.01, momentum=0.2, solver=sgd, validation_fraction=0.2;, score=0.648 total time=   4.3s\n",
      "[CV 4/5] END activation=logistic, alpha=0.001, batch_size=64, early_stopping=True, hidden_layer_sizes=(200,), learning_rate=adaptive, learning_rate_init=0.01, momentum=0.2, solver=sgd, validation_fraction=0.2;, score=0.642 total time=   4.2s\n",
      "[CV 5/5] END activation=logistic, alpha=0.001, batch_size=64, early_stopping=True, hidden_layer_sizes=(200,), learning_rate=adaptive, learning_rate_init=0.01, momentum=0.2, solver=sgd, validation_fraction=0.2;, score=0.623 total time=   3.3s\n",
      "[CV 1/5] END activation=logistic, alpha=0.001, batch_size=64, early_stopping=True, hidden_layer_sizes=(200,), learning_rate=adaptive, learning_rate_init=0.01, momentum=0.8, solver=adam, validation_fraction=0.2;, score=0.617 total time=   0.7s\n",
      "[CV 2/5] END activation=logistic, alpha=0.001, batch_size=64, early_stopping=True, hidden_layer_sizes=(200,), learning_rate=adaptive, learning_rate_init=0.01, momentum=0.8, solver=adam, validation_fraction=0.2;, score=0.633 total time=   0.9s\n",
      "[CV 3/5] END activation=logistic, alpha=0.001, batch_size=64, early_stopping=True, hidden_layer_sizes=(200,), learning_rate=adaptive, learning_rate_init=0.01, momentum=0.8, solver=adam, validation_fraction=0.2;, score=0.669 total time=   0.9s\n",
      "[CV 4/5] END activation=logistic, alpha=0.001, batch_size=64, early_stopping=True, hidden_layer_sizes=(200,), learning_rate=adaptive, learning_rate_init=0.01, momentum=0.8, solver=adam, validation_fraction=0.2;, score=0.647 total time=   0.5s\n",
      "[CV 5/5] END activation=logistic, alpha=0.001, batch_size=64, early_stopping=True, hidden_layer_sizes=(200,), learning_rate=adaptive, learning_rate_init=0.01, momentum=0.8, solver=adam, validation_fraction=0.2;, score=0.639 total time=   0.7s\n",
      "[CV 1/5] END activation=logistic, alpha=0.001, batch_size=64, early_stopping=True, hidden_layer_sizes=(200,), learning_rate=adaptive, learning_rate_init=0.01, momentum=0.8, solver=sgd, validation_fraction=0.2;, score=0.608 total time=   2.9s\n",
      "[CV 2/5] END activation=logistic, alpha=0.001, batch_size=64, early_stopping=True, hidden_layer_sizes=(200,), learning_rate=adaptive, learning_rate_init=0.01, momentum=0.8, solver=sgd, validation_fraction=0.2;, score=0.607 total time=   2.9s\n",
      "[CV 3/5] END activation=logistic, alpha=0.001, batch_size=64, early_stopping=True, hidden_layer_sizes=(200,), learning_rate=adaptive, learning_rate_init=0.01, momentum=0.8, solver=sgd, validation_fraction=0.2;, score=0.658 total time=   3.4s\n",
      "[CV 4/5] END activation=logistic, alpha=0.001, batch_size=64, early_stopping=True, hidden_layer_sizes=(200,), learning_rate=adaptive, learning_rate_init=0.01, momentum=0.8, solver=sgd, validation_fraction=0.2;, score=0.644 total time=   3.0s\n",
      "[CV 5/5] END activation=logistic, alpha=0.001, batch_size=64, early_stopping=True, hidden_layer_sizes=(200,), learning_rate=adaptive, learning_rate_init=0.01, momentum=0.8, solver=sgd, validation_fraction=0.2;, score=0.646 total time=   3.3s\n",
      "[CV 1/5] END activation=logistic, alpha=0.001, batch_size=64, early_stopping=True, hidden_layer_sizes=(50, 50), learning_rate=adaptive, learning_rate_init=0.01, momentum=0.2, solver=adam, validation_fraction=0.2;, score=0.615 total time=   0.8s\n",
      "[CV 2/5] END activation=logistic, alpha=0.001, batch_size=64, early_stopping=True, hidden_layer_sizes=(50, 50), learning_rate=adaptive, learning_rate_init=0.01, momentum=0.2, solver=adam, validation_fraction=0.2;, score=0.616 total time=   0.8s\n",
      "[CV 3/5] END activation=logistic, alpha=0.001, batch_size=64, early_stopping=True, hidden_layer_sizes=(50, 50), learning_rate=adaptive, learning_rate_init=0.01, momentum=0.2, solver=adam, validation_fraction=0.2;, score=0.631 total time=   0.4s\n",
      "[CV 4/5] END activation=logistic, alpha=0.001, batch_size=64, early_stopping=True, hidden_layer_sizes=(50, 50), learning_rate=adaptive, learning_rate_init=0.01, momentum=0.2, solver=adam, validation_fraction=0.2;, score=0.648 total time=   0.4s\n",
      "[CV 5/5] END activation=logistic, alpha=0.001, batch_size=64, early_stopping=True, hidden_layer_sizes=(50, 50), learning_rate=adaptive, learning_rate_init=0.01, momentum=0.2, solver=adam, validation_fraction=0.2;, score=0.635 total time=   0.4s\n",
      "[CV 1/5] END activation=logistic, alpha=0.001, batch_size=64, early_stopping=True, hidden_layer_sizes=(50, 50), learning_rate=adaptive, learning_rate_init=0.01, momentum=0.2, solver=sgd, validation_fraction=0.2;, score=0.368 total time=   2.0s\n",
      "[CV 2/5] END activation=logistic, alpha=0.001, batch_size=64, early_stopping=True, hidden_layer_sizes=(50, 50), learning_rate=adaptive, learning_rate_init=0.01, momentum=0.2, solver=sgd, validation_fraction=0.2;, score=0.368 total time=   2.1s\n",
      "[CV 3/5] END activation=logistic, alpha=0.001, batch_size=64, early_stopping=True, hidden_layer_sizes=(50, 50), learning_rate=adaptive, learning_rate_init=0.01, momentum=0.2, solver=sgd, validation_fraction=0.2;, score=0.367 total time=   1.9s\n",
      "[CV 4/5] END activation=logistic, alpha=0.001, batch_size=64, early_stopping=True, hidden_layer_sizes=(50, 50), learning_rate=adaptive, learning_rate_init=0.01, momentum=0.2, solver=sgd, validation_fraction=0.2;, score=0.367 total time=   1.9s\n",
      "[CV 5/5] END activation=logistic, alpha=0.001, batch_size=64, early_stopping=True, hidden_layer_sizes=(50, 50), learning_rate=adaptive, learning_rate_init=0.01, momentum=0.2, solver=sgd, validation_fraction=0.2;, score=0.367 total time=   1.9s\n",
      "[CV 1/5] END activation=logistic, alpha=0.001, batch_size=64, early_stopping=True, hidden_layer_sizes=(50, 50), learning_rate=adaptive, learning_rate_init=0.01, momentum=0.8, solver=adam, validation_fraction=0.2;, score=0.615 total time=   0.7s\n",
      "[CV 2/5] END activation=logistic, alpha=0.001, batch_size=64, early_stopping=True, hidden_layer_sizes=(50, 50), learning_rate=adaptive, learning_rate_init=0.01, momentum=0.8, solver=adam, validation_fraction=0.2;, score=0.616 total time=   0.8s\n",
      "[CV 3/5] END activation=logistic, alpha=0.001, batch_size=64, early_stopping=True, hidden_layer_sizes=(50, 50), learning_rate=adaptive, learning_rate_init=0.01, momentum=0.8, solver=adam, validation_fraction=0.2;, score=0.631 total time=   0.4s\n",
      "[CV 4/5] END activation=logistic, alpha=0.001, batch_size=64, early_stopping=True, hidden_layer_sizes=(50, 50), learning_rate=adaptive, learning_rate_init=0.01, momentum=0.8, solver=adam, validation_fraction=0.2;, score=0.648 total time=   0.4s\n",
      "[CV 5/5] END activation=logistic, alpha=0.001, batch_size=64, early_stopping=True, hidden_layer_sizes=(50, 50), learning_rate=adaptive, learning_rate_init=0.01, momentum=0.8, solver=adam, validation_fraction=0.2;, score=0.635 total time=   0.5s\n",
      "[CV 1/5] END activation=logistic, alpha=0.001, batch_size=64, early_stopping=True, hidden_layer_sizes=(50, 50), learning_rate=adaptive, learning_rate_init=0.01, momentum=0.8, solver=sgd, validation_fraction=0.2;, score=0.368 total time=   2.0s\n",
      "[CV 2/5] END activation=logistic, alpha=0.001, batch_size=64, early_stopping=True, hidden_layer_sizes=(50, 50), learning_rate=adaptive, learning_rate_init=0.01, momentum=0.8, solver=sgd, validation_fraction=0.2;, score=0.368 total time=   2.1s\n",
      "[CV 3/5] END activation=logistic, alpha=0.001, batch_size=64, early_stopping=True, hidden_layer_sizes=(50, 50), learning_rate=adaptive, learning_rate_init=0.01, momentum=0.8, solver=sgd, validation_fraction=0.2;, score=0.367 total time=   1.9s\n",
      "[CV 4/5] END activation=logistic, alpha=0.001, batch_size=64, early_stopping=True, hidden_layer_sizes=(50, 50), learning_rate=adaptive, learning_rate_init=0.01, momentum=0.8, solver=sgd, validation_fraction=0.2;, score=0.367 total time=   2.0s\n",
      "[CV 5/5] END activation=logistic, alpha=0.001, batch_size=64, early_stopping=True, hidden_layer_sizes=(50, 50), learning_rate=adaptive, learning_rate_init=0.01, momentum=0.8, solver=sgd, validation_fraction=0.2;, score=0.367 total time=   2.0s\n",
      "[CV 1/5] END activation=logistic, alpha=0.01, batch_size=32, early_stopping=True, hidden_layer_sizes=(200,), learning_rate=adaptive, learning_rate_init=0.01, momentum=0.2, solver=adam, validation_fraction=0.2;, score=0.639 total time=   1.5s\n",
      "[CV 2/5] END activation=logistic, alpha=0.01, batch_size=32, early_stopping=True, hidden_layer_sizes=(200,), learning_rate=adaptive, learning_rate_init=0.01, momentum=0.2, solver=adam, validation_fraction=0.2;, score=0.621 total time=   1.0s\n",
      "[CV 3/5] END activation=logistic, alpha=0.01, batch_size=32, early_stopping=True, hidden_layer_sizes=(200,), learning_rate=adaptive, learning_rate_init=0.01, momentum=0.2, solver=adam, validation_fraction=0.2;, score=0.668 total time=   1.9s\n",
      "[CV 4/5] END activation=logistic, alpha=0.01, batch_size=32, early_stopping=True, hidden_layer_sizes=(200,), learning_rate=adaptive, learning_rate_init=0.01, momentum=0.2, solver=adam, validation_fraction=0.2;, score=0.645 total time=   1.4s\n",
      "[CV 5/5] END activation=logistic, alpha=0.01, batch_size=32, early_stopping=True, hidden_layer_sizes=(200,), learning_rate=adaptive, learning_rate_init=0.01, momentum=0.2, solver=adam, validation_fraction=0.2;, score=0.633 total time=   1.0s\n",
      "[CV 1/5] END activation=logistic, alpha=0.01, batch_size=32, early_stopping=True, hidden_layer_sizes=(200,), learning_rate=adaptive, learning_rate_init=0.01, momentum=0.2, solver=sgd, validation_fraction=0.2;, score=0.602 total time=   5.0s\n",
      "[CV 2/5] END activation=logistic, alpha=0.01, batch_size=32, early_stopping=True, hidden_layer_sizes=(200,), learning_rate=adaptive, learning_rate_init=0.01, momentum=0.2, solver=sgd, validation_fraction=0.2;, score=0.607 total time=   4.8s\n",
      "[CV 3/5] END activation=logistic, alpha=0.01, batch_size=32, early_stopping=True, hidden_layer_sizes=(200,), learning_rate=adaptive, learning_rate_init=0.01, momentum=0.2, solver=sgd, validation_fraction=0.2;, score=0.658 total time=   5.3s\n",
      "[CV 4/5] END activation=logistic, alpha=0.01, batch_size=32, early_stopping=True, hidden_layer_sizes=(200,), learning_rate=adaptive, learning_rate_init=0.01, momentum=0.2, solver=sgd, validation_fraction=0.2;, score=0.643 total time=   5.0s\n",
      "[CV 5/5] END activation=logistic, alpha=0.01, batch_size=32, early_stopping=True, hidden_layer_sizes=(200,), learning_rate=adaptive, learning_rate_init=0.01, momentum=0.2, solver=sgd, validation_fraction=0.2;, score=0.645 total time=   5.5s\n",
      "[CV 1/5] END activation=logistic, alpha=0.01, batch_size=32, early_stopping=True, hidden_layer_sizes=(200,), learning_rate=adaptive, learning_rate_init=0.01, momentum=0.8, solver=adam, validation_fraction=0.2;, score=0.639 total time=   1.4s\n",
      "[CV 2/5] END activation=logistic, alpha=0.01, batch_size=32, early_stopping=True, hidden_layer_sizes=(200,), learning_rate=adaptive, learning_rate_init=0.01, momentum=0.8, solver=adam, validation_fraction=0.2;, score=0.621 total time=   1.0s\n",
      "[CV 3/5] END activation=logistic, alpha=0.01, batch_size=32, early_stopping=True, hidden_layer_sizes=(200,), learning_rate=adaptive, learning_rate_init=0.01, momentum=0.8, solver=adam, validation_fraction=0.2;, score=0.668 total time=   1.8s\n",
      "[CV 4/5] END activation=logistic, alpha=0.01, batch_size=32, early_stopping=True, hidden_layer_sizes=(200,), learning_rate=adaptive, learning_rate_init=0.01, momentum=0.8, solver=adam, validation_fraction=0.2;, score=0.645 total time=   1.4s\n",
      "[CV 5/5] END activation=logistic, alpha=0.01, batch_size=32, early_stopping=True, hidden_layer_sizes=(200,), learning_rate=adaptive, learning_rate_init=0.01, momentum=0.8, solver=adam, validation_fraction=0.2;, score=0.633 total time=   1.0s\n",
      "[CV 1/5] END activation=logistic, alpha=0.01, batch_size=32, early_stopping=True, hidden_layer_sizes=(200,), learning_rate=adaptive, learning_rate_init=0.01, momentum=0.8, solver=sgd, validation_fraction=0.2;, score=0.596 total time=   3.8s\n",
      "[CV 2/5] END activation=logistic, alpha=0.01, batch_size=32, early_stopping=True, hidden_layer_sizes=(200,), learning_rate=adaptive, learning_rate_init=0.01, momentum=0.8, solver=sgd, validation_fraction=0.2;, score=0.626 total time=   4.6s\n",
      "[CV 3/5] END activation=logistic, alpha=0.01, batch_size=32, early_stopping=True, hidden_layer_sizes=(200,), learning_rate=adaptive, learning_rate_init=0.01, momentum=0.8, solver=sgd, validation_fraction=0.2;, score=0.667 total time=   4.2s\n",
      "[CV 4/5] END activation=logistic, alpha=0.01, batch_size=32, early_stopping=True, hidden_layer_sizes=(200,), learning_rate=adaptive, learning_rate_init=0.01, momentum=0.8, solver=sgd, validation_fraction=0.2;, score=0.646 total time=   4.6s\n",
      "[CV 5/5] END activation=logistic, alpha=0.01, batch_size=32, early_stopping=True, hidden_layer_sizes=(200,), learning_rate=adaptive, learning_rate_init=0.01, momentum=0.8, solver=sgd, validation_fraction=0.2;, score=0.649 total time=   4.4s\n",
      "[CV 1/5] END activation=logistic, alpha=0.01, batch_size=32, early_stopping=True, hidden_layer_sizes=(50, 50), learning_rate=adaptive, learning_rate_init=0.01, momentum=0.2, solver=adam, validation_fraction=0.2;, score=0.628 total time=   1.2s\n",
      "[CV 2/5] END activation=logistic, alpha=0.01, batch_size=32, early_stopping=True, hidden_layer_sizes=(50, 50), learning_rate=adaptive, learning_rate_init=0.01, momentum=0.2, solver=adam, validation_fraction=0.2;, score=0.614 total time=   1.2s\n",
      "[CV 3/5] END activation=logistic, alpha=0.01, batch_size=32, early_stopping=True, hidden_layer_sizes=(50, 50), learning_rate=adaptive, learning_rate_init=0.01, momentum=0.2, solver=adam, validation_fraction=0.2;, score=0.651 total time=   0.9s\n",
      "[CV 4/5] END activation=logistic, alpha=0.01, batch_size=32, early_stopping=True, hidden_layer_sizes=(50, 50), learning_rate=adaptive, learning_rate_init=0.01, momentum=0.2, solver=adam, validation_fraction=0.2;, score=0.642 total time=   0.7s\n",
      "[CV 5/5] END activation=logistic, alpha=0.01, batch_size=32, early_stopping=True, hidden_layer_sizes=(50, 50), learning_rate=adaptive, learning_rate_init=0.01, momentum=0.2, solver=adam, validation_fraction=0.2;, score=0.635 total time=   1.2s\n",
      "[CV 1/5] END activation=logistic, alpha=0.01, batch_size=32, early_stopping=True, hidden_layer_sizes=(50, 50), learning_rate=adaptive, learning_rate_init=0.01, momentum=0.2, solver=sgd, validation_fraction=0.2;, score=0.368 total time=   3.2s\n",
      "[CV 2/5] END activation=logistic, alpha=0.01, batch_size=32, early_stopping=True, hidden_layer_sizes=(50, 50), learning_rate=adaptive, learning_rate_init=0.01, momentum=0.2, solver=sgd, validation_fraction=0.2;, score=0.368 total time=   3.1s\n",
      "[CV 3/5] END activation=logistic, alpha=0.01, batch_size=32, early_stopping=True, hidden_layer_sizes=(50, 50), learning_rate=adaptive, learning_rate_init=0.01, momentum=0.2, solver=sgd, validation_fraction=0.2;, score=0.367 total time=   3.2s\n",
      "[CV 4/5] END activation=logistic, alpha=0.01, batch_size=32, early_stopping=True, hidden_layer_sizes=(50, 50), learning_rate=adaptive, learning_rate_init=0.01, momentum=0.2, solver=sgd, validation_fraction=0.2;, score=0.367 total time=   3.2s\n",
      "[CV 5/5] END activation=logistic, alpha=0.01, batch_size=32, early_stopping=True, hidden_layer_sizes=(50, 50), learning_rate=adaptive, learning_rate_init=0.01, momentum=0.2, solver=sgd, validation_fraction=0.2;, score=0.367 total time=   3.2s\n",
      "[CV 1/5] END activation=logistic, alpha=0.01, batch_size=32, early_stopping=True, hidden_layer_sizes=(50, 50), learning_rate=adaptive, learning_rate_init=0.01, momentum=0.8, solver=adam, validation_fraction=0.2;, score=0.628 total time=   1.3s\n",
      "[CV 2/5] END activation=logistic, alpha=0.01, batch_size=32, early_stopping=True, hidden_layer_sizes=(50, 50), learning_rate=adaptive, learning_rate_init=0.01, momentum=0.8, solver=adam, validation_fraction=0.2;, score=0.614 total time=   1.3s\n",
      "[CV 3/5] END activation=logistic, alpha=0.01, batch_size=32, early_stopping=True, hidden_layer_sizes=(50, 50), learning_rate=adaptive, learning_rate_init=0.01, momentum=0.8, solver=adam, validation_fraction=0.2;, score=0.651 total time=   0.9s\n",
      "[CV 4/5] END activation=logistic, alpha=0.01, batch_size=32, early_stopping=True, hidden_layer_sizes=(50, 50), learning_rate=adaptive, learning_rate_init=0.01, momentum=0.8, solver=adam, validation_fraction=0.2;, score=0.642 total time=   0.7s\n",
      "[CV 5/5] END activation=logistic, alpha=0.01, batch_size=32, early_stopping=True, hidden_layer_sizes=(50, 50), learning_rate=adaptive, learning_rate_init=0.01, momentum=0.8, solver=adam, validation_fraction=0.2;, score=0.635 total time=   1.3s\n",
      "[CV 1/5] END activation=logistic, alpha=0.01, batch_size=32, early_stopping=True, hidden_layer_sizes=(50, 50), learning_rate=adaptive, learning_rate_init=0.01, momentum=0.8, solver=sgd, validation_fraction=0.2;, score=0.375 total time=   3.6s\n",
      "[CV 2/5] END activation=logistic, alpha=0.01, batch_size=32, early_stopping=True, hidden_layer_sizes=(50, 50), learning_rate=adaptive, learning_rate_init=0.01, momentum=0.8, solver=sgd, validation_fraction=0.2;, score=0.614 total time=   5.6s\n",
      "[CV 3/5] END activation=logistic, alpha=0.01, batch_size=32, early_stopping=True, hidden_layer_sizes=(50, 50), learning_rate=adaptive, learning_rate_init=0.01, momentum=0.8, solver=sgd, validation_fraction=0.2;, score=0.367 total time=   3.3s\n",
      "[CV 4/5] END activation=logistic, alpha=0.01, batch_size=32, early_stopping=True, hidden_layer_sizes=(50, 50), learning_rate=adaptive, learning_rate_init=0.01, momentum=0.8, solver=sgd, validation_fraction=0.2;, score=0.367 total time=   3.2s\n",
      "[CV 5/5] END activation=logistic, alpha=0.01, batch_size=32, early_stopping=True, hidden_layer_sizes=(50, 50), learning_rate=adaptive, learning_rate_init=0.01, momentum=0.8, solver=sgd, validation_fraction=0.2;, score=0.367 total time=   3.1s\n",
      "[CV 1/5] END activation=logistic, alpha=0.01, batch_size=64, early_stopping=True, hidden_layer_sizes=(200,), learning_rate=adaptive, learning_rate_init=0.01, momentum=0.2, solver=adam, validation_fraction=0.2;, score=0.625 total time=   0.6s\n",
      "[CV 2/5] END activation=logistic, alpha=0.01, batch_size=64, early_stopping=True, hidden_layer_sizes=(200,), learning_rate=adaptive, learning_rate_init=0.01, momentum=0.2, solver=adam, validation_fraction=0.2;, score=0.626 total time=   0.9s\n",
      "[CV 3/5] END activation=logistic, alpha=0.01, batch_size=64, early_stopping=True, hidden_layer_sizes=(200,), learning_rate=adaptive, learning_rate_init=0.01, momentum=0.2, solver=adam, validation_fraction=0.2;, score=0.664 total time=   0.7s\n",
      "[CV 4/5] END activation=logistic, alpha=0.01, batch_size=64, early_stopping=True, hidden_layer_sizes=(200,), learning_rate=adaptive, learning_rate_init=0.01, momentum=0.2, solver=adam, validation_fraction=0.2;, score=0.649 total time=   0.9s\n",
      "[CV 5/5] END activation=logistic, alpha=0.01, batch_size=64, early_stopping=True, hidden_layer_sizes=(200,), learning_rate=adaptive, learning_rate_init=0.01, momentum=0.2, solver=adam, validation_fraction=0.2;, score=0.646 total time=   0.8s\n",
      "[CV 1/5] END activation=logistic, alpha=0.01, batch_size=64, early_stopping=True, hidden_layer_sizes=(200,), learning_rate=adaptive, learning_rate_init=0.01, momentum=0.2, solver=sgd, validation_fraction=0.2;, score=0.606 total time=   4.1s\n",
      "[CV 2/5] END activation=logistic, alpha=0.01, batch_size=64, early_stopping=True, hidden_layer_sizes=(200,), learning_rate=adaptive, learning_rate_init=0.01, momentum=0.2, solver=sgd, validation_fraction=0.2;, score=0.615 total time=   3.4s\n",
      "[CV 3/5] END activation=logistic, alpha=0.01, batch_size=64, early_stopping=True, hidden_layer_sizes=(200,), learning_rate=adaptive, learning_rate_init=0.01, momentum=0.2, solver=sgd, validation_fraction=0.2;, score=0.648 total time=   4.1s\n",
      "[CV 4/5] END activation=logistic, alpha=0.01, batch_size=64, early_stopping=True, hidden_layer_sizes=(200,), learning_rate=adaptive, learning_rate_init=0.01, momentum=0.2, solver=sgd, validation_fraction=0.2;, score=0.632 total time=   3.6s\n",
      "[CV 5/5] END activation=logistic, alpha=0.01, batch_size=64, early_stopping=True, hidden_layer_sizes=(200,), learning_rate=adaptive, learning_rate_init=0.01, momentum=0.2, solver=sgd, validation_fraction=0.2;, score=0.623 total time=   3.4s\n",
      "[CV 1/5] END activation=logistic, alpha=0.01, batch_size=64, early_stopping=True, hidden_layer_sizes=(200,), learning_rate=adaptive, learning_rate_init=0.01, momentum=0.8, solver=adam, validation_fraction=0.2;, score=0.625 total time=   0.6s\n",
      "[CV 2/5] END activation=logistic, alpha=0.01, batch_size=64, early_stopping=True, hidden_layer_sizes=(200,), learning_rate=adaptive, learning_rate_init=0.01, momentum=0.8, solver=adam, validation_fraction=0.2;, score=0.626 total time=   0.9s\n",
      "[CV 3/5] END activation=logistic, alpha=0.01, batch_size=64, early_stopping=True, hidden_layer_sizes=(200,), learning_rate=adaptive, learning_rate_init=0.01, momentum=0.8, solver=adam, validation_fraction=0.2;, score=0.664 total time=   0.7s\n",
      "[CV 4/5] END activation=logistic, alpha=0.01, batch_size=64, early_stopping=True, hidden_layer_sizes=(200,), learning_rate=adaptive, learning_rate_init=0.01, momentum=0.8, solver=adam, validation_fraction=0.2;, score=0.649 total time=   1.0s\n",
      "[CV 5/5] END activation=logistic, alpha=0.01, batch_size=64, early_stopping=True, hidden_layer_sizes=(200,), learning_rate=adaptive, learning_rate_init=0.01, momentum=0.8, solver=adam, validation_fraction=0.2;, score=0.646 total time=   0.8s\n",
      "[CV 1/5] END activation=logistic, alpha=0.01, batch_size=64, early_stopping=True, hidden_layer_sizes=(200,), learning_rate=adaptive, learning_rate_init=0.01, momentum=0.8, solver=sgd, validation_fraction=0.2;, score=0.586 total time=   2.6s\n",
      "[CV 2/5] END activation=logistic, alpha=0.01, batch_size=64, early_stopping=True, hidden_layer_sizes=(200,), learning_rate=adaptive, learning_rate_init=0.01, momentum=0.8, solver=sgd, validation_fraction=0.2;, score=0.607 total time=   2.8s\n",
      "[CV 3/5] END activation=logistic, alpha=0.01, batch_size=64, early_stopping=True, hidden_layer_sizes=(200,), learning_rate=adaptive, learning_rate_init=0.01, momentum=0.8, solver=sgd, validation_fraction=0.2;, score=0.658 total time=   3.7s\n",
      "[CV 4/5] END activation=logistic, alpha=0.01, batch_size=64, early_stopping=True, hidden_layer_sizes=(200,), learning_rate=adaptive, learning_rate_init=0.01, momentum=0.8, solver=sgd, validation_fraction=0.2;, score=0.644 total time=   3.2s\n",
      "[CV 5/5] END activation=logistic, alpha=0.01, batch_size=64, early_stopping=True, hidden_layer_sizes=(200,), learning_rate=adaptive, learning_rate_init=0.01, momentum=0.8, solver=sgd, validation_fraction=0.2;, score=0.649 total time=   3.6s\n",
      "[CV 1/5] END activation=logistic, alpha=0.01, batch_size=64, early_stopping=True, hidden_layer_sizes=(50, 50), learning_rate=adaptive, learning_rate_init=0.01, momentum=0.2, solver=adam, validation_fraction=0.2;, score=0.640 total time=   0.7s\n",
      "[CV 2/5] END activation=logistic, alpha=0.01, batch_size=64, early_stopping=True, hidden_layer_sizes=(50, 50), learning_rate=adaptive, learning_rate_init=0.01, momentum=0.2, solver=adam, validation_fraction=0.2;, score=0.630 total time=   0.5s\n",
      "[CV 3/5] END activation=logistic, alpha=0.01, batch_size=64, early_stopping=True, hidden_layer_sizes=(50, 50), learning_rate=adaptive, learning_rate_init=0.01, momentum=0.2, solver=adam, validation_fraction=0.2;, score=0.634 total time=   0.4s\n",
      "[CV 4/5] END activation=logistic, alpha=0.01, batch_size=64, early_stopping=True, hidden_layer_sizes=(50, 50), learning_rate=adaptive, learning_rate_init=0.01, momentum=0.2, solver=adam, validation_fraction=0.2;, score=0.640 total time=   0.6s\n",
      "[CV 5/5] END activation=logistic, alpha=0.01, batch_size=64, early_stopping=True, hidden_layer_sizes=(50, 50), learning_rate=adaptive, learning_rate_init=0.01, momentum=0.2, solver=adam, validation_fraction=0.2;, score=0.643 total time=   0.5s\n",
      "[CV 1/5] END activation=logistic, alpha=0.01, batch_size=64, early_stopping=True, hidden_layer_sizes=(50, 50), learning_rate=adaptive, learning_rate_init=0.01, momentum=0.2, solver=sgd, validation_fraction=0.2;, score=0.368 total time=   2.1s\n",
      "[CV 2/5] END activation=logistic, alpha=0.01, batch_size=64, early_stopping=True, hidden_layer_sizes=(50, 50), learning_rate=adaptive, learning_rate_init=0.01, momentum=0.2, solver=sgd, validation_fraction=0.2;, score=0.368 total time=   1.9s\n",
      "[CV 3/5] END activation=logistic, alpha=0.01, batch_size=64, early_stopping=True, hidden_layer_sizes=(50, 50), learning_rate=adaptive, learning_rate_init=0.01, momentum=0.2, solver=sgd, validation_fraction=0.2;, score=0.367 total time=   1.9s\n",
      "[CV 4/5] END activation=logistic, alpha=0.01, batch_size=64, early_stopping=True, hidden_layer_sizes=(50, 50), learning_rate=adaptive, learning_rate_init=0.01, momentum=0.2, solver=sgd, validation_fraction=0.2;, score=0.367 total time=   2.0s\n",
      "[CV 5/5] END activation=logistic, alpha=0.01, batch_size=64, early_stopping=True, hidden_layer_sizes=(50, 50), learning_rate=adaptive, learning_rate_init=0.01, momentum=0.2, solver=sgd, validation_fraction=0.2;, score=0.367 total time=   2.0s\n",
      "[CV 1/5] END activation=logistic, alpha=0.01, batch_size=64, early_stopping=True, hidden_layer_sizes=(50, 50), learning_rate=adaptive, learning_rate_init=0.01, momentum=0.8, solver=adam, validation_fraction=0.2;, score=0.640 total time=   0.8s\n",
      "[CV 2/5] END activation=logistic, alpha=0.01, batch_size=64, early_stopping=True, hidden_layer_sizes=(50, 50), learning_rate=adaptive, learning_rate_init=0.01, momentum=0.8, solver=adam, validation_fraction=0.2;, score=0.630 total time=   0.5s\n",
      "[CV 3/5] END activation=logistic, alpha=0.01, batch_size=64, early_stopping=True, hidden_layer_sizes=(50, 50), learning_rate=adaptive, learning_rate_init=0.01, momentum=0.8, solver=adam, validation_fraction=0.2;, score=0.634 total time=   0.4s\n",
      "[CV 4/5] END activation=logistic, alpha=0.01, batch_size=64, early_stopping=True, hidden_layer_sizes=(50, 50), learning_rate=adaptive, learning_rate_init=0.01, momentum=0.8, solver=adam, validation_fraction=0.2;, score=0.640 total time=   0.6s\n",
      "[CV 5/5] END activation=logistic, alpha=0.01, batch_size=64, early_stopping=True, hidden_layer_sizes=(50, 50), learning_rate=adaptive, learning_rate_init=0.01, momentum=0.8, solver=adam, validation_fraction=0.2;, score=0.643 total time=   0.4s\n",
      "[CV 1/5] END activation=logistic, alpha=0.01, batch_size=64, early_stopping=True, hidden_layer_sizes=(50, 50), learning_rate=adaptive, learning_rate_init=0.01, momentum=0.8, solver=sgd, validation_fraction=0.2;, score=0.368 total time=   1.9s\n",
      "[CV 2/5] END activation=logistic, alpha=0.01, batch_size=64, early_stopping=True, hidden_layer_sizes=(50, 50), learning_rate=adaptive, learning_rate_init=0.01, momentum=0.8, solver=sgd, validation_fraction=0.2;, score=0.368 total time=   2.1s\n",
      "[CV 3/5] END activation=logistic, alpha=0.01, batch_size=64, early_stopping=True, hidden_layer_sizes=(50, 50), learning_rate=adaptive, learning_rate_init=0.01, momentum=0.8, solver=sgd, validation_fraction=0.2;, score=0.367 total time=   1.9s\n",
      "[CV 4/5] END activation=logistic, alpha=0.01, batch_size=64, early_stopping=True, hidden_layer_sizes=(50, 50), learning_rate=adaptive, learning_rate_init=0.01, momentum=0.8, solver=sgd, validation_fraction=0.2;, score=0.367 total time=   1.9s\n",
      "[CV 5/5] END activation=logistic, alpha=0.01, batch_size=64, early_stopping=True, hidden_layer_sizes=(50, 50), learning_rate=adaptive, learning_rate_init=0.01, momentum=0.8, solver=sgd, validation_fraction=0.2;, score=0.367 total time=   2.1s\n"
     ]
    },
    {
     "name": "stderr",
     "output_type": "stream",
     "text": [
      "INFO:root:[Neural Network] 🔍 Best F1_macro: 0.6446\n",
      "[Neural Network] 🔍 Best Params: {'activation': 'logistic', 'alpha': 0.001, 'batch_size': 32, 'early_stopping': True, 'hidden_layer_sizes': (50, 50), 'learning_rate': 'adaptive', 'learning_rate_init': 0.01, 'momentum': 0.2, 'solver': 'adam', 'validation_fraction': 0.2}\n"
     ]
    }
   ],
   "source": [
    "model_name = 'Neural Network'\n",
    "start = time.time()\n",
    "model = model_factory(model_name, ufc_data, model_params, scoring=\"f1_macro\")\n",
    "end = time.time()\n",
    "duration = end - start"
   ]
  },
  {
   "cell_type": "markdown",
   "id": "ef3b2f84-d266-462a-8c21-325907da4ac0",
   "metadata": {},
   "source": [
    "### 🔍 Neural Network Metrics"
   ]
  },
  {
   "cell_type": "code",
   "execution_count": 37,
   "id": "470f9c65-5086-4085-a5d3-b0058a77ce3c",
   "metadata": {},
   "outputs": [
    {
     "data": {
      "text/html": [
       "<pre style=\"white-space:pre;overflow-x:auto;line-height:normal;font-family:Menlo,'DejaVu Sans Mono',consolas,'Courier New',monospace\"><span style=\"font-weight: bold\">{</span>\n",
       "    <span style=\"color: #008000; text-decoration-color: #008000\">'Accuracy'</span>: <span style=\"color: #008080; text-decoration-color: #008080; font-weight: bold\">0.6536</span>,\n",
       "    <span style=\"color: #008000; text-decoration-color: #008000\">'Balanced Accuracy'</span>: <span style=\"color: #800080; text-decoration-color: #800080; font-weight: bold\">np.float64</span><span style=\"font-weight: bold\">(</span><span style=\"color: #008080; text-decoration-color: #008080; font-weight: bold\">0.6433</span><span style=\"font-weight: bold\">)</span>,\n",
       "    <span style=\"color: #008000; text-decoration-color: #008000\">'Precision Red'</span>: <span style=\"color: #008080; text-decoration-color: #008080; font-weight: bold\">0.6993</span>,\n",
       "    <span style=\"color: #008000; text-decoration-color: #008000\">'Recall Red'</span>: <span style=\"color: #008080; text-decoration-color: #008080; font-weight: bold\">0.7073</span>,\n",
       "    <span style=\"color: #008000; text-decoration-color: #008000\">'F1 Red'</span>: <span style=\"color: #008080; text-decoration-color: #008080; font-weight: bold\">0.7033</span>,\n",
       "    <span style=\"color: #008000; text-decoration-color: #008000\">'Precision Blue'</span>: <span style=\"color: #008080; text-decoration-color: #008080; font-weight: bold\">0.5887</span>,\n",
       "    <span style=\"color: #008000; text-decoration-color: #008000\">'Recall Blue'</span>: <span style=\"color: #008080; text-decoration-color: #008080; font-weight: bold\">0.5794</span>,\n",
       "    <span style=\"color: #008000; text-decoration-color: #008000\">'F1 Blue'</span>: <span style=\"color: #008080; text-decoration-color: #008080; font-weight: bold\">0.584</span>,\n",
       "    <span style=\"color: #008000; text-decoration-color: #008000\">'F1 Macro'</span>: <span style=\"color: #008080; text-decoration-color: #008080; font-weight: bold\">0.6436</span>,\n",
       "    <span style=\"color: #008000; text-decoration-color: #008000\">'ROC AUC'</span>: <span style=\"color: #800080; text-decoration-color: #800080; font-weight: bold\">np.float64</span><span style=\"font-weight: bold\">(</span><span style=\"color: #008080; text-decoration-color: #008080; font-weight: bold\">0.6968</span><span style=\"font-weight: bold\">)</span>,\n",
       "    <span style=\"color: #008000; text-decoration-color: #008000\">'Brier Score'</span>: <span style=\"color: #800080; text-decoration-color: #800080; font-weight: bold\">np.float64</span><span style=\"font-weight: bold\">(</span><span style=\"color: #008080; text-decoration-color: #008080; font-weight: bold\">0.2172</span><span style=\"font-weight: bold\">)</span>,\n",
       "    <span style=\"color: #008000; text-decoration-color: #008000\">'MCC'</span>: <span style=\"color: #800080; text-decoration-color: #800080; font-weight: bold\">np.float64</span><span style=\"font-weight: bold\">(</span><span style=\"color: #008080; text-decoration-color: #008080; font-weight: bold\">0.2873</span><span style=\"font-weight: bold\">)</span>,\n",
       "    <span style=\"color: #008000; text-decoration-color: #008000\">'Kappa'</span>: <span style=\"color: #800080; text-decoration-color: #800080; font-weight: bold\">np.float64</span><span style=\"font-weight: bold\">(</span><span style=\"color: #008080; text-decoration-color: #008080; font-weight: bold\">0.2873</span><span style=\"font-weight: bold\">)</span>\n",
       "<span style=\"font-weight: bold\">}</span>\n",
       "</pre>\n"
      ],
      "text/plain": [
       "\u001b[1m{\u001b[0m\n",
       "    \u001b[32m'Accuracy'\u001b[0m: \u001b[1;36m0.6536\u001b[0m,\n",
       "    \u001b[32m'Balanced Accuracy'\u001b[0m: \u001b[1;35mnp.float64\u001b[0m\u001b[1m(\u001b[0m\u001b[1;36m0.6433\u001b[0m\u001b[1m)\u001b[0m,\n",
       "    \u001b[32m'Precision Red'\u001b[0m: \u001b[1;36m0.6993\u001b[0m,\n",
       "    \u001b[32m'Recall Red'\u001b[0m: \u001b[1;36m0.7073\u001b[0m,\n",
       "    \u001b[32m'F1 Red'\u001b[0m: \u001b[1;36m0.7033\u001b[0m,\n",
       "    \u001b[32m'Precision Blue'\u001b[0m: \u001b[1;36m0.5887\u001b[0m,\n",
       "    \u001b[32m'Recall Blue'\u001b[0m: \u001b[1;36m0.5794\u001b[0m,\n",
       "    \u001b[32m'F1 Blue'\u001b[0m: \u001b[1;36m0.584\u001b[0m,\n",
       "    \u001b[32m'F1 Macro'\u001b[0m: \u001b[1;36m0.6436\u001b[0m,\n",
       "    \u001b[32m'ROC AUC'\u001b[0m: \u001b[1;35mnp.float64\u001b[0m\u001b[1m(\u001b[0m\u001b[1;36m0.6968\u001b[0m\u001b[1m)\u001b[0m,\n",
       "    \u001b[32m'Brier Score'\u001b[0m: \u001b[1;35mnp.float64\u001b[0m\u001b[1m(\u001b[0m\u001b[1;36m0.2172\u001b[0m\u001b[1m)\u001b[0m,\n",
       "    \u001b[32m'MCC'\u001b[0m: \u001b[1;35mnp.float64\u001b[0m\u001b[1m(\u001b[0m\u001b[1;36m0.2873\u001b[0m\u001b[1m)\u001b[0m,\n",
       "    \u001b[32m'Kappa'\u001b[0m: \u001b[1;35mnp.float64\u001b[0m\u001b[1m(\u001b[0m\u001b[1;36m0.2873\u001b[0m\u001b[1m)\u001b[0m\n",
       "\u001b[1m}\u001b[0m\n"
      ]
     },
     "metadata": {},
     "output_type": "display_data"
    }
   ],
   "source": [
    "metrics = evaluate_metrics(model, ufc_data)\n",
    "print(metrics)"
   ]
  },
  {
   "cell_type": "markdown",
   "id": "c3bfb5e0-67b4-4537-9193-873185a63777",
   "metadata": {},
   "source": [
    "### 📝 Log Training Results"
   ]
  },
  {
   "cell_type": "code",
   "execution_count": 38,
   "id": "46b8d13a-6619-408e-8cba-c419fe8d840a",
   "metadata": {},
   "outputs": [
    {
     "name": "stderr",
     "output_type": "stream",
     "text": [
      "INFO:src.helpers:✅ Training logged to ../data/results/training_log_v2.csv\n"
     ]
    }
   ],
   "source": [
    "log_training_result(model_name, model.best_params_, metrics, duration)"
   ]
  },
  {
   "cell_type": "markdown",
   "id": "41a13857-6f83-4d54-b238-a9cfa811f3c4",
   "metadata": {},
   "source": [
    "### 💾 Save Model "
   ]
  },
  {
   "cell_type": "code",
   "execution_count": 39,
   "id": "8a860aa1-7c0e-4ee0-bbf4-262d10909242",
   "metadata": {},
   "outputs": [
    {
     "name": "stderr",
     "output_type": "stream",
     "text": [
      "INFO:src.io_model:✅ Model 'Neural Network' saved to: /home/mlioi/ufc-predictor/models/nn_best.pkl\n"
     ]
    }
   ],
   "source": [
    "save_model(model, name=file_model_name[model_name])"
   ]
  },
  {
   "cell_type": "markdown",
   "id": "3d22c213-5141-4f2e-9567-b87686558915",
   "metadata": {},
   "source": [
    "## XGBoost Model"
   ]
  },
  {
   "cell_type": "markdown",
   "id": "de30905c-746d-4592-bcd8-273abbbb1fd8",
   "metadata": {},
   "source": [
    "### 🚀 XGBoost Training "
   ]
  },
  {
   "cell_type": "code",
   "execution_count": 40,
   "id": "8a88e90b-05d3-4fe9-8cf7-c50e327f3cde",
   "metadata": {
    "scrolled": true
   },
   "outputs": [
    {
     "name": "stderr",
     "output_type": "stream",
     "text": [
      "INFO:src.model_factory:[XGBoost] UFC GridSearchCV Training (F1_macro)\n",
      "INFO:root:[XGBoost] 🤖 Training...\n"
     ]
    },
    {
     "name": "stdout",
     "output_type": "stream",
     "text": [
      "Fitting 5 folds for each of 48 candidates, totalling 240 fits\n",
      "[CV 1/5] END colsample_bytree=0.8, learning_rate=0.01, max_depth=3, n_estimators=50, subsample=0.8;, score=0.563 total time=   0.1s\n",
      "[CV 2/5] END colsample_bytree=0.8, learning_rate=0.01, max_depth=3, n_estimators=50, subsample=0.8;, score=0.560 total time=   0.1s\n",
      "[CV 3/5] END colsample_bytree=0.8, learning_rate=0.01, max_depth=3, n_estimators=50, subsample=0.8;, score=0.518 total time=   0.1s\n",
      "[CV 4/5] END colsample_bytree=0.8, learning_rate=0.01, max_depth=3, n_estimators=50, subsample=0.8;, score=0.524 total time=   0.1s\n",
      "[CV 5/5] END colsample_bytree=0.8, learning_rate=0.01, max_depth=3, n_estimators=50, subsample=0.8;, score=0.563 total time=   0.1s\n",
      "[CV 1/5] END colsample_bytree=0.8, learning_rate=0.01, max_depth=3, n_estimators=50, subsample=1.0;, score=0.562 total time=   0.1s\n",
      "[CV 2/5] END colsample_bytree=0.8, learning_rate=0.01, max_depth=3, n_estimators=50, subsample=1.0;, score=0.562 total time=   0.1s\n",
      "[CV 3/5] END colsample_bytree=0.8, learning_rate=0.01, max_depth=3, n_estimators=50, subsample=1.0;, score=0.496 total time=   0.1s\n",
      "[CV 4/5] END colsample_bytree=0.8, learning_rate=0.01, max_depth=3, n_estimators=50, subsample=1.0;, score=0.517 total time=   0.1s\n",
      "[CV 5/5] END colsample_bytree=0.8, learning_rate=0.01, max_depth=3, n_estimators=50, subsample=1.0;, score=0.583 total time=   0.1s\n",
      "[CV 1/5] END colsample_bytree=0.8, learning_rate=0.01, max_depth=3, n_estimators=150, subsample=0.8;, score=0.600 total time=   0.1s\n",
      "[CV 2/5] END colsample_bytree=0.8, learning_rate=0.01, max_depth=3, n_estimators=150, subsample=0.8;, score=0.601 total time=   0.1s\n",
      "[CV 3/5] END colsample_bytree=0.8, learning_rate=0.01, max_depth=3, n_estimators=150, subsample=0.8;, score=0.661 total time=   0.1s\n",
      "[CV 4/5] END colsample_bytree=0.8, learning_rate=0.01, max_depth=3, n_estimators=150, subsample=0.8;, score=0.637 total time=   0.2s\n",
      "[CV 5/5] END colsample_bytree=0.8, learning_rate=0.01, max_depth=3, n_estimators=150, subsample=0.8;, score=0.619 total time=   0.2s\n",
      "[CV 1/5] END colsample_bytree=0.8, learning_rate=0.01, max_depth=3, n_estimators=150, subsample=1.0;, score=0.601 total time=   0.1s\n",
      "[CV 2/5] END colsample_bytree=0.8, learning_rate=0.01, max_depth=3, n_estimators=150, subsample=1.0;, score=0.606 total time=   0.2s\n",
      "[CV 3/5] END colsample_bytree=0.8, learning_rate=0.01, max_depth=3, n_estimators=150, subsample=1.0;, score=0.666 total time=   0.1s\n",
      "[CV 4/5] END colsample_bytree=0.8, learning_rate=0.01, max_depth=3, n_estimators=150, subsample=1.0;, score=0.633 total time=   0.1s\n",
      "[CV 5/5] END colsample_bytree=0.8, learning_rate=0.01, max_depth=3, n_estimators=150, subsample=1.0;, score=0.616 total time=   0.2s\n",
      "[CV 1/5] END colsample_bytree=0.8, learning_rate=0.01, max_depth=5, n_estimators=50, subsample=0.8;, score=0.545 total time=   0.1s\n",
      "[CV 2/5] END colsample_bytree=0.8, learning_rate=0.01, max_depth=5, n_estimators=50, subsample=0.8;, score=0.547 total time=   0.1s\n",
      "[CV 3/5] END colsample_bytree=0.8, learning_rate=0.01, max_depth=5, n_estimators=50, subsample=0.8;, score=0.536 total time=   0.1s\n",
      "[CV 4/5] END colsample_bytree=0.8, learning_rate=0.01, max_depth=5, n_estimators=50, subsample=0.8;, score=0.525 total time=   0.1s\n",
      "[CV 5/5] END colsample_bytree=0.8, learning_rate=0.01, max_depth=5, n_estimators=50, subsample=0.8;, score=0.552 total time=   0.1s\n",
      "[CV 1/5] END colsample_bytree=0.8, learning_rate=0.01, max_depth=5, n_estimators=50, subsample=1.0;, score=0.540 total time=   0.1s\n",
      "[CV 2/5] END colsample_bytree=0.8, learning_rate=0.01, max_depth=5, n_estimators=50, subsample=1.0;, score=0.547 total time=   0.1s\n",
      "[CV 3/5] END colsample_bytree=0.8, learning_rate=0.01, max_depth=5, n_estimators=50, subsample=1.0;, score=0.533 total time=   0.1s\n",
      "[CV 4/5] END colsample_bytree=0.8, learning_rate=0.01, max_depth=5, n_estimators=50, subsample=1.0;, score=0.506 total time=   0.1s\n",
      "[CV 5/5] END colsample_bytree=0.8, learning_rate=0.01, max_depth=5, n_estimators=50, subsample=1.0;, score=0.548 total time=   0.1s\n",
      "[CV 1/5] END colsample_bytree=0.8, learning_rate=0.01, max_depth=5, n_estimators=150, subsample=0.8;, score=0.607 total time=   0.2s\n",
      "[CV 2/5] END colsample_bytree=0.8, learning_rate=0.01, max_depth=5, n_estimators=150, subsample=0.8;, score=0.601 total time=   0.2s\n",
      "[CV 3/5] END colsample_bytree=0.8, learning_rate=0.01, max_depth=5, n_estimators=150, subsample=0.8;, score=0.655 total time=   0.2s\n",
      "[CV 4/5] END colsample_bytree=0.8, learning_rate=0.01, max_depth=5, n_estimators=150, subsample=0.8;, score=0.636 total time=   0.2s\n",
      "[CV 5/5] END colsample_bytree=0.8, learning_rate=0.01, max_depth=5, n_estimators=150, subsample=0.8;, score=0.619 total time=   0.2s\n",
      "[CV 1/5] END colsample_bytree=0.8, learning_rate=0.01, max_depth=5, n_estimators=150, subsample=1.0;, score=0.607 total time=   0.2s\n",
      "[CV 2/5] END colsample_bytree=0.8, learning_rate=0.01, max_depth=5, n_estimators=150, subsample=1.0;, score=0.612 total time=   0.3s\n",
      "[CV 3/5] END colsample_bytree=0.8, learning_rate=0.01, max_depth=5, n_estimators=150, subsample=1.0;, score=0.659 total time=   0.2s\n",
      "[CV 4/5] END colsample_bytree=0.8, learning_rate=0.01, max_depth=5, n_estimators=150, subsample=1.0;, score=0.643 total time=   0.5s\n",
      "[CV 5/5] END colsample_bytree=0.8, learning_rate=0.01, max_depth=5, n_estimators=150, subsample=1.0;, score=0.617 total time=   0.2s\n",
      "[CV 1/5] END colsample_bytree=0.8, learning_rate=0.01, max_depth=7, n_estimators=50, subsample=0.8;, score=0.521 total time=   0.1s\n",
      "[CV 2/5] END colsample_bytree=0.8, learning_rate=0.01, max_depth=7, n_estimators=50, subsample=0.8;, score=0.550 total time=   0.1s\n",
      "[CV 3/5] END colsample_bytree=0.8, learning_rate=0.01, max_depth=7, n_estimators=50, subsample=0.8;, score=0.532 total time=   0.1s\n",
      "[CV 4/5] END colsample_bytree=0.8, learning_rate=0.01, max_depth=7, n_estimators=50, subsample=0.8;, score=0.539 total time=   0.1s\n",
      "[CV 5/5] END colsample_bytree=0.8, learning_rate=0.01, max_depth=7, n_estimators=50, subsample=0.8;, score=0.543 total time=   0.1s\n",
      "[CV 1/5] END colsample_bytree=0.8, learning_rate=0.01, max_depth=7, n_estimators=50, subsample=1.0;, score=0.528 total time=   0.1s\n",
      "[CV 2/5] END colsample_bytree=0.8, learning_rate=0.01, max_depth=7, n_estimators=50, subsample=1.0;, score=0.532 total time=   0.1s\n",
      "[CV 3/5] END colsample_bytree=0.8, learning_rate=0.01, max_depth=7, n_estimators=50, subsample=1.0;, score=0.550 total time=   0.1s\n",
      "[CV 4/5] END colsample_bytree=0.8, learning_rate=0.01, max_depth=7, n_estimators=50, subsample=1.0;, score=0.521 total time=   0.1s\n",
      "[CV 5/5] END colsample_bytree=0.8, learning_rate=0.01, max_depth=7, n_estimators=50, subsample=1.0;, score=0.551 total time=   0.2s\n",
      "[CV 1/5] END colsample_bytree=0.8, learning_rate=0.01, max_depth=7, n_estimators=150, subsample=0.8;, score=0.616 total time=   0.5s\n",
      "[CV 2/5] END colsample_bytree=0.8, learning_rate=0.01, max_depth=7, n_estimators=150, subsample=0.8;, score=0.609 total time=   0.3s\n",
      "[CV 3/5] END colsample_bytree=0.8, learning_rate=0.01, max_depth=7, n_estimators=150, subsample=0.8;, score=0.664 total time=   0.6s\n",
      "[CV 4/5] END colsample_bytree=0.8, learning_rate=0.01, max_depth=7, n_estimators=150, subsample=0.8;, score=0.632 total time=   0.3s\n",
      "[CV 5/5] END colsample_bytree=0.8, learning_rate=0.01, max_depth=7, n_estimators=150, subsample=0.8;, score=0.611 total time=   0.6s\n",
      "[CV 1/5] END colsample_bytree=0.8, learning_rate=0.01, max_depth=7, n_estimators=150, subsample=1.0;, score=0.606 total time=   0.9s\n",
      "[CV 2/5] END colsample_bytree=0.8, learning_rate=0.01, max_depth=7, n_estimators=150, subsample=1.0;, score=0.607 total time=   0.4s\n",
      "[CV 3/5] END colsample_bytree=0.8, learning_rate=0.01, max_depth=7, n_estimators=150, subsample=1.0;, score=0.640 total time=   0.3s\n",
      "[CV 4/5] END colsample_bytree=0.8, learning_rate=0.01, max_depth=7, n_estimators=150, subsample=1.0;, score=0.630 total time=   0.3s\n",
      "[CV 5/5] END colsample_bytree=0.8, learning_rate=0.01, max_depth=7, n_estimators=150, subsample=1.0;, score=0.602 total time=   0.3s\n",
      "[CV 1/5] END colsample_bytree=0.8, learning_rate=0.1, max_depth=3, n_estimators=50, subsample=0.8;, score=0.615 total time=   0.1s\n",
      "[CV 2/5] END colsample_bytree=0.8, learning_rate=0.1, max_depth=3, n_estimators=50, subsample=0.8;, score=0.624 total time=   0.1s\n",
      "[CV 3/5] END colsample_bytree=0.8, learning_rate=0.1, max_depth=3, n_estimators=50, subsample=0.8;, score=0.670 total time=   0.1s\n",
      "[CV 4/5] END colsample_bytree=0.8, learning_rate=0.1, max_depth=3, n_estimators=50, subsample=0.8;, score=0.643 total time=   0.1s\n",
      "[CV 5/5] END colsample_bytree=0.8, learning_rate=0.1, max_depth=3, n_estimators=50, subsample=0.8;, score=0.634 total time=   0.1s\n",
      "[CV 1/5] END colsample_bytree=0.8, learning_rate=0.1, max_depth=3, n_estimators=50, subsample=1.0;, score=0.624 total time=   0.1s\n",
      "[CV 2/5] END colsample_bytree=0.8, learning_rate=0.1, max_depth=3, n_estimators=50, subsample=1.0;, score=0.619 total time=   0.1s\n",
      "[CV 3/5] END colsample_bytree=0.8, learning_rate=0.1, max_depth=3, n_estimators=50, subsample=1.0;, score=0.688 total time=   0.1s\n",
      "[CV 4/5] END colsample_bytree=0.8, learning_rate=0.1, max_depth=3, n_estimators=50, subsample=1.0;, score=0.648 total time=   0.1s\n",
      "[CV 5/5] END colsample_bytree=0.8, learning_rate=0.1, max_depth=3, n_estimators=50, subsample=1.0;, score=0.640 total time=   0.1s\n",
      "[CV 1/5] END colsample_bytree=0.8, learning_rate=0.1, max_depth=3, n_estimators=150, subsample=0.8;, score=0.619 total time=   0.2s\n",
      "[CV 2/5] END colsample_bytree=0.8, learning_rate=0.1, max_depth=3, n_estimators=150, subsample=0.8;, score=0.627 total time=   0.4s\n",
      "[CV 3/5] END colsample_bytree=0.8, learning_rate=0.1, max_depth=3, n_estimators=150, subsample=0.8;, score=0.666 total time=   0.3s\n",
      "[CV 4/5] END colsample_bytree=0.8, learning_rate=0.1, max_depth=3, n_estimators=150, subsample=0.8;, score=0.641 total time=   0.3s\n",
      "[CV 5/5] END colsample_bytree=0.8, learning_rate=0.1, max_depth=3, n_estimators=150, subsample=0.8;, score=0.626 total time=   0.1s\n",
      "[CV 1/5] END colsample_bytree=0.8, learning_rate=0.1, max_depth=3, n_estimators=150, subsample=1.0;, score=0.616 total time=   0.2s\n",
      "[CV 2/5] END colsample_bytree=0.8, learning_rate=0.1, max_depth=3, n_estimators=150, subsample=1.0;, score=0.634 total time=   0.4s\n",
      "[CV 3/5] END colsample_bytree=0.8, learning_rate=0.1, max_depth=3, n_estimators=150, subsample=1.0;, score=0.667 total time=   0.2s\n",
      "[CV 4/5] END colsample_bytree=0.8, learning_rate=0.1, max_depth=3, n_estimators=150, subsample=1.0;, score=0.646 total time=   0.1s\n",
      "[CV 5/5] END colsample_bytree=0.8, learning_rate=0.1, max_depth=3, n_estimators=150, subsample=1.0;, score=0.621 total time=   0.1s\n",
      "[CV 1/5] END colsample_bytree=0.8, learning_rate=0.1, max_depth=5, n_estimators=50, subsample=0.8;, score=0.628 total time=   0.1s\n",
      "[CV 2/5] END colsample_bytree=0.8, learning_rate=0.1, max_depth=5, n_estimators=50, subsample=0.8;, score=0.622 total time=   0.1s\n",
      "[CV 3/5] END colsample_bytree=0.8, learning_rate=0.1, max_depth=5, n_estimators=50, subsample=0.8;, score=0.655 total time=   0.1s\n",
      "[CV 4/5] END colsample_bytree=0.8, learning_rate=0.1, max_depth=5, n_estimators=50, subsample=0.8;, score=0.659 total time=   0.1s\n",
      "[CV 5/5] END colsample_bytree=0.8, learning_rate=0.1, max_depth=5, n_estimators=50, subsample=0.8;, score=0.624 total time=   0.1s\n",
      "[CV 1/5] END colsample_bytree=0.8, learning_rate=0.1, max_depth=5, n_estimators=50, subsample=1.0;, score=0.631 total time=   0.1s\n",
      "[CV 2/5] END colsample_bytree=0.8, learning_rate=0.1, max_depth=5, n_estimators=50, subsample=1.0;, score=0.625 total time=   0.1s\n",
      "[CV 3/5] END colsample_bytree=0.8, learning_rate=0.1, max_depth=5, n_estimators=50, subsample=1.0;, score=0.646 total time=   0.2s\n",
      "[CV 4/5] END colsample_bytree=0.8, learning_rate=0.1, max_depth=5, n_estimators=50, subsample=1.0;, score=0.657 total time=   0.1s\n",
      "[CV 5/5] END colsample_bytree=0.8, learning_rate=0.1, max_depth=5, n_estimators=50, subsample=1.0;, score=0.623 total time=   0.1s\n",
      "[CV 1/5] END colsample_bytree=0.8, learning_rate=0.1, max_depth=5, n_estimators=150, subsample=0.8;, score=0.618 total time=   0.3s\n",
      "[CV 2/5] END colsample_bytree=0.8, learning_rate=0.1, max_depth=5, n_estimators=150, subsample=0.8;, score=0.627 total time=   0.2s\n",
      "[CV 3/5] END colsample_bytree=0.8, learning_rate=0.1, max_depth=5, n_estimators=150, subsample=0.8;, score=0.631 total time=   0.2s\n",
      "[CV 4/5] END colsample_bytree=0.8, learning_rate=0.1, max_depth=5, n_estimators=150, subsample=0.8;, score=0.634 total time=   0.2s\n",
      "[CV 5/5] END colsample_bytree=0.8, learning_rate=0.1, max_depth=5, n_estimators=150, subsample=0.8;, score=0.609 total time=   0.3s\n",
      "[CV 1/5] END colsample_bytree=0.8, learning_rate=0.1, max_depth=5, n_estimators=150, subsample=1.0;, score=0.640 total time=   0.2s\n",
      "[CV 2/5] END colsample_bytree=0.8, learning_rate=0.1, max_depth=5, n_estimators=150, subsample=1.0;, score=0.625 total time=   0.2s\n",
      "[CV 3/5] END colsample_bytree=0.8, learning_rate=0.1, max_depth=5, n_estimators=150, subsample=1.0;, score=0.645 total time=   0.2s\n",
      "[CV 4/5] END colsample_bytree=0.8, learning_rate=0.1, max_depth=5, n_estimators=150, subsample=1.0;, score=0.638 total time=   0.4s\n",
      "[CV 5/5] END colsample_bytree=0.8, learning_rate=0.1, max_depth=5, n_estimators=150, subsample=1.0;, score=0.619 total time=   0.3s\n",
      "[CV 1/5] END colsample_bytree=0.8, learning_rate=0.1, max_depth=7, n_estimators=50, subsample=0.8;, score=0.614 total time=   0.1s\n",
      "[CV 2/5] END colsample_bytree=0.8, learning_rate=0.1, max_depth=7, n_estimators=50, subsample=0.8;, score=0.623 total time=   0.1s\n",
      "[CV 3/5] END colsample_bytree=0.8, learning_rate=0.1, max_depth=7, n_estimators=50, subsample=0.8;, score=0.642 total time=   0.1s\n",
      "[CV 4/5] END colsample_bytree=0.8, learning_rate=0.1, max_depth=7, n_estimators=50, subsample=0.8;, score=0.648 total time=   0.1s\n",
      "[CV 5/5] END colsample_bytree=0.8, learning_rate=0.1, max_depth=7, n_estimators=50, subsample=0.8;, score=0.609 total time=   0.1s\n",
      "[CV 1/5] END colsample_bytree=0.8, learning_rate=0.1, max_depth=7, n_estimators=50, subsample=1.0;, score=0.624 total time=   0.1s\n",
      "[CV 2/5] END colsample_bytree=0.8, learning_rate=0.1, max_depth=7, n_estimators=50, subsample=1.0;, score=0.613 total time=   0.1s\n",
      "[CV 3/5] END colsample_bytree=0.8, learning_rate=0.1, max_depth=7, n_estimators=50, subsample=1.0;, score=0.654 total time=   0.1s\n",
      "[CV 4/5] END colsample_bytree=0.8, learning_rate=0.1, max_depth=7, n_estimators=50, subsample=1.0;, score=0.626 total time=   0.1s\n",
      "[CV 5/5] END colsample_bytree=0.8, learning_rate=0.1, max_depth=7, n_estimators=50, subsample=1.0;, score=0.628 total time=   0.1s\n",
      "[CV 1/5] END colsample_bytree=0.8, learning_rate=0.1, max_depth=7, n_estimators=150, subsample=0.8;, score=0.620 total time=   0.3s\n",
      "[CV 2/5] END colsample_bytree=0.8, learning_rate=0.1, max_depth=7, n_estimators=150, subsample=0.8;, score=0.618 total time=   0.2s\n",
      "[CV 3/5] END colsample_bytree=0.8, learning_rate=0.1, max_depth=7, n_estimators=150, subsample=0.8;, score=0.646 total time=   0.5s\n",
      "[CV 4/5] END colsample_bytree=0.8, learning_rate=0.1, max_depth=7, n_estimators=150, subsample=0.8;, score=0.627 total time=   0.6s\n",
      "[CV 5/5] END colsample_bytree=0.8, learning_rate=0.1, max_depth=7, n_estimators=150, subsample=0.8;, score=0.582 total time=   0.7s\n",
      "[CV 1/5] END colsample_bytree=0.8, learning_rate=0.1, max_depth=7, n_estimators=150, subsample=1.0;, score=0.629 total time=   0.4s\n",
      "[CV 2/5] END colsample_bytree=0.8, learning_rate=0.1, max_depth=7, n_estimators=150, subsample=1.0;, score=0.602 total time=   0.7s\n",
      "[CV 3/5] END colsample_bytree=0.8, learning_rate=0.1, max_depth=7, n_estimators=150, subsample=1.0;, score=0.637 total time=   0.3s\n",
      "[CV 4/5] END colsample_bytree=0.8, learning_rate=0.1, max_depth=7, n_estimators=150, subsample=1.0;, score=0.624 total time=   0.3s\n",
      "[CV 5/5] END colsample_bytree=0.8, learning_rate=0.1, max_depth=7, n_estimators=150, subsample=1.0;, score=0.611 total time=   0.2s\n",
      "[CV 1/5] END colsample_bytree=1.0, learning_rate=0.01, max_depth=3, n_estimators=50, subsample=0.8;, score=0.568 total time=   0.1s\n",
      "[CV 2/5] END colsample_bytree=1.0, learning_rate=0.01, max_depth=3, n_estimators=50, subsample=0.8;, score=0.578 total time=   0.1s\n",
      "[CV 3/5] END colsample_bytree=1.0, learning_rate=0.01, max_depth=3, n_estimators=50, subsample=0.8;, score=0.619 total time=   0.1s\n",
      "[CV 4/5] END colsample_bytree=1.0, learning_rate=0.01, max_depth=3, n_estimators=50, subsample=0.8;, score=0.579 total time=   0.1s\n",
      "[CV 5/5] END colsample_bytree=1.0, learning_rate=0.01, max_depth=3, n_estimators=50, subsample=0.8;, score=0.581 total time=   0.1s\n",
      "[CV 1/5] END colsample_bytree=1.0, learning_rate=0.01, max_depth=3, n_estimators=50, subsample=1.0;, score=0.572 total time=   0.1s\n",
      "[CV 2/5] END colsample_bytree=1.0, learning_rate=0.01, max_depth=3, n_estimators=50, subsample=1.0;, score=0.576 total time=   0.1s\n",
      "[CV 3/5] END colsample_bytree=1.0, learning_rate=0.01, max_depth=3, n_estimators=50, subsample=1.0;, score=0.619 total time=   0.1s\n",
      "[CV 4/5] END colsample_bytree=1.0, learning_rate=0.01, max_depth=3, n_estimators=50, subsample=1.0;, score=0.592 total time=   0.2s\n",
      "[CV 5/5] END colsample_bytree=1.0, learning_rate=0.01, max_depth=3, n_estimators=50, subsample=1.0;, score=0.584 total time=   0.2s\n",
      "[CV 1/5] END colsample_bytree=1.0, learning_rate=0.01, max_depth=3, n_estimators=150, subsample=0.8;, score=0.608 total time=   0.2s\n",
      "[CV 2/5] END colsample_bytree=1.0, learning_rate=0.01, max_depth=3, n_estimators=150, subsample=0.8;, score=0.615 total time=   0.3s\n",
      "[CV 3/5] END colsample_bytree=1.0, learning_rate=0.01, max_depth=3, n_estimators=150, subsample=0.8;, score=0.678 total time=   0.3s\n",
      "[CV 4/5] END colsample_bytree=1.0, learning_rate=0.01, max_depth=3, n_estimators=150, subsample=0.8;, score=0.642 total time=   0.3s\n",
      "[CV 5/5] END colsample_bytree=1.0, learning_rate=0.01, max_depth=3, n_estimators=150, subsample=0.8;, score=0.625 total time=   0.2s\n",
      "[CV 1/5] END colsample_bytree=1.0, learning_rate=0.01, max_depth=3, n_estimators=150, subsample=1.0;, score=0.605 total time=   0.2s\n",
      "[CV 2/5] END colsample_bytree=1.0, learning_rate=0.01, max_depth=3, n_estimators=150, subsample=1.0;, score=0.615 total time=   0.1s\n",
      "[CV 3/5] END colsample_bytree=1.0, learning_rate=0.01, max_depth=3, n_estimators=150, subsample=1.0;, score=0.670 total time=   0.2s\n",
      "[CV 4/5] END colsample_bytree=1.0, learning_rate=0.01, max_depth=3, n_estimators=150, subsample=1.0;, score=0.644 total time=   0.1s\n",
      "[CV 5/5] END colsample_bytree=1.0, learning_rate=0.01, max_depth=3, n_estimators=150, subsample=1.0;, score=0.623 total time=   0.1s\n",
      "[CV 1/5] END colsample_bytree=1.0, learning_rate=0.01, max_depth=5, n_estimators=50, subsample=0.8;, score=0.562 total time=   0.1s\n",
      "[CV 2/5] END colsample_bytree=1.0, learning_rate=0.01, max_depth=5, n_estimators=50, subsample=0.8;, score=0.571 total time=   0.1s\n",
      "[CV 3/5] END colsample_bytree=1.0, learning_rate=0.01, max_depth=5, n_estimators=50, subsample=0.8;, score=0.571 total time=   0.1s\n",
      "[CV 4/5] END colsample_bytree=1.0, learning_rate=0.01, max_depth=5, n_estimators=50, subsample=0.8;, score=0.584 total time=   0.1s\n",
      "[CV 5/5] END colsample_bytree=1.0, learning_rate=0.01, max_depth=5, n_estimators=50, subsample=0.8;, score=0.569 total time=   0.2s\n",
      "[CV 1/5] END colsample_bytree=1.0, learning_rate=0.01, max_depth=5, n_estimators=50, subsample=1.0;, score=0.567 total time=   0.1s\n",
      "[CV 2/5] END colsample_bytree=1.0, learning_rate=0.01, max_depth=5, n_estimators=50, subsample=1.0;, score=0.574 total time=   0.1s\n",
      "[CV 3/5] END colsample_bytree=1.0, learning_rate=0.01, max_depth=5, n_estimators=50, subsample=1.0;, score=0.563 total time=   0.1s\n",
      "[CV 4/5] END colsample_bytree=1.0, learning_rate=0.01, max_depth=5, n_estimators=50, subsample=1.0;, score=0.560 total time=   0.1s\n",
      "[CV 5/5] END colsample_bytree=1.0, learning_rate=0.01, max_depth=5, n_estimators=50, subsample=1.0;, score=0.575 total time=   0.1s\n",
      "[CV 1/5] END colsample_bytree=1.0, learning_rate=0.01, max_depth=5, n_estimators=150, subsample=0.8;, score=0.607 total time=   0.3s\n",
      "[CV 2/5] END colsample_bytree=1.0, learning_rate=0.01, max_depth=5, n_estimators=150, subsample=0.8;, score=0.611 total time=   0.2s\n",
      "[CV 3/5] END colsample_bytree=1.0, learning_rate=0.01, max_depth=5, n_estimators=150, subsample=0.8;, score=0.669 total time=   0.2s\n",
      "[CV 4/5] END colsample_bytree=1.0, learning_rate=0.01, max_depth=5, n_estimators=150, subsample=0.8;, score=0.646 total time=   0.2s\n",
      "[CV 5/5] END colsample_bytree=1.0, learning_rate=0.01, max_depth=5, n_estimators=150, subsample=0.8;, score=0.624 total time=   0.6s\n",
      "[CV 1/5] END colsample_bytree=1.0, learning_rate=0.01, max_depth=5, n_estimators=150, subsample=1.0;, score=0.613 total time=   0.3s\n",
      "[CV 2/5] END colsample_bytree=1.0, learning_rate=0.01, max_depth=5, n_estimators=150, subsample=1.0;, score=0.614 total time=   0.2s\n",
      "[CV 3/5] END colsample_bytree=1.0, learning_rate=0.01, max_depth=5, n_estimators=150, subsample=1.0;, score=0.666 total time=   0.6s\n",
      "[CV 4/5] END colsample_bytree=1.0, learning_rate=0.01, max_depth=5, n_estimators=150, subsample=1.0;, score=0.630 total time=   0.3s\n",
      "[CV 5/5] END colsample_bytree=1.0, learning_rate=0.01, max_depth=5, n_estimators=150, subsample=1.0;, score=0.623 total time=   0.2s\n",
      "[CV 1/5] END colsample_bytree=1.0, learning_rate=0.01, max_depth=7, n_estimators=50, subsample=0.8;, score=0.550 total time=   0.1s\n",
      "[CV 2/5] END colsample_bytree=1.0, learning_rate=0.01, max_depth=7, n_estimators=50, subsample=0.8;, score=0.568 total time=   0.1s\n",
      "[CV 3/5] END colsample_bytree=1.0, learning_rate=0.01, max_depth=7, n_estimators=50, subsample=0.8;, score=0.574 total time=   0.1s\n",
      "[CV 4/5] END colsample_bytree=1.0, learning_rate=0.01, max_depth=7, n_estimators=50, subsample=0.8;, score=0.566 total time=   0.2s\n",
      "[CV 5/5] END colsample_bytree=1.0, learning_rate=0.01, max_depth=7, n_estimators=50, subsample=0.8;, score=0.556 total time=   0.1s\n",
      "[CV 1/5] END colsample_bytree=1.0, learning_rate=0.01, max_depth=7, n_estimators=50, subsample=1.0;, score=0.562 total time=   0.1s\n",
      "[CV 2/5] END colsample_bytree=1.0, learning_rate=0.01, max_depth=7, n_estimators=50, subsample=1.0;, score=0.568 total time=   0.1s\n",
      "[CV 3/5] END colsample_bytree=1.0, learning_rate=0.01, max_depth=7, n_estimators=50, subsample=1.0;, score=0.566 total time=   0.2s\n",
      "[CV 4/5] END colsample_bytree=1.0, learning_rate=0.01, max_depth=7, n_estimators=50, subsample=1.0;, score=0.564 total time=   0.5s\n",
      "[CV 5/5] END colsample_bytree=1.0, learning_rate=0.01, max_depth=7, n_estimators=50, subsample=1.0;, score=0.578 total time=   0.3s\n",
      "[CV 1/5] END colsample_bytree=1.0, learning_rate=0.01, max_depth=7, n_estimators=150, subsample=0.8;, score=0.621 total time=   0.6s\n",
      "[CV 2/5] END colsample_bytree=1.0, learning_rate=0.01, max_depth=7, n_estimators=150, subsample=0.8;, score=0.605 total time=   0.5s\n",
      "[CV 3/5] END colsample_bytree=1.0, learning_rate=0.01, max_depth=7, n_estimators=150, subsample=0.8;, score=0.665 total time=   0.4s\n",
      "[CV 4/5] END colsample_bytree=1.0, learning_rate=0.01, max_depth=7, n_estimators=150, subsample=0.8;, score=0.641 total time=   0.6s\n",
      "[CV 5/5] END colsample_bytree=1.0, learning_rate=0.01, max_depth=7, n_estimators=150, subsample=0.8;, score=0.617 total time=   0.3s\n",
      "[CV 1/5] END colsample_bytree=1.0, learning_rate=0.01, max_depth=7, n_estimators=150, subsample=1.0;, score=0.613 total time=   0.3s\n",
      "[CV 2/5] END colsample_bytree=1.0, learning_rate=0.01, max_depth=7, n_estimators=150, subsample=1.0;, score=0.611 total time=   0.4s\n",
      "[CV 3/5] END colsample_bytree=1.0, learning_rate=0.01, max_depth=7, n_estimators=150, subsample=1.0;, score=0.655 total time=   0.3s\n",
      "[CV 4/5] END colsample_bytree=1.0, learning_rate=0.01, max_depth=7, n_estimators=150, subsample=1.0;, score=0.614 total time=   0.3s\n",
      "[CV 5/5] END colsample_bytree=1.0, learning_rate=0.01, max_depth=7, n_estimators=150, subsample=1.0;, score=0.624 total time=   0.3s\n",
      "[CV 1/5] END colsample_bytree=1.0, learning_rate=0.1, max_depth=3, n_estimators=50, subsample=0.8;, score=0.616 total time=   0.1s\n",
      "[CV 2/5] END colsample_bytree=1.0, learning_rate=0.1, max_depth=3, n_estimators=50, subsample=0.8;, score=0.629 total time=   0.1s\n",
      "[CV 3/5] END colsample_bytree=1.0, learning_rate=0.1, max_depth=3, n_estimators=50, subsample=0.8;, score=0.677 total time=   0.1s\n",
      "[CV 4/5] END colsample_bytree=1.0, learning_rate=0.1, max_depth=3, n_estimators=50, subsample=0.8;, score=0.646 total time=   0.1s\n",
      "[CV 5/5] END colsample_bytree=1.0, learning_rate=0.1, max_depth=3, n_estimators=50, subsample=0.8;, score=0.626 total time=   0.1s\n",
      "[CV 1/5] END colsample_bytree=1.0, learning_rate=0.1, max_depth=3, n_estimators=50, subsample=1.0;, score=0.619 total time=   0.1s\n",
      "[CV 2/5] END colsample_bytree=1.0, learning_rate=0.1, max_depth=3, n_estimators=50, subsample=1.0;, score=0.630 total time=   0.1s\n",
      "[CV 3/5] END colsample_bytree=1.0, learning_rate=0.1, max_depth=3, n_estimators=50, subsample=1.0;, score=0.676 total time=   0.1s\n",
      "[CV 4/5] END colsample_bytree=1.0, learning_rate=0.1, max_depth=3, n_estimators=50, subsample=1.0;, score=0.650 total time=   0.1s\n",
      "[CV 5/5] END colsample_bytree=1.0, learning_rate=0.1, max_depth=3, n_estimators=50, subsample=1.0;, score=0.633 total time=   0.1s\n",
      "[CV 1/5] END colsample_bytree=1.0, learning_rate=0.1, max_depth=3, n_estimators=150, subsample=0.8;, score=0.634 total time=   0.2s\n",
      "[CV 2/5] END colsample_bytree=1.0, learning_rate=0.1, max_depth=3, n_estimators=150, subsample=0.8;, score=0.620 total time=   0.1s\n",
      "[CV 3/5] END colsample_bytree=1.0, learning_rate=0.1, max_depth=3, n_estimators=150, subsample=0.8;, score=0.672 total time=   0.4s\n",
      "[CV 4/5] END colsample_bytree=1.0, learning_rate=0.1, max_depth=3, n_estimators=150, subsample=0.8;, score=0.650 total time=   0.2s\n",
      "[CV 5/5] END colsample_bytree=1.0, learning_rate=0.1, max_depth=3, n_estimators=150, subsample=0.8;, score=0.631 total time=   0.2s\n",
      "[CV 1/5] END colsample_bytree=1.0, learning_rate=0.1, max_depth=3, n_estimators=150, subsample=1.0;, score=0.624 total time=   0.4s\n",
      "[CV 2/5] END colsample_bytree=1.0, learning_rate=0.1, max_depth=3, n_estimators=150, subsample=1.0;, score=0.631 total time=   0.3s\n",
      "[CV 3/5] END colsample_bytree=1.0, learning_rate=0.1, max_depth=3, n_estimators=150, subsample=1.0;, score=0.669 total time=   0.1s\n",
      "[CV 4/5] END colsample_bytree=1.0, learning_rate=0.1, max_depth=3, n_estimators=150, subsample=1.0;, score=0.643 total time=   0.2s\n",
      "[CV 5/5] END colsample_bytree=1.0, learning_rate=0.1, max_depth=3, n_estimators=150, subsample=1.0;, score=0.618 total time=   0.5s\n",
      "[CV 1/5] END colsample_bytree=1.0, learning_rate=0.1, max_depth=5, n_estimators=50, subsample=0.8;, score=0.616 total time=   0.1s\n",
      "[CV 2/5] END colsample_bytree=1.0, learning_rate=0.1, max_depth=5, n_estimators=50, subsample=0.8;, score=0.620 total time=   0.1s\n",
      "[CV 3/5] END colsample_bytree=1.0, learning_rate=0.1, max_depth=5, n_estimators=50, subsample=0.8;, score=0.654 total time=   0.1s\n",
      "[CV 4/5] END colsample_bytree=1.0, learning_rate=0.1, max_depth=5, n_estimators=50, subsample=0.8;, score=0.635 total time=   0.1s\n",
      "[CV 5/5] END colsample_bytree=1.0, learning_rate=0.1, max_depth=5, n_estimators=50, subsample=0.8;, score=0.617 total time=   0.1s\n",
      "[CV 1/5] END colsample_bytree=1.0, learning_rate=0.1, max_depth=5, n_estimators=50, subsample=1.0;, score=0.613 total time=   0.1s\n",
      "[CV 2/5] END colsample_bytree=1.0, learning_rate=0.1, max_depth=5, n_estimators=50, subsample=1.0;, score=0.612 total time=   0.1s\n",
      "[CV 3/5] END colsample_bytree=1.0, learning_rate=0.1, max_depth=5, n_estimators=50, subsample=1.0;, score=0.676 total time=   0.1s\n",
      "[CV 4/5] END colsample_bytree=1.0, learning_rate=0.1, max_depth=5, n_estimators=50, subsample=1.0;, score=0.648 total time=   0.1s\n",
      "[CV 5/5] END colsample_bytree=1.0, learning_rate=0.1, max_depth=5, n_estimators=50, subsample=1.0;, score=0.614 total time=   0.1s\n",
      "[CV 1/5] END colsample_bytree=1.0, learning_rate=0.1, max_depth=5, n_estimators=150, subsample=0.8;, score=0.618 total time=   0.2s\n",
      "[CV 2/5] END colsample_bytree=1.0, learning_rate=0.1, max_depth=5, n_estimators=150, subsample=0.8;, score=0.618 total time=   0.6s\n",
      "[CV 3/5] END colsample_bytree=1.0, learning_rate=0.1, max_depth=5, n_estimators=150, subsample=0.8;, score=0.639 total time=   0.5s\n",
      "[CV 4/5] END colsample_bytree=1.0, learning_rate=0.1, max_depth=5, n_estimators=150, subsample=0.8;, score=0.630 total time=   0.4s\n",
      "[CV 5/5] END colsample_bytree=1.0, learning_rate=0.1, max_depth=5, n_estimators=150, subsample=0.8;, score=0.616 total time=   0.3s\n",
      "[CV 1/5] END colsample_bytree=1.0, learning_rate=0.1, max_depth=5, n_estimators=150, subsample=1.0;, score=0.611 total time=   0.2s\n",
      "[CV 2/5] END colsample_bytree=1.0, learning_rate=0.1, max_depth=5, n_estimators=150, subsample=1.0;, score=0.616 total time=   0.4s\n",
      "[CV 3/5] END colsample_bytree=1.0, learning_rate=0.1, max_depth=5, n_estimators=150, subsample=1.0;, score=0.643 total time=   0.3s\n",
      "[CV 4/5] END colsample_bytree=1.0, learning_rate=0.1, max_depth=5, n_estimators=150, subsample=1.0;, score=0.635 total time=   0.4s\n",
      "[CV 5/5] END colsample_bytree=1.0, learning_rate=0.1, max_depth=5, n_estimators=150, subsample=1.0;, score=0.611 total time=   0.2s\n",
      "[CV 1/5] END colsample_bytree=1.0, learning_rate=0.1, max_depth=7, n_estimators=50, subsample=0.8;, score=0.616 total time=   0.1s\n",
      "[CV 2/5] END colsample_bytree=1.0, learning_rate=0.1, max_depth=7, n_estimators=50, subsample=0.8;, score=0.628 total time=   0.1s\n",
      "[CV 3/5] END colsample_bytree=1.0, learning_rate=0.1, max_depth=7, n_estimators=50, subsample=0.8;, score=0.658 total time=   0.1s\n",
      "[CV 4/5] END colsample_bytree=1.0, learning_rate=0.1, max_depth=7, n_estimators=50, subsample=0.8;, score=0.639 total time=   0.2s\n",
      "[CV 5/5] END colsample_bytree=1.0, learning_rate=0.1, max_depth=7, n_estimators=50, subsample=0.8;, score=0.621 total time=   0.1s\n",
      "[CV 1/5] END colsample_bytree=1.0, learning_rate=0.1, max_depth=7, n_estimators=50, subsample=1.0;, score=0.626 total time=   0.1s\n",
      "[CV 2/5] END colsample_bytree=1.0, learning_rate=0.1, max_depth=7, n_estimators=50, subsample=1.0;, score=0.625 total time=   0.1s\n",
      "[CV 3/5] END colsample_bytree=1.0, learning_rate=0.1, max_depth=7, n_estimators=50, subsample=1.0;, score=0.659 total time=   0.1s\n",
      "[CV 4/5] END colsample_bytree=1.0, learning_rate=0.1, max_depth=7, n_estimators=50, subsample=1.0;, score=0.645 total time=   0.1s\n",
      "[CV 5/5] END colsample_bytree=1.0, learning_rate=0.1, max_depth=7, n_estimators=50, subsample=1.0;, score=0.627 total time=   0.1s\n",
      "[CV 1/5] END colsample_bytree=1.0, learning_rate=0.1, max_depth=7, n_estimators=150, subsample=0.8;, score=0.618 total time=   0.4s\n",
      "[CV 2/5] END colsample_bytree=1.0, learning_rate=0.1, max_depth=7, n_estimators=150, subsample=0.8;, score=0.616 total time=   0.5s\n",
      "[CV 3/5] END colsample_bytree=1.0, learning_rate=0.1, max_depth=7, n_estimators=150, subsample=0.8;, score=0.628 total time=   0.6s\n",
      "[CV 4/5] END colsample_bytree=1.0, learning_rate=0.1, max_depth=7, n_estimators=150, subsample=0.8;, score=0.639 total time=   0.4s\n",
      "[CV 5/5] END colsample_bytree=1.0, learning_rate=0.1, max_depth=7, n_estimators=150, subsample=0.8;, score=0.611 total time=   0.9s\n",
      "[CV 1/5] END colsample_bytree=1.0, learning_rate=0.1, max_depth=7, n_estimators=150, subsample=1.0;, score=0.617 total time=   0.4s\n",
      "[CV 2/5] END colsample_bytree=1.0, learning_rate=0.1, max_depth=7, n_estimators=150, subsample=1.0;, score=0.620 total time=   0.3s\n",
      "[CV 3/5] END colsample_bytree=1.0, learning_rate=0.1, max_depth=7, n_estimators=150, subsample=1.0;, score=0.645 total time=   0.3s\n",
      "[CV 4/5] END colsample_bytree=1.0, learning_rate=0.1, max_depth=7, n_estimators=150, subsample=1.0;, score=0.646 total time=   0.9s\n",
      "[CV 5/5] END colsample_bytree=1.0, learning_rate=0.1, max_depth=7, n_estimators=150, subsample=1.0;, score=0.598 total time=   0.6s\n"
     ]
    },
    {
     "name": "stderr",
     "output_type": "stream",
     "text": [
      "INFO:root:[XGBoost] 🔍 Best F1_macro: 0.6438\n",
      "[XGBoost] 🔍 Best Params: {'colsample_bytree': 0.8, 'learning_rate': 0.1, 'max_depth': 3, 'n_estimators': 50, 'subsample': 1.0}\n"
     ]
    }
   ],
   "source": [
    "model_name = 'XGBoost'\n",
    "start = time.time()\n",
    "model = model_factory(model_name, ufc_data, model_params, scoring=\"f1_macro\")\n",
    "end = time.time()\n",
    "duration = end - start"
   ]
  },
  {
   "cell_type": "markdown",
   "id": "9c3e0470-8789-43da-bc6c-7100b1a49c82",
   "metadata": {},
   "source": [
    "### 🔍 XGBoost Metrics"
   ]
  },
  {
   "cell_type": "code",
   "execution_count": 41,
   "id": "c77ee65c-c97f-4745-a6d1-007989dc615a",
   "metadata": {},
   "outputs": [
    {
     "data": {
      "text/html": [
       "<pre style=\"white-space:pre;overflow-x:auto;line-height:normal;font-family:Menlo,'DejaVu Sans Mono',consolas,'Courier New',monospace\"><span style=\"font-weight: bold\">{</span>\n",
       "    <span style=\"color: #008000; text-decoration-color: #008000\">'Accuracy'</span>: <span style=\"color: #008080; text-decoration-color: #008080; font-weight: bold\">0.6578</span>,\n",
       "    <span style=\"color: #008000; text-decoration-color: #008000\">'Balanced Accuracy'</span>: <span style=\"color: #800080; text-decoration-color: #800080; font-weight: bold\">np.float64</span><span style=\"font-weight: bold\">(</span><span style=\"color: #008080; text-decoration-color: #008080; font-weight: bold\">0.6332</span><span style=\"font-weight: bold\">)</span>,\n",
       "    <span style=\"color: #008000; text-decoration-color: #008000\">'Precision Red'</span>: <span style=\"color: #008080; text-decoration-color: #008080; font-weight: bold\">0.6765</span>,\n",
       "    <span style=\"color: #008000; text-decoration-color: #008000\">'Recall Red'</span>: <span style=\"color: #008080; text-decoration-color: #008080; font-weight: bold\">0.7862</span>,\n",
       "    <span style=\"color: #008000; text-decoration-color: #008000\">'F1 Red'</span>: <span style=\"color: #008080; text-decoration-color: #008080; font-weight: bold\">0.7273</span>,\n",
       "    <span style=\"color: #008000; text-decoration-color: #008000\">'Precision Blue'</span>: <span style=\"color: #008080; text-decoration-color: #008080; font-weight: bold\">0.6189</span>,\n",
       "    <span style=\"color: #008000; text-decoration-color: #008000\">'Recall Blue'</span>: <span style=\"color: #008080; text-decoration-color: #008080; font-weight: bold\">0.4802</span>,\n",
       "    <span style=\"color: #008000; text-decoration-color: #008000\">'F1 Blue'</span>: <span style=\"color: #008080; text-decoration-color: #008080; font-weight: bold\">0.5408</span>,\n",
       "    <span style=\"color: #008000; text-decoration-color: #008000\">'F1 Macro'</span>: <span style=\"color: #008080; text-decoration-color: #008080; font-weight: bold\">0.634</span>,\n",
       "    <span style=\"color: #008000; text-decoration-color: #008000\">'ROC AUC'</span>: <span style=\"color: #800080; text-decoration-color: #800080; font-weight: bold\">np.float64</span><span style=\"font-weight: bold\">(</span><span style=\"color: #008080; text-decoration-color: #008080; font-weight: bold\">0.7068</span><span style=\"font-weight: bold\">)</span>,\n",
       "    <span style=\"color: #008000; text-decoration-color: #008000\">'Brier Score'</span>: <span style=\"color: #800080; text-decoration-color: #800080; font-weight: bold\">np.float64</span><span style=\"font-weight: bold\">(</span><span style=\"color: #008080; text-decoration-color: #008080; font-weight: bold\">0.2122</span><span style=\"font-weight: bold\">)</span>,\n",
       "    <span style=\"color: #008000; text-decoration-color: #008000\">'MCC'</span>: <span style=\"color: #800080; text-decoration-color: #800080; font-weight: bold\">np.float64</span><span style=\"font-weight: bold\">(</span><span style=\"color: #008080; text-decoration-color: #008080; font-weight: bold\">0.2806</span><span style=\"font-weight: bold\">)</span>,\n",
       "    <span style=\"color: #008000; text-decoration-color: #008000\">'Kappa'</span>: <span style=\"color: #800080; text-decoration-color: #800080; font-weight: bold\">np.float64</span><span style=\"font-weight: bold\">(</span><span style=\"color: #008080; text-decoration-color: #008080; font-weight: bold\">0.2749</span><span style=\"font-weight: bold\">)</span>\n",
       "<span style=\"font-weight: bold\">}</span>\n",
       "</pre>\n"
      ],
      "text/plain": [
       "\u001b[1m{\u001b[0m\n",
       "    \u001b[32m'Accuracy'\u001b[0m: \u001b[1;36m0.6578\u001b[0m,\n",
       "    \u001b[32m'Balanced Accuracy'\u001b[0m: \u001b[1;35mnp.float64\u001b[0m\u001b[1m(\u001b[0m\u001b[1;36m0.6332\u001b[0m\u001b[1m)\u001b[0m,\n",
       "    \u001b[32m'Precision Red'\u001b[0m: \u001b[1;36m0.6765\u001b[0m,\n",
       "    \u001b[32m'Recall Red'\u001b[0m: \u001b[1;36m0.7862\u001b[0m,\n",
       "    \u001b[32m'F1 Red'\u001b[0m: \u001b[1;36m0.7273\u001b[0m,\n",
       "    \u001b[32m'Precision Blue'\u001b[0m: \u001b[1;36m0.6189\u001b[0m,\n",
       "    \u001b[32m'Recall Blue'\u001b[0m: \u001b[1;36m0.4802\u001b[0m,\n",
       "    \u001b[32m'F1 Blue'\u001b[0m: \u001b[1;36m0.5408\u001b[0m,\n",
       "    \u001b[32m'F1 Macro'\u001b[0m: \u001b[1;36m0.634\u001b[0m,\n",
       "    \u001b[32m'ROC AUC'\u001b[0m: \u001b[1;35mnp.float64\u001b[0m\u001b[1m(\u001b[0m\u001b[1;36m0.7068\u001b[0m\u001b[1m)\u001b[0m,\n",
       "    \u001b[32m'Brier Score'\u001b[0m: \u001b[1;35mnp.float64\u001b[0m\u001b[1m(\u001b[0m\u001b[1;36m0.2122\u001b[0m\u001b[1m)\u001b[0m,\n",
       "    \u001b[32m'MCC'\u001b[0m: \u001b[1;35mnp.float64\u001b[0m\u001b[1m(\u001b[0m\u001b[1;36m0.2806\u001b[0m\u001b[1m)\u001b[0m,\n",
       "    \u001b[32m'Kappa'\u001b[0m: \u001b[1;35mnp.float64\u001b[0m\u001b[1m(\u001b[0m\u001b[1;36m0.2749\u001b[0m\u001b[1m)\u001b[0m\n",
       "\u001b[1m}\u001b[0m\n"
      ]
     },
     "metadata": {},
     "output_type": "display_data"
    }
   ],
   "source": [
    "metrics = evaluate_metrics(model, ufc_data)\n",
    "print(metrics)"
   ]
  },
  {
   "cell_type": "markdown",
   "id": "685c7a9b-8788-42c0-9869-5ef38d780d72",
   "metadata": {},
   "source": [
    "### 📝 Log Training Results"
   ]
  },
  {
   "cell_type": "code",
   "execution_count": 42,
   "id": "60673ffa-3ab2-400c-937b-ada0a83606c3",
   "metadata": {},
   "outputs": [
    {
     "name": "stderr",
     "output_type": "stream",
     "text": [
      "INFO:src.helpers:✅ Training logged to ../data/results/training_log_v2.csv\n"
     ]
    }
   ],
   "source": [
    "log_training_result(model_name, model.best_params_, metrics, duration)"
   ]
  },
  {
   "cell_type": "markdown",
   "id": "081cd44a-f270-495d-9988-20dc1e7ed785",
   "metadata": {},
   "source": [
    "### 💾 Save Model "
   ]
  },
  {
   "cell_type": "code",
   "execution_count": 43,
   "id": "6f66d09f-c6e2-4ba8-8335-e29fd6aa4438",
   "metadata": {},
   "outputs": [
    {
     "name": "stderr",
     "output_type": "stream",
     "text": [
      "INFO:src.io_model:✅ Model 'XGBoost' saved to: /home/mlioi/ufc-predictor/models/xgb_best.pkl\n"
     ]
    }
   ],
   "source": [
    "save_model(model, name=file_model_name[model_name])"
   ]
  },
  {
   "cell_type": "markdown",
   "id": "1dcac6fc-aa74-4d40-b0f8-a2258956652f",
   "metadata": {},
   "source": [
    "# 🔹 UFC Machine Learning Training (without Odds)"
   ]
  },
  {
   "cell_type": "markdown",
   "id": "07af05a7-5a0f-4183-98e4-6152d88f03e0",
   "metadata": {},
   "source": [
    "##  KNN Model Training"
   ]
  },
  {
   "cell_type": "markdown",
   "id": "6e217f28-ca71-4d7f-ad5c-2d4dc20351b7",
   "metadata": {},
   "source": [
    "### 🚀 KNN Training "
   ]
  },
  {
   "cell_type": "code",
   "execution_count": 44,
   "id": "9a1e6f41-e78e-41e0-b2d3-41775fefc693",
   "metadata": {
    "scrolled": true
   },
   "outputs": [
    {
     "name": "stderr",
     "output_type": "stream",
     "text": [
      "INFO:src.model_factory:[K-Nearest Neighbors] UFC GridSearchCV Training (F1_macro)\n",
      "INFO:root:[K-Nearest Neighbors] 🤖 Training...\n"
     ]
    },
    {
     "name": "stdout",
     "output_type": "stream",
     "text": [
      "Fitting 5 folds for each of 20 candidates, totalling 100 fits\n",
      "[CV 1/5] END metric=euclidean, n_neighbors=3, weights=uniform;, score=0.531 total time=   0.1s\n",
      "[CV 2/5] END metric=euclidean, n_neighbors=3, weights=uniform;, score=0.498 total time=   0.1s\n",
      "[CV 3/5] END metric=euclidean, n_neighbors=3, weights=uniform;, score=0.549 total time=   0.1s\n",
      "[CV 4/5] END metric=euclidean, n_neighbors=3, weights=uniform;, score=0.541 total time=   0.1s\n",
      "[CV 5/5] END metric=euclidean, n_neighbors=3, weights=uniform;, score=0.544 total time=   0.1s\n",
      "[CV 1/5] END metric=euclidean, n_neighbors=3, weights=distance;, score=0.530 total time=   0.0s\n",
      "[CV 2/5] END metric=euclidean, n_neighbors=3, weights=distance;, score=0.501 total time=   0.0s\n",
      "[CV 3/5] END metric=euclidean, n_neighbors=3, weights=distance;, score=0.551 total time=   0.0s\n",
      "[CV 4/5] END metric=euclidean, n_neighbors=3, weights=distance;, score=0.540 total time=   0.0s\n",
      "[CV 5/5] END metric=euclidean, n_neighbors=3, weights=distance;, score=0.541 total time=   0.0s\n",
      "[CV 1/5] END metric=euclidean, n_neighbors=6, weights=uniform;, score=0.512 total time=   0.1s\n",
      "[CV 2/5] END metric=euclidean, n_neighbors=6, weights=uniform;, score=0.478 total time=   0.1s\n",
      "[CV 3/5] END metric=euclidean, n_neighbors=6, weights=uniform;, score=0.517 total time=   0.1s\n",
      "[CV 4/5] END metric=euclidean, n_neighbors=6, weights=uniform;, score=0.511 total time=   0.1s\n",
      "[CV 5/5] END metric=euclidean, n_neighbors=6, weights=uniform;, score=0.510 total time=   0.1s\n",
      "[CV 1/5] END metric=euclidean, n_neighbors=6, weights=distance;, score=0.525 total time=   0.0s\n",
      "[CV 2/5] END metric=euclidean, n_neighbors=6, weights=distance;, score=0.512 total time=   0.0s\n",
      "[CV 3/5] END metric=euclidean, n_neighbors=6, weights=distance;, score=0.547 total time=   0.0s\n",
      "[CV 4/5] END metric=euclidean, n_neighbors=6, weights=distance;, score=0.528 total time=   0.0s\n",
      "[CV 5/5] END metric=euclidean, n_neighbors=6, weights=distance;, score=0.533 total time=   0.0s\n",
      "[CV 1/5] END metric=euclidean, n_neighbors=9, weights=uniform;, score=0.523 total time=   0.1s\n",
      "[CV 2/5] END metric=euclidean, n_neighbors=9, weights=uniform;, score=0.501 total time=   0.1s\n",
      "[CV 3/5] END metric=euclidean, n_neighbors=9, weights=uniform;, score=0.548 total time=   0.1s\n",
      "[CV 4/5] END metric=euclidean, n_neighbors=9, weights=uniform;, score=0.516 total time=   0.1s\n",
      "[CV 5/5] END metric=euclidean, n_neighbors=9, weights=uniform;, score=0.535 total time=   0.1s\n",
      "[CV 1/5] END metric=euclidean, n_neighbors=9, weights=distance;, score=0.522 total time=   0.0s\n",
      "[CV 2/5] END metric=euclidean, n_neighbors=9, weights=distance;, score=0.502 total time=   0.0s\n",
      "[CV 3/5] END metric=euclidean, n_neighbors=9, weights=distance;, score=0.548 total time=   0.0s\n",
      "[CV 4/5] END metric=euclidean, n_neighbors=9, weights=distance;, score=0.517 total time=   0.0s\n",
      "[CV 5/5] END metric=euclidean, n_neighbors=9, weights=distance;, score=0.535 total time=   0.0s\n",
      "[CV 1/5] END metric=euclidean, n_neighbors=12, weights=uniform;, score=0.508 total time=   0.1s\n",
      "[CV 2/5] END metric=euclidean, n_neighbors=12, weights=uniform;, score=0.498 total time=   0.1s\n",
      "[CV 3/5] END metric=euclidean, n_neighbors=12, weights=uniform;, score=0.543 total time=   0.1s\n",
      "[CV 4/5] END metric=euclidean, n_neighbors=12, weights=uniform;, score=0.516 total time=   0.1s\n",
      "[CV 5/5] END metric=euclidean, n_neighbors=12, weights=uniform;, score=0.511 total time=   0.1s\n",
      "[CV 1/5] END metric=euclidean, n_neighbors=12, weights=distance;, score=0.529 total time=   0.0s\n",
      "[CV 2/5] END metric=euclidean, n_neighbors=12, weights=distance;, score=0.504 total time=   0.0s\n",
      "[CV 3/5] END metric=euclidean, n_neighbors=12, weights=distance;, score=0.556 total time=   0.0s\n",
      "[CV 4/5] END metric=euclidean, n_neighbors=12, weights=distance;, score=0.524 total time=   0.0s\n",
      "[CV 5/5] END metric=euclidean, n_neighbors=12, weights=distance;, score=0.540 total time=   0.0s\n",
      "[CV 1/5] END metric=euclidean, n_neighbors=15, weights=uniform;, score=0.514 total time=   0.1s\n",
      "[CV 2/5] END metric=euclidean, n_neighbors=15, weights=uniform;, score=0.506 total time=   0.1s\n",
      "[CV 3/5] END metric=euclidean, n_neighbors=15, weights=uniform;, score=0.531 total time=   0.1s\n",
      "[CV 4/5] END metric=euclidean, n_neighbors=15, weights=uniform;, score=0.538 total time=   0.1s\n",
      "[CV 5/5] END metric=euclidean, n_neighbors=15, weights=uniform;, score=0.545 total time=   0.1s\n",
      "[CV 1/5] END metric=euclidean, n_neighbors=15, weights=distance;, score=0.511 total time=   0.0s\n",
      "[CV 2/5] END metric=euclidean, n_neighbors=15, weights=distance;, score=0.506 total time=   0.0s\n",
      "[CV 3/5] END metric=euclidean, n_neighbors=15, weights=distance;, score=0.530 total time=   0.0s\n",
      "[CV 4/5] END metric=euclidean, n_neighbors=15, weights=distance;, score=0.531 total time=   0.0s\n",
      "[CV 5/5] END metric=euclidean, n_neighbors=15, weights=distance;, score=0.550 total time=   0.0s\n",
      "[CV 1/5] END metric=manhattan, n_neighbors=3, weights=uniform;, score=0.512 total time=   0.1s\n",
      "[CV 2/5] END metric=manhattan, n_neighbors=3, weights=uniform;, score=0.520 total time=   0.1s\n",
      "[CV 3/5] END metric=manhattan, n_neighbors=3, weights=uniform;, score=0.529 total time=   0.1s\n",
      "[CV 4/5] END metric=manhattan, n_neighbors=3, weights=uniform;, score=0.560 total time=   0.1s\n",
      "[CV 5/5] END metric=manhattan, n_neighbors=3, weights=uniform;, score=0.544 total time=   0.1s\n",
      "[CV 1/5] END metric=manhattan, n_neighbors=3, weights=distance;, score=0.512 total time=   0.0s\n",
      "[CV 2/5] END metric=manhattan, n_neighbors=3, weights=distance;, score=0.522 total time=   0.0s\n",
      "[CV 3/5] END metric=manhattan, n_neighbors=3, weights=distance;, score=0.530 total time=   0.0s\n",
      "[CV 4/5] END metric=manhattan, n_neighbors=3, weights=distance;, score=0.560 total time=   0.0s\n",
      "[CV 5/5] END metric=manhattan, n_neighbors=3, weights=distance;, score=0.545 total time=   0.0s\n",
      "[CV 1/5] END metric=manhattan, n_neighbors=6, weights=uniform;, score=0.480 total time=   0.1s\n",
      "[CV 2/5] END metric=manhattan, n_neighbors=6, weights=uniform;, score=0.489 total time=   0.1s\n",
      "[CV 3/5] END metric=manhattan, n_neighbors=6, weights=uniform;, score=0.499 total time=   0.1s\n",
      "[CV 4/5] END metric=manhattan, n_neighbors=6, weights=uniform;, score=0.513 total time=   0.1s\n",
      "[CV 5/5] END metric=manhattan, n_neighbors=6, weights=uniform;, score=0.502 total time=   0.1s\n",
      "[CV 1/5] END metric=manhattan, n_neighbors=6, weights=distance;, score=0.513 total time=   0.0s\n",
      "[CV 2/5] END metric=manhattan, n_neighbors=6, weights=distance;, score=0.511 total time=   0.0s\n",
      "[CV 3/5] END metric=manhattan, n_neighbors=6, weights=distance;, score=0.543 total time=   0.0s\n",
      "[CV 4/5] END metric=manhattan, n_neighbors=6, weights=distance;, score=0.544 total time=   0.0s\n",
      "[CV 5/5] END metric=manhattan, n_neighbors=6, weights=distance;, score=0.529 total time=   0.0s\n",
      "[CV 1/5] END metric=manhattan, n_neighbors=9, weights=uniform;, score=0.536 total time=   0.1s\n",
      "[CV 2/5] END metric=manhattan, n_neighbors=9, weights=uniform;, score=0.505 total time=   0.1s\n",
      "[CV 3/5] END metric=manhattan, n_neighbors=9, weights=uniform;, score=0.547 total time=   0.1s\n",
      "[CV 4/5] END metric=manhattan, n_neighbors=9, weights=uniform;, score=0.548 total time=   0.1s\n",
      "[CV 5/5] END metric=manhattan, n_neighbors=9, weights=uniform;, score=0.516 total time=   0.1s\n",
      "[CV 1/5] END metric=manhattan, n_neighbors=9, weights=distance;, score=0.535 total time=   0.0s\n",
      "[CV 2/5] END metric=manhattan, n_neighbors=9, weights=distance;, score=0.509 total time=   0.0s\n",
      "[CV 3/5] END metric=manhattan, n_neighbors=9, weights=distance;, score=0.548 total time=   0.0s\n",
      "[CV 4/5] END metric=manhattan, n_neighbors=9, weights=distance;, score=0.544 total time=   0.0s\n",
      "[CV 5/5] END metric=manhattan, n_neighbors=9, weights=distance;, score=0.518 total time=   0.0s\n",
      "[CV 1/5] END metric=manhattan, n_neighbors=12, weights=uniform;, score=0.504 total time=   0.1s\n",
      "[CV 2/5] END metric=manhattan, n_neighbors=12, weights=uniform;, score=0.496 total time=   0.1s\n",
      "[CV 3/5] END metric=manhattan, n_neighbors=12, weights=uniform;, score=0.527 total time=   0.1s\n",
      "[CV 4/5] END metric=manhattan, n_neighbors=12, weights=uniform;, score=0.535 total time=   0.1s\n",
      "[CV 5/5] END metric=manhattan, n_neighbors=12, weights=uniform;, score=0.498 total time=   0.1s\n",
      "[CV 1/5] END metric=manhattan, n_neighbors=12, weights=distance;, score=0.520 total time=   0.0s\n",
      "[CV 2/5] END metric=manhattan, n_neighbors=12, weights=distance;, score=0.517 total time=   0.0s\n",
      "[CV 3/5] END metric=manhattan, n_neighbors=12, weights=distance;, score=0.544 total time=   0.0s\n",
      "[CV 4/5] END metric=manhattan, n_neighbors=12, weights=distance;, score=0.547 total time=   0.0s\n",
      "[CV 5/5] END metric=manhattan, n_neighbors=12, weights=distance;, score=0.526 total time=   0.0s\n",
      "[CV 1/5] END metric=manhattan, n_neighbors=15, weights=uniform;, score=0.514 total time=   0.1s\n",
      "[CV 2/5] END metric=manhattan, n_neighbors=15, weights=uniform;, score=0.515 total time=   0.1s\n",
      "[CV 3/5] END metric=manhattan, n_neighbors=15, weights=uniform;, score=0.544 total time=   0.1s\n",
      "[CV 4/5] END metric=manhattan, n_neighbors=15, weights=uniform;, score=0.545 total time=   0.1s\n",
      "[CV 5/5] END metric=manhattan, n_neighbors=15, weights=uniform;, score=0.526 total time=   0.1s\n",
      "[CV 1/5] END metric=manhattan, n_neighbors=15, weights=distance;, score=0.519 total time=   0.0s\n",
      "[CV 2/5] END metric=manhattan, n_neighbors=15, weights=distance;, score=0.519 total time=   0.0s\n",
      "[CV 3/5] END metric=manhattan, n_neighbors=15, weights=distance;, score=0.548 total time=   0.0s\n",
      "[CV 4/5] END metric=manhattan, n_neighbors=15, weights=distance;, score=0.543 total time=   0.0s\n",
      "[CV 5/5] END metric=manhattan, n_neighbors=15, weights=distance;, score=0.529 total time=   0.0s\n"
     ]
    },
    {
     "name": "stderr",
     "output_type": "stream",
     "text": [
      "INFO:root:[K-Nearest Neighbors] 🔍 Best F1_macro: 0.5336\n",
      "[K-Nearest Neighbors] 🔍 Best Params: {'metric': 'manhattan', 'n_neighbors': 3, 'weights': 'distance'}\n"
     ]
    }
   ],
   "source": [
    "model_name = 'K-Nearest Neighbors'\n",
    "start = time.time()\n",
    "model = model_factory(model_name, ufc_data_no_odds, model_params, scoring=\"f1_macro\")\n",
    "end = time.time()\n",
    "duration = end - start"
   ]
  },
  {
   "cell_type": "markdown",
   "id": "3500d01f-d078-48e9-80e4-478c027a2130",
   "metadata": {},
   "source": [
    "### 🔍 KNN Metrics"
   ]
  },
  {
   "cell_type": "code",
   "execution_count": 45,
   "id": "44472b8d-7eca-4c49-9ad0-089e08faa5fc",
   "metadata": {},
   "outputs": [
    {
     "data": {
      "text/html": [
       "<pre style=\"white-space:pre;overflow-x:auto;line-height:normal;font-family:Menlo,'DejaVu Sans Mono',consolas,'Courier New',monospace\"><span style=\"font-weight: bold\">{</span>\n",
       "    <span style=\"color: #008000; text-decoration-color: #008000\">'Accuracy'</span>: <span style=\"color: #008080; text-decoration-color: #008080; font-weight: bold\">0.5254</span>,\n",
       "    <span style=\"color: #008000; text-decoration-color: #008000\">'Balanced Accuracy'</span>: <span style=\"color: #800080; text-decoration-color: #800080; font-weight: bold\">np.float64</span><span style=\"font-weight: bold\">(</span><span style=\"color: #008080; text-decoration-color: #008080; font-weight: bold\">0.5101</span><span style=\"font-weight: bold\">)</span>,\n",
       "    <span style=\"color: #008000; text-decoration-color: #008000\">'Precision Red'</span>: <span style=\"color: #008080; text-decoration-color: #008080; font-weight: bold\">0.5886</span>,\n",
       "    <span style=\"color: #008000; text-decoration-color: #008000\">'Recall Red'</span>: <span style=\"color: #008080; text-decoration-color: #008080; font-weight: bold\">0.6055</span>,\n",
       "    <span style=\"color: #008000; text-decoration-color: #008000\">'F1 Red'</span>: <span style=\"color: #008080; text-decoration-color: #008080; font-weight: bold\">0.5969</span>,\n",
       "    <span style=\"color: #008000; text-decoration-color: #008000\">'Precision Blue'</span>: <span style=\"color: #008080; text-decoration-color: #008080; font-weight: bold\">0.4318</span>,\n",
       "    <span style=\"color: #008000; text-decoration-color: #008000\">'Recall Blue'</span>: <span style=\"color: #008080; text-decoration-color: #008080; font-weight: bold\">0.4147</span>,\n",
       "    <span style=\"color: #008000; text-decoration-color: #008000\">'F1 Blue'</span>: <span style=\"color: #008080; text-decoration-color: #008080; font-weight: bold\">0.4231</span>,\n",
       "    <span style=\"color: #008000; text-decoration-color: #008000\">'F1 Macro'</span>: <span style=\"color: #008080; text-decoration-color: #008080; font-weight: bold\">0.51</span>,\n",
       "    <span style=\"color: #008000; text-decoration-color: #008000\">'ROC AUC'</span>: <span style=\"color: #800080; text-decoration-color: #800080; font-weight: bold\">np.float64</span><span style=\"font-weight: bold\">(</span><span style=\"color: #008080; text-decoration-color: #008080; font-weight: bold\">0.5058</span><span style=\"font-weight: bold\">)</span>,\n",
       "    <span style=\"color: #008000; text-decoration-color: #008000\">'Brier Score'</span>: <span style=\"color: #800080; text-decoration-color: #800080; font-weight: bold\">np.float64</span><span style=\"font-weight: bold\">(</span><span style=\"color: #008080; text-decoration-color: #008080; font-weight: bold\">0.3295</span><span style=\"font-weight: bold\">)</span>,\n",
       "    <span style=\"color: #008000; text-decoration-color: #008000\">'MCC'</span>: <span style=\"color: #800080; text-decoration-color: #800080; font-weight: bold\">np.float64</span><span style=\"font-weight: bold\">(</span><span style=\"color: #008080; text-decoration-color: #008080; font-weight: bold\">0.0203</span><span style=\"font-weight: bold\">)</span>,\n",
       "    <span style=\"color: #008000; text-decoration-color: #008000\">'Kappa'</span>: <span style=\"color: #800080; text-decoration-color: #800080; font-weight: bold\">np.float64</span><span style=\"font-weight: bold\">(</span><span style=\"color: #008080; text-decoration-color: #008080; font-weight: bold\">0.0202</span><span style=\"font-weight: bold\">)</span>\n",
       "<span style=\"font-weight: bold\">}</span>\n",
       "</pre>\n"
      ],
      "text/plain": [
       "\u001b[1m{\u001b[0m\n",
       "    \u001b[32m'Accuracy'\u001b[0m: \u001b[1;36m0.5254\u001b[0m,\n",
       "    \u001b[32m'Balanced Accuracy'\u001b[0m: \u001b[1;35mnp.float64\u001b[0m\u001b[1m(\u001b[0m\u001b[1;36m0.5101\u001b[0m\u001b[1m)\u001b[0m,\n",
       "    \u001b[32m'Precision Red'\u001b[0m: \u001b[1;36m0.5886\u001b[0m,\n",
       "    \u001b[32m'Recall Red'\u001b[0m: \u001b[1;36m0.6055\u001b[0m,\n",
       "    \u001b[32m'F1 Red'\u001b[0m: \u001b[1;36m0.5969\u001b[0m,\n",
       "    \u001b[32m'Precision Blue'\u001b[0m: \u001b[1;36m0.4318\u001b[0m,\n",
       "    \u001b[32m'Recall Blue'\u001b[0m: \u001b[1;36m0.4147\u001b[0m,\n",
       "    \u001b[32m'F1 Blue'\u001b[0m: \u001b[1;36m0.4231\u001b[0m,\n",
       "    \u001b[32m'F1 Macro'\u001b[0m: \u001b[1;36m0.51\u001b[0m,\n",
       "    \u001b[32m'ROC AUC'\u001b[0m: \u001b[1;35mnp.float64\u001b[0m\u001b[1m(\u001b[0m\u001b[1;36m0.5058\u001b[0m\u001b[1m)\u001b[0m,\n",
       "    \u001b[32m'Brier Score'\u001b[0m: \u001b[1;35mnp.float64\u001b[0m\u001b[1m(\u001b[0m\u001b[1;36m0.3295\u001b[0m\u001b[1m)\u001b[0m,\n",
       "    \u001b[32m'MCC'\u001b[0m: \u001b[1;35mnp.float64\u001b[0m\u001b[1m(\u001b[0m\u001b[1;36m0.0203\u001b[0m\u001b[1m)\u001b[0m,\n",
       "    \u001b[32m'Kappa'\u001b[0m: \u001b[1;35mnp.float64\u001b[0m\u001b[1m(\u001b[0m\u001b[1;36m0.0202\u001b[0m\u001b[1m)\u001b[0m\n",
       "\u001b[1m}\u001b[0m\n"
      ]
     },
     "metadata": {},
     "output_type": "display_data"
    }
   ],
   "source": [
    "metrics = evaluate_metrics(model, ufc_data_no_odds)\n",
    "print(metrics)"
   ]
  },
  {
   "cell_type": "markdown",
   "id": "86411765-a989-4b93-964a-962b0317a38b",
   "metadata": {},
   "source": [
    "### 📝 Log Training Results"
   ]
  },
  {
   "cell_type": "code",
   "execution_count": 46,
   "id": "15614df7-39d3-406a-9825-39e58fc1752b",
   "metadata": {},
   "outputs": [
    {
     "name": "stderr",
     "output_type": "stream",
     "text": [
      "INFO:src.helpers:✅ Training logged to ../data/results/training_log_v2.csv\n"
     ]
    }
   ],
   "source": [
    "log_training_result(f\"{model_name} (without odds)\", model.best_params_, metrics, duration)"
   ]
  },
  {
   "cell_type": "markdown",
   "id": "0575cc91-149a-4f46-96fd-89b9513783cd",
   "metadata": {},
   "source": [
    "### 💾 Save Model "
   ]
  },
  {
   "cell_type": "code",
   "execution_count": 47,
   "id": "dc758fa1-d539-41da-990a-670774b020c8",
   "metadata": {},
   "outputs": [
    {
     "name": "stderr",
     "output_type": "stream",
     "text": [
      "INFO:src.io_model:✅ Model 'K-Nearest Neighbors' saved to: /home/mlioi/ufc-predictor/models/knn_best_no_odds.pkl\n"
     ]
    }
   ],
   "source": [
    "save_model(model, name=f\"{file_model_name[model_name]}_no_odds\")"
   ]
  },
  {
   "cell_type": "markdown",
   "id": "40438e41-9dd6-46d5-9ade-efeebcfded81",
   "metadata": {},
   "source": [
    "## Support Vector Machine Model "
   ]
  },
  {
   "cell_type": "markdown",
   "id": "fa925774-8071-4874-88bd-b444035a48cb",
   "metadata": {},
   "source": [
    "### 🚀 Support Vector Machine Training "
   ]
  },
  {
   "cell_type": "code",
   "execution_count": 48,
   "id": "85c98ec8-5151-4a43-a2fd-cb8cc596b68d",
   "metadata": {},
   "outputs": [
    {
     "name": "stderr",
     "output_type": "stream",
     "text": [
      "INFO:src.model_factory:[Support Vector Machine] UFC GridSearchCV Training (F1_macro)\n",
      "INFO:root:[Support Vector Machine] 🤖 Training...\n"
     ]
    },
    {
     "name": "stdout",
     "output_type": "stream",
     "text": [
      "Fitting 5 folds for each of 3 candidates, totalling 15 fits\n",
      "[CV 1/5] END .C=0.01, gamma=auto, kernel=linear;, score=0.505 total time=   2.8s\n",
      "[CV 2/5] END .C=0.01, gamma=auto, kernel=linear;, score=0.505 total time=   2.9s\n",
      "[CV 3/5] END .C=0.01, gamma=auto, kernel=linear;, score=0.520 total time=   2.9s\n",
      "[CV 4/5] END .C=0.01, gamma=auto, kernel=linear;, score=0.483 total time=   2.9s\n",
      "[CV 5/5] END .C=0.01, gamma=auto, kernel=linear;, score=0.519 total time=   2.8s\n",
      "[CV 1/5] END ..C=0.1, gamma=auto, kernel=linear;, score=0.522 total time=   3.4s\n",
      "[CV 2/5] END ..C=0.1, gamma=auto, kernel=linear;, score=0.503 total time=   3.4s\n",
      "[CV 3/5] END ..C=0.1, gamma=auto, kernel=linear;, score=0.543 total time=   3.4s\n",
      "[CV 4/5] END ..C=0.1, gamma=auto, kernel=linear;, score=0.507 total time=   3.4s\n",
      "[CV 5/5] END ..C=0.1, gamma=auto, kernel=linear;, score=0.540 total time=   3.4s\n",
      "[CV 1/5] END ....C=1, gamma=auto, kernel=linear;, score=0.526 total time=   5.8s\n",
      "[CV 2/5] END ....C=1, gamma=auto, kernel=linear;, score=0.505 total time=   5.8s\n",
      "[CV 3/5] END ....C=1, gamma=auto, kernel=linear;, score=0.539 total time=   6.1s\n",
      "[CV 4/5] END ....C=1, gamma=auto, kernel=linear;, score=0.521 total time=   5.9s\n",
      "[CV 5/5] END ....C=1, gamma=auto, kernel=linear;, score=0.544 total time=   6.0s\n"
     ]
    },
    {
     "name": "stderr",
     "output_type": "stream",
     "text": [
      "INFO:root:[Support Vector Machine] 🔍 Best F1_macro: 0.5269\n",
      "[Support Vector Machine] 🔍 Best Params: {'C': 1, 'gamma': 'auto', 'kernel': 'linear'}\n"
     ]
    }
   ],
   "source": [
    "model_name = 'Support Vector Machine'\n",
    "start = time.time()\n",
    "model = model_factory(model_name, ufc_data_no_odds, model_params, scoring=\"f1_macro\")\n",
    "end = time.time()\n",
    "duration = end - start"
   ]
  },
  {
   "cell_type": "markdown",
   "id": "20e6fb2f-5caa-40e6-a2b9-d4f38c71bc5f",
   "metadata": {},
   "source": [
    "### 🔍 Support Vector Machine Metrics"
   ]
  },
  {
   "cell_type": "code",
   "execution_count": 49,
   "id": "dd70b7a3-a5d0-4fb4-a91c-74eb7893f216",
   "metadata": {
    "scrolled": true
   },
   "outputs": [
    {
     "data": {
      "text/html": [
       "<pre style=\"white-space:pre;overflow-x:auto;line-height:normal;font-family:Menlo,'DejaVu Sans Mono',consolas,'Courier New',monospace\"><span style=\"font-weight: bold\">{</span>\n",
       "    <span style=\"color: #008000; text-decoration-color: #008000\">'Accuracy'</span>: <span style=\"color: #008080; text-decoration-color: #008080; font-weight: bold\">0.6278</span>,\n",
       "    <span style=\"color: #008000; text-decoration-color: #008000\">'Balanced Accuracy'</span>: <span style=\"color: #800080; text-decoration-color: #800080; font-weight: bold\">np.float64</span><span style=\"font-weight: bold\">(</span><span style=\"color: #008080; text-decoration-color: #008080; font-weight: bold\">0.5761</span><span style=\"font-weight: bold\">)</span>,\n",
       "    <span style=\"color: #008000; text-decoration-color: #008000\">'Precision Red'</span>: <span style=\"color: #008080; text-decoration-color: #008080; font-weight: bold\">0.6248</span>,\n",
       "    <span style=\"color: #008000; text-decoration-color: #008000\">'Recall Red'</span>: <span style=\"color: #008080; text-decoration-color: #008080; font-weight: bold\">0.8981</span>,\n",
       "    <span style=\"color: #008000; text-decoration-color: #008000\">'F1 Red'</span>: <span style=\"color: #008080; text-decoration-color: #008080; font-weight: bold\">0.7369</span>,\n",
       "    <span style=\"color: #008000; text-decoration-color: #008000\">'Precision Blue'</span>: <span style=\"color: #008080; text-decoration-color: #008080; font-weight: bold\">0.6432</span>,\n",
       "    <span style=\"color: #008000; text-decoration-color: #008000\">'Recall Blue'</span>: <span style=\"color: #008080; text-decoration-color: #008080; font-weight: bold\">0.254</span>,\n",
       "    <span style=\"color: #008000; text-decoration-color: #008000\">'F1 Blue'</span>: <span style=\"color: #008080; text-decoration-color: #008080; font-weight: bold\">0.3642</span>,\n",
       "    <span style=\"color: #008000; text-decoration-color: #008000\">'F1 Macro'</span>: <span style=\"color: #008080; text-decoration-color: #008080; font-weight: bold\">0.5505</span>,\n",
       "    <span style=\"color: #008000; text-decoration-color: #008000\">'ROC AUC'</span>: <span style=\"color: #800080; text-decoration-color: #800080; font-weight: bold\">np.float64</span><span style=\"font-weight: bold\">(</span><span style=\"color: #008080; text-decoration-color: #008080; font-weight: bold\">0.6276</span><span style=\"font-weight: bold\">)</span>,\n",
       "    <span style=\"color: #008000; text-decoration-color: #008000\">'Brier Score'</span>: <span style=\"color: #800080; text-decoration-color: #800080; font-weight: bold\">np.float64</span><span style=\"font-weight: bold\">(</span><span style=\"color: #008080; text-decoration-color: #008080; font-weight: bold\">0.23</span><span style=\"font-weight: bold\">)</span>,\n",
       "    <span style=\"color: #008000; text-decoration-color: #008000\">'MCC'</span>: <span style=\"color: #800080; text-decoration-color: #800080; font-weight: bold\">np.float64</span><span style=\"font-weight: bold\">(</span><span style=\"color: #008080; text-decoration-color: #008080; font-weight: bold\">0.2019</span><span style=\"font-weight: bold\">)</span>,\n",
       "    <span style=\"color: #008000; text-decoration-color: #008000\">'Kappa'</span>: <span style=\"color: #800080; text-decoration-color: #800080; font-weight: bold\">np.float64</span><span style=\"font-weight: bold\">(</span><span style=\"color: #008080; text-decoration-color: #008080; font-weight: bold\">0.166</span><span style=\"font-weight: bold\">)</span>\n",
       "<span style=\"font-weight: bold\">}</span>\n",
       "</pre>\n"
      ],
      "text/plain": [
       "\u001b[1m{\u001b[0m\n",
       "    \u001b[32m'Accuracy'\u001b[0m: \u001b[1;36m0.6278\u001b[0m,\n",
       "    \u001b[32m'Balanced Accuracy'\u001b[0m: \u001b[1;35mnp.float64\u001b[0m\u001b[1m(\u001b[0m\u001b[1;36m0.5761\u001b[0m\u001b[1m)\u001b[0m,\n",
       "    \u001b[32m'Precision Red'\u001b[0m: \u001b[1;36m0.6248\u001b[0m,\n",
       "    \u001b[32m'Recall Red'\u001b[0m: \u001b[1;36m0.8981\u001b[0m,\n",
       "    \u001b[32m'F1 Red'\u001b[0m: \u001b[1;36m0.7369\u001b[0m,\n",
       "    \u001b[32m'Precision Blue'\u001b[0m: \u001b[1;36m0.6432\u001b[0m,\n",
       "    \u001b[32m'Recall Blue'\u001b[0m: \u001b[1;36m0.254\u001b[0m,\n",
       "    \u001b[32m'F1 Blue'\u001b[0m: \u001b[1;36m0.3642\u001b[0m,\n",
       "    \u001b[32m'F1 Macro'\u001b[0m: \u001b[1;36m0.5505\u001b[0m,\n",
       "    \u001b[32m'ROC AUC'\u001b[0m: \u001b[1;35mnp.float64\u001b[0m\u001b[1m(\u001b[0m\u001b[1;36m0.6276\u001b[0m\u001b[1m)\u001b[0m,\n",
       "    \u001b[32m'Brier Score'\u001b[0m: \u001b[1;35mnp.float64\u001b[0m\u001b[1m(\u001b[0m\u001b[1;36m0.23\u001b[0m\u001b[1m)\u001b[0m,\n",
       "    \u001b[32m'MCC'\u001b[0m: \u001b[1;35mnp.float64\u001b[0m\u001b[1m(\u001b[0m\u001b[1;36m0.2019\u001b[0m\u001b[1m)\u001b[0m,\n",
       "    \u001b[32m'Kappa'\u001b[0m: \u001b[1;35mnp.float64\u001b[0m\u001b[1m(\u001b[0m\u001b[1;36m0.166\u001b[0m\u001b[1m)\u001b[0m\n",
       "\u001b[1m}\u001b[0m\n"
      ]
     },
     "metadata": {},
     "output_type": "display_data"
    }
   ],
   "source": [
    "metrics = evaluate_metrics(model, ufc_data_no_odds)\n",
    "print(metrics)"
   ]
  },
  {
   "cell_type": "markdown",
   "id": "d62847d9-dc9f-40c1-9f9e-a1b3371bc593",
   "metadata": {},
   "source": [
    "### 📝 Log Training Results"
   ]
  },
  {
   "cell_type": "code",
   "execution_count": 50,
   "id": "0691018d-0013-492c-a7d0-7399d74e8814",
   "metadata": {},
   "outputs": [
    {
     "name": "stderr",
     "output_type": "stream",
     "text": [
      "INFO:src.helpers:✅ Training logged to ../data/results/training_log_v2.csv\n"
     ]
    }
   ],
   "source": [
    "log_training_result(f\"{model_name} (without odds)\", model.best_params_, metrics, duration)"
   ]
  },
  {
   "cell_type": "markdown",
   "id": "a464b8aa-059c-4f7c-8a0d-19115c75c2c5",
   "metadata": {},
   "source": [
    "### 💾 Save Model "
   ]
  },
  {
   "cell_type": "code",
   "execution_count": 51,
   "id": "7a95621f-d0f7-4596-8897-9fd5d5bcfdea",
   "metadata": {},
   "outputs": [
    {
     "name": "stderr",
     "output_type": "stream",
     "text": [
      "INFO:src.io_model:✅ Model 'Support Vector Machine' saved to: /home/mlioi/ufc-predictor/models/svm_best_no_odds.pkl\n"
     ]
    }
   ],
   "source": [
    "save_model(model, name=f\"{file_model_name[model_name]}_no_odds\")"
   ]
  },
  {
   "cell_type": "markdown",
   "id": "d7ce063c-886b-477c-9243-ca73924c84fd",
   "metadata": {},
   "source": [
    "## Logistic Regression Model"
   ]
  },
  {
   "cell_type": "markdown",
   "id": "d33deed5-84ed-4ecc-8b6a-3326ebe0e99b",
   "metadata": {},
   "source": [
    "### 🚀 Logistic Regression Training"
   ]
  },
  {
   "cell_type": "code",
   "execution_count": 52,
   "id": "1063ba5c-e619-4433-b64c-eadf95d2087f",
   "metadata": {
    "scrolled": true
   },
   "outputs": [
    {
     "name": "stderr",
     "output_type": "stream",
     "text": [
      "INFO:src.model_factory:[Logistic Regression] UFC GridSearchCV Training (F1_macro)\n",
      "INFO:root:[Logistic Regression] 🤖 Training...\n"
     ]
    },
    {
     "name": "stdout",
     "output_type": "stream",
     "text": [
      "Fitting 5 folds for each of 32 candidates, totalling 160 fits\n",
      "[CV 1/5] END C=0.001, penalty=l1, solver=liblinear;, score=0.368 total time=   0.0s\n",
      "[CV 2/5] END C=0.001, penalty=l1, solver=liblinear;, score=0.368 total time=   0.0s\n",
      "[CV 3/5] END C=0.001, penalty=l1, solver=liblinear;, score=0.367 total time=   0.0s\n",
      "[CV 4/5] END C=0.001, penalty=l1, solver=liblinear;, score=0.367 total time=   0.0s\n",
      "[CV 5/5] END C=0.001, penalty=l1, solver=liblinear;, score=0.367 total time=   0.0s\n",
      "[CV 1/5] END C=0.001, penalty=l2, solver=liblinear;, score=0.560 total time=   0.0s\n",
      "[CV 2/5] END C=0.001, penalty=l2, solver=liblinear;, score=0.539 total time=   0.0s\n",
      "[CV 3/5] END C=0.001, penalty=l2, solver=liblinear;, score=0.580 total time=   0.0s\n",
      "[CV 4/5] END C=0.001, penalty=l2, solver=liblinear;, score=0.568 total time=   0.0s\n",
      "[CV 5/5] END C=0.001, penalty=l2, solver=liblinear;, score=0.568 total time=   0.0s\n",
      "[CV 1/5] END C=0.001, penalty=l1, solver=liblinear;, score=0.368 total time=   0.0s\n",
      "[CV 2/5] END C=0.001, penalty=l1, solver=liblinear;, score=0.368 total time=   0.0s\n",
      "[CV 3/5] END C=0.001, penalty=l1, solver=liblinear;, score=0.367 total time=   0.0s\n",
      "[CV 4/5] END C=0.001, penalty=l1, solver=liblinear;, score=0.367 total time=   0.0s\n",
      "[CV 5/5] END C=0.001, penalty=l1, solver=liblinear;, score=0.367 total time=   0.0s\n",
      "[CV 1/5] END C=0.001, penalty=l2, solver=liblinear;, score=0.560 total time=   0.0s\n",
      "[CV 2/5] END C=0.001, penalty=l2, solver=liblinear;, score=0.539 total time=   0.0s\n",
      "[CV 3/5] END C=0.001, penalty=l2, solver=liblinear;, score=0.580 total time=   0.0s\n",
      "[CV 4/5] END C=0.001, penalty=l2, solver=liblinear;, score=0.568 total time=   0.0s\n",
      "[CV 5/5] END C=0.001, penalty=l2, solver=liblinear;, score=0.568 total time=   0.0s\n",
      "[CV 1/5] END C=0.01, penalty=l1, solver=liblinear;, score=0.561 total time=   0.0s\n",
      "[CV 2/5] END C=0.01, penalty=l1, solver=liblinear;, score=0.546 total time=   0.0s\n",
      "[CV 3/5] END C=0.01, penalty=l1, solver=liblinear;, score=0.549 total time=   0.0s\n",
      "[CV 4/5] END C=0.01, penalty=l1, solver=liblinear;, score=0.533 total time=   0.0s\n",
      "[CV 5/5] END C=0.01, penalty=l1, solver=liblinear;, score=0.553 total time=   0.0s\n",
      "[CV 1/5] END C=0.01, penalty=l2, solver=liblinear;, score=0.553 total time=   0.0s\n",
      "[CV 2/5] END C=0.01, penalty=l2, solver=liblinear;, score=0.537 total time=   0.0s\n",
      "[CV 3/5] END C=0.01, penalty=l2, solver=liblinear;, score=0.570 total time=   0.0s\n",
      "[CV 4/5] END C=0.01, penalty=l2, solver=liblinear;, score=0.565 total time=   0.0s\n",
      "[CV 5/5] END C=0.01, penalty=l2, solver=liblinear;, score=0.577 total time=   0.0s\n",
      "[CV 1/5] END C=0.05, penalty=l1, solver=liblinear;, score=0.560 total time=   0.0s\n",
      "[CV 2/5] END C=0.05, penalty=l1, solver=liblinear;, score=0.533 total time=   0.0s\n",
      "[CV 3/5] END C=0.05, penalty=l1, solver=liblinear;, score=0.572 total time=   0.0s\n",
      "[CV 4/5] END C=0.05, penalty=l1, solver=liblinear;, score=0.558 total time=   0.0s\n",
      "[CV 5/5] END C=0.05, penalty=l1, solver=liblinear;, score=0.571 total time=   0.0s\n",
      "[CV 1/5] END C=0.05, penalty=l2, solver=liblinear;, score=0.554 total time=   0.0s\n",
      "[CV 2/5] END C=0.05, penalty=l2, solver=liblinear;, score=0.541 total time=   0.0s\n",
      "[CV 3/5] END C=0.05, penalty=l2, solver=liblinear;, score=0.573 total time=   0.0s\n",
      "[CV 4/5] END C=0.05, penalty=l2, solver=liblinear;, score=0.566 total time=   0.0s\n",
      "[CV 5/5] END C=0.05, penalty=l2, solver=liblinear;, score=0.579 total time=   0.0s\n",
      "[CV 1/5] END C=0.1, penalty=l1, solver=liblinear;, score=0.560 total time=   0.0s\n",
      "[CV 2/5] END C=0.1, penalty=l1, solver=liblinear;, score=0.542 total time=   0.0s\n",
      "[CV 3/5] END C=0.1, penalty=l1, solver=liblinear;, score=0.569 total time=   0.0s\n",
      "[CV 4/5] END C=0.1, penalty=l1, solver=liblinear;, score=0.571 total time=   0.0s\n",
      "[CV 5/5] END C=0.1, penalty=l1, solver=liblinear;, score=0.575 total time=   0.0s\n",
      "[CV 1/5] END C=0.1, penalty=l2, solver=liblinear;, score=0.556 total time=   0.0s\n",
      "[CV 2/5] END C=0.1, penalty=l2, solver=liblinear;, score=0.546 total time=   0.0s\n",
      "[CV 3/5] END C=0.1, penalty=l2, solver=liblinear;, score=0.571 total time=   0.0s\n",
      "[CV 4/5] END C=0.1, penalty=l2, solver=liblinear;, score=0.565 total time=   0.0s\n",
      "[CV 5/5] END C=0.1, penalty=l2, solver=liblinear;, score=0.578 total time=   0.0s\n",
      "[CV 1/5] END .C=1, penalty=l1, solver=liblinear;, score=0.558 total time=   0.1s\n",
      "[CV 2/5] END .C=1, penalty=l1, solver=liblinear;, score=0.542 total time=   0.1s\n",
      "[CV 3/5] END .C=1, penalty=l1, solver=liblinear;, score=0.568 total time=   0.3s\n",
      "[CV 4/5] END .C=1, penalty=l1, solver=liblinear;, score=0.567 total time=   0.3s\n",
      "[CV 5/5] END .C=1, penalty=l1, solver=liblinear;, score=0.581 total time=   0.2s\n",
      "[CV 1/5] END .C=1, penalty=l2, solver=liblinear;, score=0.557 total time=   0.0s\n",
      "[CV 2/5] END .C=1, penalty=l2, solver=liblinear;, score=0.538 total time=   0.0s\n",
      "[CV 3/5] END .C=1, penalty=l2, solver=liblinear;, score=0.567 total time=   0.0s\n",
      "[CV 4/5] END .C=1, penalty=l2, solver=liblinear;, score=0.565 total time=   0.0s\n",
      "[CV 5/5] END .C=1, penalty=l2, solver=liblinear;, score=0.589 total time=   0.0s\n",
      "[CV 1/5] END .C=2, penalty=l1, solver=liblinear;, score=0.557 total time=   0.3s\n",
      "[CV 2/5] END .C=2, penalty=l1, solver=liblinear;, score=0.540 total time=   0.4s\n",
      "[CV 3/5] END .C=2, penalty=l1, solver=liblinear;, score=0.567 total time=   0.4s\n",
      "[CV 4/5] END .C=2, penalty=l1, solver=liblinear;, score=0.567 total time=   0.4s\n",
      "[CV 5/5] END .C=2, penalty=l1, solver=liblinear;, score=0.589 total time=   0.4s\n",
      "[CV 1/5] END .C=2, penalty=l2, solver=liblinear;, score=0.556 total time=   0.0s\n",
      "[CV 2/5] END .C=2, penalty=l2, solver=liblinear;, score=0.541 total time=   0.0s\n",
      "[CV 3/5] END .C=2, penalty=l2, solver=liblinear;, score=0.569 total time=   0.0s\n",
      "[CV 4/5] END .C=2, penalty=l2, solver=liblinear;, score=0.566 total time=   0.0s\n",
      "[CV 5/5] END .C=2, penalty=l2, solver=liblinear;, score=0.591 total time=   0.0s\n",
      "[CV 1/5] END .C=5, penalty=l1, solver=liblinear;, score=0.556 total time=   0.4s\n",
      "[CV 2/5] END .C=5, penalty=l1, solver=liblinear;, score=0.541 total time=   0.4s\n",
      "[CV 3/5] END .C=5, penalty=l1, solver=liblinear;, score=0.563 total time=   0.5s\n",
      "[CV 4/5] END .C=5, penalty=l1, solver=liblinear;, score=0.566 total time=   0.4s\n",
      "[CV 5/5] END .C=5, penalty=l1, solver=liblinear;, score=0.591 total time=   0.5s\n",
      "[CV 1/5] END .C=5, penalty=l2, solver=liblinear;, score=0.560 total time=   0.0s\n",
      "[CV 2/5] END .C=5, penalty=l2, solver=liblinear;, score=0.541 total time=   0.0s\n",
      "[CV 3/5] END .C=5, penalty=l2, solver=liblinear;, score=0.564 total time=   0.0s\n",
      "[CV 4/5] END .C=5, penalty=l2, solver=liblinear;, score=0.568 total time=   0.0s\n",
      "[CV 5/5] END .C=5, penalty=l2, solver=liblinear;, score=0.591 total time=   0.0s\n",
      "[CV 1/5] END .C=7, penalty=l1, solver=liblinear;, score=0.560 total time=   0.4s\n",
      "[CV 2/5] END .C=7, penalty=l1, solver=liblinear;, score=0.541 total time=   0.4s\n",
      "[CV 3/5] END .C=7, penalty=l1, solver=liblinear;, score=0.563 total time=   0.5s\n",
      "[CV 4/5] END .C=7, penalty=l1, solver=liblinear;, score=0.568 total time=   0.5s\n",
      "[CV 5/5] END .C=7, penalty=l1, solver=liblinear;, score=0.591 total time=   0.5s\n",
      "[CV 1/5] END .C=7, penalty=l2, solver=liblinear;, score=0.560 total time=   0.0s\n",
      "[CV 2/5] END .C=7, penalty=l2, solver=liblinear;, score=0.541 total time=   0.0s\n",
      "[CV 3/5] END .C=7, penalty=l2, solver=liblinear;, score=0.564 total time=   0.0s\n",
      "[CV 4/5] END .C=7, penalty=l2, solver=liblinear;, score=0.568 total time=   0.0s\n",
      "[CV 5/5] END .C=7, penalty=l2, solver=liblinear;, score=0.591 total time=   0.0s\n",
      "[CV 1/5] END .C=8, penalty=l1, solver=liblinear;, score=0.560 total time=   0.4s\n",
      "[CV 2/5] END .C=8, penalty=l1, solver=liblinear;, score=0.541 total time=   0.3s\n",
      "[CV 3/5] END .C=8, penalty=l1, solver=liblinear;, score=0.564 total time=   0.5s\n",
      "[CV 4/5] END .C=8, penalty=l1, solver=liblinear;, score=0.568 total time=   0.5s\n",
      "[CV 5/5] END .C=8, penalty=l1, solver=liblinear;, score=0.590 total time=   0.5s\n",
      "[CV 1/5] END .C=8, penalty=l2, solver=liblinear;, score=0.560 total time=   0.0s\n",
      "[CV 2/5] END .C=8, penalty=l2, solver=liblinear;, score=0.541 total time=   0.0s\n",
      "[CV 3/5] END .C=8, penalty=l2, solver=liblinear;, score=0.566 total time=   0.0s\n",
      "[CV 4/5] END .C=8, penalty=l2, solver=liblinear;, score=0.568 total time=   0.0s\n",
      "[CV 5/5] END .C=8, penalty=l2, solver=liblinear;, score=0.591 total time=   0.0s\n",
      "[CV 1/5] END C=8.5, penalty=l1, solver=liblinear;, score=0.560 total time=   0.4s\n",
      "[CV 2/5] END C=8.5, penalty=l1, solver=liblinear;, score=0.541 total time=   0.4s\n",
      "[CV 3/5] END C=8.5, penalty=l1, solver=liblinear;, score=0.564 total time=   0.5s\n",
      "[CV 4/5] END C=8.5, penalty=l1, solver=liblinear;, score=0.568 total time=   0.5s\n",
      "[CV 5/5] END C=8.5, penalty=l1, solver=liblinear;, score=0.590 total time=   0.5s\n",
      "[CV 1/5] END C=8.5, penalty=l2, solver=liblinear;, score=0.560 total time=   0.0s\n",
      "[CV 2/5] END C=8.5, penalty=l2, solver=liblinear;, score=0.541 total time=   0.0s\n",
      "[CV 3/5] END C=8.5, penalty=l2, solver=liblinear;, score=0.566 total time=   0.0s\n",
      "[CV 4/5] END C=8.5, penalty=l2, solver=liblinear;, score=0.568 total time=   0.0s\n",
      "[CV 5/5] END C=8.5, penalty=l2, solver=liblinear;, score=0.591 total time=   0.0s\n",
      "[CV 1/5] END .C=9, penalty=l1, solver=liblinear;, score=0.560 total time=   0.4s\n",
      "[CV 2/5] END .C=9, penalty=l1, solver=liblinear;, score=0.541 total time=   0.4s\n",
      "[CV 3/5] END .C=9, penalty=l1, solver=liblinear;, score=0.564 total time=   0.5s\n",
      "[CV 4/5] END .C=9, penalty=l1, solver=liblinear;, score=0.568 total time=   0.5s\n",
      "[CV 5/5] END .C=9, penalty=l1, solver=liblinear;, score=0.590 total time=   0.5s\n",
      "[CV 1/5] END .C=9, penalty=l2, solver=liblinear;, score=0.560 total time=   0.0s\n",
      "[CV 2/5] END .C=9, penalty=l2, solver=liblinear;, score=0.541 total time=   0.0s\n",
      "[CV 3/5] END .C=9, penalty=l2, solver=liblinear;, score=0.566 total time=   0.0s\n",
      "[CV 4/5] END .C=9, penalty=l2, solver=liblinear;, score=0.568 total time=   0.0s\n",
      "[CV 5/5] END .C=9, penalty=l2, solver=liblinear;, score=0.590 total time=   0.0s\n",
      "[CV 1/5] END C=10, penalty=l1, solver=liblinear;, score=0.560 total time=   0.4s\n",
      "[CV 2/5] END C=10, penalty=l1, solver=liblinear;, score=0.541 total time=   0.4s\n",
      "[CV 3/5] END C=10, penalty=l1, solver=liblinear;, score=0.564 total time=   0.4s\n",
      "[CV 4/5] END C=10, penalty=l1, solver=liblinear;, score=0.568 total time=   0.5s\n",
      "[CV 5/5] END C=10, penalty=l1, solver=liblinear;, score=0.590 total time=   0.5s\n",
      "[CV 1/5] END C=10, penalty=l2, solver=liblinear;, score=0.561 total time=   0.0s\n",
      "[CV 2/5] END C=10, penalty=l2, solver=liblinear;, score=0.542 total time=   0.0s\n",
      "[CV 3/5] END C=10, penalty=l2, solver=liblinear;, score=0.564 total time=   0.0s\n",
      "[CV 4/5] END C=10, penalty=l2, solver=liblinear;, score=0.568 total time=   0.0s\n",
      "[CV 5/5] END C=10, penalty=l2, solver=liblinear;, score=0.590 total time=   0.0s\n",
      "[CV 1/5] END C=20, penalty=l1, solver=liblinear;, score=0.560 total time=   0.6s\n",
      "[CV 2/5] END C=20, penalty=l1, solver=liblinear;, score=0.542 total time=   0.5s\n",
      "[CV 3/5] END C=20, penalty=l1, solver=liblinear;, score=0.564 total time=   0.5s\n",
      "[CV 4/5] END C=20, penalty=l1, solver=liblinear;, score=0.568 total time=   0.5s\n",
      "[CV 5/5] END C=20, penalty=l1, solver=liblinear;, score=0.588 total time=   0.5s\n",
      "[CV 1/5] END C=20, penalty=l2, solver=liblinear;, score=0.561 total time=   0.0s\n",
      "[CV 2/5] END C=20, penalty=l2, solver=liblinear;, score=0.542 total time=   0.0s\n",
      "[CV 3/5] END C=20, penalty=l2, solver=liblinear;, score=0.564 total time=   0.0s\n",
      "[CV 4/5] END C=20, penalty=l2, solver=liblinear;, score=0.568 total time=   0.0s\n",
      "[CV 5/5] END C=20, penalty=l2, solver=liblinear;, score=0.588 total time=   0.0s\n",
      "[CV 1/5] END C=40, penalty=l1, solver=liblinear;, score=0.561 total time=   0.4s\n",
      "[CV 2/5] END C=40, penalty=l1, solver=liblinear;, score=0.542 total time=   0.5s\n",
      "[CV 3/5] END C=40, penalty=l1, solver=liblinear;, score=0.564 total time=   0.7s\n",
      "[CV 4/5] END C=40, penalty=l1, solver=liblinear;, score=0.567 total time=   0.7s\n",
      "[CV 5/5] END C=40, penalty=l1, solver=liblinear;, score=0.588 total time=   0.5s\n",
      "[CV 1/5] END C=40, penalty=l2, solver=liblinear;, score=0.561 total time=   0.0s\n",
      "[CV 2/5] END C=40, penalty=l2, solver=liblinear;, score=0.542 total time=   0.0s\n",
      "[CV 3/5] END C=40, penalty=l2, solver=liblinear;, score=0.564 total time=   0.0s\n",
      "[CV 4/5] END C=40, penalty=l2, solver=liblinear;, score=0.567 total time=   0.0s\n",
      "[CV 5/5] END C=40, penalty=l2, solver=liblinear;, score=0.588 total time=   0.0s\n",
      "[CV 1/5] END C=80, penalty=l1, solver=liblinear;, score=0.561 total time=   0.6s\n",
      "[CV 2/5] END C=80, penalty=l1, solver=liblinear;, score=0.542 total time=   0.5s\n",
      "[CV 3/5] END C=80, penalty=l1, solver=liblinear;, score=0.566 total time=   0.6s\n",
      "[CV 4/5] END C=80, penalty=l1, solver=liblinear;, score=0.567 total time=   0.6s\n",
      "[CV 5/5] END C=80, penalty=l1, solver=liblinear;, score=0.589 total time=   0.6s\n",
      "[CV 1/5] END C=80, penalty=l2, solver=liblinear;, score=0.561 total time=   0.0s\n",
      "[CV 2/5] END C=80, penalty=l2, solver=liblinear;, score=0.542 total time=   0.0s\n",
      "[CV 3/5] END C=80, penalty=l2, solver=liblinear;, score=0.566 total time=   0.0s\n",
      "[CV 4/5] END C=80, penalty=l2, solver=liblinear;, score=0.567 total time=   0.0s\n",
      "[CV 5/5] END C=80, penalty=l2, solver=liblinear;, score=0.589 total time=   0.0s\n"
     ]
    },
    {
     "name": "stderr",
     "output_type": "stream",
     "text": [
      "INFO:root:[Logistic Regression] 🔍 Best F1_macro: 0.5650\n",
      "[Logistic Regression] 🔍 Best Params: {'C': 10, 'penalty': 'l2', 'solver': 'liblinear'}\n"
     ]
    }
   ],
   "source": [
    "model_name = 'Logistic Regression'\n",
    "start = time.time()\n",
    "model = model_factory(model_name, ufc_data_no_odds, model_params, scoring=\"f1_macro\")\n",
    "end = time.time()\n",
    "duration = end - start"
   ]
  },
  {
   "cell_type": "markdown",
   "id": "50f39fdb-db42-46a6-8977-6af8059dcf48",
   "metadata": {},
   "source": [
    "### 🔍 Logistic Regression Metrics"
   ]
  },
  {
   "cell_type": "code",
   "execution_count": 53,
   "id": "a7f278a4-643f-4c67-99f1-5924c710ab48",
   "metadata": {},
   "outputs": [
    {
     "data": {
      "text/html": [
       "<pre style=\"white-space:pre;overflow-x:auto;line-height:normal;font-family:Menlo,'DejaVu Sans Mono',consolas,'Courier New',monospace\"><span style=\"font-weight: bold\">{</span>\n",
       "    <span style=\"color: #008000; text-decoration-color: #008000\">'Accuracy'</span>: <span style=\"color: #008080; text-decoration-color: #008080; font-weight: bold\">0.6278</span>,\n",
       "    <span style=\"color: #008000; text-decoration-color: #008000\">'Balanced Accuracy'</span>: <span style=\"color: #800080; text-decoration-color: #800080; font-weight: bold\">np.float64</span><span style=\"font-weight: bold\">(</span><span style=\"color: #008080; text-decoration-color: #008080; font-weight: bold\">0.589</span><span style=\"font-weight: bold\">)</span>,\n",
       "    <span style=\"color: #008000; text-decoration-color: #008000\">'Precision Red'</span>: <span style=\"color: #008080; text-decoration-color: #008080; font-weight: bold\">0.6377</span>,\n",
       "    <span style=\"color: #008000; text-decoration-color: #008000\">'Recall Red'</span>: <span style=\"color: #008080; text-decoration-color: #008080; font-weight: bold\">0.8307</span>,\n",
       "    <span style=\"color: #008000; text-decoration-color: #008000\">'F1 Red'</span>: <span style=\"color: #008080; text-decoration-color: #008080; font-weight: bold\">0.7215</span>,\n",
       "    <span style=\"color: #008000; text-decoration-color: #008000\">'Precision Blue'</span>: <span style=\"color: #008080; text-decoration-color: #008080; font-weight: bold\">0.5973</span>,\n",
       "    <span style=\"color: #008000; text-decoration-color: #008000\">'Recall Blue'</span>: <span style=\"color: #008080; text-decoration-color: #008080; font-weight: bold\">0.3472</span>,\n",
       "    <span style=\"color: #008000; text-decoration-color: #008000\">'F1 Blue'</span>: <span style=\"color: #008080; text-decoration-color: #008080; font-weight: bold\">0.4391</span>,\n",
       "    <span style=\"color: #008000; text-decoration-color: #008000\">'F1 Macro'</span>: <span style=\"color: #008080; text-decoration-color: #008080; font-weight: bold\">0.5803</span>,\n",
       "    <span style=\"color: #008000; text-decoration-color: #008000\">'ROC AUC'</span>: <span style=\"color: #800080; text-decoration-color: #800080; font-weight: bold\">np.float64</span><span style=\"font-weight: bold\">(</span><span style=\"color: #008080; text-decoration-color: #008080; font-weight: bold\">0.6291</span><span style=\"font-weight: bold\">)</span>,\n",
       "    <span style=\"color: #008000; text-decoration-color: #008000\">'Brier Score'</span>: <span style=\"color: #800080; text-decoration-color: #800080; font-weight: bold\">np.float64</span><span style=\"font-weight: bold\">(</span><span style=\"color: #008080; text-decoration-color: #008080; font-weight: bold\">0.2297</span><span style=\"font-weight: bold\">)</span>,\n",
       "    <span style=\"color: #008000; text-decoration-color: #008000\">'MCC'</span>: <span style=\"color: #800080; text-decoration-color: #800080; font-weight: bold\">np.float64</span><span style=\"font-weight: bold\">(</span><span style=\"color: #008080; text-decoration-color: #008080; font-weight: bold\">0.2045</span><span style=\"font-weight: bold\">)</span>,\n",
       "    <span style=\"color: #008000; text-decoration-color: #008000\">'Kappa'</span>: <span style=\"color: #800080; text-decoration-color: #800080; font-weight: bold\">np.float64</span><span style=\"font-weight: bold\">(</span><span style=\"color: #008080; text-decoration-color: #008080; font-weight: bold\">0.1889</span><span style=\"font-weight: bold\">)</span>\n",
       "<span style=\"font-weight: bold\">}</span>\n",
       "</pre>\n"
      ],
      "text/plain": [
       "\u001b[1m{\u001b[0m\n",
       "    \u001b[32m'Accuracy'\u001b[0m: \u001b[1;36m0.6278\u001b[0m,\n",
       "    \u001b[32m'Balanced Accuracy'\u001b[0m: \u001b[1;35mnp.float64\u001b[0m\u001b[1m(\u001b[0m\u001b[1;36m0.589\u001b[0m\u001b[1m)\u001b[0m,\n",
       "    \u001b[32m'Precision Red'\u001b[0m: \u001b[1;36m0.6377\u001b[0m,\n",
       "    \u001b[32m'Recall Red'\u001b[0m: \u001b[1;36m0.8307\u001b[0m,\n",
       "    \u001b[32m'F1 Red'\u001b[0m: \u001b[1;36m0.7215\u001b[0m,\n",
       "    \u001b[32m'Precision Blue'\u001b[0m: \u001b[1;36m0.5973\u001b[0m,\n",
       "    \u001b[32m'Recall Blue'\u001b[0m: \u001b[1;36m0.3472\u001b[0m,\n",
       "    \u001b[32m'F1 Blue'\u001b[0m: \u001b[1;36m0.4391\u001b[0m,\n",
       "    \u001b[32m'F1 Macro'\u001b[0m: \u001b[1;36m0.5803\u001b[0m,\n",
       "    \u001b[32m'ROC AUC'\u001b[0m: \u001b[1;35mnp.float64\u001b[0m\u001b[1m(\u001b[0m\u001b[1;36m0.6291\u001b[0m\u001b[1m)\u001b[0m,\n",
       "    \u001b[32m'Brier Score'\u001b[0m: \u001b[1;35mnp.float64\u001b[0m\u001b[1m(\u001b[0m\u001b[1;36m0.2297\u001b[0m\u001b[1m)\u001b[0m,\n",
       "    \u001b[32m'MCC'\u001b[0m: \u001b[1;35mnp.float64\u001b[0m\u001b[1m(\u001b[0m\u001b[1;36m0.2045\u001b[0m\u001b[1m)\u001b[0m,\n",
       "    \u001b[32m'Kappa'\u001b[0m: \u001b[1;35mnp.float64\u001b[0m\u001b[1m(\u001b[0m\u001b[1;36m0.1889\u001b[0m\u001b[1m)\u001b[0m\n",
       "\u001b[1m}\u001b[0m\n"
      ]
     },
     "metadata": {},
     "output_type": "display_data"
    }
   ],
   "source": [
    "metrics = evaluate_metrics(model, ufc_data_no_odds)\n",
    "print(metrics)"
   ]
  },
  {
   "cell_type": "markdown",
   "id": "2b0e0bf3-fd44-4fdf-a749-c56bda31e3a8",
   "metadata": {},
   "source": [
    "### 📝 Log Training Results"
   ]
  },
  {
   "cell_type": "code",
   "execution_count": 54,
   "id": "016b59e5-4209-44aa-8a74-b590fcf2ff60",
   "metadata": {},
   "outputs": [
    {
     "name": "stderr",
     "output_type": "stream",
     "text": [
      "INFO:src.helpers:✅ Training logged to ../data/results/training_log_v2.csv\n"
     ]
    }
   ],
   "source": [
    "log_training_result(f\"{model_name} (without odds)\", model.best_params_, metrics, duration)"
   ]
  },
  {
   "cell_type": "markdown",
   "id": "f2fe7150-4798-4195-a0e6-0ac4d0f929a9",
   "metadata": {},
   "source": [
    "### 💾 Save Model "
   ]
  },
  {
   "cell_type": "code",
   "execution_count": 55,
   "id": "27967579-859e-42a3-9f3c-2a966d4d86bb",
   "metadata": {},
   "outputs": [
    {
     "name": "stderr",
     "output_type": "stream",
     "text": [
      "INFO:src.io_model:✅ Model 'Logistic Regression' saved to: /home/mlioi/ufc-predictor/models/lr_best_no_odds.pkl\n"
     ]
    }
   ],
   "source": [
    "save_model(model, name=f\"{file_model_name[model_name]}_no_odds\")"
   ]
  },
  {
   "cell_type": "markdown",
   "id": "17e00901-4fc5-4e95-a3a4-e3e898dee1dd",
   "metadata": {},
   "source": [
    "## Random Forest Model"
   ]
  },
  {
   "cell_type": "markdown",
   "id": "51811fd1-c27a-4219-aad5-ac9bcfd72bde",
   "metadata": {},
   "source": [
    "### 🚀 Random Forest Training"
   ]
  },
  {
   "cell_type": "code",
   "execution_count": 56,
   "id": "0d461db3-6108-4106-9b51-2e6f7c691587",
   "metadata": {
    "scrolled": true
   },
   "outputs": [
    {
     "name": "stderr",
     "output_type": "stream",
     "text": [
      "INFO:src.model_factory:[Random Forest] UFC GridSearchCV Training (F1_macro)\n",
      "INFO:root:[Random Forest] 🤖 Training...\n"
     ]
    },
    {
     "name": "stdout",
     "output_type": "stream",
     "text": [
      "Fitting 5 folds for each of 9 candidates, totalling 45 fits\n",
      "[CV 1/5] END ......max_depth=5, n_estimators=10;, score=0.527 total time=   0.0s\n",
      "[CV 2/5] END ......max_depth=5, n_estimators=10;, score=0.519 total time=   0.0s\n",
      "[CV 3/5] END ......max_depth=5, n_estimators=10;, score=0.510 total time=   0.0s\n",
      "[CV 4/5] END ......max_depth=5, n_estimators=10;, score=0.511 total time=   0.0s\n",
      "[CV 5/5] END ......max_depth=5, n_estimators=10;, score=0.534 total time=   0.0s\n",
      "[CV 1/5] END ......max_depth=5, n_estimators=50;, score=0.495 total time=   0.2s\n",
      "[CV 2/5] END ......max_depth=5, n_estimators=50;, score=0.493 total time=   0.2s\n",
      "[CV 3/5] END ......max_depth=5, n_estimators=50;, score=0.528 total time=   0.2s\n",
      "[CV 4/5] END ......max_depth=5, n_estimators=50;, score=0.506 total time=   0.2s\n",
      "[CV 5/5] END ......max_depth=5, n_estimators=50;, score=0.526 total time=   0.2s\n",
      "[CV 1/5] END .....max_depth=5, n_estimators=100;, score=0.510 total time=   0.4s\n",
      "[CV 2/5] END .....max_depth=5, n_estimators=100;, score=0.504 total time=   0.4s\n",
      "[CV 3/5] END .....max_depth=5, n_estimators=100;, score=0.524 total time=   0.4s\n",
      "[CV 4/5] END .....max_depth=5, n_estimators=100;, score=0.490 total time=   0.4s\n",
      "[CV 5/5] END .....max_depth=5, n_estimators=100;, score=0.540 total time=   0.4s\n",
      "[CV 1/5] END .....max_depth=10, n_estimators=10;, score=0.560 total time=   0.1s\n",
      "[CV 2/5] END .....max_depth=10, n_estimators=10;, score=0.523 total time=   0.1s\n",
      "[CV 3/5] END .....max_depth=10, n_estimators=10;, score=0.574 total time=   0.1s\n",
      "[CV 4/5] END .....max_depth=10, n_estimators=10;, score=0.531 total time=   0.1s\n",
      "[CV 5/5] END .....max_depth=10, n_estimators=10;, score=0.569 total time=   0.1s\n",
      "[CV 1/5] END .....max_depth=10, n_estimators=50;, score=0.547 total time=   0.3s\n",
      "[CV 2/5] END .....max_depth=10, n_estimators=50;, score=0.531 total time=   0.3s\n",
      "[CV 3/5] END .....max_depth=10, n_estimators=50;, score=0.562 total time=   0.3s\n",
      "[CV 4/5] END .....max_depth=10, n_estimators=50;, score=0.529 total time=   0.3s\n",
      "[CV 5/5] END .....max_depth=10, n_estimators=50;, score=0.575 total time=   0.3s\n",
      "[CV 1/5] END ....max_depth=10, n_estimators=100;, score=0.546 total time=   0.6s\n",
      "[CV 2/5] END ....max_depth=10, n_estimators=100;, score=0.532 total time=   0.6s\n",
      "[CV 3/5] END ....max_depth=10, n_estimators=100;, score=0.557 total time=   0.6s\n",
      "[CV 4/5] END ....max_depth=10, n_estimators=100;, score=0.556 total time=   0.6s\n",
      "[CV 5/5] END ....max_depth=10, n_estimators=100;, score=0.557 total time=   0.6s\n",
      "[CV 1/5] END ....max_depth=100, n_estimators=10;, score=0.517 total time=   0.1s\n",
      "[CV 2/5] END ....max_depth=100, n_estimators=10;, score=0.524 total time=   0.1s\n",
      "[CV 3/5] END ....max_depth=100, n_estimators=10;, score=0.538 total time=   0.1s\n",
      "[CV 4/5] END ....max_depth=100, n_estimators=10;, score=0.546 total time=   0.1s\n",
      "[CV 5/5] END ....max_depth=100, n_estimators=10;, score=0.536 total time=   0.1s\n",
      "[CV 1/5] END ....max_depth=100, n_estimators=50;, score=0.534 total time=   0.4s\n",
      "[CV 2/5] END ....max_depth=100, n_estimators=50;, score=0.524 total time=   0.4s\n",
      "[CV 3/5] END ....max_depth=100, n_estimators=50;, score=0.562 total time=   0.4s\n",
      "[CV 4/5] END ....max_depth=100, n_estimators=50;, score=0.566 total time=   0.4s\n",
      "[CV 5/5] END ....max_depth=100, n_estimators=50;, score=0.556 total time=   0.4s\n",
      "[CV 1/5] END ...max_depth=100, n_estimators=100;, score=0.565 total time=   0.9s\n",
      "[CV 2/5] END ...max_depth=100, n_estimators=100;, score=0.546 total time=   0.9s\n",
      "[CV 3/5] END ...max_depth=100, n_estimators=100;, score=0.580 total time=   0.9s\n",
      "[CV 4/5] END ...max_depth=100, n_estimators=100;, score=0.552 total time=   0.9s\n",
      "[CV 5/5] END ...max_depth=100, n_estimators=100;, score=0.555 total time=   0.9s\n"
     ]
    },
    {
     "name": "stderr",
     "output_type": "stream",
     "text": [
      "INFO:root:[Random Forest] 🔍 Best F1_macro: 0.5597\n",
      "[Random Forest] 🔍 Best Params: {'max_depth': 100, 'n_estimators': 100}\n"
     ]
    }
   ],
   "source": [
    "model_name = 'Random Forest'\n",
    "start = time.time()\n",
    "model = model_factory(model_name, ufc_data_no_odds, model_params, scoring=\"f1_macro\")\n",
    "end = time.time()\n",
    "duration = end - start"
   ]
  },
  {
   "cell_type": "markdown",
   "id": "749e0489-c120-450d-914d-02e4a6c4a279",
   "metadata": {},
   "source": [
    "### 🔍 Random Forest Metrics"
   ]
  },
  {
   "cell_type": "code",
   "execution_count": 57,
   "id": "41d98446-c4aa-4a68-81bf-905842c3ac67",
   "metadata": {},
   "outputs": [
    {
     "data": {
      "text/html": [
       "<pre style=\"white-space:pre;overflow-x:auto;line-height:normal;font-family:Menlo,'DejaVu Sans Mono',consolas,'Courier New',monospace\"><span style=\"font-weight: bold\">{</span>\n",
       "    <span style=\"color: #008000; text-decoration-color: #008000\">'Accuracy'</span>: <span style=\"color: #008080; text-decoration-color: #008080; font-weight: bold\">0.5828</span>,\n",
       "    <span style=\"color: #008000; text-decoration-color: #008000\">'Balanced Accuracy'</span>: <span style=\"color: #800080; text-decoration-color: #800080; font-weight: bold\">np.float64</span><span style=\"font-weight: bold\">(</span><span style=\"color: #008080; text-decoration-color: #008080; font-weight: bold\">0.545</span><span style=\"font-weight: bold\">)</span>,\n",
       "    <span style=\"color: #008000; text-decoration-color: #008000\">'Precision Red'</span>: <span style=\"color: #008080; text-decoration-color: #008080; font-weight: bold\">0.6099</span>,\n",
       "    <span style=\"color: #008000; text-decoration-color: #008000\">'Recall Red'</span>: <span style=\"color: #008080; text-decoration-color: #008080; font-weight: bold\">0.7805</span>,\n",
       "    <span style=\"color: #008000; text-decoration-color: #008000\">'F1 Red'</span>: <span style=\"color: #008080; text-decoration-color: #008080; font-weight: bold\">0.6847</span>,\n",
       "    <span style=\"color: #008000; text-decoration-color: #008000\">'Precision Blue'</span>: <span style=\"color: #008080; text-decoration-color: #008080; font-weight: bold\">0.5049</span>,\n",
       "    <span style=\"color: #008000; text-decoration-color: #008000\">'Recall Blue'</span>: <span style=\"color: #008080; text-decoration-color: #008080; font-weight: bold\">0.3095</span>,\n",
       "    <span style=\"color: #008000; text-decoration-color: #008000\">'F1 Blue'</span>: <span style=\"color: #008080; text-decoration-color: #008080; font-weight: bold\">0.3838</span>,\n",
       "    <span style=\"color: #008000; text-decoration-color: #008000\">'F1 Macro'</span>: <span style=\"color: #008080; text-decoration-color: #008080; font-weight: bold\">0.5342</span>,\n",
       "    <span style=\"color: #008000; text-decoration-color: #008000\">'ROC AUC'</span>: <span style=\"color: #800080; text-decoration-color: #800080; font-weight: bold\">np.float64</span><span style=\"font-weight: bold\">(</span><span style=\"color: #008080; text-decoration-color: #008080; font-weight: bold\">0.5824</span><span style=\"font-weight: bold\">)</span>,\n",
       "    <span style=\"color: #008000; text-decoration-color: #008000\">'Brier Score'</span>: <span style=\"color: #800080; text-decoration-color: #800080; font-weight: bold\">np.float64</span><span style=\"font-weight: bold\">(</span><span style=\"color: #008080; text-decoration-color: #008080; font-weight: bold\">0.2412</span><span style=\"font-weight: bold\">)</span>,\n",
       "    <span style=\"color: #008000; text-decoration-color: #008000\">'MCC'</span>: <span style=\"color: #800080; text-decoration-color: #800080; font-weight: bold\">np.float64</span><span style=\"font-weight: bold\">(</span><span style=\"color: #008080; text-decoration-color: #008080; font-weight: bold\">0.1016</span><span style=\"font-weight: bold\">)</span>,\n",
       "    <span style=\"color: #008000; text-decoration-color: #008000\">'Kappa'</span>: <span style=\"color: #800080; text-decoration-color: #800080; font-weight: bold\">np.float64</span><span style=\"font-weight: bold\">(</span><span style=\"color: #008080; text-decoration-color: #008080; font-weight: bold\">0.0951</span><span style=\"font-weight: bold\">)</span>\n",
       "<span style=\"font-weight: bold\">}</span>\n",
       "</pre>\n"
      ],
      "text/plain": [
       "\u001b[1m{\u001b[0m\n",
       "    \u001b[32m'Accuracy'\u001b[0m: \u001b[1;36m0.5828\u001b[0m,\n",
       "    \u001b[32m'Balanced Accuracy'\u001b[0m: \u001b[1;35mnp.float64\u001b[0m\u001b[1m(\u001b[0m\u001b[1;36m0.545\u001b[0m\u001b[1m)\u001b[0m,\n",
       "    \u001b[32m'Precision Red'\u001b[0m: \u001b[1;36m0.6099\u001b[0m,\n",
       "    \u001b[32m'Recall Red'\u001b[0m: \u001b[1;36m0.7805\u001b[0m,\n",
       "    \u001b[32m'F1 Red'\u001b[0m: \u001b[1;36m0.6847\u001b[0m,\n",
       "    \u001b[32m'Precision Blue'\u001b[0m: \u001b[1;36m0.5049\u001b[0m,\n",
       "    \u001b[32m'Recall Blue'\u001b[0m: \u001b[1;36m0.3095\u001b[0m,\n",
       "    \u001b[32m'F1 Blue'\u001b[0m: \u001b[1;36m0.3838\u001b[0m,\n",
       "    \u001b[32m'F1 Macro'\u001b[0m: \u001b[1;36m0.5342\u001b[0m,\n",
       "    \u001b[32m'ROC AUC'\u001b[0m: \u001b[1;35mnp.float64\u001b[0m\u001b[1m(\u001b[0m\u001b[1;36m0.5824\u001b[0m\u001b[1m)\u001b[0m,\n",
       "    \u001b[32m'Brier Score'\u001b[0m: \u001b[1;35mnp.float64\u001b[0m\u001b[1m(\u001b[0m\u001b[1;36m0.2412\u001b[0m\u001b[1m)\u001b[0m,\n",
       "    \u001b[32m'MCC'\u001b[0m: \u001b[1;35mnp.float64\u001b[0m\u001b[1m(\u001b[0m\u001b[1;36m0.1016\u001b[0m\u001b[1m)\u001b[0m,\n",
       "    \u001b[32m'Kappa'\u001b[0m: \u001b[1;35mnp.float64\u001b[0m\u001b[1m(\u001b[0m\u001b[1;36m0.0951\u001b[0m\u001b[1m)\u001b[0m\n",
       "\u001b[1m}\u001b[0m\n"
      ]
     },
     "metadata": {},
     "output_type": "display_data"
    }
   ],
   "source": [
    "metrics = evaluate_metrics(model, ufc_data_no_odds)\n",
    "print(metrics)"
   ]
  },
  {
   "cell_type": "markdown",
   "id": "c4ca01a9-3a5f-4f41-8a09-2b330106592f",
   "metadata": {},
   "source": [
    "### 📝 Log Training Results"
   ]
  },
  {
   "cell_type": "code",
   "execution_count": 58,
   "id": "0d28bd89-2462-47df-9129-df672580e6c0",
   "metadata": {},
   "outputs": [
    {
     "name": "stderr",
     "output_type": "stream",
     "text": [
      "INFO:src.helpers:✅ Training logged to ../data/results/training_log_v2.csv\n"
     ]
    }
   ],
   "source": [
    "log_training_result(f\"{model_name} (without odds)\", model.best_params_, metrics, duration)"
   ]
  },
  {
   "cell_type": "markdown",
   "id": "4a981f02-1f13-4359-bc82-889ea07ef4ff",
   "metadata": {},
   "source": [
    "### 💾 Save Model "
   ]
  },
  {
   "cell_type": "code",
   "execution_count": 59,
   "id": "b8c61521-b5ea-4ef0-951d-7dcb2ce177f2",
   "metadata": {},
   "outputs": [
    {
     "name": "stderr",
     "output_type": "stream",
     "text": [
      "INFO:src.io_model:✅ Model 'Random Forest' saved to: /home/mlioi/ufc-predictor/models/rf_best_no_odds.pkl\n"
     ]
    }
   ],
   "source": [
    "save_model(model, name=f\"{file_model_name[model_name]}_no_odds\")"
   ]
  },
  {
   "cell_type": "markdown",
   "id": "6081f72a-eddb-4bde-9d39-0fa2ab81e6a6",
   "metadata": {},
   "source": [
    "##  AdaBoost Model"
   ]
  },
  {
   "cell_type": "markdown",
   "id": "8bd65c48-48ca-43bb-9200-d4e20b21db1c",
   "metadata": {},
   "source": [
    "### 🚀 AdaBoost Training"
   ]
  },
  {
   "cell_type": "code",
   "execution_count": 60,
   "id": "252a130c-93b3-4b0d-8e3e-b29539975a45",
   "metadata": {},
   "outputs": [
    {
     "name": "stderr",
     "output_type": "stream",
     "text": [
      "INFO:src.model_factory:[AdaBoost] UFC GridSearchCV Training (F1_macro)\n",
      "INFO:root:[AdaBoost] 🤖 Training...\n"
     ]
    },
    {
     "name": "stdout",
     "output_type": "stream",
     "text": [
      "Fitting 5 folds for each of 9 candidates, totalling 45 fits\n",
      "[CV 1/5] END learning_rate=0.01, n_estimators=10;, score=0.368 total time=   0.1s\n",
      "[CV 2/5] END learning_rate=0.01, n_estimators=10;, score=0.368 total time=   0.1s\n",
      "[CV 3/5] END learning_rate=0.01, n_estimators=10;, score=0.367 total time=   0.1s\n",
      "[CV 4/5] END learning_rate=0.01, n_estimators=10;, score=0.367 total time=   0.1s\n",
      "[CV 5/5] END learning_rate=0.01, n_estimators=10;, score=0.367 total time=   0.1s\n",
      "[CV 1/5] END learning_rate=0.01, n_estimators=50;, score=0.368 total time=   0.3s\n",
      "[CV 2/5] END learning_rate=0.01, n_estimators=50;, score=0.368 total time=   0.3s\n",
      "[CV 3/5] END learning_rate=0.01, n_estimators=50;, score=0.367 total time=   0.3s\n",
      "[CV 4/5] END learning_rate=0.01, n_estimators=50;, score=0.367 total time=   0.3s\n",
      "[CV 5/5] END learning_rate=0.01, n_estimators=50;, score=0.367 total time=   0.3s\n",
      "[CV 1/5] END learning_rate=0.01, n_estimators=100;, score=0.368 total time=   0.6s\n",
      "[CV 2/5] END learning_rate=0.01, n_estimators=100;, score=0.368 total time=   0.6s\n",
      "[CV 3/5] END learning_rate=0.01, n_estimators=100;, score=0.367 total time=   0.6s\n",
      "[CV 4/5] END learning_rate=0.01, n_estimators=100;, score=0.367 total time=   0.6s\n",
      "[CV 5/5] END learning_rate=0.01, n_estimators=100;, score=0.367 total time=   0.6s\n",
      "[CV 1/5] END learning_rate=0.1, n_estimators=10;, score=0.368 total time=   0.1s\n",
      "[CV 2/5] END learning_rate=0.1, n_estimators=10;, score=0.368 total time=   0.1s\n",
      "[CV 3/5] END learning_rate=0.1, n_estimators=10;, score=0.367 total time=   0.1s\n",
      "[CV 4/5] END learning_rate=0.1, n_estimators=10;, score=0.367 total time=   0.1s\n",
      "[CV 5/5] END learning_rate=0.1, n_estimators=10;, score=0.367 total time=   0.1s\n",
      "[CV 1/5] END learning_rate=0.1, n_estimators=50;, score=0.368 total time=   0.3s\n",
      "[CV 2/5] END learning_rate=0.1, n_estimators=50;, score=0.450 total time=   0.3s\n",
      "[CV 3/5] END learning_rate=0.1, n_estimators=50;, score=0.499 total time=   0.3s\n",
      "[CV 4/5] END learning_rate=0.1, n_estimators=50;, score=0.435 total time=   0.3s\n",
      "[CV 5/5] END learning_rate=0.1, n_estimators=50;, score=0.468 total time=   0.3s\n",
      "[CV 1/5] END learning_rate=0.1, n_estimators=100;, score=0.406 total time=   0.5s\n",
      "[CV 2/5] END learning_rate=0.1, n_estimators=100;, score=0.462 total time=   0.5s\n",
      "[CV 3/5] END learning_rate=0.1, n_estimators=100;, score=0.483 total time=   0.6s\n",
      "[CV 4/5] END learning_rate=0.1, n_estimators=100;, score=0.495 total time=   0.6s\n",
      "[CV 5/5] END learning_rate=0.1, n_estimators=100;, score=0.481 total time=   0.5s\n",
      "[CV 1/5] END learning_rate=1.0, n_estimators=10;, score=0.513 total time=   0.1s\n",
      "[CV 2/5] END learning_rate=1.0, n_estimators=10;, score=0.544 total time=   0.1s\n",
      "[CV 3/5] END learning_rate=1.0, n_estimators=10;, score=0.558 total time=   0.1s\n",
      "[CV 4/5] END learning_rate=1.0, n_estimators=10;, score=0.557 total time=   0.1s\n",
      "[CV 5/5] END learning_rate=1.0, n_estimators=10;, score=0.580 total time=   0.1s\n",
      "[CV 1/5] END learning_rate=1.0, n_estimators=50;, score=0.525 total time=   0.3s\n",
      "[CV 2/5] END learning_rate=1.0, n_estimators=50;, score=0.556 total time=   0.3s\n",
      "[CV 3/5] END learning_rate=1.0, n_estimators=50;, score=0.551 total time=   0.3s\n",
      "[CV 4/5] END learning_rate=1.0, n_estimators=50;, score=0.565 total time=   0.3s\n",
      "[CV 5/5] END learning_rate=1.0, n_estimators=50;, score=0.586 total time=   0.3s\n",
      "[CV 1/5] END learning_rate=1.0, n_estimators=100;, score=0.550 total time=   0.5s\n",
      "[CV 2/5] END learning_rate=1.0, n_estimators=100;, score=0.555 total time=   0.5s\n",
      "[CV 3/5] END learning_rate=1.0, n_estimators=100;, score=0.550 total time=   0.6s\n",
      "[CV 4/5] END learning_rate=1.0, n_estimators=100;, score=0.565 total time=   0.6s\n",
      "[CV 5/5] END learning_rate=1.0, n_estimators=100;, score=0.587 total time=   0.5s\n"
     ]
    },
    {
     "name": "stderr",
     "output_type": "stream",
     "text": [
      "INFO:root:[AdaBoost] 🔍 Best F1_macro: 0.5616\n",
      "[AdaBoost] 🔍 Best Params: {'learning_rate': 1.0, 'n_estimators': 100}\n"
     ]
    }
   ],
   "source": [
    "model_name = 'AdaBoost'\n",
    "start = time.time()\n",
    "model = model_factory(model_name, ufc_data_no_odds, model_params, scoring=\"f1_macro\")\n",
    "end = time.time()\n",
    "duration = end - start"
   ]
  },
  {
   "cell_type": "markdown",
   "id": "0905ee8d-e99f-49e9-8a70-41e1c0740c5a",
   "metadata": {},
   "source": [
    "### 🔍 AdaBoost Metrics"
   ]
  },
  {
   "cell_type": "code",
   "execution_count": 61,
   "id": "d4b526f1-4385-4f58-94fa-f8d235162149",
   "metadata": {
    "scrolled": true
   },
   "outputs": [
    {
     "data": {
      "text/html": [
       "<pre style=\"white-space:pre;overflow-x:auto;line-height:normal;font-family:Menlo,'DejaVu Sans Mono',consolas,'Courier New',monospace\"><span style=\"font-weight: bold\">{</span>\n",
       "    <span style=\"color: #008000; text-decoration-color: #008000\">'Accuracy'</span>: <span style=\"color: #008080; text-decoration-color: #008080; font-weight: bold\">0.607</span>,\n",
       "    <span style=\"color: #008000; text-decoration-color: #008000\">'Balanced Accuracy'</span>: <span style=\"color: #800080; text-decoration-color: #800080; font-weight: bold\">np.float64</span><span style=\"font-weight: bold\">(</span><span style=\"color: #008080; text-decoration-color: #008080; font-weight: bold\">0.5677</span><span style=\"font-weight: bold\">)</span>,\n",
       "    <span style=\"color: #008000; text-decoration-color: #008000\">'Precision Red'</span>: <span style=\"color: #008080; text-decoration-color: #008080; font-weight: bold\">0.624</span>,\n",
       "    <span style=\"color: #008000; text-decoration-color: #008000\">'Recall Red'</span>: <span style=\"color: #008080; text-decoration-color: #008080; font-weight: bold\">0.8121</span>,\n",
       "    <span style=\"color: #008000; text-decoration-color: #008000\">'F1 Red'</span>: <span style=\"color: #008080; text-decoration-color: #008080; font-weight: bold\">0.7057</span>,\n",
       "    <span style=\"color: #008000; text-decoration-color: #008000\">'Precision Blue'</span>: <span style=\"color: #008080; text-decoration-color: #008080; font-weight: bold\">0.5544</span>,\n",
       "    <span style=\"color: #008000; text-decoration-color: #008000\">'Recall Blue'</span>: <span style=\"color: #008080; text-decoration-color: #008080; font-weight: bold\">0.3234</span>,\n",
       "    <span style=\"color: #008000; text-decoration-color: #008000\">'F1 Blue'</span>: <span style=\"color: #008080; text-decoration-color: #008080; font-weight: bold\">0.4085</span>,\n",
       "    <span style=\"color: #008000; text-decoration-color: #008000\">'F1 Macro'</span>: <span style=\"color: #008080; text-decoration-color: #008080; font-weight: bold\">0.5571</span>,\n",
       "    <span style=\"color: #008000; text-decoration-color: #008000\">'ROC AUC'</span>: <span style=\"color: #800080; text-decoration-color: #800080; font-weight: bold\">np.float64</span><span style=\"font-weight: bold\">(</span><span style=\"color: #008080; text-decoration-color: #008080; font-weight: bold\">0.6158</span><span style=\"font-weight: bold\">)</span>,\n",
       "    <span style=\"color: #008000; text-decoration-color: #008000\">'Brier Score'</span>: <span style=\"color: #800080; text-decoration-color: #800080; font-weight: bold\">np.float64</span><span style=\"font-weight: bold\">(</span><span style=\"color: #008080; text-decoration-color: #008080; font-weight: bold\">0.2348</span><span style=\"font-weight: bold\">)</span>,\n",
       "    <span style=\"color: #008000; text-decoration-color: #008000\">'MCC'</span>: <span style=\"color: #800080; text-decoration-color: #800080; font-weight: bold\">np.float64</span><span style=\"font-weight: bold\">(</span><span style=\"color: #008080; text-decoration-color: #008080; font-weight: bold\">0.1555</span><span style=\"font-weight: bold\">)</span>,\n",
       "    <span style=\"color: #008000; text-decoration-color: #008000\">'Kappa'</span>: <span style=\"color: #800080; text-decoration-color: #800080; font-weight: bold\">np.float64</span><span style=\"font-weight: bold\">(</span><span style=\"color: #008080; text-decoration-color: #008080; font-weight: bold\">0.1438</span><span style=\"font-weight: bold\">)</span>\n",
       "<span style=\"font-weight: bold\">}</span>\n",
       "</pre>\n"
      ],
      "text/plain": [
       "\u001b[1m{\u001b[0m\n",
       "    \u001b[32m'Accuracy'\u001b[0m: \u001b[1;36m0.607\u001b[0m,\n",
       "    \u001b[32m'Balanced Accuracy'\u001b[0m: \u001b[1;35mnp.float64\u001b[0m\u001b[1m(\u001b[0m\u001b[1;36m0.5677\u001b[0m\u001b[1m)\u001b[0m,\n",
       "    \u001b[32m'Precision Red'\u001b[0m: \u001b[1;36m0.624\u001b[0m,\n",
       "    \u001b[32m'Recall Red'\u001b[0m: \u001b[1;36m0.8121\u001b[0m,\n",
       "    \u001b[32m'F1 Red'\u001b[0m: \u001b[1;36m0.7057\u001b[0m,\n",
       "    \u001b[32m'Precision Blue'\u001b[0m: \u001b[1;36m0.5544\u001b[0m,\n",
       "    \u001b[32m'Recall Blue'\u001b[0m: \u001b[1;36m0.3234\u001b[0m,\n",
       "    \u001b[32m'F1 Blue'\u001b[0m: \u001b[1;36m0.4085\u001b[0m,\n",
       "    \u001b[32m'F1 Macro'\u001b[0m: \u001b[1;36m0.5571\u001b[0m,\n",
       "    \u001b[32m'ROC AUC'\u001b[0m: \u001b[1;35mnp.float64\u001b[0m\u001b[1m(\u001b[0m\u001b[1;36m0.6158\u001b[0m\u001b[1m)\u001b[0m,\n",
       "    \u001b[32m'Brier Score'\u001b[0m: \u001b[1;35mnp.float64\u001b[0m\u001b[1m(\u001b[0m\u001b[1;36m0.2348\u001b[0m\u001b[1m)\u001b[0m,\n",
       "    \u001b[32m'MCC'\u001b[0m: \u001b[1;35mnp.float64\u001b[0m\u001b[1m(\u001b[0m\u001b[1;36m0.1555\u001b[0m\u001b[1m)\u001b[0m,\n",
       "    \u001b[32m'Kappa'\u001b[0m: \u001b[1;35mnp.float64\u001b[0m\u001b[1m(\u001b[0m\u001b[1;36m0.1438\u001b[0m\u001b[1m)\u001b[0m\n",
       "\u001b[1m}\u001b[0m\n"
      ]
     },
     "metadata": {},
     "output_type": "display_data"
    }
   ],
   "source": [
    "metrics = evaluate_metrics(model, ufc_data_no_odds)\n",
    "print(metrics)"
   ]
  },
  {
   "cell_type": "markdown",
   "id": "a0db0b38-52e6-489d-9479-3396fd86a31d",
   "metadata": {},
   "source": [
    "### 📝 Log Training Results"
   ]
  },
  {
   "cell_type": "code",
   "execution_count": 62,
   "id": "af1b8ba9-5cf1-41f9-84c2-184920203ec1",
   "metadata": {},
   "outputs": [
    {
     "name": "stderr",
     "output_type": "stream",
     "text": [
      "INFO:src.helpers:✅ Training logged to ../data/results/training_log_v2.csv\n"
     ]
    }
   ],
   "source": [
    "log_training_result(f\"{model_name} (without odds)\", model.best_params_, metrics, duration)"
   ]
  },
  {
   "cell_type": "markdown",
   "id": "5f55d1eb-fe54-4b8c-a7b5-0ad1e3461fd0",
   "metadata": {},
   "source": [
    "### 💾 Save Model "
   ]
  },
  {
   "cell_type": "code",
   "execution_count": 63,
   "id": "14089620-5fcf-4aae-93b2-d4f408d92227",
   "metadata": {},
   "outputs": [
    {
     "name": "stderr",
     "output_type": "stream",
     "text": [
      "INFO:src.io_model:✅ Model 'AdaBoost' saved to: /home/mlioi/ufc-predictor/models/ab_best_no_odds.pkl\n"
     ]
    }
   ],
   "source": [
    "save_model(model, name=f\"{file_model_name[model_name]}_no_odds\")"
   ]
  },
  {
   "cell_type": "markdown",
   "id": "b04622d2-b95b-490d-8a9a-bd25b62332de",
   "metadata": {},
   "source": [
    "## Naive Bayes Model"
   ]
  },
  {
   "cell_type": "markdown",
   "id": "2ba24622-3883-4a57-bcbf-b7439d23b862",
   "metadata": {},
   "source": [
    "### 🚀 Naive Bayes Training"
   ]
  },
  {
   "cell_type": "code",
   "execution_count": 64,
   "id": "bc6fe226-1d09-4407-b057-f0b15e9d79a0",
   "metadata": {},
   "outputs": [
    {
     "name": "stderr",
     "output_type": "stream",
     "text": [
      "INFO:src.model_factory:[Naive Bayes] UFC GridSearchCV Training (F1_macro)\n",
      "INFO:root:[Naive Bayes] 🤖 Training...\n"
     ]
    },
    {
     "name": "stdout",
     "output_type": "stream",
     "text": [
      "Fitting 5 folds for each of 4 candidates, totalling 20 fits\n",
      "[CV 1/5] END ...............var_smoothing=1e-08;, score=0.582 total time=   0.0s\n",
      "[CV 2/5] END ...............var_smoothing=1e-08;, score=0.552 total time=   0.0s\n",
      "[CV 3/5] END ...............var_smoothing=1e-08;, score=0.575 total time=   0.0s\n",
      "[CV 4/5] END ...............var_smoothing=1e-08;, score=0.546 total time=   0.0s\n",
      "[CV 5/5] END ...............var_smoothing=1e-08;, score=0.550 total time=   0.0s\n",
      "[CV 1/5] END ...............var_smoothing=1e-07;, score=0.582 total time=   0.0s\n",
      "[CV 2/5] END ...............var_smoothing=1e-07;, score=0.552 total time=   0.0s\n",
      "[CV 3/5] END ...............var_smoothing=1e-07;, score=0.575 total time=   0.0s\n",
      "[CV 4/5] END ...............var_smoothing=1e-07;, score=0.546 total time=   0.0s\n",
      "[CV 5/5] END ...............var_smoothing=1e-07;, score=0.550 total time=   0.0s\n",
      "[CV 1/5] END ...............var_smoothing=1e-06;, score=0.582 total time=   0.0s\n",
      "[CV 2/5] END ...............var_smoothing=1e-06;, score=0.552 total time=   0.0s\n",
      "[CV 3/5] END ...............var_smoothing=1e-06;, score=0.575 total time=   0.0s\n",
      "[CV 4/5] END ...............var_smoothing=1e-06;, score=0.546 total time=   0.0s\n",
      "[CV 5/5] END ...............var_smoothing=1e-06;, score=0.550 total time=   0.0s\n",
      "[CV 1/5] END ...............var_smoothing=1e-05;, score=0.582 total time=   0.0s\n",
      "[CV 2/5] END ...............var_smoothing=1e-05;, score=0.552 total time=   0.0s\n",
      "[CV 3/5] END ...............var_smoothing=1e-05;, score=0.575 total time=   0.0s\n",
      "[CV 4/5] END ...............var_smoothing=1e-05;, score=0.546 total time=   0.0s\n",
      "[CV 5/5] END ...............var_smoothing=1e-05;, score=0.550 total time=   0.0s\n"
     ]
    },
    {
     "name": "stderr",
     "output_type": "stream",
     "text": [
      "INFO:root:[Naive Bayes] 🔍 Best F1_macro: 0.5609\n",
      "[Naive Bayes] 🔍 Best Params: {'var_smoothing': 1e-08}\n"
     ]
    }
   ],
   "source": [
    "model_name = 'Naive Bayes'\n",
    "start = time.time()\n",
    "model = model_factory(model_name, ufc_data_no_odds, model_params, scoring=\"f1_macro\")\n",
    "end = time.time()\n",
    "duration = end - start"
   ]
  },
  {
   "cell_type": "markdown",
   "id": "51882288-7d9c-4e72-90e7-bbdeba1baef1",
   "metadata": {},
   "source": [
    "### 🔍 Naive Bayes Metrics"
   ]
  },
  {
   "cell_type": "code",
   "execution_count": 65,
   "id": "a1b47ea8-d1c2-4d5f-b67d-e07388629493",
   "metadata": {
    "scrolled": true
   },
   "outputs": [
    {
     "data": {
      "text/html": [
       "<pre style=\"white-space:pre;overflow-x:auto;line-height:normal;font-family:Menlo,'DejaVu Sans Mono',consolas,'Courier New',monospace\"><span style=\"font-weight: bold\">{</span>\n",
       "    <span style=\"color: #008000; text-decoration-color: #008000\">'Accuracy'</span>: <span style=\"color: #008080; text-decoration-color: #008080; font-weight: bold\">0.5554</span>,\n",
       "    <span style=\"color: #008000; text-decoration-color: #008000\">'Balanced Accuracy'</span>: <span style=\"color: #800080; text-decoration-color: #800080; font-weight: bold\">np.float64</span><span style=\"font-weight: bold\">(</span><span style=\"color: #008080; text-decoration-color: #008080; font-weight: bold\">0.5631</span><span style=\"font-weight: bold\">)</span>,\n",
       "    <span style=\"color: #008000; text-decoration-color: #008000\">'Precision Red'</span>: <span style=\"color: #008080; text-decoration-color: #008080; font-weight: bold\">0.6468</span>,\n",
       "    <span style=\"color: #008000; text-decoration-color: #008000\">'Recall Red'</span>: <span style=\"color: #008080; text-decoration-color: #008080; font-weight: bold\">0.5151</span>,\n",
       "    <span style=\"color: #008000; text-decoration-color: #008000\">'F1 Red'</span>: <span style=\"color: #008080; text-decoration-color: #008080; font-weight: bold\">0.5735</span>,\n",
       "    <span style=\"color: #008000; text-decoration-color: #008000\">'Precision Blue'</span>: <span style=\"color: #008080; text-decoration-color: #008080; font-weight: bold\">0.4768</span>,\n",
       "    <span style=\"color: #008000; text-decoration-color: #008000\">'Recall Blue'</span>: <span style=\"color: #008080; text-decoration-color: #008080; font-weight: bold\">0.6111</span>,\n",
       "    <span style=\"color: #008000; text-decoration-color: #008000\">'F1 Blue'</span>: <span style=\"color: #008080; text-decoration-color: #008080; font-weight: bold\">0.5357</span>,\n",
       "    <span style=\"color: #008000; text-decoration-color: #008000\">'F1 Macro'</span>: <span style=\"color: #008080; text-decoration-color: #008080; font-weight: bold\">0.5546</span>,\n",
       "    <span style=\"color: #008000; text-decoration-color: #008000\">'ROC AUC'</span>: <span style=\"color: #800080; text-decoration-color: #800080; font-weight: bold\">np.float64</span><span style=\"font-weight: bold\">(</span><span style=\"color: #008080; text-decoration-color: #008080; font-weight: bold\">0.6003</span><span style=\"font-weight: bold\">)</span>,\n",
       "    <span style=\"color: #008000; text-decoration-color: #008000\">'Brier Score'</span>: <span style=\"color: #800080; text-decoration-color: #800080; font-weight: bold\">np.float64</span><span style=\"font-weight: bold\">(</span><span style=\"color: #008080; text-decoration-color: #008080; font-weight: bold\">0.2694</span><span style=\"font-weight: bold\">)</span>,\n",
       "    <span style=\"color: #008000; text-decoration-color: #008000\">'MCC'</span>: <span style=\"color: #800080; text-decoration-color: #800080; font-weight: bold\">np.float64</span><span style=\"font-weight: bold\">(</span><span style=\"color: #008080; text-decoration-color: #008080; font-weight: bold\">0.1249</span><span style=\"font-weight: bold\">)</span>,\n",
       "    <span style=\"color: #008000; text-decoration-color: #008000\">'Kappa'</span>: <span style=\"color: #800080; text-decoration-color: #800080; font-weight: bold\">np.float64</span><span style=\"font-weight: bold\">(</span><span style=\"color: #008080; text-decoration-color: #008080; font-weight: bold\">0.1214</span><span style=\"font-weight: bold\">)</span>\n",
       "<span style=\"font-weight: bold\">}</span>\n",
       "</pre>\n"
      ],
      "text/plain": [
       "\u001b[1m{\u001b[0m\n",
       "    \u001b[32m'Accuracy'\u001b[0m: \u001b[1;36m0.5554\u001b[0m,\n",
       "    \u001b[32m'Balanced Accuracy'\u001b[0m: \u001b[1;35mnp.float64\u001b[0m\u001b[1m(\u001b[0m\u001b[1;36m0.5631\u001b[0m\u001b[1m)\u001b[0m,\n",
       "    \u001b[32m'Precision Red'\u001b[0m: \u001b[1;36m0.6468\u001b[0m,\n",
       "    \u001b[32m'Recall Red'\u001b[0m: \u001b[1;36m0.5151\u001b[0m,\n",
       "    \u001b[32m'F1 Red'\u001b[0m: \u001b[1;36m0.5735\u001b[0m,\n",
       "    \u001b[32m'Precision Blue'\u001b[0m: \u001b[1;36m0.4768\u001b[0m,\n",
       "    \u001b[32m'Recall Blue'\u001b[0m: \u001b[1;36m0.6111\u001b[0m,\n",
       "    \u001b[32m'F1 Blue'\u001b[0m: \u001b[1;36m0.5357\u001b[0m,\n",
       "    \u001b[32m'F1 Macro'\u001b[0m: \u001b[1;36m0.5546\u001b[0m,\n",
       "    \u001b[32m'ROC AUC'\u001b[0m: \u001b[1;35mnp.float64\u001b[0m\u001b[1m(\u001b[0m\u001b[1;36m0.6003\u001b[0m\u001b[1m)\u001b[0m,\n",
       "    \u001b[32m'Brier Score'\u001b[0m: \u001b[1;35mnp.float64\u001b[0m\u001b[1m(\u001b[0m\u001b[1;36m0.2694\u001b[0m\u001b[1m)\u001b[0m,\n",
       "    \u001b[32m'MCC'\u001b[0m: \u001b[1;35mnp.float64\u001b[0m\u001b[1m(\u001b[0m\u001b[1;36m0.1249\u001b[0m\u001b[1m)\u001b[0m,\n",
       "    \u001b[32m'Kappa'\u001b[0m: \u001b[1;35mnp.float64\u001b[0m\u001b[1m(\u001b[0m\u001b[1;36m0.1214\u001b[0m\u001b[1m)\u001b[0m\n",
       "\u001b[1m}\u001b[0m\n"
      ]
     },
     "metadata": {},
     "output_type": "display_data"
    }
   ],
   "source": [
    "metrics = evaluate_metrics(model, ufc_data_no_odds)\n",
    "print(metrics)"
   ]
  },
  {
   "cell_type": "markdown",
   "id": "5514b2de-a35a-4671-9b01-5da7b5c5d914",
   "metadata": {},
   "source": [
    "### 📝 Log Training Results"
   ]
  },
  {
   "cell_type": "code",
   "execution_count": 66,
   "id": "2d42179a-2630-48c6-b0bc-9204a008879a",
   "metadata": {},
   "outputs": [
    {
     "name": "stderr",
     "output_type": "stream",
     "text": [
      "INFO:src.helpers:✅ Training logged to ../data/results/training_log_v2.csv\n"
     ]
    }
   ],
   "source": [
    "log_training_result(f\"{model_name} (without odds)\", model.best_params_, metrics, duration)"
   ]
  },
  {
   "cell_type": "markdown",
   "id": "1265daac-f195-4933-a527-7d37baaf8043",
   "metadata": {},
   "source": [
    "### 💾 Save Model "
   ]
  },
  {
   "cell_type": "code",
   "execution_count": 67,
   "id": "05cf0bd3-0ecb-4d28-a526-69f1e329b735",
   "metadata": {},
   "outputs": [
    {
     "name": "stderr",
     "output_type": "stream",
     "text": [
      "INFO:src.io_model:✅ Model 'Naive Bayes' saved to: /home/mlioi/ufc-predictor/models/nb_best_no_odds.pkl\n"
     ]
    }
   ],
   "source": [
    "save_model(model, name=f\"{file_model_name[model_name]}_no_odds\")"
   ]
  },
  {
   "cell_type": "markdown",
   "id": "29c9ac56-f730-4111-a3cb-9c2000525278",
   "metadata": {},
   "source": [
    "## Gradient Boosting Model"
   ]
  },
  {
   "cell_type": "markdown",
   "id": "3544bcf1-06a0-49fc-9685-523c557a1dce",
   "metadata": {},
   "source": [
    "### 🚀 Gradient Boosting Training"
   ]
  },
  {
   "cell_type": "code",
   "execution_count": 68,
   "id": "c87fa827-e7dd-425b-8464-aaed5e04b17a",
   "metadata": {
    "scrolled": true
   },
   "outputs": [
    {
     "name": "stderr",
     "output_type": "stream",
     "text": [
      "INFO:src.model_factory:[Gradient Boosting] UFC GridSearchCV Training (F1_macro)\n",
      "INFO:root:[Gradient Boosting] 🤖 Training...\n"
     ]
    },
    {
     "name": "stdout",
     "output_type": "stream",
     "text": [
      "Fitting 5 folds for each of 18 candidates, totalling 90 fits\n",
      "[CV 1/5] END learning_rate=0.01, max_depth=3, n_estimators=100;, score=0.496 total time=   1.1s\n",
      "[CV 2/5] END learning_rate=0.01, max_depth=3, n_estimators=100;, score=0.487 total time=   1.1s\n",
      "[CV 3/5] END learning_rate=0.01, max_depth=3, n_estimators=100;, score=0.508 total time=   1.1s\n",
      "[CV 4/5] END learning_rate=0.01, max_depth=3, n_estimators=100;, score=0.474 total time=   1.1s\n",
      "[CV 5/5] END learning_rate=0.01, max_depth=3, n_estimators=100;, score=0.501 total time=   1.1s\n",
      "[CV 1/5] END learning_rate=0.01, max_depth=3, n_estimators=200;, score=0.521 total time=   2.2s\n",
      "[CV 2/5] END learning_rate=0.01, max_depth=3, n_estimators=200;, score=0.543 total time=   2.1s\n",
      "[CV 3/5] END learning_rate=0.01, max_depth=3, n_estimators=200;, score=0.546 total time=   2.1s\n",
      "[CV 4/5] END learning_rate=0.01, max_depth=3, n_estimators=200;, score=0.531 total time=   2.1s\n",
      "[CV 5/5] END learning_rate=0.01, max_depth=3, n_estimators=200;, score=0.565 total time=   2.1s\n",
      "[CV 1/5] END learning_rate=0.01, max_depth=5, n_estimators=100;, score=0.511 total time=   1.8s\n",
      "[CV 2/5] END learning_rate=0.01, max_depth=5, n_estimators=100;, score=0.509 total time=   1.8s\n",
      "[CV 3/5] END learning_rate=0.01, max_depth=5, n_estimators=100;, score=0.535 total time=   1.8s\n",
      "[CV 4/5] END learning_rate=0.01, max_depth=5, n_estimators=100;, score=0.529 total time=   1.8s\n",
      "[CV 5/5] END learning_rate=0.01, max_depth=5, n_estimators=100;, score=0.525 total time=   1.8s\n",
      "[CV 1/5] END learning_rate=0.01, max_depth=5, n_estimators=200;, score=0.532 total time=   3.6s\n",
      "[CV 2/5] END learning_rate=0.01, max_depth=5, n_estimators=200;, score=0.542 total time=   3.6s\n",
      "[CV 3/5] END learning_rate=0.01, max_depth=5, n_estimators=200;, score=0.558 total time=   3.6s\n",
      "[CV 4/5] END learning_rate=0.01, max_depth=5, n_estimators=200;, score=0.567 total time=   3.6s\n",
      "[CV 5/5] END learning_rate=0.01, max_depth=5, n_estimators=200;, score=0.552 total time=   3.7s\n",
      "[CV 1/5] END learning_rate=0.01, max_depth=7, n_estimators=100;, score=0.511 total time=   2.9s\n",
      "[CV 2/5] END learning_rate=0.01, max_depth=7, n_estimators=100;, score=0.519 total time=   2.9s\n",
      "[CV 3/5] END learning_rate=0.01, max_depth=7, n_estimators=100;, score=0.529 total time=   2.9s\n",
      "[CV 4/5] END learning_rate=0.01, max_depth=7, n_estimators=100;, score=0.544 total time=   2.9s\n",
      "[CV 5/5] END learning_rate=0.01, max_depth=7, n_estimators=100;, score=0.525 total time=   2.9s\n",
      "[CV 1/5] END learning_rate=0.01, max_depth=7, n_estimators=200;, score=0.543 total time=   5.7s\n",
      "[CV 2/5] END learning_rate=0.01, max_depth=7, n_estimators=200;, score=0.533 total time=   5.7s\n",
      "[CV 3/5] END learning_rate=0.01, max_depth=7, n_estimators=200;, score=0.560 total time=   5.6s\n",
      "[CV 4/5] END learning_rate=0.01, max_depth=7, n_estimators=200;, score=0.570 total time=   5.6s\n",
      "[CV 5/5] END learning_rate=0.01, max_depth=7, n_estimators=200;, score=0.547 total time=   5.6s\n",
      "[CV 1/5] END learning_rate=0.1, max_depth=3, n_estimators=100;, score=0.550 total time=   1.0s\n",
      "[CV 2/5] END learning_rate=0.1, max_depth=3, n_estimators=100;, score=0.548 total time=   1.0s\n",
      "[CV 3/5] END learning_rate=0.1, max_depth=3, n_estimators=100;, score=0.573 total time=   1.0s\n",
      "[CV 4/5] END learning_rate=0.1, max_depth=3, n_estimators=100;, score=0.558 total time=   1.0s\n",
      "[CV 5/5] END learning_rate=0.1, max_depth=3, n_estimators=100;, score=0.573 total time=   1.1s\n",
      "[CV 1/5] END learning_rate=0.1, max_depth=3, n_estimators=200;, score=0.538 total time=   2.1s\n",
      "[CV 2/5] END learning_rate=0.1, max_depth=3, n_estimators=200;, score=0.556 total time=   2.1s\n",
      "[CV 3/5] END learning_rate=0.1, max_depth=3, n_estimators=200;, score=0.567 total time=   2.1s\n",
      "[CV 4/5] END learning_rate=0.1, max_depth=3, n_estimators=200;, score=0.574 total time=   2.1s\n",
      "[CV 5/5] END learning_rate=0.1, max_depth=3, n_estimators=200;, score=0.556 total time=   2.1s\n",
      "[CV 1/5] END learning_rate=0.1, max_depth=5, n_estimators=100;, score=0.567 total time=   1.7s\n",
      "[CV 2/5] END learning_rate=0.1, max_depth=5, n_estimators=100;, score=0.561 total time=   1.7s\n",
      "[CV 3/5] END learning_rate=0.1, max_depth=5, n_estimators=100;, score=0.568 total time=   1.8s\n",
      "[CV 4/5] END learning_rate=0.1, max_depth=5, n_estimators=100;, score=0.568 total time=   1.8s\n",
      "[CV 5/5] END learning_rate=0.1, max_depth=5, n_estimators=100;, score=0.547 total time=   1.7s\n",
      "[CV 1/5] END learning_rate=0.1, max_depth=5, n_estimators=200;, score=0.566 total time=   3.5s\n",
      "[CV 2/5] END learning_rate=0.1, max_depth=5, n_estimators=200;, score=0.535 total time=   3.5s\n",
      "[CV 3/5] END learning_rate=0.1, max_depth=5, n_estimators=200;, score=0.552 total time=   3.6s\n",
      "[CV 4/5] END learning_rate=0.1, max_depth=5, n_estimators=200;, score=0.550 total time=   3.5s\n",
      "[CV 5/5] END learning_rate=0.1, max_depth=5, n_estimators=200;, score=0.542 total time=   3.5s\n",
      "[CV 1/5] END learning_rate=0.1, max_depth=7, n_estimators=100;, score=0.556 total time=   2.6s\n",
      "[CV 2/5] END learning_rate=0.1, max_depth=7, n_estimators=100;, score=0.565 total time=   2.7s\n",
      "[CV 3/5] END learning_rate=0.1, max_depth=7, n_estimators=100;, score=0.548 total time=   2.7s\n",
      "[CV 4/5] END learning_rate=0.1, max_depth=7, n_estimators=100;, score=0.571 total time=   2.6s\n",
      "[CV 5/5] END learning_rate=0.1, max_depth=7, n_estimators=100;, score=0.540 total time=   2.6s\n",
      "[CV 1/5] END learning_rate=0.1, max_depth=7, n_estimators=200;, score=0.563 total time=   5.3s\n",
      "[CV 2/5] END learning_rate=0.1, max_depth=7, n_estimators=200;, score=0.547 total time=   5.3s\n",
      "[CV 3/5] END learning_rate=0.1, max_depth=7, n_estimators=200;, score=0.550 total time=   5.4s\n",
      "[CV 4/5] END learning_rate=0.1, max_depth=7, n_estimators=200;, score=0.556 total time=   5.3s\n",
      "[CV 5/5] END learning_rate=0.1, max_depth=7, n_estimators=200;, score=0.530 total time=   5.3s\n",
      "[CV 1/5] END learning_rate=1.0, max_depth=3, n_estimators=100;, score=0.528 total time=   1.1s\n",
      "[CV 2/5] END learning_rate=1.0, max_depth=3, n_estimators=100;, score=0.519 total time=   1.0s\n",
      "[CV 3/5] END learning_rate=1.0, max_depth=3, n_estimators=100;, score=0.545 total time=   1.0s\n",
      "[CV 4/5] END learning_rate=1.0, max_depth=3, n_estimators=100;, score=0.577 total time=   1.1s\n",
      "[CV 5/5] END learning_rate=1.0, max_depth=3, n_estimators=100;, score=0.526 total time=   1.0s\n",
      "[CV 1/5] END learning_rate=1.0, max_depth=3, n_estimators=200;, score=0.540 total time=   2.1s\n",
      "[CV 2/5] END learning_rate=1.0, max_depth=3, n_estimators=200;, score=0.540 total time=   2.1s\n",
      "[CV 3/5] END learning_rate=1.0, max_depth=3, n_estimators=200;, score=0.552 total time=   2.1s\n",
      "[CV 4/5] END learning_rate=1.0, max_depth=3, n_estimators=200;, score=0.557 total time=   2.1s\n",
      "[CV 5/5] END learning_rate=1.0, max_depth=3, n_estimators=200;, score=0.522 total time=   2.1s\n",
      "[CV 1/5] END learning_rate=1.0, max_depth=5, n_estimators=100;, score=0.562 total time=   1.8s\n",
      "[CV 2/5] END learning_rate=1.0, max_depth=5, n_estimators=100;, score=0.542 total time=   1.8s\n",
      "[CV 3/5] END learning_rate=1.0, max_depth=5, n_estimators=100;, score=0.538 total time=   1.8s\n",
      "[CV 4/5] END learning_rate=1.0, max_depth=5, n_estimators=100;, score=0.555 total time=   1.8s\n",
      "[CV 5/5] END learning_rate=1.0, max_depth=5, n_estimators=100;, score=0.532 total time=   1.8s\n",
      "[CV 1/5] END learning_rate=1.0, max_depth=5, n_estimators=200;, score=0.555 total time=   3.5s\n",
      "[CV 2/5] END learning_rate=1.0, max_depth=5, n_estimators=200;, score=0.540 total time=   3.5s\n",
      "[CV 3/5] END learning_rate=1.0, max_depth=5, n_estimators=200;, score=0.550 total time=   3.5s\n",
      "[CV 4/5] END learning_rate=1.0, max_depth=5, n_estimators=200;, score=0.568 total time=   3.5s\n",
      "[CV 5/5] END learning_rate=1.0, max_depth=5, n_estimators=200;, score=0.518 total time=   3.5s\n",
      "[CV 1/5] END learning_rate=1.0, max_depth=7, n_estimators=100;, score=0.543 total time=   2.6s\n",
      "[CV 2/5] END learning_rate=1.0, max_depth=7, n_estimators=100;, score=0.529 total time=   2.6s\n",
      "[CV 3/5] END learning_rate=1.0, max_depth=7, n_estimators=100;, score=0.537 total time=   2.6s\n",
      "[CV 4/5] END learning_rate=1.0, max_depth=7, n_estimators=100;, score=0.591 total time=   2.7s\n",
      "[CV 5/5] END learning_rate=1.0, max_depth=7, n_estimators=100;, score=0.541 total time=   2.7s\n",
      "[CV 1/5] END learning_rate=1.0, max_depth=7, n_estimators=200;, score=0.533 total time=   5.4s\n",
      "[CV 2/5] END learning_rate=1.0, max_depth=7, n_estimators=200;, score=0.534 total time=   5.3s\n",
      "[CV 3/5] END learning_rate=1.0, max_depth=7, n_estimators=200;, score=0.548 total time=   5.3s\n",
      "[CV 4/5] END learning_rate=1.0, max_depth=7, n_estimators=200;, score=0.552 total time=   5.3s\n",
      "[CV 5/5] END learning_rate=1.0, max_depth=7, n_estimators=200;, score=0.532 total time=   5.4s\n"
     ]
    },
    {
     "name": "stderr",
     "output_type": "stream",
     "text": [
      "INFO:root:[Gradient Boosting] 🔍 Best F1_macro: 0.5620\n",
      "[Gradient Boosting] 🔍 Best Params: {'learning_rate': 0.1, 'max_depth': 5, 'n_estimators': 100}\n"
     ]
    }
   ],
   "source": [
    "model_name = \"Gradient Boosting\"\n",
    "start = time.time()\n",
    "model = model_factory(model_name, ufc_data_no_odds, model_params, scoring=\"f1_macro\")\n",
    "end = time.time()\n",
    "duration = end - start"
   ]
  },
  {
   "cell_type": "markdown",
   "id": "10b6b15b-4666-4f0b-b5ae-73fce8a83d07",
   "metadata": {},
   "source": [
    "### 🔍 Gradient Boosting Metrics"
   ]
  },
  {
   "cell_type": "code",
   "execution_count": 69,
   "id": "70945f99-b0fd-4c53-b509-ba1bdf04b28b",
   "metadata": {},
   "outputs": [
    {
     "data": {
      "text/html": [
       "<pre style=\"white-space:pre;overflow-x:auto;line-height:normal;font-family:Menlo,'DejaVu Sans Mono',consolas,'Courier New',monospace\"><span style=\"font-weight: bold\">{</span>\n",
       "    <span style=\"color: #008000; text-decoration-color: #008000\">'Accuracy'</span>: <span style=\"color: #008080; text-decoration-color: #008080; font-weight: bold\">0.607</span>,\n",
       "    <span style=\"color: #008000; text-decoration-color: #008000\">'Balanced Accuracy'</span>: <span style=\"color: #800080; text-decoration-color: #800080; font-weight: bold\">np.float64</span><span style=\"font-weight: bold\">(</span><span style=\"color: #008080; text-decoration-color: #008080; font-weight: bold\">0.573</span><span style=\"font-weight: bold\">)</span>,\n",
       "    <span style=\"color: #008000; text-decoration-color: #008000\">'Precision Red'</span>: <span style=\"color: #008080; text-decoration-color: #008080; font-weight: bold\">0.6295</span>,\n",
       "    <span style=\"color: #008000; text-decoration-color: #008000\">'Recall Red'</span>: <span style=\"color: #008080; text-decoration-color: #008080; font-weight: bold\">0.7848</span>,\n",
       "    <span style=\"color: #008000; text-decoration-color: #008000\">'F1 Red'</span>: <span style=\"color: #008080; text-decoration-color: #008080; font-weight: bold\">0.6986</span>,\n",
       "    <span style=\"color: #008000; text-decoration-color: #008000\">'Precision Blue'</span>: <span style=\"color: #008080; text-decoration-color: #008080; font-weight: bold\">0.5482</span>,\n",
       "    <span style=\"color: #008000; text-decoration-color: #008000\">'Recall Blue'</span>: <span style=\"color: #008080; text-decoration-color: #008080; font-weight: bold\">0.3611</span>,\n",
       "    <span style=\"color: #008000; text-decoration-color: #008000\">'F1 Blue'</span>: <span style=\"color: #008080; text-decoration-color: #008080; font-weight: bold\">0.4354</span>,\n",
       "    <span style=\"color: #008000; text-decoration-color: #008000\">'F1 Macro'</span>: <span style=\"color: #008080; text-decoration-color: #008080; font-weight: bold\">0.567</span>,\n",
       "    <span style=\"color: #008000; text-decoration-color: #008000\">'ROC AUC'</span>: <span style=\"color: #800080; text-decoration-color: #800080; font-weight: bold\">np.float64</span><span style=\"font-weight: bold\">(</span><span style=\"color: #008080; text-decoration-color: #008080; font-weight: bold\">0.6098</span><span style=\"font-weight: bold\">)</span>,\n",
       "    <span style=\"color: #008000; text-decoration-color: #008000\">'Brier Score'</span>: <span style=\"color: #800080; text-decoration-color: #800080; font-weight: bold\">np.float64</span><span style=\"font-weight: bold\">(</span><span style=\"color: #008080; text-decoration-color: #008080; font-weight: bold\">0.2369</span><span style=\"font-weight: bold\">)</span>,\n",
       "    <span style=\"color: #008000; text-decoration-color: #008000\">'MCC'</span>: <span style=\"color: #800080; text-decoration-color: #800080; font-weight: bold\">np.float64</span><span style=\"font-weight: bold\">(</span><span style=\"color: #008080; text-decoration-color: #008080; font-weight: bold\">0.161</span><span style=\"font-weight: bold\">)</span>,\n",
       "    <span style=\"color: #008000; text-decoration-color: #008000\">'Kappa'</span>: <span style=\"color: #800080; text-decoration-color: #800080; font-weight: bold\">np.float64</span><span style=\"font-weight: bold\">(</span><span style=\"color: #008080; text-decoration-color: #008080; font-weight: bold\">0.1531</span><span style=\"font-weight: bold\">)</span>\n",
       "<span style=\"font-weight: bold\">}</span>\n",
       "</pre>\n"
      ],
      "text/plain": [
       "\u001b[1m{\u001b[0m\n",
       "    \u001b[32m'Accuracy'\u001b[0m: \u001b[1;36m0.607\u001b[0m,\n",
       "    \u001b[32m'Balanced Accuracy'\u001b[0m: \u001b[1;35mnp.float64\u001b[0m\u001b[1m(\u001b[0m\u001b[1;36m0.573\u001b[0m\u001b[1m)\u001b[0m,\n",
       "    \u001b[32m'Precision Red'\u001b[0m: \u001b[1;36m0.6295\u001b[0m,\n",
       "    \u001b[32m'Recall Red'\u001b[0m: \u001b[1;36m0.7848\u001b[0m,\n",
       "    \u001b[32m'F1 Red'\u001b[0m: \u001b[1;36m0.6986\u001b[0m,\n",
       "    \u001b[32m'Precision Blue'\u001b[0m: \u001b[1;36m0.5482\u001b[0m,\n",
       "    \u001b[32m'Recall Blue'\u001b[0m: \u001b[1;36m0.3611\u001b[0m,\n",
       "    \u001b[32m'F1 Blue'\u001b[0m: \u001b[1;36m0.4354\u001b[0m,\n",
       "    \u001b[32m'F1 Macro'\u001b[0m: \u001b[1;36m0.567\u001b[0m,\n",
       "    \u001b[32m'ROC AUC'\u001b[0m: \u001b[1;35mnp.float64\u001b[0m\u001b[1m(\u001b[0m\u001b[1;36m0.6098\u001b[0m\u001b[1m)\u001b[0m,\n",
       "    \u001b[32m'Brier Score'\u001b[0m: \u001b[1;35mnp.float64\u001b[0m\u001b[1m(\u001b[0m\u001b[1;36m0.2369\u001b[0m\u001b[1m)\u001b[0m,\n",
       "    \u001b[32m'MCC'\u001b[0m: \u001b[1;35mnp.float64\u001b[0m\u001b[1m(\u001b[0m\u001b[1;36m0.161\u001b[0m\u001b[1m)\u001b[0m,\n",
       "    \u001b[32m'Kappa'\u001b[0m: \u001b[1;35mnp.float64\u001b[0m\u001b[1m(\u001b[0m\u001b[1;36m0.1531\u001b[0m\u001b[1m)\u001b[0m\n",
       "\u001b[1m}\u001b[0m\n"
      ]
     },
     "metadata": {},
     "output_type": "display_data"
    }
   ],
   "source": [
    "metrics = evaluate_metrics(model, ufc_data_no_odds)\n",
    "print(metrics)"
   ]
  },
  {
   "cell_type": "markdown",
   "id": "23ac792b-776d-42fb-b0ab-77841fc59daa",
   "metadata": {},
   "source": [
    "### 📝 Log Training Results"
   ]
  },
  {
   "cell_type": "code",
   "execution_count": 70,
   "id": "f0eaa6a2-4783-4940-a814-bfc6723d363b",
   "metadata": {},
   "outputs": [
    {
     "name": "stderr",
     "output_type": "stream",
     "text": [
      "INFO:src.helpers:✅ Training logged to ../data/results/training_log_v2.csv\n"
     ]
    }
   ],
   "source": [
    "log_training_result(f\"{model_name} (without odds)\", model.best_params_, metrics, duration)"
   ]
  },
  {
   "cell_type": "markdown",
   "id": "ef80072c-01f0-42b0-a3f1-740dee8c6c96",
   "metadata": {},
   "source": [
    "### 💾 Save Model "
   ]
  },
  {
   "cell_type": "code",
   "execution_count": 71,
   "id": "c3bc7fd2-34e9-4b35-9469-3844ae753351",
   "metadata": {},
   "outputs": [
    {
     "name": "stderr",
     "output_type": "stream",
     "text": [
      "INFO:src.io_model:✅ Model 'Gradient Boosting' saved to: /home/mlioi/ufc-predictor/models/gb_best_no_odds.pkl\n"
     ]
    }
   ],
   "source": [
    "save_model(model, name=f\"{file_model_name[model_name]}_no_odds\")"
   ]
  },
  {
   "cell_type": "markdown",
   "id": "f0794408-70b5-4115-83ab-e3e24e394073",
   "metadata": {},
   "source": [
    "## Extra Trees Model"
   ]
  },
  {
   "cell_type": "markdown",
   "id": "ae521775-d9c5-466f-82a0-12c7acbe714d",
   "metadata": {},
   "source": [
    "### 🚀 Extra Trees Training"
   ]
  },
  {
   "cell_type": "code",
   "execution_count": 72,
   "id": "3f61be3c-f1e4-4b90-bc21-136eb2b14802",
   "metadata": {},
   "outputs": [
    {
     "name": "stderr",
     "output_type": "stream",
     "text": [
      "INFO:src.model_factory:[Extra Trees] UFC GridSearchCV Training (F1_macro)\n",
      "INFO:root:[Extra Trees] 🤖 Training...\n"
     ]
    },
    {
     "name": "stdout",
     "output_type": "stream",
     "text": [
      "Fitting 5 folds for each of 6 candidates, totalling 30 fits\n",
      "[CV 1/5] END ...max_depth=None, n_estimators=50;, score=0.533 total time=   0.3s\n",
      "[CV 2/5] END ...max_depth=None, n_estimators=50;, score=0.537 total time=   0.3s\n",
      "[CV 3/5] END ...max_depth=None, n_estimators=50;, score=0.570 total time=   0.3s\n",
      "[CV 4/5] END ...max_depth=None, n_estimators=50;, score=0.556 total time=   0.3s\n",
      "[CV 5/5] END ...max_depth=None, n_estimators=50;, score=0.530 total time=   0.3s\n",
      "[CV 1/5] END ..max_depth=None, n_estimators=100;, score=0.553 total time=   0.6s\n",
      "[CV 2/5] END ..max_depth=None, n_estimators=100;, score=0.553 total time=   0.6s\n",
      "[CV 3/5] END ..max_depth=None, n_estimators=100;, score=0.581 total time=   0.6s\n",
      "[CV 4/5] END ..max_depth=None, n_estimators=100;, score=0.552 total time=   0.6s\n",
      "[CV 5/5] END ..max_depth=None, n_estimators=100;, score=0.515 total time=   0.6s\n",
      "[CV 1/5] END .....max_depth=10, n_estimators=50;, score=0.469 total time=   0.1s\n",
      "[CV 2/5] END .....max_depth=10, n_estimators=50;, score=0.462 total time=   0.1s\n",
      "[CV 3/5] END .....max_depth=10, n_estimators=50;, score=0.479 total time=   0.1s\n",
      "[CV 4/5] END .....max_depth=10, n_estimators=50;, score=0.465 total time=   0.1s\n",
      "[CV 5/5] END .....max_depth=10, n_estimators=50;, score=0.470 total time=   0.1s\n",
      "[CV 1/5] END ....max_depth=10, n_estimators=100;, score=0.472 total time=   0.3s\n",
      "[CV 2/5] END ....max_depth=10, n_estimators=100;, score=0.467 total time=   0.3s\n",
      "[CV 3/5] END ....max_depth=10, n_estimators=100;, score=0.486 total time=   0.3s\n",
      "[CV 4/5] END ....max_depth=10, n_estimators=100;, score=0.475 total time=   0.3s\n",
      "[CV 5/5] END ....max_depth=10, n_estimators=100;, score=0.475 total time=   0.3s\n",
      "[CV 1/5] END .....max_depth=20, n_estimators=50;, score=0.539 total time=   0.2s\n",
      "[CV 2/5] END .....max_depth=20, n_estimators=50;, score=0.537 total time=   0.2s\n",
      "[CV 3/5] END .....max_depth=20, n_estimators=50;, score=0.550 total time=   0.3s\n",
      "[CV 4/5] END .....max_depth=20, n_estimators=50;, score=0.536 total time=   0.2s\n",
      "[CV 5/5] END .....max_depth=20, n_estimators=50;, score=0.537 total time=   0.2s\n",
      "[CV 1/5] END ....max_depth=20, n_estimators=100;, score=0.525 total time=   0.5s\n",
      "[CV 2/5] END ....max_depth=20, n_estimators=100;, score=0.527 total time=   0.5s\n",
      "[CV 3/5] END ....max_depth=20, n_estimators=100;, score=0.557 total time=   0.5s\n",
      "[CV 4/5] END ....max_depth=20, n_estimators=100;, score=0.557 total time=   0.5s\n",
      "[CV 5/5] END ....max_depth=20, n_estimators=100;, score=0.521 total time=   0.5s\n"
     ]
    },
    {
     "name": "stderr",
     "output_type": "stream",
     "text": [
      "INFO:root:[Extra Trees] 🔍 Best F1_macro: 0.5508\n",
      "[Extra Trees] 🔍 Best Params: {'max_depth': None, 'n_estimators': 100}\n"
     ]
    }
   ],
   "source": [
    "model_name = \"Extra Trees\"\n",
    "start = time.time()\n",
    "model = model_factory(model_name, ufc_data_no_odds, model_params, scoring=\"f1_macro\")\n",
    "end = time.time()\n",
    "duration = end - start"
   ]
  },
  {
   "cell_type": "markdown",
   "id": "c6e51827-1acf-4eb5-9c44-f96b08389747",
   "metadata": {},
   "source": [
    "### 🔍 Extra Trees Metrics"
   ]
  },
  {
   "cell_type": "code",
   "execution_count": 73,
   "id": "1ebe0f4c-19c3-4b03-830d-eae0eeb23d85",
   "metadata": {
    "scrolled": true
   },
   "outputs": [
    {
     "data": {
      "text/html": [
       "<pre style=\"white-space:pre;overflow-x:auto;line-height:normal;font-family:Menlo,'DejaVu Sans Mono',consolas,'Courier New',monospace\"><span style=\"font-weight: bold\">{</span>\n",
       "    <span style=\"color: #008000; text-decoration-color: #008000\">'Accuracy'</span>: <span style=\"color: #008080; text-decoration-color: #008080; font-weight: bold\">0.5853</span>,\n",
       "    <span style=\"color: #008000; text-decoration-color: #008000\">'Balanced Accuracy'</span>: <span style=\"color: #800080; text-decoration-color: #800080; font-weight: bold\">np.float64</span><span style=\"font-weight: bold\">(</span><span style=\"color: #008080; text-decoration-color: #008080; font-weight: bold\">0.5494</span><span style=\"font-weight: bold\">)</span>,\n",
       "    <span style=\"color: #008000; text-decoration-color: #008000\">'Precision Red'</span>: <span style=\"color: #008080; text-decoration-color: #008080; font-weight: bold\">0.6132</span>,\n",
       "    <span style=\"color: #008000; text-decoration-color: #008000\">'Recall Red'</span>: <span style=\"color: #008080; text-decoration-color: #008080; font-weight: bold\">0.7733</span>,\n",
       "    <span style=\"color: #008000; text-decoration-color: #008000\">'F1 Red'</span>: <span style=\"color: #008080; text-decoration-color: #008080; font-weight: bold\">0.684</span>,\n",
       "    <span style=\"color: #008000; text-decoration-color: #008000\">'Precision Blue'</span>: <span style=\"color: #008080; text-decoration-color: #008080; font-weight: bold\">0.5093</span>,\n",
       "    <span style=\"color: #008000; text-decoration-color: #008000\">'Recall Blue'</span>: <span style=\"color: #008080; text-decoration-color: #008080; font-weight: bold\">0.3254</span>,\n",
       "    <span style=\"color: #008000; text-decoration-color: #008000\">'F1 Blue'</span>: <span style=\"color: #008080; text-decoration-color: #008080; font-weight: bold\">0.3971</span>,\n",
       "    <span style=\"color: #008000; text-decoration-color: #008000\">'F1 Macro'</span>: <span style=\"color: #008080; text-decoration-color: #008080; font-weight: bold\">0.5406</span>,\n",
       "    <span style=\"color: #008000; text-decoration-color: #008000\">'ROC AUC'</span>: <span style=\"color: #800080; text-decoration-color: #800080; font-weight: bold\">np.float64</span><span style=\"font-weight: bold\">(</span><span style=\"color: #008080; text-decoration-color: #008080; font-weight: bold\">0.5851</span><span style=\"font-weight: bold\">)</span>,\n",
       "    <span style=\"color: #008000; text-decoration-color: #008000\">'Brier Score'</span>: <span style=\"color: #800080; text-decoration-color: #800080; font-weight: bold\">np.float64</span><span style=\"font-weight: bold\">(</span><span style=\"color: #008080; text-decoration-color: #008080; font-weight: bold\">0.2414</span><span style=\"font-weight: bold\">)</span>,\n",
       "    <span style=\"color: #008000; text-decoration-color: #008000\">'MCC'</span>: <span style=\"color: #800080; text-decoration-color: #800080; font-weight: bold\">np.float64</span><span style=\"font-weight: bold\">(</span><span style=\"color: #008080; text-decoration-color: #008080; font-weight: bold\">0.11</span><span style=\"font-weight: bold\">)</span>,\n",
       "    <span style=\"color: #008000; text-decoration-color: #008000\">'Kappa'</span>: <span style=\"color: #800080; text-decoration-color: #800080; font-weight: bold\">np.float64</span><span style=\"font-weight: bold\">(</span><span style=\"color: #008080; text-decoration-color: #008080; font-weight: bold\">0.1039</span><span style=\"font-weight: bold\">)</span>\n",
       "<span style=\"font-weight: bold\">}</span>\n",
       "</pre>\n"
      ],
      "text/plain": [
       "\u001b[1m{\u001b[0m\n",
       "    \u001b[32m'Accuracy'\u001b[0m: \u001b[1;36m0.5853\u001b[0m,\n",
       "    \u001b[32m'Balanced Accuracy'\u001b[0m: \u001b[1;35mnp.float64\u001b[0m\u001b[1m(\u001b[0m\u001b[1;36m0.5494\u001b[0m\u001b[1m)\u001b[0m,\n",
       "    \u001b[32m'Precision Red'\u001b[0m: \u001b[1;36m0.6132\u001b[0m,\n",
       "    \u001b[32m'Recall Red'\u001b[0m: \u001b[1;36m0.7733\u001b[0m,\n",
       "    \u001b[32m'F1 Red'\u001b[0m: \u001b[1;36m0.684\u001b[0m,\n",
       "    \u001b[32m'Precision Blue'\u001b[0m: \u001b[1;36m0.5093\u001b[0m,\n",
       "    \u001b[32m'Recall Blue'\u001b[0m: \u001b[1;36m0.3254\u001b[0m,\n",
       "    \u001b[32m'F1 Blue'\u001b[0m: \u001b[1;36m0.3971\u001b[0m,\n",
       "    \u001b[32m'F1 Macro'\u001b[0m: \u001b[1;36m0.5406\u001b[0m,\n",
       "    \u001b[32m'ROC AUC'\u001b[0m: \u001b[1;35mnp.float64\u001b[0m\u001b[1m(\u001b[0m\u001b[1;36m0.5851\u001b[0m\u001b[1m)\u001b[0m,\n",
       "    \u001b[32m'Brier Score'\u001b[0m: \u001b[1;35mnp.float64\u001b[0m\u001b[1m(\u001b[0m\u001b[1;36m0.2414\u001b[0m\u001b[1m)\u001b[0m,\n",
       "    \u001b[32m'MCC'\u001b[0m: \u001b[1;35mnp.float64\u001b[0m\u001b[1m(\u001b[0m\u001b[1;36m0.11\u001b[0m\u001b[1m)\u001b[0m,\n",
       "    \u001b[32m'Kappa'\u001b[0m: \u001b[1;35mnp.float64\u001b[0m\u001b[1m(\u001b[0m\u001b[1;36m0.1039\u001b[0m\u001b[1m)\u001b[0m\n",
       "\u001b[1m}\u001b[0m\n"
      ]
     },
     "metadata": {},
     "output_type": "display_data"
    }
   ],
   "source": [
    "metrics = evaluate_metrics(model, ufc_data_no_odds)\n",
    "print(metrics)"
   ]
  },
  {
   "cell_type": "markdown",
   "id": "b84530f3-213e-45b7-8959-c2d510c62c2b",
   "metadata": {},
   "source": [
    "### 📝 Log Training Results"
   ]
  },
  {
   "cell_type": "code",
   "execution_count": 74,
   "id": "f56d05f3-065a-46cb-8f15-ffd642082949",
   "metadata": {},
   "outputs": [
    {
     "name": "stderr",
     "output_type": "stream",
     "text": [
      "/home/mlioi/ufc-predictor/src/helpers.py:120: FutureWarning: The behavior of DataFrame concatenation with empty or all-NA entries is deprecated. In a future version, this will no longer exclude empty or all-NA columns when determining the result dtypes. To retain the old behavior, exclude the relevant entries before the concat operation.\n",
      "  df = pd.concat([df, pd.DataFrame([log_entry])], ignore_index=True)\n",
      "INFO:src.helpers:✅ Training logged to ../data/results/training_log_v2.csv\n"
     ]
    }
   ],
   "source": [
    "log_training_result(f\"{model_name} (without odds)\", model.best_params_, metrics, duration)"
   ]
  },
  {
   "cell_type": "markdown",
   "id": "d337bbd4-f67a-4328-82f7-6d97aca04626",
   "metadata": {},
   "source": [
    "### 💾 Save Model "
   ]
  },
  {
   "cell_type": "code",
   "execution_count": 75,
   "id": "5cf2f819-4912-4140-adea-e1d1ae8bd892",
   "metadata": {},
   "outputs": [
    {
     "name": "stderr",
     "output_type": "stream",
     "text": [
      "INFO:src.io_model:✅ Model 'Extra Trees' saved to: /home/mlioi/ufc-predictor/models/et_best_no_odds.pkl\n"
     ]
    }
   ],
   "source": [
    "save_model(model, name=f\"{file_model_name[model_name]}_no_odds\")"
   ]
  },
  {
   "cell_type": "markdown",
   "id": "c572538f-6755-40ee-9ca5-cb112035c0eb",
   "metadata": {},
   "source": [
    "## Quadratic Discriminant Analysis Model"
   ]
  },
  {
   "cell_type": "markdown",
   "id": "dd4e066e-5515-470d-9512-8ef7d75314c9",
   "metadata": {},
   "source": [
    "### 🚀 Quadratic Discriminant Analysis Training"
   ]
  },
  {
   "cell_type": "code",
   "execution_count": 76,
   "id": "85d5d79e-775d-4755-a2d1-c9eb1dbdf901",
   "metadata": {},
   "outputs": [
    {
     "name": "stderr",
     "output_type": "stream",
     "text": [
      "INFO:src.model_factory:[Quadratic Discriminant Analysis] UFC GridSearchCV Training (F1_macro)\n",
      "INFO:root:[Quadratic Discriminant Analysis] 🤖 Training...\n"
     ]
    },
    {
     "name": "stdout",
     "output_type": "stream",
     "text": [
      "Fitting 5 folds for each of 4 candidates, totalling 20 fits\n",
      "[CV 1/5] END .....................reg_param=0.1;, score=0.563 total time=   0.0s\n",
      "[CV 2/5] END .....................reg_param=0.1;, score=0.557 total time=   0.0s\n",
      "[CV 3/5] END .....................reg_param=0.1;, score=0.571 total time=   0.0s\n",
      "[CV 4/5] END .....................reg_param=0.1;, score=0.549 total time=   0.0s\n",
      "[CV 5/5] END .....................reg_param=0.1;, score=0.551 total time=   0.0s\n",
      "[CV 1/5] END .....................reg_param=0.3;, score=0.570 total time=   0.0s\n",
      "[CV 2/5] END .....................reg_param=0.3;, score=0.557 total time=   0.0s\n",
      "[CV 3/5] END .....................reg_param=0.3;, score=0.573 total time=   0.0s\n",
      "[CV 4/5] END .....................reg_param=0.3;, score=0.567 total time=   0.0s\n",
      "[CV 5/5] END .....................reg_param=0.3;, score=0.573 total time=   0.0s\n",
      "[CV 1/5] END .....................reg_param=0.5;, score=0.569 total time=   0.0s\n",
      "[CV 2/5] END .....................reg_param=0.5;, score=0.558 total time=   0.0s\n",
      "[CV 3/5] END .....................reg_param=0.5;, score=0.565 total time=   0.0s\n",
      "[CV 4/5] END .....................reg_param=0.5;, score=0.585 total time=   0.0s\n",
      "[CV 5/5] END .....................reg_param=0.5;, score=0.582 total time=   0.0s\n",
      "[CV 1/5] END .....................reg_param=0.9;, score=0.575 total time=   0.0s\n",
      "[CV 2/5] END .....................reg_param=0.9;, score=0.562 total time=   0.0s\n",
      "[CV 3/5] END .....................reg_param=0.9;, score=0.579 total time=   0.0s\n",
      "[CV 4/5] END .....................reg_param=0.9;, score=0.601 total time=   0.0s\n",
      "[CV 5/5] END .....................reg_param=0.9;, score=0.573 total time=   0.0s\n"
     ]
    },
    {
     "name": "stderr",
     "output_type": "stream",
     "text": [
      "INFO:root:[Quadratic Discriminant Analysis] 🔍 Best F1_macro: 0.5778\n",
      "[Quadratic Discriminant Analysis] 🔍 Best Params: {'reg_param': 0.9}\n"
     ]
    }
   ],
   "source": [
    "model_name = \"Quadratic Discriminant Analysis\"\n",
    "start = time.time()\n",
    "model = model_factory(model_name, ufc_data_no_odds, model_params, scoring=\"f1_macro\")\n",
    "end = time.time()\n",
    "duration = end - start"
   ]
  },
  {
   "cell_type": "markdown",
   "id": "91733120-232c-42de-983d-28f626cc402f",
   "metadata": {},
   "source": [
    "### 🔍 Quadratic Discriminant Analysis Metrics"
   ]
  },
  {
   "cell_type": "code",
   "execution_count": 77,
   "id": "8abde02f-6703-4f0e-9af0-be528964ef27",
   "metadata": {},
   "outputs": [
    {
     "data": {
      "text/html": [
       "<pre style=\"white-space:pre;overflow-x:auto;line-height:normal;font-family:Menlo,'DejaVu Sans Mono',consolas,'Courier New',monospace\"><span style=\"font-weight: bold\">{</span>\n",
       "    <span style=\"color: #008000; text-decoration-color: #008000\">'Accuracy'</span>: <span style=\"color: #008080; text-decoration-color: #008080; font-weight: bold\">0.617</span>,\n",
       "    <span style=\"color: #008000; text-decoration-color: #008000\">'Balanced Accuracy'</span>: <span style=\"color: #800080; text-decoration-color: #800080; font-weight: bold\">np.float64</span><span style=\"font-weight: bold\">(</span><span style=\"color: #008080; text-decoration-color: #008080; font-weight: bold\">0.5906</span><span style=\"font-weight: bold\">)</span>,\n",
       "    <span style=\"color: #008000; text-decoration-color: #008000\">'Precision Red'</span>: <span style=\"color: #008080; text-decoration-color: #008080; font-weight: bold\">0.6454</span>,\n",
       "    <span style=\"color: #008000; text-decoration-color: #008000\">'Recall Red'</span>: <span style=\"color: #008080; text-decoration-color: #008080; font-weight: bold\">0.7547</span>,\n",
       "    <span style=\"color: #008000; text-decoration-color: #008000\">'F1 Red'</span>: <span style=\"color: #008080; text-decoration-color: #008080; font-weight: bold\">0.6958</span>,\n",
       "    <span style=\"color: #008000; text-decoration-color: #008000\">'Precision Blue'</span>: <span style=\"color: #008080; text-decoration-color: #008080; font-weight: bold\">0.557</span>,\n",
       "    <span style=\"color: #008000; text-decoration-color: #008000\">'Recall Blue'</span>: <span style=\"color: #008080; text-decoration-color: #008080; font-weight: bold\">0.4266</span>,\n",
       "    <span style=\"color: #008000; text-decoration-color: #008000\">'F1 Blue'</span>: <span style=\"color: #008080; text-decoration-color: #008080; font-weight: bold\">0.4831</span>,\n",
       "    <span style=\"color: #008000; text-decoration-color: #008000\">'F1 Macro'</span>: <span style=\"color: #008080; text-decoration-color: #008080; font-weight: bold\">0.5895</span>,\n",
       "    <span style=\"color: #008000; text-decoration-color: #008000\">'ROC AUC'</span>: <span style=\"color: #800080; text-decoration-color: #800080; font-weight: bold\">np.float64</span><span style=\"font-weight: bold\">(</span><span style=\"color: #008080; text-decoration-color: #008080; font-weight: bold\">0.6318</span><span style=\"font-weight: bold\">)</span>,\n",
       "    <span style=\"color: #008000; text-decoration-color: #008000\">'Brier Score'</span>: <span style=\"color: #800080; text-decoration-color: #800080; font-weight: bold\">np.float64</span><span style=\"font-weight: bold\">(</span><span style=\"color: #008080; text-decoration-color: #008080; font-weight: bold\">0.233</span><span style=\"font-weight: bold\">)</span>,\n",
       "    <span style=\"color: #008000; text-decoration-color: #008000\">'MCC'</span>: <span style=\"color: #800080; text-decoration-color: #800080; font-weight: bold\">np.float64</span><span style=\"font-weight: bold\">(</span><span style=\"color: #008080; text-decoration-color: #008080; font-weight: bold\">0.1915</span><span style=\"font-weight: bold\">)</span>,\n",
       "    <span style=\"color: #008000; text-decoration-color: #008000\">'Kappa'</span>: <span style=\"color: #800080; text-decoration-color: #800080; font-weight: bold\">np.float64</span><span style=\"font-weight: bold\">(</span><span style=\"color: #008080; text-decoration-color: #008080; font-weight: bold\">0.1873</span><span style=\"font-weight: bold\">)</span>\n",
       "<span style=\"font-weight: bold\">}</span>\n",
       "</pre>\n"
      ],
      "text/plain": [
       "\u001b[1m{\u001b[0m\n",
       "    \u001b[32m'Accuracy'\u001b[0m: \u001b[1;36m0.617\u001b[0m,\n",
       "    \u001b[32m'Balanced Accuracy'\u001b[0m: \u001b[1;35mnp.float64\u001b[0m\u001b[1m(\u001b[0m\u001b[1;36m0.5906\u001b[0m\u001b[1m)\u001b[0m,\n",
       "    \u001b[32m'Precision Red'\u001b[0m: \u001b[1;36m0.6454\u001b[0m,\n",
       "    \u001b[32m'Recall Red'\u001b[0m: \u001b[1;36m0.7547\u001b[0m,\n",
       "    \u001b[32m'F1 Red'\u001b[0m: \u001b[1;36m0.6958\u001b[0m,\n",
       "    \u001b[32m'Precision Blue'\u001b[0m: \u001b[1;36m0.557\u001b[0m,\n",
       "    \u001b[32m'Recall Blue'\u001b[0m: \u001b[1;36m0.4266\u001b[0m,\n",
       "    \u001b[32m'F1 Blue'\u001b[0m: \u001b[1;36m0.4831\u001b[0m,\n",
       "    \u001b[32m'F1 Macro'\u001b[0m: \u001b[1;36m0.5895\u001b[0m,\n",
       "    \u001b[32m'ROC AUC'\u001b[0m: \u001b[1;35mnp.float64\u001b[0m\u001b[1m(\u001b[0m\u001b[1;36m0.6318\u001b[0m\u001b[1m)\u001b[0m,\n",
       "    \u001b[32m'Brier Score'\u001b[0m: \u001b[1;35mnp.float64\u001b[0m\u001b[1m(\u001b[0m\u001b[1;36m0.233\u001b[0m\u001b[1m)\u001b[0m,\n",
       "    \u001b[32m'MCC'\u001b[0m: \u001b[1;35mnp.float64\u001b[0m\u001b[1m(\u001b[0m\u001b[1;36m0.1915\u001b[0m\u001b[1m)\u001b[0m,\n",
       "    \u001b[32m'Kappa'\u001b[0m: \u001b[1;35mnp.float64\u001b[0m\u001b[1m(\u001b[0m\u001b[1;36m0.1873\u001b[0m\u001b[1m)\u001b[0m\n",
       "\u001b[1m}\u001b[0m\n"
      ]
     },
     "metadata": {},
     "output_type": "display_data"
    }
   ],
   "source": [
    "metrics = evaluate_metrics(model, ufc_data_no_odds)\n",
    "print(metrics)"
   ]
  },
  {
   "cell_type": "markdown",
   "id": "1a19d8e2-b7b9-4584-913b-6b0a88a2ecef",
   "metadata": {},
   "source": [
    "### 📝 Log Training Results"
   ]
  },
  {
   "cell_type": "code",
   "execution_count": 78,
   "id": "6e45fef5-cbd1-4640-bc42-254fc7ca7a0d",
   "metadata": {},
   "outputs": [
    {
     "name": "stderr",
     "output_type": "stream",
     "text": [
      "INFO:src.helpers:✅ Training logged to ../data/results/training_log_v2.csv\n"
     ]
    }
   ],
   "source": [
    "log_training_result(f\"{model_name} (without odds)\", model.best_params_, metrics, duration)"
   ]
  },
  {
   "cell_type": "markdown",
   "id": "28cd5e06-b5da-4559-8f40-66428136d489",
   "metadata": {},
   "source": [
    "### 💾 Save Model "
   ]
  },
  {
   "cell_type": "code",
   "execution_count": 79,
   "id": "e0d1a405-ea52-4c76-aa31-7b49dfb47cb9",
   "metadata": {},
   "outputs": [
    {
     "name": "stderr",
     "output_type": "stream",
     "text": [
      "INFO:src.io_model:✅ Model 'Quadratic Discriminant Analysis' saved to: /home/mlioi/ufc-predictor/models/qda_best_no_odds.pkl\n"
     ]
    }
   ],
   "source": [
    "save_model(model, name=f\"{file_model_name[model_name]}_no_odds\")"
   ]
  },
  {
   "cell_type": "markdown",
   "id": "43934df3-ab09-4106-a1ea-72f0302f432d",
   "metadata": {},
   "source": [
    "## Neural Network"
   ]
  },
  {
   "cell_type": "markdown",
   "id": "f81f03c8-33cc-4147-ad32-1b201f0297a0",
   "metadata": {},
   "source": [
    "### 🚀 Neural Network Training "
   ]
  },
  {
   "cell_type": "code",
   "execution_count": 80,
   "id": "22746881-09ca-40de-a5b8-9ad2d08f3436",
   "metadata": {
    "scrolled": true
   },
   "outputs": [
    {
     "name": "stderr",
     "output_type": "stream",
     "text": [
      "INFO:src.model_factory:[Neural Network] UFC GridSearchCV Training (F1_macro)\n",
      "INFO:root:[Neural Network] 🤖 Training...\n"
     ]
    },
    {
     "name": "stdout",
     "output_type": "stream",
     "text": [
      "Fitting 5 folds for each of 64 candidates, totalling 320 fits\n",
      "[CV 1/5] END activation=relu, alpha=0.001, batch_size=32, early_stopping=True, hidden_layer_sizes=(200,), learning_rate=adaptive, learning_rate_init=0.01, momentum=0.2, solver=adam, validation_fraction=0.2;, score=0.561 total time=   0.6s\n",
      "[CV 2/5] END activation=relu, alpha=0.001, batch_size=32, early_stopping=True, hidden_layer_sizes=(200,), learning_rate=adaptive, learning_rate_init=0.01, momentum=0.2, solver=adam, validation_fraction=0.2;, score=0.549 total time=   0.7s\n",
      "[CV 3/5] END activation=relu, alpha=0.001, batch_size=32, early_stopping=True, hidden_layer_sizes=(200,), learning_rate=adaptive, learning_rate_init=0.01, momentum=0.2, solver=adam, validation_fraction=0.2;, score=0.564 total time=   0.7s\n",
      "[CV 4/5] END activation=relu, alpha=0.001, batch_size=32, early_stopping=True, hidden_layer_sizes=(200,), learning_rate=adaptive, learning_rate_init=0.01, momentum=0.2, solver=adam, validation_fraction=0.2;, score=0.543 total time=   0.8s\n",
      "[CV 5/5] END activation=relu, alpha=0.001, batch_size=32, early_stopping=True, hidden_layer_sizes=(200,), learning_rate=adaptive, learning_rate_init=0.01, momentum=0.2, solver=adam, validation_fraction=0.2;, score=0.552 total time=   0.9s\n",
      "[CV 1/5] END activation=relu, alpha=0.001, batch_size=32, early_stopping=True, hidden_layer_sizes=(200,), learning_rate=adaptive, learning_rate_init=0.01, momentum=0.2, solver=sgd, validation_fraction=0.2;, score=0.557 total time=   4.1s\n",
      "[CV 2/5] END activation=relu, alpha=0.001, batch_size=32, early_stopping=True, hidden_layer_sizes=(200,), learning_rate=adaptive, learning_rate_init=0.01, momentum=0.2, solver=sgd, validation_fraction=0.2;, score=0.507 total time=   3.4s\n",
      "[CV 3/5] END activation=relu, alpha=0.001, batch_size=32, early_stopping=True, hidden_layer_sizes=(200,), learning_rate=adaptive, learning_rate_init=0.01, momentum=0.2, solver=sgd, validation_fraction=0.2;, score=0.551 total time=   3.4s\n",
      "[CV 4/5] END activation=relu, alpha=0.001, batch_size=32, early_stopping=True, hidden_layer_sizes=(200,), learning_rate=adaptive, learning_rate_init=0.01, momentum=0.2, solver=sgd, validation_fraction=0.2;, score=0.541 total time=   3.5s\n",
      "[CV 5/5] END activation=relu, alpha=0.001, batch_size=32, early_stopping=True, hidden_layer_sizes=(200,), learning_rate=adaptive, learning_rate_init=0.01, momentum=0.2, solver=sgd, validation_fraction=0.2;, score=0.516 total time=   3.3s\n",
      "[CV 1/5] END activation=relu, alpha=0.001, batch_size=32, early_stopping=True, hidden_layer_sizes=(200,), learning_rate=adaptive, learning_rate_init=0.01, momentum=0.8, solver=adam, validation_fraction=0.2;, score=0.561 total time=   0.6s\n",
      "[CV 2/5] END activation=relu, alpha=0.001, batch_size=32, early_stopping=True, hidden_layer_sizes=(200,), learning_rate=adaptive, learning_rate_init=0.01, momentum=0.8, solver=adam, validation_fraction=0.2;, score=0.549 total time=   0.7s\n",
      "[CV 3/5] END activation=relu, alpha=0.001, batch_size=32, early_stopping=True, hidden_layer_sizes=(200,), learning_rate=adaptive, learning_rate_init=0.01, momentum=0.8, solver=adam, validation_fraction=0.2;, score=0.564 total time=   0.8s\n",
      "[CV 4/5] END activation=relu, alpha=0.001, batch_size=32, early_stopping=True, hidden_layer_sizes=(200,), learning_rate=adaptive, learning_rate_init=0.01, momentum=0.8, solver=adam, validation_fraction=0.2;, score=0.543 total time=   0.8s\n",
      "[CV 5/5] END activation=relu, alpha=0.001, batch_size=32, early_stopping=True, hidden_layer_sizes=(200,), learning_rate=adaptive, learning_rate_init=0.01, momentum=0.8, solver=adam, validation_fraction=0.2;, score=0.552 total time=   0.9s\n",
      "[CV 1/5] END activation=relu, alpha=0.001, batch_size=32, early_stopping=True, hidden_layer_sizes=(200,), learning_rate=adaptive, learning_rate_init=0.01, momentum=0.8, solver=sgd, validation_fraction=0.2;, score=0.543 total time=   3.3s\n",
      "[CV 2/5] END activation=relu, alpha=0.001, batch_size=32, early_stopping=True, hidden_layer_sizes=(200,), learning_rate=adaptive, learning_rate_init=0.01, momentum=0.8, solver=sgd, validation_fraction=0.2;, score=0.511 total time=   3.5s\n",
      "[CV 3/5] END activation=relu, alpha=0.001, batch_size=32, early_stopping=True, hidden_layer_sizes=(200,), learning_rate=adaptive, learning_rate_init=0.01, momentum=0.8, solver=sgd, validation_fraction=0.2;, score=0.567 total time=   3.5s\n",
      "[CV 4/5] END activation=relu, alpha=0.001, batch_size=32, early_stopping=True, hidden_layer_sizes=(200,), learning_rate=adaptive, learning_rate_init=0.01, momentum=0.8, solver=sgd, validation_fraction=0.2;, score=0.553 total time=   3.5s\n",
      "[CV 5/5] END activation=relu, alpha=0.001, batch_size=32, early_stopping=True, hidden_layer_sizes=(200,), learning_rate=adaptive, learning_rate_init=0.01, momentum=0.8, solver=sgd, validation_fraction=0.2;, score=0.552 total time=   3.5s\n",
      "[CV 1/5] END activation=relu, alpha=0.001, batch_size=32, early_stopping=True, hidden_layer_sizes=(50, 50), learning_rate=adaptive, learning_rate_init=0.01, momentum=0.2, solver=adam, validation_fraction=0.2;, score=0.528 total time=   0.9s\n",
      "[CV 2/5] END activation=relu, alpha=0.001, batch_size=32, early_stopping=True, hidden_layer_sizes=(50, 50), learning_rate=adaptive, learning_rate_init=0.01, momentum=0.2, solver=adam, validation_fraction=0.2;, score=0.513 total time=   0.6s\n",
      "[CV 3/5] END activation=relu, alpha=0.001, batch_size=32, early_stopping=True, hidden_layer_sizes=(50, 50), learning_rate=adaptive, learning_rate_init=0.01, momentum=0.2, solver=adam, validation_fraction=0.2;, score=0.567 total time=   0.6s\n",
      "[CV 4/5] END activation=relu, alpha=0.001, batch_size=32, early_stopping=True, hidden_layer_sizes=(50, 50), learning_rate=adaptive, learning_rate_init=0.01, momentum=0.2, solver=adam, validation_fraction=0.2;, score=0.547 total time=   0.6s\n",
      "[CV 5/5] END activation=relu, alpha=0.001, batch_size=32, early_stopping=True, hidden_layer_sizes=(50, 50), learning_rate=adaptive, learning_rate_init=0.01, momentum=0.2, solver=adam, validation_fraction=0.2;, score=0.583 total time=   0.7s\n",
      "[CV 1/5] END activation=relu, alpha=0.001, batch_size=32, early_stopping=True, hidden_layer_sizes=(50, 50), learning_rate=adaptive, learning_rate_init=0.01, momentum=0.2, solver=sgd, validation_fraction=0.2;, score=0.453 total time=   3.3s\n",
      "[CV 2/5] END activation=relu, alpha=0.001, batch_size=32, early_stopping=True, hidden_layer_sizes=(50, 50), learning_rate=adaptive, learning_rate_init=0.01, momentum=0.2, solver=sgd, validation_fraction=0.2;, score=0.515 total time=   3.5s\n",
      "[CV 3/5] END activation=relu, alpha=0.001, batch_size=32, early_stopping=True, hidden_layer_sizes=(50, 50), learning_rate=adaptive, learning_rate_init=0.01, momentum=0.2, solver=sgd, validation_fraction=0.2;, score=0.560 total time=   4.0s\n",
      "[CV 4/5] END activation=relu, alpha=0.001, batch_size=32, early_stopping=True, hidden_layer_sizes=(50, 50), learning_rate=adaptive, learning_rate_init=0.01, momentum=0.2, solver=sgd, validation_fraction=0.2;, score=0.553 total time=   3.7s\n",
      "[CV 5/5] END activation=relu, alpha=0.001, batch_size=32, early_stopping=True, hidden_layer_sizes=(50, 50), learning_rate=adaptive, learning_rate_init=0.01, momentum=0.2, solver=sgd, validation_fraction=0.2;, score=0.555 total time=   4.1s\n",
      "[CV 1/5] END activation=relu, alpha=0.001, batch_size=32, early_stopping=True, hidden_layer_sizes=(50, 50), learning_rate=adaptive, learning_rate_init=0.01, momentum=0.8, solver=adam, validation_fraction=0.2;, score=0.528 total time=   0.8s\n",
      "[CV 2/5] END activation=relu, alpha=0.001, batch_size=32, early_stopping=True, hidden_layer_sizes=(50, 50), learning_rate=adaptive, learning_rate_init=0.01, momentum=0.8, solver=adam, validation_fraction=0.2;, score=0.513 total time=   0.6s\n",
      "[CV 3/5] END activation=relu, alpha=0.001, batch_size=32, early_stopping=True, hidden_layer_sizes=(50, 50), learning_rate=adaptive, learning_rate_init=0.01, momentum=0.8, solver=adam, validation_fraction=0.2;, score=0.567 total time=   0.6s\n",
      "[CV 4/5] END activation=relu, alpha=0.001, batch_size=32, early_stopping=True, hidden_layer_sizes=(50, 50), learning_rate=adaptive, learning_rate_init=0.01, momentum=0.8, solver=adam, validation_fraction=0.2;, score=0.547 total time=   0.6s\n",
      "[CV 5/5] END activation=relu, alpha=0.001, batch_size=32, early_stopping=True, hidden_layer_sizes=(50, 50), learning_rate=adaptive, learning_rate_init=0.01, momentum=0.8, solver=adam, validation_fraction=0.2;, score=0.583 total time=   0.6s\n",
      "[CV 1/5] END activation=relu, alpha=0.001, batch_size=32, early_stopping=True, hidden_layer_sizes=(50, 50), learning_rate=adaptive, learning_rate_init=0.01, momentum=0.8, solver=sgd, validation_fraction=0.2;, score=0.555 total time=   3.7s\n",
      "[CV 2/5] END activation=relu, alpha=0.001, batch_size=32, early_stopping=True, hidden_layer_sizes=(50, 50), learning_rate=adaptive, learning_rate_init=0.01, momentum=0.8, solver=sgd, validation_fraction=0.2;, score=0.534 total time=   3.7s\n",
      "[CV 3/5] END activation=relu, alpha=0.001, batch_size=32, early_stopping=True, hidden_layer_sizes=(50, 50), learning_rate=adaptive, learning_rate_init=0.01, momentum=0.8, solver=sgd, validation_fraction=0.2;, score=0.558 total time=   3.5s\n",
      "[CV 4/5] END activation=relu, alpha=0.001, batch_size=32, early_stopping=True, hidden_layer_sizes=(50, 50), learning_rate=adaptive, learning_rate_init=0.01, momentum=0.8, solver=sgd, validation_fraction=0.2;, score=0.561 total time=   3.5s\n",
      "[CV 5/5] END activation=relu, alpha=0.001, batch_size=32, early_stopping=True, hidden_layer_sizes=(50, 50), learning_rate=adaptive, learning_rate_init=0.01, momentum=0.8, solver=sgd, validation_fraction=0.2;, score=0.535 total time=   4.3s\n",
      "[CV 1/5] END activation=relu, alpha=0.001, batch_size=64, early_stopping=True, hidden_layer_sizes=(200,), learning_rate=adaptive, learning_rate_init=0.01, momentum=0.2, solver=adam, validation_fraction=0.2;, score=0.513 total time=   0.5s\n",
      "[CV 2/5] END activation=relu, alpha=0.001, batch_size=64, early_stopping=True, hidden_layer_sizes=(200,), learning_rate=adaptive, learning_rate_init=0.01, momentum=0.2, solver=adam, validation_fraction=0.2;, score=0.562 total time=   0.4s\n",
      "[CV 3/5] END activation=relu, alpha=0.001, batch_size=64, early_stopping=True, hidden_layer_sizes=(200,), learning_rate=adaptive, learning_rate_init=0.01, momentum=0.2, solver=adam, validation_fraction=0.2;, score=0.566 total time=   0.4s\n",
      "[CV 4/5] END activation=relu, alpha=0.001, batch_size=64, early_stopping=True, hidden_layer_sizes=(200,), learning_rate=adaptive, learning_rate_init=0.01, momentum=0.2, solver=adam, validation_fraction=0.2;, score=0.582 total time=   0.4s\n",
      "[CV 5/5] END activation=relu, alpha=0.001, batch_size=64, early_stopping=True, hidden_layer_sizes=(200,), learning_rate=adaptive, learning_rate_init=0.01, momentum=0.2, solver=adam, validation_fraction=0.2;, score=0.549 total time=   0.6s\n",
      "[CV 1/5] END activation=relu, alpha=0.001, batch_size=64, early_stopping=True, hidden_layer_sizes=(200,), learning_rate=adaptive, learning_rate_init=0.01, momentum=0.2, solver=sgd, validation_fraction=0.2;, score=0.567 total time=   2.8s\n",
      "[CV 2/5] END activation=relu, alpha=0.001, batch_size=64, early_stopping=True, hidden_layer_sizes=(200,), learning_rate=adaptive, learning_rate_init=0.01, momentum=0.2, solver=sgd, validation_fraction=0.2;, score=0.533 total time=   2.4s\n",
      "[CV 3/5] END activation=relu, alpha=0.001, batch_size=64, early_stopping=True, hidden_layer_sizes=(200,), learning_rate=adaptive, learning_rate_init=0.01, momentum=0.2, solver=sgd, validation_fraction=0.2;, score=0.543 total time=   2.4s\n",
      "[CV 4/5] END activation=relu, alpha=0.001, batch_size=64, early_stopping=True, hidden_layer_sizes=(200,), learning_rate=adaptive, learning_rate_init=0.01, momentum=0.2, solver=sgd, validation_fraction=0.2;, score=0.536 total time=   2.2s\n",
      "[CV 5/5] END activation=relu, alpha=0.001, batch_size=64, early_stopping=True, hidden_layer_sizes=(200,), learning_rate=adaptive, learning_rate_init=0.01, momentum=0.2, solver=sgd, validation_fraction=0.2;, score=0.518 total time=   2.1s\n",
      "[CV 1/5] END activation=relu, alpha=0.001, batch_size=64, early_stopping=True, hidden_layer_sizes=(200,), learning_rate=adaptive, learning_rate_init=0.01, momentum=0.8, solver=adam, validation_fraction=0.2;, score=0.513 total time=   0.5s\n",
      "[CV 2/5] END activation=relu, alpha=0.001, batch_size=64, early_stopping=True, hidden_layer_sizes=(200,), learning_rate=adaptive, learning_rate_init=0.01, momentum=0.8, solver=adam, validation_fraction=0.2;, score=0.562 total time=   0.4s\n",
      "[CV 3/5] END activation=relu, alpha=0.001, batch_size=64, early_stopping=True, hidden_layer_sizes=(200,), learning_rate=adaptive, learning_rate_init=0.01, momentum=0.8, solver=adam, validation_fraction=0.2;, score=0.566 total time=   0.4s\n",
      "[CV 4/5] END activation=relu, alpha=0.001, batch_size=64, early_stopping=True, hidden_layer_sizes=(200,), learning_rate=adaptive, learning_rate_init=0.01, momentum=0.8, solver=adam, validation_fraction=0.2;, score=0.582 total time=   0.4s\n",
      "[CV 5/5] END activation=relu, alpha=0.001, batch_size=64, early_stopping=True, hidden_layer_sizes=(200,), learning_rate=adaptive, learning_rate_init=0.01, momentum=0.8, solver=adam, validation_fraction=0.2;, score=0.549 total time=   0.6s\n",
      "[CV 1/5] END activation=relu, alpha=0.001, batch_size=64, early_stopping=True, hidden_layer_sizes=(200,), learning_rate=adaptive, learning_rate_init=0.01, momentum=0.8, solver=sgd, validation_fraction=0.2;, score=0.560 total time=   2.1s\n",
      "[CV 2/5] END activation=relu, alpha=0.001, batch_size=64, early_stopping=True, hidden_layer_sizes=(200,), learning_rate=adaptive, learning_rate_init=0.01, momentum=0.8, solver=sgd, validation_fraction=0.2;, score=0.511 total time=   2.1s\n",
      "[CV 3/5] END activation=relu, alpha=0.001, batch_size=64, early_stopping=True, hidden_layer_sizes=(200,), learning_rate=adaptive, learning_rate_init=0.01, momentum=0.8, solver=sgd, validation_fraction=0.2;, score=0.549 total time=   2.1s\n",
      "[CV 4/5] END activation=relu, alpha=0.001, batch_size=64, early_stopping=True, hidden_layer_sizes=(200,), learning_rate=adaptive, learning_rate_init=0.01, momentum=0.8, solver=sgd, validation_fraction=0.2;, score=0.518 total time=   2.2s\n",
      "[CV 5/5] END activation=relu, alpha=0.001, batch_size=64, early_stopping=True, hidden_layer_sizes=(200,), learning_rate=adaptive, learning_rate_init=0.01, momentum=0.8, solver=sgd, validation_fraction=0.2;, score=0.519 total time=   2.1s\n",
      "[CV 1/5] END activation=relu, alpha=0.001, batch_size=64, early_stopping=True, hidden_layer_sizes=(50, 50), learning_rate=adaptive, learning_rate_init=0.01, momentum=0.2, solver=adam, validation_fraction=0.2;, score=0.535 total time=   0.4s\n",
      "[CV 2/5] END activation=relu, alpha=0.001, batch_size=64, early_stopping=True, hidden_layer_sizes=(50, 50), learning_rate=adaptive, learning_rate_init=0.01, momentum=0.2, solver=adam, validation_fraction=0.2;, score=0.533 total time=   0.4s\n",
      "[CV 3/5] END activation=relu, alpha=0.001, batch_size=64, early_stopping=True, hidden_layer_sizes=(50, 50), learning_rate=adaptive, learning_rate_init=0.01, momentum=0.2, solver=adam, validation_fraction=0.2;, score=0.581 total time=   0.4s\n",
      "[CV 4/5] END activation=relu, alpha=0.001, batch_size=64, early_stopping=True, hidden_layer_sizes=(50, 50), learning_rate=adaptive, learning_rate_init=0.01, momentum=0.2, solver=adam, validation_fraction=0.2;, score=0.525 total time=   0.5s\n",
      "[CV 5/5] END activation=relu, alpha=0.001, batch_size=64, early_stopping=True, hidden_layer_sizes=(50, 50), learning_rate=adaptive, learning_rate_init=0.01, momentum=0.2, solver=adam, validation_fraction=0.2;, score=0.557 total time=   0.5s\n",
      "[CV 1/5] END activation=relu, alpha=0.001, batch_size=64, early_stopping=True, hidden_layer_sizes=(50, 50), learning_rate=adaptive, learning_rate_init=0.01, momentum=0.2, solver=sgd, validation_fraction=0.2;, score=0.482 total time=   2.1s\n",
      "[CV 2/5] END activation=relu, alpha=0.001, batch_size=64, early_stopping=True, hidden_layer_sizes=(50, 50), learning_rate=adaptive, learning_rate_init=0.01, momentum=0.2, solver=sgd, validation_fraction=0.2;, score=0.519 total time=   2.3s\n",
      "[CV 3/5] END activation=relu, alpha=0.001, batch_size=64, early_stopping=True, hidden_layer_sizes=(50, 50), learning_rate=adaptive, learning_rate_init=0.01, momentum=0.2, solver=sgd, validation_fraction=0.2;, score=0.561 total time=   2.7s\n",
      "[CV 4/5] END activation=relu, alpha=0.001, batch_size=64, early_stopping=True, hidden_layer_sizes=(50, 50), learning_rate=adaptive, learning_rate_init=0.01, momentum=0.2, solver=sgd, validation_fraction=0.2;, score=0.477 total time=   2.1s\n",
      "[CV 5/5] END activation=relu, alpha=0.001, batch_size=64, early_stopping=True, hidden_layer_sizes=(50, 50), learning_rate=adaptive, learning_rate_init=0.01, momentum=0.2, solver=sgd, validation_fraction=0.2;, score=0.535 total time=   2.4s\n",
      "[CV 1/5] END activation=relu, alpha=0.001, batch_size=64, early_stopping=True, hidden_layer_sizes=(50, 50), learning_rate=adaptive, learning_rate_init=0.01, momentum=0.8, solver=adam, validation_fraction=0.2;, score=0.535 total time=   0.4s\n",
      "[CV 2/5] END activation=relu, alpha=0.001, batch_size=64, early_stopping=True, hidden_layer_sizes=(50, 50), learning_rate=adaptive, learning_rate_init=0.01, momentum=0.8, solver=adam, validation_fraction=0.2;, score=0.533 total time=   0.4s\n",
      "[CV 3/5] END activation=relu, alpha=0.001, batch_size=64, early_stopping=True, hidden_layer_sizes=(50, 50), learning_rate=adaptive, learning_rate_init=0.01, momentum=0.8, solver=adam, validation_fraction=0.2;, score=0.581 total time=   0.3s\n",
      "[CV 4/5] END activation=relu, alpha=0.001, batch_size=64, early_stopping=True, hidden_layer_sizes=(50, 50), learning_rate=adaptive, learning_rate_init=0.01, momentum=0.8, solver=adam, validation_fraction=0.2;, score=0.525 total time=   0.4s\n",
      "[CV 5/5] END activation=relu, alpha=0.001, batch_size=64, early_stopping=True, hidden_layer_sizes=(50, 50), learning_rate=adaptive, learning_rate_init=0.01, momentum=0.8, solver=adam, validation_fraction=0.2;, score=0.557 total time=   0.5s\n",
      "[CV 1/5] END activation=relu, alpha=0.001, batch_size=64, early_stopping=True, hidden_layer_sizes=(50, 50), learning_rate=adaptive, learning_rate_init=0.01, momentum=0.8, solver=sgd, validation_fraction=0.2;, score=0.547 total time=   2.2s\n",
      "[CV 2/5] END activation=relu, alpha=0.001, batch_size=64, early_stopping=True, hidden_layer_sizes=(50, 50), learning_rate=adaptive, learning_rate_init=0.01, momentum=0.8, solver=sgd, validation_fraction=0.2;, score=0.523 total time=   1.9s\n",
      "[CV 3/5] END activation=relu, alpha=0.001, batch_size=64, early_stopping=True, hidden_layer_sizes=(50, 50), learning_rate=adaptive, learning_rate_init=0.01, momentum=0.8, solver=sgd, validation_fraction=0.2;, score=0.559 total time=   2.1s\n",
      "[CV 4/5] END activation=relu, alpha=0.001, batch_size=64, early_stopping=True, hidden_layer_sizes=(50, 50), learning_rate=adaptive, learning_rate_init=0.01, momentum=0.8, solver=sgd, validation_fraction=0.2;, score=0.561 total time=   2.3s\n",
      "[CV 5/5] END activation=relu, alpha=0.001, batch_size=64, early_stopping=True, hidden_layer_sizes=(50, 50), learning_rate=adaptive, learning_rate_init=0.01, momentum=0.8, solver=sgd, validation_fraction=0.2;, score=0.562 total time=   2.2s\n",
      "[CV 1/5] END activation=relu, alpha=0.01, batch_size=32, early_stopping=True, hidden_layer_sizes=(200,), learning_rate=adaptive, learning_rate_init=0.01, momentum=0.2, solver=adam, validation_fraction=0.2;, score=0.483 total time=   0.8s\n",
      "[CV 2/5] END activation=relu, alpha=0.01, batch_size=32, early_stopping=True, hidden_layer_sizes=(200,), learning_rate=adaptive, learning_rate_init=0.01, momentum=0.2, solver=adam, validation_fraction=0.2;, score=0.539 total time=   0.7s\n",
      "[CV 3/5] END activation=relu, alpha=0.01, batch_size=32, early_stopping=True, hidden_layer_sizes=(200,), learning_rate=adaptive, learning_rate_init=0.01, momentum=0.2, solver=adam, validation_fraction=0.2;, score=0.557 total time=   0.8s\n",
      "[CV 4/5] END activation=relu, alpha=0.01, batch_size=32, early_stopping=True, hidden_layer_sizes=(200,), learning_rate=adaptive, learning_rate_init=0.01, momentum=0.2, solver=adam, validation_fraction=0.2;, score=0.574 total time=   1.2s\n",
      "[CV 5/5] END activation=relu, alpha=0.01, batch_size=32, early_stopping=True, hidden_layer_sizes=(200,), learning_rate=adaptive, learning_rate_init=0.01, momentum=0.2, solver=adam, validation_fraction=0.2;, score=0.548 total time=   0.7s\n",
      "[CV 1/5] END activation=relu, alpha=0.01, batch_size=32, early_stopping=True, hidden_layer_sizes=(200,), learning_rate=adaptive, learning_rate_init=0.01, momentum=0.2, solver=sgd, validation_fraction=0.2;, score=0.557 total time=   4.2s\n",
      "[CV 2/5] END activation=relu, alpha=0.01, batch_size=32, early_stopping=True, hidden_layer_sizes=(200,), learning_rate=adaptive, learning_rate_init=0.01, momentum=0.2, solver=sgd, validation_fraction=0.2;, score=0.507 total time=   3.5s\n",
      "[CV 3/5] END activation=relu, alpha=0.01, batch_size=32, early_stopping=True, hidden_layer_sizes=(200,), learning_rate=adaptive, learning_rate_init=0.01, momentum=0.2, solver=sgd, validation_fraction=0.2;, score=0.549 total time=   3.5s\n",
      "[CV 4/5] END activation=relu, alpha=0.01, batch_size=32, early_stopping=True, hidden_layer_sizes=(200,), learning_rate=adaptive, learning_rate_init=0.01, momentum=0.2, solver=sgd, validation_fraction=0.2;, score=0.541 total time=   3.6s\n",
      "[CV 5/5] END activation=relu, alpha=0.01, batch_size=32, early_stopping=True, hidden_layer_sizes=(200,), learning_rate=adaptive, learning_rate_init=0.01, momentum=0.2, solver=sgd, validation_fraction=0.2;, score=0.516 total time=   3.6s\n",
      "[CV 1/5] END activation=relu, alpha=0.01, batch_size=32, early_stopping=True, hidden_layer_sizes=(200,), learning_rate=adaptive, learning_rate_init=0.01, momentum=0.8, solver=adam, validation_fraction=0.2;, score=0.483 total time=   0.8s\n",
      "[CV 2/5] END activation=relu, alpha=0.01, batch_size=32, early_stopping=True, hidden_layer_sizes=(200,), learning_rate=adaptive, learning_rate_init=0.01, momentum=0.8, solver=adam, validation_fraction=0.2;, score=0.539 total time=   0.7s\n",
      "[CV 3/5] END activation=relu, alpha=0.01, batch_size=32, early_stopping=True, hidden_layer_sizes=(200,), learning_rate=adaptive, learning_rate_init=0.01, momentum=0.8, solver=adam, validation_fraction=0.2;, score=0.557 total time=   0.9s\n",
      "[CV 4/5] END activation=relu, alpha=0.01, batch_size=32, early_stopping=True, hidden_layer_sizes=(200,), learning_rate=adaptive, learning_rate_init=0.01, momentum=0.8, solver=adam, validation_fraction=0.2;, score=0.574 total time=   1.2s\n",
      "[CV 5/5] END activation=relu, alpha=0.01, batch_size=32, early_stopping=True, hidden_layer_sizes=(200,), learning_rate=adaptive, learning_rate_init=0.01, momentum=0.8, solver=adam, validation_fraction=0.2;, score=0.548 total time=   0.8s\n",
      "[CV 1/5] END activation=relu, alpha=0.01, batch_size=32, early_stopping=True, hidden_layer_sizes=(200,), learning_rate=adaptive, learning_rate_init=0.01, momentum=0.8, solver=sgd, validation_fraction=0.2;, score=0.543 total time=   3.5s\n",
      "[CV 2/5] END activation=relu, alpha=0.01, batch_size=32, early_stopping=True, hidden_layer_sizes=(200,), learning_rate=adaptive, learning_rate_init=0.01, momentum=0.8, solver=sgd, validation_fraction=0.2;, score=0.511 total time=   3.6s\n",
      "[CV 3/5] END activation=relu, alpha=0.01, batch_size=32, early_stopping=True, hidden_layer_sizes=(200,), learning_rate=adaptive, learning_rate_init=0.01, momentum=0.8, solver=sgd, validation_fraction=0.2;, score=0.565 total time=   3.6s\n",
      "[CV 4/5] END activation=relu, alpha=0.01, batch_size=32, early_stopping=True, hidden_layer_sizes=(200,), learning_rate=adaptive, learning_rate_init=0.01, momentum=0.8, solver=sgd, validation_fraction=0.2;, score=0.554 total time=   3.5s\n",
      "[CV 5/5] END activation=relu, alpha=0.01, batch_size=32, early_stopping=True, hidden_layer_sizes=(200,), learning_rate=adaptive, learning_rate_init=0.01, momentum=0.8, solver=sgd, validation_fraction=0.2;, score=0.552 total time=   3.6s\n",
      "[CV 1/5] END activation=relu, alpha=0.01, batch_size=32, early_stopping=True, hidden_layer_sizes=(50, 50), learning_rate=adaptive, learning_rate_init=0.01, momentum=0.2, solver=adam, validation_fraction=0.2;, score=0.522 total time=   0.7s\n",
      "[CV 2/5] END activation=relu, alpha=0.01, batch_size=32, early_stopping=True, hidden_layer_sizes=(50, 50), learning_rate=adaptive, learning_rate_init=0.01, momentum=0.2, solver=adam, validation_fraction=0.2;, score=0.504 total time=   0.6s\n",
      "[CV 3/5] END activation=relu, alpha=0.01, batch_size=32, early_stopping=True, hidden_layer_sizes=(50, 50), learning_rate=adaptive, learning_rate_init=0.01, momentum=0.2, solver=adam, validation_fraction=0.2;, score=0.554 total time=   0.7s\n",
      "[CV 4/5] END activation=relu, alpha=0.01, batch_size=32, early_stopping=True, hidden_layer_sizes=(50, 50), learning_rate=adaptive, learning_rate_init=0.01, momentum=0.2, solver=adam, validation_fraction=0.2;, score=0.557 total time=   0.6s\n",
      "[CV 5/5] END activation=relu, alpha=0.01, batch_size=32, early_stopping=True, hidden_layer_sizes=(50, 50), learning_rate=adaptive, learning_rate_init=0.01, momentum=0.2, solver=adam, validation_fraction=0.2;, score=0.537 total time=   1.1s\n",
      "[CV 1/5] END activation=relu, alpha=0.01, batch_size=32, early_stopping=True, hidden_layer_sizes=(50, 50), learning_rate=adaptive, learning_rate_init=0.01, momentum=0.2, solver=sgd, validation_fraction=0.2;, score=0.453 total time=   3.3s\n",
      "[CV 2/5] END activation=relu, alpha=0.01, batch_size=32, early_stopping=True, hidden_layer_sizes=(50, 50), learning_rate=adaptive, learning_rate_init=0.01, momentum=0.2, solver=sgd, validation_fraction=0.2;, score=0.513 total time=   3.5s\n",
      "[CV 3/5] END activation=relu, alpha=0.01, batch_size=32, early_stopping=True, hidden_layer_sizes=(50, 50), learning_rate=adaptive, learning_rate_init=0.01, momentum=0.2, solver=sgd, validation_fraction=0.2;, score=0.562 total time=   3.9s\n",
      "[CV 4/5] END activation=relu, alpha=0.01, batch_size=32, early_stopping=True, hidden_layer_sizes=(50, 50), learning_rate=adaptive, learning_rate_init=0.01, momentum=0.2, solver=sgd, validation_fraction=0.2;, score=0.565 total time=   4.8s\n",
      "[CV 5/5] END activation=relu, alpha=0.01, batch_size=32, early_stopping=True, hidden_layer_sizes=(50, 50), learning_rate=adaptive, learning_rate_init=0.01, momentum=0.2, solver=sgd, validation_fraction=0.2;, score=0.555 total time=   4.2s\n",
      "[CV 1/5] END activation=relu, alpha=0.01, batch_size=32, early_stopping=True, hidden_layer_sizes=(50, 50), learning_rate=adaptive, learning_rate_init=0.01, momentum=0.8, solver=adam, validation_fraction=0.2;, score=0.522 total time=   0.6s\n",
      "[CV 2/5] END activation=relu, alpha=0.01, batch_size=32, early_stopping=True, hidden_layer_sizes=(50, 50), learning_rate=adaptive, learning_rate_init=0.01, momentum=0.8, solver=adam, validation_fraction=0.2;, score=0.504 total time=   0.6s\n",
      "[CV 3/5] END activation=relu, alpha=0.01, batch_size=32, early_stopping=True, hidden_layer_sizes=(50, 50), learning_rate=adaptive, learning_rate_init=0.01, momentum=0.8, solver=adam, validation_fraction=0.2;, score=0.554 total time=   0.6s\n",
      "[CV 4/5] END activation=relu, alpha=0.01, batch_size=32, early_stopping=True, hidden_layer_sizes=(50, 50), learning_rate=adaptive, learning_rate_init=0.01, momentum=0.8, solver=adam, validation_fraction=0.2;, score=0.557 total time=   0.6s\n",
      "[CV 5/5] END activation=relu, alpha=0.01, batch_size=32, early_stopping=True, hidden_layer_sizes=(50, 50), learning_rate=adaptive, learning_rate_init=0.01, momentum=0.8, solver=adam, validation_fraction=0.2;, score=0.537 total time=   1.1s\n",
      "[CV 1/5] END activation=relu, alpha=0.01, batch_size=32, early_stopping=True, hidden_layer_sizes=(50, 50), learning_rate=adaptive, learning_rate_init=0.01, momentum=0.8, solver=sgd, validation_fraction=0.2;, score=0.562 total time=   3.7s\n",
      "[CV 2/5] END activation=relu, alpha=0.01, batch_size=32, early_stopping=True, hidden_layer_sizes=(50, 50), learning_rate=adaptive, learning_rate_init=0.01, momentum=0.8, solver=sgd, validation_fraction=0.2;, score=0.519 total time=   3.4s\n",
      "[CV 3/5] END activation=relu, alpha=0.01, batch_size=32, early_stopping=True, hidden_layer_sizes=(50, 50), learning_rate=adaptive, learning_rate_init=0.01, momentum=0.8, solver=sgd, validation_fraction=0.2;, score=0.567 total time=   3.4s\n",
      "[CV 4/5] END activation=relu, alpha=0.01, batch_size=32, early_stopping=True, hidden_layer_sizes=(50, 50), learning_rate=adaptive, learning_rate_init=0.01, momentum=0.8, solver=sgd, validation_fraction=0.2;, score=0.566 total time=   3.8s\n",
      "[CV 5/5] END activation=relu, alpha=0.01, batch_size=32, early_stopping=True, hidden_layer_sizes=(50, 50), learning_rate=adaptive, learning_rate_init=0.01, momentum=0.8, solver=sgd, validation_fraction=0.2;, score=0.530 total time=   4.0s\n",
      "[CV 1/5] END activation=relu, alpha=0.01, batch_size=64, early_stopping=True, hidden_layer_sizes=(200,), learning_rate=adaptive, learning_rate_init=0.01, momentum=0.2, solver=adam, validation_fraction=0.2;, score=0.515 total time=   0.6s\n",
      "[CV 2/5] END activation=relu, alpha=0.01, batch_size=64, early_stopping=True, hidden_layer_sizes=(200,), learning_rate=adaptive, learning_rate_init=0.01, momentum=0.2, solver=adam, validation_fraction=0.2;, score=0.506 total time=   0.6s\n",
      "[CV 3/5] END activation=relu, alpha=0.01, batch_size=64, early_stopping=True, hidden_layer_sizes=(200,), learning_rate=adaptive, learning_rate_init=0.01, momentum=0.2, solver=adam, validation_fraction=0.2;, score=0.565 total time=   0.4s\n",
      "[CV 4/5] END activation=relu, alpha=0.01, batch_size=64, early_stopping=True, hidden_layer_sizes=(200,), learning_rate=adaptive, learning_rate_init=0.01, momentum=0.2, solver=adam, validation_fraction=0.2;, score=0.574 total time=   0.6s\n",
      "[CV 5/5] END activation=relu, alpha=0.01, batch_size=64, early_stopping=True, hidden_layer_sizes=(200,), learning_rate=adaptive, learning_rate_init=0.01, momentum=0.2, solver=adam, validation_fraction=0.2;, score=0.561 total time=   0.6s\n",
      "[CV 1/5] END activation=relu, alpha=0.01, batch_size=64, early_stopping=True, hidden_layer_sizes=(200,), learning_rate=adaptive, learning_rate_init=0.01, momentum=0.2, solver=sgd, validation_fraction=0.2;, score=0.565 total time=   2.9s\n",
      "[CV 2/5] END activation=relu, alpha=0.01, batch_size=64, early_stopping=True, hidden_layer_sizes=(200,), learning_rate=adaptive, learning_rate_init=0.01, momentum=0.2, solver=sgd, validation_fraction=0.2;, score=0.533 total time=   2.5s\n",
      "[CV 3/5] END activation=relu, alpha=0.01, batch_size=64, early_stopping=True, hidden_layer_sizes=(200,), learning_rate=adaptive, learning_rate_init=0.01, momentum=0.2, solver=sgd, validation_fraction=0.2;, score=0.543 total time=   2.2s\n",
      "[CV 4/5] END activation=relu, alpha=0.01, batch_size=64, early_stopping=True, hidden_layer_sizes=(200,), learning_rate=adaptive, learning_rate_init=0.01, momentum=0.2, solver=sgd, validation_fraction=0.2;, score=0.536 total time=   2.7s\n",
      "[CV 5/5] END activation=relu, alpha=0.01, batch_size=64, early_stopping=True, hidden_layer_sizes=(200,), learning_rate=adaptive, learning_rate_init=0.01, momentum=0.2, solver=sgd, validation_fraction=0.2;, score=0.536 total time=   2.3s\n",
      "[CV 1/5] END activation=relu, alpha=0.01, batch_size=64, early_stopping=True, hidden_layer_sizes=(200,), learning_rate=adaptive, learning_rate_init=0.01, momentum=0.8, solver=adam, validation_fraction=0.2;, score=0.515 total time=   0.5s\n",
      "[CV 2/5] END activation=relu, alpha=0.01, batch_size=64, early_stopping=True, hidden_layer_sizes=(200,), learning_rate=adaptive, learning_rate_init=0.01, momentum=0.8, solver=adam, validation_fraction=0.2;, score=0.506 total time=   0.5s\n",
      "[CV 3/5] END activation=relu, alpha=0.01, batch_size=64, early_stopping=True, hidden_layer_sizes=(200,), learning_rate=adaptive, learning_rate_init=0.01, momentum=0.8, solver=adam, validation_fraction=0.2;, score=0.565 total time=   0.4s\n",
      "[CV 4/5] END activation=relu, alpha=0.01, batch_size=64, early_stopping=True, hidden_layer_sizes=(200,), learning_rate=adaptive, learning_rate_init=0.01, momentum=0.8, solver=adam, validation_fraction=0.2;, score=0.574 total time=   0.6s\n",
      "[CV 5/5] END activation=relu, alpha=0.01, batch_size=64, early_stopping=True, hidden_layer_sizes=(200,), learning_rate=adaptive, learning_rate_init=0.01, momentum=0.8, solver=adam, validation_fraction=0.2;, score=0.561 total time=   0.7s\n",
      "[CV 1/5] END activation=relu, alpha=0.01, batch_size=64, early_stopping=True, hidden_layer_sizes=(200,), learning_rate=adaptive, learning_rate_init=0.01, momentum=0.8, solver=sgd, validation_fraction=0.2;, score=0.560 total time=   2.3s\n",
      "[CV 2/5] END activation=relu, alpha=0.01, batch_size=64, early_stopping=True, hidden_layer_sizes=(200,), learning_rate=adaptive, learning_rate_init=0.01, momentum=0.8, solver=sgd, validation_fraction=0.2;, score=0.511 total time=   2.2s\n",
      "[CV 3/5] END activation=relu, alpha=0.01, batch_size=64, early_stopping=True, hidden_layer_sizes=(200,), learning_rate=adaptive, learning_rate_init=0.01, momentum=0.8, solver=sgd, validation_fraction=0.2;, score=0.549 total time=   2.2s\n",
      "[CV 4/5] END activation=relu, alpha=0.01, batch_size=64, early_stopping=True, hidden_layer_sizes=(200,), learning_rate=adaptive, learning_rate_init=0.01, momentum=0.8, solver=sgd, validation_fraction=0.2;, score=0.518 total time=   2.1s\n",
      "[CV 5/5] END activation=relu, alpha=0.01, batch_size=64, early_stopping=True, hidden_layer_sizes=(200,), learning_rate=adaptive, learning_rate_init=0.01, momentum=0.8, solver=sgd, validation_fraction=0.2;, score=0.519 total time=   2.1s\n",
      "[CV 1/5] END activation=relu, alpha=0.01, batch_size=64, early_stopping=True, hidden_layer_sizes=(50, 50), learning_rate=adaptive, learning_rate_init=0.01, momentum=0.2, solver=adam, validation_fraction=0.2;, score=0.547 total time=   0.4s\n",
      "[CV 2/5] END activation=relu, alpha=0.01, batch_size=64, early_stopping=True, hidden_layer_sizes=(50, 50), learning_rate=adaptive, learning_rate_init=0.01, momentum=0.2, solver=adam, validation_fraction=0.2;, score=0.498 total time=   0.5s\n",
      "[CV 3/5] END activation=relu, alpha=0.01, batch_size=64, early_stopping=True, hidden_layer_sizes=(50, 50), learning_rate=adaptive, learning_rate_init=0.01, momentum=0.2, solver=adam, validation_fraction=0.2;, score=0.576 total time=   0.4s\n",
      "[CV 4/5] END activation=relu, alpha=0.01, batch_size=64, early_stopping=True, hidden_layer_sizes=(50, 50), learning_rate=adaptive, learning_rate_init=0.01, momentum=0.2, solver=adam, validation_fraction=0.2;, score=0.567 total time=   0.4s\n",
      "[CV 5/5] END activation=relu, alpha=0.01, batch_size=64, early_stopping=True, hidden_layer_sizes=(50, 50), learning_rate=adaptive, learning_rate_init=0.01, momentum=0.2, solver=adam, validation_fraction=0.2;, score=0.557 total time=   0.5s\n",
      "[CV 1/5] END activation=relu, alpha=0.01, batch_size=64, early_stopping=True, hidden_layer_sizes=(50, 50), learning_rate=adaptive, learning_rate_init=0.01, momentum=0.2, solver=sgd, validation_fraction=0.2;, score=0.482 total time=   2.1s\n",
      "[CV 2/5] END activation=relu, alpha=0.01, batch_size=64, early_stopping=True, hidden_layer_sizes=(50, 50), learning_rate=adaptive, learning_rate_init=0.01, momentum=0.2, solver=sgd, validation_fraction=0.2;, score=0.517 total time=   2.4s\n",
      "[CV 3/5] END activation=relu, alpha=0.01, batch_size=64, early_stopping=True, hidden_layer_sizes=(50, 50), learning_rate=adaptive, learning_rate_init=0.01, momentum=0.2, solver=sgd, validation_fraction=0.2;, score=0.561 total time=   2.7s\n",
      "[CV 4/5] END activation=relu, alpha=0.01, batch_size=64, early_stopping=True, hidden_layer_sizes=(50, 50), learning_rate=adaptive, learning_rate_init=0.01, momentum=0.2, solver=sgd, validation_fraction=0.2;, score=0.475 total time=   2.1s\n",
      "[CV 5/5] END activation=relu, alpha=0.01, batch_size=64, early_stopping=True, hidden_layer_sizes=(50, 50), learning_rate=adaptive, learning_rate_init=0.01, momentum=0.2, solver=sgd, validation_fraction=0.2;, score=0.537 total time=   2.3s\n",
      "[CV 1/5] END activation=relu, alpha=0.01, batch_size=64, early_stopping=True, hidden_layer_sizes=(50, 50), learning_rate=adaptive, learning_rate_init=0.01, momentum=0.8, solver=adam, validation_fraction=0.2;, score=0.547 total time=   0.4s\n",
      "[CV 2/5] END activation=relu, alpha=0.01, batch_size=64, early_stopping=True, hidden_layer_sizes=(50, 50), learning_rate=adaptive, learning_rate_init=0.01, momentum=0.8, solver=adam, validation_fraction=0.2;, score=0.498 total time=   0.5s\n",
      "[CV 3/5] END activation=relu, alpha=0.01, batch_size=64, early_stopping=True, hidden_layer_sizes=(50, 50), learning_rate=adaptive, learning_rate_init=0.01, momentum=0.8, solver=adam, validation_fraction=0.2;, score=0.576 total time=   0.3s\n",
      "[CV 4/5] END activation=relu, alpha=0.01, batch_size=64, early_stopping=True, hidden_layer_sizes=(50, 50), learning_rate=adaptive, learning_rate_init=0.01, momentum=0.8, solver=adam, validation_fraction=0.2;, score=0.567 total time=   0.3s\n",
      "[CV 5/5] END activation=relu, alpha=0.01, batch_size=64, early_stopping=True, hidden_layer_sizes=(50, 50), learning_rate=adaptive, learning_rate_init=0.01, momentum=0.8, solver=adam, validation_fraction=0.2;, score=0.557 total time=   0.4s\n",
      "[CV 1/5] END activation=relu, alpha=0.01, batch_size=64, early_stopping=True, hidden_layer_sizes=(50, 50), learning_rate=adaptive, learning_rate_init=0.01, momentum=0.8, solver=sgd, validation_fraction=0.2;, score=0.536 total time=   2.1s\n",
      "[CV 2/5] END activation=relu, alpha=0.01, batch_size=64, early_stopping=True, hidden_layer_sizes=(50, 50), learning_rate=adaptive, learning_rate_init=0.01, momentum=0.8, solver=sgd, validation_fraction=0.2;, score=0.522 total time=   2.0s\n",
      "[CV 3/5] END activation=relu, alpha=0.01, batch_size=64, early_stopping=True, hidden_layer_sizes=(50, 50), learning_rate=adaptive, learning_rate_init=0.01, momentum=0.8, solver=sgd, validation_fraction=0.2;, score=0.557 total time=   2.3s\n",
      "[CV 4/5] END activation=relu, alpha=0.01, batch_size=64, early_stopping=True, hidden_layer_sizes=(50, 50), learning_rate=adaptive, learning_rate_init=0.01, momentum=0.8, solver=sgd, validation_fraction=0.2;, score=0.560 total time=   2.3s\n",
      "[CV 5/5] END activation=relu, alpha=0.01, batch_size=64, early_stopping=True, hidden_layer_sizes=(50, 50), learning_rate=adaptive, learning_rate_init=0.01, momentum=0.8, solver=sgd, validation_fraction=0.2;, score=0.559 total time=   2.3s\n",
      "[CV 1/5] END activation=logistic, alpha=0.001, batch_size=32, early_stopping=True, hidden_layer_sizes=(200,), learning_rate=adaptive, learning_rate_init=0.01, momentum=0.2, solver=adam, validation_fraction=0.2;, score=0.514 total time=   1.1s\n",
      "[CV 2/5] END activation=logistic, alpha=0.001, batch_size=32, early_stopping=True, hidden_layer_sizes=(200,), learning_rate=adaptive, learning_rate_init=0.01, momentum=0.2, solver=adam, validation_fraction=0.2;, score=0.522 total time=   1.6s\n",
      "[CV 3/5] END activation=logistic, alpha=0.001, batch_size=32, early_stopping=True, hidden_layer_sizes=(200,), learning_rate=adaptive, learning_rate_init=0.01, momentum=0.2, solver=adam, validation_fraction=0.2;, score=0.558 total time=   1.3s\n",
      "[CV 4/5] END activation=logistic, alpha=0.001, batch_size=32, early_stopping=True, hidden_layer_sizes=(200,), learning_rate=adaptive, learning_rate_init=0.01, momentum=0.2, solver=adam, validation_fraction=0.2;, score=0.485 total time=   0.8s\n",
      "[CV 5/5] END activation=logistic, alpha=0.001, batch_size=32, early_stopping=True, hidden_layer_sizes=(200,), learning_rate=adaptive, learning_rate_init=0.01, momentum=0.2, solver=adam, validation_fraction=0.2;, score=0.484 total time=   0.7s\n",
      "[CV 1/5] END activation=logistic, alpha=0.001, batch_size=32, early_stopping=True, hidden_layer_sizes=(200,), learning_rate=adaptive, learning_rate_init=0.01, momentum=0.2, solver=sgd, validation_fraction=0.2;, score=0.548 total time=   4.7s\n",
      "[CV 2/5] END activation=logistic, alpha=0.001, batch_size=32, early_stopping=True, hidden_layer_sizes=(200,), learning_rate=adaptive, learning_rate_init=0.01, momentum=0.2, solver=sgd, validation_fraction=0.2;, score=0.499 total time=   4.5s\n",
      "[CV 3/5] END activation=logistic, alpha=0.001, batch_size=32, early_stopping=True, hidden_layer_sizes=(200,), learning_rate=adaptive, learning_rate_init=0.01, momentum=0.2, solver=sgd, validation_fraction=0.2;, score=0.528 total time=   4.7s\n",
      "[CV 4/5] END activation=logistic, alpha=0.001, batch_size=32, early_stopping=True, hidden_layer_sizes=(200,), learning_rate=adaptive, learning_rate_init=0.01, momentum=0.2, solver=sgd, validation_fraction=0.2;, score=0.498 total time=   4.5s\n",
      "[CV 5/5] END activation=logistic, alpha=0.001, batch_size=32, early_stopping=True, hidden_layer_sizes=(200,), learning_rate=adaptive, learning_rate_init=0.01, momentum=0.2, solver=sgd, validation_fraction=0.2;, score=0.482 total time=   4.4s\n",
      "[CV 1/5] END activation=logistic, alpha=0.001, batch_size=32, early_stopping=True, hidden_layer_sizes=(200,), learning_rate=adaptive, learning_rate_init=0.01, momentum=0.8, solver=adam, validation_fraction=0.2;, score=0.514 total time=   1.1s\n",
      "[CV 2/5] END activation=logistic, alpha=0.001, batch_size=32, early_stopping=True, hidden_layer_sizes=(200,), learning_rate=adaptive, learning_rate_init=0.01, momentum=0.8, solver=adam, validation_fraction=0.2;, score=0.522 total time=   1.6s\n",
      "[CV 3/5] END activation=logistic, alpha=0.001, batch_size=32, early_stopping=True, hidden_layer_sizes=(200,), learning_rate=adaptive, learning_rate_init=0.01, momentum=0.8, solver=adam, validation_fraction=0.2;, score=0.558 total time=   1.4s\n",
      "[CV 4/5] END activation=logistic, alpha=0.001, batch_size=32, early_stopping=True, hidden_layer_sizes=(200,), learning_rate=adaptive, learning_rate_init=0.01, momentum=0.8, solver=adam, validation_fraction=0.2;, score=0.485 total time=   0.8s\n",
      "[CV 5/5] END activation=logistic, alpha=0.001, batch_size=32, early_stopping=True, hidden_layer_sizes=(200,), learning_rate=adaptive, learning_rate_init=0.01, momentum=0.8, solver=adam, validation_fraction=0.2;, score=0.484 total time=   0.7s\n",
      "[CV 1/5] END activation=logistic, alpha=0.001, batch_size=32, early_stopping=True, hidden_layer_sizes=(200,), learning_rate=adaptive, learning_rate_init=0.01, momentum=0.8, solver=sgd, validation_fraction=0.2;, score=0.549 total time=   4.3s\n",
      "[CV 2/5] END activation=logistic, alpha=0.001, batch_size=32, early_stopping=True, hidden_layer_sizes=(200,), learning_rate=adaptive, learning_rate_init=0.01, momentum=0.8, solver=sgd, validation_fraction=0.2;, score=0.490 total time=   3.8s\n",
      "[CV 3/5] END activation=logistic, alpha=0.001, batch_size=32, early_stopping=True, hidden_layer_sizes=(200,), learning_rate=adaptive, learning_rate_init=0.01, momentum=0.8, solver=sgd, validation_fraction=0.2;, score=0.522 total time=   3.9s\n",
      "[CV 4/5] END activation=logistic, alpha=0.001, batch_size=32, early_stopping=True, hidden_layer_sizes=(200,), learning_rate=adaptive, learning_rate_init=0.01, momentum=0.8, solver=sgd, validation_fraction=0.2;, score=0.471 total time=   4.0s\n",
      "[CV 5/5] END activation=logistic, alpha=0.001, batch_size=32, early_stopping=True, hidden_layer_sizes=(200,), learning_rate=adaptive, learning_rate_init=0.01, momentum=0.8, solver=sgd, validation_fraction=0.2;, score=0.486 total time=   4.6s\n",
      "[CV 1/5] END activation=logistic, alpha=0.001, batch_size=32, early_stopping=True, hidden_layer_sizes=(50, 50), learning_rate=adaptive, learning_rate_init=0.01, momentum=0.2, solver=adam, validation_fraction=0.2;, score=0.538 total time=   1.3s\n",
      "[CV 2/5] END activation=logistic, alpha=0.001, batch_size=32, early_stopping=True, hidden_layer_sizes=(50, 50), learning_rate=adaptive, learning_rate_init=0.01, momentum=0.2, solver=adam, validation_fraction=0.2;, score=0.510 total time=   1.0s\n",
      "[CV 3/5] END activation=logistic, alpha=0.001, batch_size=32, early_stopping=True, hidden_layer_sizes=(50, 50), learning_rate=adaptive, learning_rate_init=0.01, momentum=0.2, solver=adam, validation_fraction=0.2;, score=0.566 total time=   0.6s\n",
      "[CV 4/5] END activation=logistic, alpha=0.001, batch_size=32, early_stopping=True, hidden_layer_sizes=(50, 50), learning_rate=adaptive, learning_rate_init=0.01, momentum=0.2, solver=adam, validation_fraction=0.2;, score=0.612 total time=   0.6s\n",
      "[CV 5/5] END activation=logistic, alpha=0.001, batch_size=32, early_stopping=True, hidden_layer_sizes=(50, 50), learning_rate=adaptive, learning_rate_init=0.01, momentum=0.2, solver=adam, validation_fraction=0.2;, score=0.578 total time=   0.6s\n",
      "[CV 1/5] END activation=logistic, alpha=0.001, batch_size=32, early_stopping=True, hidden_layer_sizes=(50, 50), learning_rate=adaptive, learning_rate_init=0.01, momentum=0.2, solver=sgd, validation_fraction=0.2;, score=0.368 total time=   3.2s\n",
      "[CV 2/5] END activation=logistic, alpha=0.001, batch_size=32, early_stopping=True, hidden_layer_sizes=(50, 50), learning_rate=adaptive, learning_rate_init=0.01, momentum=0.2, solver=sgd, validation_fraction=0.2;, score=0.368 total time=   3.2s\n",
      "[CV 3/5] END activation=logistic, alpha=0.001, batch_size=32, early_stopping=True, hidden_layer_sizes=(50, 50), learning_rate=adaptive, learning_rate_init=0.01, momentum=0.2, solver=sgd, validation_fraction=0.2;, score=0.367 total time=   3.1s\n",
      "[CV 4/5] END activation=logistic, alpha=0.001, batch_size=32, early_stopping=True, hidden_layer_sizes=(50, 50), learning_rate=adaptive, learning_rate_init=0.01, momentum=0.2, solver=sgd, validation_fraction=0.2;, score=0.367 total time=   3.5s\n",
      "[CV 5/5] END activation=logistic, alpha=0.001, batch_size=32, early_stopping=True, hidden_layer_sizes=(50, 50), learning_rate=adaptive, learning_rate_init=0.01, momentum=0.2, solver=sgd, validation_fraction=0.2;, score=0.367 total time=   3.2s\n",
      "[CV 1/5] END activation=logistic, alpha=0.001, batch_size=32, early_stopping=True, hidden_layer_sizes=(50, 50), learning_rate=adaptive, learning_rate_init=0.01, momentum=0.8, solver=adam, validation_fraction=0.2;, score=0.538 total time=   1.4s\n",
      "[CV 2/5] END activation=logistic, alpha=0.001, batch_size=32, early_stopping=True, hidden_layer_sizes=(50, 50), learning_rate=adaptive, learning_rate_init=0.01, momentum=0.8, solver=adam, validation_fraction=0.2;, score=0.510 total time=   1.0s\n",
      "[CV 3/5] END activation=logistic, alpha=0.001, batch_size=32, early_stopping=True, hidden_layer_sizes=(50, 50), learning_rate=adaptive, learning_rate_init=0.01, momentum=0.8, solver=adam, validation_fraction=0.2;, score=0.566 total time=   0.6s\n",
      "[CV 4/5] END activation=logistic, alpha=0.001, batch_size=32, early_stopping=True, hidden_layer_sizes=(50, 50), learning_rate=adaptive, learning_rate_init=0.01, momentum=0.8, solver=adam, validation_fraction=0.2;, score=0.612 total time=   0.6s\n",
      "[CV 5/5] END activation=logistic, alpha=0.001, batch_size=32, early_stopping=True, hidden_layer_sizes=(50, 50), learning_rate=adaptive, learning_rate_init=0.01, momentum=0.8, solver=adam, validation_fraction=0.2;, score=0.578 total time=   0.6s\n",
      "[CV 1/5] END activation=logistic, alpha=0.001, batch_size=32, early_stopping=True, hidden_layer_sizes=(50, 50), learning_rate=adaptive, learning_rate_init=0.01, momentum=0.8, solver=sgd, validation_fraction=0.2;, score=0.368 total time=   3.3s\n",
      "[CV 2/5] END activation=logistic, alpha=0.001, batch_size=32, early_stopping=True, hidden_layer_sizes=(50, 50), learning_rate=adaptive, learning_rate_init=0.01, momentum=0.8, solver=sgd, validation_fraction=0.2;, score=0.368 total time=   3.2s\n",
      "[CV 3/5] END activation=logistic, alpha=0.001, batch_size=32, early_stopping=True, hidden_layer_sizes=(50, 50), learning_rate=adaptive, learning_rate_init=0.01, momentum=0.8, solver=sgd, validation_fraction=0.2;, score=0.367 total time=   3.3s\n",
      "[CV 4/5] END activation=logistic, alpha=0.001, batch_size=32, early_stopping=True, hidden_layer_sizes=(50, 50), learning_rate=adaptive, learning_rate_init=0.01, momentum=0.8, solver=sgd, validation_fraction=0.2;, score=0.367 total time=   3.3s\n",
      "[CV 5/5] END activation=logistic, alpha=0.001, batch_size=32, early_stopping=True, hidden_layer_sizes=(50, 50), learning_rate=adaptive, learning_rate_init=0.01, momentum=0.8, solver=sgd, validation_fraction=0.2;, score=0.367 total time=   3.3s\n",
      "[CV 1/5] END activation=logistic, alpha=0.001, batch_size=64, early_stopping=True, hidden_layer_sizes=(200,), learning_rate=adaptive, learning_rate_init=0.01, momentum=0.2, solver=adam, validation_fraction=0.2;, score=0.529 total time=   0.5s\n",
      "[CV 2/5] END activation=logistic, alpha=0.001, batch_size=64, early_stopping=True, hidden_layer_sizes=(200,), learning_rate=adaptive, learning_rate_init=0.01, momentum=0.2, solver=adam, validation_fraction=0.2;, score=0.535 total time=   0.5s\n",
      "[CV 3/5] END activation=logistic, alpha=0.001, batch_size=64, early_stopping=True, hidden_layer_sizes=(200,), learning_rate=adaptive, learning_rate_init=0.01, momentum=0.2, solver=adam, validation_fraction=0.2;, score=0.562 total time=   0.7s\n",
      "[CV 4/5] END activation=logistic, alpha=0.001, batch_size=64, early_stopping=True, hidden_layer_sizes=(200,), learning_rate=adaptive, learning_rate_init=0.01, momentum=0.2, solver=adam, validation_fraction=0.2;, score=0.541 total time=   0.7s\n",
      "[CV 5/5] END activation=logistic, alpha=0.001, batch_size=64, early_stopping=True, hidden_layer_sizes=(200,), learning_rate=adaptive, learning_rate_init=0.01, momentum=0.2, solver=adam, validation_fraction=0.2;, score=0.513 total time=   1.0s\n",
      "[CV 1/5] END activation=logistic, alpha=0.001, batch_size=64, early_stopping=True, hidden_layer_sizes=(200,), learning_rate=adaptive, learning_rate_init=0.01, momentum=0.2, solver=sgd, validation_fraction=0.2;, score=0.533 total time=   3.8s\n",
      "[CV 2/5] END activation=logistic, alpha=0.001, batch_size=64, early_stopping=True, hidden_layer_sizes=(200,), learning_rate=adaptive, learning_rate_init=0.01, momentum=0.2, solver=sgd, validation_fraction=0.2;, score=0.475 total time=   4.2s\n",
      "[CV 3/5] END activation=logistic, alpha=0.001, batch_size=64, early_stopping=True, hidden_layer_sizes=(200,), learning_rate=adaptive, learning_rate_init=0.01, momentum=0.2, solver=sgd, validation_fraction=0.2;, score=0.536 total time=   3.8s\n",
      "[CV 4/5] END activation=logistic, alpha=0.001, batch_size=64, early_stopping=True, hidden_layer_sizes=(200,), learning_rate=adaptive, learning_rate_init=0.01, momentum=0.2, solver=sgd, validation_fraction=0.2;, score=0.502 total time=   3.8s\n",
      "[CV 5/5] END activation=logistic, alpha=0.001, batch_size=64, early_stopping=True, hidden_layer_sizes=(200,), learning_rate=adaptive, learning_rate_init=0.01, momentum=0.2, solver=sgd, validation_fraction=0.2;, score=0.482 total time=   3.5s\n",
      "[CV 1/5] END activation=logistic, alpha=0.001, batch_size=64, early_stopping=True, hidden_layer_sizes=(200,), learning_rate=adaptive, learning_rate_init=0.01, momentum=0.8, solver=adam, validation_fraction=0.2;, score=0.529 total time=   0.6s\n",
      "[CV 2/5] END activation=logistic, alpha=0.001, batch_size=64, early_stopping=True, hidden_layer_sizes=(200,), learning_rate=adaptive, learning_rate_init=0.01, momentum=0.8, solver=adam, validation_fraction=0.2;, score=0.535 total time=   0.5s\n",
      "[CV 3/5] END activation=logistic, alpha=0.001, batch_size=64, early_stopping=True, hidden_layer_sizes=(200,), learning_rate=adaptive, learning_rate_init=0.01, momentum=0.8, solver=adam, validation_fraction=0.2;, score=0.562 total time=   0.7s\n",
      "[CV 4/5] END activation=logistic, alpha=0.001, batch_size=64, early_stopping=True, hidden_layer_sizes=(200,), learning_rate=adaptive, learning_rate_init=0.01, momentum=0.8, solver=adam, validation_fraction=0.2;, score=0.541 total time=   0.7s\n",
      "[CV 5/5] END activation=logistic, alpha=0.001, batch_size=64, early_stopping=True, hidden_layer_sizes=(200,), learning_rate=adaptive, learning_rate_init=0.01, momentum=0.8, solver=adam, validation_fraction=0.2;, score=0.513 total time=   1.0s\n",
      "[CV 1/5] END activation=logistic, alpha=0.001, batch_size=64, early_stopping=True, hidden_layer_sizes=(200,), learning_rate=adaptive, learning_rate_init=0.01, momentum=0.8, solver=sgd, validation_fraction=0.2;, score=0.551 total time=   2.8s\n",
      "[CV 2/5] END activation=logistic, alpha=0.001, batch_size=64, early_stopping=True, hidden_layer_sizes=(200,), learning_rate=adaptive, learning_rate_init=0.01, momentum=0.8, solver=sgd, validation_fraction=0.2;, score=0.496 total time=   2.6s\n",
      "[CV 3/5] END activation=logistic, alpha=0.001, batch_size=64, early_stopping=True, hidden_layer_sizes=(200,), learning_rate=adaptive, learning_rate_init=0.01, momentum=0.8, solver=sgd, validation_fraction=0.2;, score=0.509 total time=   2.7s\n",
      "[CV 4/5] END activation=logistic, alpha=0.001, batch_size=64, early_stopping=True, hidden_layer_sizes=(200,), learning_rate=adaptive, learning_rate_init=0.01, momentum=0.8, solver=sgd, validation_fraction=0.2;, score=0.488 total time=   3.0s\n",
      "[CV 5/5] END activation=logistic, alpha=0.001, batch_size=64, early_stopping=True, hidden_layer_sizes=(200,), learning_rate=adaptive, learning_rate_init=0.01, momentum=0.8, solver=sgd, validation_fraction=0.2;, score=0.481 total time=   2.9s\n",
      "[CV 1/5] END activation=logistic, alpha=0.001, batch_size=64, early_stopping=True, hidden_layer_sizes=(50, 50), learning_rate=adaptive, learning_rate_init=0.01, momentum=0.2, solver=adam, validation_fraction=0.2;, score=0.551 total time=   0.7s\n",
      "[CV 2/5] END activation=logistic, alpha=0.001, batch_size=64, early_stopping=True, hidden_layer_sizes=(50, 50), learning_rate=adaptive, learning_rate_init=0.01, momentum=0.2, solver=adam, validation_fraction=0.2;, score=0.537 total time=   0.7s\n",
      "[CV 3/5] END activation=logistic, alpha=0.001, batch_size=64, early_stopping=True, hidden_layer_sizes=(50, 50), learning_rate=adaptive, learning_rate_init=0.01, momentum=0.2, solver=adam, validation_fraction=0.2;, score=0.527 total time=   0.4s\n",
      "[CV 4/5] END activation=logistic, alpha=0.001, batch_size=64, early_stopping=True, hidden_layer_sizes=(50, 50), learning_rate=adaptive, learning_rate_init=0.01, momentum=0.2, solver=adam, validation_fraction=0.2;, score=0.509 total time=   0.4s\n",
      "[CV 5/5] END activation=logistic, alpha=0.001, batch_size=64, early_stopping=True, hidden_layer_sizes=(50, 50), learning_rate=adaptive, learning_rate_init=0.01, momentum=0.2, solver=adam, validation_fraction=0.2;, score=0.542 total time=   0.5s\n",
      "[CV 1/5] END activation=logistic, alpha=0.001, batch_size=64, early_stopping=True, hidden_layer_sizes=(50, 50), learning_rate=adaptive, learning_rate_init=0.01, momentum=0.2, solver=sgd, validation_fraction=0.2;, score=0.368 total time=   2.1s\n",
      "[CV 2/5] END activation=logistic, alpha=0.001, batch_size=64, early_stopping=True, hidden_layer_sizes=(50, 50), learning_rate=adaptive, learning_rate_init=0.01, momentum=0.2, solver=sgd, validation_fraction=0.2;, score=0.368 total time=   2.2s\n",
      "[CV 3/5] END activation=logistic, alpha=0.001, batch_size=64, early_stopping=True, hidden_layer_sizes=(50, 50), learning_rate=adaptive, learning_rate_init=0.01, momentum=0.2, solver=sgd, validation_fraction=0.2;, score=0.367 total time=   2.1s\n",
      "[CV 4/5] END activation=logistic, alpha=0.001, batch_size=64, early_stopping=True, hidden_layer_sizes=(50, 50), learning_rate=adaptive, learning_rate_init=0.01, momentum=0.2, solver=sgd, validation_fraction=0.2;, score=0.367 total time=   2.1s\n",
      "[CV 5/5] END activation=logistic, alpha=0.001, batch_size=64, early_stopping=True, hidden_layer_sizes=(50, 50), learning_rate=adaptive, learning_rate_init=0.01, momentum=0.2, solver=sgd, validation_fraction=0.2;, score=0.367 total time=   2.0s\n",
      "[CV 1/5] END activation=logistic, alpha=0.001, batch_size=64, early_stopping=True, hidden_layer_sizes=(50, 50), learning_rate=adaptive, learning_rate_init=0.01, momentum=0.8, solver=adam, validation_fraction=0.2;, score=0.551 total time=   0.7s\n",
      "[CV 2/5] END activation=logistic, alpha=0.001, batch_size=64, early_stopping=True, hidden_layer_sizes=(50, 50), learning_rate=adaptive, learning_rate_init=0.01, momentum=0.8, solver=adam, validation_fraction=0.2;, score=0.537 total time=   0.9s\n",
      "[CV 3/5] END activation=logistic, alpha=0.001, batch_size=64, early_stopping=True, hidden_layer_sizes=(50, 50), learning_rate=adaptive, learning_rate_init=0.01, momentum=0.8, solver=adam, validation_fraction=0.2;, score=0.527 total time=   0.7s\n",
      "[CV 4/5] END activation=logistic, alpha=0.001, batch_size=64, early_stopping=True, hidden_layer_sizes=(50, 50), learning_rate=adaptive, learning_rate_init=0.01, momentum=0.8, solver=adam, validation_fraction=0.2;, score=0.509 total time=   0.7s\n",
      "[CV 5/5] END activation=logistic, alpha=0.001, batch_size=64, early_stopping=True, hidden_layer_sizes=(50, 50), learning_rate=adaptive, learning_rate_init=0.01, momentum=0.8, solver=adam, validation_fraction=0.2;, score=0.542 total time=   0.7s\n",
      "[CV 1/5] END activation=logistic, alpha=0.001, batch_size=64, early_stopping=True, hidden_layer_sizes=(50, 50), learning_rate=adaptive, learning_rate_init=0.01, momentum=0.8, solver=sgd, validation_fraction=0.2;, score=0.368 total time=   2.9s\n",
      "[CV 2/5] END activation=logistic, alpha=0.001, batch_size=64, early_stopping=True, hidden_layer_sizes=(50, 50), learning_rate=adaptive, learning_rate_init=0.01, momentum=0.8, solver=sgd, validation_fraction=0.2;, score=0.368 total time=   2.1s\n",
      "[CV 3/5] END activation=logistic, alpha=0.001, batch_size=64, early_stopping=True, hidden_layer_sizes=(50, 50), learning_rate=adaptive, learning_rate_init=0.01, momentum=0.8, solver=sgd, validation_fraction=0.2;, score=0.367 total time=   2.0s\n",
      "[CV 4/5] END activation=logistic, alpha=0.001, batch_size=64, early_stopping=True, hidden_layer_sizes=(50, 50), learning_rate=adaptive, learning_rate_init=0.01, momentum=0.8, solver=sgd, validation_fraction=0.2;, score=0.367 total time=   2.1s\n",
      "[CV 5/5] END activation=logistic, alpha=0.001, batch_size=64, early_stopping=True, hidden_layer_sizes=(50, 50), learning_rate=adaptive, learning_rate_init=0.01, momentum=0.8, solver=sgd, validation_fraction=0.2;, score=0.367 total time=   2.2s\n",
      "[CV 1/5] END activation=logistic, alpha=0.01, batch_size=32, early_stopping=True, hidden_layer_sizes=(200,), learning_rate=adaptive, learning_rate_init=0.01, momentum=0.2, solver=adam, validation_fraction=0.2;, score=0.531 total time=   1.9s\n",
      "[CV 2/5] END activation=logistic, alpha=0.01, batch_size=32, early_stopping=True, hidden_layer_sizes=(200,), learning_rate=adaptive, learning_rate_init=0.01, momentum=0.2, solver=adam, validation_fraction=0.2;, score=0.571 total time=   1.3s\n",
      "[CV 3/5] END activation=logistic, alpha=0.01, batch_size=32, early_stopping=True, hidden_layer_sizes=(200,), learning_rate=adaptive, learning_rate_init=0.01, momentum=0.2, solver=adam, validation_fraction=0.2;, score=0.546 total time=   1.4s\n",
      "[CV 4/5] END activation=logistic, alpha=0.01, batch_size=32, early_stopping=True, hidden_layer_sizes=(200,), learning_rate=adaptive, learning_rate_init=0.01, momentum=0.2, solver=adam, validation_fraction=0.2;, score=0.499 total time=   0.9s\n",
      "[CV 5/5] END activation=logistic, alpha=0.01, batch_size=32, early_stopping=True, hidden_layer_sizes=(200,), learning_rate=adaptive, learning_rate_init=0.01, momentum=0.2, solver=adam, validation_fraction=0.2;, score=0.557 total time=   1.4s\n",
      "[CV 1/5] END activation=logistic, alpha=0.01, batch_size=32, early_stopping=True, hidden_layer_sizes=(200,), learning_rate=adaptive, learning_rate_init=0.01, momentum=0.2, solver=sgd, validation_fraction=0.2;, score=0.549 total time=   5.0s\n",
      "[CV 2/5] END activation=logistic, alpha=0.01, batch_size=32, early_stopping=True, hidden_layer_sizes=(200,), learning_rate=adaptive, learning_rate_init=0.01, momentum=0.2, solver=sgd, validation_fraction=0.2;, score=0.492 total time=   4.2s\n",
      "[CV 3/5] END activation=logistic, alpha=0.01, batch_size=32, early_stopping=True, hidden_layer_sizes=(200,), learning_rate=adaptive, learning_rate_init=0.01, momentum=0.2, solver=sgd, validation_fraction=0.2;, score=0.541 total time=   4.7s\n",
      "[CV 4/5] END activation=logistic, alpha=0.01, batch_size=32, early_stopping=True, hidden_layer_sizes=(200,), learning_rate=adaptive, learning_rate_init=0.01, momentum=0.2, solver=sgd, validation_fraction=0.2;, score=0.492 total time=   4.8s\n",
      "[CV 5/5] END activation=logistic, alpha=0.01, batch_size=32, early_stopping=True, hidden_layer_sizes=(200,), learning_rate=adaptive, learning_rate_init=0.01, momentum=0.2, solver=sgd, validation_fraction=0.2;, score=0.478 total time=   4.5s\n",
      "[CV 1/5] END activation=logistic, alpha=0.01, batch_size=32, early_stopping=True, hidden_layer_sizes=(200,), learning_rate=adaptive, learning_rate_init=0.01, momentum=0.8, solver=adam, validation_fraction=0.2;, score=0.531 total time=   1.5s\n",
      "[CV 2/5] END activation=logistic, alpha=0.01, batch_size=32, early_stopping=True, hidden_layer_sizes=(200,), learning_rate=adaptive, learning_rate_init=0.01, momentum=0.8, solver=adam, validation_fraction=0.2;, score=0.571 total time=   1.3s\n",
      "[CV 3/5] END activation=logistic, alpha=0.01, batch_size=32, early_stopping=True, hidden_layer_sizes=(200,), learning_rate=adaptive, learning_rate_init=0.01, momentum=0.8, solver=adam, validation_fraction=0.2;, score=0.546 total time=   1.4s\n",
      "[CV 4/5] END activation=logistic, alpha=0.01, batch_size=32, early_stopping=True, hidden_layer_sizes=(200,), learning_rate=adaptive, learning_rate_init=0.01, momentum=0.8, solver=adam, validation_fraction=0.2;, score=0.499 total time=   0.9s\n",
      "[CV 5/5] END activation=logistic, alpha=0.01, batch_size=32, early_stopping=True, hidden_layer_sizes=(200,), learning_rate=adaptive, learning_rate_init=0.01, momentum=0.8, solver=adam, validation_fraction=0.2;, score=0.557 total time=   1.4s\n",
      "[CV 1/5] END activation=logistic, alpha=0.01, batch_size=32, early_stopping=True, hidden_layer_sizes=(200,), learning_rate=adaptive, learning_rate_init=0.01, momentum=0.8, solver=sgd, validation_fraction=0.2;, score=0.544 total time=   4.5s\n",
      "[CV 2/5] END activation=logistic, alpha=0.01, batch_size=32, early_stopping=True, hidden_layer_sizes=(200,), learning_rate=adaptive, learning_rate_init=0.01, momentum=0.8, solver=sgd, validation_fraction=0.2;, score=0.489 total time=   3.8s\n",
      "[CV 3/5] END activation=logistic, alpha=0.01, batch_size=32, early_stopping=True, hidden_layer_sizes=(200,), learning_rate=adaptive, learning_rate_init=0.01, momentum=0.8, solver=sgd, validation_fraction=0.2;, score=0.521 total time=   4.0s\n",
      "[CV 4/5] END activation=logistic, alpha=0.01, batch_size=32, early_stopping=True, hidden_layer_sizes=(200,), learning_rate=adaptive, learning_rate_init=0.01, momentum=0.8, solver=sgd, validation_fraction=0.2;, score=0.466 total time=   3.7s\n",
      "[CV 5/5] END activation=logistic, alpha=0.01, batch_size=32, early_stopping=True, hidden_layer_sizes=(200,), learning_rate=adaptive, learning_rate_init=0.01, momentum=0.8, solver=sgd, validation_fraction=0.2;, score=0.483 total time=   4.3s\n",
      "[CV 1/5] END activation=logistic, alpha=0.01, batch_size=32, early_stopping=True, hidden_layer_sizes=(50, 50), learning_rate=adaptive, learning_rate_init=0.01, momentum=0.2, solver=adam, validation_fraction=0.2;, score=0.526 total time=   0.8s\n",
      "[CV 2/5] END activation=logistic, alpha=0.01, batch_size=32, early_stopping=True, hidden_layer_sizes=(50, 50), learning_rate=adaptive, learning_rate_init=0.01, momentum=0.2, solver=adam, validation_fraction=0.2;, score=0.496 total time=   0.8s\n",
      "[CV 3/5] END activation=logistic, alpha=0.01, batch_size=32, early_stopping=True, hidden_layer_sizes=(50, 50), learning_rate=adaptive, learning_rate_init=0.01, momentum=0.2, solver=adam, validation_fraction=0.2;, score=0.568 total time=   0.6s\n",
      "[CV 4/5] END activation=logistic, alpha=0.01, batch_size=32, early_stopping=True, hidden_layer_sizes=(50, 50), learning_rate=adaptive, learning_rate_init=0.01, momentum=0.2, solver=adam, validation_fraction=0.2;, score=0.500 total time=   1.1s\n",
      "[CV 5/5] END activation=logistic, alpha=0.01, batch_size=32, early_stopping=True, hidden_layer_sizes=(50, 50), learning_rate=adaptive, learning_rate_init=0.01, momentum=0.2, solver=adam, validation_fraction=0.2;, score=0.552 total time=   1.1s\n",
      "[CV 1/5] END activation=logistic, alpha=0.01, batch_size=32, early_stopping=True, hidden_layer_sizes=(50, 50), learning_rate=adaptive, learning_rate_init=0.01, momentum=0.2, solver=sgd, validation_fraction=0.2;, score=0.368 total time=   3.2s\n",
      "[CV 2/5] END activation=logistic, alpha=0.01, batch_size=32, early_stopping=True, hidden_layer_sizes=(50, 50), learning_rate=adaptive, learning_rate_init=0.01, momentum=0.2, solver=sgd, validation_fraction=0.2;, score=0.368 total time=   3.2s\n",
      "[CV 3/5] END activation=logistic, alpha=0.01, batch_size=32, early_stopping=True, hidden_layer_sizes=(50, 50), learning_rate=adaptive, learning_rate_init=0.01, momentum=0.2, solver=sgd, validation_fraction=0.2;, score=0.367 total time=   3.3s\n",
      "[CV 4/5] END activation=logistic, alpha=0.01, batch_size=32, early_stopping=True, hidden_layer_sizes=(50, 50), learning_rate=adaptive, learning_rate_init=0.01, momentum=0.2, solver=sgd, validation_fraction=0.2;, score=0.367 total time=   3.2s\n",
      "[CV 5/5] END activation=logistic, alpha=0.01, batch_size=32, early_stopping=True, hidden_layer_sizes=(50, 50), learning_rate=adaptive, learning_rate_init=0.01, momentum=0.2, solver=sgd, validation_fraction=0.2;, score=0.367 total time=   3.2s\n",
      "[CV 1/5] END activation=logistic, alpha=0.01, batch_size=32, early_stopping=True, hidden_layer_sizes=(50, 50), learning_rate=adaptive, learning_rate_init=0.01, momentum=0.8, solver=adam, validation_fraction=0.2;, score=0.526 total time=   0.7s\n",
      "[CV 2/5] END activation=logistic, alpha=0.01, batch_size=32, early_stopping=True, hidden_layer_sizes=(50, 50), learning_rate=adaptive, learning_rate_init=0.01, momentum=0.8, solver=adam, validation_fraction=0.2;, score=0.496 total time=   0.7s\n",
      "[CV 3/5] END activation=logistic, alpha=0.01, batch_size=32, early_stopping=True, hidden_layer_sizes=(50, 50), learning_rate=adaptive, learning_rate_init=0.01, momentum=0.8, solver=adam, validation_fraction=0.2;, score=0.568 total time=   0.6s\n",
      "[CV 4/5] END activation=logistic, alpha=0.01, batch_size=32, early_stopping=True, hidden_layer_sizes=(50, 50), learning_rate=adaptive, learning_rate_init=0.01, momentum=0.8, solver=adam, validation_fraction=0.2;, score=0.500 total time=   1.1s\n",
      "[CV 5/5] END activation=logistic, alpha=0.01, batch_size=32, early_stopping=True, hidden_layer_sizes=(50, 50), learning_rate=adaptive, learning_rate_init=0.01, momentum=0.8, solver=adam, validation_fraction=0.2;, score=0.552 total time=   1.1s\n",
      "[CV 1/5] END activation=logistic, alpha=0.01, batch_size=32, early_stopping=True, hidden_layer_sizes=(50, 50), learning_rate=adaptive, learning_rate_init=0.01, momentum=0.8, solver=sgd, validation_fraction=0.2;, score=0.368 total time=   3.2s\n",
      "[CV 2/5] END activation=logistic, alpha=0.01, batch_size=32, early_stopping=True, hidden_layer_sizes=(50, 50), learning_rate=adaptive, learning_rate_init=0.01, momentum=0.8, solver=sgd, validation_fraction=0.2;, score=0.368 total time=   3.2s\n",
      "[CV 3/5] END activation=logistic, alpha=0.01, batch_size=32, early_stopping=True, hidden_layer_sizes=(50, 50), learning_rate=adaptive, learning_rate_init=0.01, momentum=0.8, solver=sgd, validation_fraction=0.2;, score=0.367 total time=   3.3s\n",
      "[CV 4/5] END activation=logistic, alpha=0.01, batch_size=32, early_stopping=True, hidden_layer_sizes=(50, 50), learning_rate=adaptive, learning_rate_init=0.01, momentum=0.8, solver=sgd, validation_fraction=0.2;, score=0.367 total time=   3.2s\n",
      "[CV 5/5] END activation=logistic, alpha=0.01, batch_size=32, early_stopping=True, hidden_layer_sizes=(50, 50), learning_rate=adaptive, learning_rate_init=0.01, momentum=0.8, solver=sgd, validation_fraction=0.2;, score=0.367 total time=   3.2s\n",
      "[CV 1/5] END activation=logistic, alpha=0.01, batch_size=64, early_stopping=True, hidden_layer_sizes=(200,), learning_rate=adaptive, learning_rate_init=0.01, momentum=0.2, solver=adam, validation_fraction=0.2;, score=0.518 total time=   0.5s\n",
      "[CV 2/5] END activation=logistic, alpha=0.01, batch_size=64, early_stopping=True, hidden_layer_sizes=(200,), learning_rate=adaptive, learning_rate_init=0.01, momentum=0.2, solver=adam, validation_fraction=0.2;, score=0.532 total time=   0.5s\n",
      "[CV 3/5] END activation=logistic, alpha=0.01, batch_size=64, early_stopping=True, hidden_layer_sizes=(200,), learning_rate=adaptive, learning_rate_init=0.01, momentum=0.2, solver=adam, validation_fraction=0.2;, score=0.552 total time=   0.8s\n",
      "[CV 4/5] END activation=logistic, alpha=0.01, batch_size=64, early_stopping=True, hidden_layer_sizes=(200,), learning_rate=adaptive, learning_rate_init=0.01, momentum=0.2, solver=adam, validation_fraction=0.2;, score=0.492 total time=   1.1s\n",
      "[CV 5/5] END activation=logistic, alpha=0.01, batch_size=64, early_stopping=True, hidden_layer_sizes=(200,), learning_rate=adaptive, learning_rate_init=0.01, momentum=0.2, solver=adam, validation_fraction=0.2;, score=0.559 total time=   0.9s\n",
      "[CV 1/5] END activation=logistic, alpha=0.01, batch_size=64, early_stopping=True, hidden_layer_sizes=(200,), learning_rate=adaptive, learning_rate_init=0.01, momentum=0.2, solver=sgd, validation_fraction=0.2;, score=0.516 total time=   3.3s\n",
      "[CV 2/5] END activation=logistic, alpha=0.01, batch_size=64, early_stopping=True, hidden_layer_sizes=(200,), learning_rate=adaptive, learning_rate_init=0.01, momentum=0.2, solver=sgd, validation_fraction=0.2;, score=0.492 total time=   3.6s\n",
      "[CV 3/5] END activation=logistic, alpha=0.01, batch_size=64, early_stopping=True, hidden_layer_sizes=(200,), learning_rate=adaptive, learning_rate_init=0.01, momentum=0.2, solver=sgd, validation_fraction=0.2;, score=0.530 total time=   3.8s\n",
      "[CV 4/5] END activation=logistic, alpha=0.01, batch_size=64, early_stopping=True, hidden_layer_sizes=(200,), learning_rate=adaptive, learning_rate_init=0.01, momentum=0.2, solver=sgd, validation_fraction=0.2;, score=0.500 total time=   3.9s\n",
      "[CV 5/5] END activation=logistic, alpha=0.01, batch_size=64, early_stopping=True, hidden_layer_sizes=(200,), learning_rate=adaptive, learning_rate_init=0.01, momentum=0.2, solver=sgd, validation_fraction=0.2;, score=0.480 total time=   3.6s\n",
      "[CV 1/5] END activation=logistic, alpha=0.01, batch_size=64, early_stopping=True, hidden_layer_sizes=(200,), learning_rate=adaptive, learning_rate_init=0.01, momentum=0.8, solver=adam, validation_fraction=0.2;, score=0.518 total time=   0.5s\n",
      "[CV 2/5] END activation=logistic, alpha=0.01, batch_size=64, early_stopping=True, hidden_layer_sizes=(200,), learning_rate=adaptive, learning_rate_init=0.01, momentum=0.8, solver=adam, validation_fraction=0.2;, score=0.532 total time=   0.5s\n",
      "[CV 3/5] END activation=logistic, alpha=0.01, batch_size=64, early_stopping=True, hidden_layer_sizes=(200,), learning_rate=adaptive, learning_rate_init=0.01, momentum=0.8, solver=adam, validation_fraction=0.2;, score=0.552 total time=   0.8s\n",
      "[CV 4/5] END activation=logistic, alpha=0.01, batch_size=64, early_stopping=True, hidden_layer_sizes=(200,), learning_rate=adaptive, learning_rate_init=0.01, momentum=0.8, solver=adam, validation_fraction=0.2;, score=0.492 total time=   1.1s\n",
      "[CV 5/5] END activation=logistic, alpha=0.01, batch_size=64, early_stopping=True, hidden_layer_sizes=(200,), learning_rate=adaptive, learning_rate_init=0.01, momentum=0.8, solver=adam, validation_fraction=0.2;, score=0.559 total time=   0.9s\n",
      "[CV 1/5] END activation=logistic, alpha=0.01, batch_size=64, early_stopping=True, hidden_layer_sizes=(200,), learning_rate=adaptive, learning_rate_init=0.01, momentum=0.8, solver=sgd, validation_fraction=0.2;, score=0.550 total time=   2.8s\n",
      "[CV 2/5] END activation=logistic, alpha=0.01, batch_size=64, early_stopping=True, hidden_layer_sizes=(200,), learning_rate=adaptive, learning_rate_init=0.01, momentum=0.8, solver=sgd, validation_fraction=0.2;, score=0.495 total time=   2.7s\n",
      "[CV 3/5] END activation=logistic, alpha=0.01, batch_size=64, early_stopping=True, hidden_layer_sizes=(200,), learning_rate=adaptive, learning_rate_init=0.01, momentum=0.8, solver=sgd, validation_fraction=0.2;, score=0.511 total time=   2.7s\n",
      "[CV 4/5] END activation=logistic, alpha=0.01, batch_size=64, early_stopping=True, hidden_layer_sizes=(200,), learning_rate=adaptive, learning_rate_init=0.01, momentum=0.8, solver=sgd, validation_fraction=0.2;, score=0.487 total time=   2.9s\n",
      "[CV 5/5] END activation=logistic, alpha=0.01, batch_size=64, early_stopping=True, hidden_layer_sizes=(200,), learning_rate=adaptive, learning_rate_init=0.01, momentum=0.8, solver=sgd, validation_fraction=0.2;, score=0.483 total time=   2.9s\n",
      "[CV 1/5] END activation=logistic, alpha=0.01, batch_size=64, early_stopping=True, hidden_layer_sizes=(50, 50), learning_rate=adaptive, learning_rate_init=0.01, momentum=0.2, solver=adam, validation_fraction=0.2;, score=0.495 total time=   0.4s\n",
      "[CV 2/5] END activation=logistic, alpha=0.01, batch_size=64, early_stopping=True, hidden_layer_sizes=(50, 50), learning_rate=adaptive, learning_rate_init=0.01, momentum=0.2, solver=adam, validation_fraction=0.2;, score=0.501 total time=   0.4s\n",
      "[CV 3/5] END activation=logistic, alpha=0.01, batch_size=64, early_stopping=True, hidden_layer_sizes=(50, 50), learning_rate=adaptive, learning_rate_init=0.01, momentum=0.2, solver=adam, validation_fraction=0.2;, score=0.528 total time=   0.4s\n",
      "[CV 4/5] END activation=logistic, alpha=0.01, batch_size=64, early_stopping=True, hidden_layer_sizes=(50, 50), learning_rate=adaptive, learning_rate_init=0.01, momentum=0.2, solver=adam, validation_fraction=0.2;, score=0.499 total time=   0.4s\n",
      "[CV 5/5] END activation=logistic, alpha=0.01, batch_size=64, early_stopping=True, hidden_layer_sizes=(50, 50), learning_rate=adaptive, learning_rate_init=0.01, momentum=0.2, solver=adam, validation_fraction=0.2;, score=0.582 total time=   0.6s\n",
      "[CV 1/5] END activation=logistic, alpha=0.01, batch_size=64, early_stopping=True, hidden_layer_sizes=(50, 50), learning_rate=adaptive, learning_rate_init=0.01, momentum=0.2, solver=sgd, validation_fraction=0.2;, score=0.368 total time=   2.0s\n",
      "[CV 2/5] END activation=logistic, alpha=0.01, batch_size=64, early_stopping=True, hidden_layer_sizes=(50, 50), learning_rate=adaptive, learning_rate_init=0.01, momentum=0.2, solver=sgd, validation_fraction=0.2;, score=0.368 total time=   1.9s\n",
      "[CV 3/5] END activation=logistic, alpha=0.01, batch_size=64, early_stopping=True, hidden_layer_sizes=(50, 50), learning_rate=adaptive, learning_rate_init=0.01, momentum=0.2, solver=sgd, validation_fraction=0.2;, score=0.367 total time=   1.9s\n",
      "[CV 4/5] END activation=logistic, alpha=0.01, batch_size=64, early_stopping=True, hidden_layer_sizes=(50, 50), learning_rate=adaptive, learning_rate_init=0.01, momentum=0.2, solver=sgd, validation_fraction=0.2;, score=0.367 total time=   2.0s\n",
      "[CV 5/5] END activation=logistic, alpha=0.01, batch_size=64, early_stopping=True, hidden_layer_sizes=(50, 50), learning_rate=adaptive, learning_rate_init=0.01, momentum=0.2, solver=sgd, validation_fraction=0.2;, score=0.367 total time=   1.9s\n",
      "[CV 1/5] END activation=logistic, alpha=0.01, batch_size=64, early_stopping=True, hidden_layer_sizes=(50, 50), learning_rate=adaptive, learning_rate_init=0.01, momentum=0.8, solver=adam, validation_fraction=0.2;, score=0.495 total time=   0.4s\n",
      "[CV 2/5] END activation=logistic, alpha=0.01, batch_size=64, early_stopping=True, hidden_layer_sizes=(50, 50), learning_rate=adaptive, learning_rate_init=0.01, momentum=0.8, solver=adam, validation_fraction=0.2;, score=0.501 total time=   0.4s\n",
      "[CV 3/5] END activation=logistic, alpha=0.01, batch_size=64, early_stopping=True, hidden_layer_sizes=(50, 50), learning_rate=adaptive, learning_rate_init=0.01, momentum=0.8, solver=adam, validation_fraction=0.2;, score=0.528 total time=   0.4s\n",
      "[CV 4/5] END activation=logistic, alpha=0.01, batch_size=64, early_stopping=True, hidden_layer_sizes=(50, 50), learning_rate=adaptive, learning_rate_init=0.01, momentum=0.8, solver=adam, validation_fraction=0.2;, score=0.499 total time=   0.4s\n",
      "[CV 5/5] END activation=logistic, alpha=0.01, batch_size=64, early_stopping=True, hidden_layer_sizes=(50, 50), learning_rate=adaptive, learning_rate_init=0.01, momentum=0.8, solver=adam, validation_fraction=0.2;, score=0.582 total time=   0.6s\n",
      "[CV 1/5] END activation=logistic, alpha=0.01, batch_size=64, early_stopping=True, hidden_layer_sizes=(50, 50), learning_rate=adaptive, learning_rate_init=0.01, momentum=0.8, solver=sgd, validation_fraction=0.2;, score=0.368 total time=   2.0s\n",
      "[CV 2/5] END activation=logistic, alpha=0.01, batch_size=64, early_stopping=True, hidden_layer_sizes=(50, 50), learning_rate=adaptive, learning_rate_init=0.01, momentum=0.8, solver=sgd, validation_fraction=0.2;, score=0.368 total time=   2.1s\n",
      "[CV 3/5] END activation=logistic, alpha=0.01, batch_size=64, early_stopping=True, hidden_layer_sizes=(50, 50), learning_rate=adaptive, learning_rate_init=0.01, momentum=0.8, solver=sgd, validation_fraction=0.2;, score=0.367 total time=   2.0s\n",
      "[CV 4/5] END activation=logistic, alpha=0.01, batch_size=64, early_stopping=True, hidden_layer_sizes=(50, 50), learning_rate=adaptive, learning_rate_init=0.01, momentum=0.8, solver=sgd, validation_fraction=0.2;, score=0.367 total time=   2.1s\n",
      "[CV 5/5] END activation=logistic, alpha=0.01, batch_size=64, early_stopping=True, hidden_layer_sizes=(50, 50), learning_rate=adaptive, learning_rate_init=0.01, momentum=0.8, solver=sgd, validation_fraction=0.2;, score=0.367 total time=   2.0s\n"
     ]
    },
    {
     "name": "stderr",
     "output_type": "stream",
     "text": [
      "INFO:root:[Neural Network] 🔍 Best F1_macro: 0.5610\n",
      "[Neural Network] 🔍 Best Params: {'activation': 'logistic', 'alpha': 0.001, 'batch_size': 32, 'early_stopping': True, 'hidden_layer_sizes': (50, 50), 'learning_rate': 'adaptive', 'learning_rate_init': 0.01, 'momentum': 0.2, 'solver': 'adam', 'validation_fraction': 0.2}\n"
     ]
    }
   ],
   "source": [
    "model_name = 'Neural Network'\n",
    "start = time.time()\n",
    "model = model_factory(model_name, ufc_data_no_odds, model_params, scoring=\"f1_macro\")\n",
    "end = time.time()\n",
    "duration = end - start"
   ]
  },
  {
   "cell_type": "markdown",
   "id": "96a95730-9458-41c1-846f-b86156676943",
   "metadata": {},
   "source": [
    "### 🔍 Neural Network Metrics"
   ]
  },
  {
   "cell_type": "code",
   "execution_count": 81,
   "id": "1ae33ea1-518b-4027-9cd8-07d0009a8f25",
   "metadata": {},
   "outputs": [
    {
     "data": {
      "text/html": [
       "<pre style=\"white-space:pre;overflow-x:auto;line-height:normal;font-family:Menlo,'DejaVu Sans Mono',consolas,'Courier New',monospace\"><span style=\"font-weight: bold\">{</span>\n",
       "    <span style=\"color: #008000; text-decoration-color: #008000\">'Accuracy'</span>: <span style=\"color: #008080; text-decoration-color: #008080; font-weight: bold\">0.6278</span>,\n",
       "    <span style=\"color: #008000; text-decoration-color: #008000\">'Balanced Accuracy'</span>: <span style=\"color: #800080; text-decoration-color: #800080; font-weight: bold\">np.float64</span><span style=\"font-weight: bold\">(</span><span style=\"color: #008080; text-decoration-color: #008080; font-weight: bold\">0.5802</span><span style=\"font-weight: bold\">)</span>,\n",
       "    <span style=\"color: #008000; text-decoration-color: #008000\">'Precision Red'</span>: <span style=\"color: #008080; text-decoration-color: #008080; font-weight: bold\">0.6286</span>,\n",
       "    <span style=\"color: #008000; text-decoration-color: #008000\">'Recall Red'</span>: <span style=\"color: #008080; text-decoration-color: #008080; font-weight: bold\">0.8766</span>,\n",
       "    <span style=\"color: #008000; text-decoration-color: #008000\">'F1 Red'</span>: <span style=\"color: #008080; text-decoration-color: #008080; font-weight: bold\">0.7322</span>,\n",
       "    <span style=\"color: #008000; text-decoration-color: #008000\">'Precision Blue'</span>: <span style=\"color: #008080; text-decoration-color: #008080; font-weight: bold\">0.6245</span>,\n",
       "    <span style=\"color: #008000; text-decoration-color: #008000\">'Recall Blue'</span>: <span style=\"color: #008080; text-decoration-color: #008080; font-weight: bold\">0.2837</span>,\n",
       "    <span style=\"color: #008000; text-decoration-color: #008000\">'F1 Blue'</span>: <span style=\"color: #008080; text-decoration-color: #008080; font-weight: bold\">0.3902</span>,\n",
       "    <span style=\"color: #008000; text-decoration-color: #008000\">'F1 Macro'</span>: <span style=\"color: #008080; text-decoration-color: #008080; font-weight: bold\">0.5612</span>,\n",
       "    <span style=\"color: #008000; text-decoration-color: #008000\">'ROC AUC'</span>: <span style=\"color: #800080; text-decoration-color: #800080; font-weight: bold\">np.float64</span><span style=\"font-weight: bold\">(</span><span style=\"color: #008080; text-decoration-color: #008080; font-weight: bold\">0.6344</span><span style=\"font-weight: bold\">)</span>,\n",
       "    <span style=\"color: #008000; text-decoration-color: #008000\">'Brier Score'</span>: <span style=\"color: #800080; text-decoration-color: #800080; font-weight: bold\">np.float64</span><span style=\"font-weight: bold\">(</span><span style=\"color: #008080; text-decoration-color: #008080; font-weight: bold\">0.2291</span><span style=\"font-weight: bold\">)</span>,\n",
       "    <span style=\"color: #008000; text-decoration-color: #008000\">'MCC'</span>: <span style=\"color: #800080; text-decoration-color: #800080; font-weight: bold\">np.float64</span><span style=\"font-weight: bold\">(</span><span style=\"color: #008080; text-decoration-color: #008080; font-weight: bold\">0.2014</span><span style=\"font-weight: bold\">)</span>,\n",
       "    <span style=\"color: #008000; text-decoration-color: #008000\">'Kappa'</span>: <span style=\"color: #800080; text-decoration-color: #800080; font-weight: bold\">np.float64</span><span style=\"font-weight: bold\">(</span><span style=\"color: #008080; text-decoration-color: #008080; font-weight: bold\">0.1734</span><span style=\"font-weight: bold\">)</span>\n",
       "<span style=\"font-weight: bold\">}</span>\n",
       "</pre>\n"
      ],
      "text/plain": [
       "\u001b[1m{\u001b[0m\n",
       "    \u001b[32m'Accuracy'\u001b[0m: \u001b[1;36m0.6278\u001b[0m,\n",
       "    \u001b[32m'Balanced Accuracy'\u001b[0m: \u001b[1;35mnp.float64\u001b[0m\u001b[1m(\u001b[0m\u001b[1;36m0.5802\u001b[0m\u001b[1m)\u001b[0m,\n",
       "    \u001b[32m'Precision Red'\u001b[0m: \u001b[1;36m0.6286\u001b[0m,\n",
       "    \u001b[32m'Recall Red'\u001b[0m: \u001b[1;36m0.8766\u001b[0m,\n",
       "    \u001b[32m'F1 Red'\u001b[0m: \u001b[1;36m0.7322\u001b[0m,\n",
       "    \u001b[32m'Precision Blue'\u001b[0m: \u001b[1;36m0.6245\u001b[0m,\n",
       "    \u001b[32m'Recall Blue'\u001b[0m: \u001b[1;36m0.2837\u001b[0m,\n",
       "    \u001b[32m'F1 Blue'\u001b[0m: \u001b[1;36m0.3902\u001b[0m,\n",
       "    \u001b[32m'F1 Macro'\u001b[0m: \u001b[1;36m0.5612\u001b[0m,\n",
       "    \u001b[32m'ROC AUC'\u001b[0m: \u001b[1;35mnp.float64\u001b[0m\u001b[1m(\u001b[0m\u001b[1;36m0.6344\u001b[0m\u001b[1m)\u001b[0m,\n",
       "    \u001b[32m'Brier Score'\u001b[0m: \u001b[1;35mnp.float64\u001b[0m\u001b[1m(\u001b[0m\u001b[1;36m0.2291\u001b[0m\u001b[1m)\u001b[0m,\n",
       "    \u001b[32m'MCC'\u001b[0m: \u001b[1;35mnp.float64\u001b[0m\u001b[1m(\u001b[0m\u001b[1;36m0.2014\u001b[0m\u001b[1m)\u001b[0m,\n",
       "    \u001b[32m'Kappa'\u001b[0m: \u001b[1;35mnp.float64\u001b[0m\u001b[1m(\u001b[0m\u001b[1;36m0.1734\u001b[0m\u001b[1m)\u001b[0m\n",
       "\u001b[1m}\u001b[0m\n"
      ]
     },
     "metadata": {},
     "output_type": "display_data"
    }
   ],
   "source": [
    "metrics = evaluate_metrics(model, ufc_data_no_odds)\n",
    "print(metrics)"
   ]
  },
  {
   "cell_type": "markdown",
   "id": "194f8de1-0bb9-442d-bc6f-dd2f3440f728",
   "metadata": {},
   "source": [
    "### 📝 Log Training Results"
   ]
  },
  {
   "cell_type": "code",
   "execution_count": 82,
   "id": "b48e821b-3142-40ad-bda0-958d701f664d",
   "metadata": {},
   "outputs": [
    {
     "name": "stderr",
     "output_type": "stream",
     "text": [
      "INFO:src.helpers:✅ Training logged to ../data/results/training_log_v2.csv\n"
     ]
    }
   ],
   "source": [
    "log_training_result(f\"{model_name} (without odds)\", model.best_params_, metrics, duration)"
   ]
  },
  {
   "cell_type": "markdown",
   "id": "198dc309-a8d1-478b-be4e-94300251ea51",
   "metadata": {},
   "source": [
    "### 💾 Save Model "
   ]
  },
  {
   "cell_type": "code",
   "execution_count": 83,
   "id": "0956ff57-1fd8-4b01-8fc7-4d94113dcb01",
   "metadata": {},
   "outputs": [
    {
     "name": "stderr",
     "output_type": "stream",
     "text": [
      "INFO:src.io_model:✅ Model 'Neural Network' saved to: /home/mlioi/ufc-predictor/models/nn_best_no_odds.pkl\n"
     ]
    }
   ],
   "source": [
    "save_model(model, name=f\"{file_model_name[model_name]}_no_odds\")"
   ]
  },
  {
   "cell_type": "markdown",
   "id": "98e80ef1-1c51-48ab-8cfc-bbe978edf8a2",
   "metadata": {},
   "source": [
    "## XGBoost Model"
   ]
  },
  {
   "cell_type": "markdown",
   "id": "28358d6e-3fc7-4a13-b154-5925c88bf997",
   "metadata": {},
   "source": [
    "### 🚀 XGBoost Training "
   ]
  },
  {
   "cell_type": "code",
   "execution_count": 84,
   "id": "b97f8dd2-6c03-4078-8588-6046f2bf0d72",
   "metadata": {
    "scrolled": true
   },
   "outputs": [
    {
     "name": "stderr",
     "output_type": "stream",
     "text": [
      "INFO:src.model_factory:[XGBoost] UFC GridSearchCV Training (F1_macro)\n",
      "INFO:root:[XGBoost] 🤖 Training...\n"
     ]
    },
    {
     "name": "stdout",
     "output_type": "stream",
     "text": [
      "Fitting 5 folds for each of 48 candidates, totalling 240 fits\n",
      "[CV 1/5] END colsample_bytree=0.8, learning_rate=0.01, max_depth=3, n_estimators=50, subsample=0.8;, score=0.372 total time=   0.2s\n",
      "[CV 2/5] END colsample_bytree=0.8, learning_rate=0.01, max_depth=3, n_estimators=50, subsample=0.8;, score=0.370 total time=   0.2s\n",
      "[CV 3/5] END colsample_bytree=0.8, learning_rate=0.01, max_depth=3, n_estimators=50, subsample=0.8;, score=0.384 total time=   0.2s\n",
      "[CV 4/5] END colsample_bytree=0.8, learning_rate=0.01, max_depth=3, n_estimators=50, subsample=0.8;, score=0.378 total time=   0.2s\n",
      "[CV 5/5] END colsample_bytree=0.8, learning_rate=0.01, max_depth=3, n_estimators=50, subsample=0.8;, score=0.381 total time=   0.2s\n",
      "[CV 1/5] END colsample_bytree=0.8, learning_rate=0.01, max_depth=3, n_estimators=50, subsample=1.0;, score=0.374 total time=   0.1s\n",
      "[CV 2/5] END colsample_bytree=0.8, learning_rate=0.01, max_depth=3, n_estimators=50, subsample=1.0;, score=0.379 total time=   0.1s\n",
      "[CV 3/5] END colsample_bytree=0.8, learning_rate=0.01, max_depth=3, n_estimators=50, subsample=1.0;, score=0.405 total time=   0.1s\n",
      "[CV 4/5] END colsample_bytree=0.8, learning_rate=0.01, max_depth=3, n_estimators=50, subsample=1.0;, score=0.372 total time=   0.1s\n",
      "[CV 5/5] END colsample_bytree=0.8, learning_rate=0.01, max_depth=3, n_estimators=50, subsample=1.0;, score=0.378 total time=   0.1s\n",
      "[CV 1/5] END colsample_bytree=0.8, learning_rate=0.01, max_depth=3, n_estimators=150, subsample=0.8;, score=0.511 total time=   0.3s\n",
      "[CV 2/5] END colsample_bytree=0.8, learning_rate=0.01, max_depth=3, n_estimators=150, subsample=0.8;, score=0.501 total time=   0.3s\n",
      "[CV 3/5] END colsample_bytree=0.8, learning_rate=0.01, max_depth=3, n_estimators=150, subsample=0.8;, score=0.540 total time=   0.3s\n",
      "[CV 4/5] END colsample_bytree=0.8, learning_rate=0.01, max_depth=3, n_estimators=150, subsample=0.8;, score=0.498 total time=   0.2s\n",
      "[CV 5/5] END colsample_bytree=0.8, learning_rate=0.01, max_depth=3, n_estimators=150, subsample=0.8;, score=0.541 total time=   0.2s\n",
      "[CV 1/5] END colsample_bytree=0.8, learning_rate=0.01, max_depth=3, n_estimators=150, subsample=1.0;, score=0.507 total time=   0.3s\n",
      "[CV 2/5] END colsample_bytree=0.8, learning_rate=0.01, max_depth=3, n_estimators=150, subsample=1.0;, score=0.525 total time=   0.3s\n",
      "[CV 3/5] END colsample_bytree=0.8, learning_rate=0.01, max_depth=3, n_estimators=150, subsample=1.0;, score=0.533 total time=   0.3s\n",
      "[CV 4/5] END colsample_bytree=0.8, learning_rate=0.01, max_depth=3, n_estimators=150, subsample=1.0;, score=0.504 total time=   0.2s\n",
      "[CV 5/5] END colsample_bytree=0.8, learning_rate=0.01, max_depth=3, n_estimators=150, subsample=1.0;, score=0.545 total time=   0.2s\n",
      "[CV 1/5] END colsample_bytree=0.8, learning_rate=0.01, max_depth=5, n_estimators=50, subsample=0.8;, score=0.392 total time=   0.2s\n",
      "[CV 2/5] END colsample_bytree=0.8, learning_rate=0.01, max_depth=5, n_estimators=50, subsample=0.8;, score=0.382 total time=   0.1s\n",
      "[CV 3/5] END colsample_bytree=0.8, learning_rate=0.01, max_depth=5, n_estimators=50, subsample=0.8;, score=0.404 total time=   0.1s\n",
      "[CV 4/5] END colsample_bytree=0.8, learning_rate=0.01, max_depth=5, n_estimators=50, subsample=0.8;, score=0.391 total time=   0.1s\n",
      "[CV 5/5] END colsample_bytree=0.8, learning_rate=0.01, max_depth=5, n_estimators=50, subsample=0.8;, score=0.399 total time=   0.1s\n",
      "[CV 1/5] END colsample_bytree=0.8, learning_rate=0.01, max_depth=5, n_estimators=50, subsample=1.0;, score=0.385 total time=   0.2s\n",
      "[CV 2/5] END colsample_bytree=0.8, learning_rate=0.01, max_depth=5, n_estimators=50, subsample=1.0;, score=0.397 total time=   0.2s\n",
      "[CV 3/5] END colsample_bytree=0.8, learning_rate=0.01, max_depth=5, n_estimators=50, subsample=1.0;, score=0.446 total time=   0.2s\n",
      "[CV 4/5] END colsample_bytree=0.8, learning_rate=0.01, max_depth=5, n_estimators=50, subsample=1.0;, score=0.397 total time=   0.2s\n",
      "[CV 5/5] END colsample_bytree=0.8, learning_rate=0.01, max_depth=5, n_estimators=50, subsample=1.0;, score=0.412 total time=   0.3s\n",
      "[CV 1/5] END colsample_bytree=0.8, learning_rate=0.01, max_depth=5, n_estimators=150, subsample=0.8;, score=0.526 total time=   0.3s\n",
      "[CV 2/5] END colsample_bytree=0.8, learning_rate=0.01, max_depth=5, n_estimators=150, subsample=0.8;, score=0.525 total time=   0.2s\n",
      "[CV 3/5] END colsample_bytree=0.8, learning_rate=0.01, max_depth=5, n_estimators=150, subsample=0.8;, score=0.549 total time=   0.2s\n",
      "[CV 4/5] END colsample_bytree=0.8, learning_rate=0.01, max_depth=5, n_estimators=150, subsample=0.8;, score=0.524 total time=   0.4s\n",
      "[CV 5/5] END colsample_bytree=0.8, learning_rate=0.01, max_depth=5, n_estimators=150, subsample=0.8;, score=0.544 total time=   0.3s\n",
      "[CV 1/5] END colsample_bytree=0.8, learning_rate=0.01, max_depth=5, n_estimators=150, subsample=1.0;, score=0.519 total time=   0.5s\n",
      "[CV 2/5] END colsample_bytree=0.8, learning_rate=0.01, max_depth=5, n_estimators=150, subsample=1.0;, score=0.538 total time=   0.3s\n",
      "[CV 3/5] END colsample_bytree=0.8, learning_rate=0.01, max_depth=5, n_estimators=150, subsample=1.0;, score=0.532 total time=   0.3s\n",
      "[CV 4/5] END colsample_bytree=0.8, learning_rate=0.01, max_depth=5, n_estimators=150, subsample=1.0;, score=0.548 total time=   0.4s\n",
      "[CV 5/5] END colsample_bytree=0.8, learning_rate=0.01, max_depth=5, n_estimators=150, subsample=1.0;, score=0.540 total time=   0.4s\n",
      "[CV 1/5] END colsample_bytree=0.8, learning_rate=0.01, max_depth=7, n_estimators=50, subsample=0.8;, score=0.402 total time=   0.2s\n",
      "[CV 2/5] END colsample_bytree=0.8, learning_rate=0.01, max_depth=7, n_estimators=50, subsample=0.8;, score=0.396 total time=   0.2s\n",
      "[CV 3/5] END colsample_bytree=0.8, learning_rate=0.01, max_depth=7, n_estimators=50, subsample=0.8;, score=0.429 total time=   0.2s\n",
      "[CV 4/5] END colsample_bytree=0.8, learning_rate=0.01, max_depth=7, n_estimators=50, subsample=0.8;, score=0.405 total time=   0.2s\n",
      "[CV 5/5] END colsample_bytree=0.8, learning_rate=0.01, max_depth=7, n_estimators=50, subsample=0.8;, score=0.412 total time=   0.2s\n",
      "[CV 1/5] END colsample_bytree=0.8, learning_rate=0.01, max_depth=7, n_estimators=50, subsample=1.0;, score=0.400 total time=   0.2s\n",
      "[CV 2/5] END colsample_bytree=0.8, learning_rate=0.01, max_depth=7, n_estimators=50, subsample=1.0;, score=0.417 total time=   0.1s\n",
      "[CV 3/5] END colsample_bytree=0.8, learning_rate=0.01, max_depth=7, n_estimators=50, subsample=1.0;, score=0.432 total time=   0.1s\n",
      "[CV 4/5] END colsample_bytree=0.8, learning_rate=0.01, max_depth=7, n_estimators=50, subsample=1.0;, score=0.422 total time=   0.2s\n",
      "[CV 5/5] END colsample_bytree=0.8, learning_rate=0.01, max_depth=7, n_estimators=50, subsample=1.0;, score=0.432 total time=   0.3s\n",
      "[CV 1/5] END colsample_bytree=0.8, learning_rate=0.01, max_depth=7, n_estimators=150, subsample=0.8;, score=0.538 total time=   0.5s\n",
      "[CV 2/5] END colsample_bytree=0.8, learning_rate=0.01, max_depth=7, n_estimators=150, subsample=0.8;, score=0.542 total time=   0.4s\n",
      "[CV 3/5] END colsample_bytree=0.8, learning_rate=0.01, max_depth=7, n_estimators=150, subsample=0.8;, score=0.551 total time=   0.6s\n",
      "[CV 4/5] END colsample_bytree=0.8, learning_rate=0.01, max_depth=7, n_estimators=150, subsample=0.8;, score=0.539 total time=   0.4s\n",
      "[CV 5/5] END colsample_bytree=0.8, learning_rate=0.01, max_depth=7, n_estimators=150, subsample=0.8;, score=0.539 total time=   0.5s\n",
      "[CV 1/5] END colsample_bytree=0.8, learning_rate=0.01, max_depth=7, n_estimators=150, subsample=1.0;, score=0.538 total time=   0.5s\n",
      "[CV 2/5] END colsample_bytree=0.8, learning_rate=0.01, max_depth=7, n_estimators=150, subsample=1.0;, score=0.537 total time=   0.4s\n",
      "[CV 3/5] END colsample_bytree=0.8, learning_rate=0.01, max_depth=7, n_estimators=150, subsample=1.0;, score=0.553 total time=   0.4s\n",
      "[CV 4/5] END colsample_bytree=0.8, learning_rate=0.01, max_depth=7, n_estimators=150, subsample=1.0;, score=0.550 total time=   0.3s\n",
      "[CV 5/5] END colsample_bytree=0.8, learning_rate=0.01, max_depth=7, n_estimators=150, subsample=1.0;, score=0.535 total time=   0.4s\n",
      "[CV 1/5] END colsample_bytree=0.8, learning_rate=0.1, max_depth=3, n_estimators=50, subsample=0.8;, score=0.559 total time=   0.1s\n",
      "[CV 2/5] END colsample_bytree=0.8, learning_rate=0.1, max_depth=3, n_estimators=50, subsample=0.8;, score=0.541 total time=   0.2s\n",
      "[CV 3/5] END colsample_bytree=0.8, learning_rate=0.1, max_depth=3, n_estimators=50, subsample=0.8;, score=0.573 total time=   0.1s\n",
      "[CV 4/5] END colsample_bytree=0.8, learning_rate=0.1, max_depth=3, n_estimators=50, subsample=0.8;, score=0.560 total time=   0.1s\n",
      "[CV 5/5] END colsample_bytree=0.8, learning_rate=0.1, max_depth=3, n_estimators=50, subsample=0.8;, score=0.575 total time=   0.1s\n",
      "[CV 1/5] END colsample_bytree=0.8, learning_rate=0.1, max_depth=3, n_estimators=50, subsample=1.0;, score=0.538 total time=   0.1s\n",
      "[CV 2/5] END colsample_bytree=0.8, learning_rate=0.1, max_depth=3, n_estimators=50, subsample=1.0;, score=0.536 total time=   0.1s\n",
      "[CV 3/5] END colsample_bytree=0.8, learning_rate=0.1, max_depth=3, n_estimators=50, subsample=1.0;, score=0.568 total time=   0.1s\n",
      "[CV 4/5] END colsample_bytree=0.8, learning_rate=0.1, max_depth=3, n_estimators=50, subsample=1.0;, score=0.548 total time=   0.1s\n",
      "[CV 5/5] END colsample_bytree=0.8, learning_rate=0.1, max_depth=3, n_estimators=50, subsample=1.0;, score=0.581 total time=   0.1s\n",
      "[CV 1/5] END colsample_bytree=0.8, learning_rate=0.1, max_depth=3, n_estimators=150, subsample=0.8;, score=0.552 total time=   0.2s\n",
      "[CV 2/5] END colsample_bytree=0.8, learning_rate=0.1, max_depth=3, n_estimators=150, subsample=0.8;, score=0.558 total time=   0.2s\n",
      "[CV 3/5] END colsample_bytree=0.8, learning_rate=0.1, max_depth=3, n_estimators=150, subsample=0.8;, score=0.565 total time=   0.1s\n",
      "[CV 4/5] END colsample_bytree=0.8, learning_rate=0.1, max_depth=3, n_estimators=150, subsample=0.8;, score=0.568 total time=   0.1s\n",
      "[CV 5/5] END colsample_bytree=0.8, learning_rate=0.1, max_depth=3, n_estimators=150, subsample=0.8;, score=0.576 total time=   0.1s\n",
      "[CV 1/5] END colsample_bytree=0.8, learning_rate=0.1, max_depth=3, n_estimators=150, subsample=1.0;, score=0.551 total time=   0.1s\n",
      "[CV 2/5] END colsample_bytree=0.8, learning_rate=0.1, max_depth=3, n_estimators=150, subsample=1.0;, score=0.545 total time=   0.1s\n",
      "[CV 3/5] END colsample_bytree=0.8, learning_rate=0.1, max_depth=3, n_estimators=150, subsample=1.0;, score=0.565 total time=   0.1s\n",
      "[CV 4/5] END colsample_bytree=0.8, learning_rate=0.1, max_depth=3, n_estimators=150, subsample=1.0;, score=0.563 total time=   0.2s\n",
      "[CV 5/5] END colsample_bytree=0.8, learning_rate=0.1, max_depth=3, n_estimators=150, subsample=1.0;, score=0.565 total time=   0.1s\n",
      "[CV 1/5] END colsample_bytree=0.8, learning_rate=0.1, max_depth=5, n_estimators=50, subsample=0.8;, score=0.568 total time=   0.1s\n",
      "[CV 2/5] END colsample_bytree=0.8, learning_rate=0.1, max_depth=5, n_estimators=50, subsample=0.8;, score=0.561 total time=   0.1s\n",
      "[CV 3/5] END colsample_bytree=0.8, learning_rate=0.1, max_depth=5, n_estimators=50, subsample=0.8;, score=0.549 total time=   0.1s\n",
      "[CV 4/5] END colsample_bytree=0.8, learning_rate=0.1, max_depth=5, n_estimators=50, subsample=0.8;, score=0.561 total time=   0.1s\n",
      "[CV 5/5] END colsample_bytree=0.8, learning_rate=0.1, max_depth=5, n_estimators=50, subsample=0.8;, score=0.570 total time=   0.1s\n",
      "[CV 1/5] END colsample_bytree=0.8, learning_rate=0.1, max_depth=5, n_estimators=50, subsample=1.0;, score=0.540 total time=   0.1s\n",
      "[CV 2/5] END colsample_bytree=0.8, learning_rate=0.1, max_depth=5, n_estimators=50, subsample=1.0;, score=0.542 total time=   0.1s\n",
      "[CV 3/5] END colsample_bytree=0.8, learning_rate=0.1, max_depth=5, n_estimators=50, subsample=1.0;, score=0.565 total time=   0.1s\n",
      "[CV 4/5] END colsample_bytree=0.8, learning_rate=0.1, max_depth=5, n_estimators=50, subsample=1.0;, score=0.564 total time=   0.1s\n",
      "[CV 5/5] END colsample_bytree=0.8, learning_rate=0.1, max_depth=5, n_estimators=50, subsample=1.0;, score=0.567 total time=   0.1s\n",
      "[CV 1/5] END colsample_bytree=0.8, learning_rate=0.1, max_depth=5, n_estimators=150, subsample=0.8;, score=0.569 total time=   0.2s\n",
      "[CV 2/5] END colsample_bytree=0.8, learning_rate=0.1, max_depth=5, n_estimators=150, subsample=0.8;, score=0.572 total time=   0.2s\n",
      "[CV 3/5] END colsample_bytree=0.8, learning_rate=0.1, max_depth=5, n_estimators=150, subsample=0.8;, score=0.562 total time=   0.2s\n",
      "[CV 4/5] END colsample_bytree=0.8, learning_rate=0.1, max_depth=5, n_estimators=150, subsample=0.8;, score=0.571 total time=   0.2s\n",
      "[CV 5/5] END colsample_bytree=0.8, learning_rate=0.1, max_depth=5, n_estimators=150, subsample=0.8;, score=0.563 total time=   0.2s\n",
      "[CV 1/5] END colsample_bytree=0.8, learning_rate=0.1, max_depth=5, n_estimators=150, subsample=1.0;, score=0.554 total time=   0.2s\n",
      "[CV 2/5] END colsample_bytree=0.8, learning_rate=0.1, max_depth=5, n_estimators=150, subsample=1.0;, score=0.553 total time=   0.2s\n",
      "[CV 3/5] END colsample_bytree=0.8, learning_rate=0.1, max_depth=5, n_estimators=150, subsample=1.0;, score=0.561 total time=   0.2s\n",
      "[CV 4/5] END colsample_bytree=0.8, learning_rate=0.1, max_depth=5, n_estimators=150, subsample=1.0;, score=0.573 total time=   0.2s\n",
      "[CV 5/5] END colsample_bytree=0.8, learning_rate=0.1, max_depth=5, n_estimators=150, subsample=1.0;, score=0.533 total time=   0.2s\n",
      "[CV 1/5] END colsample_bytree=0.8, learning_rate=0.1, max_depth=7, n_estimators=50, subsample=0.8;, score=0.566 total time=   0.1s\n",
      "[CV 2/5] END colsample_bytree=0.8, learning_rate=0.1, max_depth=7, n_estimators=50, subsample=0.8;, score=0.556 total time=   0.1s\n",
      "[CV 3/5] END colsample_bytree=0.8, learning_rate=0.1, max_depth=7, n_estimators=50, subsample=0.8;, score=0.563 total time=   0.1s\n",
      "[CV 4/5] END colsample_bytree=0.8, learning_rate=0.1, max_depth=7, n_estimators=50, subsample=0.8;, score=0.583 total time=   0.1s\n",
      "[CV 5/5] END colsample_bytree=0.8, learning_rate=0.1, max_depth=7, n_estimators=50, subsample=0.8;, score=0.552 total time=   0.1s\n",
      "[CV 1/5] END colsample_bytree=0.8, learning_rate=0.1, max_depth=7, n_estimators=50, subsample=1.0;, score=0.550 total time=   0.2s\n",
      "[CV 2/5] END colsample_bytree=0.8, learning_rate=0.1, max_depth=7, n_estimators=50, subsample=1.0;, score=0.547 total time=   0.1s\n",
      "[CV 3/5] END colsample_bytree=0.8, learning_rate=0.1, max_depth=7, n_estimators=50, subsample=1.0;, score=0.565 total time=   0.1s\n",
      "[CV 4/5] END colsample_bytree=0.8, learning_rate=0.1, max_depth=7, n_estimators=50, subsample=1.0;, score=0.565 total time=   0.1s\n",
      "[CV 5/5] END colsample_bytree=0.8, learning_rate=0.1, max_depth=7, n_estimators=50, subsample=1.0;, score=0.547 total time=   0.1s\n",
      "[CV 1/5] END colsample_bytree=0.8, learning_rate=0.1, max_depth=7, n_estimators=150, subsample=0.8;, score=0.569 total time=   0.3s\n",
      "[CV 2/5] END colsample_bytree=0.8, learning_rate=0.1, max_depth=7, n_estimators=150, subsample=0.8;, score=0.553 total time=   0.3s\n",
      "[CV 3/5] END colsample_bytree=0.8, learning_rate=0.1, max_depth=7, n_estimators=150, subsample=0.8;, score=0.556 total time=   0.3s\n",
      "[CV 4/5] END colsample_bytree=0.8, learning_rate=0.1, max_depth=7, n_estimators=150, subsample=0.8;, score=0.562 total time=   0.4s\n",
      "[CV 5/5] END colsample_bytree=0.8, learning_rate=0.1, max_depth=7, n_estimators=150, subsample=0.8;, score=0.539 total time=   0.4s\n",
      "[CV 1/5] END colsample_bytree=0.8, learning_rate=0.1, max_depth=7, n_estimators=150, subsample=1.0;, score=0.543 total time=   0.4s\n",
      "[CV 2/5] END colsample_bytree=0.8, learning_rate=0.1, max_depth=7, n_estimators=150, subsample=1.0;, score=0.544 total time=   0.3s\n",
      "[CV 3/5] END colsample_bytree=0.8, learning_rate=0.1, max_depth=7, n_estimators=150, subsample=1.0;, score=0.569 total time=   0.3s\n",
      "[CV 4/5] END colsample_bytree=0.8, learning_rate=0.1, max_depth=7, n_estimators=150, subsample=1.0;, score=0.564 total time=   0.5s\n",
      "[CV 5/5] END colsample_bytree=0.8, learning_rate=0.1, max_depth=7, n_estimators=150, subsample=1.0;, score=0.549 total time=   0.5s\n",
      "[CV 1/5] END colsample_bytree=1.0, learning_rate=0.01, max_depth=3, n_estimators=50, subsample=0.8;, score=0.377 total time=   0.1s\n",
      "[CV 2/5] END colsample_bytree=1.0, learning_rate=0.01, max_depth=3, n_estimators=50, subsample=0.8;, score=0.376 total time=   0.1s\n",
      "[CV 3/5] END colsample_bytree=1.0, learning_rate=0.01, max_depth=3, n_estimators=50, subsample=0.8;, score=0.397 total time=   0.1s\n",
      "[CV 4/5] END colsample_bytree=1.0, learning_rate=0.01, max_depth=3, n_estimators=50, subsample=0.8;, score=0.387 total time=   0.1s\n",
      "[CV 5/5] END colsample_bytree=1.0, learning_rate=0.01, max_depth=3, n_estimators=50, subsample=0.8;, score=0.378 total time=   0.1s\n",
      "[CV 1/5] END colsample_bytree=1.0, learning_rate=0.01, max_depth=3, n_estimators=50, subsample=1.0;, score=0.389 total time=   0.1s\n",
      "[CV 2/5] END colsample_bytree=1.0, learning_rate=0.01, max_depth=3, n_estimators=50, subsample=1.0;, score=0.382 total time=   0.1s\n",
      "[CV 3/5] END colsample_bytree=1.0, learning_rate=0.01, max_depth=3, n_estimators=50, subsample=1.0;, score=0.415 total time=   0.1s\n",
      "[CV 4/5] END colsample_bytree=1.0, learning_rate=0.01, max_depth=3, n_estimators=50, subsample=1.0;, score=0.382 total time=   0.1s\n",
      "[CV 5/5] END colsample_bytree=1.0, learning_rate=0.01, max_depth=3, n_estimators=50, subsample=1.0;, score=0.389 total time=   0.1s\n",
      "[CV 1/5] END colsample_bytree=1.0, learning_rate=0.01, max_depth=3, n_estimators=150, subsample=0.8;, score=0.505 total time=   0.2s\n",
      "[CV 2/5] END colsample_bytree=1.0, learning_rate=0.01, max_depth=3, n_estimators=150, subsample=0.8;, score=0.520 total time=   0.2s\n",
      "[CV 3/5] END colsample_bytree=1.0, learning_rate=0.01, max_depth=3, n_estimators=150, subsample=0.8;, score=0.532 total time=   0.2s\n",
      "[CV 4/5] END colsample_bytree=1.0, learning_rate=0.01, max_depth=3, n_estimators=150, subsample=0.8;, score=0.516 total time=   0.3s\n",
      "[CV 5/5] END colsample_bytree=1.0, learning_rate=0.01, max_depth=3, n_estimators=150, subsample=0.8;, score=0.550 total time=   0.4s\n",
      "[CV 1/5] END colsample_bytree=1.0, learning_rate=0.01, max_depth=3, n_estimators=150, subsample=1.0;, score=0.520 total time=   0.1s\n",
      "[CV 2/5] END colsample_bytree=1.0, learning_rate=0.01, max_depth=3, n_estimators=150, subsample=1.0;, score=0.518 total time=   0.2s\n",
      "[CV 3/5] END colsample_bytree=1.0, learning_rate=0.01, max_depth=3, n_estimators=150, subsample=1.0;, score=0.535 total time=   0.1s\n",
      "[CV 4/5] END colsample_bytree=1.0, learning_rate=0.01, max_depth=3, n_estimators=150, subsample=1.0;, score=0.501 total time=   0.2s\n",
      "[CV 5/5] END colsample_bytree=1.0, learning_rate=0.01, max_depth=3, n_estimators=150, subsample=1.0;, score=0.547 total time=   0.2s\n",
      "[CV 1/5] END colsample_bytree=1.0, learning_rate=0.01, max_depth=5, n_estimators=50, subsample=0.8;, score=0.413 total time=   0.1s\n",
      "[CV 2/5] END colsample_bytree=1.0, learning_rate=0.01, max_depth=5, n_estimators=50, subsample=0.8;, score=0.397 total time=   0.1s\n",
      "[CV 3/5] END colsample_bytree=1.0, learning_rate=0.01, max_depth=5, n_estimators=50, subsample=0.8;, score=0.429 total time=   0.1s\n",
      "[CV 4/5] END colsample_bytree=1.0, learning_rate=0.01, max_depth=5, n_estimators=50, subsample=0.8;, score=0.408 total time=   0.1s\n",
      "[CV 5/5] END colsample_bytree=1.0, learning_rate=0.01, max_depth=5, n_estimators=50, subsample=0.8;, score=0.426 total time=   0.1s\n",
      "[CV 1/5] END colsample_bytree=1.0, learning_rate=0.01, max_depth=5, n_estimators=50, subsample=1.0;, score=0.428 total time=   0.1s\n",
      "[CV 2/5] END colsample_bytree=1.0, learning_rate=0.01, max_depth=5, n_estimators=50, subsample=1.0;, score=0.418 total time=   0.1s\n",
      "[CV 3/5] END colsample_bytree=1.0, learning_rate=0.01, max_depth=5, n_estimators=50, subsample=1.0;, score=0.436 total time=   0.1s\n",
      "[CV 4/5] END colsample_bytree=1.0, learning_rate=0.01, max_depth=5, n_estimators=50, subsample=1.0;, score=0.423 total time=   0.1s\n",
      "[CV 5/5] END colsample_bytree=1.0, learning_rate=0.01, max_depth=5, n_estimators=50, subsample=1.0;, score=0.426 total time=   0.1s\n",
      "[CV 1/5] END colsample_bytree=1.0, learning_rate=0.01, max_depth=5, n_estimators=150, subsample=0.8;, score=0.536 total time=   0.2s\n",
      "[CV 2/5] END colsample_bytree=1.0, learning_rate=0.01, max_depth=5, n_estimators=150, subsample=0.8;, score=0.540 total time=   0.3s\n",
      "[CV 3/5] END colsample_bytree=1.0, learning_rate=0.01, max_depth=5, n_estimators=150, subsample=0.8;, score=0.555 total time=   0.2s\n",
      "[CV 4/5] END colsample_bytree=1.0, learning_rate=0.01, max_depth=5, n_estimators=150, subsample=0.8;, score=0.530 total time=   0.2s\n",
      "[CV 5/5] END colsample_bytree=1.0, learning_rate=0.01, max_depth=5, n_estimators=150, subsample=0.8;, score=0.541 total time=   0.2s\n",
      "[CV 1/5] END colsample_bytree=1.0, learning_rate=0.01, max_depth=5, n_estimators=150, subsample=1.0;, score=0.537 total time=   0.2s\n",
      "[CV 2/5] END colsample_bytree=1.0, learning_rate=0.01, max_depth=5, n_estimators=150, subsample=1.0;, score=0.534 total time=   0.2s\n",
      "[CV 3/5] END colsample_bytree=1.0, learning_rate=0.01, max_depth=5, n_estimators=150, subsample=1.0;, score=0.557 total time=   0.2s\n",
      "[CV 4/5] END colsample_bytree=1.0, learning_rate=0.01, max_depth=5, n_estimators=150, subsample=1.0;, score=0.549 total time=   0.2s\n",
      "[CV 5/5] END colsample_bytree=1.0, learning_rate=0.01, max_depth=5, n_estimators=150, subsample=1.0;, score=0.526 total time=   0.3s\n",
      "[CV 1/5] END colsample_bytree=1.0, learning_rate=0.01, max_depth=7, n_estimators=50, subsample=0.8;, score=0.444 total time=   0.1s\n",
      "[CV 2/5] END colsample_bytree=1.0, learning_rate=0.01, max_depth=7, n_estimators=50, subsample=0.8;, score=0.414 total time=   0.1s\n",
      "[CV 3/5] END colsample_bytree=1.0, learning_rate=0.01, max_depth=7, n_estimators=50, subsample=0.8;, score=0.449 total time=   0.2s\n",
      "[CV 4/5] END colsample_bytree=1.0, learning_rate=0.01, max_depth=7, n_estimators=50, subsample=0.8;, score=0.430 total time=   0.2s\n",
      "[CV 5/5] END colsample_bytree=1.0, learning_rate=0.01, max_depth=7, n_estimators=50, subsample=0.8;, score=0.438 total time=   0.1s\n",
      "[CV 1/5] END colsample_bytree=1.0, learning_rate=0.01, max_depth=7, n_estimators=50, subsample=1.0;, score=0.469 total time=   0.1s\n",
      "[CV 2/5] END colsample_bytree=1.0, learning_rate=0.01, max_depth=7, n_estimators=50, subsample=1.0;, score=0.447 total time=   0.1s\n",
      "[CV 3/5] END colsample_bytree=1.0, learning_rate=0.01, max_depth=7, n_estimators=50, subsample=1.0;, score=0.467 total time=   0.2s\n",
      "[CV 4/5] END colsample_bytree=1.0, learning_rate=0.01, max_depth=7, n_estimators=50, subsample=1.0;, score=0.438 total time=   0.1s\n",
      "[CV 5/5] END colsample_bytree=1.0, learning_rate=0.01, max_depth=7, n_estimators=50, subsample=1.0;, score=0.451 total time=   0.1s\n",
      "[CV 1/5] END colsample_bytree=1.0, learning_rate=0.01, max_depth=7, n_estimators=150, subsample=0.8;, score=0.543 total time=   0.4s\n",
      "[CV 2/5] END colsample_bytree=1.0, learning_rate=0.01, max_depth=7, n_estimators=150, subsample=0.8;, score=0.544 total time=   0.3s\n",
      "[CV 3/5] END colsample_bytree=1.0, learning_rate=0.01, max_depth=7, n_estimators=150, subsample=0.8;, score=0.564 total time=   0.4s\n",
      "[CV 4/5] END colsample_bytree=1.0, learning_rate=0.01, max_depth=7, n_estimators=150, subsample=0.8;, score=0.545 total time=   0.4s\n",
      "[CV 5/5] END colsample_bytree=1.0, learning_rate=0.01, max_depth=7, n_estimators=150, subsample=0.8;, score=0.556 total time=   0.3s\n",
      "[CV 1/5] END colsample_bytree=1.0, learning_rate=0.01, max_depth=7, n_estimators=150, subsample=1.0;, score=0.546 total time=   0.4s\n",
      "[CV 2/5] END colsample_bytree=1.0, learning_rate=0.01, max_depth=7, n_estimators=150, subsample=1.0;, score=0.526 total time=   0.3s\n",
      "[CV 3/5] END colsample_bytree=1.0, learning_rate=0.01, max_depth=7, n_estimators=150, subsample=1.0;, score=0.568 total time=   0.5s\n",
      "[CV 4/5] END colsample_bytree=1.0, learning_rate=0.01, max_depth=7, n_estimators=150, subsample=1.0;, score=0.543 total time=   0.4s\n",
      "[CV 5/5] END colsample_bytree=1.0, learning_rate=0.01, max_depth=7, n_estimators=150, subsample=1.0;, score=0.532 total time=   0.4s\n",
      "[CV 1/5] END colsample_bytree=1.0, learning_rate=0.1, max_depth=3, n_estimators=50, subsample=0.8;, score=0.547 total time=   0.1s\n",
      "[CV 2/5] END colsample_bytree=1.0, learning_rate=0.1, max_depth=3, n_estimators=50, subsample=0.8;, score=0.549 total time=   0.1s\n",
      "[CV 3/5] END colsample_bytree=1.0, learning_rate=0.1, max_depth=3, n_estimators=50, subsample=0.8;, score=0.569 total time=   0.1s\n",
      "[CV 4/5] END colsample_bytree=1.0, learning_rate=0.1, max_depth=3, n_estimators=50, subsample=0.8;, score=0.554 total time=   0.1s\n",
      "[CV 5/5] END colsample_bytree=1.0, learning_rate=0.1, max_depth=3, n_estimators=50, subsample=0.8;, score=0.573 total time=   0.1s\n",
      "[CV 1/5] END colsample_bytree=1.0, learning_rate=0.1, max_depth=3, n_estimators=50, subsample=1.0;, score=0.535 total time=   0.1s\n",
      "[CV 2/5] END colsample_bytree=1.0, learning_rate=0.1, max_depth=3, n_estimators=50, subsample=1.0;, score=0.547 total time=   0.1s\n",
      "[CV 3/5] END colsample_bytree=1.0, learning_rate=0.1, max_depth=3, n_estimators=50, subsample=1.0;, score=0.571 total time=   0.1s\n",
      "[CV 4/5] END colsample_bytree=1.0, learning_rate=0.1, max_depth=3, n_estimators=50, subsample=1.0;, score=0.555 total time=   0.1s\n",
      "[CV 5/5] END colsample_bytree=1.0, learning_rate=0.1, max_depth=3, n_estimators=50, subsample=1.0;, score=0.574 total time=   0.1s\n",
      "[CV 1/5] END colsample_bytree=1.0, learning_rate=0.1, max_depth=3, n_estimators=150, subsample=0.8;, score=0.561 total time=   0.2s\n",
      "[CV 2/5] END colsample_bytree=1.0, learning_rate=0.1, max_depth=3, n_estimators=150, subsample=0.8;, score=0.558 total time=   0.1s\n",
      "[CV 3/5] END colsample_bytree=1.0, learning_rate=0.1, max_depth=3, n_estimators=150, subsample=0.8;, score=0.560 total time=   0.2s\n",
      "[CV 4/5] END colsample_bytree=1.0, learning_rate=0.1, max_depth=3, n_estimators=150, subsample=0.8;, score=0.586 total time=   0.2s\n",
      "[CV 5/5] END colsample_bytree=1.0, learning_rate=0.1, max_depth=3, n_estimators=150, subsample=0.8;, score=0.565 total time=   0.2s\n",
      "[CV 1/5] END colsample_bytree=1.0, learning_rate=0.1, max_depth=3, n_estimators=150, subsample=1.0;, score=0.541 total time=   0.3s\n",
      "[CV 2/5] END colsample_bytree=1.0, learning_rate=0.1, max_depth=3, n_estimators=150, subsample=1.0;, score=0.545 total time=   0.2s\n",
      "[CV 3/5] END colsample_bytree=1.0, learning_rate=0.1, max_depth=3, n_estimators=150, subsample=1.0;, score=0.556 total time=   0.2s\n",
      "[CV 4/5] END colsample_bytree=1.0, learning_rate=0.1, max_depth=3, n_estimators=150, subsample=1.0;, score=0.563 total time=   0.2s\n",
      "[CV 5/5] END colsample_bytree=1.0, learning_rate=0.1, max_depth=3, n_estimators=150, subsample=1.0;, score=0.578 total time=   0.2s\n",
      "[CV 1/5] END colsample_bytree=1.0, learning_rate=0.1, max_depth=5, n_estimators=50, subsample=0.8;, score=0.558 total time=   0.1s\n",
      "[CV 2/5] END colsample_bytree=1.0, learning_rate=0.1, max_depth=5, n_estimators=50, subsample=0.8;, score=0.550 total time=   0.1s\n",
      "[CV 3/5] END colsample_bytree=1.0, learning_rate=0.1, max_depth=5, n_estimators=50, subsample=0.8;, score=0.564 total time=   0.1s\n",
      "[CV 4/5] END colsample_bytree=1.0, learning_rate=0.1, max_depth=5, n_estimators=50, subsample=0.8;, score=0.576 total time=   0.2s\n",
      "[CV 5/5] END colsample_bytree=1.0, learning_rate=0.1, max_depth=5, n_estimators=50, subsample=0.8;, score=0.564 total time=   0.3s\n",
      "[CV 1/5] END colsample_bytree=1.0, learning_rate=0.1, max_depth=5, n_estimators=50, subsample=1.0;, score=0.535 total time=   0.1s\n",
      "[CV 2/5] END colsample_bytree=1.0, learning_rate=0.1, max_depth=5, n_estimators=50, subsample=1.0;, score=0.553 total time=   0.1s\n",
      "[CV 3/5] END colsample_bytree=1.0, learning_rate=0.1, max_depth=5, n_estimators=50, subsample=1.0;, score=0.563 total time=   0.1s\n",
      "[CV 4/5] END colsample_bytree=1.0, learning_rate=0.1, max_depth=5, n_estimators=50, subsample=1.0;, score=0.573 total time=   0.1s\n",
      "[CV 5/5] END colsample_bytree=1.0, learning_rate=0.1, max_depth=5, n_estimators=50, subsample=1.0;, score=0.562 total time=   0.2s\n",
      "[CV 1/5] END colsample_bytree=1.0, learning_rate=0.1, max_depth=5, n_estimators=150, subsample=0.8;, score=0.549 total time=   0.5s\n",
      "[CV 2/5] END colsample_bytree=1.0, learning_rate=0.1, max_depth=5, n_estimators=150, subsample=0.8;, score=0.551 total time=   0.5s\n",
      "[CV 3/5] END colsample_bytree=1.0, learning_rate=0.1, max_depth=5, n_estimators=150, subsample=0.8;, score=0.553 total time=   0.4s\n",
      "[CV 4/5] END colsample_bytree=1.0, learning_rate=0.1, max_depth=5, n_estimators=150, subsample=0.8;, score=0.573 total time=   0.2s\n",
      "[CV 5/5] END colsample_bytree=1.0, learning_rate=0.1, max_depth=5, n_estimators=150, subsample=0.8;, score=0.533 total time=   0.3s\n",
      "[CV 1/5] END colsample_bytree=1.0, learning_rate=0.1, max_depth=5, n_estimators=150, subsample=1.0;, score=0.540 total time=   0.3s\n",
      "[CV 2/5] END colsample_bytree=1.0, learning_rate=0.1, max_depth=5, n_estimators=150, subsample=1.0;, score=0.560 total time=   0.3s\n",
      "[CV 3/5] END colsample_bytree=1.0, learning_rate=0.1, max_depth=5, n_estimators=150, subsample=1.0;, score=0.553 total time=   0.3s\n",
      "[CV 4/5] END colsample_bytree=1.0, learning_rate=0.1, max_depth=5, n_estimators=150, subsample=1.0;, score=0.560 total time=   0.2s\n",
      "[CV 5/5] END colsample_bytree=1.0, learning_rate=0.1, max_depth=5, n_estimators=150, subsample=1.0;, score=0.549 total time=   0.5s\n",
      "[CV 1/5] END colsample_bytree=1.0, learning_rate=0.1, max_depth=7, n_estimators=50, subsample=0.8;, score=0.563 total time=   0.1s\n",
      "[CV 2/5] END colsample_bytree=1.0, learning_rate=0.1, max_depth=7, n_estimators=50, subsample=0.8;, score=0.564 total time=   0.1s\n",
      "[CV 3/5] END colsample_bytree=1.0, learning_rate=0.1, max_depth=7, n_estimators=50, subsample=0.8;, score=0.557 total time=   0.1s\n",
      "[CV 4/5] END colsample_bytree=1.0, learning_rate=0.1, max_depth=7, n_estimators=50, subsample=0.8;, score=0.561 total time=   0.2s\n",
      "[CV 5/5] END colsample_bytree=1.0, learning_rate=0.1, max_depth=7, n_estimators=50, subsample=0.8;, score=0.550 total time=   0.2s\n",
      "[CV 1/5] END colsample_bytree=1.0, learning_rate=0.1, max_depth=7, n_estimators=50, subsample=1.0;, score=0.558 total time=   0.1s\n",
      "[CV 2/5] END colsample_bytree=1.0, learning_rate=0.1, max_depth=7, n_estimators=50, subsample=1.0;, score=0.545 total time=   0.2s\n",
      "[CV 3/5] END colsample_bytree=1.0, learning_rate=0.1, max_depth=7, n_estimators=50, subsample=1.0;, score=0.557 total time=   0.1s\n",
      "[CV 4/5] END colsample_bytree=1.0, learning_rate=0.1, max_depth=7, n_estimators=50, subsample=1.0;, score=0.563 total time=   0.1s\n",
      "[CV 5/5] END colsample_bytree=1.0, learning_rate=0.1, max_depth=7, n_estimators=50, subsample=1.0;, score=0.538 total time=   0.2s\n",
      "[CV 1/5] END colsample_bytree=1.0, learning_rate=0.1, max_depth=7, n_estimators=150, subsample=0.8;, score=0.564 total time=   0.3s\n",
      "[CV 2/5] END colsample_bytree=1.0, learning_rate=0.1, max_depth=7, n_estimators=150, subsample=0.8;, score=0.568 total time=   0.4s\n",
      "[CV 3/5] END colsample_bytree=1.0, learning_rate=0.1, max_depth=7, n_estimators=150, subsample=0.8;, score=0.552 total time=   0.3s\n",
      "[CV 4/5] END colsample_bytree=1.0, learning_rate=0.1, max_depth=7, n_estimators=150, subsample=0.8;, score=0.560 total time=   0.4s\n",
      "[CV 5/5] END colsample_bytree=1.0, learning_rate=0.1, max_depth=7, n_estimators=150, subsample=0.8;, score=0.521 total time=   0.3s\n",
      "[CV 1/5] END colsample_bytree=1.0, learning_rate=0.1, max_depth=7, n_estimators=150, subsample=1.0;, score=0.557 total time=   0.3s\n",
      "[CV 2/5] END colsample_bytree=1.0, learning_rate=0.1, max_depth=7, n_estimators=150, subsample=1.0;, score=0.541 total time=   0.5s\n",
      "[CV 3/5] END colsample_bytree=1.0, learning_rate=0.1, max_depth=7, n_estimators=150, subsample=1.0;, score=0.550 total time=   0.4s\n",
      "[CV 4/5] END colsample_bytree=1.0, learning_rate=0.1, max_depth=7, n_estimators=150, subsample=1.0;, score=0.570 total time=   0.4s\n",
      "[CV 5/5] END colsample_bytree=1.0, learning_rate=0.1, max_depth=7, n_estimators=150, subsample=1.0;, score=0.540 total time=   0.5s\n"
     ]
    },
    {
     "name": "stderr",
     "output_type": "stream",
     "text": [
      "INFO:root:[XGBoost] 🔍 Best F1_macro: 0.5673\n",
      "[XGBoost] 🔍 Best Params: {'colsample_bytree': 0.8, 'learning_rate': 0.1, 'max_depth': 5, 'n_estimators': 150, 'subsample': 0.8}\n"
     ]
    }
   ],
   "source": [
    "model_name = 'XGBoost'\n",
    "start = time.time()\n",
    "model = model_factory(model_name, ufc_data_no_odds, model_params, scoring=\"f1_macro\")\n",
    "end = time.time()\n",
    "duration = end - start"
   ]
  },
  {
   "cell_type": "markdown",
   "id": "032e612d-5069-4a3d-8919-0aff268a89fb",
   "metadata": {},
   "source": [
    "### 🔍 XGBoost Metrics"
   ]
  },
  {
   "cell_type": "code",
   "execution_count": 85,
   "id": "cf622089-5d34-448d-a98a-4f9cdba6bd70",
   "metadata": {},
   "outputs": [
    {
     "data": {
      "text/html": [
       "<pre style=\"white-space:pre;overflow-x:auto;line-height:normal;font-family:Menlo,'DejaVu Sans Mono',consolas,'Courier New',monospace\"><span style=\"font-weight: bold\">{</span>\n",
       "    <span style=\"color: #008000; text-decoration-color: #008000\">'Accuracy'</span>: <span style=\"color: #008080; text-decoration-color: #008080; font-weight: bold\">0.602</span>,\n",
       "    <span style=\"color: #008000; text-decoration-color: #008000\">'Balanced Accuracy'</span>: <span style=\"color: #800080; text-decoration-color: #800080; font-weight: bold\">np.float64</span><span style=\"font-weight: bold\">(</span><span style=\"color: #008080; text-decoration-color: #008080; font-weight: bold\">0.5703</span><span style=\"font-weight: bold\">)</span>,\n",
       "    <span style=\"color: #008000; text-decoration-color: #008000\">'Precision Red'</span>: <span style=\"color: #008080; text-decoration-color: #008080; font-weight: bold\">0.6287</span>,\n",
       "    <span style=\"color: #008000; text-decoration-color: #008000\">'Recall Red'</span>: <span style=\"color: #008080; text-decoration-color: #008080; font-weight: bold\">0.7676</span>,\n",
       "    <span style=\"color: #008000; text-decoration-color: #008000\">'F1 Red'</span>: <span style=\"color: #008080; text-decoration-color: #008080; font-weight: bold\">0.6912</span>,\n",
       "    <span style=\"color: #008000; text-decoration-color: #008000\">'Precision Blue'</span>: <span style=\"color: #008080; text-decoration-color: #008080; font-weight: bold\">0.5371</span>,\n",
       "    <span style=\"color: #008000; text-decoration-color: #008000\">'Recall Blue'</span>: <span style=\"color: #008080; text-decoration-color: #008080; font-weight: bold\">0.373</span>,\n",
       "    <span style=\"color: #008000; text-decoration-color: #008000\">'F1 Blue'</span>: <span style=\"color: #008080; text-decoration-color: #008080; font-weight: bold\">0.4403</span>,\n",
       "    <span style=\"color: #008000; text-decoration-color: #008000\">'F1 Macro'</span>: <span style=\"color: #008080; text-decoration-color: #008080; font-weight: bold\">0.5657</span>,\n",
       "    <span style=\"color: #008000; text-decoration-color: #008000\">'ROC AUC'</span>: <span style=\"color: #800080; text-decoration-color: #800080; font-weight: bold\">np.float64</span><span style=\"font-weight: bold\">(</span><span style=\"color: #008080; text-decoration-color: #008080; font-weight: bold\">0.5994</span><span style=\"font-weight: bold\">)</span>,\n",
       "    <span style=\"color: #008000; text-decoration-color: #008000\">'Brier Score'</span>: <span style=\"color: #800080; text-decoration-color: #800080; font-weight: bold\">np.float64</span><span style=\"font-weight: bold\">(</span><span style=\"color: #008080; text-decoration-color: #008080; font-weight: bold\">0.2414</span><span style=\"font-weight: bold\">)</span>,\n",
       "    <span style=\"color: #008000; text-decoration-color: #008000\">'MCC'</span>: <span style=\"color: #800080; text-decoration-color: #800080; font-weight: bold\">np.float64</span><span style=\"font-weight: bold\">(</span><span style=\"color: #008080; text-decoration-color: #008080; font-weight: bold\">0.1527</span><span style=\"font-weight: bold\">)</span>,\n",
       "    <span style=\"color: #008000; text-decoration-color: #008000\">'Kappa'</span>: <span style=\"color: #800080; text-decoration-color: #800080; font-weight: bold\">np.float64</span><span style=\"font-weight: bold\">(</span><span style=\"color: #008080; text-decoration-color: #008080; font-weight: bold\">0.1468</span><span style=\"font-weight: bold\">)</span>\n",
       "<span style=\"font-weight: bold\">}</span>\n",
       "</pre>\n"
      ],
      "text/plain": [
       "\u001b[1m{\u001b[0m\n",
       "    \u001b[32m'Accuracy'\u001b[0m: \u001b[1;36m0.602\u001b[0m,\n",
       "    \u001b[32m'Balanced Accuracy'\u001b[0m: \u001b[1;35mnp.float64\u001b[0m\u001b[1m(\u001b[0m\u001b[1;36m0.5703\u001b[0m\u001b[1m)\u001b[0m,\n",
       "    \u001b[32m'Precision Red'\u001b[0m: \u001b[1;36m0.6287\u001b[0m,\n",
       "    \u001b[32m'Recall Red'\u001b[0m: \u001b[1;36m0.7676\u001b[0m,\n",
       "    \u001b[32m'F1 Red'\u001b[0m: \u001b[1;36m0.6912\u001b[0m,\n",
       "    \u001b[32m'Precision Blue'\u001b[0m: \u001b[1;36m0.5371\u001b[0m,\n",
       "    \u001b[32m'Recall Blue'\u001b[0m: \u001b[1;36m0.373\u001b[0m,\n",
       "    \u001b[32m'F1 Blue'\u001b[0m: \u001b[1;36m0.4403\u001b[0m,\n",
       "    \u001b[32m'F1 Macro'\u001b[0m: \u001b[1;36m0.5657\u001b[0m,\n",
       "    \u001b[32m'ROC AUC'\u001b[0m: \u001b[1;35mnp.float64\u001b[0m\u001b[1m(\u001b[0m\u001b[1;36m0.5994\u001b[0m\u001b[1m)\u001b[0m,\n",
       "    \u001b[32m'Brier Score'\u001b[0m: \u001b[1;35mnp.float64\u001b[0m\u001b[1m(\u001b[0m\u001b[1;36m0.2414\u001b[0m\u001b[1m)\u001b[0m,\n",
       "    \u001b[32m'MCC'\u001b[0m: \u001b[1;35mnp.float64\u001b[0m\u001b[1m(\u001b[0m\u001b[1;36m0.1527\u001b[0m\u001b[1m)\u001b[0m,\n",
       "    \u001b[32m'Kappa'\u001b[0m: \u001b[1;35mnp.float64\u001b[0m\u001b[1m(\u001b[0m\u001b[1;36m0.1468\u001b[0m\u001b[1m)\u001b[0m\n",
       "\u001b[1m}\u001b[0m\n"
      ]
     },
     "metadata": {},
     "output_type": "display_data"
    }
   ],
   "source": [
    "metrics = evaluate_metrics(model, ufc_data_no_odds)\n",
    "print(metrics)"
   ]
  },
  {
   "cell_type": "markdown",
   "id": "775c594f-d942-407c-8d7b-85bb6808555e",
   "metadata": {},
   "source": [
    "### 📝 Log Training Results"
   ]
  },
  {
   "cell_type": "code",
   "execution_count": 86,
   "id": "116565e4-af7a-4da2-a6d9-999f2cdb1721",
   "metadata": {},
   "outputs": [
    {
     "name": "stderr",
     "output_type": "stream",
     "text": [
      "INFO:src.helpers:✅ Training logged to ../data/results/training_log_v2.csv\n"
     ]
    }
   ],
   "source": [
    "log_training_result(f\"{model_name} (without odds)\", model.best_params_, metrics, duration)"
   ]
  },
  {
   "cell_type": "markdown",
   "id": "87886e0a-d595-4746-aa0c-4d9861f4efcb",
   "metadata": {},
   "source": [
    "### 💾 Save Model "
   ]
  },
  {
   "cell_type": "code",
   "execution_count": 87,
   "id": "b18c50a9-f94f-4b3f-84da-1f7304e190a3",
   "metadata": {},
   "outputs": [
    {
     "name": "stderr",
     "output_type": "stream",
     "text": [
      "INFO:src.io_model:✅ Model 'XGBoost' saved to: /home/mlioi/ufc-predictor/models/xgb_best_no_odds.pkl\n"
     ]
    }
   ],
   "source": [
    "save_model(model, name=f\"{file_model_name[model_name]}_no_odds\")"
   ]
  },
  {
   "cell_type": "markdown",
   "id": "3dc3c810-8201-4345-8ca1-7acae4b0dfb1",
   "metadata": {},
   "source": [
    "<div style=\"text-align: center;\">\n",
    "     <img src=\"../img/ufc_logo.png\" width=\"800\" /> \n",
    "</div>"
   ]
  },
  {
   "cell_type": "code",
   "execution_count": null,
   "id": "1ced723f-e44e-443f-8995-4f90f35ab53e",
   "metadata": {},
   "outputs": [],
   "source": []
  }
 ],
 "metadata": {
  "kernelspec": {
   "display_name": "Python 3 (ipykernel)",
   "language": "python",
   "name": "python3"
  },
  "language_info": {
   "codemirror_mode": {
    "name": "ipython",
    "version": 3
   },
   "file_extension": ".py",
   "mimetype": "text/x-python",
   "name": "python",
   "nbconvert_exporter": "python",
   "pygments_lexer": "ipython3",
   "version": "3.13.5"
  }
 },
 "nbformat": 4,
 "nbformat_minor": 5
}
